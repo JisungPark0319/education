{
  "nbformat": 4,
  "nbformat_minor": 0,
  "metadata": {
    "colab": {
      "name": "python62_timeseries.ipynb",
      "provenance": [],
      "collapsed_sections": [],
      "authorship_tag": "ABX9TyPh799mB9NB261mXHP5kP0w",
      "include_colab_link": true
    },
    "kernelspec": {
      "name": "python3",
      "display_name": "Python 3"
    }
  },
  "cells": [
    {
      "cell_type": "markdown",
      "metadata": {
        "id": "view-in-github",
        "colab_type": "text"
      },
      "source": [
        "<a href=\"https://colab.research.google.com/github/JakeOh/202007_itw_bd18/blob/master/lab_python/python62_timeseries.ipynb\" target=\"_parent\"><img src=\"https://colab.research.google.com/assets/colab-badge.svg\" alt=\"Open In Colab\"/></a>"
      ]
    },
    {
      "cell_type": "markdown",
      "metadata": {
        "id": "A-frLJ4OAYCk"
      },
      "source": [
        "* https://github.com/JakeOh/202007_itw_bd18/raw/master/lab_python/banklist.csv 파일을 읽어서 데이터 프레임을 생성.\n",
        "* datetime 타입으로 변경할 수 있는 컬럼들 datetime 타입으로 변환.\n",
        "* 연도별 분기별 파산(Closing)한 은행 숫자, 시각화"
      ]
    },
    {
      "cell_type": "code",
      "metadata": {
        "id": "my15RSbHAI6O"
      },
      "source": [
        ""
      ],
      "execution_count": null,
      "outputs": []
    }
  ]
}