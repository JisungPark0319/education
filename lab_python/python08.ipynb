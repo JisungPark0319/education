{
  "nbformat": 4,
  "nbformat_minor": 0,
  "metadata": {
    "colab": {
      "name": "python08.ipynb",
      "provenance": [],
      "collapsed_sections": [],
      "authorship_tag": "ABX9TyMQ3Im3nBCsYLKm28nJNb2X",
      "include_colab_link": true
    },
    "kernelspec": {
      "name": "python3",
      "display_name": "Python 3"
    }
  },
  "cells": [
    {
      "cell_type": "markdown",
      "metadata": {
        "id": "view-in-github",
        "colab_type": "text"
      },
      "source": [
        "<a href=\"https://colab.research.google.com/github/JakeOh/202007_itw_bd18/blob/master/lab_python/python08.ipynb\" target=\"_parent\"><img src=\"https://colab.research.google.com/assets/colab-badge.svg\" alt=\"Open In Colab\"/></a>"
      ]
    },
    {
      "cell_type": "markdown",
      "metadata": {
        "id": "8Ji8Pz6zQ9UY",
        "colab_type": "text"
      },
      "source": [
        "if 구문의 조건식(conditional expression):\n",
        "\n",
        "*   비교 연산자(==, !=, >, >=, <, <=, is, is not, in)의 결과\n",
        "*   숫자 타입인 경우, 0은 False, 0 이외의 숫자들은 True\n",
        "*   반복가능한 타입(iterable: list, tuple, dict, set)인 경우, 원소가 있으면 True, 원소가 없으면 False\n",
        "*   문자열인 경우, 빈(empty) 문자열인 경우는 False, 문자의 개수가 1개 이상이면 True\n",
        "\n"
      ]
    },
    {
      "cell_type": "code",
      "metadata": {
        "id": "j-SWZlI3Qx5j",
        "colab_type": "code",
        "colab": {
          "base_uri": "https://localhost:8080/",
          "height": 35
        },
        "outputId": "332206cc-1df7-49ed-ac42-bf10dd9f6a3b"
      },
      "source": [
        "number = 7\n",
        "\n",
        "if number % 2 == 1:\n",
        "    print('홀수')\n",
        "else:\n",
        "    print('짝수')"
      ],
      "execution_count": 4,
      "outputs": [
        {
          "output_type": "stream",
          "text": [
            "홀수\n"
          ],
          "name": "stdout"
        }
      ]
    },
    {
      "cell_type": "code",
      "metadata": {
        "id": "OerwRbuiTZYe",
        "colab_type": "code",
        "colab": {}
      },
      "source": [
        "if number % 2:  # 7 % 2 = 1 = True  # number를 2로 나눈 나머지가 있다면\n",
        "    print('홀수')\n",
        "else:  # number를 2로 나눈 나머지가 없다면\n",
        "    print('짝수')"
      ],
      "execution_count": null,
      "outputs": []
    },
    {
      "cell_type": "code",
      "metadata": {
        "id": "_2lopyl0UL_e",
        "colab_type": "code",
        "colab": {
          "base_uri": "https://localhost:8080/",
          "height": 35
        },
        "outputId": "a0bb8c1f-e11c-4d04-e35a-0c8a87c28628"
      },
      "source": [
        "# numbers = [1, 2, 3, 4, 5]\n",
        "numbers = []  # 빈(empty) 리스트\n",
        "\n",
        "if numbers:  # 리스트 numbers가 원소를 가지고 있으면\n",
        "    print(f'# of numbers: {len(numbers)}')\n",
        "else:  # 리스트 numbers가 원소를 가지고 있지 않으면\n",
        "    print('empty list')"
      ],
      "execution_count": 8,
      "outputs": [
        {
          "output_type": "stream",
          "text": [
            "empty list\n"
          ],
          "name": "stdout"
        }
      ]
    },
    {
      "cell_type": "code",
      "metadata": {
        "id": "9m1T8xzxVU9V",
        "colab_type": "code",
        "colab": {
          "base_uri": "https://localhost:8080/",
          "height": 35
        },
        "outputId": "6fb7ff00-8f36-4ba7-9a8f-8adac10bc29a"
      },
      "source": [
        "# msg = '안녕하세요'\n",
        "msg = ''  # 빈(empty) 문자열\n",
        "\n",
        "if msg:  # 문자열 msg가 문자를 가지고 있으면\n",
        "    print(f'length: {len(msg)}')\n",
        "else:  # 문자열 msg가 문자를 가지고 있지 않으면\n",
        "    print('empty string')"
      ],
      "execution_count": 12,
      "outputs": [
        {
          "output_type": "stream",
          "text": [
            "empty string\n"
          ],
          "name": "stdout"
        }
      ]
    }
  ]
}