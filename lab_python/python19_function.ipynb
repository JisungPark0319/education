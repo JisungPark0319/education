{
  "nbformat": 4,
  "nbformat_minor": 0,
  "metadata": {
    "colab": {
      "name": "python19_function.ipynb",
      "provenance": [],
      "collapsed_sections": [],
      "authorship_tag": "ABX9TyMpRh1TDwDKIsRtWsfqSyaV",
      "include_colab_link": true
    },
    "kernelspec": {
      "name": "python3",
      "display_name": "Python 3"
    }
  },
  "cells": [
    {
      "cell_type": "markdown",
      "metadata": {
        "id": "view-in-github",
        "colab_type": "text"
      },
      "source": [
        "<a href=\"https://colab.research.google.com/github/JakeOh/202007_itw_bd18/blob/master/lab_python/python19_function.ipynb\" target=\"_parent\"><img src=\"https://colab.research.google.com/assets/colab-badge.svg\" alt=\"Open In Colab\"/></a>"
      ]
    },
    {
      "cell_type": "markdown",
      "metadata": {
        "id": "JflyAmnijlLe",
        "colab_type": "text"
      },
      "source": [
        "\n",
        "\n",
        "*   함수(function): *기능을 수행*해서 값을 반환(return)하는 코드 블록\n",
        "*   인수(argument): 함수를 호출(call, invoke)할 때 함수에게 전달하는 값(들)\n",
        "*   매개변수(parameter): argument를 저장하기 위해서, 함수를 정의할 때 선언하는 지역 변수\n",
        "\n"
      ]
    },
    {
      "cell_type": "code",
      "metadata": {
        "id": "KN0sYXdYjNtk",
        "colab_type": "code",
        "colab": {
          "base_uri": "https://localhost:8080/",
          "height": 38
        },
        "outputId": "885fa0e1-2b24-4154-b0ad-2c4a5ba58a2d"
      },
      "source": [
        "result = sum([1, 2, 3, 4, 5])\n",
        "print(result)"
      ],
      "execution_count": 1,
      "outputs": [
        {
          "output_type": "stream",
          "text": [
            "15\n"
          ],
          "name": "stdout"
        }
      ]
    },
    {
      "cell_type": "code",
      "metadata": {
        "id": "5tUhvGl9lh2N",
        "colab_type": "code",
        "colab": {
          "base_uri": "https://localhost:8080/",
          "height": 38
        },
        "outputId": "9d0961ba-906e-4e26-baaf-fecfd39752d0"
      },
      "source": [
        "result = pow(2, 3)  # 2 ** 3\n",
        "print(result)"
      ],
      "execution_count": 2,
      "outputs": [
        {
          "output_type": "stream",
          "text": [
            "8\n"
          ],
          "name": "stdout"
        }
      ]
    },
    {
      "cell_type": "code",
      "metadata": {
        "id": "-ZQWWlXlmLTE",
        "colab_type": "code",
        "colab": {
          "base_uri": "https://localhost:8080/",
          "height": 58
        },
        "outputId": "769c0792-e391-42a4-d3bc-d7b21001860b"
      },
      "source": [
        "result = print('hello')\n",
        "print(result)"
      ],
      "execution_count": 3,
      "outputs": [
        {
          "output_type": "stream",
          "text": [
            "hello\n",
            "None\n"
          ],
          "name": "stdout"
        }
      ]
    },
    {
      "cell_type": "markdown",
      "metadata": {
        "id": "H40UhaFjm77t",
        "colab_type": "text"
      },
      "source": [
        "**함수 정의 방법**\n",
        "\n",
        "```\n",
        "def function_name(param1, param2, ...):\n",
        "    \"\"\"\n",
        "    문서화 주석(documentation string, docstring): 함수에 대한 설명\n",
        "    \"\"\"\n",
        "    함수 기능 작성\n",
        "    [return 값]\n",
        "```\n"
      ]
    },
    {
      "cell_type": "code",
      "metadata": {
        "id": "e9U1EzchnXMS",
        "colab_type": "code",
        "colab": {}
      },
      "source": [
        "# 함수 정의(선언)\n",
        "def subtract_two(x, y):\n",
        "    \"\"\"\n",
        "    숫자 x와 y를 전달 받아서, x - y의 결과를 리턴하는 함수.\n",
        "    \"\"\"\n",
        "    return x - y"
      ],
      "execution_count": 2,
      "outputs": []
    },
    {
      "cell_type": "code",
      "metadata": {
        "id": "qtYYnLnYn8jd",
        "colab_type": "code",
        "colab": {
          "base_uri": "https://localhost:8080/",
          "height": 38
        },
        "outputId": "4e211e77-40e2-4030-dada-e0bb8c3e475d"
      },
      "source": [
        "result = subtract_two(1, 2)  # 함수 호출\n",
        "print(result)"
      ],
      "execution_count": 8,
      "outputs": [
        {
          "output_type": "stream",
          "text": [
            "-1\n"
          ],
          "name": "stdout"
        }
      ]
    },
    {
      "cell_type": "code",
      "metadata": {
        "id": "mfwISVtFNe3J",
        "colab_type": "code",
        "colab": {}
      },
      "source": [
        "# Python은 2개 이상의 값을 리턴하는 함수를 정의할 수 있음.\n",
        "# 2개 이상의 값을 리턴하는 함수는 tuple 타입 객체를 리턴하는 함수로 생각하면 됨.\n",
        "\n",
        "def plus_and_multiply(x, y):\n",
        "    \"\"\"2개의 숫자 x와 y를 전달받아서, x+y와 x*y를 리턴하는 함수\"\"\"\n",
        "    return x + y, x * y"
      ],
      "execution_count": 4,
      "outputs": []
    },
    {
      "cell_type": "code",
      "metadata": {
        "id": "Knb3xrajO7HH",
        "colab_type": "code",
        "colab": {
          "base_uri": "https://localhost:8080/",
          "height": 58
        },
        "outputId": "1de0cb96-d3d4-4d64-ba6d-422d0ea390d6"
      },
      "source": [
        "result = plus_and_multiply(3, 5)\n",
        "print(result)  #> (8, 15): tuple\n",
        "print(result[0], result[1])"
      ],
      "execution_count": 6,
      "outputs": [
        {
          "output_type": "stream",
          "text": [
            "(8, 15)\n",
            "8 15\n"
          ],
          "name": "stdout"
        }
      ]
    },
    {
      "cell_type": "code",
      "metadata": {
        "id": "LJLa5bBFP3yw",
        "colab_type": "code",
        "colab": {
          "base_uri": "https://localhost:8080/",
          "height": 38
        },
        "outputId": "d5417b6d-c411-4867-f2f2-59dc539229a4"
      },
      "source": [
        "plus, multiply = plus_and_multiply(3, 5)\n",
        "print(plus, multiply)"
      ],
      "execution_count": 7,
      "outputs": [
        {
          "output_type": "stream",
          "text": [
            "8 15\n"
          ],
          "name": "stdout"
        }
      ]
    },
    {
      "cell_type": "code",
      "metadata": {
        "id": "0bUav2RdQqGr",
        "colab_type": "code",
        "colab": {}
      },
      "source": [
        "def repeat_msg(msg, repeat):\n",
        "    \"\"\"문자열 msg와 숫자 repeat을 전달받아서, msg를 repeat만큼 반복한 문자열을 화면에 출력.\n",
        "    리턴하는 값은 없음.\n",
        "    \n",
        "    >>> repeate_msg('hello', 3)\n",
        "    ... hellohellohello\n",
        "    \"\"\"\n",
        "    print(msg * repeat)\n",
        "    # return None  # 반환(return)하는 값이 없는 경우 return None 문장은 생략 가능."
      ],
      "execution_count": 14,
      "outputs": []
    },
    {
      "cell_type": "code",
      "metadata": {
        "id": "44YJe2j4R1sx",
        "colab_type": "code",
        "colab": {
          "base_uri": "https://localhost:8080/",
          "height": 38
        },
        "outputId": "302d76e0-09b4-4334-87b1-62c5ec0f9ee5"
      },
      "source": [
        "repeat_msg('hello', 5)"
      ],
      "execution_count": 15,
      "outputs": [
        {
          "output_type": "stream",
          "text": [
            "hellohellohellohellohello\n"
          ],
          "name": "stdout"
        }
      ]
    },
    {
      "cell_type": "markdown",
      "metadata": {
        "id": "vfnhT2ozXjsk",
        "colab_type": "text"
      },
      "source": [
        "\n",
        "**프로그래밍 언어**\n",
        "*   스크립트 언어: Python, JavaScript, VisualBasic, R, ...\n",
        "*   스크립트 언어는 실행되기 전까지는 변수의 타입이 지정되지 않음! 실행되는 시점에 변수의 타입이 결정됨.\n",
        "*   컴파일 언어: C/C++, Java, C#, Swift, Kotlin, ...\n",
        "*   컴파일 언어는 컴파일 시점에 변수의 타입이 지정됨. 코드가 실행되기 전에 변수 타입이 결정됨!\n",
        "\n"
      ]
    },
    {
      "cell_type": "code",
      "metadata": {
        "id": "V2U_RB9SXHOv",
        "colab_type": "code",
        "colab": {
          "base_uri": "https://localhost:8080/",
          "height": 58
        },
        "outputId": "6cff0e15-9f48-4302-c4f8-095f3425b18d"
      },
      "source": [
        "msg = 'hello'  # str(문자열) 타입\n",
        "print(type(msg))  #> str\n",
        "\n",
        "msg = 1  # int(숫자) 타입\n",
        "print(type(msg))  #> int"
      ],
      "execution_count": 18,
      "outputs": [
        {
          "output_type": "stream",
          "text": [
            "<class 'str'>\n",
            "<class 'int'>\n"
          ],
          "name": "stdout"
        }
      ]
    },
    {
      "cell_type": "code",
      "metadata": {
        "id": "wHXu6GJnaQ0x",
        "colab_type": "code",
        "colab": {}
      },
      "source": [
        "# Python은 함수를 정의할 때, 파라미터의 타입과 리턴 값의 타입에 대한 힌트를 작성할 수는 있음.\n",
        "# 함수를 호출할 때, 파라미터 타입과 일치하는 값(argument)를 전달할 필요는 없음!\n",
        "\n",
        "def add_two(x: int, y: int) -> int:\n",
        "    \"\"\"2개의 정수 x와 y를 전달받아서, x+y를 리턴하는 함수.\n",
        "    \n",
        "    >>> add_two(10, 20)\n",
        "    30\n",
        "    \"\"\"\n",
        "    return x + y"
      ],
      "execution_count": 19,
      "outputs": []
    },
    {
      "cell_type": "code",
      "metadata": {
        "id": "NIJDjna5bcm_",
        "colab_type": "code",
        "colab": {
          "base_uri": "https://localhost:8080/",
          "height": 38
        },
        "outputId": "b5416884-2a4d-40ed-ce83-cc31309fa52f"
      },
      "source": [
        "result = add_two(10, 20)\n",
        "print(result)"
      ],
      "execution_count": 20,
      "outputs": [
        {
          "output_type": "stream",
          "text": [
            "30\n"
          ],
          "name": "stdout"
        }
      ]
    },
    {
      "cell_type": "code",
      "metadata": {
        "id": "W5ftiPNub9YN",
        "colab_type": "code",
        "colab": {
          "base_uri": "https://localhost:8080/",
          "height": 38
        },
        "outputId": "d6d9c7aa-511f-4f36-fc4c-83f450b96135"
      },
      "source": [
        "result = add_two('hello', '안녕')\n",
        "print(result)"
      ],
      "execution_count": 21,
      "outputs": [
        {
          "output_type": "stream",
          "text": [
            "hello안녕\n"
          ],
          "name": "stdout"
        }
      ]
    },
    {
      "cell_type": "code",
      "metadata": {
        "id": "nmjausGFcVYE",
        "colab_type": "code",
        "colab": {}
      },
      "source": [
        "add_two('hello', 3)  #> TypeError 발생"
      ],
      "execution_count": null,
      "outputs": []
    },
    {
      "cell_type": "code",
      "metadata": {
        "id": "EmgVpaixeiCr",
        "colab_type": "code",
        "colab": {}
      },
      "source": [
        "add_two(3, 'hello')  #> TypeError 발생"
      ],
      "execution_count": null,
      "outputs": []
    },
    {
      "cell_type": "code",
      "metadata": {
        "id": "jpbIZ1PYfDAV",
        "colab_type": "code",
        "colab": {}
      },
      "source": [
        "# default argument를 갖는 함수\n",
        "# default argument: 함수를 정의(선언)할 때, parameter의 기본값을 설정.\n",
        "# 함수를 호출할 때, parameter에 값이 전달되지 않으면 사용됨.\n",
        "\n",
        "# def repeat_message(msg, repeat=1):\n",
        "def repeat_message(msg: str, repeat: int=1) -> None:\n",
        "    \"\"\"msg를 repeate 횟수만큼 반복해서 출력.\"\"\"\n",
        "    print(msg * repeat)"
      ],
      "execution_count": 25,
      "outputs": []
    },
    {
      "cell_type": "code",
      "metadata": {
        "id": "QrLM4gmNf6RL",
        "colab_type": "code",
        "colab": {
          "base_uri": "https://localhost:8080/",
          "height": 58
        },
        "outputId": "4bc0cf7a-6bd9-4cce-d9a5-19ae45079568"
      },
      "source": [
        "repeat_message('안녕')\n",
        "# 함수를 호출할 때, repeat 값을 전달하지 않음.\n",
        "# -> default argument인 1이 사용됨.\n",
        "\n",
        "repeat_message('안녕', 5)"
      ],
      "execution_count": 27,
      "outputs": [
        {
          "output_type": "stream",
          "text": [
            "안녕\n",
            "안녕안녕안녕안녕안녕\n"
          ],
          "name": "stdout"
        }
      ]
    },
    {
      "cell_type": "code",
      "metadata": {
        "id": "6pawWio7kswp",
        "colab_type": "code",
        "colab": {
          "base_uri": "https://localhost:8080/",
          "height": 154
        },
        "outputId": "cd3955a7-e6d2-47ba-e2b2-ffcdadecb136"
      },
      "source": [
        "# (주의): 함수를 정의할 때, default argument를 갖는 파라미터들은 반드시\n",
        "# default 값이 없는 파라미터들 뒤에 선언해야 함!\n",
        "\n",
        "def test(x=1, y):\n",
        "    return x + y"
      ],
      "execution_count": 29,
      "outputs": [
        {
          "output_type": "error",
          "ename": "SyntaxError",
          "evalue": "ignored",
          "traceback": [
            "\u001b[0;36m  File \u001b[0;32m\"<ipython-input-29-9b0ff107fcd5>\"\u001b[0;36m, line \u001b[0;32m4\u001b[0m\n\u001b[0;31m    def test(x=1, y):\u001b[0m\n\u001b[0m            ^\u001b[0m\n\u001b[0;31mSyntaxError\u001b[0m\u001b[0;31m:\u001b[0m non-default argument follows default argument\n"
          ]
        }
      ]
    },
    {
      "cell_type": "markdown",
      "metadata": {
        "id": "x_n0eWI5lntc",
        "colab_type": "text"
      },
      "source": [
        "함수를 호출할 때 argument를 전달하는 방법:\n",
        "\n",
        "*   positional argument: 함수에 정의(선언)된 parameter 순서대로 argument를 전달하는 방식.\n",
        "*   keyword argument: param=value와 같은 형식으로 argument를 전달하는 방식.\n",
        "*   keyword argument 방식으로 값(들)을 전달할 때는 함수에 정의(선언)된 parameter 순서를 지키지 않아도 괜찮음.\n",
        "\n"
      ]
    },
    {
      "cell_type": "code",
      "metadata": {
        "id": "eVTiRnQxmona",
        "colab_type": "code",
        "colab": {}
      },
      "source": [
        "def minus(x: float, y:float) -> float:\n",
        "    return x - y "
      ],
      "execution_count": 33,
      "outputs": []
    },
    {
      "cell_type": "code",
      "metadata": {
        "id": "9FIGu_1om-64",
        "colab_type": "code",
        "colab": {
          "base_uri": "https://localhost:8080/",
          "height": 38
        },
        "outputId": "c5eef7f3-85ea-44f0-f825-4a89388d0543"
      },
      "source": [
        "# positional argument 방식의 함수 호출\n",
        "minus(1, 2)"
      ],
      "execution_count": 45,
      "outputs": [
        {
          "output_type": "execute_result",
          "data": {
            "text/plain": [
              "-1"
            ]
          },
          "metadata": {
            "tags": []
          },
          "execution_count": 45
        }
      ]
    },
    {
      "cell_type": "code",
      "metadata": {
        "id": "2g_YiksMnaNG",
        "colab_type": "code",
        "colab": {
          "base_uri": "https://localhost:8080/",
          "height": 38
        },
        "outputId": "f89c2a55-5392-4522-ad10-7a69693b0b26"
      },
      "source": [
        "# keyword argument 방식의 함수 호출\n",
        "minus(x=1, y=2)"
      ],
      "execution_count": 38,
      "outputs": [
        {
          "output_type": "execute_result",
          "data": {
            "text/plain": [
              "-1"
            ]
          },
          "metadata": {
            "tags": []
          },
          "execution_count": 38
        }
      ]
    },
    {
      "cell_type": "code",
      "metadata": {
        "id": "cVZzPuIzoKMc",
        "colab_type": "code",
        "colab": {
          "base_uri": "https://localhost:8080/",
          "height": 38
        },
        "outputId": "2edcc11d-a59d-45da-a917-afdb88450017"
      },
      "source": [
        "minus(y=1, x=2)"
      ],
      "execution_count": 39,
      "outputs": [
        {
          "output_type": "execute_result",
          "data": {
            "text/plain": [
              "1"
            ]
          },
          "metadata": {
            "tags": []
          },
          "execution_count": 39
        }
      ]
    }
  ]
}