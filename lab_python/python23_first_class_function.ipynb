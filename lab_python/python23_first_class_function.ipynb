{
  "nbformat": 4,
  "nbformat_minor": 0,
  "metadata": {
    "colab": {
      "name": "python23_first_class_function.ipynb",
      "provenance": [],
      "collapsed_sections": [],
      "authorship_tag": "ABX9TyMet4bhcsACiw90zXvyA+rr",
      "include_colab_link": true
    },
    "kernelspec": {
      "name": "python3",
      "display_name": "Python 3"
    }
  },
  "cells": [
    {
      "cell_type": "markdown",
      "metadata": {
        "id": "view-in-github",
        "colab_type": "text"
      },
      "source": [
        "<a href=\"https://colab.research.google.com/github/JakeOh/202007_itw_bd18/blob/master/lab_python/python23_first_class_function.ipynb\" target=\"_parent\"><img src=\"https://colab.research.google.com/assets/colab-badge.svg\" alt=\"Open In Colab\"/></a>"
      ]
    },
    {
      "cell_type": "markdown",
      "metadata": {
        "id": "jaQ5eWgXiIFP",
        "colab_type": "text"
      },
      "source": [
        "**1급 객체(first-class object) 함수**\n",
        "\n",
        "*   함수는 변수에 저장할 수 있음.\n",
        "*   함수 argument로 다른 함수를 전달할 수 있음.\n",
        "*   함수가 다른 함수를 반환(return)할 수 있음.\n",
        "*   함수 내부에서 다른 함수를 정의할 수 있음."
      ]
    },
    {
      "cell_type": "code",
      "metadata": {
        "id": "Kh5WnySjiA80",
        "colab_type": "code",
        "colab": {}
      },
      "source": [
        "# 함수 정의(선언)\n",
        "def twice(x: float) -> float:\n",
        "    return 2 * x"
      ],
      "execution_count": null,
      "outputs": []
    },
    {
      "cell_type": "code",
      "metadata": {
        "id": "kkhnOPZ_jVpS",
        "colab_type": "code",
        "colab": {
          "base_uri": "https://localhost:8080/",
          "height": 38
        },
        "outputId": "d39a5b74-d966-4ffb-b483-f0551bcc81e9"
      },
      "source": [
        "# 함수 호출(사용)\n",
        "twice(4)"
      ],
      "execution_count": null,
      "outputs": [
        {
          "output_type": "execute_result",
          "data": {
            "text/plain": [
              "8"
            ]
          },
          "metadata": {
            "tags": []
          },
          "execution_count": 2
        }
      ]
    },
    {
      "cell_type": "code",
      "metadata": {
        "id": "tafs1ZIkjo0T",
        "colab_type": "code",
        "colab": {
          "base_uri": "https://localhost:8080/",
          "height": 38
        },
        "outputId": "ad31d09a-6dcf-43b5-b15d-06755cf4dbb9"
      },
      "source": [
        "type(twice)"
      ],
      "execution_count": null,
      "outputs": [
        {
          "output_type": "execute_result",
          "data": {
            "text/plain": [
              "function"
            ]
          },
          "metadata": {
            "tags": []
          },
          "execution_count": 3
        }
      ]
    },
    {
      "cell_type": "code",
      "metadata": {
        "id": "HVOVrg01kEF7",
        "colab_type": "code",
        "colab": {
          "base_uri": "https://localhost:8080/",
          "height": 38
        },
        "outputId": "a7253fb4-212f-48a0-9506-0b52bb5e428c"
      },
      "source": [
        "x = 1  # int 타입 객체 1을 변수 x에 저장(할당).\n",
        "y = x  # x를 y에 저장(할당).\n",
        "\n",
        "double = twice  # 함수 객체(function object)를 변수에 저장(할당).\n",
        "type(double)"
      ],
      "execution_count": null,
      "outputs": [
        {
          "output_type": "execute_result",
          "data": {
            "text/plain": [
              "function"
            ]
          },
          "metadata": {
            "tags": []
          },
          "execution_count": 7
        }
      ]
    },
    {
      "cell_type": "code",
      "metadata": {
        "id": "gms5EwbPk1VG",
        "colab_type": "code",
        "colab": {
          "base_uri": "https://localhost:8080/",
          "height": 38
        },
        "outputId": "f101f8d7-fd58-48d3-9572-19609253ea70"
      },
      "source": [
        "double(4)"
      ],
      "execution_count": null,
      "outputs": [
        {
          "output_type": "execute_result",
          "data": {
            "text/plain": [
              "8"
            ]
          },
          "metadata": {
            "tags": []
          },
          "execution_count": 8
        }
      ]
    },
    {
      "cell_type": "code",
      "metadata": {
        "id": "KxodjmeOlI4u",
        "colab_type": "code",
        "colab": {}
      },
      "source": [
        "def plus(a: float, b: float) -> float:\n",
        "    return a + b"
      ],
      "execution_count": null,
      "outputs": []
    },
    {
      "cell_type": "code",
      "metadata": {
        "id": "3n9xkCkZlPXL",
        "colab_type": "code",
        "colab": {}
      },
      "source": [
        "def minus(x: float, y: float) -> float:\n",
        "    return x - y"
      ],
      "execution_count": null,
      "outputs": []
    },
    {
      "cell_type": "code",
      "metadata": {
        "id": "6LelVaZslZIr",
        "colab_type": "code",
        "colab": {}
      },
      "source": [
        "from typing import Callable\n",
        "\n",
        "# 함수 타입 argument의 타입 힌트:\n",
        "# param: Callable[[arg_type1, arg_type2, ...], return_type]\n",
        "\n",
        "def calculator(x: float, y: float, operator: Callable[[float, float], float]) -> float:\n",
        "    return operator(x, y)"
      ],
      "execution_count": null,
      "outputs": []
    },
    {
      "cell_type": "code",
      "metadata": {
        "id": "UkfyqgoTluUL",
        "colab_type": "code",
        "colab": {
          "base_uri": "https://localhost:8080/",
          "height": 38
        },
        "outputId": "f2d57721-b270-4229-bc5c-64dcaf2f07a2"
      },
      "source": [
        "calculator(1, 2, plus)"
      ],
      "execution_count": null,
      "outputs": [
        {
          "output_type": "execute_result",
          "data": {
            "text/plain": [
              "3"
            ]
          },
          "metadata": {
            "tags": []
          },
          "execution_count": 32
        }
      ]
    },
    {
      "cell_type": "code",
      "metadata": {
        "id": "zuAyeDwWnM8l",
        "colab_type": "code",
        "colab": {
          "base_uri": "https://localhost:8080/",
          "height": 38
        },
        "outputId": "84848896-568b-42cf-ab7f-3863efe22b03"
      },
      "source": [
        "calculator(1, 2, minus)"
      ],
      "execution_count": null,
      "outputs": [
        {
          "output_type": "execute_result",
          "data": {
            "text/plain": [
              "-1"
            ]
          },
          "metadata": {
            "tags": []
          },
          "execution_count": 30
        }
      ]
    },
    {
      "cell_type": "markdown",
      "metadata": {
        "id": "Qnoa6FfPvXRi",
        "colab_type": "text"
      },
      "source": [
        "**람다 표현식(lambda expression)**\n",
        "\n",
        "*   함수의 이름 없이, 함수의 parameter 선언과 리턴 값만으로 함수를 표현하는 방법.\n",
        "*   람다 표현식은 이름이 없는 함수(anonymous function)임.\n",
        "*   lambda [param1, param2, ...]: expression"
      ]
    },
    {
      "cell_type": "code",
      "metadata": {
        "id": "pYp-1C4ov80U",
        "colab_type": "code",
        "colab": {}
      },
      "source": [
        "plus = lambda x, y: x + y"
      ],
      "execution_count": null,
      "outputs": []
    },
    {
      "cell_type": "code",
      "metadata": {
        "id": "bLdFrZCNw0TF",
        "colab_type": "code",
        "colab": {
          "base_uri": "https://localhost:8080/",
          "height": 38
        },
        "outputId": "bbb2e023-820f-4299-9b97-b6d532c175a1"
      },
      "source": [
        "plus(10, 20)"
      ],
      "execution_count": null,
      "outputs": [
        {
          "output_type": "execute_result",
          "data": {
            "text/plain": [
              "30"
            ]
          },
          "metadata": {
            "tags": []
          },
          "execution_count": 34
        }
      ]
    },
    {
      "cell_type": "code",
      "metadata": {
        "id": "hRSsjUdMw-2I",
        "colab_type": "code",
        "colab": {}
      },
      "source": [
        "minus = lambda x, y: x - y"
      ],
      "execution_count": null,
      "outputs": []
    },
    {
      "cell_type": "code",
      "metadata": {
        "id": "01L3MsQQxFZX",
        "colab_type": "code",
        "colab": {
          "base_uri": "https://localhost:8080/",
          "height": 38
        },
        "outputId": "bf805bdc-eadc-4903-ca20-78bcf4b39263"
      },
      "source": [
        "minus(10, 20)"
      ],
      "execution_count": null,
      "outputs": [
        {
          "output_type": "execute_result",
          "data": {
            "text/plain": [
              "-10"
            ]
          },
          "metadata": {
            "tags": []
          },
          "execution_count": 36
        }
      ]
    },
    {
      "cell_type": "code",
      "metadata": {
        "id": "tsxC16qqxrSw",
        "colab_type": "code",
        "colab": {
          "base_uri": "https://localhost:8080/",
          "height": 38
        },
        "outputId": "abec97f2-5dcf-416a-c05f-abf67c573605"
      },
      "source": [
        "calculator(10, 20, lambda x, y: x * y)"
      ],
      "execution_count": null,
      "outputs": [
        {
          "output_type": "execute_result",
          "data": {
            "text/plain": [
              "200"
            ]
          },
          "metadata": {
            "tags": []
          },
          "execution_count": 37
        }
      ]
    },
    {
      "cell_type": "code",
      "metadata": {
        "id": "ktSKeWTUzyJz",
        "colab_type": "code",
        "colab": {
          "base_uri": "https://localhost:8080/",
          "height": 38
        },
        "outputId": "f52e3550-2382-45b9-dcee-144b302b44d4"
      },
      "source": [
        "# calculator 함수와 lambda 표현식을 사용해서 나누기 연산을 수행\n",
        "calculator(10, 20, lambda x, y: x / y)"
      ],
      "execution_count": null,
      "outputs": [
        {
          "output_type": "execute_result",
          "data": {
            "text/plain": [
              "0.5"
            ]
          },
          "metadata": {
            "tags": []
          },
          "execution_count": 38
        }
      ]
    },
    {
      "cell_type": "code",
      "metadata": {
        "id": "j7T5HCxU0S7S",
        "colab_type": "code",
        "colab": {
          "base_uri": "https://localhost:8080/",
          "height": 38
        },
        "outputId": "95cbb3d5-d635-4796-b956-0ff468602bb2"
      },
      "source": [
        "# calculator 함수와 람다 표현식을 사용해서 x가 y보다 큰 지를 확인\n",
        "calculator(20, 10, lambda x, y: x > y)"
      ],
      "execution_count": null,
      "outputs": [
        {
          "output_type": "execute_result",
          "data": {
            "text/plain": [
              "True"
            ]
          },
          "metadata": {
            "tags": []
          },
          "execution_count": 40
        }
      ]
    },
    {
      "cell_type": "code",
      "metadata": {
        "id": "2j7ARKloJ9u-",
        "colab_type": "code",
        "colab": {
          "base_uri": "https://localhost:8080/",
          "height": 38
        },
        "outputId": "f1d7ca92-aa34-4ec1-d44b-2d14de698253"
      },
      "source": [
        "numbers = [1, -2, 3, -4, 5, -6, -7, 8]\n",
        "\n",
        "# numbers의 원소들 중에서 양수들로만 이루어진 리스트 positives\n",
        "\"\"\"\n",
        "positives = []  # 양수들을 저장할 empty list\n",
        "for x in numbers:  # numbers의 원소들에 대해서\n",
        "    if x > 0:  # 원소가 양수이면\n",
        "        positives.append(x)  # 리스트에 추가.\n",
        "\"\"\"\n",
        "\n",
        "positives = [x for x in numbers if x > 0]  # list comprehension\n",
        "print(positives)"
      ],
      "execution_count": null,
      "outputs": [
        {
          "output_type": "stream",
          "text": [
            "[1, 3, 5, 8]\n"
          ],
          "name": "stdout"
        }
      ]
    },
    {
      "cell_type": "code",
      "metadata": {
        "id": "84epmjd9KXry",
        "colab_type": "code",
        "colab": {
          "base_uri": "https://localhost:8080/",
          "height": 38
        },
        "outputId": "508019bc-5060-439b-bb9f-85a85e716f79"
      },
      "source": [
        "# number의 원소들 중에서 짝수들로만 이루어진 리스트 evens\n",
        "evens = [x for x in numbers if x % 2 == 0]\n",
        "print(evens)"
      ],
      "execution_count": null,
      "outputs": [
        {
          "output_type": "stream",
          "text": [
            "[-2, -4, -6, 8]\n"
          ],
          "name": "stdout"
        }
      ]
    },
    {
      "cell_type": "code",
      "metadata": {
        "id": "p-PvRY0YN2wz",
        "colab_type": "code",
        "colab": {}
      },
      "source": [
        "def my_filter(arr, fn):\n",
        "    \"\"\"\n",
        "    arr: 리스트, fn: True/False를 리턴하는 함수.\n",
        "    리스트 arr의 원소들 중에서 fn의 결과가 True가 되는 원소들로만 이루어진 리스트를 리턴.\n",
        "    \"\"\"\n",
        "    result = []  # empty list를 생성\n",
        "    for x in arr:  # 리스트 arr의 원소 x에 대해서\n",
        "        if fn(x):  # 원소 x를 함수 fn에 전달했을 때, 그 리턴값이 True이면,\n",
        "            result.append(x)  # 원소 x를 리스트에 추가\n",
        "\n",
        "    return result"
      ],
      "execution_count": null,
      "outputs": []
    },
    {
      "cell_type": "code",
      "metadata": {
        "id": "Ll5NduQ7P5cC",
        "colab_type": "code",
        "colab": {}
      },
      "source": [
        "def is_positive(x):\n",
        "    return x > 0"
      ],
      "execution_count": null,
      "outputs": []
    },
    {
      "cell_type": "code",
      "metadata": {
        "id": "_hC0eDOeP_PZ",
        "colab_type": "code",
        "colab": {
          "base_uri": "https://localhost:8080/",
          "height": 38
        },
        "outputId": "a9fdab40-a1f0-437f-b3a1-6b48a73f9da3"
      },
      "source": [
        "result = my_filter(numbers, is_positive)\n",
        "print(result)"
      ],
      "execution_count": null,
      "outputs": [
        {
          "output_type": "stream",
          "text": [
            "[1, 3, 5, 8]\n"
          ],
          "name": "stdout"
        }
      ]
    },
    {
      "cell_type": "code",
      "metadata": {
        "id": "OuPGL0ELRq2B",
        "colab_type": "code",
        "colab": {
          "base_uri": "https://localhost:8080/",
          "height": 38
        },
        "outputId": "1fb9dd49-d667-4f9f-a511-297c8811682d"
      },
      "source": [
        "test = lambda x: x > 0\n",
        "test(-9)"
      ],
      "execution_count": null,
      "outputs": [
        {
          "output_type": "execute_result",
          "data": {
            "text/plain": [
              "False"
            ]
          },
          "metadata": {
            "tags": []
          },
          "execution_count": 52
        }
      ]
    },
    {
      "cell_type": "code",
      "metadata": {
        "id": "QQXoqeDKR72A",
        "colab_type": "code",
        "colab": {
          "base_uri": "https://localhost:8080/",
          "height": 38
        },
        "outputId": "ad138c9c-3c14-4895-f2bf-3e65aad06672"
      },
      "source": [
        "positives = my_filter(numbers, lambda x: x > 0)\n",
        "print(positives)"
      ],
      "execution_count": null,
      "outputs": [
        {
          "output_type": "stream",
          "text": [
            "[1, 3, 5, 8]\n"
          ],
          "name": "stdout"
        }
      ]
    },
    {
      "cell_type": "code",
      "metadata": {
        "id": "Ey4cc9x_SZzH",
        "colab_type": "code",
        "colab": {
          "base_uri": "https://localhost:8080/",
          "height": 38
        },
        "outputId": "6ccf9003-c049-41cd-dfa9-9137a868a44f"
      },
      "source": [
        "# 함수 my_filter와 람다 표현식을 사용해서, \n",
        "# numbers의 원소들 중에서 짝수들로 이루어진 리스트를 만들어 보세요.\n",
        "evens = my_filter(numbers, lambda x: x % 2 == 0)\n",
        "print(evens)"
      ],
      "execution_count": null,
      "outputs": [
        {
          "output_type": "stream",
          "text": [
            "[-2, -4, -6, 8]\n"
          ],
          "name": "stdout"
        }
      ]
    },
    {
      "cell_type": "code",
      "metadata": {
        "id": "N9i6mRusZGKi",
        "colab_type": "code",
        "colab": {
          "base_uri": "https://localhost:8080/",
          "height": 38
        },
        "outputId": "44778a9c-4581-4eac-810a-a53b1e0a03c8"
      },
      "source": [
        "languages = ['python', 'r', 'sql', 'java', 'c/c++', 'kotlin', 'javascript']\n",
        "\n",
        "# my_filter 함수와 람다 표현식을 사용해서,\n",
        "# languages의 원소들 중에서 문자열의 길이가 5보다 큰 원소들로 이루어진 리스트를 만들어 보세요.\n",
        "longer_than_5 = my_filter(languages, lambda x: len(x) > 5)\n",
        "print(longer_than_5)"
      ],
      "execution_count": null,
      "outputs": [
        {
          "output_type": "stream",
          "text": [
            "['python', 'kotlin', 'javascript']\n"
          ],
          "name": "stdout"
        }
      ]
    },
    {
      "cell_type": "code",
      "metadata": {
        "id": "tgJ1vFDHatUn",
        "colab_type": "code",
        "colab": {
          "base_uri": "https://localhost:8080/",
          "height": 58
        },
        "outputId": "525cc667-3b2b-480b-c514-48a10933294e"
      },
      "source": [
        "print(languages)\n",
        "\n",
        "# languages의 원소들을 key로 하고, 원소들의 길이를 value로 하는 dict를 만들어 보세요.\n",
        "\"\"\"\n",
        "result = dict()  # empty dict\n",
        "for lang in languages:  # 리스트의 원소들에 대해서 반복하면서\n",
        "    result[lang] = len(lang)  # key-value 쌍을 dict에 저장(추가)\n",
        "\"\"\"\n",
        "\n",
        "result = {k: len(k) for k in languages}  # dictionary comprehension\n",
        "print(result)"
      ],
      "execution_count": null,
      "outputs": [
        {
          "output_type": "stream",
          "text": [
            "['python', 'r', 'sql', 'java', 'c/c++', 'kotlin', 'javascript']\n",
            "{'python': 6, 'r': 1, 'sql': 3, 'java': 4, 'c/c++': 5, 'kotlin': 6, 'javascript': 10}\n"
          ],
          "name": "stdout"
        }
      ]
    },
    {
      "cell_type": "code",
      "metadata": {
        "id": "l1MPyI4Fco2J",
        "colab_type": "code",
        "colab": {
          "base_uri": "https://localhost:8080/",
          "height": 38
        },
        "outputId": "17236abe-b20a-4a11-9ea8-82e2d1c1e0b1"
      },
      "source": [
        "# languages의 원소들을 key로 하고, \n",
        "# languages의 문자들을 대문자로 변환한 값을 value로 하는 dict를 만들어 보세요.\n",
        "# 'python'.upper()\n",
        "result = {k: k.upper() for k in languages}\n",
        "print(result)"
      ],
      "execution_count": null,
      "outputs": [
        {
          "output_type": "stream",
          "text": [
            "{'python': 'PYTHON', 'r': 'R', 'sql': 'SQL', 'java': 'JAVA', 'c/c++': 'C/C++', 'kotlin': 'KOTLIN', 'javascript': 'JAVASCRIPT'}\n"
          ],
          "name": "stdout"
        }
      ]
    },
    {
      "cell_type": "code",
      "metadata": {
        "id": "istLt8NWeDTm",
        "colab_type": "code",
        "colab": {}
      },
      "source": [
        "def my_mapper(arr, fn):\n",
        "    \"\"\"\n",
        "    arr: 리스트.\n",
        "    fn: argument가 1개이고 리턴 값이 있는 함수.\n",
        "    arr의 원소들을 key로 하고, 그 원소를 fn의 argument로 전달했을 때의 리턴 값을 value로 하는\n",
        "    dict를 리턴하는 함수.\n",
        "    \"\"\"\n",
        "    # result = dict()  # empty dict\n",
        "    # for k in arr:\n",
        "    #     result[k] = fn(k)\n",
        "    result = {k: fn(k) for k in arr}\n",
        "\n",
        "    return result"
      ],
      "execution_count": null,
      "outputs": []
    },
    {
      "cell_type": "code",
      "metadata": {
        "id": "x0kDhGMrkYNO",
        "colab_type": "code",
        "colab": {
          "base_uri": "https://localhost:8080/",
          "height": 38
        },
        "outputId": "e0c6ab1d-c105-4700-f5ef-1f6f8bb1b07e"
      },
      "source": [
        "# def length_of_str(s):\n",
        "#     return len(s)\n",
        "\n",
        "# test = lambda s: len(s)\n",
        "\n",
        "lang_length = my_mapper(languages, lambda x: len(x))\n",
        "print(lang_length)"
      ],
      "execution_count": null,
      "outputs": [
        {
          "output_type": "stream",
          "text": [
            "{'python': 6, 'r': 1, 'sql': 3, 'java': 4, 'c/c++': 5, 'kotlin': 6, 'javascript': 10}\n"
          ],
          "name": "stdout"
        }
      ]
    },
    {
      "cell_type": "code",
      "metadata": {
        "id": "3uqeEY2Jl1OO",
        "colab_type": "code",
        "colab": {
          "base_uri": "https://localhost:8080/",
          "height": 38
        },
        "outputId": "b6def77c-e349-47ac-cf40-94d7cd3303ff"
      },
      "source": [
        "lang_upper = my_mapper(languages, lambda x: x.upper())\n",
        "print(lang_upper)"
      ],
      "execution_count": null,
      "outputs": [
        {
          "output_type": "stream",
          "text": [
            "{'python': 'PYTHON', 'r': 'R', 'sql': 'SQL', 'java': 'JAVA', 'c/c++': 'C/C++', 'kotlin': 'KOTLIN', 'javascript': 'JAVASCRIPT'}\n"
          ],
          "name": "stdout"
        }
      ]
    },
    {
      "cell_type": "code",
      "metadata": {
        "id": "a8ebT-wZmn2c",
        "colab_type": "code",
        "colab": {
          "base_uri": "https://localhost:8080/",
          "height": 58
        },
        "outputId": "3e0ae1f9-c094-47da-8e89-d6ef2cc9d012"
      },
      "source": [
        "print(numbers)\n",
        "# numbers의 원소들을 key, 그 원소들이 짝수인지(True) 아닌지(False)를 value로 하는 \n",
        "# dict를 만들어 보세요.\n",
        "result = my_mapper(numbers, lambda x: x % 2 == 0)\n",
        "print(result)"
      ],
      "execution_count": null,
      "outputs": [
        {
          "output_type": "stream",
          "text": [
            "[1, -2, 3, -4, 5, -6, -7, 8]\n",
            "{1: False, -2: True, 3: False, -4: True, 5: False, -6: True, -7: False, 8: True}\n"
          ],
          "name": "stdout"
        }
      ]
    },
    {
      "cell_type": "code",
      "metadata": {
        "id": "KVy7vOX6sD2_",
        "colab_type": "code",
        "colab": {
          "base_uri": "https://localhost:8080/",
          "height": 38
        },
        "outputId": "9be06fe1-cfa5-4cb1-e0e8-4c9ff0d24e4b"
      },
      "source": [
        "# is_even = lambda x: x % 2 == 0\n",
        "def is_even(x):\n",
        "    return x % 2 == 0\n",
        "\n",
        "# {key: is_even(key) for key in numbers}\n",
        "result = {}\n",
        "for x in numbers:\n",
        "    result[x] = is_even(x)\n",
        "print(result)"
      ],
      "execution_count": 75,
      "outputs": [
        {
          "output_type": "stream",
          "text": [
            "{1: False, -2: True, 3: False, -4: True, 5: False, -6: True, -7: False, 8: True}\n"
          ],
          "name": "stdout"
        }
      ]
    }
  ]
}