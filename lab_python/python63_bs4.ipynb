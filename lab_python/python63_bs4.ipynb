{
  "nbformat": 4,
  "nbformat_minor": 0,
  "metadata": {
    "colab": {
      "name": "python63_bs4.ipynb",
      "provenance": [],
      "collapsed_sections": [],
      "mount_file_id": "1jeL3T8Nm6VtRSwkE3Z6He6GkzYvmK5FI",
      "authorship_tag": "ABX9TyNmFnfHMdv0lT3zfVRV5dTX",
      "include_colab_link": true
    },
    "kernelspec": {
      "name": "python3",
      "display_name": "Python 3"
    }
  },
  "cells": [
    {
      "cell_type": "markdown",
      "metadata": {
        "id": "view-in-github",
        "colab_type": "text"
      },
      "source": [
        "<a href=\"https://colab.research.google.com/github/JakeOh/202007_itw_bd18/blob/master/lab_python/python63_bs4.ipynb\" target=\"_parent\"><img src=\"https://colab.research.google.com/assets/colab-badge.svg\" alt=\"Open In Colab\"/></a>"
      ]
    },
    {
      "cell_type": "code",
      "metadata": {
        "id": "fpXwN9mLypbi",
        "outputId": "68a720c0-8ca7-405c-fdfa-479fb2424e07",
        "colab": {
          "base_uri": "https://localhost:8080/",
          "height": 38
        }
      },
      "source": [
        "# Google Colab에 설치된 bs4 패키지(BeautifulSoup) 버전 확인\n",
        "import bs4\n",
        "\n",
        "bs4.__version__"
      ],
      "execution_count": 25,
      "outputs": [
        {
          "output_type": "execute_result",
          "data": {
            "application/vnd.google.colaboratory.intrinsic+json": {
              "type": "string"
            },
            "text/plain": [
              "'4.6.3'"
            ]
          },
          "metadata": {
            "tags": []
          },
          "execution_count": 25
        }
      ]
    },
    {
      "cell_type": "code",
      "metadata": {
        "id": "b3MN7mdUz1D8"
      },
      "source": [
        "from bs4 import BeautifulSoup\n",
        "# bs4 모듈에서 BeautifulSoup 클래스를 임포트(메모리에 로드)"
      ],
      "execution_count": 26,
      "outputs": []
    },
    {
      "cell_type": "code",
      "metadata": {
        "id": "TisG7Tx-0NmT",
        "outputId": "5d40ec3c-344f-423a-eb82-9cd10432f001",
        "colab": {
          "base_uri": "https://localhost:8080/",
          "height": 38
        }
      },
      "source": [
        "# 구글 드라이브 마운트. web01.html 파일 경로 복사\n",
        "html_file = '/content/drive/My Drive/Colab Notebooks/lab_python/web01.html'\n",
        "\n",
        "# HTML 파일 열기(open)\n",
        "f = open(html_file, mode='r', encoding='utf-8')\n",
        "f"
      ],
      "execution_count": 27,
      "outputs": [
        {
          "output_type": "execute_result",
          "data": {
            "text/plain": [
              "<_io.TextIOWrapper name='/content/drive/My Drive/Colab Notebooks/lab_python/web01.html' mode='r' encoding='utf-8'>"
            ]
          },
          "metadata": {
            "tags": []
          },
          "execution_count": 27
        }
      ]
    },
    {
      "cell_type": "code",
      "metadata": {
        "id": "1tvAAJCG1Jhq"
      },
      "source": [
        "# BeautifulSoup 클래스의 인스턴스를 생성 - 생성자 함수 호출\n",
        "soup = BeautifulSoup(markup=f,                # markup=HTML 파일\n",
        "                     features='html.parser')  # features=HTML 문서를 분석(parse)할 수 있는 라이브러리 이름."
      ],
      "execution_count": 28,
      "outputs": []
    },
    {
      "cell_type": "code",
      "metadata": {
        "id": "o9oDfc9k2Jea",
        "outputId": "4c7a88d3-8986-4683-c3f8-76e8dac77bb2",
        "colab": {
          "base_uri": "https://localhost:8080/",
          "height": 38
        }
      },
      "source": [
        "type(soup)"
      ],
      "execution_count": 29,
      "outputs": [
        {
          "output_type": "execute_result",
          "data": {
            "text/plain": [
              "bs4.BeautifulSoup"
            ]
          },
          "metadata": {
            "tags": []
          },
          "execution_count": 29
        }
      ]
    },
    {
      "cell_type": "code",
      "metadata": {
        "id": "eAMOyLu12TmC",
        "outputId": "5bd15da8-93fb-4b19-baa4-f42fe83c7804",
        "colab": {
          "base_uri": "https://localhost:8080/",
          "height": 890
        }
      },
      "source": [
        "soup\n",
        "# BeautifulSoup 객체: HTML 문서의 모든 내용과 구조를 담고 있고,\n",
        "# HTML 문서를 분석(요소 찾기)할 수 있는 기능(메서드)을 가지고 있는 객체."
      ],
      "execution_count": 30,
      "outputs": [
        {
          "output_type": "execute_result",
          "data": {
            "text/plain": [
              "<!DOCTYPE html>\n",
              "\n",
              "<!-- HTML 문서의 주석\n",
              "HTML 문서의 구조:\n",
              "    <tag attribute_name=\"attribute_value\">content</tag>\n",
              "Content가 없는 태그인 경우:\n",
              "    <tag attr_name=\"attr_val\" /> 또는\n",
              "    <tag attr_name=\"attr_val\">\n",
              "-->\n",
              "<html lang=\"en\">\n",
              "<head>\n",
              "<meta charset=\"utf-8\"/>\n",
              "<title>Web 1</title>\n",
              "</head>\n",
              "<body>\n",
              "<!-- h1 ~ h6: heading -->\n",
              "<h1>처음 만드는 HTML 파일</h1>\n",
              "<h2>HTML: HyperText Markup Language</h2>\n",
              "<!-- a(anchor): HTML 파일에서 링크 생성 -->\n",
              "<a href=\"https://www.daum.net/\">다음 카카오</a>\n",
              "<br/> <!-- br(line break): 줄바꿈 -->\n",
              "<a href=\"https://www.naver.com/\">네이버</a>\n",
              "<br/>\n",
              "<a href=\"https://www.google.com/\">\n",
              "<img src=\"googlelogo.png\" style=\"width: 100px;\"/>\n",
              "</a>\n",
              "<div>여기는 division입니다.<br/>\n",
              "    div는 여백(margin)이 없습니다.\n",
              "    </div>\n",
              "<p>여기는 <strong>paragraph</strong>입니다.<br/>\n",
              "    p는 <em>여백(margin)</em>이 있습니다.\n",
              "    </p>\n",
              "<!-- HTML 요소(태그)\n",
              "        1) block-level 요소(태그): 브라우저의 가로 길이 전체를 차지하는 태그\n",
              "            줄바꿈이 자동으로 생김.\n",
              "            <h1>, <h6>, <div>, <p>, <table>, <ul>, <li>, ...\n",
              "        2) inline 요소(태그): 컨텐츠의 가로 길이 크기만 차지하는 태그\n",
              "            줄바꿈이 자동으로 생기지 않음. 줄을 바꾸려면 <br>을 사용해야 함.\n",
              "            <a>, <img>, <span>, ...\n",
              "    -->\n",
              "</body>\n",
              "</html>"
            ]
          },
          "metadata": {
            "tags": []
          },
          "execution_count": 30
        }
      ]
    },
    {
      "cell_type": "code",
      "metadata": {
        "id": "QezSJn_S4U_j",
        "outputId": "fbd1725b-38f4-44d5-8329-2c80ef2502c3",
        "colab": {
          "base_uri": "https://localhost:8080/",
          "height": 38
        }
      },
      "source": [
        "# BS.find('태그 이름') 메서드: HTML 문서에서 태그에 해당하는 요소(element)를 찾음.\n",
        "h1 = soup.find('h1')  # HTML 문서에서 가장 먼저 등장하는 h1 태그 요소를 찾아줌.\n",
        "h1"
      ],
      "execution_count": 31,
      "outputs": [
        {
          "output_type": "execute_result",
          "data": {
            "text/plain": [
              "<h1>처음 만드는 HTML 파일</h1>"
            ]
          },
          "metadata": {
            "tags": []
          },
          "execution_count": 31
        }
      ]
    },
    {
      "cell_type": "code",
      "metadata": {
        "id": "9fqL5RdT5ko2",
        "outputId": "6c42c34c-7652-48ca-833b-c8d7dcfceabd",
        "colab": {
          "base_uri": "https://localhost:8080/",
          "height": 38
        }
      },
      "source": [
        "type(h1)  #> Tag 클래스 타입"
      ],
      "execution_count": 32,
      "outputs": [
        {
          "output_type": "execute_result",
          "data": {
            "text/plain": [
              "bs4.element.Tag"
            ]
          },
          "metadata": {
            "tags": []
          },
          "execution_count": 32
        }
      ]
    },
    {
      "cell_type": "code",
      "metadata": {
        "id": "F_zi3s7c6Izn",
        "outputId": "2eaedc70-bb98-44f1-de5e-6eeeef185283",
        "colab": {
          "base_uri": "https://localhost:8080/",
          "height": 38
        }
      },
      "source": [
        "# 찾은 h1 요소의 텍스트만 추출.\n",
        "h1.text  # h1 시작 태그(start tag)와 h1 종료 태그(ending tag) 사이에 있는 문자열"
      ],
      "execution_count": 33,
      "outputs": [
        {
          "output_type": "execute_result",
          "data": {
            "application/vnd.google.colaboratory.intrinsic+json": {
              "type": "string"
            },
            "text/plain": [
              "'처음 만드는 HTML 파일'"
            ]
          },
          "metadata": {
            "tags": []
          },
          "execution_count": 33
        }
      ]
    },
    {
      "cell_type": "code",
      "metadata": {
        "id": "OXVii2Bd_ZYb",
        "outputId": "e3380cb6-4bde-4670-d5dc-70ada435f85c",
        "colab": {
          "base_uri": "https://localhost:8080/",
          "height": 38
        }
      },
      "source": [
        "# HTML 문서에서 가장 먼저 등장하는 h2 태그의 텍스트를 추출.\n",
        "soup.find('h2').text"
      ],
      "execution_count": 34,
      "outputs": [
        {
          "output_type": "execute_result",
          "data": {
            "application/vnd.google.colaboratory.intrinsic+json": {
              "type": "string"
            },
            "text/plain": [
              "'HTML: HyperText Markup Language'"
            ]
          },
          "metadata": {
            "tags": []
          },
          "execution_count": 34
        }
      ]
    },
    {
      "cell_type": "code",
      "metadata": {
        "id": "74o2uMUhAIdp",
        "outputId": "b2e6163f-df9b-40e6-89b1-18cf38b53dbb",
        "colab": {
          "base_uri": "https://localhost:8080/",
          "height": 38
        }
      },
      "source": [
        "# HTML 문서에서 가장 먼저 등장하는 a 태그 요소의 텍스트를 추출\n",
        "soup.find('a').text"
      ],
      "execution_count": 35,
      "outputs": [
        {
          "output_type": "execute_result",
          "data": {
            "application/vnd.google.colaboratory.intrinsic+json": {
              "type": "string"
            },
            "text/plain": [
              "'다음 카카오'"
            ]
          },
          "metadata": {
            "tags": []
          },
          "execution_count": 35
        }
      ]
    },
    {
      "cell_type": "code",
      "metadata": {
        "id": "rrU4V7VHBzre",
        "outputId": "269c3dbf-080f-41b1-8bf0-759e1f049cdc",
        "colab": {
          "base_uri": "https://localhost:8080/",
          "height": 38
        }
      },
      "source": [
        "# <tag attr1=\"value1\" attr2=\"value2\">content</tag>\n",
        "\n",
        "# Tag.get('속성 이름') 메서드: HTML 태그가 가지고 있는 속성(attribute)의 값을 리턴.\n",
        "link1 = soup.find('a')\n",
        "# type(link1)\n",
        "\n",
        "link1.get('href')"
      ],
      "execution_count": 36,
      "outputs": [
        {
          "output_type": "execute_result",
          "data": {
            "application/vnd.google.colaboratory.intrinsic+json": {
              "type": "string"
            },
            "text/plain": [
              "'https://www.daum.net/'"
            ]
          },
          "metadata": {
            "tags": []
          },
          "execution_count": 36
        }
      ]
    },
    {
      "cell_type": "code",
      "metadata": {
        "id": "c7C9RTUPELpf",
        "outputId": "dd73dff7-8909-4d5a-d5d2-b77f85acb401",
        "colab": {
          "base_uri": "https://localhost:8080/",
          "height": 38
        }
      },
      "source": [
        "soup.find('a').get('href')"
      ],
      "execution_count": 37,
      "outputs": [
        {
          "output_type": "execute_result",
          "data": {
            "application/vnd.google.colaboratory.intrinsic+json": {
              "type": "string"
            },
            "text/plain": [
              "'https://www.daum.net/'"
            ]
          },
          "metadata": {
            "tags": []
          },
          "execution_count": 37
        }
      ]
    },
    {
      "cell_type": "code",
      "metadata": {
        "id": "WgN1rqDWEi8M",
        "outputId": "5f175840-567d-4146-bc1d-13edfc7895b3",
        "colab": {
          "base_uri": "https://localhost:8080/",
          "height": 121
        }
      },
      "source": [
        "# BS.find_all('태그 이름') 메서드: HTML 문서에서 해당 태그를 갖는 모든 요소(element)를 찾음.\n",
        "soup.find_all('a')  #> a Tag 요소들의 리스트(list)"
      ],
      "execution_count": 38,
      "outputs": [
        {
          "output_type": "execute_result",
          "data": {
            "text/plain": [
              "[<a href=\"https://www.daum.net/\">다음 카카오</a>,\n",
              " <a href=\"https://www.naver.com/\">네이버</a>,\n",
              " <a href=\"https://www.google.com/\">\n",
              " <img src=\"googlelogo.png\" style=\"width: 100px;\"/>\n",
              " </a>]"
            ]
          },
          "metadata": {
            "tags": []
          },
          "execution_count": 38
        }
      ]
    },
    {
      "cell_type": "code",
      "metadata": {
        "id": "NOM03onaFUX0",
        "outputId": "de307392-2b52-4c97-e4a1-b65fbb21545b",
        "colab": {
          "base_uri": "https://localhost:8080/",
          "height": 79
        }
      },
      "source": [
        "# HTML 문서의 모든 링크의 주소를 찾아서 출력\n",
        "links = soup.find_all('a')  # 문서에서 모든 a 태그 요소를 찾음.\n",
        "for tag in links:  # a 태그 요소를 하나씩 반복(iteration).\n",
        "    print(tag.get('href'))  # a 태그의 href 속성 값을 찾음."
      ],
      "execution_count": 40,
      "outputs": [
        {
          "output_type": "stream",
          "text": [
            "https://www.daum.net/\n",
            "https://www.naver.com/\n",
            "https://www.google.com/\n"
          ],
          "name": "stdout"
        }
      ]
    },
    {
      "cell_type": "code",
      "metadata": {
        "id": "8BcThrZEFZcR",
        "outputId": "f6552a42-217d-4638-ffd9-de118503d109",
        "colab": {
          "base_uri": "https://localhost:8080/",
          "height": 38
        }
      },
      "source": [
        "# BS.find('tag_name') 메서드 호출과 동일한 기능: BS.tag_name\n",
        "# soup.find('a')\n",
        "soup.a"
      ],
      "execution_count": 48,
      "outputs": [
        {
          "output_type": "execute_result",
          "data": {
            "text/plain": [
              "<a href=\"https://www.daum.net/\">다음 카카오</a>"
            ]
          },
          "metadata": {
            "tags": []
          },
          "execution_count": 48
        }
      ]
    },
    {
      "cell_type": "code",
      "metadata": {
        "id": "wu4LM7Xhf87E",
        "outputId": "b42af4a8-6ded-4b8b-f3e2-f38bacd02b00",
        "colab": {
          "base_uri": "https://localhost:8080/",
          "height": 38
        }
      },
      "source": [
        "soup.a.text"
      ],
      "execution_count": 49,
      "outputs": [
        {
          "output_type": "execute_result",
          "data": {
            "application/vnd.google.colaboratory.intrinsic+json": {
              "type": "string"
            },
            "text/plain": [
              "'다음 카카오'"
            ]
          },
          "metadata": {
            "tags": []
          },
          "execution_count": 49
        }
      ]
    },
    {
      "cell_type": "code",
      "metadata": {
        "id": "hz7CfduogBe1",
        "outputId": "0ea76fd3-44d1-4ccf-c78f-d3d43010f714",
        "colab": {
          "base_uri": "https://localhost:8080/",
          "height": 38
        }
      },
      "source": [
        "soup.a.get('href')"
      ],
      "execution_count": 50,
      "outputs": [
        {
          "output_type": "execute_result",
          "data": {
            "application/vnd.google.colaboratory.intrinsic+json": {
              "type": "string"
            },
            "text/plain": [
              "'https://www.daum.net/'"
            ]
          },
          "metadata": {
            "tags": []
          },
          "execution_count": 50
        }
      ]
    },
    {
      "cell_type": "code",
      "metadata": {
        "id": "8_wxOqD4gTSa",
        "outputId": "15d430f6-02c7-46b0-9a13-ac186ade33b1",
        "colab": {
          "base_uri": "https://localhost:8080/",
          "height": 121
        }
      },
      "source": [
        "# BS.find_all('tag_name') 메서드 호출과 동일한 기능: BS('tag_name')\n",
        "# soup.find_all('a')\n",
        "soup('a')"
      ],
      "execution_count": 53,
      "outputs": [
        {
          "output_type": "execute_result",
          "data": {
            "text/plain": [
              "[<a href=\"https://www.daum.net/\">다음 카카오</a>,\n",
              " <a href=\"https://www.naver.com/\">네이버</a>,\n",
              " <a href=\"https://www.google.com/\">\n",
              " <img src=\"googlelogo.png\" style=\"width: 100px;\"/>\n",
              " </a>]"
            ]
          },
          "metadata": {
            "tags": []
          },
          "execution_count": 53
        }
      ]
    },
    {
      "cell_type": "code",
      "metadata": {
        "id": "CCC2UD8IguE9",
        "outputId": "8288cf53-da5f-4fad-e763-53b02a6f34fe",
        "colab": {
          "base_uri": "https://localhost:8080/",
          "height": 121
        }
      },
      "source": [
        "for a_tag in soup('a'):\n",
        "    print(a_tag.text, a_tag.get('href'))"
      ],
      "execution_count": 54,
      "outputs": [
        {
          "output_type": "stream",
          "text": [
            "다음 카카오 https://www.daum.net/\n",
            "네이버 https://www.naver.com/\n",
            "\n",
            "\n",
            " https://www.google.com/\n"
          ],
          "name": "stdout"
        }
      ]
    },
    {
      "cell_type": "code",
      "metadata": {
        "id": "-m2p47puif12",
        "outputId": "48b741e8-db06-438e-b302-739b1cfc0fd5",
        "colab": {
          "base_uri": "https://localhost:8080/",
          "height": 38
        }
      },
      "source": [
        "# Tag.get('attr_name') 메서드 호출과 동일한 기능: Tag['attr_name']\n",
        "# soup.a.get('href')\n",
        "soup.a['href']"
      ],
      "execution_count": 58,
      "outputs": [
        {
          "output_type": "execute_result",
          "data": {
            "application/vnd.google.colaboratory.intrinsic+json": {
              "type": "string"
            },
            "text/plain": [
              "'https://www.daum.net/'"
            ]
          },
          "metadata": {
            "tags": []
          },
          "execution_count": 58
        }
      ]
    },
    {
      "cell_type": "code",
      "metadata": {
        "id": "_iay6sVu1ksH"
      },
      "source": [
        "# 열었던 파일을 닫음(close)\n",
        "f.close()"
      ],
      "execution_count": 59,
      "outputs": []
    },
    {
      "cell_type": "code",
      "metadata": {
        "id": "2ISEFHZx2CsO"
      },
      "source": [
        "# 구글 드라이브에 저장된 web03.html 파일을 오픈.\n",
        "html_file = '/content/drive/My Drive/Colab Notebooks/lab_python/web03.html'\n",
        "f = open(file=html_file, mode='r', encoding='utf-8')"
      ],
      "execution_count": 60,
      "outputs": []
    },
    {
      "cell_type": "code",
      "metadata": {
        "id": "XGX6ZjFi2f0z"
      },
      "source": [
        "# HTML 파일(문서)를 분석할 수 있도록 BeautifulSoup 객체를 생성.\n",
        "soup = BeautifulSoup(markup=f, features='html5lib')"
      ],
      "execution_count": 61,
      "outputs": []
    },
    {
      "cell_type": "code",
      "metadata": {
        "id": "l9f2GfTQ22uL",
        "outputId": "f10b82c2-cc47-4d61-f5f0-aaf79b3cf8c2",
        "colab": {
          "base_uri": "https://localhost:8080/",
          "height": 100
        }
      },
      "source": [
        "# HTML 문서에서 div 태그를 갖는 모든 요소들을 찾아서, div 태그의 텍스트만 출력.\n",
        "for div in soup(name='div'):  # soup.find_all(name='div')\n",
        "    print(div.text)"
      ],
      "execution_count": 65,
      "outputs": [
        {
          "output_type": "stream",
          "text": [
            "여기는 c1 클래스입니다.\n",
            "여기도 c1 클래스입니다.\n",
            "여기는 c2 클래스입니다.\n",
            "여기는 c2 클래스, 아이디는 id1입니다.\n"
          ],
          "name": "stdout"
        }
      ]
    },
    {
      "cell_type": "code",
      "metadata": {
        "id": "W4UUf0HE4mqt",
        "outputId": "753c447d-36cc-48f5-ab7a-dad3b398f227",
        "colab": {
          "base_uri": "https://localhost:8080/",
          "height": 38
        }
      },
      "source": [
        "# HTML 문서에서 태그의 속성(attribute)의 이름과 값으로 요소(element)들을 찾는 방법:\n",
        "# BS.find_all(attrs={'attr_name': 'attr_val', ...})\n",
        "# BS(attrs={'attr_name': 'attr_val', ...})\n",
        "\n",
        "# class 속성의 값이 c1인 모든 요소(element)들을 찾음.\n",
        "soup.find_all(attrs={'class': 'c1'})"
      ],
      "execution_count": 66,
      "outputs": [
        {
          "output_type": "execute_result",
          "data": {
            "text/plain": [
              "[<div class=\"c1\">여기는 c1 클래스입니다.</div>, <div class=\"c1\">여기도 c1 클래스입니다.</div>]"
            ]
          },
          "metadata": {
            "tags": []
          },
          "execution_count": 66
        }
      ]
    },
    {
      "cell_type": "code",
      "metadata": {
        "id": "qtJE3Y9t59lu",
        "outputId": "4d4a2a38-a4a7-4d1a-d422-2a4c0c1b37b2",
        "colab": {
          "base_uri": "https://localhost:8080/",
          "height": 58
        }
      },
      "source": [
        "# class 속성의 값이 c2인 모든 요소들의 텍스트를 출력.\n",
        "for x in soup(attrs={'class': 'c2'}):\n",
        "    print(x.text)"
      ],
      "execution_count": 69,
      "outputs": [
        {
          "output_type": "stream",
          "text": [
            "여기는 c2 클래스입니다.\n",
            "여기는 c2 클래스, 아이디는 id1입니다.\n"
          ],
          "name": "stdout"
        }
      ]
    },
    {
      "cell_type": "code",
      "metadata": {
        "id": "SU04bos06sml",
        "outputId": "aa91d64a-07d0-4a1c-9306-2445301ea411",
        "colab": {
          "base_uri": "https://localhost:8080/",
          "height": 38
        }
      },
      "source": [
        "# id 속성의 값이 id1인 모든 요소들을 찾음.\n",
        "soup.find_all(attrs={'id': 'id1'})"
      ],
      "execution_count": 70,
      "outputs": [
        {
          "output_type": "execute_result",
          "data": {
            "text/plain": [
              "[<div class=\"c2\" id=\"id1\">여기는 c2 클래스, 아이디는 id1입니다.</div>]"
            ]
          },
          "metadata": {
            "tags": []
          },
          "execution_count": 70
        }
      ]
    },
    {
      "cell_type": "code",
      "metadata": {
        "id": "f91Ie85q7KZi",
        "outputId": "b3911f00-e76b-4163-b5d5-a30c900c2786",
        "colab": {
          "base_uri": "https://localhost:8080/",
          "height": 38
        }
      },
      "source": [
        "for x in soup(attrs={'id': 'id1'}):\n",
        "    print(x.text)"
      ],
      "execution_count": 72,
      "outputs": [
        {
          "output_type": "stream",
          "text": [
            "여기는 c2 클래스, 아이디는 id1입니다.\n"
          ],
          "name": "stdout"
        }
      ]
    },
    {
      "cell_type": "code",
      "metadata": {
        "id": "jGCGGSI58mSc",
        "outputId": "5b2560d9-2628-481b-d3c0-8e97e3ee0f60",
        "colab": {
          "base_uri": "https://localhost:8080/",
          "height": 38
        }
      },
      "source": [
        "# HTML 태그 속성이 class 또는 id인 경우, class_, id를 파라미터 이름으로 사용할 수 있음!\n",
        "# BS.find_all(class_='클래스 값', id='아이디 값')\n",
        "# BS(class_='클래스 값', id='아이디 값')\n",
        "\n",
        "# soup.find_all(class_='c1')\n",
        "soup(class_='c1')"
      ],
      "execution_count": 74,
      "outputs": [
        {
          "output_type": "execute_result",
          "data": {
            "text/plain": [
              "[<div class=\"c1\">여기는 c1 클래스입니다.</div>, <div class=\"c1\">여기도 c1 클래스입니다.</div>]"
            ]
          },
          "metadata": {
            "tags": []
          },
          "execution_count": 74
        }
      ]
    },
    {
      "cell_type": "code",
      "metadata": {
        "id": "tHRZA11M97dB",
        "outputId": "f0733e25-376c-4f15-8fac-f13f38726edb",
        "colab": {
          "base_uri": "https://localhost:8080/",
          "height": 38
        }
      },
      "source": [
        "# soup.find_all(id='id1')\n",
        "soup(id='id1')"
      ],
      "execution_count": 76,
      "outputs": [
        {
          "output_type": "execute_result",
          "data": {
            "text/plain": [
              "[<div class=\"c2\" id=\"id1\">여기는 c2 클래스, 아이디는 id1입니다.</div>]"
            ]
          },
          "metadata": {
            "tags": []
          },
          "execution_count": 76
        }
      ]
    },
    {
      "cell_type": "code",
      "metadata": {
        "id": "VoIPHUEo-Sq0",
        "outputId": "7d195fd3-4cc5-44c3-ff4c-852dce5a3958",
        "colab": {
          "base_uri": "https://localhost:8080/",
          "height": 79
        }
      },
      "source": [
        "# HTML 문서에서 class 속성의 값이 'menu_item'인 모든 요소들을 찾아서, 그 요소의 텍스트를 출력\n",
        "for menu_item in soup(class_='menu_item'):\n",
        "    print(menu_item.text.strip())"
      ],
      "execution_count": 78,
      "outputs": [
        {
          "output_type": "stream",
          "text": [
            "다음\n",
            "네이버\n",
            "구글\n"
          ],
          "name": "stdout"
        }
      ]
    },
    {
      "cell_type": "code",
      "metadata": {
        "id": "nFhwCCciC2We",
        "outputId": "bb74c61b-07dd-49b2-bee3-58e281862b1a",
        "colab": {
          "base_uri": "https://localhost:8080/",
          "height": 100
        }
      },
      "source": [
        "# CSS selector(선택자) 방식으로 HTML 요소(element)들을 찾는 방법:\n",
        "# BS.select('CSS selector')\n",
        "\n",
        "soup.select('div')  # select('tag_name')"
      ],
      "execution_count": 81,
      "outputs": [
        {
          "output_type": "execute_result",
          "data": {
            "text/plain": [
              "[<div class=\"c1\">여기는 c1 클래스입니다.</div>,\n",
              " <div class=\"c1\">여기도 c1 클래스입니다.</div>,\n",
              " <div class=\"c2\">여기는 c2 클래스입니다.</div>,\n",
              " <div class=\"c2\" id=\"id1\">여기는 c2 클래스, 아이디는 id1입니다.</div>]"
            ]
          },
          "metadata": {
            "tags": []
          },
          "execution_count": 81
        }
      ]
    },
    {
      "cell_type": "code",
      "metadata": {
        "id": "7ULB423SFA84",
        "outputId": "2466833e-f728-44d5-c434-63cab91dd4da",
        "colab": {
          "base_uri": "https://localhost:8080/",
          "height": 38
        }
      },
      "source": [
        "soup.select('.c1')  # select('.class_name')"
      ],
      "execution_count": 82,
      "outputs": [
        {
          "output_type": "execute_result",
          "data": {
            "text/plain": [
              "[<div class=\"c1\">여기는 c1 클래스입니다.</div>, <div class=\"c1\">여기도 c1 클래스입니다.</div>]"
            ]
          },
          "metadata": {
            "tags": []
          },
          "execution_count": 82
        }
      ]
    },
    {
      "cell_type": "code",
      "metadata": {
        "id": "DykEb9hrFMw1",
        "outputId": "29074412-c5ed-4051-a8e1-cb098ea1ea1e",
        "colab": {
          "base_uri": "https://localhost:8080/",
          "height": 38
        }
      },
      "source": [
        "soup.select('#id1')  # select('#id_name')"
      ],
      "execution_count": 83,
      "outputs": [
        {
          "output_type": "execute_result",
          "data": {
            "text/plain": [
              "[<div class=\"c2\" id=\"id1\">여기는 c2 클래스, 아이디는 id1입니다.</div>]"
            ]
          },
          "metadata": {
            "tags": []
          },
          "execution_count": 83
        }
      ]
    },
    {
      "cell_type": "code",
      "metadata": {
        "id": "K2STTxOsF5eB",
        "outputId": "cd1e45e7-f3e1-4810-9cff-04548a8b80d1",
        "colab": {
          "base_uri": "https://localhost:8080/",
          "height": 79
        }
      },
      "source": [
        "# 여러개의 selector를 함께 선택할 때\n",
        "soup.select('.c1, #id1')"
      ],
      "execution_count": 85,
      "outputs": [
        {
          "output_type": "execute_result",
          "data": {
            "text/plain": [
              "[<div class=\"c1\">여기는 c1 클래스입니다.</div>,\n",
              " <div class=\"c1\">여기도 c1 클래스입니다.</div>,\n",
              " <div class=\"c2\" id=\"id1\">여기는 c2 클래스, 아이디는 id1입니다.</div>]"
            ]
          },
          "metadata": {
            "tags": []
          },
          "execution_count": 85
        }
      ]
    },
    {
      "cell_type": "code",
      "metadata": {
        "id": "I-LsS6RTH6UU",
        "outputId": "0b0f464e-5a38-4f82-f4f8-36f057285ba4",
        "colab": {
          "base_uri": "https://localhost:8080/",
          "height": 79
        }
      },
      "source": [
        "# 조상 요소(ancestor element) 아래의 자손 요소(descendent element)를 선택할 때\n",
        "# class 값이 'menu'인 요소의 자손들 중에서 a 태그 요소들을 찾고 싶다.\n",
        "soup.select('.menu a')"
      ],
      "execution_count": 86,
      "outputs": [
        {
          "output_type": "execute_result",
          "data": {
            "text/plain": [
              "[<a href=\"https://www.daum.net/\">다음</a>,\n",
              " <a href=\"https://www.naver.com/\">네이버</a>,\n",
              " <a href=\"https://www.google.com/\">구글</a>]"
            ]
          },
          "metadata": {
            "tags": []
          },
          "execution_count": 86
        }
      ]
    },
    {
      "cell_type": "code",
      "metadata": {
        "id": "tZ_fgJ1FJe9R",
        "outputId": "2007a204-672b-4a0c-a369-5a7c44f0e3d6",
        "colab": {
          "base_uri": "https://localhost:8080/",
          "height": 79
        }
      },
      "source": [
        "# 부모 요소(parent element) 바로 아래의 자식 요소(child element)를 선택할 때\n",
        "# class 값이 'menu_itme'인 요소의 자식 요소들 중에서 a 태그 요소들을 찾고 싶다.\n",
        "soup.select('.menu_item > a')"
      ],
      "execution_count": 87,
      "outputs": [
        {
          "output_type": "execute_result",
          "data": {
            "text/plain": [
              "[<a href=\"https://www.daum.net/\">다음</a>,\n",
              " <a href=\"https://www.naver.com/\">네이버</a>,\n",
              " <a href=\"https://www.google.com/\">구글</a>]"
            ]
          },
          "metadata": {
            "tags": []
          },
          "execution_count": 87
        }
      ]
    },
    {
      "cell_type": "code",
      "metadata": {
        "id": "6G36_ElmKPr6",
        "outputId": "3889f17b-0b7f-404d-a7e6-b4ce0799d278",
        "colab": {
          "base_uri": "https://localhost:8080/",
          "height": 79
        }
      },
      "source": [
        "# 클래스 속성 값이 'menu'인 요소의 자손들 중에서 a 태그의 href 값을 모두 찾으세요.\n",
        "for link in soup.select('.menu a'):\n",
        "    # print(link.get('href'))\n",
        "    print(link['href'])"
      ],
      "execution_count": 90,
      "outputs": [
        {
          "output_type": "stream",
          "text": [
            "https://www.daum.net/\n",
            "https://www.naver.com/\n",
            "https://www.google.com/\n"
          ],
          "name": "stdout"
        }
      ]
    },
    {
      "cell_type": "code",
      "metadata": {
        "id": "-JwpogLVLHqF"
      },
      "source": [
        "f.close()"
      ],
      "execution_count": 91,
      "outputs": []
    }
  ]
}