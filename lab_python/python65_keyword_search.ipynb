{
  "nbformat": 4,
  "nbformat_minor": 0,
  "metadata": {
    "colab": {
      "name": "python65_keyword_search.ipynb",
      "provenance": [],
      "collapsed_sections": [],
      "authorship_tag": "ABX9TyNne9HBJeNWY8GGQH3kqBDd",
      "include_colab_link": true
    },
    "kernelspec": {
      "name": "python3",
      "display_name": "Python 3"
    }
  },
  "cells": [
    {
      "cell_type": "markdown",
      "metadata": {
        "id": "view-in-github",
        "colab_type": "text"
      },
      "source": [
        "<a href=\"https://colab.research.google.com/github/JakeOh/202007_itw_bd18/blob/master/lab_python/python65_keyword_search.ipynb\" target=\"_parent\"><img src=\"https://colab.research.google.com/assets/colab-badge.svg\" alt=\"Open In Colab\"/></a>"
      ]
    },
    {
      "cell_type": "markdown",
      "metadata": {
        "id": "RQwEJVQVyTGy"
      },
      "source": [
        "# 웹 주소(URL)의 형식\n",
        "\n",
        "* 프로토콜://도메인이름(or IP주소)[:포트번호]/경로?쿼리스트링\n",
        "* (예) https://search.daum.net/search?w=news&q=머신러닝\n",
        "  * 프로토콜(protocol): https\n",
        "  * 도메인(domain) 이름: search.daum.net\n",
        "  * 포트(port) 번호: 생략. (포트 번호 80은 생략 가능)\n",
        "  * 경로(path): search\n",
        "  * 질의 문자열(query string): w=news&q=머신러닝\n",
        "    * query string은 클라이언트(웹 브라우저)에서 서버로 정보를 전달하기 위해서 사용.\n",
        "    * param=value 형식으로 전달.\n",
        "    * 파라미터가 여려개일 때는 &로 파라미터들을 구분.\n",
        "\n",
        "* 클라이언트(웹 브라우저)가 서버로 요청(request)를 보내는 방식:\n",
        "  * GET 방식: 클라이언트가 서버로 보내는 정보를 URL의 query string에 실어서 보내는 방식.\n",
        "    * 예: 검색, 링크 클릭\n",
        "  * POST 방식: 클라이언트가 서버로 보내는 정보를 HTTP 패킷으로 감싸서 URL에 노출되지 않도록 보내는 방식.\n",
        "    * 예: 로그인, 이메일"
      ]
    },
    {
      "cell_type": "code",
      "metadata": {
        "id": "tZxXzDEqweVu"
      },
      "source": [
        "import requests\n",
        "from bs4 import BeautifulSoup"
      ],
      "execution_count": 1,
      "outputs": []
    },
    {
      "cell_type": "code",
      "metadata": {
        "id": "06breOXP_8-A"
      },
      "source": [
        "# URL\n",
        "daum_search_url = 'https://search.daum.net/search?w=news&q=머신러닝&nil_search=btn&DA=NTB&enc=utf8&cluster=y&cluster_page=1'\n",
        "naver_search_url= 'https://search.naver.com/search.naver?where=news&query=방탄소년단&sm=tab_jum'\n",
        "google_search_url= 'https://www.google.com/search?q=방탄소년단&tbm=nws'"
      ],
      "execution_count": 9,
      "outputs": []
    },
    {
      "cell_type": "code",
      "metadata": {
        "id": "KhBU5kz5DmfF",
        "outputId": "32dac148-c372-4472-9894-d47f4ed226f6",
        "colab": {
          "base_uri": "https://localhost:8080/",
          "height": 38
        }
      },
      "source": [
        "# request 보냄\n",
        "response = requests.get(url=daum_search_url)\n",
        "response"
      ],
      "execution_count": 10,
      "outputs": [
        {
          "output_type": "execute_result",
          "data": {
            "text/plain": [
              "<Response [200]>"
            ]
          },
          "metadata": {
            "tags": []
          },
          "execution_count": 10
        }
      ]
    },
    {
      "cell_type": "code",
      "metadata": {
        "id": "jZY2GKaED3eE",
        "outputId": "2c4e88ef-8f65-445d-d558-331683d383c7",
        "colab": {
          "base_uri": "https://localhost:8080/",
          "height": 79
        }
      },
      "source": [
        "# HTML 텍스트 추출\n",
        "html = response.text.strip()\n",
        "html[:300]"
      ],
      "execution_count": 11,
      "outputs": [
        {
          "output_type": "execute_result",
          "data": {
            "application/vnd.google.colaboratory.intrinsic+json": {
              "type": "string"
            },
            "text/plain": [
              "'<!doctype html>\\n<html xmlns=\"http://www.w3.org/1999/xhtml\" lang=\"ko\" class=\"unix unknown \">\\n<head profile=\"http://a9.com/-/spec/opensearch/1.1/\">\\n<meta http-equiv=\"content-Type\" content=\"text/html;charset=utf-8\" />\\n<meta http-equiv=\"X-UA-Compatible\" content=\"IE=edge\" />\\n<meta name=\"autocomplete\" con'"
            ]
          },
          "metadata": {
            "tags": []
          },
          "execution_count": 11
        }
      ]
    },
    {
      "cell_type": "code",
      "metadata": {
        "id": "pSzUisb8EJib"
      },
      "source": [
        "# BeautifulSoup 객체 생성\n",
        "soup = BeautifulSoup(markup=html, features='html5lib')\n",
        "# soup"
      ],
      "execution_count": 12,
      "outputs": []
    },
    {
      "cell_type": "code",
      "metadata": {
        "id": "t2SHp43sEXIS",
        "outputId": "acbe48c6-6200-4c9e-9baa-55e8803b8a8e",
        "colab": {
          "base_uri": "https://localhost:8080/",
          "height": 433
        }
      },
      "source": [
        "# element를 찾을 수 있는 selector\n",
        "selector = 'ul#clusterResultUL li div.wrap_cont div.cont_inner a.f_link_b'\n",
        "search_results = soup.select(selector)\n",
        "for link in search_results:\n",
        "    print(link['href'])  # 뉴스 링크 URL\n",
        "    print(link.text)"
      ],
      "execution_count": 13,
      "outputs": [
        {
          "output_type": "stream",
          "text": [
            "http://v.media.daum.net/v/20201015113109682?f=o\n",
            "에이아이더, 자동화 머신러닝 솔루션 사업 본격화\n",
            "http://v.media.daum.net/v/20201015091704199?f=o\n",
            "[올쇼TV] SAS 현업 전문가로부터 듣는 Virtual SAS School: 엔터...\n",
            "http://v.media.daum.net/v/20201005110103270?f=o\n",
            "위세아이텍, '머신러닝자동화 플랫폼' 웨비나 개최\n",
            "http://v.media.daum.net/v/20201013135303397?f=o\n",
            "소이넷, CIO Advisor에서 2020 최우수 머신러닝 회사로 선정\n",
            "https://cp.news.search.daum.net/p/97955749\n",
            "[머신러닝 보안관제②] 머신러닝, 사람처럼 생각하지 않는다\n",
            "https://cp.news.search.daum.net/p/98092071\n",
            "팔로알토, 머신러닝 적용 차세대 SD-WAN 솔루션 출시\n",
            "https://cp.news.search.daum.net/p/97936674\n",
            "[기고] 바야흐로, 머신러닝이다\n",
            "https://cp.news.search.daum.net/p/98199923\n",
            "[이슈] KAIST 박사과정 공태식 연구원... 구글 AI, 'PhD 펠로우십...\n",
            "https://cp.news.search.daum.net/p/98285257\n",
            "머신러닝 데이터로 뇌졸중 환자 살리는 싱가포르 창업가\n",
            "http://v.media.daum.net/v/20200915100745937?f=o\n",
            "구글코리아, '머신러닝 부트캠프' 연다\n"
          ],
          "name": "stdout"
        }
      ]
    },
    {
      "cell_type": "markdown",
      "metadata": {
        "id": "SL_dDEjoMGG2"
      },
      "source": [
        "* 다음(DAUM)에서 검색어와 검색 결과 페이지 숫자를 바꿔가면서 검색 결과 확인."
      ]
    },
    {
      "cell_type": "code",
      "metadata": {
        "id": "yc11as6nNyV_",
        "outputId": "188c35a9-daaa-4647-f0a0-82bf7ac6f56b",
        "colab": {
          "base_uri": "https://localhost:8080/",
          "height": 38
        }
      },
      "source": [
        "keyword = input('검색어 입력>>> ')"
      ],
      "execution_count": 22,
      "outputs": [
        {
          "output_type": "stream",
          "text": [
            "검색어 입력>>> 머신러닝\n"
          ],
          "name": "stdout"
        }
      ]
    },
    {
      "cell_type": "code",
      "metadata": {
        "id": "z1HePjtHOGRc",
        "outputId": "699df1c9-83b5-4090-8c78-3bcf671474e7",
        "colab": {
          "base_uri": "https://localhost:8080/",
          "height": 38
        }
      },
      "source": [
        "num_of_page = int(input('검색할 페이지 개수>>> '))"
      ],
      "execution_count": 23,
      "outputs": [
        {
          "output_type": "stream",
          "text": [
            "검색할 페이지 개수>>> 5\n"
          ],
          "name": "stdout"
        }
      ]
    },
    {
      "cell_type": "code",
      "metadata": {
        "id": "PlgIRNurMY8l",
        "outputId": "8020b11e-b8ec-41d3-d06b-5e1a6dd4a714",
        "colab": {
          "base_uri": "https://localhost:8080/",
          "height": 1000
        }
      },
      "source": [
        "for page in range(1, num_of_page + 1):\n",
        "    print(f'***** page {page} *****')\n",
        "    # URL\n",
        "    daum_search_url = f'https://search.daum.net/search?w=news&DA=PGD&enc=utf8&cluster=y&cluster_page=1&q={keyword}&p={page}'\n",
        "    # print(daum_search_url)\n",
        "    \n",
        "    # request 보냄.\n",
        "    response = requests.get(daum_search_url)\n",
        "    # print(response)\n",
        "    \n",
        "    # HTML 텍스트 추출.\n",
        "    html = response.text.strip()\n",
        "\n",
        "    # BeautifulSoup 객체 생성.\n",
        "    soup = BeautifulSoup(markup=html, features='html5lib')\n",
        "\n",
        "    # 찾고자 하는 element의 selector\n",
        "    selector = 'ul#clusterResultUL li div.wrap_cont div.cont_inner a.f_link_b'\n",
        "    # element 찾기.\n",
        "    search_results = soup.select(selector)\n",
        "    # print(len(search_results))\n",
        "    for link in search_results:\n",
        "        print(link['href'], link.text)\n",
        "\n",
        "    print()"
      ],
      "execution_count": 24,
      "outputs": [
        {
          "output_type": "stream",
          "text": [
            "***** page 1 *****\n",
            "http://v.media.daum.net/v/20201015113109682?f=o 에이아이더, 자동화 머신러닝 솔루션 사업 본격화\n",
            "http://v.media.daum.net/v/20201015165605676?f=o 에이아이더, 데이터로봇과 머신러닝 컨설팅 ·SW 사업 협력\n",
            "http://v.media.daum.net/v/20201015091704199?f=o [올쇼TV] SAS 현업 전문가로부터 듣는 Virtual SAS School: 엔터...\n",
            "http://v.media.daum.net/v/20201005110103270?f=o 위세아이텍, '머신러닝자동화 플랫폼' 웨비나 개최\n",
            "http://v.media.daum.net/v/20201013135303397?f=o 소이넷, CIO Advisor에서 2020 최우수 머신러닝 회사로 선정\n",
            "https://cp.news.search.daum.net/p/97955749 [머신러닝 보안관제②] 머신러닝, 사람처럼 생각하지 않는다\n",
            "https://cp.news.search.daum.net/p/98092071 팔로알토, 머신러닝 적용 차세대 SD-WAN 솔루션 출시\n",
            "https://cp.news.search.daum.net/p/97936674 [기고] 바야흐로, 머신러닝이다\n",
            "https://cp.news.search.daum.net/p/98199923 [이슈] KAIST 박사과정 공태식 연구원... 구글 AI, 'PhD 펠로우십...\n",
            "https://cp.news.search.daum.net/p/98285257 머신러닝 데이터로 뇌졸중 환자 살리는 싱가포르 창업가\n",
            "\n",
            "***** page 2 *****\n",
            "http://v.media.daum.net/v/20200915100745937?f=o 구글코리아, '머신러닝 부트캠프' 연다\n",
            "https://cp.news.search.daum.net/p/98045002 무선통신·머신러닝 전문가 신원재 교수, IEEE서 ‘인정’\n",
            "https://cp.news.search.daum.net/p/98096945 NXP, 머신러닝·인공지능 '알고리즘의 윤리' 백서 발간\n",
            "http://v.media.daum.net/v/20200915102700918?f=o 구글코리아, '머신러닝 부트캠프' 오픈..韓 개발자 육성\n",
            "https://cp.news.search.daum.net/p/98118218 SK하이닉스, AI·빅데이터·머신러닝 시스템에 최적화된 'DDR5' 출시\n",
            "http://v.media.daum.net/v/20200916102803559?f=o [알림]AI·머신러닝 활용법, 25일 온라인서 배우세요\n",
            "https://cp.news.search.daum.net/p/97359080 구글코리아, '머신러닝 인력 양성부터 채용 연계까지' 머신러닝 ...\n",
            "http://v.media.daum.net/v/20200923111519688?f=o SBA, 마곡지역 내 '머신러닝 공유 퍼스널모빌리티' 시작..나인투...\n",
            "https://cp.news.search.daum.net/p/97697689 머신러닝 활용한 금속수소 연구로 목성 내부 탐사 앞당긴다\n",
            "http://v.media.daum.net/v/20200911173705320?f=o 일레클, 머신러닝 기술로 공유 퍼스널모빌리티 주차 문제 해결\n",
            "\n",
            "***** page 3 *****\n",
            "https://cp.news.search.daum.net/p/97360158 값비싼 머신러닝 교육 저리 가라! 머신러닝 개발자 양성 위한 구...\n",
            "https://cp.news.search.daum.net/p/97761828 AI와 머신러닝이 보험업계를 변화시키는 방법 3가지\n",
            "https://cp.news.search.daum.net/p/97281102 클라우데라 ‘머신러닝’, ‘노트북 기반 예측 분석’ 리더에…\n",
            "https://cp.news.search.daum.net/p/97444707 애플 A14, 16코어 NPU와 머신러닝 가속기로 AI 성능 끌어올려\n",
            "https://cp.news.search.daum.net/p/98384992 AI 통합 방법론 MLOps AI 기술에 속속 도입, 향후 10년 적용 확대...\n",
            "https://cp.news.search.daum.net/p/97198737 일레클, 마곡서 머신러닝 타진한다\n",
            "https://cp.news.search.daum.net/p/97627893 오라클, 자바 머신러닝 라이브러리 ‘트리뷰오’ 오픈소스로 공개\n",
            "https://cp.news.search.daum.net/p/98378039 슈퍼브에이아이 김현수 대표, 향후 10년은 MLOps 시대... AI 시장...\n",
            "http://v.media.daum.net/v/20200831095422073?f=o KT, 초급자용 머신러닝 툴 탑재한 'AI 코딩블록' 출시\n",
            "http://v.media.daum.net/v/20200819174425100?f=o \"누구나 쉽게 머신러닝 활용하는 세상 돼야죠\"\n",
            "\n",
            "***** page 4 *****\n",
            "https://cp.news.search.daum.net/p/98384723 슈퍼브에이아이, MLOps 생태계 구축에 손 보태\n",
            "https://cp.news.search.daum.net/p/97650463 마곡 스마트시티 리빙랩 사업 지원기업 ㈜나인투원, 머신러닝으로...\n",
            "http://v.media.daum.net/v/20201015162307291?f=o 서초구, 서울 자치구 최초 AI로봇코딩 칼리지 개설\n",
            "http://v.media.daum.net/v/20201014164800001?f=o 당근마켓, 24개 분야 신입·경력사원 채용..두 자릿수 규모\n",
            "https://cp.news.search.daum.net/p/97963809 인공지능과 머신러닝이 데브옵스를 만나면 이루어질 수 있는 일들...\n",
            "http://v.media.daum.net/v/20201015142720641?f=o 위세아이텍, 120억원 규모 전환사채 납입 완료\n",
            "http://v.media.daum.net/v/20200914135528293?f=o \"1년 반 동안 2만 데이터 축적\"..세아베스틸의 '머신러닝' 활용법\n",
            "https://cp.news.search.daum.net/p/97230143 [2020 GGGF] ​김기환 SK플래닛 매니저 “머신러닝 개발, 마케터-개...\n",
            "https://cp.news.search.daum.net/p/97678778 Arm, '네오버스' 로드맵 공개... 차세대 클라우드·HPC·머신러닝...\n",
            "http://v.media.daum.net/v/20201015155700963?f=o SK C&C, AI·빅데이터 알고리즘 모은 저장소 '아큐애셋' 오픈\n",
            "\n",
            "***** page 5 *****\n",
            "https://cp.news.search.daum.net/p/97185515 [2020 GGGF] 데이나 번즈 “머신러닝, 소매업 마케팅 활용으로 매...\n",
            "https://cp.news.search.daum.net/p/97174227 SK㈜ C&C, 美 머신러닝 기업 '타머' 주최 포럼 참석\n",
            "http://v.media.daum.net/v/20201015151919038?f=o SK C&C \"디지털 혁신사례 직접 찾아보고 활용하세요\"\n",
            "https://cp.news.search.daum.net/p/97406913 사이버 괴롭힘 막아라...인스타그램, 머신러닝 AI·리뷰팀 적극 활용\n",
            "https://cp.news.search.daum.net/p/96744537 머신러닝ㆍ블록체인 활용 19개 프로젝트 수행\n",
            "https://cp.news.search.daum.net/p/97122433 신한은행, ‘머신러닝’ 활용 자금세탁방지 보고 체계 고도화\n",
            "http://v.media.daum.net/v/20201015161821089?f=o 류혜정 LG전자 \"집이 모든 곳 대체..스마트홈 지속 발전\"\n",
            "http://v.media.daum.net/v/20201015151314723?f=o 노션, 국내 기업 시장 공략 본격화 돌입.. 기업 고객 전용 페이지...\n",
            "http://v.media.daum.net/v/20201015090206566?f=o \"우리 알고리즘 마음껏 써보세요\"..SK㈜ C&C,'디지털 자산 저장소...\n",
            "http://v.media.daum.net/v/20201014145306879?f=o 경기도경제과학진흥원, 빅데이터 전문가 양성 비대면 무료 교육\n",
            "\n"
          ],
          "name": "stdout"
        }
      ]
    },
    {
      "cell_type": "code",
      "metadata": {
        "id": "YWiZnpi4SllT",
        "outputId": "3bb89374-8777-4ef1-d912-dbae3af5402a",
        "colab": {
          "base_uri": "https://localhost:8080/",
          "height": 1000
        }
      },
      "source": [
        "for page in range(1, num_of_page + 1):\n",
        "    print(f'----- {page} page -----')\n",
        "    # 요청을 보낼 때 URL 주소에서 바뀌지 않는 부분.\n",
        "    daum_search_url = 'https://search.daum.net/search?w=news&DA=PGD&enc=utf8&cluster=y&cluster_page=1'\n",
        "    # 요청을 보낼 때마다 URL 주소의 query string에서 바뀌는 요청 파라미터\n",
        "    request_params = {'q': keyword, 'p': page}  # URL의 query string에 추가될 요청 파라미터\n",
        "    # request 보냄.\n",
        "    response = requests.get(url=daum_search_url, params=request_params)\n",
        "    html = response.text.strip()\n",
        "    soup = BeautifulSoup(markup=html, features='html5lib')\n",
        "    selector = 'ul#clusterResultUL li div.wrap_cont div.cont_inner a.f_link_b'\n",
        "    search_results = soup.select(selector)\n",
        "    for link in search_results:\n",
        "        print(link['href'], link.text)"
      ],
      "execution_count": 25,
      "outputs": [
        {
          "output_type": "stream",
          "text": [
            "----- 1 page -----\n",
            "http://v.media.daum.net/v/20201015113109682?f=o 에이아이더, 자동화 머신러닝 솔루션 사업 본격화\n",
            "http://v.media.daum.net/v/20201015165605676?f=o 에이아이더, 데이터로봇과 머신러닝 컨설팅 ·SW 사업 협력\n",
            "http://v.media.daum.net/v/20201015091704199?f=o [올쇼TV] SAS 현업 전문가로부터 듣는 Virtual SAS School: 엔터...\n",
            "https://cp.news.search.daum.net/p/98396509 슈퍼브에이아이, 향후 10년 머신러닝 오퍼레이션 시대... AI 시장...\n",
            "http://v.media.daum.net/v/20201005110103270?f=o 위세아이텍, '머신러닝자동화 플랫폼' 웨비나 개최\n",
            "http://v.media.daum.net/v/20201013135303397?f=o 소이넷, CIO Advisor에서 2020 최우수 머신러닝 회사로 선정\n",
            "https://cp.news.search.daum.net/p/97955749 [머신러닝 보안관제②] 머신러닝, 사람처럼 생각하지 않는다\n",
            "https://cp.news.search.daum.net/p/98092071 팔로알토, 머신러닝 적용 차세대 SD-WAN 솔루션 출시\n",
            "https://cp.news.search.daum.net/p/97936674 [기고] 바야흐로, 머신러닝이다\n",
            "https://cp.news.search.daum.net/p/98199923 [이슈] KAIST 박사과정 공태식 연구원... 구글 AI, 'PhD 펠로우십...\n",
            "----- 2 page -----\n",
            "https://cp.news.search.daum.net/p/98285257 머신러닝 데이터로 뇌졸중 환자 살리는 싱가포르 창업가\n",
            "http://v.media.daum.net/v/20200915100745937?f=o 구글코리아, '머신러닝 부트캠프' 연다\n",
            "https://cp.news.search.daum.net/p/98045002 무선통신·머신러닝 전문가 신원재 교수, IEEE서 ‘인정’\n",
            "https://cp.news.search.daum.net/p/98096945 NXP, 머신러닝·인공지능 '알고리즘의 윤리' 백서 발간\n",
            "http://v.media.daum.net/v/20200915102700918?f=o 구글코리아, '머신러닝 부트캠프' 오픈..韓 개발자 육성\n",
            "https://cp.news.search.daum.net/p/98118218 SK하이닉스, AI·빅데이터·머신러닝 시스템에 최적화된 'DDR5' 출시\n",
            "http://v.media.daum.net/v/20200916102803559?f=o [알림]AI·머신러닝 활용법, 25일 온라인서 배우세요\n",
            "https://cp.news.search.daum.net/p/97359080 구글코리아, '머신러닝 인력 양성부터 채용 연계까지' 머신러닝 ...\n",
            "http://v.media.daum.net/v/20200923111519688?f=o SBA, 마곡지역 내 '머신러닝 공유 퍼스널모빌리티' 시작..나인투...\n",
            "https://cp.news.search.daum.net/p/97697689 머신러닝 활용한 금속수소 연구로 목성 내부 탐사 앞당긴다\n",
            "----- 3 page -----\n",
            "http://v.media.daum.net/v/20200911173705320?f=o 일레클, 머신러닝 기술로 공유 퍼스널모빌리티 주차 문제 해결\n",
            "https://cp.news.search.daum.net/p/97360158 값비싼 머신러닝 교육 저리 가라! 머신러닝 개발자 양성 위한 구...\n",
            "http://v.media.daum.net/v/20201015170600097?f=o \"더 쉽고 간편하게\" 자체 플랫폼 앞세워 AI 세일즈 나선 IT 업계\n",
            "https://cp.news.search.daum.net/p/97761828 AI와 머신러닝이 보험업계를 변화시키는 방법 3가지\n",
            "https://cp.news.search.daum.net/p/97281102 클라우데라 ‘머신러닝’, ‘노트북 기반 예측 분석’ 리더에…\n",
            "https://cp.news.search.daum.net/p/98396902 인공지능 기술 폭넓게 활용하는 'MLOps' 수요 증가...관련 플랫폼...\n",
            "https://cp.news.search.daum.net/p/97444707 애플 A14, 16코어 NPU와 머신러닝 가속기로 AI 성능 끌어올려\n",
            "https://cp.news.search.daum.net/p/97198737 일레클, 마곡서 머신러닝 타진한다\n",
            "https://cp.news.search.daum.net/p/98384992 AI 통합 방법론 MLOps AI 기술에 속속 도입, 향후 10년 적용 확대...\n",
            "https://cp.news.search.daum.net/p/97627893 오라클, 자바 머신러닝 라이브러리 ‘트리뷰오’ 오픈소스로 공개\n",
            "----- 4 page -----\n",
            "http://v.media.daum.net/v/20200831095422073?f=o KT, 초급자용 머신러닝 툴 탑재한 'AI 코딩블록' 출시\n",
            "http://v.media.daum.net/v/20200819174425100?f=o \"누구나 쉽게 머신러닝 활용하는 세상 돼야죠\"\n",
            "https://cp.news.search.daum.net/p/98384723 슈퍼브에이아이, MLOps 생태계 구축에 손 보태\n",
            "https://cp.news.search.daum.net/p/97650463 마곡 스마트시티 리빙랩 사업 지원기업 ㈜나인투원, 머신러닝으로...\n",
            "http://v.media.daum.net/v/20201015162307291?f=o 서초구, 서울 자치구 최초 AI로봇코딩 칼리지 개설\n",
            "http://v.media.daum.net/v/20201014164800001?f=o 당근마켓, 24개 분야 신입·경력사원 채용..두 자릿수 규모\n",
            "https://cp.news.search.daum.net/p/97963809 인공지능과 머신러닝이 데브옵스를 만나면 이루어질 수 있는 일들...\n",
            "http://v.media.daum.net/v/20201015142720641?f=o 위세아이텍, 120억원 규모 전환사채 납입 완료\n",
            "http://v.media.daum.net/v/20200914135528293?f=o \"1년 반 동안 2만 데이터 축적\"..세아베스틸의 '머신러닝' 활용법\n",
            "https://cp.news.search.daum.net/p/97230143 [2020 GGGF] ​김기환 SK플래닛 매니저 “머신러닝 개발, 마케터-개...\n",
            "----- 5 page -----\n",
            "https://cp.news.search.daum.net/p/97678778 Arm, '네오버스' 로드맵 공개... 차세대 클라우드·HPC·머신러닝...\n",
            "http://v.media.daum.net/v/20201015155700963?f=o SK C&C, AI·빅데이터 알고리즘 모은 저장소 '아큐애셋' 오픈\n",
            "https://cp.news.search.daum.net/p/97185515 [2020 GGGF] 데이나 번즈 “머신러닝, 소매업 마케팅 활용으로 매...\n",
            "https://cp.news.search.daum.net/p/97174227 SK㈜ C&C, 美 머신러닝 기업 '타머' 주최 포럼 참석\n",
            "http://v.media.daum.net/v/20201015170007856?f=o 기업들, 블록체인·AI 등 혁신기술 미리 써보고 산다\n",
            "http://v.media.daum.net/v/20201015151919038?f=o SK C&C \"디지털 혁신사례 직접 찾아보고 활용하세요\"\n",
            "https://cp.news.search.daum.net/p/97406913 사이버 괴롭힘 막아라...인스타그램, 머신러닝 AI·리뷰팀 적극 활용\n",
            "https://cp.news.search.daum.net/p/96744537 머신러닝ㆍ블록체인 활용 19개 프로젝트 수행\n",
            "https://cp.news.search.daum.net/p/97122433 신한은행, ‘머신러닝’ 활용 자금세탁방지 보고 체계 고도화\n",
            "http://v.media.daum.net/v/20201015161821089?f=o 류혜정 LG전자 \"집이 모든 곳 대체..스마트홈 지속 발전\"\n"
          ],
          "name": "stdout"
        }
      ]
    },
    {
      "cell_type": "code",
      "metadata": {
        "id": "rN8nFJNCVp4Y"
      },
      "source": [
        ""
      ],
      "execution_count": null,
      "outputs": []
    }
  ]
}