{
  "nbformat": 4,
  "nbformat_minor": 0,
  "metadata": {
    "colab": {
      "name": "python60_movielens.ipynb",
      "provenance": [],
      "collapsed_sections": [],
      "authorship_tag": "ABX9TyM5tXbYGxjGRhi8gbRvdqMz",
      "include_colab_link": true
    },
    "kernelspec": {
      "name": "python3",
      "display_name": "Python 3"
    }
  },
  "cells": [
    {
      "cell_type": "markdown",
      "metadata": {
        "id": "view-in-github",
        "colab_type": "text"
      },
      "source": [
        "<a href=\"https://colab.research.google.com/github/JakeOh/202007_itw_bd18/blob/master/lab_python/python60_movielens.ipynb\" target=\"_parent\"><img src=\"https://colab.research.google.com/assets/colab-badge.svg\" alt=\"Open In Colab\"/></a>"
      ]
    },
    {
      "cell_type": "markdown",
      "metadata": {
        "id": "lEr-0YfPvTLh"
      },
      "source": [
        "https://github.com/wesm/pydata-book/tree/2nd-edition/datasets/movielens/ \n",
        "의 데이터 파일들(movies, users, ratings)를 사용"
      ]
    },
    {
      "cell_type": "code",
      "metadata": {
        "id": "acZZKuI7vNL9"
      },
      "source": [
        "import numpy as np\n",
        "import pandas as pd\n",
        "import matplotlib.pyplot as plt\n",
        "import seaborn as sns"
      ],
      "execution_count": 1,
      "outputs": []
    },
    {
      "cell_type": "markdown",
      "metadata": {
        "id": "_xHA95ZuxOzv"
      },
      "source": [
        "* 데이터 파일 저장소(repository), 헤더 정보(컬럼 이름)"
      ]
    },
    {
      "cell_type": "code",
      "metadata": {
        "id": "jbTew1m1voL5"
      },
      "source": [
        "movies_file = 'https://github.com/wesm/pydata-book/raw/2nd-edition/datasets/movielens/movies.dat'\n",
        "movies_cols = ['movie_id', 'title', 'genres']"
      ],
      "execution_count": 2,
      "outputs": []
    },
    {
      "cell_type": "code",
      "metadata": {
        "id": "Az0EBJQuv-kP"
      },
      "source": [
        "ratings_file = 'https://github.com/wesm/pydata-book/blob/2nd-edition/datasets/movielens/ratings.dat?raw=true'\n",
        "ratings_cols = ['user_id', 'movie_id', 'rating', 'timestamp']"
      ],
      "execution_count": 3,
      "outputs": []
    },
    {
      "cell_type": "code",
      "metadata": {
        "id": "wKxwIH9zwlA_"
      },
      "source": [
        "users_file = 'https://github.com/wesm/pydata-book/raw/2nd-edition/datasets/movielens/users.dat'\n",
        "users_cols = ['user_id', 'gender', 'age', 'occupation', 'zip_code']"
      ],
      "execution_count": 4,
      "outputs": []
    },
    {
      "cell_type": "markdown",
      "metadata": {
        "id": "W0wpcKIWxGaY"
      },
      "source": [
        "* movies, ratings, users 데이터 프레임 생성."
      ]
    },
    {
      "cell_type": "code",
      "metadata": {
        "id": "oAiOjy2cw4d_",
        "outputId": "315ad985-46f3-4977-fe74-d3d7d1d3ea37",
        "colab": {
          "base_uri": "https://localhost:8080/",
          "height": 271
        }
      },
      "source": [
        "movies = pd.read_csv(movies_file, sep='::',\n",
        "                     header=None, names=movies_cols, encoding='cp1252')\n",
        "movies.head()"
      ],
      "execution_count": 5,
      "outputs": [
        {
          "output_type": "stream",
          "text": [
            "/usr/local/lib/python3.6/dist-packages/ipykernel_launcher.py:2: ParserWarning: Falling back to the 'python' engine because the 'c' engine does not support regex separators (separators > 1 char and different from '\\s+' are interpreted as regex); you can avoid this warning by specifying engine='python'.\n",
            "  \n"
          ],
          "name": "stderr"
        },
        {
          "output_type": "execute_result",
          "data": {
            "text/html": [
              "<div>\n",
              "<style scoped>\n",
              "    .dataframe tbody tr th:only-of-type {\n",
              "        vertical-align: middle;\n",
              "    }\n",
              "\n",
              "    .dataframe tbody tr th {\n",
              "        vertical-align: top;\n",
              "    }\n",
              "\n",
              "    .dataframe thead th {\n",
              "        text-align: right;\n",
              "    }\n",
              "</style>\n",
              "<table border=\"1\" class=\"dataframe\">\n",
              "  <thead>\n",
              "    <tr style=\"text-align: right;\">\n",
              "      <th></th>\n",
              "      <th>movie_id</th>\n",
              "      <th>title</th>\n",
              "      <th>genres</th>\n",
              "    </tr>\n",
              "  </thead>\n",
              "  <tbody>\n",
              "    <tr>\n",
              "      <th>0</th>\n",
              "      <td>1</td>\n",
              "      <td>Toy Story (1995)</td>\n",
              "      <td>Animation|Children's|Comedy</td>\n",
              "    </tr>\n",
              "    <tr>\n",
              "      <th>1</th>\n",
              "      <td>2</td>\n",
              "      <td>Jumanji (1995)</td>\n",
              "      <td>Adventure|Children's|Fantasy</td>\n",
              "    </tr>\n",
              "    <tr>\n",
              "      <th>2</th>\n",
              "      <td>3</td>\n",
              "      <td>Grumpier Old Men (1995)</td>\n",
              "      <td>Comedy|Romance</td>\n",
              "    </tr>\n",
              "    <tr>\n",
              "      <th>3</th>\n",
              "      <td>4</td>\n",
              "      <td>Waiting to Exhale (1995)</td>\n",
              "      <td>Comedy|Drama</td>\n",
              "    </tr>\n",
              "    <tr>\n",
              "      <th>4</th>\n",
              "      <td>5</td>\n",
              "      <td>Father of the Bride Part II (1995)</td>\n",
              "      <td>Comedy</td>\n",
              "    </tr>\n",
              "  </tbody>\n",
              "</table>\n",
              "</div>"
            ],
            "text/plain": [
              "   movie_id                               title                        genres\n",
              "0         1                    Toy Story (1995)   Animation|Children's|Comedy\n",
              "1         2                      Jumanji (1995)  Adventure|Children's|Fantasy\n",
              "2         3             Grumpier Old Men (1995)                Comedy|Romance\n",
              "3         4            Waiting to Exhale (1995)                  Comedy|Drama\n",
              "4         5  Father of the Bride Part II (1995)                        Comedy"
            ]
          },
          "metadata": {
            "tags": []
          },
          "execution_count": 5
        }
      ]
    },
    {
      "cell_type": "code",
      "metadata": {
        "id": "Z0zyGdCUx6eI",
        "outputId": "1b063a78-bb4f-47f1-f716-69e69a8b82b3",
        "colab": {
          "base_uri": "https://localhost:8080/",
          "height": 271
        }
      },
      "source": [
        "ratings = pd.read_csv(ratings_file, sep='::',\n",
        "                      header=None, names=ratings_cols, encoding='cp1252')\n",
        "ratings.head()"
      ],
      "execution_count": 6,
      "outputs": [
        {
          "output_type": "stream",
          "text": [
            "/usr/local/lib/python3.6/dist-packages/ipykernel_launcher.py:2: ParserWarning: Falling back to the 'python' engine because the 'c' engine does not support regex separators (separators > 1 char and different from '\\s+' are interpreted as regex); you can avoid this warning by specifying engine='python'.\n",
            "  \n"
          ],
          "name": "stderr"
        },
        {
          "output_type": "execute_result",
          "data": {
            "text/html": [
              "<div>\n",
              "<style scoped>\n",
              "    .dataframe tbody tr th:only-of-type {\n",
              "        vertical-align: middle;\n",
              "    }\n",
              "\n",
              "    .dataframe tbody tr th {\n",
              "        vertical-align: top;\n",
              "    }\n",
              "\n",
              "    .dataframe thead th {\n",
              "        text-align: right;\n",
              "    }\n",
              "</style>\n",
              "<table border=\"1\" class=\"dataframe\">\n",
              "  <thead>\n",
              "    <tr style=\"text-align: right;\">\n",
              "      <th></th>\n",
              "      <th>user_id</th>\n",
              "      <th>movie_id</th>\n",
              "      <th>rating</th>\n",
              "      <th>timestamp</th>\n",
              "    </tr>\n",
              "  </thead>\n",
              "  <tbody>\n",
              "    <tr>\n",
              "      <th>0</th>\n",
              "      <td>1</td>\n",
              "      <td>1193</td>\n",
              "      <td>5</td>\n",
              "      <td>978300760</td>\n",
              "    </tr>\n",
              "    <tr>\n",
              "      <th>1</th>\n",
              "      <td>1</td>\n",
              "      <td>661</td>\n",
              "      <td>3</td>\n",
              "      <td>978302109</td>\n",
              "    </tr>\n",
              "    <tr>\n",
              "      <th>2</th>\n",
              "      <td>1</td>\n",
              "      <td>914</td>\n",
              "      <td>3</td>\n",
              "      <td>978301968</td>\n",
              "    </tr>\n",
              "    <tr>\n",
              "      <th>3</th>\n",
              "      <td>1</td>\n",
              "      <td>3408</td>\n",
              "      <td>4</td>\n",
              "      <td>978300275</td>\n",
              "    </tr>\n",
              "    <tr>\n",
              "      <th>4</th>\n",
              "      <td>1</td>\n",
              "      <td>2355</td>\n",
              "      <td>5</td>\n",
              "      <td>978824291</td>\n",
              "    </tr>\n",
              "  </tbody>\n",
              "</table>\n",
              "</div>"
            ],
            "text/plain": [
              "   user_id  movie_id  rating  timestamp\n",
              "0        1      1193       5  978300760\n",
              "1        1       661       3  978302109\n",
              "2        1       914       3  978301968\n",
              "3        1      3408       4  978300275\n",
              "4        1      2355       5  978824291"
            ]
          },
          "metadata": {
            "tags": []
          },
          "execution_count": 6
        }
      ]
    },
    {
      "cell_type": "code",
      "metadata": {
        "id": "RhprGJtVyL6O",
        "outputId": "05d57dd1-24ac-4b9a-c6db-9965248f0056",
        "colab": {
          "base_uri": "https://localhost:8080/",
          "height": 271
        }
      },
      "source": [
        "users = pd.read_csv(users_file, sep='::',\n",
        "                    header=None, names=users_cols, encoding='cp1252')\n",
        "users.head()"
      ],
      "execution_count": 7,
      "outputs": [
        {
          "output_type": "stream",
          "text": [
            "/usr/local/lib/python3.6/dist-packages/ipykernel_launcher.py:2: ParserWarning: Falling back to the 'python' engine because the 'c' engine does not support regex separators (separators > 1 char and different from '\\s+' are interpreted as regex); you can avoid this warning by specifying engine='python'.\n",
            "  \n"
          ],
          "name": "stderr"
        },
        {
          "output_type": "execute_result",
          "data": {
            "text/html": [
              "<div>\n",
              "<style scoped>\n",
              "    .dataframe tbody tr th:only-of-type {\n",
              "        vertical-align: middle;\n",
              "    }\n",
              "\n",
              "    .dataframe tbody tr th {\n",
              "        vertical-align: top;\n",
              "    }\n",
              "\n",
              "    .dataframe thead th {\n",
              "        text-align: right;\n",
              "    }\n",
              "</style>\n",
              "<table border=\"1\" class=\"dataframe\">\n",
              "  <thead>\n",
              "    <tr style=\"text-align: right;\">\n",
              "      <th></th>\n",
              "      <th>user_id</th>\n",
              "      <th>gender</th>\n",
              "      <th>age</th>\n",
              "      <th>occupation</th>\n",
              "      <th>zip_code</th>\n",
              "    </tr>\n",
              "  </thead>\n",
              "  <tbody>\n",
              "    <tr>\n",
              "      <th>0</th>\n",
              "      <td>1</td>\n",
              "      <td>F</td>\n",
              "      <td>1</td>\n",
              "      <td>10</td>\n",
              "      <td>48067</td>\n",
              "    </tr>\n",
              "    <tr>\n",
              "      <th>1</th>\n",
              "      <td>2</td>\n",
              "      <td>M</td>\n",
              "      <td>56</td>\n",
              "      <td>16</td>\n",
              "      <td>70072</td>\n",
              "    </tr>\n",
              "    <tr>\n",
              "      <th>2</th>\n",
              "      <td>3</td>\n",
              "      <td>M</td>\n",
              "      <td>25</td>\n",
              "      <td>15</td>\n",
              "      <td>55117</td>\n",
              "    </tr>\n",
              "    <tr>\n",
              "      <th>3</th>\n",
              "      <td>4</td>\n",
              "      <td>M</td>\n",
              "      <td>45</td>\n",
              "      <td>7</td>\n",
              "      <td>02460</td>\n",
              "    </tr>\n",
              "    <tr>\n",
              "      <th>4</th>\n",
              "      <td>5</td>\n",
              "      <td>M</td>\n",
              "      <td>25</td>\n",
              "      <td>20</td>\n",
              "      <td>55455</td>\n",
              "    </tr>\n",
              "  </tbody>\n",
              "</table>\n",
              "</div>"
            ],
            "text/plain": [
              "   user_id gender  age  occupation zip_code\n",
              "0        1      F    1          10    48067\n",
              "1        2      M   56          16    70072\n",
              "2        3      M   25          15    55117\n",
              "3        4      M   45           7    02460\n",
              "4        5      M   25          20    55455"
            ]
          },
          "metadata": {
            "tags": []
          },
          "execution_count": 7
        }
      ]
    },
    {
      "cell_type": "markdown",
      "metadata": {
        "id": "sTMGN_Czyj49"
      },
      "source": [
        "* ratings, users, movies를 merge"
      ]
    },
    {
      "cell_type": "code",
      "metadata": {
        "id": "8FyebbDdHvLt",
        "outputId": "d49ad720-fe7b-49db-8b2d-ce083e451d0e",
        "colab": {
          "base_uri": "https://localhost:8080/",
          "height": 38
        }
      },
      "source": [
        "ratings.shape"
      ],
      "execution_count": 8,
      "outputs": [
        {
          "output_type": "execute_result",
          "data": {
            "text/plain": [
              "(1000209, 4)"
            ]
          },
          "metadata": {
            "tags": []
          },
          "execution_count": 8
        }
      ]
    },
    {
      "cell_type": "code",
      "metadata": {
        "id": "Ufeb_RF9HypH",
        "outputId": "4e157896-9ca1-4f0e-8a76-c25b6ce4ed33",
        "colab": {
          "base_uri": "https://localhost:8080/",
          "height": 38
        }
      },
      "source": [
        "users.shape"
      ],
      "execution_count": 9,
      "outputs": [
        {
          "output_type": "execute_result",
          "data": {
            "text/plain": [
              "(6040, 5)"
            ]
          },
          "metadata": {
            "tags": []
          },
          "execution_count": 9
        }
      ]
    },
    {
      "cell_type": "code",
      "metadata": {
        "id": "lvA7b5xfH7Qf",
        "outputId": "f4b5f4c9-f037-460d-accb-bee1bcaae741",
        "colab": {
          "base_uri": "https://localhost:8080/",
          "height": 38
        }
      },
      "source": [
        "movies.shape"
      ],
      "execution_count": 10,
      "outputs": [
        {
          "output_type": "execute_result",
          "data": {
            "text/plain": [
              "(3883, 3)"
            ]
          },
          "metadata": {
            "tags": []
          },
          "execution_count": 10
        }
      ]
    },
    {
      "cell_type": "code",
      "metadata": {
        "id": "pKUtIjFKH9HY"
      },
      "source": [
        "data = pd.merge(left=pd.merge(left=ratings, right=users),\n",
        "                right=movies)"
      ],
      "execution_count": 11,
      "outputs": []
    },
    {
      "cell_type": "code",
      "metadata": {
        "id": "gHb6c099I6Lv",
        "outputId": "e6920727-ffb4-476f-92d7-43bef06feccf",
        "colab": {
          "base_uri": "https://localhost:8080/",
          "height": 210
        }
      },
      "source": [
        "data.head()"
      ],
      "execution_count": 12,
      "outputs": [
        {
          "output_type": "execute_result",
          "data": {
            "text/html": [
              "<div>\n",
              "<style scoped>\n",
              "    .dataframe tbody tr th:only-of-type {\n",
              "        vertical-align: middle;\n",
              "    }\n",
              "\n",
              "    .dataframe tbody tr th {\n",
              "        vertical-align: top;\n",
              "    }\n",
              "\n",
              "    .dataframe thead th {\n",
              "        text-align: right;\n",
              "    }\n",
              "</style>\n",
              "<table border=\"1\" class=\"dataframe\">\n",
              "  <thead>\n",
              "    <tr style=\"text-align: right;\">\n",
              "      <th></th>\n",
              "      <th>user_id</th>\n",
              "      <th>movie_id</th>\n",
              "      <th>rating</th>\n",
              "      <th>timestamp</th>\n",
              "      <th>gender</th>\n",
              "      <th>age</th>\n",
              "      <th>occupation</th>\n",
              "      <th>zip_code</th>\n",
              "      <th>title</th>\n",
              "      <th>genres</th>\n",
              "    </tr>\n",
              "  </thead>\n",
              "  <tbody>\n",
              "    <tr>\n",
              "      <th>0</th>\n",
              "      <td>1</td>\n",
              "      <td>1193</td>\n",
              "      <td>5</td>\n",
              "      <td>978300760</td>\n",
              "      <td>F</td>\n",
              "      <td>1</td>\n",
              "      <td>10</td>\n",
              "      <td>48067</td>\n",
              "      <td>One Flew Over the Cuckoo's Nest (1975)</td>\n",
              "      <td>Drama</td>\n",
              "    </tr>\n",
              "    <tr>\n",
              "      <th>1</th>\n",
              "      <td>2</td>\n",
              "      <td>1193</td>\n",
              "      <td>5</td>\n",
              "      <td>978298413</td>\n",
              "      <td>M</td>\n",
              "      <td>56</td>\n",
              "      <td>16</td>\n",
              "      <td>70072</td>\n",
              "      <td>One Flew Over the Cuckoo's Nest (1975)</td>\n",
              "      <td>Drama</td>\n",
              "    </tr>\n",
              "    <tr>\n",
              "      <th>2</th>\n",
              "      <td>12</td>\n",
              "      <td>1193</td>\n",
              "      <td>4</td>\n",
              "      <td>978220179</td>\n",
              "      <td>M</td>\n",
              "      <td>25</td>\n",
              "      <td>12</td>\n",
              "      <td>32793</td>\n",
              "      <td>One Flew Over the Cuckoo's Nest (1975)</td>\n",
              "      <td>Drama</td>\n",
              "    </tr>\n",
              "    <tr>\n",
              "      <th>3</th>\n",
              "      <td>15</td>\n",
              "      <td>1193</td>\n",
              "      <td>4</td>\n",
              "      <td>978199279</td>\n",
              "      <td>M</td>\n",
              "      <td>25</td>\n",
              "      <td>7</td>\n",
              "      <td>22903</td>\n",
              "      <td>One Flew Over the Cuckoo's Nest (1975)</td>\n",
              "      <td>Drama</td>\n",
              "    </tr>\n",
              "    <tr>\n",
              "      <th>4</th>\n",
              "      <td>17</td>\n",
              "      <td>1193</td>\n",
              "      <td>5</td>\n",
              "      <td>978158471</td>\n",
              "      <td>M</td>\n",
              "      <td>50</td>\n",
              "      <td>1</td>\n",
              "      <td>95350</td>\n",
              "      <td>One Flew Over the Cuckoo's Nest (1975)</td>\n",
              "      <td>Drama</td>\n",
              "    </tr>\n",
              "  </tbody>\n",
              "</table>\n",
              "</div>"
            ],
            "text/plain": [
              "   user_id  movie_id  ...                                   title  genres\n",
              "0        1      1193  ...  One Flew Over the Cuckoo's Nest (1975)   Drama\n",
              "1        2      1193  ...  One Flew Over the Cuckoo's Nest (1975)   Drama\n",
              "2       12      1193  ...  One Flew Over the Cuckoo's Nest (1975)   Drama\n",
              "3       15      1193  ...  One Flew Over the Cuckoo's Nest (1975)   Drama\n",
              "4       17      1193  ...  One Flew Over the Cuckoo's Nest (1975)   Drama\n",
              "\n",
              "[5 rows x 10 columns]"
            ]
          },
          "metadata": {
            "tags": []
          },
          "execution_count": 12
        }
      ]
    },
    {
      "cell_type": "code",
      "metadata": {
        "id": "TvibaQcxI7Qu",
        "outputId": "c6a6149a-32b9-41d3-9740-65af62282db7",
        "colab": {
          "base_uri": "https://localhost:8080/",
          "height": 229
        }
      },
      "source": [
        "data.tail()"
      ],
      "execution_count": 13,
      "outputs": [
        {
          "output_type": "execute_result",
          "data": {
            "text/html": [
              "<div>\n",
              "<style scoped>\n",
              "    .dataframe tbody tr th:only-of-type {\n",
              "        vertical-align: middle;\n",
              "    }\n",
              "\n",
              "    .dataframe tbody tr th {\n",
              "        vertical-align: top;\n",
              "    }\n",
              "\n",
              "    .dataframe thead th {\n",
              "        text-align: right;\n",
              "    }\n",
              "</style>\n",
              "<table border=\"1\" class=\"dataframe\">\n",
              "  <thead>\n",
              "    <tr style=\"text-align: right;\">\n",
              "      <th></th>\n",
              "      <th>user_id</th>\n",
              "      <th>movie_id</th>\n",
              "      <th>rating</th>\n",
              "      <th>timestamp</th>\n",
              "      <th>gender</th>\n",
              "      <th>age</th>\n",
              "      <th>occupation</th>\n",
              "      <th>zip_code</th>\n",
              "      <th>title</th>\n",
              "      <th>genres</th>\n",
              "    </tr>\n",
              "  </thead>\n",
              "  <tbody>\n",
              "    <tr>\n",
              "      <th>1000204</th>\n",
              "      <td>5949</td>\n",
              "      <td>2198</td>\n",
              "      <td>5</td>\n",
              "      <td>958846401</td>\n",
              "      <td>M</td>\n",
              "      <td>18</td>\n",
              "      <td>17</td>\n",
              "      <td>47901</td>\n",
              "      <td>Modulations (1998)</td>\n",
              "      <td>Documentary</td>\n",
              "    </tr>\n",
              "    <tr>\n",
              "      <th>1000205</th>\n",
              "      <td>5675</td>\n",
              "      <td>2703</td>\n",
              "      <td>3</td>\n",
              "      <td>976029116</td>\n",
              "      <td>M</td>\n",
              "      <td>35</td>\n",
              "      <td>14</td>\n",
              "      <td>30030</td>\n",
              "      <td>Broken Vessels (1998)</td>\n",
              "      <td>Drama</td>\n",
              "    </tr>\n",
              "    <tr>\n",
              "      <th>1000206</th>\n",
              "      <td>5780</td>\n",
              "      <td>2845</td>\n",
              "      <td>1</td>\n",
              "      <td>958153068</td>\n",
              "      <td>M</td>\n",
              "      <td>18</td>\n",
              "      <td>17</td>\n",
              "      <td>92886</td>\n",
              "      <td>White Boys (1999)</td>\n",
              "      <td>Drama</td>\n",
              "    </tr>\n",
              "    <tr>\n",
              "      <th>1000207</th>\n",
              "      <td>5851</td>\n",
              "      <td>3607</td>\n",
              "      <td>5</td>\n",
              "      <td>957756608</td>\n",
              "      <td>F</td>\n",
              "      <td>18</td>\n",
              "      <td>20</td>\n",
              "      <td>55410</td>\n",
              "      <td>One Little Indian (1973)</td>\n",
              "      <td>Comedy|Drama|Western</td>\n",
              "    </tr>\n",
              "    <tr>\n",
              "      <th>1000208</th>\n",
              "      <td>5938</td>\n",
              "      <td>2909</td>\n",
              "      <td>4</td>\n",
              "      <td>957273353</td>\n",
              "      <td>M</td>\n",
              "      <td>25</td>\n",
              "      <td>1</td>\n",
              "      <td>35401</td>\n",
              "      <td>Five Wives, Three Secretaries and Me (1998)</td>\n",
              "      <td>Documentary</td>\n",
              "    </tr>\n",
              "  </tbody>\n",
              "</table>\n",
              "</div>"
            ],
            "text/plain": [
              "         user_id  ...                genres\n",
              "1000204     5949  ...           Documentary\n",
              "1000205     5675  ...                 Drama\n",
              "1000206     5780  ...                 Drama\n",
              "1000207     5851  ...  Comedy|Drama|Western\n",
              "1000208     5938  ...           Documentary\n",
              "\n",
              "[5 rows x 10 columns]"
            ]
          },
          "metadata": {
            "tags": []
          },
          "execution_count": 13
        }
      ]
    },
    {
      "cell_type": "code",
      "metadata": {
        "id": "-oFiRcJhJMdm",
        "outputId": "afd80564-45d0-4e25-a9d6-70de3ab9e38b",
        "colab": {
          "base_uri": "https://localhost:8080/",
          "height": 38
        }
      },
      "source": [
        "data.shape"
      ],
      "execution_count": 14,
      "outputs": [
        {
          "output_type": "execute_result",
          "data": {
            "text/plain": [
              "(1000209, 10)"
            ]
          },
          "metadata": {
            "tags": []
          },
          "execution_count": 14
        }
      ]
    },
    {
      "cell_type": "markdown",
      "metadata": {
        "id": "Rknd42-dJrMo"
      },
      "source": [
        "* 평점 평균이 높은 순서로 10개의 영화 제목"
      ]
    },
    {
      "cell_type": "code",
      "metadata": {
        "id": "8hZdRvQKJT3n",
        "outputId": "06480ece-0341-4d04-c4e2-0aa314c9379a",
        "colab": {
          "base_uri": "https://localhost:8080/",
          "height": 465
        }
      },
      "source": [
        "# 영화 제목별 평점(rating)의 평균 -> 정렬 -> 상위 10개\n",
        "rating_by_title = data.groupby('title')[['rating']].mean()\n",
        "rating_by_title"
      ],
      "execution_count": 15,
      "outputs": [
        {
          "output_type": "execute_result",
          "data": {
            "text/html": [
              "<div>\n",
              "<style scoped>\n",
              "    .dataframe tbody tr th:only-of-type {\n",
              "        vertical-align: middle;\n",
              "    }\n",
              "\n",
              "    .dataframe tbody tr th {\n",
              "        vertical-align: top;\n",
              "    }\n",
              "\n",
              "    .dataframe thead th {\n",
              "        text-align: right;\n",
              "    }\n",
              "</style>\n",
              "<table border=\"1\" class=\"dataframe\">\n",
              "  <thead>\n",
              "    <tr style=\"text-align: right;\">\n",
              "      <th></th>\n",
              "      <th>rating</th>\n",
              "    </tr>\n",
              "    <tr>\n",
              "      <th>title</th>\n",
              "      <th></th>\n",
              "    </tr>\n",
              "  </thead>\n",
              "  <tbody>\n",
              "    <tr>\n",
              "      <th>$1,000,000 Duck (1971)</th>\n",
              "      <td>3.027027</td>\n",
              "    </tr>\n",
              "    <tr>\n",
              "      <th>'Night Mother (1986)</th>\n",
              "      <td>3.371429</td>\n",
              "    </tr>\n",
              "    <tr>\n",
              "      <th>'Til There Was You (1997)</th>\n",
              "      <td>2.692308</td>\n",
              "    </tr>\n",
              "    <tr>\n",
              "      <th>'burbs, The (1989)</th>\n",
              "      <td>2.910891</td>\n",
              "    </tr>\n",
              "    <tr>\n",
              "      <th>...And Justice for All (1979)</th>\n",
              "      <td>3.713568</td>\n",
              "    </tr>\n",
              "    <tr>\n",
              "      <th>...</th>\n",
              "      <td>...</td>\n",
              "    </tr>\n",
              "    <tr>\n",
              "      <th>Zed &amp; Two Noughts, A (1985)</th>\n",
              "      <td>3.413793</td>\n",
              "    </tr>\n",
              "    <tr>\n",
              "      <th>Zero Effect (1998)</th>\n",
              "      <td>3.750831</td>\n",
              "    </tr>\n",
              "    <tr>\n",
              "      <th>Zero Kelvin (Kjærlighetens kjøtere) (1995)</th>\n",
              "      <td>3.500000</td>\n",
              "    </tr>\n",
              "    <tr>\n",
              "      <th>Zeus and Roxanne (1997)</th>\n",
              "      <td>2.521739</td>\n",
              "    </tr>\n",
              "    <tr>\n",
              "      <th>eXistenZ (1999)</th>\n",
              "      <td>3.256098</td>\n",
              "    </tr>\n",
              "  </tbody>\n",
              "</table>\n",
              "<p>3706 rows × 1 columns</p>\n",
              "</div>"
            ],
            "text/plain": [
              "                                              rating\n",
              "title                                               \n",
              "$1,000,000 Duck (1971)                      3.027027\n",
              "'Night Mother (1986)                        3.371429\n",
              "'Til There Was You (1997)                   2.692308\n",
              "'burbs, The (1989)                          2.910891\n",
              "...And Justice for All (1979)               3.713568\n",
              "...                                              ...\n",
              "Zed & Two Noughts, A (1985)                 3.413793\n",
              "Zero Effect (1998)                          3.750831\n",
              "Zero Kelvin (Kjærlighetens kjøtere) (1995)  3.500000\n",
              "Zeus and Roxanne (1997)                     2.521739\n",
              "eXistenZ (1999)                             3.256098\n",
              "\n",
              "[3706 rows x 1 columns]"
            ]
          },
          "metadata": {
            "tags": []
          },
          "execution_count": 15
        }
      ]
    },
    {
      "cell_type": "code",
      "metadata": {
        "id": "tQeaHT7XMG_O",
        "outputId": "b9979b53-feb1-4934-fc85-0d379b70d256",
        "colab": {
          "base_uri": "https://localhost:8080/",
          "height": 402
        }
      },
      "source": [
        "rating_by_title.sort_values(by='rating', ascending=False).head(n=10)"
      ],
      "execution_count": 20,
      "outputs": [
        {
          "output_type": "execute_result",
          "data": {
            "text/html": [
              "<div>\n",
              "<style scoped>\n",
              "    .dataframe tbody tr th:only-of-type {\n",
              "        vertical-align: middle;\n",
              "    }\n",
              "\n",
              "    .dataframe tbody tr th {\n",
              "        vertical-align: top;\n",
              "    }\n",
              "\n",
              "    .dataframe thead th {\n",
              "        text-align: right;\n",
              "    }\n",
              "</style>\n",
              "<table border=\"1\" class=\"dataframe\">\n",
              "  <thead>\n",
              "    <tr style=\"text-align: right;\">\n",
              "      <th></th>\n",
              "      <th>rating</th>\n",
              "    </tr>\n",
              "    <tr>\n",
              "      <th>title</th>\n",
              "      <th></th>\n",
              "    </tr>\n",
              "  </thead>\n",
              "  <tbody>\n",
              "    <tr>\n",
              "      <th>Ulysses (Ulisse) (1954)</th>\n",
              "      <td>5.0</td>\n",
              "    </tr>\n",
              "    <tr>\n",
              "      <th>Lured (1947)</th>\n",
              "      <td>5.0</td>\n",
              "    </tr>\n",
              "    <tr>\n",
              "      <th>Follow the Bitch (1998)</th>\n",
              "      <td>5.0</td>\n",
              "    </tr>\n",
              "    <tr>\n",
              "      <th>Bittersweet Motel (2000)</th>\n",
              "      <td>5.0</td>\n",
              "    </tr>\n",
              "    <tr>\n",
              "      <th>Song of Freedom (1936)</th>\n",
              "      <td>5.0</td>\n",
              "    </tr>\n",
              "    <tr>\n",
              "      <th>One Little Indian (1973)</th>\n",
              "      <td>5.0</td>\n",
              "    </tr>\n",
              "    <tr>\n",
              "      <th>Smashing Time (1967)</th>\n",
              "      <td>5.0</td>\n",
              "    </tr>\n",
              "    <tr>\n",
              "      <th>Schlafes Bruder (Brother of Sleep) (1995)</th>\n",
              "      <td>5.0</td>\n",
              "    </tr>\n",
              "    <tr>\n",
              "      <th>Gate of Heavenly Peace, The (1995)</th>\n",
              "      <td>5.0</td>\n",
              "    </tr>\n",
              "    <tr>\n",
              "      <th>Baby, The (1973)</th>\n",
              "      <td>5.0</td>\n",
              "    </tr>\n",
              "  </tbody>\n",
              "</table>\n",
              "</div>"
            ],
            "text/plain": [
              "                                           rating\n",
              "title                                            \n",
              "Ulysses (Ulisse) (1954)                       5.0\n",
              "Lured (1947)                                  5.0\n",
              "Follow the Bitch (1998)                       5.0\n",
              "Bittersweet Motel (2000)                      5.0\n",
              "Song of Freedom (1936)                        5.0\n",
              "One Little Indian (1973)                      5.0\n",
              "Smashing Time (1967)                          5.0\n",
              "Schlafes Bruder (Brother of Sleep) (1995)     5.0\n",
              "Gate of Heavenly Peace, The (1995)            5.0\n",
              "Baby, The (1973)                              5.0"
            ]
          },
          "metadata": {
            "tags": []
          },
          "execution_count": 20
        }
      ]
    },
    {
      "cell_type": "markdown",
      "metadata": {
        "id": "RXCPgPUVKyfT"
      },
      "source": [
        "* 여성의 평점 평균이 높은 순서로 10개의 영화 제목"
      ]
    },
    {
      "cell_type": "code",
      "metadata": {
        "id": "hIvRGUtjK37m",
        "outputId": "381bea61-f4f7-40c2-de18-9752ea260c9c",
        "colab": {
          "base_uri": "https://localhost:8080/",
          "height": 465
        }
      },
      "source": [
        "rating_by_title_gender = data.pivot_table(values='rating',\n",
        "                                          index='title',\n",
        "                                          columns='gender')\n",
        "rating_by_title_gender"
      ],
      "execution_count": 21,
      "outputs": [
        {
          "output_type": "execute_result",
          "data": {
            "text/html": [
              "<div>\n",
              "<style scoped>\n",
              "    .dataframe tbody tr th:only-of-type {\n",
              "        vertical-align: middle;\n",
              "    }\n",
              "\n",
              "    .dataframe tbody tr th {\n",
              "        vertical-align: top;\n",
              "    }\n",
              "\n",
              "    .dataframe thead th {\n",
              "        text-align: right;\n",
              "    }\n",
              "</style>\n",
              "<table border=\"1\" class=\"dataframe\">\n",
              "  <thead>\n",
              "    <tr style=\"text-align: right;\">\n",
              "      <th>gender</th>\n",
              "      <th>F</th>\n",
              "      <th>M</th>\n",
              "    </tr>\n",
              "    <tr>\n",
              "      <th>title</th>\n",
              "      <th></th>\n",
              "      <th></th>\n",
              "    </tr>\n",
              "  </thead>\n",
              "  <tbody>\n",
              "    <tr>\n",
              "      <th>$1,000,000 Duck (1971)</th>\n",
              "      <td>3.375000</td>\n",
              "      <td>2.761905</td>\n",
              "    </tr>\n",
              "    <tr>\n",
              "      <th>'Night Mother (1986)</th>\n",
              "      <td>3.388889</td>\n",
              "      <td>3.352941</td>\n",
              "    </tr>\n",
              "    <tr>\n",
              "      <th>'Til There Was You (1997)</th>\n",
              "      <td>2.675676</td>\n",
              "      <td>2.733333</td>\n",
              "    </tr>\n",
              "    <tr>\n",
              "      <th>'burbs, The (1989)</th>\n",
              "      <td>2.793478</td>\n",
              "      <td>2.962085</td>\n",
              "    </tr>\n",
              "    <tr>\n",
              "      <th>...And Justice for All (1979)</th>\n",
              "      <td>3.828571</td>\n",
              "      <td>3.689024</td>\n",
              "    </tr>\n",
              "    <tr>\n",
              "      <th>...</th>\n",
              "      <td>...</td>\n",
              "      <td>...</td>\n",
              "    </tr>\n",
              "    <tr>\n",
              "      <th>Zed &amp; Two Noughts, A (1985)</th>\n",
              "      <td>3.500000</td>\n",
              "      <td>3.380952</td>\n",
              "    </tr>\n",
              "    <tr>\n",
              "      <th>Zero Effect (1998)</th>\n",
              "      <td>3.864407</td>\n",
              "      <td>3.723140</td>\n",
              "    </tr>\n",
              "    <tr>\n",
              "      <th>Zero Kelvin (Kjærlighetens kjøtere) (1995)</th>\n",
              "      <td>NaN</td>\n",
              "      <td>3.500000</td>\n",
              "    </tr>\n",
              "    <tr>\n",
              "      <th>Zeus and Roxanne (1997)</th>\n",
              "      <td>2.777778</td>\n",
              "      <td>2.357143</td>\n",
              "    </tr>\n",
              "    <tr>\n",
              "      <th>eXistenZ (1999)</th>\n",
              "      <td>3.098592</td>\n",
              "      <td>3.289086</td>\n",
              "    </tr>\n",
              "  </tbody>\n",
              "</table>\n",
              "<p>3706 rows × 2 columns</p>\n",
              "</div>"
            ],
            "text/plain": [
              "gender                                             F         M\n",
              "title                                                         \n",
              "$1,000,000 Duck (1971)                      3.375000  2.761905\n",
              "'Night Mother (1986)                        3.388889  3.352941\n",
              "'Til There Was You (1997)                   2.675676  2.733333\n",
              "'burbs, The (1989)                          2.793478  2.962085\n",
              "...And Justice for All (1979)               3.828571  3.689024\n",
              "...                                              ...       ...\n",
              "Zed & Two Noughts, A (1985)                 3.500000  3.380952\n",
              "Zero Effect (1998)                          3.864407  3.723140\n",
              "Zero Kelvin (Kjærlighetens kjøtere) (1995)       NaN  3.500000\n",
              "Zeus and Roxanne (1997)                     2.777778  2.357143\n",
              "eXistenZ (1999)                             3.098592  3.289086\n",
              "\n",
              "[3706 rows x 2 columns]"
            ]
          },
          "metadata": {
            "tags": []
          },
          "execution_count": 21
        }
      ]
    },
    {
      "cell_type": "code",
      "metadata": {
        "id": "mOcHFUFMOQzv",
        "outputId": "7d366c90-0a75-4cef-a562-7c0c83560d12",
        "colab": {
          "base_uri": "https://localhost:8080/",
          "height": 266
        }
      },
      "source": [
        "rating_by_title_gender['F'].sort_values(ascending=False).head(n=10)"
      ],
      "execution_count": 27,
      "outputs": [
        {
          "output_type": "execute_result",
          "data": {
            "text/plain": [
              "title\n",
              "Lamerica (1994)                                     5.0\n",
              "Brother, Can You Spare a Dime? (1975)               5.0\n",
              "Other Side of Sunday, The (Søndagsengler) (1996)    5.0\n",
              "Ayn Rand: A Sense of Life (1997)                    5.0\n",
              "For the Moment (1994)                               5.0\n",
              "Country Life (1994)                                 5.0\n",
              "Belly (1998)                                        5.0\n",
              "Clean Slate (Coup de Torchon) (1981)                5.0\n",
              "Woman of Paris, A (1923)                            5.0\n",
              "Coldblooded (1995)                                  5.0\n",
              "Name: F, dtype: float64"
            ]
          },
          "metadata": {
            "tags": []
          },
          "execution_count": 27
        }
      ]
    },
    {
      "cell_type": "markdown",
      "metadata": {
        "id": "it8WSc2AK42g"
      },
      "source": [
        "* 남성의 평점 평균이 높은 순서로 10개의 영화 제목"
      ]
    },
    {
      "cell_type": "code",
      "metadata": {
        "id": "OG4xNKLGK8FF",
        "outputId": "a15bbf04-f681-4081-f35d-761b8e38ab10",
        "colab": {
          "base_uri": "https://localhost:8080/",
          "height": 402
        }
      },
      "source": [
        "rating_by_title_gender[['M']].sort_values(by='M', ascending=False).head(n=10)"
      ],
      "execution_count": 29,
      "outputs": [
        {
          "output_type": "execute_result",
          "data": {
            "text/html": [
              "<div>\n",
              "<style scoped>\n",
              "    .dataframe tbody tr th:only-of-type {\n",
              "        vertical-align: middle;\n",
              "    }\n",
              "\n",
              "    .dataframe tbody tr th {\n",
              "        vertical-align: top;\n",
              "    }\n",
              "\n",
              "    .dataframe thead th {\n",
              "        text-align: right;\n",
              "    }\n",
              "</style>\n",
              "<table border=\"1\" class=\"dataframe\">\n",
              "  <thead>\n",
              "    <tr style=\"text-align: right;\">\n",
              "      <th>gender</th>\n",
              "      <th>M</th>\n",
              "    </tr>\n",
              "    <tr>\n",
              "      <th>title</th>\n",
              "      <th></th>\n",
              "    </tr>\n",
              "  </thead>\n",
              "  <tbody>\n",
              "    <tr>\n",
              "      <th>Schlafes Bruder (Brother of Sleep) (1995)</th>\n",
              "      <td>5.0</td>\n",
              "    </tr>\n",
              "    <tr>\n",
              "      <th>Small Wonders (1996)</th>\n",
              "      <td>5.0</td>\n",
              "    </tr>\n",
              "    <tr>\n",
              "      <th>Gate of Heavenly Peace, The (1995)</th>\n",
              "      <td>5.0</td>\n",
              "    </tr>\n",
              "    <tr>\n",
              "      <th>Baby, The (1973)</th>\n",
              "      <td>5.0</td>\n",
              "    </tr>\n",
              "    <tr>\n",
              "      <th>Ulysses (Ulisse) (1954)</th>\n",
              "      <td>5.0</td>\n",
              "    </tr>\n",
              "    <tr>\n",
              "      <th>Dangerous Game (1993)</th>\n",
              "      <td>5.0</td>\n",
              "    </tr>\n",
              "    <tr>\n",
              "      <th>Angela (1995)</th>\n",
              "      <td>5.0</td>\n",
              "    </tr>\n",
              "    <tr>\n",
              "      <th>Bells, The (1926)</th>\n",
              "      <td>5.0</td>\n",
              "    </tr>\n",
              "    <tr>\n",
              "      <th>Smashing Time (1967)</th>\n",
              "      <td>5.0</td>\n",
              "    </tr>\n",
              "    <tr>\n",
              "      <th>Follow the Bitch (1998)</th>\n",
              "      <td>5.0</td>\n",
              "    </tr>\n",
              "  </tbody>\n",
              "</table>\n",
              "</div>"
            ],
            "text/plain": [
              "gender                                       M\n",
              "title                                         \n",
              "Schlafes Bruder (Brother of Sleep) (1995)  5.0\n",
              "Small Wonders (1996)                       5.0\n",
              "Gate of Heavenly Peace, The (1995)         5.0\n",
              "Baby, The (1973)                           5.0\n",
              "Ulysses (Ulisse) (1954)                    5.0\n",
              "Dangerous Game (1993)                      5.0\n",
              "Angela (1995)                              5.0\n",
              "Bells, The (1926)                          5.0\n",
              "Smashing Time (1967)                       5.0\n",
              "Follow the Bitch (1998)                    5.0"
            ]
          },
          "metadata": {
            "tags": []
          },
          "execution_count": 29
        }
      ]
    },
    {
      "cell_type": "markdown",
      "metadata": {
        "id": "pVOCRoYCTFdE"
      },
      "source": [
        "* data에서 title이 등장하는 횟수"
      ]
    },
    {
      "cell_type": "code",
      "metadata": {
        "id": "0WF2j6dVTPmi",
        "outputId": "971e6195-1953-43e3-d154-626c36c2e619",
        "colab": {
          "base_uri": "https://localhost:8080/",
          "height": 266
        }
      },
      "source": [
        "title_counts = data['title'].value_counts()\n",
        "title_counts  #> count의 내림차순으로 정렬"
      ],
      "execution_count": 31,
      "outputs": [
        {
          "output_type": "execute_result",
          "data": {
            "text/plain": [
              "American Beauty (1999)                                   3428\n",
              "Star Wars: Episode IV - A New Hope (1977)                2991\n",
              "Star Wars: Episode V - The Empire Strikes Back (1980)    2990\n",
              "Star Wars: Episode VI - Return of the Jedi (1983)        2883\n",
              "Jurassic Park (1993)                                     2672\n",
              "                                                         ... \n",
              "Night Tide (1961)                                           1\n",
              "Open Season (1996)                                          1\n",
              "Small Faces (1995)                                          1\n",
              "Alley Cats, The (1968)                                      1\n",
              "Superweib, Das (1996)                                       1\n",
              "Name: title, Length: 3706, dtype: int64"
            ]
          },
          "metadata": {
            "tags": []
          },
          "execution_count": 31
        }
      ]
    },
    {
      "cell_type": "code",
      "metadata": {
        "id": "c5x3HelkT9v1",
        "outputId": "86d67eab-7ced-4fbb-ce18-73a0f40e965d",
        "colab": {
          "base_uri": "https://localhost:8080/",
          "height": 287
        }
      },
      "source": [
        "data.groupby('title').size()  #> index 오름차순 정렬"
      ],
      "execution_count": 32,
      "outputs": [
        {
          "output_type": "execute_result",
          "data": {
            "text/plain": [
              "title\n",
              "$1,000,000 Duck (1971)                         37\n",
              "'Night Mother (1986)                           70\n",
              "'Til There Was You (1997)                      52\n",
              "'burbs, The (1989)                            303\n",
              "...And Justice for All (1979)                 199\n",
              "                                             ... \n",
              "Zed & Two Noughts, A (1985)                    29\n",
              "Zero Effect (1998)                            301\n",
              "Zero Kelvin (Kjærlighetens kjøtere) (1995)      2\n",
              "Zeus and Roxanne (1997)                        23\n",
              "eXistenZ (1999)                               410\n",
              "Length: 3706, dtype: int64"
            ]
          },
          "metadata": {
            "tags": []
          },
          "execution_count": 32
        }
      ]
    },
    {
      "cell_type": "code",
      "metadata": {
        "id": "Oa6yXJw8UeoS",
        "outputId": "e366d5f6-4737-4034-cae6-cd2efdbfc386",
        "colab": {
          "base_uri": "https://localhost:8080/",
          "height": 287
        }
      },
      "source": [
        "data.groupby('title').size().sort_values(ascending=False)"
      ],
      "execution_count": 33,
      "outputs": [
        {
          "output_type": "execute_result",
          "data": {
            "text/plain": [
              "title\n",
              "American Beauty (1999)                                   3428\n",
              "Star Wars: Episode IV - A New Hope (1977)                2991\n",
              "Star Wars: Episode V - The Empire Strikes Back (1980)    2990\n",
              "Star Wars: Episode VI - Return of the Jedi (1983)        2883\n",
              "Jurassic Park (1993)                                     2672\n",
              "                                                         ... \n",
              "Anna (1996)                                                 1\n",
              "McCullochs, The (1975)                                      1\n",
              "Shadows (Cienie) (1988)                                     1\n",
              "Night Tide (1961)                                           1\n",
              "Another Man's Poison (1952)                                 1\n",
              "Length: 3706, dtype: int64"
            ]
          },
          "metadata": {
            "tags": []
          },
          "execution_count": 33
        }
      ]
    },
    {
      "cell_type": "code",
      "metadata": {
        "id": "t1iIt-X4VkD6",
        "outputId": "5b4a2726-c441-4721-b21b-10aa5fab989f",
        "colab": {
          "base_uri": "https://localhost:8080/",
          "height": 454
        }
      },
      "source": [
        "# 평점을 많이 받은 영화 상위 20개\n",
        "title_counts.head(n=20)"
      ],
      "execution_count": 34,
      "outputs": [
        {
          "output_type": "execute_result",
          "data": {
            "text/plain": [
              "American Beauty (1999)                                   3428\n",
              "Star Wars: Episode IV - A New Hope (1977)                2991\n",
              "Star Wars: Episode V - The Empire Strikes Back (1980)    2990\n",
              "Star Wars: Episode VI - Return of the Jedi (1983)        2883\n",
              "Jurassic Park (1993)                                     2672\n",
              "Saving Private Ryan (1998)                               2653\n",
              "Terminator 2: Judgment Day (1991)                        2649\n",
              "Matrix, The (1999)                                       2590\n",
              "Back to the Future (1985)                                2583\n",
              "Silence of the Lambs, The (1991)                         2578\n",
              "Men in Black (1997)                                      2538\n",
              "Raiders of the Lost Ark (1981)                           2514\n",
              "Fargo (1996)                                             2513\n",
              "Sixth Sense, The (1999)                                  2459\n",
              "Braveheart (1995)                                        2443\n",
              "Shakespeare in Love (1998)                               2369\n",
              "Princess Bride, The (1987)                               2318\n",
              "Schindler's List (1993)                                  2304\n",
              "L.A. Confidential (1997)                                 2288\n",
              "Groundhog Day (1993)                                     2278\n",
              "Name: title, dtype: int64"
            ]
          },
          "metadata": {
            "tags": []
          },
          "execution_count": 34
        }
      ]
    },
    {
      "cell_type": "code",
      "metadata": {
        "id": "DOwD_P0-WYOS",
        "outputId": "1f54d0fe-be49-40bb-e659-0915ed13fe71",
        "colab": {
          "base_uri": "https://localhost:8080/",
          "height": 204
        }
      },
      "source": [
        "title_counts.describe()"
      ],
      "execution_count": 35,
      "outputs": [
        {
          "output_type": "execute_result",
          "data": {
            "text/plain": [
              "count    3706.000000\n",
              "mean      269.889099\n",
              "std       384.047838\n",
              "min         1.000000\n",
              "25%        33.000000\n",
              "50%       123.500000\n",
              "75%       350.000000\n",
              "max      3428.000000\n",
              "Name: title, dtype: float64"
            ]
          },
          "metadata": {
            "tags": []
          },
          "execution_count": 35
        }
      ]
    },
    {
      "cell_type": "markdown",
      "metadata": {
        "id": "V5Cv5S0ZYAHR"
      },
      "source": [
        "* title_counts에서 카운트 횟수가 350회 이상인 영화 제목들을 선택"
      ]
    },
    {
      "cell_type": "code",
      "metadata": {
        "id": "-dqiZI_gX4OC",
        "outputId": "5c814eaa-83fe-485f-e844-d7216edefdfc",
        "colab": {
          "base_uri": "https://localhost:8080/",
          "height": 308
        }
      },
      "source": [
        "indexer = title_counts.index[title_counts >= 350]\n",
        "indexer  #> 사용자(user) 350명 이상으로부터 별점을 받은 영화들"
      ],
      "execution_count": 39,
      "outputs": [
        {
          "output_type": "execute_result",
          "data": {
            "text/plain": [
              "Index(['American Beauty (1999)', 'Star Wars: Episode IV - A New Hope (1977)',\n",
              "       'Star Wars: Episode V - The Empire Strikes Back (1980)',\n",
              "       'Star Wars: Episode VI - Return of the Jedi (1983)',\n",
              "       'Jurassic Park (1993)', 'Saving Private Ryan (1998)',\n",
              "       'Terminator 2: Judgment Day (1991)', 'Matrix, The (1999)',\n",
              "       'Back to the Future (1985)', 'Silence of the Lambs, The (1991)',\n",
              "       ...\n",
              "       'St. Elmo's Fire (1985)', 'Beverly Hills Cop III (1994)',\n",
              "       'Longest Day, The (1962)', 'Amistad (1997)', 'Local Hero (1983)',\n",
              "       'Shall We Dance? (Shall We Dansu?) (1996)',\n",
              "       'Guess Who's Coming to Dinner (1967)', 'Super Mario Bros. (1993)',\n",
              "       'River Wild, The (1994)',\n",
              "       'Englishman Who Went Up a Hill, But Came Down a Mountain, The (1995)'],\n",
              "      dtype='object', length=931)"
            ]
          },
          "metadata": {
            "tags": []
          },
          "execution_count": 39
        }
      ]
    },
    {
      "cell_type": "code",
      "metadata": {
        "id": "PvTjfCjCY6-T",
        "outputId": "62069927-fdd7-47f8-e97d-db7162e4b07f",
        "colab": {
          "base_uri": "https://localhost:8080/",
          "height": 433
        }
      },
      "source": [
        "rating_by_title_gender.loc[indexer]"
      ],
      "execution_count": 44,
      "outputs": [
        {
          "output_type": "execute_result",
          "data": {
            "text/html": [
              "<div>\n",
              "<style scoped>\n",
              "    .dataframe tbody tr th:only-of-type {\n",
              "        vertical-align: middle;\n",
              "    }\n",
              "\n",
              "    .dataframe tbody tr th {\n",
              "        vertical-align: top;\n",
              "    }\n",
              "\n",
              "    .dataframe thead th {\n",
              "        text-align: right;\n",
              "    }\n",
              "</style>\n",
              "<table border=\"1\" class=\"dataframe\">\n",
              "  <thead>\n",
              "    <tr style=\"text-align: right;\">\n",
              "      <th>gender</th>\n",
              "      <th>F</th>\n",
              "      <th>M</th>\n",
              "    </tr>\n",
              "  </thead>\n",
              "  <tbody>\n",
              "    <tr>\n",
              "      <th>American Beauty (1999)</th>\n",
              "      <td>4.238901</td>\n",
              "      <td>4.347301</td>\n",
              "    </tr>\n",
              "    <tr>\n",
              "      <th>Star Wars: Episode IV - A New Hope (1977)</th>\n",
              "      <td>4.302937</td>\n",
              "      <td>4.495307</td>\n",
              "    </tr>\n",
              "    <tr>\n",
              "      <th>Star Wars: Episode V - The Empire Strikes Back (1980)</th>\n",
              "      <td>4.106481</td>\n",
              "      <td>4.344577</td>\n",
              "    </tr>\n",
              "    <tr>\n",
              "      <th>Star Wars: Episode VI - Return of the Jedi (1983)</th>\n",
              "      <td>3.865237</td>\n",
              "      <td>4.069058</td>\n",
              "    </tr>\n",
              "    <tr>\n",
              "      <th>Jurassic Park (1993)</th>\n",
              "      <td>3.579407</td>\n",
              "      <td>3.814197</td>\n",
              "    </tr>\n",
              "    <tr>\n",
              "      <th>...</th>\n",
              "      <td>...</td>\n",
              "      <td>...</td>\n",
              "    </tr>\n",
              "    <tr>\n",
              "      <th>Shall We Dance? (Shall We Dansu?) (1996)</th>\n",
              "      <td>4.087248</td>\n",
              "      <td>4.174129</td>\n",
              "    </tr>\n",
              "    <tr>\n",
              "      <th>Guess Who's Coming to Dinner (1967)</th>\n",
              "      <td>3.946429</td>\n",
              "      <td>3.907563</td>\n",
              "    </tr>\n",
              "    <tr>\n",
              "      <th>Super Mario Bros. (1993)</th>\n",
              "      <td>2.163636</td>\n",
              "      <td>1.820339</td>\n",
              "    </tr>\n",
              "    <tr>\n",
              "      <th>River Wild, The (1994)</th>\n",
              "      <td>3.418605</td>\n",
              "      <td>3.189394</td>\n",
              "    </tr>\n",
              "    <tr>\n",
              "      <th>Englishman Who Went Up a Hill, But Came Down a Mountain, The (1995)</th>\n",
              "      <td>3.314286</td>\n",
              "      <td>3.242857</td>\n",
              "    </tr>\n",
              "  </tbody>\n",
              "</table>\n",
              "<p>931 rows × 2 columns</p>\n",
              "</div>"
            ],
            "text/plain": [
              "gender                                                     F         M\n",
              "American Beauty (1999)                              4.238901  4.347301\n",
              "Star Wars: Episode IV - A New Hope (1977)           4.302937  4.495307\n",
              "Star Wars: Episode V - The Empire Strikes Back ...  4.106481  4.344577\n",
              "Star Wars: Episode VI - Return of the Jedi (1983)   3.865237  4.069058\n",
              "Jurassic Park (1993)                                3.579407  3.814197\n",
              "...                                                      ...       ...\n",
              "Shall We Dance? (Shall We Dansu?) (1996)            4.087248  4.174129\n",
              "Guess Who's Coming to Dinner (1967)                 3.946429  3.907563\n",
              "Super Mario Bros. (1993)                            2.163636  1.820339\n",
              "River Wild, The (1994)                              3.418605  3.189394\n",
              "Englishman Who Went Up a Hill, But Came Down a ...  3.314286  3.242857\n",
              "\n",
              "[931 rows x 2 columns]"
            ]
          },
          "metadata": {
            "tags": []
          },
          "execution_count": 44
        }
      ]
    },
    {
      "cell_type": "code",
      "metadata": {
        "id": "TLEugOd_aBHB",
        "outputId": "91044333-5b9c-4d1a-bf33-ee6f2efc8068",
        "colab": {
          "base_uri": "https://localhost:8080/",
          "height": 561
        }
      },
      "source": [
        "data_with_index = data.set_index('title').loc[indexer]\n",
        "data_with_index  #> 350명 이상의 사용자에게 평점을 받은 영화들"
      ],
      "execution_count": 48,
      "outputs": [
        {
          "output_type": "execute_result",
          "data": {
            "text/html": [
              "<div>\n",
              "<style scoped>\n",
              "    .dataframe tbody tr th:only-of-type {\n",
              "        vertical-align: middle;\n",
              "    }\n",
              "\n",
              "    .dataframe tbody tr th {\n",
              "        vertical-align: top;\n",
              "    }\n",
              "\n",
              "    .dataframe thead th {\n",
              "        text-align: right;\n",
              "    }\n",
              "</style>\n",
              "<table border=\"1\" class=\"dataframe\">\n",
              "  <thead>\n",
              "    <tr style=\"text-align: right;\">\n",
              "      <th></th>\n",
              "      <th>user_id</th>\n",
              "      <th>movie_id</th>\n",
              "      <th>rating</th>\n",
              "      <th>timestamp</th>\n",
              "      <th>gender</th>\n",
              "      <th>age</th>\n",
              "      <th>occupation</th>\n",
              "      <th>zip_code</th>\n",
              "      <th>genres</th>\n",
              "    </tr>\n",
              "    <tr>\n",
              "      <th>title</th>\n",
              "      <th></th>\n",
              "      <th></th>\n",
              "      <th></th>\n",
              "      <th></th>\n",
              "      <th></th>\n",
              "      <th></th>\n",
              "      <th></th>\n",
              "      <th></th>\n",
              "      <th></th>\n",
              "    </tr>\n",
              "  </thead>\n",
              "  <tbody>\n",
              "    <tr>\n",
              "      <th>American Beauty (1999)</th>\n",
              "      <td>2</td>\n",
              "      <td>2858</td>\n",
              "      <td>4</td>\n",
              "      <td>978298434</td>\n",
              "      <td>M</td>\n",
              "      <td>56</td>\n",
              "      <td>16</td>\n",
              "      <td>70072</td>\n",
              "      <td>Comedy|Drama</td>\n",
              "    </tr>\n",
              "    <tr>\n",
              "      <th>American Beauty (1999)</th>\n",
              "      <td>3</td>\n",
              "      <td>2858</td>\n",
              "      <td>4</td>\n",
              "      <td>978297039</td>\n",
              "      <td>M</td>\n",
              "      <td>25</td>\n",
              "      <td>15</td>\n",
              "      <td>55117</td>\n",
              "      <td>Comedy|Drama</td>\n",
              "    </tr>\n",
              "    <tr>\n",
              "      <th>American Beauty (1999)</th>\n",
              "      <td>5</td>\n",
              "      <td>2858</td>\n",
              "      <td>4</td>\n",
              "      <td>978241390</td>\n",
              "      <td>M</td>\n",
              "      <td>25</td>\n",
              "      <td>20</td>\n",
              "      <td>55455</td>\n",
              "      <td>Comedy|Drama</td>\n",
              "    </tr>\n",
              "    <tr>\n",
              "      <th>American Beauty (1999)</th>\n",
              "      <td>6</td>\n",
              "      <td>2858</td>\n",
              "      <td>1</td>\n",
              "      <td>978236809</td>\n",
              "      <td>F</td>\n",
              "      <td>50</td>\n",
              "      <td>9</td>\n",
              "      <td>55117</td>\n",
              "      <td>Comedy|Drama</td>\n",
              "    </tr>\n",
              "    <tr>\n",
              "      <th>American Beauty (1999)</th>\n",
              "      <td>8</td>\n",
              "      <td>2858</td>\n",
              "      <td>5</td>\n",
              "      <td>978229817</td>\n",
              "      <td>M</td>\n",
              "      <td>25</td>\n",
              "      <td>12</td>\n",
              "      <td>11413</td>\n",
              "      <td>Comedy|Drama</td>\n",
              "    </tr>\n",
              "    <tr>\n",
              "      <th>...</th>\n",
              "      <td>...</td>\n",
              "      <td>...</td>\n",
              "      <td>...</td>\n",
              "      <td>...</td>\n",
              "      <td>...</td>\n",
              "      <td>...</td>\n",
              "      <td>...</td>\n",
              "      <td>...</td>\n",
              "      <td>...</td>\n",
              "    </tr>\n",
              "    <tr>\n",
              "      <th>Englishman Who Went Up a Hill, But Came Down a Mountain, The (1995)</th>\n",
              "      <td>5963</td>\n",
              "      <td>468</td>\n",
              "      <td>4</td>\n",
              "      <td>957020663</td>\n",
              "      <td>M</td>\n",
              "      <td>25</td>\n",
              "      <td>15</td>\n",
              "      <td>02140</td>\n",
              "      <td>Comedy|Romance</td>\n",
              "    </tr>\n",
              "    <tr>\n",
              "      <th>Englishman Who Went Up a Hill, But Came Down a Mountain, The (1995)</th>\n",
              "      <td>5972</td>\n",
              "      <td>468</td>\n",
              "      <td>5</td>\n",
              "      <td>963615018</td>\n",
              "      <td>F</td>\n",
              "      <td>25</td>\n",
              "      <td>20</td>\n",
              "      <td>55428</td>\n",
              "      <td>Comedy|Romance</td>\n",
              "    </tr>\n",
              "    <tr>\n",
              "      <th>Englishman Who Went Up a Hill, But Came Down a Mountain, The (1995)</th>\n",
              "      <td>6000</td>\n",
              "      <td>468</td>\n",
              "      <td>3</td>\n",
              "      <td>956881606</td>\n",
              "      <td>M</td>\n",
              "      <td>45</td>\n",
              "      <td>17</td>\n",
              "      <td>30075</td>\n",
              "      <td>Comedy|Romance</td>\n",
              "    </tr>\n",
              "    <tr>\n",
              "      <th>Englishman Who Went Up a Hill, But Came Down a Mountain, The (1995)</th>\n",
              "      <td>6016</td>\n",
              "      <td>468</td>\n",
              "      <td>3</td>\n",
              "      <td>956785576</td>\n",
              "      <td>M</td>\n",
              "      <td>45</td>\n",
              "      <td>1</td>\n",
              "      <td>37209</td>\n",
              "      <td>Comedy|Romance</td>\n",
              "    </tr>\n",
              "    <tr>\n",
              "      <th>Englishman Who Went Up a Hill, But Came Down a Mountain, The (1995)</th>\n",
              "      <td>6025</td>\n",
              "      <td>468</td>\n",
              "      <td>3</td>\n",
              "      <td>956731564</td>\n",
              "      <td>F</td>\n",
              "      <td>25</td>\n",
              "      <td>1</td>\n",
              "      <td>32607</td>\n",
              "      <td>Comedy|Romance</td>\n",
              "    </tr>\n",
              "  </tbody>\n",
              "</table>\n",
              "<p>724825 rows × 9 columns</p>\n",
              "</div>"
            ],
            "text/plain": [
              "                                                    user_id  ...          genres\n",
              "title                                                        ...                \n",
              "American Beauty (1999)                                    2  ...    Comedy|Drama\n",
              "American Beauty (1999)                                    3  ...    Comedy|Drama\n",
              "American Beauty (1999)                                    5  ...    Comedy|Drama\n",
              "American Beauty (1999)                                    6  ...    Comedy|Drama\n",
              "American Beauty (1999)                                    8  ...    Comedy|Drama\n",
              "...                                                     ...  ...             ...\n",
              "Englishman Who Went Up a Hill, But Came Down a ...     5963  ...  Comedy|Romance\n",
              "Englishman Who Went Up a Hill, But Came Down a ...     5972  ...  Comedy|Romance\n",
              "Englishman Who Went Up a Hill, But Came Down a ...     6000  ...  Comedy|Romance\n",
              "Englishman Who Went Up a Hill, But Came Down a ...     6016  ...  Comedy|Romance\n",
              "Englishman Who Went Up a Hill, But Came Down a ...     6025  ...  Comedy|Romance\n",
              "\n",
              "[724825 rows x 9 columns]"
            ]
          },
          "metadata": {
            "tags": []
          },
          "execution_count": 48
        }
      ]
    },
    {
      "cell_type": "markdown",
      "metadata": {
        "id": "JgsiAJUTb9qS"
      },
      "source": [
        "* 350명 이상의 user들에게서 평점을 받은 영화들 중에서 여성의 평점 평균이 높은 상위 10개"
      ]
    },
    {
      "cell_type": "code",
      "metadata": {
        "id": "fZnJY8rsbJNZ",
        "outputId": "2fd9781e-0a34-46d4-e995-ec0d257bd39a",
        "colab": {
          "base_uri": "https://localhost:8080/",
          "height": 370
        }
      },
      "source": [
        "rating_by_title_gender.loc[indexer].sort_values(by='F', ascending=False).head(n=10)"
      ],
      "execution_count": 53,
      "outputs": [
        {
          "output_type": "execute_result",
          "data": {
            "text/html": [
              "<div>\n",
              "<style scoped>\n",
              "    .dataframe tbody tr th:only-of-type {\n",
              "        vertical-align: middle;\n",
              "    }\n",
              "\n",
              "    .dataframe tbody tr th {\n",
              "        vertical-align: top;\n",
              "    }\n",
              "\n",
              "    .dataframe thead th {\n",
              "        text-align: right;\n",
              "    }\n",
              "</style>\n",
              "<table border=\"1\" class=\"dataframe\">\n",
              "  <thead>\n",
              "    <tr style=\"text-align: right;\">\n",
              "      <th>gender</th>\n",
              "      <th>F</th>\n",
              "      <th>M</th>\n",
              "    </tr>\n",
              "  </thead>\n",
              "  <tbody>\n",
              "    <tr>\n",
              "      <th>Close Shave, A (1995)</th>\n",
              "      <td>4.644444</td>\n",
              "      <td>4.473795</td>\n",
              "    </tr>\n",
              "    <tr>\n",
              "      <th>Wrong Trousers, The (1993)</th>\n",
              "      <td>4.588235</td>\n",
              "      <td>4.478261</td>\n",
              "    </tr>\n",
              "    <tr>\n",
              "      <th>Sunset Blvd. (a.k.a. Sunset Boulevard) (1950)</th>\n",
              "      <td>4.572650</td>\n",
              "      <td>4.464589</td>\n",
              "    </tr>\n",
              "    <tr>\n",
              "      <th>Wallace &amp; Gromit: The Best of Aardman Animation (1996)</th>\n",
              "      <td>4.563107</td>\n",
              "      <td>4.385075</td>\n",
              "    </tr>\n",
              "    <tr>\n",
              "      <th>Schindler's List (1993)</th>\n",
              "      <td>4.562602</td>\n",
              "      <td>4.491415</td>\n",
              "    </tr>\n",
              "    <tr>\n",
              "      <th>Shawshank Redemption, The (1994)</th>\n",
              "      <td>4.539075</td>\n",
              "      <td>4.560625</td>\n",
              "    </tr>\n",
              "    <tr>\n",
              "      <th>Grand Day Out, A (1992)</th>\n",
              "      <td>4.537879</td>\n",
              "      <td>4.293255</td>\n",
              "    </tr>\n",
              "    <tr>\n",
              "      <th>To Kill a Mockingbird (1962)</th>\n",
              "      <td>4.536667</td>\n",
              "      <td>4.372611</td>\n",
              "    </tr>\n",
              "    <tr>\n",
              "      <th>Usual Suspects, The (1995)</th>\n",
              "      <td>4.513317</td>\n",
              "      <td>4.518248</td>\n",
              "    </tr>\n",
              "    <tr>\n",
              "      <th>It Happened One Night (1934)</th>\n",
              "      <td>4.500000</td>\n",
              "      <td>4.163934</td>\n",
              "    </tr>\n",
              "  </tbody>\n",
              "</table>\n",
              "</div>"
            ],
            "text/plain": [
              "gender                                                     F         M\n",
              "Close Shave, A (1995)                               4.644444  4.473795\n",
              "Wrong Trousers, The (1993)                          4.588235  4.478261\n",
              "Sunset Blvd. (a.k.a. Sunset Boulevard) (1950)       4.572650  4.464589\n",
              "Wallace & Gromit: The Best of Aardman Animation...  4.563107  4.385075\n",
              "Schindler's List (1993)                             4.562602  4.491415\n",
              "Shawshank Redemption, The (1994)                    4.539075  4.560625\n",
              "Grand Day Out, A (1992)                             4.537879  4.293255\n",
              "To Kill a Mockingbird (1962)                        4.536667  4.372611\n",
              "Usual Suspects, The (1995)                          4.513317  4.518248\n",
              "It Happened One Night (1934)                        4.500000  4.163934"
            ]
          },
          "metadata": {
            "tags": []
          },
          "execution_count": 53
        }
      ]
    },
    {
      "cell_type": "markdown",
      "metadata": {
        "id": "svQBkMPTcHmg"
      },
      "source": [
        "* 350명 이상의 user들에게서 평점을 받은 영화들 중에서 남성의 평점 평균이 높은 상위 10개"
      ]
    },
    {
      "cell_type": "code",
      "metadata": {
        "id": "GcBxN0rycNrd",
        "outputId": "61351487-d829-4697-f08d-f76b8ad6c65b",
        "colab": {
          "base_uri": "https://localhost:8080/",
          "height": 370
        }
      },
      "source": [
        "rating_by_title_gender.loc[indexer].sort_values(by='M', ascending=False).head(n=10)"
      ],
      "execution_count": 54,
      "outputs": [
        {
          "output_type": "execute_result",
          "data": {
            "text/html": [
              "<div>\n",
              "<style scoped>\n",
              "    .dataframe tbody tr th:only-of-type {\n",
              "        vertical-align: middle;\n",
              "    }\n",
              "\n",
              "    .dataframe tbody tr th {\n",
              "        vertical-align: top;\n",
              "    }\n",
              "\n",
              "    .dataframe thead th {\n",
              "        text-align: right;\n",
              "    }\n",
              "</style>\n",
              "<table border=\"1\" class=\"dataframe\">\n",
              "  <thead>\n",
              "    <tr style=\"text-align: right;\">\n",
              "      <th>gender</th>\n",
              "      <th>F</th>\n",
              "      <th>M</th>\n",
              "    </tr>\n",
              "  </thead>\n",
              "  <tbody>\n",
              "    <tr>\n",
              "      <th>Godfather, The (1972)</th>\n",
              "      <td>4.314700</td>\n",
              "      <td>4.583333</td>\n",
              "    </tr>\n",
              "    <tr>\n",
              "      <th>Seven Samurai (The Magnificent Seven) (Shichinin no samurai) (1954)</th>\n",
              "      <td>4.481132</td>\n",
              "      <td>4.576628</td>\n",
              "    </tr>\n",
              "    <tr>\n",
              "      <th>Shawshank Redemption, The (1994)</th>\n",
              "      <td>4.539075</td>\n",
              "      <td>4.560625</td>\n",
              "    </tr>\n",
              "    <tr>\n",
              "      <th>Raiders of the Lost Ark (1981)</th>\n",
              "      <td>4.332168</td>\n",
              "      <td>4.520597</td>\n",
              "    </tr>\n",
              "    <tr>\n",
              "      <th>Usual Suspects, The (1995)</th>\n",
              "      <td>4.513317</td>\n",
              "      <td>4.518248</td>\n",
              "    </tr>\n",
              "    <tr>\n",
              "      <th>Star Wars: Episode IV - A New Hope (1977)</th>\n",
              "      <td>4.302937</td>\n",
              "      <td>4.495307</td>\n",
              "    </tr>\n",
              "    <tr>\n",
              "      <th>Schindler's List (1993)</th>\n",
              "      <td>4.562602</td>\n",
              "      <td>4.491415</td>\n",
              "    </tr>\n",
              "    <tr>\n",
              "      <th>Wrong Trousers, The (1993)</th>\n",
              "      <td>4.588235</td>\n",
              "      <td>4.478261</td>\n",
              "    </tr>\n",
              "    <tr>\n",
              "      <th>Close Shave, A (1995)</th>\n",
              "      <td>4.644444</td>\n",
              "      <td>4.473795</td>\n",
              "    </tr>\n",
              "    <tr>\n",
              "      <th>Rear Window (1954)</th>\n",
              "      <td>4.484536</td>\n",
              "      <td>4.472991</td>\n",
              "    </tr>\n",
              "  </tbody>\n",
              "</table>\n",
              "</div>"
            ],
            "text/plain": [
              "gender                                                     F         M\n",
              "Godfather, The (1972)                               4.314700  4.583333\n",
              "Seven Samurai (The Magnificent Seven) (Shichini...  4.481132  4.576628\n",
              "Shawshank Redemption, The (1994)                    4.539075  4.560625\n",
              "Raiders of the Lost Ark (1981)                      4.332168  4.520597\n",
              "Usual Suspects, The (1995)                          4.513317  4.518248\n",
              "Star Wars: Episode IV - A New Hope (1977)           4.302937  4.495307\n",
              "Schindler's List (1993)                             4.562602  4.491415\n",
              "Wrong Trousers, The (1993)                          4.588235  4.478261\n",
              "Close Shave, A (1995)                               4.644444  4.473795\n",
              "Rear Window (1954)                                  4.484536  4.472991"
            ]
          },
          "metadata": {
            "tags": []
          },
          "execution_count": 54
        }
      ]
    },
    {
      "cell_type": "markdown",
      "metadata": {
        "id": "ikhRHtKUisVE"
      },
      "source": [
        "* 성별 영화 선호도 차이"
      ]
    },
    {
      "cell_type": "code",
      "metadata": {
        "id": "95z0Ti9GivFO",
        "outputId": "831df557-a797-4562-b428-08ebad90ef22",
        "colab": {
          "base_uri": "https://localhost:8080/",
          "height": 465
        }
      },
      "source": [
        "# 여성과 남성의 평점 평균의 차이를 파생변수로 추가.\n",
        "rating_by_title_gender['diff'] = rating_by_title_gender['F'] - rating_by_title_gender['M']\n",
        "rating_by_title_gender"
      ],
      "execution_count": 56,
      "outputs": [
        {
          "output_type": "execute_result",
          "data": {
            "text/html": [
              "<div>\n",
              "<style scoped>\n",
              "    .dataframe tbody tr th:only-of-type {\n",
              "        vertical-align: middle;\n",
              "    }\n",
              "\n",
              "    .dataframe tbody tr th {\n",
              "        vertical-align: top;\n",
              "    }\n",
              "\n",
              "    .dataframe thead th {\n",
              "        text-align: right;\n",
              "    }\n",
              "</style>\n",
              "<table border=\"1\" class=\"dataframe\">\n",
              "  <thead>\n",
              "    <tr style=\"text-align: right;\">\n",
              "      <th>gender</th>\n",
              "      <th>F</th>\n",
              "      <th>M</th>\n",
              "      <th>diff</th>\n",
              "    </tr>\n",
              "    <tr>\n",
              "      <th>title</th>\n",
              "      <th></th>\n",
              "      <th></th>\n",
              "      <th></th>\n",
              "    </tr>\n",
              "  </thead>\n",
              "  <tbody>\n",
              "    <tr>\n",
              "      <th>$1,000,000 Duck (1971)</th>\n",
              "      <td>3.375000</td>\n",
              "      <td>2.761905</td>\n",
              "      <td>0.613095</td>\n",
              "    </tr>\n",
              "    <tr>\n",
              "      <th>'Night Mother (1986)</th>\n",
              "      <td>3.388889</td>\n",
              "      <td>3.352941</td>\n",
              "      <td>0.035948</td>\n",
              "    </tr>\n",
              "    <tr>\n",
              "      <th>'Til There Was You (1997)</th>\n",
              "      <td>2.675676</td>\n",
              "      <td>2.733333</td>\n",
              "      <td>-0.057658</td>\n",
              "    </tr>\n",
              "    <tr>\n",
              "      <th>'burbs, The (1989)</th>\n",
              "      <td>2.793478</td>\n",
              "      <td>2.962085</td>\n",
              "      <td>-0.168607</td>\n",
              "    </tr>\n",
              "    <tr>\n",
              "      <th>...And Justice for All (1979)</th>\n",
              "      <td>3.828571</td>\n",
              "      <td>3.689024</td>\n",
              "      <td>0.139547</td>\n",
              "    </tr>\n",
              "    <tr>\n",
              "      <th>...</th>\n",
              "      <td>...</td>\n",
              "      <td>...</td>\n",
              "      <td>...</td>\n",
              "    </tr>\n",
              "    <tr>\n",
              "      <th>Zed &amp; Two Noughts, A (1985)</th>\n",
              "      <td>3.500000</td>\n",
              "      <td>3.380952</td>\n",
              "      <td>0.119048</td>\n",
              "    </tr>\n",
              "    <tr>\n",
              "      <th>Zero Effect (1998)</th>\n",
              "      <td>3.864407</td>\n",
              "      <td>3.723140</td>\n",
              "      <td>0.141266</td>\n",
              "    </tr>\n",
              "    <tr>\n",
              "      <th>Zero Kelvin (Kjærlighetens kjøtere) (1995)</th>\n",
              "      <td>NaN</td>\n",
              "      <td>3.500000</td>\n",
              "      <td>NaN</td>\n",
              "    </tr>\n",
              "    <tr>\n",
              "      <th>Zeus and Roxanne (1997)</th>\n",
              "      <td>2.777778</td>\n",
              "      <td>2.357143</td>\n",
              "      <td>0.420635</td>\n",
              "    </tr>\n",
              "    <tr>\n",
              "      <th>eXistenZ (1999)</th>\n",
              "      <td>3.098592</td>\n",
              "      <td>3.289086</td>\n",
              "      <td>-0.190494</td>\n",
              "    </tr>\n",
              "  </tbody>\n",
              "</table>\n",
              "<p>3706 rows × 3 columns</p>\n",
              "</div>"
            ],
            "text/plain": [
              "gender                                             F         M      diff\n",
              "title                                                                   \n",
              "$1,000,000 Duck (1971)                      3.375000  2.761905  0.613095\n",
              "'Night Mother (1986)                        3.388889  3.352941  0.035948\n",
              "'Til There Was You (1997)                   2.675676  2.733333 -0.057658\n",
              "'burbs, The (1989)                          2.793478  2.962085 -0.168607\n",
              "...And Justice for All (1979)               3.828571  3.689024  0.139547\n",
              "...                                              ...       ...       ...\n",
              "Zed & Two Noughts, A (1985)                 3.500000  3.380952  0.119048\n",
              "Zero Effect (1998)                          3.864407  3.723140  0.141266\n",
              "Zero Kelvin (Kjærlighetens kjøtere) (1995)       NaN  3.500000       NaN\n",
              "Zeus and Roxanne (1997)                     2.777778  2.357143  0.420635\n",
              "eXistenZ (1999)                             3.098592  3.289086 -0.190494\n",
              "\n",
              "[3706 rows x 3 columns]"
            ]
          },
          "metadata": {
            "tags": []
          },
          "execution_count": 56
        }
      ]
    },
    {
      "cell_type": "code",
      "metadata": {
        "id": "4AP1qa46jsqI",
        "outputId": "63bf7c9b-2d11-41f2-9fcd-cb156a737ce8",
        "colab": {
          "base_uri": "https://localhost:8080/",
          "height": 433
        }
      },
      "source": [
        "# 350명 이상의 평점을 받은 영화들\n",
        "active_titles = rating_by_title_gender.loc[indexer]\n",
        "active_titles"
      ],
      "execution_count": 58,
      "outputs": [
        {
          "output_type": "execute_result",
          "data": {
            "text/html": [
              "<div>\n",
              "<style scoped>\n",
              "    .dataframe tbody tr th:only-of-type {\n",
              "        vertical-align: middle;\n",
              "    }\n",
              "\n",
              "    .dataframe tbody tr th {\n",
              "        vertical-align: top;\n",
              "    }\n",
              "\n",
              "    .dataframe thead th {\n",
              "        text-align: right;\n",
              "    }\n",
              "</style>\n",
              "<table border=\"1\" class=\"dataframe\">\n",
              "  <thead>\n",
              "    <tr style=\"text-align: right;\">\n",
              "      <th>gender</th>\n",
              "      <th>F</th>\n",
              "      <th>M</th>\n",
              "      <th>diff</th>\n",
              "    </tr>\n",
              "  </thead>\n",
              "  <tbody>\n",
              "    <tr>\n",
              "      <th>American Beauty (1999)</th>\n",
              "      <td>4.238901</td>\n",
              "      <td>4.347301</td>\n",
              "      <td>-0.108400</td>\n",
              "    </tr>\n",
              "    <tr>\n",
              "      <th>Star Wars: Episode IV - A New Hope (1977)</th>\n",
              "      <td>4.302937</td>\n",
              "      <td>4.495307</td>\n",
              "      <td>-0.192371</td>\n",
              "    </tr>\n",
              "    <tr>\n",
              "      <th>Star Wars: Episode V - The Empire Strikes Back (1980)</th>\n",
              "      <td>4.106481</td>\n",
              "      <td>4.344577</td>\n",
              "      <td>-0.238096</td>\n",
              "    </tr>\n",
              "    <tr>\n",
              "      <th>Star Wars: Episode VI - Return of the Jedi (1983)</th>\n",
              "      <td>3.865237</td>\n",
              "      <td>4.069058</td>\n",
              "      <td>-0.203821</td>\n",
              "    </tr>\n",
              "    <tr>\n",
              "      <th>Jurassic Park (1993)</th>\n",
              "      <td>3.579407</td>\n",
              "      <td>3.814197</td>\n",
              "      <td>-0.234791</td>\n",
              "    </tr>\n",
              "    <tr>\n",
              "      <th>...</th>\n",
              "      <td>...</td>\n",
              "      <td>...</td>\n",
              "      <td>...</td>\n",
              "    </tr>\n",
              "    <tr>\n",
              "      <th>Shall We Dance? (Shall We Dansu?) (1996)</th>\n",
              "      <td>4.087248</td>\n",
              "      <td>4.174129</td>\n",
              "      <td>-0.086881</td>\n",
              "    </tr>\n",
              "    <tr>\n",
              "      <th>Guess Who's Coming to Dinner (1967)</th>\n",
              "      <td>3.946429</td>\n",
              "      <td>3.907563</td>\n",
              "      <td>0.038866</td>\n",
              "    </tr>\n",
              "    <tr>\n",
              "      <th>Super Mario Bros. (1993)</th>\n",
              "      <td>2.163636</td>\n",
              "      <td>1.820339</td>\n",
              "      <td>0.343297</td>\n",
              "    </tr>\n",
              "    <tr>\n",
              "      <th>River Wild, The (1994)</th>\n",
              "      <td>3.418605</td>\n",
              "      <td>3.189394</td>\n",
              "      <td>0.229211</td>\n",
              "    </tr>\n",
              "    <tr>\n",
              "      <th>Englishman Who Went Up a Hill, But Came Down a Mountain, The (1995)</th>\n",
              "      <td>3.314286</td>\n",
              "      <td>3.242857</td>\n",
              "      <td>0.071429</td>\n",
              "    </tr>\n",
              "  </tbody>\n",
              "</table>\n",
              "<p>931 rows × 3 columns</p>\n",
              "</div>"
            ],
            "text/plain": [
              "gender                                                     F  ...      diff\n",
              "American Beauty (1999)                              4.238901  ... -0.108400\n",
              "Star Wars: Episode IV - A New Hope (1977)           4.302937  ... -0.192371\n",
              "Star Wars: Episode V - The Empire Strikes Back ...  4.106481  ... -0.238096\n",
              "Star Wars: Episode VI - Return of the Jedi (1983)   3.865237  ... -0.203821\n",
              "Jurassic Park (1993)                                3.579407  ... -0.234791\n",
              "...                                                      ...  ...       ...\n",
              "Shall We Dance? (Shall We Dansu?) (1996)            4.087248  ... -0.086881\n",
              "Guess Who's Coming to Dinner (1967)                 3.946429  ...  0.038866\n",
              "Super Mario Bros. (1993)                            2.163636  ...  0.343297\n",
              "River Wild, The (1994)                              3.418605  ...  0.229211\n",
              "Englishman Who Went Up a Hill, But Came Down a ...  3.314286  ...  0.071429\n",
              "\n",
              "[931 rows x 3 columns]"
            ]
          },
          "metadata": {
            "tags": []
          },
          "execution_count": 58
        }
      ]
    },
    {
      "cell_type": "code",
      "metadata": {
        "id": "MiCDeu8Cj6uM",
        "outputId": "7a30a1f2-2ff2-448f-960e-4451886d819b",
        "colab": {
          "base_uri": "https://localhost:8080/",
          "height": 690
        }
      },
      "source": [
        "# 남녀 평점 차이가 큰 영화 상위 20개 - 여성들의 평점이 남성들의 평점보다 높은 상위 20개\n",
        "top_diff_female = active_titles.sort_values(by='diff', ascending=False).head(n=20)\n",
        "top_diff_female"
      ],
      "execution_count": 62,
      "outputs": [
        {
          "output_type": "execute_result",
          "data": {
            "text/html": [
              "<div>\n",
              "<style scoped>\n",
              "    .dataframe tbody tr th:only-of-type {\n",
              "        vertical-align: middle;\n",
              "    }\n",
              "\n",
              "    .dataframe tbody tr th {\n",
              "        vertical-align: top;\n",
              "    }\n",
              "\n",
              "    .dataframe thead th {\n",
              "        text-align: right;\n",
              "    }\n",
              "</style>\n",
              "<table border=\"1\" class=\"dataframe\">\n",
              "  <thead>\n",
              "    <tr style=\"text-align: right;\">\n",
              "      <th>gender</th>\n",
              "      <th>F</th>\n",
              "      <th>M</th>\n",
              "      <th>diff</th>\n",
              "    </tr>\n",
              "  </thead>\n",
              "  <tbody>\n",
              "    <tr>\n",
              "      <th>Dirty Dancing (1987)</th>\n",
              "      <td>3.790378</td>\n",
              "      <td>2.959596</td>\n",
              "      <td>0.830782</td>\n",
              "    </tr>\n",
              "    <tr>\n",
              "      <th>Jumpin' Jack Flash (1986)</th>\n",
              "      <td>3.254717</td>\n",
              "      <td>2.578358</td>\n",
              "      <td>0.676359</td>\n",
              "    </tr>\n",
              "    <tr>\n",
              "      <th>Grease (1978)</th>\n",
              "      <td>3.975265</td>\n",
              "      <td>3.367041</td>\n",
              "      <td>0.608224</td>\n",
              "    </tr>\n",
              "    <tr>\n",
              "      <th>Steel Magnolias (1989)</th>\n",
              "      <td>3.901734</td>\n",
              "      <td>3.365957</td>\n",
              "      <td>0.535777</td>\n",
              "    </tr>\n",
              "    <tr>\n",
              "      <th>Rocky Horror Picture Show, The (1975)</th>\n",
              "      <td>3.673016</td>\n",
              "      <td>3.160131</td>\n",
              "      <td>0.512885</td>\n",
              "    </tr>\n",
              "    <tr>\n",
              "      <th>Color Purple, The (1985)</th>\n",
              "      <td>4.158192</td>\n",
              "      <td>3.659341</td>\n",
              "      <td>0.498851</td>\n",
              "    </tr>\n",
              "    <tr>\n",
              "      <th>Little Shop of Horrors, The (1960)</th>\n",
              "      <td>3.650000</td>\n",
              "      <td>3.179688</td>\n",
              "      <td>0.470312</td>\n",
              "    </tr>\n",
              "    <tr>\n",
              "      <th>Mary Poppins (1964)</th>\n",
              "      <td>4.197740</td>\n",
              "      <td>3.730594</td>\n",
              "      <td>0.467147</td>\n",
              "    </tr>\n",
              "    <tr>\n",
              "      <th>Patch Adams (1998)</th>\n",
              "      <td>3.473282</td>\n",
              "      <td>3.008746</td>\n",
              "      <td>0.464536</td>\n",
              "    </tr>\n",
              "    <tr>\n",
              "      <th>Sound of Music, The (1965)</th>\n",
              "      <td>4.233677</td>\n",
              "      <td>3.783418</td>\n",
              "      <td>0.450259</td>\n",
              "    </tr>\n",
              "    <tr>\n",
              "      <th>Never Been Kissed (1999)</th>\n",
              "      <td>3.452174</td>\n",
              "      <td>3.002538</td>\n",
              "      <td>0.449636</td>\n",
              "    </tr>\n",
              "    <tr>\n",
              "      <th>Jewel of the Nile, The (1985)</th>\n",
              "      <td>3.494253</td>\n",
              "      <td>3.048096</td>\n",
              "      <td>0.446157</td>\n",
              "    </tr>\n",
              "    <tr>\n",
              "      <th>Gone with the Wind (1939)</th>\n",
              "      <td>4.269841</td>\n",
              "      <td>3.829371</td>\n",
              "      <td>0.440471</td>\n",
              "    </tr>\n",
              "    <tr>\n",
              "      <th>Hope Floats (1998)</th>\n",
              "      <td>3.206186</td>\n",
              "      <td>2.782383</td>\n",
              "      <td>0.423802</td>\n",
              "    </tr>\n",
              "    <tr>\n",
              "      <th>Beverly Hills Cop III (1994)</th>\n",
              "      <td>2.865385</td>\n",
              "      <td>2.443333</td>\n",
              "      <td>0.422051</td>\n",
              "    </tr>\n",
              "    <tr>\n",
              "      <th>Sense and Sensibility (1995)</th>\n",
              "      <td>4.233333</td>\n",
              "      <td>3.819277</td>\n",
              "      <td>0.414056</td>\n",
              "    </tr>\n",
              "    <tr>\n",
              "      <th>Pretty in Pink (1986)</th>\n",
              "      <td>3.619772</td>\n",
              "      <td>3.211628</td>\n",
              "      <td>0.408144</td>\n",
              "    </tr>\n",
              "    <tr>\n",
              "      <th>Emma (1996)</th>\n",
              "      <td>4.061151</td>\n",
              "      <td>3.654709</td>\n",
              "      <td>0.406443</td>\n",
              "    </tr>\n",
              "    <tr>\n",
              "      <th>Strictly Ballroom (1992)</th>\n",
              "      <td>4.174342</td>\n",
              "      <td>3.768817</td>\n",
              "      <td>0.405525</td>\n",
              "    </tr>\n",
              "    <tr>\n",
              "      <th>Ever After: A Cinderella Story (1998)</th>\n",
              "      <td>3.900000</td>\n",
              "      <td>3.505102</td>\n",
              "      <td>0.394898</td>\n",
              "    </tr>\n",
              "  </tbody>\n",
              "</table>\n",
              "</div>"
            ],
            "text/plain": [
              "gender                                        F         M      diff\n",
              "Dirty Dancing (1987)                   3.790378  2.959596  0.830782\n",
              "Jumpin' Jack Flash (1986)              3.254717  2.578358  0.676359\n",
              "Grease (1978)                          3.975265  3.367041  0.608224\n",
              "Steel Magnolias (1989)                 3.901734  3.365957  0.535777\n",
              "Rocky Horror Picture Show, The (1975)  3.673016  3.160131  0.512885\n",
              "Color Purple, The (1985)               4.158192  3.659341  0.498851\n",
              "Little Shop of Horrors, The (1960)     3.650000  3.179688  0.470312\n",
              "Mary Poppins (1964)                    4.197740  3.730594  0.467147\n",
              "Patch Adams (1998)                     3.473282  3.008746  0.464536\n",
              "Sound of Music, The (1965)             4.233677  3.783418  0.450259\n",
              "Never Been Kissed (1999)               3.452174  3.002538  0.449636\n",
              "Jewel of the Nile, The (1985)          3.494253  3.048096  0.446157\n",
              "Gone with the Wind (1939)              4.269841  3.829371  0.440471\n",
              "Hope Floats (1998)                     3.206186  2.782383  0.423802\n",
              "Beverly Hills Cop III (1994)           2.865385  2.443333  0.422051\n",
              "Sense and Sensibility (1995)           4.233333  3.819277  0.414056\n",
              "Pretty in Pink (1986)                  3.619772  3.211628  0.408144\n",
              "Emma (1996)                            4.061151  3.654709  0.406443\n",
              "Strictly Ballroom (1992)               4.174342  3.768817  0.405525\n",
              "Ever After: A Cinderella Story (1998)  3.900000  3.505102  0.394898"
            ]
          },
          "metadata": {
            "tags": []
          },
          "execution_count": 62
        }
      ]
    },
    {
      "cell_type": "code",
      "metadata": {
        "id": "osYkxBy-lfhW",
        "outputId": "662cf6b4-344b-483b-962d-29bf347911d9",
        "colab": {
          "base_uri": "https://localhost:8080/",
          "height": 690
        }
      },
      "source": [
        "# 남녀 평점 차이가 큰 영화 - 남성들이 더 높은 평점을 준 영화 상위 20개\n",
        "top_diff_male = active_titles.sort_values(by='diff').head(n=20)\n",
        "top_diff_male"
      ],
      "execution_count": 63,
      "outputs": [
        {
          "output_type": "execute_result",
          "data": {
            "text/html": [
              "<div>\n",
              "<style scoped>\n",
              "    .dataframe tbody tr th:only-of-type {\n",
              "        vertical-align: middle;\n",
              "    }\n",
              "\n",
              "    .dataframe tbody tr th {\n",
              "        vertical-align: top;\n",
              "    }\n",
              "\n",
              "    .dataframe thead th {\n",
              "        text-align: right;\n",
              "    }\n",
              "</style>\n",
              "<table border=\"1\" class=\"dataframe\">\n",
              "  <thead>\n",
              "    <tr style=\"text-align: right;\">\n",
              "      <th>gender</th>\n",
              "      <th>F</th>\n",
              "      <th>M</th>\n",
              "      <th>diff</th>\n",
              "    </tr>\n",
              "  </thead>\n",
              "  <tbody>\n",
              "    <tr>\n",
              "      <th>Good, The Bad and The Ugly, The (1966)</th>\n",
              "      <td>3.494949</td>\n",
              "      <td>4.221300</td>\n",
              "      <td>-0.726351</td>\n",
              "    </tr>\n",
              "    <tr>\n",
              "      <th>Dumb &amp; Dumber (1994)</th>\n",
              "      <td>2.697987</td>\n",
              "      <td>3.336595</td>\n",
              "      <td>-0.638608</td>\n",
              "    </tr>\n",
              "    <tr>\n",
              "      <th>Longest Day, The (1962)</th>\n",
              "      <td>3.411765</td>\n",
              "      <td>4.031447</td>\n",
              "      <td>-0.619682</td>\n",
              "    </tr>\n",
              "    <tr>\n",
              "      <th>Cable Guy, The (1996)</th>\n",
              "      <td>2.250000</td>\n",
              "      <td>2.863787</td>\n",
              "      <td>-0.613787</td>\n",
              "    </tr>\n",
              "    <tr>\n",
              "      <th>Evil Dead II (Dead By Dawn) (1987)</th>\n",
              "      <td>3.297297</td>\n",
              "      <td>3.909283</td>\n",
              "      <td>-0.611985</td>\n",
              "    </tr>\n",
              "    <tr>\n",
              "      <th>Rocky III (1982)</th>\n",
              "      <td>2.361702</td>\n",
              "      <td>2.943503</td>\n",
              "      <td>-0.581801</td>\n",
              "    </tr>\n",
              "    <tr>\n",
              "      <th>Caddyshack (1980)</th>\n",
              "      <td>3.396135</td>\n",
              "      <td>3.969737</td>\n",
              "      <td>-0.573602</td>\n",
              "    </tr>\n",
              "    <tr>\n",
              "      <th>Animal House (1978)</th>\n",
              "      <td>3.628906</td>\n",
              "      <td>4.167192</td>\n",
              "      <td>-0.538286</td>\n",
              "    </tr>\n",
              "    <tr>\n",
              "      <th>Exorcist, The (1973)</th>\n",
              "      <td>3.537634</td>\n",
              "      <td>4.067239</td>\n",
              "      <td>-0.529605</td>\n",
              "    </tr>\n",
              "    <tr>\n",
              "      <th>Rocky II (1979)</th>\n",
              "      <td>2.741379</td>\n",
              "      <td>3.242894</td>\n",
              "      <td>-0.501515</td>\n",
              "    </tr>\n",
              "    <tr>\n",
              "      <th>Beavis and Butt-head Do America (1996)</th>\n",
              "      <td>2.637363</td>\n",
              "      <td>3.135417</td>\n",
              "      <td>-0.498054</td>\n",
              "    </tr>\n",
              "    <tr>\n",
              "      <th>Big Trouble in Little China (1986)</th>\n",
              "      <td>2.987952</td>\n",
              "      <td>3.485030</td>\n",
              "      <td>-0.497078</td>\n",
              "    </tr>\n",
              "    <tr>\n",
              "      <th>From Dusk Till Dawn (1996)</th>\n",
              "      <td>2.735714</td>\n",
              "      <td>3.232558</td>\n",
              "      <td>-0.496844</td>\n",
              "    </tr>\n",
              "    <tr>\n",
              "      <th>Akira (1988)</th>\n",
              "      <td>3.511111</td>\n",
              "      <td>3.980344</td>\n",
              "      <td>-0.469233</td>\n",
              "    </tr>\n",
              "    <tr>\n",
              "      <th>Me, Myself and Irene (2000)</th>\n",
              "      <td>2.629310</td>\n",
              "      <td>3.096847</td>\n",
              "      <td>-0.467537</td>\n",
              "    </tr>\n",
              "    <tr>\n",
              "      <th>Kingpin (1996)</th>\n",
              "      <td>3.092308</td>\n",
              "      <td>3.557480</td>\n",
              "      <td>-0.465173</td>\n",
              "    </tr>\n",
              "    <tr>\n",
              "      <th>Reservoir Dogs (1992)</th>\n",
              "      <td>3.769231</td>\n",
              "      <td>4.213873</td>\n",
              "      <td>-0.444642</td>\n",
              "    </tr>\n",
              "    <tr>\n",
              "      <th>Raging Bull (1980)</th>\n",
              "      <td>3.831933</td>\n",
              "      <td>4.263441</td>\n",
              "      <td>-0.431508</td>\n",
              "    </tr>\n",
              "    <tr>\n",
              "      <th>South Park: Bigger, Longer and Uncut (1999)</th>\n",
              "      <td>3.422481</td>\n",
              "      <td>3.846686</td>\n",
              "      <td>-0.424206</td>\n",
              "    </tr>\n",
              "    <tr>\n",
              "      <th>Eyes Wide Shut (1999)</th>\n",
              "      <td>2.891213</td>\n",
              "      <td>3.305949</td>\n",
              "      <td>-0.414736</td>\n",
              "    </tr>\n",
              "  </tbody>\n",
              "</table>\n",
              "</div>"
            ],
            "text/plain": [
              "gender                                              F         M      diff\n",
              "Good, The Bad and The Ugly, The (1966)       3.494949  4.221300 -0.726351\n",
              "Dumb & Dumber (1994)                         2.697987  3.336595 -0.638608\n",
              "Longest Day, The (1962)                      3.411765  4.031447 -0.619682\n",
              "Cable Guy, The (1996)                        2.250000  2.863787 -0.613787\n",
              "Evil Dead II (Dead By Dawn) (1987)           3.297297  3.909283 -0.611985\n",
              "Rocky III (1982)                             2.361702  2.943503 -0.581801\n",
              "Caddyshack (1980)                            3.396135  3.969737 -0.573602\n",
              "Animal House (1978)                          3.628906  4.167192 -0.538286\n",
              "Exorcist, The (1973)                         3.537634  4.067239 -0.529605\n",
              "Rocky II (1979)                              2.741379  3.242894 -0.501515\n",
              "Beavis and Butt-head Do America (1996)       2.637363  3.135417 -0.498054\n",
              "Big Trouble in Little China (1986)           2.987952  3.485030 -0.497078\n",
              "From Dusk Till Dawn (1996)                   2.735714  3.232558 -0.496844\n",
              "Akira (1988)                                 3.511111  3.980344 -0.469233\n",
              "Me, Myself and Irene (2000)                  2.629310  3.096847 -0.467537\n",
              "Kingpin (1996)                               3.092308  3.557480 -0.465173\n",
              "Reservoir Dogs (1992)                        3.769231  4.213873 -0.444642\n",
              "Raging Bull (1980)                           3.831933  4.263441 -0.431508\n",
              "South Park: Bigger, Longer and Uncut (1999)  3.422481  3.846686 -0.424206\n",
              "Eyes Wide Shut (1999)                        2.891213  3.305949 -0.414736"
            ]
          },
          "metadata": {
            "tags": []
          },
          "execution_count": 63
        }
      ]
    },
    {
      "cell_type": "markdown",
      "metadata": {
        "id": "PapFuYdnm0Ms"
      },
      "source": [
        "* 남녀 평점 차이가 큰 영화들에서, 여성들이 높은 평점을 준 상위 20개 영화에 자주 등장하는 장르 5개를 찾아보세요."
      ]
    },
    {
      "cell_type": "code",
      "metadata": {
        "id": "YrkkuV3sllnR",
        "outputId": "3177c5e9-d4b6-4618-b09f-0b8e0cae5926",
        "colab": {
          "base_uri": "https://localhost:8080/",
          "height": 225
        }
      },
      "source": [
        "female_titles = top_diff_female.index\n",
        "female_titles  # 여성들이 남성들보다 더 선호하는 영화 제목 20개"
      ],
      "execution_count": 68,
      "outputs": [
        {
          "output_type": "execute_result",
          "data": {
            "text/plain": [
              "Index(['Dirty Dancing (1987)', 'Jumpin' Jack Flash (1986)', 'Grease (1978)',\n",
              "       'Steel Magnolias (1989)', 'Rocky Horror Picture Show, The (1975)',\n",
              "       'Color Purple, The (1985)', 'Little Shop of Horrors, The (1960)',\n",
              "       'Mary Poppins (1964)', 'Patch Adams (1998)',\n",
              "       'Sound of Music, The (1965)', 'Never Been Kissed (1999)',\n",
              "       'Jewel of the Nile, The (1985)', 'Gone with the Wind (1939)',\n",
              "       'Hope Floats (1998)', 'Beverly Hills Cop III (1994)',\n",
              "       'Sense and Sensibility (1995)', 'Pretty in Pink (1986)', 'Emma (1996)',\n",
              "       'Strictly Ballroom (1992)', 'Ever After: A Cinderella Story (1998)'],\n",
              "      dtype='object')"
            ]
          },
          "metadata": {
            "tags": []
          },
          "execution_count": 68
        }
      ]
    },
    {
      "cell_type": "code",
      "metadata": {
        "id": "M63YAHOIwhw5",
        "outputId": "40608c75-c709-4015-afac-2f240de301b4",
        "colab": {
          "base_uri": "https://localhost:8080/",
          "height": 465
        }
      },
      "source": [
        "# movies 데이터 프레임에서 title 컬럼을 인덱스로 만듦.\n",
        "movies_with_title = movies.set_index('title')\n",
        "movies_with_title"
      ],
      "execution_count": 71,
      "outputs": [
        {
          "output_type": "execute_result",
          "data": {
            "text/html": [
              "<div>\n",
              "<style scoped>\n",
              "    .dataframe tbody tr th:only-of-type {\n",
              "        vertical-align: middle;\n",
              "    }\n",
              "\n",
              "    .dataframe tbody tr th {\n",
              "        vertical-align: top;\n",
              "    }\n",
              "\n",
              "    .dataframe thead th {\n",
              "        text-align: right;\n",
              "    }\n",
              "</style>\n",
              "<table border=\"1\" class=\"dataframe\">\n",
              "  <thead>\n",
              "    <tr style=\"text-align: right;\">\n",
              "      <th></th>\n",
              "      <th>movie_id</th>\n",
              "      <th>genres</th>\n",
              "    </tr>\n",
              "    <tr>\n",
              "      <th>title</th>\n",
              "      <th></th>\n",
              "      <th></th>\n",
              "    </tr>\n",
              "  </thead>\n",
              "  <tbody>\n",
              "    <tr>\n",
              "      <th>Toy Story (1995)</th>\n",
              "      <td>1</td>\n",
              "      <td>Animation|Children's|Comedy</td>\n",
              "    </tr>\n",
              "    <tr>\n",
              "      <th>Jumanji (1995)</th>\n",
              "      <td>2</td>\n",
              "      <td>Adventure|Children's|Fantasy</td>\n",
              "    </tr>\n",
              "    <tr>\n",
              "      <th>Grumpier Old Men (1995)</th>\n",
              "      <td>3</td>\n",
              "      <td>Comedy|Romance</td>\n",
              "    </tr>\n",
              "    <tr>\n",
              "      <th>Waiting to Exhale (1995)</th>\n",
              "      <td>4</td>\n",
              "      <td>Comedy|Drama</td>\n",
              "    </tr>\n",
              "    <tr>\n",
              "      <th>Father of the Bride Part II (1995)</th>\n",
              "      <td>5</td>\n",
              "      <td>Comedy</td>\n",
              "    </tr>\n",
              "    <tr>\n",
              "      <th>...</th>\n",
              "      <td>...</td>\n",
              "      <td>...</td>\n",
              "    </tr>\n",
              "    <tr>\n",
              "      <th>Meet the Parents (2000)</th>\n",
              "      <td>3948</td>\n",
              "      <td>Comedy</td>\n",
              "    </tr>\n",
              "    <tr>\n",
              "      <th>Requiem for a Dream (2000)</th>\n",
              "      <td>3949</td>\n",
              "      <td>Drama</td>\n",
              "    </tr>\n",
              "    <tr>\n",
              "      <th>Tigerland (2000)</th>\n",
              "      <td>3950</td>\n",
              "      <td>Drama</td>\n",
              "    </tr>\n",
              "    <tr>\n",
              "      <th>Two Family House (2000)</th>\n",
              "      <td>3951</td>\n",
              "      <td>Drama</td>\n",
              "    </tr>\n",
              "    <tr>\n",
              "      <th>Contender, The (2000)</th>\n",
              "      <td>3952</td>\n",
              "      <td>Drama|Thriller</td>\n",
              "    </tr>\n",
              "  </tbody>\n",
              "</table>\n",
              "<p>3883 rows × 2 columns</p>\n",
              "</div>"
            ],
            "text/plain": [
              "                                    movie_id                        genres\n",
              "title                                                                     \n",
              "Toy Story (1995)                           1   Animation|Children's|Comedy\n",
              "Jumanji (1995)                             2  Adventure|Children's|Fantasy\n",
              "Grumpier Old Men (1995)                    3                Comedy|Romance\n",
              "Waiting to Exhale (1995)                   4                  Comedy|Drama\n",
              "Father of the Bride Part II (1995)         5                        Comedy\n",
              "...                                      ...                           ...\n",
              "Meet the Parents (2000)                 3948                        Comedy\n",
              "Requiem for a Dream (2000)              3949                         Drama\n",
              "Tigerland (2000)                        3950                         Drama\n",
              "Two Family House (2000)                 3951                         Drama\n",
              "Contender, The (2000)                   3952                Drama|Thriller\n",
              "\n",
              "[3883 rows x 2 columns]"
            ]
          },
          "metadata": {
            "tags": []
          },
          "execution_count": 71
        }
      ]
    },
    {
      "cell_type": "code",
      "metadata": {
        "id": "sF9uEiLCxVE6",
        "outputId": "db9f6150-971c-4ad9-f2fe-8a4f881300e5",
        "colab": {
          "base_uri": "https://localhost:8080/",
          "height": 690
        }
      },
      "source": [
        "female_movies = movies_with_title.loc[female_titles]\n",
        "female_movies"
      ],
      "execution_count": 76,
      "outputs": [
        {
          "output_type": "execute_result",
          "data": {
            "text/html": [
              "<div>\n",
              "<style scoped>\n",
              "    .dataframe tbody tr th:only-of-type {\n",
              "        vertical-align: middle;\n",
              "    }\n",
              "\n",
              "    .dataframe tbody tr th {\n",
              "        vertical-align: top;\n",
              "    }\n",
              "\n",
              "    .dataframe thead th {\n",
              "        text-align: right;\n",
              "    }\n",
              "</style>\n",
              "<table border=\"1\" class=\"dataframe\">\n",
              "  <thead>\n",
              "    <tr style=\"text-align: right;\">\n",
              "      <th></th>\n",
              "      <th>movie_id</th>\n",
              "      <th>genres</th>\n",
              "    </tr>\n",
              "  </thead>\n",
              "  <tbody>\n",
              "    <tr>\n",
              "      <th>Dirty Dancing (1987)</th>\n",
              "      <td>1088</td>\n",
              "      <td>Musical|Romance</td>\n",
              "    </tr>\n",
              "    <tr>\n",
              "      <th>Jumpin' Jack Flash (1986)</th>\n",
              "      <td>2468</td>\n",
              "      <td>Action|Comedy|Romance|Thriller</td>\n",
              "    </tr>\n",
              "    <tr>\n",
              "      <th>Grease (1978)</th>\n",
              "      <td>1380</td>\n",
              "      <td>Comedy|Musical|Romance</td>\n",
              "    </tr>\n",
              "    <tr>\n",
              "      <th>Steel Magnolias (1989)</th>\n",
              "      <td>3844</td>\n",
              "      <td>Drama</td>\n",
              "    </tr>\n",
              "    <tr>\n",
              "      <th>Rocky Horror Picture Show, The (1975)</th>\n",
              "      <td>2657</td>\n",
              "      <td>Comedy|Horror|Musical|Sci-Fi</td>\n",
              "    </tr>\n",
              "    <tr>\n",
              "      <th>Color Purple, The (1985)</th>\n",
              "      <td>2739</td>\n",
              "      <td>Drama</td>\n",
              "    </tr>\n",
              "    <tr>\n",
              "      <th>Little Shop of Horrors, The (1960)</th>\n",
              "      <td>2747</td>\n",
              "      <td>Comedy|Horror</td>\n",
              "    </tr>\n",
              "    <tr>\n",
              "      <th>Mary Poppins (1964)</th>\n",
              "      <td>1028</td>\n",
              "      <td>Children's|Comedy|Musical</td>\n",
              "    </tr>\n",
              "    <tr>\n",
              "      <th>Patch Adams (1998)</th>\n",
              "      <td>2431</td>\n",
              "      <td>Comedy|Drama</td>\n",
              "    </tr>\n",
              "    <tr>\n",
              "      <th>Sound of Music, The (1965)</th>\n",
              "      <td>1035</td>\n",
              "      <td>Musical</td>\n",
              "    </tr>\n",
              "    <tr>\n",
              "      <th>Never Been Kissed (1999)</th>\n",
              "      <td>2581</td>\n",
              "      <td>Comedy|Romance</td>\n",
              "    </tr>\n",
              "    <tr>\n",
              "      <th>Jewel of the Nile, The (1985)</th>\n",
              "      <td>2405</td>\n",
              "      <td>Action|Adventure|Comedy|Romance</td>\n",
              "    </tr>\n",
              "    <tr>\n",
              "      <th>Gone with the Wind (1939)</th>\n",
              "      <td>920</td>\n",
              "      <td>Drama|Romance|War</td>\n",
              "    </tr>\n",
              "    <tr>\n",
              "      <th>Hope Floats (1998)</th>\n",
              "      <td>1888</td>\n",
              "      <td>Comedy|Drama|Romance</td>\n",
              "    </tr>\n",
              "    <tr>\n",
              "      <th>Beverly Hills Cop III (1994)</th>\n",
              "      <td>420</td>\n",
              "      <td>Action|Comedy</td>\n",
              "    </tr>\n",
              "    <tr>\n",
              "      <th>Sense and Sensibility (1995)</th>\n",
              "      <td>17</td>\n",
              "      <td>Drama|Romance</td>\n",
              "    </tr>\n",
              "    <tr>\n",
              "      <th>Pretty in Pink (1986)</th>\n",
              "      <td>2145</td>\n",
              "      <td>Comedy|Drama|Romance</td>\n",
              "    </tr>\n",
              "    <tr>\n",
              "      <th>Emma (1996)</th>\n",
              "      <td>838</td>\n",
              "      <td>Comedy|Drama|Romance</td>\n",
              "    </tr>\n",
              "    <tr>\n",
              "      <th>Strictly Ballroom (1992)</th>\n",
              "      <td>1188</td>\n",
              "      <td>Comedy|Romance</td>\n",
              "    </tr>\n",
              "    <tr>\n",
              "      <th>Ever After: A Cinderella Story (1998)</th>\n",
              "      <td>2125</td>\n",
              "      <td>Drama|Romance</td>\n",
              "    </tr>\n",
              "  </tbody>\n",
              "</table>\n",
              "</div>"
            ],
            "text/plain": [
              "                                       movie_id                           genres\n",
              "Dirty Dancing (1987)                       1088                  Musical|Romance\n",
              "Jumpin' Jack Flash (1986)                  2468   Action|Comedy|Romance|Thriller\n",
              "Grease (1978)                              1380           Comedy|Musical|Romance\n",
              "Steel Magnolias (1989)                     3844                            Drama\n",
              "Rocky Horror Picture Show, The (1975)      2657     Comedy|Horror|Musical|Sci-Fi\n",
              "Color Purple, The (1985)                   2739                            Drama\n",
              "Little Shop of Horrors, The (1960)         2747                    Comedy|Horror\n",
              "Mary Poppins (1964)                        1028        Children's|Comedy|Musical\n",
              "Patch Adams (1998)                         2431                     Comedy|Drama\n",
              "Sound of Music, The (1965)                 1035                          Musical\n",
              "Never Been Kissed (1999)                   2581                   Comedy|Romance\n",
              "Jewel of the Nile, The (1985)              2405  Action|Adventure|Comedy|Romance\n",
              "Gone with the Wind (1939)                   920                Drama|Romance|War\n",
              "Hope Floats (1998)                         1888             Comedy|Drama|Romance\n",
              "Beverly Hills Cop III (1994)                420                    Action|Comedy\n",
              "Sense and Sensibility (1995)                 17                    Drama|Romance\n",
              "Pretty in Pink (1986)                      2145             Comedy|Drama|Romance\n",
              "Emma (1996)                                 838             Comedy|Drama|Romance\n",
              "Strictly Ballroom (1992)                   1188                   Comedy|Romance\n",
              "Ever After: A Cinderella Story (1998)      2125                    Drama|Romance"
            ]
          },
          "metadata": {
            "tags": []
          },
          "execution_count": 76
        }
      ]
    },
    {
      "cell_type": "code",
      "metadata": {
        "id": "bP8rkkK_yq30",
        "outputId": "ead11b4f-a490-4913-b249-4e6cd9787f61",
        "colab": {
          "base_uri": "https://localhost:8080/",
          "height": 266
        }
      },
      "source": [
        "# 장르들을 저장할 리스트\n",
        "female_genres = []\n",
        "for genres in female_movies['genres']:\n",
        "    # print(genres)\n",
        "    # print(genres.split(sep='|'))\n",
        "    female_genres.extend(genres.split(sep='|'))\n",
        "\n",
        "female_genres = pd.Series(female_genres)\n",
        "female_genres.value_counts()"
      ],
      "execution_count": 84,
      "outputs": [
        {
          "output_type": "execute_result",
          "data": {
            "text/plain": [
              "Comedy        13\n",
              "Romance       12\n",
              "Drama          9\n",
              "Musical        5\n",
              "Action         3\n",
              "Horror         2\n",
              "Children's     1\n",
              "Thriller       1\n",
              "Sci-Fi         1\n",
              "Adventure      1\n",
              "War            1\n",
              "dtype: int64"
            ]
          },
          "metadata": {
            "tags": []
          },
          "execution_count": 84
        }
      ]
    },
    {
      "cell_type": "markdown",
      "metadata": {
        "id": "cMjnk422m-UE"
      },
      "source": [
        "* 남녀 평점 차이가 큰 영화들에서, 남성들이 높은 평점을 준 상위 20개 영화에서 자주 등장하는 장르 5개를 찾아보세요."
      ]
    },
    {
      "cell_type": "code",
      "metadata": {
        "id": "iCyQYMb6nFV5",
        "outputId": "9f5e1549-0cd2-4d2f-82a3-68cc9d1b0496",
        "colab": {
          "base_uri": "https://localhost:8080/",
          "height": 225
        }
      },
      "source": [
        "male_titles = top_diff_male.index\n",
        "male_titles  # 남성들이 여성들보다 더 선호하는 영화 제목 20개"
      ],
      "execution_count": 69,
      "outputs": [
        {
          "output_type": "execute_result",
          "data": {
            "text/plain": [
              "Index(['Good, The Bad and The Ugly, The (1966)', 'Dumb & Dumber (1994)',\n",
              "       'Longest Day, The (1962)', 'Cable Guy, The (1996)',\n",
              "       'Evil Dead II (Dead By Dawn) (1987)', 'Rocky III (1982)',\n",
              "       'Caddyshack (1980)', 'Animal House (1978)', 'Exorcist, The (1973)',\n",
              "       'Rocky II (1979)', 'Beavis and Butt-head Do America (1996)',\n",
              "       'Big Trouble in Little China (1986)', 'From Dusk Till Dawn (1996)',\n",
              "       'Akira (1988)', 'Me, Myself and Irene (2000)', 'Kingpin (1996)',\n",
              "       'Reservoir Dogs (1992)', 'Raging Bull (1980)',\n",
              "       'South Park: Bigger, Longer and Uncut (1999)', 'Eyes Wide Shut (1999)'],\n",
              "      dtype='object')"
            ]
          },
          "metadata": {
            "tags": []
          },
          "execution_count": 69
        }
      ]
    },
    {
      "cell_type": "code",
      "metadata": {
        "id": "C1E3G3Gw0xs4",
        "outputId": "33068e14-9cd5-4ee4-f8c4-bc28122a6851",
        "colab": {
          "base_uri": "https://localhost:8080/",
          "height": 690
        }
      },
      "source": [
        "male_movies = movies_with_title.loc[male_titles]\n",
        "male_movies"
      ],
      "execution_count": 88,
      "outputs": [
        {
          "output_type": "execute_result",
          "data": {
            "text/html": [
              "<div>\n",
              "<style scoped>\n",
              "    .dataframe tbody tr th:only-of-type {\n",
              "        vertical-align: middle;\n",
              "    }\n",
              "\n",
              "    .dataframe tbody tr th {\n",
              "        vertical-align: top;\n",
              "    }\n",
              "\n",
              "    .dataframe thead th {\n",
              "        text-align: right;\n",
              "    }\n",
              "</style>\n",
              "<table border=\"1\" class=\"dataframe\">\n",
              "  <thead>\n",
              "    <tr style=\"text-align: right;\">\n",
              "      <th></th>\n",
              "      <th>movie_id</th>\n",
              "      <th>genres</th>\n",
              "    </tr>\n",
              "  </thead>\n",
              "  <tbody>\n",
              "    <tr>\n",
              "      <th>Good, The Bad and The Ugly, The (1966)</th>\n",
              "      <td>1201</td>\n",
              "      <td>Action|Western</td>\n",
              "    </tr>\n",
              "    <tr>\n",
              "      <th>Dumb &amp; Dumber (1994)</th>\n",
              "      <td>231</td>\n",
              "      <td>Comedy</td>\n",
              "    </tr>\n",
              "    <tr>\n",
              "      <th>Longest Day, The (1962)</th>\n",
              "      <td>3062</td>\n",
              "      <td>Action|Drama|War</td>\n",
              "    </tr>\n",
              "    <tr>\n",
              "      <th>Cable Guy, The (1996)</th>\n",
              "      <td>784</td>\n",
              "      <td>Comedy</td>\n",
              "    </tr>\n",
              "    <tr>\n",
              "      <th>Evil Dead II (Dead By Dawn) (1987)</th>\n",
              "      <td>1261</td>\n",
              "      <td>Action|Adventure|Comedy|Horror</td>\n",
              "    </tr>\n",
              "    <tr>\n",
              "      <th>Rocky III (1982)</th>\n",
              "      <td>2410</td>\n",
              "      <td>Action|Drama</td>\n",
              "    </tr>\n",
              "    <tr>\n",
              "      <th>Caddyshack (1980)</th>\n",
              "      <td>3552</td>\n",
              "      <td>Comedy</td>\n",
              "    </tr>\n",
              "    <tr>\n",
              "      <th>Animal House (1978)</th>\n",
              "      <td>3421</td>\n",
              "      <td>Comedy</td>\n",
              "    </tr>\n",
              "    <tr>\n",
              "      <th>Exorcist, The (1973)</th>\n",
              "      <td>1997</td>\n",
              "      <td>Horror</td>\n",
              "    </tr>\n",
              "    <tr>\n",
              "      <th>Rocky II (1979)</th>\n",
              "      <td>2409</td>\n",
              "      <td>Action|Drama</td>\n",
              "    </tr>\n",
              "    <tr>\n",
              "      <th>Beavis and Butt-head Do America (1996)</th>\n",
              "      <td>1405</td>\n",
              "      <td>Animation|Comedy</td>\n",
              "    </tr>\n",
              "    <tr>\n",
              "      <th>Big Trouble in Little China (1986)</th>\n",
              "      <td>3740</td>\n",
              "      <td>Action|Comedy</td>\n",
              "    </tr>\n",
              "    <tr>\n",
              "      <th>From Dusk Till Dawn (1996)</th>\n",
              "      <td>70</td>\n",
              "      <td>Action|Comedy|Crime|Horror|Thriller</td>\n",
              "    </tr>\n",
              "    <tr>\n",
              "      <th>Akira (1988)</th>\n",
              "      <td>1274</td>\n",
              "      <td>Adventure|Animation|Sci-Fi|Thriller</td>\n",
              "    </tr>\n",
              "    <tr>\n",
              "      <th>Me, Myself and Irene (2000)</th>\n",
              "      <td>3752</td>\n",
              "      <td>Comedy</td>\n",
              "    </tr>\n",
              "    <tr>\n",
              "      <th>Kingpin (1996)</th>\n",
              "      <td>785</td>\n",
              "      <td>Comedy</td>\n",
              "    </tr>\n",
              "    <tr>\n",
              "      <th>Reservoir Dogs (1992)</th>\n",
              "      <td>1089</td>\n",
              "      <td>Crime|Thriller</td>\n",
              "    </tr>\n",
              "    <tr>\n",
              "      <th>Raging Bull (1980)</th>\n",
              "      <td>1228</td>\n",
              "      <td>Drama</td>\n",
              "    </tr>\n",
              "    <tr>\n",
              "      <th>South Park: Bigger, Longer and Uncut (1999)</th>\n",
              "      <td>2700</td>\n",
              "      <td>Animation|Comedy</td>\n",
              "    </tr>\n",
              "    <tr>\n",
              "      <th>Eyes Wide Shut (1999)</th>\n",
              "      <td>2712</td>\n",
              "      <td>Drama</td>\n",
              "    </tr>\n",
              "  </tbody>\n",
              "</table>\n",
              "</div>"
            ],
            "text/plain": [
              "                                             movie_id                               genres\n",
              "Good, The Bad and The Ugly, The (1966)           1201                       Action|Western\n",
              "Dumb & Dumber (1994)                              231                               Comedy\n",
              "Longest Day, The (1962)                          3062                     Action|Drama|War\n",
              "Cable Guy, The (1996)                             784                               Comedy\n",
              "Evil Dead II (Dead By Dawn) (1987)               1261       Action|Adventure|Comedy|Horror\n",
              "Rocky III (1982)                                 2410                         Action|Drama\n",
              "Caddyshack (1980)                                3552                               Comedy\n",
              "Animal House (1978)                              3421                               Comedy\n",
              "Exorcist, The (1973)                             1997                               Horror\n",
              "Rocky II (1979)                                  2409                         Action|Drama\n",
              "Beavis and Butt-head Do America (1996)           1405                     Animation|Comedy\n",
              "Big Trouble in Little China (1986)               3740                        Action|Comedy\n",
              "From Dusk Till Dawn (1996)                         70  Action|Comedy|Crime|Horror|Thriller\n",
              "Akira (1988)                                     1274  Adventure|Animation|Sci-Fi|Thriller\n",
              "Me, Myself and Irene (2000)                      3752                               Comedy\n",
              "Kingpin (1996)                                    785                               Comedy\n",
              "Reservoir Dogs (1992)                            1089                       Crime|Thriller\n",
              "Raging Bull (1980)                               1228                                Drama\n",
              "South Park: Bigger, Longer and Uncut (1999)      2700                     Animation|Comedy\n",
              "Eyes Wide Shut (1999)                            2712                                Drama"
            ]
          },
          "metadata": {
            "tags": []
          },
          "execution_count": 88
        }
      ]
    },
    {
      "cell_type": "code",
      "metadata": {
        "id": "sBPr1V0g1UJN",
        "outputId": "a19eb104-799d-4d0a-a8ce-7f3a8c79870c",
        "colab": {
          "base_uri": "https://localhost:8080/",
          "height": 266
        }
      },
      "source": [
        "male_genres = []  # 남성들이 선호하는 장르들을 저장할 리스트\n",
        "for genres in male_movies['genres']:\n",
        "    # print(genres.split(sep='|'))\n",
        "    male_genres.extend(genres.split(sep='|'))\n",
        "\n",
        "male_genres = pd.Series(male_genres)\n",
        "male_genres.value_counts()"
      ],
      "execution_count": 92,
      "outputs": [
        {
          "output_type": "execute_result",
          "data": {
            "text/plain": [
              "Comedy       11\n",
              "Action        7\n",
              "Drama         5\n",
              "Horror        3\n",
              "Thriller      3\n",
              "Animation     3\n",
              "Crime         2\n",
              "Adventure     2\n",
              "Western       1\n",
              "Sci-Fi        1\n",
              "War           1\n",
              "dtype: int64"
            ]
          },
          "metadata": {
            "tags": []
          },
          "execution_count": 92
        }
      ]
    },
    {
      "cell_type": "code",
      "metadata": {
        "id": "BpaJHt7n3Ap_",
        "outputId": "53c3f61e-60ef-4412-e4de-457e50980214",
        "colab": {
          "base_uri": "https://localhost:8080/",
          "height": 690
        }
      },
      "source": [
        "top_diff_male.merge(right=movies, how='inner',\n",
        "                    left_index=True, right_on='title')"
      ],
      "execution_count": 95,
      "outputs": [
        {
          "output_type": "execute_result",
          "data": {
            "text/html": [
              "<div>\n",
              "<style scoped>\n",
              "    .dataframe tbody tr th:only-of-type {\n",
              "        vertical-align: middle;\n",
              "    }\n",
              "\n",
              "    .dataframe tbody tr th {\n",
              "        vertical-align: top;\n",
              "    }\n",
              "\n",
              "    .dataframe thead th {\n",
              "        text-align: right;\n",
              "    }\n",
              "</style>\n",
              "<table border=\"1\" class=\"dataframe\">\n",
              "  <thead>\n",
              "    <tr style=\"text-align: right;\">\n",
              "      <th></th>\n",
              "      <th>F</th>\n",
              "      <th>M</th>\n",
              "      <th>diff</th>\n",
              "      <th>movie_id</th>\n",
              "      <th>title</th>\n",
              "      <th>genres</th>\n",
              "    </tr>\n",
              "  </thead>\n",
              "  <tbody>\n",
              "    <tr>\n",
              "      <th>1183</th>\n",
              "      <td>3.494949</td>\n",
              "      <td>4.221300</td>\n",
              "      <td>-0.726351</td>\n",
              "      <td>1201</td>\n",
              "      <td>Good, The Bad and The Ugly, The (1966)</td>\n",
              "      <td>Action|Western</td>\n",
              "    </tr>\n",
              "    <tr>\n",
              "      <th>228</th>\n",
              "      <td>2.697987</td>\n",
              "      <td>3.336595</td>\n",
              "      <td>-0.638608</td>\n",
              "      <td>231</td>\n",
              "      <td>Dumb &amp; Dumber (1994)</td>\n",
              "      <td>Comedy</td>\n",
              "    </tr>\n",
              "    <tr>\n",
              "      <th>2993</th>\n",
              "      <td>3.411765</td>\n",
              "      <td>4.031447</td>\n",
              "      <td>-0.619682</td>\n",
              "      <td>3062</td>\n",
              "      <td>Longest Day, The (1962)</td>\n",
              "      <td>Action|Drama|War</td>\n",
              "    </tr>\n",
              "    <tr>\n",
              "      <th>774</th>\n",
              "      <td>2.250000</td>\n",
              "      <td>2.863787</td>\n",
              "      <td>-0.613787</td>\n",
              "      <td>784</td>\n",
              "      <td>Cable Guy, The (1996)</td>\n",
              "      <td>Comedy</td>\n",
              "    </tr>\n",
              "    <tr>\n",
              "      <th>1241</th>\n",
              "      <td>3.297297</td>\n",
              "      <td>3.909283</td>\n",
              "      <td>-0.611985</td>\n",
              "      <td>1261</td>\n",
              "      <td>Evil Dead II (Dead By Dawn) (1987)</td>\n",
              "      <td>Action|Adventure|Comedy|Horror</td>\n",
              "    </tr>\n",
              "    <tr>\n",
              "      <th>2341</th>\n",
              "      <td>2.361702</td>\n",
              "      <td>2.943503</td>\n",
              "      <td>-0.581801</td>\n",
              "      <td>2410</td>\n",
              "      <td>Rocky III (1982)</td>\n",
              "      <td>Action|Drama</td>\n",
              "    </tr>\n",
              "    <tr>\n",
              "      <th>3483</th>\n",
              "      <td>3.396135</td>\n",
              "      <td>3.969737</td>\n",
              "      <td>-0.573602</td>\n",
              "      <td>3552</td>\n",
              "      <td>Caddyshack (1980)</td>\n",
              "      <td>Comedy</td>\n",
              "    </tr>\n",
              "    <tr>\n",
              "      <th>3352</th>\n",
              "      <td>3.628906</td>\n",
              "      <td>4.167192</td>\n",
              "      <td>-0.538286</td>\n",
              "      <td>3421</td>\n",
              "      <td>Animal House (1978)</td>\n",
              "      <td>Comedy</td>\n",
              "    </tr>\n",
              "    <tr>\n",
              "      <th>1928</th>\n",
              "      <td>3.537634</td>\n",
              "      <td>4.067239</td>\n",
              "      <td>-0.529605</td>\n",
              "      <td>1997</td>\n",
              "      <td>Exorcist, The (1973)</td>\n",
              "      <td>Horror</td>\n",
              "    </tr>\n",
              "    <tr>\n",
              "      <th>2340</th>\n",
              "      <td>2.741379</td>\n",
              "      <td>3.242894</td>\n",
              "      <td>-0.501515</td>\n",
              "      <td>2409</td>\n",
              "      <td>Rocky II (1979)</td>\n",
              "      <td>Action|Drama</td>\n",
              "    </tr>\n",
              "    <tr>\n",
              "      <th>1382</th>\n",
              "      <td>2.637363</td>\n",
              "      <td>3.135417</td>\n",
              "      <td>-0.498054</td>\n",
              "      <td>1405</td>\n",
              "      <td>Beavis and Butt-head Do America (1996)</td>\n",
              "      <td>Animation|Comedy</td>\n",
              "    </tr>\n",
              "    <tr>\n",
              "      <th>3671</th>\n",
              "      <td>2.987952</td>\n",
              "      <td>3.485030</td>\n",
              "      <td>-0.497078</td>\n",
              "      <td>3740</td>\n",
              "      <td>Big Trouble in Little China (1986)</td>\n",
              "      <td>Action|Comedy</td>\n",
              "    </tr>\n",
              "    <tr>\n",
              "      <th>69</th>\n",
              "      <td>2.735714</td>\n",
              "      <td>3.232558</td>\n",
              "      <td>-0.496844</td>\n",
              "      <td>70</td>\n",
              "      <td>From Dusk Till Dawn (1996)</td>\n",
              "      <td>Action|Comedy|Crime|Horror|Thriller</td>\n",
              "    </tr>\n",
              "    <tr>\n",
              "      <th>1254</th>\n",
              "      <td>3.511111</td>\n",
              "      <td>3.980344</td>\n",
              "      <td>-0.469233</td>\n",
              "      <td>1274</td>\n",
              "      <td>Akira (1988)</td>\n",
              "      <td>Adventure|Animation|Sci-Fi|Thriller</td>\n",
              "    </tr>\n",
              "    <tr>\n",
              "      <th>3683</th>\n",
              "      <td>2.629310</td>\n",
              "      <td>3.096847</td>\n",
              "      <td>-0.467537</td>\n",
              "      <td>3752</td>\n",
              "      <td>Me, Myself and Irene (2000)</td>\n",
              "      <td>Comedy</td>\n",
              "    </tr>\n",
              "    <tr>\n",
              "      <th>775</th>\n",
              "      <td>3.092308</td>\n",
              "      <td>3.557480</td>\n",
              "      <td>-0.465173</td>\n",
              "      <td>785</td>\n",
              "      <td>Kingpin (1996)</td>\n",
              "      <td>Comedy</td>\n",
              "    </tr>\n",
              "    <tr>\n",
              "      <th>1073</th>\n",
              "      <td>3.769231</td>\n",
              "      <td>4.213873</td>\n",
              "      <td>-0.444642</td>\n",
              "      <td>1089</td>\n",
              "      <td>Reservoir Dogs (1992)</td>\n",
              "      <td>Crime|Thriller</td>\n",
              "    </tr>\n",
              "    <tr>\n",
              "      <th>1210</th>\n",
              "      <td>3.831933</td>\n",
              "      <td>4.263441</td>\n",
              "      <td>-0.431508</td>\n",
              "      <td>1228</td>\n",
              "      <td>Raging Bull (1980)</td>\n",
              "      <td>Drama</td>\n",
              "    </tr>\n",
              "    <tr>\n",
              "      <th>2631</th>\n",
              "      <td>3.422481</td>\n",
              "      <td>3.846686</td>\n",
              "      <td>-0.424206</td>\n",
              "      <td>2700</td>\n",
              "      <td>South Park: Bigger, Longer and Uncut (1999)</td>\n",
              "      <td>Animation|Comedy</td>\n",
              "    </tr>\n",
              "    <tr>\n",
              "      <th>2643</th>\n",
              "      <td>2.891213</td>\n",
              "      <td>3.305949</td>\n",
              "      <td>-0.414736</td>\n",
              "      <td>2712</td>\n",
              "      <td>Eyes Wide Shut (1999)</td>\n",
              "      <td>Drama</td>\n",
              "    </tr>\n",
              "  </tbody>\n",
              "</table>\n",
              "</div>"
            ],
            "text/plain": [
              "             F  ...                               genres\n",
              "1183  3.494949  ...                       Action|Western\n",
              "228   2.697987  ...                               Comedy\n",
              "2993  3.411765  ...                     Action|Drama|War\n",
              "774   2.250000  ...                               Comedy\n",
              "1241  3.297297  ...       Action|Adventure|Comedy|Horror\n",
              "2341  2.361702  ...                         Action|Drama\n",
              "3483  3.396135  ...                               Comedy\n",
              "3352  3.628906  ...                               Comedy\n",
              "1928  3.537634  ...                               Horror\n",
              "2340  2.741379  ...                         Action|Drama\n",
              "1382  2.637363  ...                     Animation|Comedy\n",
              "3671  2.987952  ...                        Action|Comedy\n",
              "69    2.735714  ...  Action|Comedy|Crime|Horror|Thriller\n",
              "1254  3.511111  ...  Adventure|Animation|Sci-Fi|Thriller\n",
              "3683  2.629310  ...                               Comedy\n",
              "775   3.092308  ...                               Comedy\n",
              "1073  3.769231  ...                       Crime|Thriller\n",
              "1210  3.831933  ...                                Drama\n",
              "2631  3.422481  ...                     Animation|Comedy\n",
              "2643  2.891213  ...                                Drama\n",
              "\n",
              "[20 rows x 6 columns]"
            ]
          },
          "metadata": {
            "tags": []
          },
          "execution_count": 95
        }
      ]
    },
    {
      "cell_type": "code",
      "metadata": {
        "id": "nBdWh8Fn4BVY",
        "outputId": "ddba51f2-69ca-428b-ce15-2296d25462ca",
        "colab": {
          "base_uri": "https://localhost:8080/",
          "height": 548
        }
      },
      "source": [
        "data"
      ],
      "execution_count": 96,
      "outputs": [
        {
          "output_type": "execute_result",
          "data": {
            "text/html": [
              "<div>\n",
              "<style scoped>\n",
              "    .dataframe tbody tr th:only-of-type {\n",
              "        vertical-align: middle;\n",
              "    }\n",
              "\n",
              "    .dataframe tbody tr th {\n",
              "        vertical-align: top;\n",
              "    }\n",
              "\n",
              "    .dataframe thead th {\n",
              "        text-align: right;\n",
              "    }\n",
              "</style>\n",
              "<table border=\"1\" class=\"dataframe\">\n",
              "  <thead>\n",
              "    <tr style=\"text-align: right;\">\n",
              "      <th></th>\n",
              "      <th>user_id</th>\n",
              "      <th>movie_id</th>\n",
              "      <th>rating</th>\n",
              "      <th>timestamp</th>\n",
              "      <th>gender</th>\n",
              "      <th>age</th>\n",
              "      <th>occupation</th>\n",
              "      <th>zip_code</th>\n",
              "      <th>title</th>\n",
              "      <th>genres</th>\n",
              "    </tr>\n",
              "  </thead>\n",
              "  <tbody>\n",
              "    <tr>\n",
              "      <th>0</th>\n",
              "      <td>1</td>\n",
              "      <td>1193</td>\n",
              "      <td>5</td>\n",
              "      <td>978300760</td>\n",
              "      <td>F</td>\n",
              "      <td>1</td>\n",
              "      <td>10</td>\n",
              "      <td>48067</td>\n",
              "      <td>One Flew Over the Cuckoo's Nest (1975)</td>\n",
              "      <td>Drama</td>\n",
              "    </tr>\n",
              "    <tr>\n",
              "      <th>1</th>\n",
              "      <td>2</td>\n",
              "      <td>1193</td>\n",
              "      <td>5</td>\n",
              "      <td>978298413</td>\n",
              "      <td>M</td>\n",
              "      <td>56</td>\n",
              "      <td>16</td>\n",
              "      <td>70072</td>\n",
              "      <td>One Flew Over the Cuckoo's Nest (1975)</td>\n",
              "      <td>Drama</td>\n",
              "    </tr>\n",
              "    <tr>\n",
              "      <th>2</th>\n",
              "      <td>12</td>\n",
              "      <td>1193</td>\n",
              "      <td>4</td>\n",
              "      <td>978220179</td>\n",
              "      <td>M</td>\n",
              "      <td>25</td>\n",
              "      <td>12</td>\n",
              "      <td>32793</td>\n",
              "      <td>One Flew Over the Cuckoo's Nest (1975)</td>\n",
              "      <td>Drama</td>\n",
              "    </tr>\n",
              "    <tr>\n",
              "      <th>3</th>\n",
              "      <td>15</td>\n",
              "      <td>1193</td>\n",
              "      <td>4</td>\n",
              "      <td>978199279</td>\n",
              "      <td>M</td>\n",
              "      <td>25</td>\n",
              "      <td>7</td>\n",
              "      <td>22903</td>\n",
              "      <td>One Flew Over the Cuckoo's Nest (1975)</td>\n",
              "      <td>Drama</td>\n",
              "    </tr>\n",
              "    <tr>\n",
              "      <th>4</th>\n",
              "      <td>17</td>\n",
              "      <td>1193</td>\n",
              "      <td>5</td>\n",
              "      <td>978158471</td>\n",
              "      <td>M</td>\n",
              "      <td>50</td>\n",
              "      <td>1</td>\n",
              "      <td>95350</td>\n",
              "      <td>One Flew Over the Cuckoo's Nest (1975)</td>\n",
              "      <td>Drama</td>\n",
              "    </tr>\n",
              "    <tr>\n",
              "      <th>...</th>\n",
              "      <td>...</td>\n",
              "      <td>...</td>\n",
              "      <td>...</td>\n",
              "      <td>...</td>\n",
              "      <td>...</td>\n",
              "      <td>...</td>\n",
              "      <td>...</td>\n",
              "      <td>...</td>\n",
              "      <td>...</td>\n",
              "      <td>...</td>\n",
              "    </tr>\n",
              "    <tr>\n",
              "      <th>1000204</th>\n",
              "      <td>5949</td>\n",
              "      <td>2198</td>\n",
              "      <td>5</td>\n",
              "      <td>958846401</td>\n",
              "      <td>M</td>\n",
              "      <td>18</td>\n",
              "      <td>17</td>\n",
              "      <td>47901</td>\n",
              "      <td>Modulations (1998)</td>\n",
              "      <td>Documentary</td>\n",
              "    </tr>\n",
              "    <tr>\n",
              "      <th>1000205</th>\n",
              "      <td>5675</td>\n",
              "      <td>2703</td>\n",
              "      <td>3</td>\n",
              "      <td>976029116</td>\n",
              "      <td>M</td>\n",
              "      <td>35</td>\n",
              "      <td>14</td>\n",
              "      <td>30030</td>\n",
              "      <td>Broken Vessels (1998)</td>\n",
              "      <td>Drama</td>\n",
              "    </tr>\n",
              "    <tr>\n",
              "      <th>1000206</th>\n",
              "      <td>5780</td>\n",
              "      <td>2845</td>\n",
              "      <td>1</td>\n",
              "      <td>958153068</td>\n",
              "      <td>M</td>\n",
              "      <td>18</td>\n",
              "      <td>17</td>\n",
              "      <td>92886</td>\n",
              "      <td>White Boys (1999)</td>\n",
              "      <td>Drama</td>\n",
              "    </tr>\n",
              "    <tr>\n",
              "      <th>1000207</th>\n",
              "      <td>5851</td>\n",
              "      <td>3607</td>\n",
              "      <td>5</td>\n",
              "      <td>957756608</td>\n",
              "      <td>F</td>\n",
              "      <td>18</td>\n",
              "      <td>20</td>\n",
              "      <td>55410</td>\n",
              "      <td>One Little Indian (1973)</td>\n",
              "      <td>Comedy|Drama|Western</td>\n",
              "    </tr>\n",
              "    <tr>\n",
              "      <th>1000208</th>\n",
              "      <td>5938</td>\n",
              "      <td>2909</td>\n",
              "      <td>4</td>\n",
              "      <td>957273353</td>\n",
              "      <td>M</td>\n",
              "      <td>25</td>\n",
              "      <td>1</td>\n",
              "      <td>35401</td>\n",
              "      <td>Five Wives, Three Secretaries and Me (1998)</td>\n",
              "      <td>Documentary</td>\n",
              "    </tr>\n",
              "  </tbody>\n",
              "</table>\n",
              "<p>1000209 rows × 10 columns</p>\n",
              "</div>"
            ],
            "text/plain": [
              "         user_id  ...                genres\n",
              "0              1  ...                 Drama\n",
              "1              2  ...                 Drama\n",
              "2             12  ...                 Drama\n",
              "3             15  ...                 Drama\n",
              "4             17  ...                 Drama\n",
              "...          ...  ...                   ...\n",
              "1000204     5949  ...           Documentary\n",
              "1000205     5675  ...                 Drama\n",
              "1000206     5780  ...                 Drama\n",
              "1000207     5851  ...  Comedy|Drama|Western\n",
              "1000208     5938  ...           Documentary\n",
              "\n",
              "[1000209 rows x 10 columns]"
            ]
          },
          "metadata": {
            "tags": []
          },
          "execution_count": 96
        }
      ]
    },
    {
      "cell_type": "markdown",
      "metadata": {
        "id": "ROqsp0Ti4qGa"
      },
      "source": [
        "* 성별 선호도의 차이가 큰 영화 50개의 장르 순서\n",
        "* 연령대 선호도 차이?"
      ]
    }
  ]
}