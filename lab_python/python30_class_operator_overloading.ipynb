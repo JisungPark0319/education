{
  "nbformat": 4,
  "nbformat_minor": 0,
  "metadata": {
    "colab": {
      "name": "python30_class_operator_overloading.ipynb",
      "provenance": [],
      "collapsed_sections": [],
      "authorship_tag": "ABX9TyNNaxqLgg1EeXG5NlqbpPCf",
      "include_colab_link": true
    },
    "kernelspec": {
      "name": "python3",
      "display_name": "Python 3"
    }
  },
  "cells": [
    {
      "cell_type": "markdown",
      "metadata": {
        "id": "view-in-github",
        "colab_type": "text"
      },
      "source": [
        "<a href=\"https://colab.research.google.com/github/JakeOh/202007_itw_bd18/blob/master/lab_python/python30_class_operator_overloading.ipynb\" target=\"_parent\"><img src=\"https://colab.research.google.com/assets/colab-badge.svg\" alt=\"Open In Colab\"/></a>"
      ]
    },
    {
      "cell_type": "markdown",
      "metadata": {
        "id": "0E7gBngD_SeB",
        "colab_type": "text"
      },
      "source": [
        "**Python 클래스의 편의 메서드(magic method)**\n",
        "\n",
        "```\n",
        "__init__: initialization \n",
        "__repr__: represenataion\n",
        "__eq__: equal to (==)\n",
        "__gt__: greater than (>)\n",
        "__ge__: greater than or equal to (>=)\n",
        "__lt__: less than (<)\n",
        "__le__: less than or equal to (<=)\n",
        "...\n",
        "```\n"
      ]
    },
    {
      "cell_type": "markdown",
      "metadata": {
        "id": "WhlmSQE_VnKV",
        "colab_type": "text"
      },
      "source": [
        "**연산자 오버로딩(operator overloading):**\n",
        "+, - ,*, /, == , >, ... 연산자들의 기능을 함수로 정의하는 것."
      ]
    },
    {
      "cell_type": "code",
      "metadata": {
        "id": "8foTszdYAN1g",
        "colab_type": "code",
        "colab": {}
      },
      "source": [
        "import math"
      ],
      "execution_count": 16,
      "outputs": []
    },
    {
      "cell_type": "code",
      "metadata": {
        "id": "23ovbekI_OJH",
        "colab_type": "code",
        "colab": {}
      },
      "source": [
        "class Point:\n",
        "\n",
        "    def __init__(self, x=0, y=0):\n",
        "        self.x = x\n",
        "        self.y = y\n",
        "\n",
        "    def __repr__(self):\n",
        "        return f'Point({self.x}, {self.y})'\n",
        "\n",
        "    def __eq__(self, other):\n",
        "        \"\"\" eq(equal to): ==가 사용될 때 자동으로 호출되는 메서드\"\"\"\n",
        "        if not isinstance(other, Point):\n",
        "            # 비교 대상이 Point 클래스의 인스턴스가 아니면 에러를 발생시킴.\n",
        "            raise TypeError('other가 Point 타입이 아닙니다!')\n",
        "        \n",
        "        return (self.x == other.x) and (self.y == other.y)\n",
        "\n",
        "\n",
        "    def __gt__(self, other):\n",
        "        \"\"\"gt(greater than): >가 사용될 때 자동으로 호출되는 메서드\"\"\"\n",
        "        if not isinstance(other, Point):\n",
        "            raise TypeError('other가 Point 타입이 아닙니다!')\n",
        "\n",
        "        dist1 = math.sqrt(self.x ** 2 + self.y ** 2)  # 원점에서 self까지의 거리\n",
        "        dist2 = math.sqrt(other.x ** 2 + other.y ** 2)  # 원점에서 other까지의 거리\n",
        "        \n",
        "        return dist1 > dist2\n",
        "\n",
        "    def __add__(self, other):\n",
        "        \"\"\" + 연산자가 사용될 때(+ 연산자의 왼쪽에 Point 타입 객체가 있을 때), \n",
        "        자동으로 호출되는 메서드.\n",
        "        두 Point 객체(self, other)에서 x좌표끼리 y좌표끼리 더한 값을 좌표로 갖는 \n",
        "        새로운 Point 객체 반환.\n",
        "\n",
        "        >>> point1 = Point(1, 1)\n",
        "        >>> point2 = Point(2, 3)\n",
        "        >>> point1 + point2  # point1.__add__(point2)\n",
        "        Point(3, 4)\n",
        "        \"\"\"\n",
        "        if not isinstance(other, Point):\n",
        "            raise TypeError('+ 연산은 Point끼리만 가능!')\n",
        "\n",
        "        x = self.x + other.x  # 두 점의 x좌표끼리 더함.\n",
        "        y = self.y + other.y  # 두 점의 y좌표끼리 더함.\n",
        "        return Point(x, y)  # 새로운 Point 인스턴스를 생성해서 반환.\n",
        "\n",
        "    def __mul__(self, number):\n",
        "        \"\"\"* 연산자의 왼쪽에 Point 객체가 있을 때 자동으로 호출되는 메서드.\n",
        "        \n",
        "        >>> Point(1, 2) * 3\n",
        "        Point(3, 6)\n",
        "        \"\"\"\n",
        "        if not (isinstance(number, int) or isinstance(number, float)):\n",
        "            raise TypeError('Point 타입에는 숫자 타입만 곱할 수 있음!')\n",
        "        \n",
        "        x = self.x * number  # x좌표 * 숫자 계산.\n",
        "        y = self.y * number  # y좌표 * 숫자 계산.\n",
        "        return Point(x, y)  # 새로운 Point 객체를 반환.\n",
        "\n",
        "    def __rmul__(self, number):\n",
        "        \"\"\"* 연산자의 오른쪽에 Point 객체가 있을 때 자동으로 호출되는 메서드.\n",
        "\n",
        "        >>> 3 * Point(1, 2)\n",
        "        Point(3, 6)\n",
        "        \"\"\"\n",
        "        return self.__mul__(number)  # self * number\n",
        "    "
      ],
      "execution_count": 42,
      "outputs": []
    },
    {
      "cell_type": "code",
      "metadata": {
        "id": "esr5KSEtC0Wh",
        "colab_type": "code",
        "colab": {
          "base_uri": "https://localhost:8080/",
          "height": 121
        },
        "outputId": "262c2d35-9551-4c02-eefa-5b5bb2755561"
      },
      "source": [
        "pt1 = Point()\n",
        "print(pt1)\n",
        "\n",
        "pt2 = Point(0, 0)\n",
        "print(pt2)\n",
        "\n",
        "print(pt1 == pt2)  # pt1.__eq__(pt2)\n",
        "\n",
        "pt3 = Point(1, 2)\n",
        "print(pt3)\n",
        "print(pt1 == pt3)  # pt1.__eq__(pt3)\n",
        "\n",
        "# pt1 == (0, 0)  # TypeError 발생"
      ],
      "execution_count": 11,
      "outputs": [
        {
          "output_type": "stream",
          "text": [
            "Point(0, 0)\n",
            "Point(0, 0)\n",
            "True\n",
            "Point(1, 2)\n",
            "False\n"
          ],
          "name": "stdout"
        }
      ]
    },
    {
      "cell_type": "code",
      "metadata": {
        "id": "XcbzxSCfJ_Zv",
        "colab_type": "code",
        "colab": {
          "base_uri": "https://localhost:8080/",
          "height": 79
        },
        "outputId": "1f00d344-da50-408e-dd33-7b15dce85ab5"
      },
      "source": [
        "pt4 = Point(1, 1)\n",
        "pt5 = Point(2, 3)\n",
        "\n",
        "print(pt4 > pt5)  # pt4.__gt__(pt5)\n",
        "print(pt5 > pt4)  # pt5.__gt__(pt4)\n"
      ],
      "execution_count": 18,
      "outputs": [
        {
          "output_type": "stream",
          "text": [
            "False\n",
            "True\n",
            "True\n"
          ],
          "name": "stdout"
        }
      ]
    },
    {
      "cell_type": "code",
      "metadata": {
        "id": "_vI1OiZ4PUwM",
        "colab_type": "code",
        "colab": {
          "base_uri": "https://localhost:8080/",
          "height": 100
        },
        "outputId": "a29bb7f0-a69c-4491-8388-e8322c0c8401"
      },
      "source": [
        "pt6 = Point(1, 2)\n",
        "pt7 = Point(3, 4)\n",
        "print(pt6 + pt7)  # pt6.__add__(pt7)\n",
        "print(pt7 + pt6)  # pt7.__add__(pt6)\n",
        "\n",
        "print(pt6)\n",
        "print(pt7)"
      ],
      "execution_count": 35,
      "outputs": [
        {
          "output_type": "stream",
          "text": [
            "Point(4, 6)\n",
            "Point(4, 6)\n",
            "Point(1, 2)\n",
            "Point(3, 4)\n"
          ],
          "name": "stdout"
        }
      ]
    },
    {
      "cell_type": "code",
      "metadata": {
        "id": "YhSLH_Y8Yx9z",
        "colab_type": "code",
        "colab": {
          "base_uri": "https://localhost:8080/",
          "height": 79
        },
        "outputId": "ccf79e8c-e48d-4c67-cbb6-5682efdc5a54"
      },
      "source": [
        "pt8 = Point(1, 2)\n",
        "print(pt8 * 3)  # pt8.__mul__(3)\n",
        "print(pt8 * 1.1)  # pt8.__mul__(1.1)\n",
        "\n",
        "print(3 * pt8) # pt8.__rmul__(3) -> pt8.__mul__(3)"
      ],
      "execution_count": 43,
      "outputs": [
        {
          "output_type": "stream",
          "text": [
            "Point(3, 6)\n",
            "Point(1.1, 2.2)\n",
            "Point(3, 6)\n"
          ],
          "name": "stdout"
        }
      ]
    },
    {
      "cell_type": "markdown",
      "metadata": {
        "id": "iSOdd_I3PVPt",
        "colab_type": "text"
      },
      "source": [
        "\n",
        "\n",
        "---\n",
        "\n"
      ]
    },
    {
      "cell_type": "code",
      "metadata": {
        "id": "XyBxjOSec5Vx",
        "colab_type": "code",
        "colab": {
          "base_uri": "https://localhost:8080/",
          "height": 1000
        },
        "outputId": "6eb27665-6d91-4ecb-e7b9-66d78f1880aa"
      },
      "source": [
        "dir(int)  # int 클래스가 가지고 있는 변수, 메서드 이름들"
      ],
      "execution_count": 44,
      "outputs": [
        {
          "output_type": "execute_result",
          "data": {
            "text/plain": [
              "['__abs__',\n",
              " '__add__',\n",
              " '__and__',\n",
              " '__bool__',\n",
              " '__ceil__',\n",
              " '__class__',\n",
              " '__delattr__',\n",
              " '__dir__',\n",
              " '__divmod__',\n",
              " '__doc__',\n",
              " '__eq__',\n",
              " '__float__',\n",
              " '__floor__',\n",
              " '__floordiv__',\n",
              " '__format__',\n",
              " '__ge__',\n",
              " '__getattribute__',\n",
              " '__getnewargs__',\n",
              " '__gt__',\n",
              " '__hash__',\n",
              " '__index__',\n",
              " '__init__',\n",
              " '__init_subclass__',\n",
              " '__int__',\n",
              " '__invert__',\n",
              " '__le__',\n",
              " '__lshift__',\n",
              " '__lt__',\n",
              " '__mod__',\n",
              " '__mul__',\n",
              " '__ne__',\n",
              " '__neg__',\n",
              " '__new__',\n",
              " '__or__',\n",
              " '__pos__',\n",
              " '__pow__',\n",
              " '__radd__',\n",
              " '__rand__',\n",
              " '__rdivmod__',\n",
              " '__reduce__',\n",
              " '__reduce_ex__',\n",
              " '__repr__',\n",
              " '__rfloordiv__',\n",
              " '__rlshift__',\n",
              " '__rmod__',\n",
              " '__rmul__',\n",
              " '__ror__',\n",
              " '__round__',\n",
              " '__rpow__',\n",
              " '__rrshift__',\n",
              " '__rshift__',\n",
              " '__rsub__',\n",
              " '__rtruediv__',\n",
              " '__rxor__',\n",
              " '__setattr__',\n",
              " '__sizeof__',\n",
              " '__str__',\n",
              " '__sub__',\n",
              " '__subclasshook__',\n",
              " '__truediv__',\n",
              " '__trunc__',\n",
              " '__xor__',\n",
              " 'bit_length',\n",
              " 'conjugate',\n",
              " 'denominator',\n",
              " 'from_bytes',\n",
              " 'imag',\n",
              " 'numerator',\n",
              " 'real',\n",
              " 'to_bytes']"
            ]
          },
          "metadata": {
            "tags": []
          },
          "execution_count": 44
        }
      ]
    },
    {
      "cell_type": "code",
      "metadata": {
        "id": "VhIp1oSZLpBn",
        "colab_type": "code",
        "colab": {
          "base_uri": "https://localhost:8080/",
          "height": 100
        },
        "outputId": "401225cd-88d6-4967-9320-658db0b9b88b"
      },
      "source": [
        "str1 = 'hello'\n",
        "str2 = 'python'\n",
        "print(str1 + str2)  # str1.__add__(str2)\n",
        "print(str2 + str1)  # str2.__add__(str1)\n",
        "# print(str1 + 3)\n",
        "# print(3 + str1)\n",
        "\n",
        "# print(str1 * str2)\n",
        "print(str1 * 3)  # str1.__mul__(3)\n",
        "print(3 * str1)"
      ],
      "execution_count": 31,
      "outputs": [
        {
          "output_type": "stream",
          "text": [
            "hellopython\n",
            "pythonhello\n",
            "hellohellohello\n",
            "hellohellohello\n"
          ],
          "name": "stdout"
        }
      ]
    }
  ]
}