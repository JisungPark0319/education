{
  "nbformat": 4,
  "nbformat_minor": 0,
  "metadata": {
    "colab": {
      "name": "python15_list_comprehension.ipynb",
      "provenance": [],
      "collapsed_sections": [],
      "authorship_tag": "ABX9TyMPbPyGdbYBU1RY7ez0s5hy",
      "include_colab_link": true
    },
    "kernelspec": {
      "name": "python3",
      "display_name": "Python 3"
    }
  },
  "cells": [
    {
      "cell_type": "markdown",
      "metadata": {
        "id": "view-in-github",
        "colab_type": "text"
      },
      "source": [
        "<a href=\"https://colab.research.google.com/github/JakeOh/202007_itw_bd18/blob/master/lab_python/python15_list_comprehension.ipynb\" target=\"_parent\"><img src=\"https://colab.research.google.com/assets/colab-badge.svg\" alt=\"Open In Colab\"/></a>"
      ]
    },
    {
      "cell_type": "markdown",
      "metadata": {
        "id": "0oGomqCCb2JL",
        "colab_type": "text"
      },
      "source": [
        "**List Comprehension**"
      ]
    },
    {
      "cell_type": "code",
      "metadata": {
        "id": "AduPJYX9bx19",
        "colab_type": "code",
        "colab": {
          "base_uri": "https://localhost:8080/",
          "height": 35
        },
        "outputId": "82a2bc50-25ee-4eb6-d6c6-a1845864705f"
      },
      "source": [
        "# 1 이상 10 이하의 정수들을 차례로 리스트에 추가.\n",
        "numbers = []  # 빈(empty) 리스트 생성.\n",
        "for n in range(1, 11):\n",
        "    numbers.append(n)  # 리스트에 숫자를 추가.\n",
        "\n",
        "print(numbers)"
      ],
      "execution_count": null,
      "outputs": [
        {
          "output_type": "stream",
          "text": [
            "[1, 2, 3, 4, 5, 6, 7, 8, 9, 10]\n"
          ],
          "name": "stdout"
        }
      ]
    },
    {
      "cell_type": "code",
      "metadata": {
        "id": "f7pQKakodATo",
        "colab_type": "code",
        "colab": {
          "base_uri": "https://localhost:8080/",
          "height": 35
        },
        "outputId": "9ceb129d-4d0d-48af-ab8a-a6194033613d"
      },
      "source": [
        "numbers2 = [n for n in range(1, 11)]\n",
        "print(numbers2)"
      ],
      "execution_count": null,
      "outputs": [
        {
          "output_type": "stream",
          "text": [
            "[1, 2, 3, 4, 5, 6, 7, 8, 9, 10]\n"
          ],
          "name": "stdout"
        }
      ]
    },
    {
      "cell_type": "code",
      "metadata": {
        "id": "3q5ohWh6doMP",
        "colab_type": "code",
        "colab": {
          "base_uri": "https://localhost:8080/",
          "height": 35
        },
        "outputId": "11833e48-9aad-4e55-e5b1-0f06c980ab1e"
      },
      "source": [
        "# 리스트 evens에 10 이하의 짝수들을 저장.\n",
        "evens = []\n",
        "for x in range(1, 6):\n",
        "    evens.append(2 * x)\n",
        "\n",
        "print(evens)"
      ],
      "execution_count": null,
      "outputs": [
        {
          "output_type": "stream",
          "text": [
            "[2, 4, 6, 8, 10]\n"
          ],
          "name": "stdout"
        }
      ]
    },
    {
      "cell_type": "code",
      "metadata": {
        "id": "Pui68Lfceqem",
        "colab_type": "code",
        "colab": {
          "base_uri": "https://localhost:8080/",
          "height": 35
        },
        "outputId": "e8e13e27-e0b0-4639-ee76-ff895ab3944f"
      },
      "source": [
        "evens = [2 * x for x in range(1, 6)]\n",
        "print(evens)"
      ],
      "execution_count": null,
      "outputs": [
        {
          "output_type": "stream",
          "text": [
            "[2, 4, 6, 8, 10]\n"
          ],
          "name": "stdout"
        }
      ]
    },
    {
      "cell_type": "code",
      "metadata": {
        "id": "H_Bg3JIUe-xP",
        "colab_type": "code",
        "colab": {
          "base_uri": "https://localhost:8080/",
          "height": 35
        },
        "outputId": "53bee9bb-2cf1-42f8-8b2d-7800b0a6aa44"
      },
      "source": [
        "evens = []\n",
        "for x in range(2, 11, 2):\n",
        "    evens.append(x)\n",
        "\n",
        "print(evens)"
      ],
      "execution_count": null,
      "outputs": [
        {
          "output_type": "stream",
          "text": [
            "[2, 4, 6, 8, 10]\n"
          ],
          "name": "stdout"
        }
      ]
    },
    {
      "cell_type": "code",
      "metadata": {
        "id": "AaeGYnqffUWf",
        "colab_type": "code",
        "colab": {
          "base_uri": "https://localhost:8080/",
          "height": 35
        },
        "outputId": "8120e26f-6ee5-4286-b8d6-dce15800b905"
      },
      "source": [
        "evens = [x for x in range(2, 11, 2)]\n",
        "print(evens)"
      ],
      "execution_count": null,
      "outputs": [
        {
          "output_type": "stream",
          "text": [
            "[2, 4, 6, 8, 10]\n"
          ],
          "name": "stdout"
        }
      ]
    },
    {
      "cell_type": "code",
      "metadata": {
        "id": "nhcsDQfqfmw1",
        "colab_type": "code",
        "colab": {
          "base_uri": "https://localhost:8080/",
          "height": 35
        },
        "outputId": "4e5b2662-ce87-4b9a-a327-2faee00fb4be"
      },
      "source": [
        "# 리스트 squares에 1, 4, 9, 16, 25를 차례로 저장.\n",
        "squares = []\n",
        "for x in range(1, 6):\n",
        "    squares.append(x ** 2)\n",
        "\n",
        "print(squares)"
      ],
      "execution_count": null,
      "outputs": [
        {
          "output_type": "stream",
          "text": [
            "[1, 4, 9, 16, 25]\n"
          ],
          "name": "stdout"
        }
      ]
    },
    {
      "cell_type": "code",
      "metadata": {
        "id": "06fJHxx-gWrA",
        "colab_type": "code",
        "colab": {
          "base_uri": "https://localhost:8080/",
          "height": 35
        },
        "outputId": "8c8be94c-f051-4915-d90b-86c87d7e83b9"
      },
      "source": [
        "squares = [x ** 2 for x in range(1, 6)]\n",
        "print(squares)"
      ],
      "execution_count": null,
      "outputs": [
        {
          "output_type": "stream",
          "text": [
            "[1, 4, 9, 16, 25]\n"
          ],
          "name": "stdout"
        }
      ]
    },
    {
      "cell_type": "code",
      "metadata": {
        "id": "Kv7VwJVcgwJ2",
        "colab_type": "code",
        "colab": {
          "base_uri": "https://localhost:8080/",
          "height": 35
        },
        "outputId": "b71f3efe-1765-4f5b-bc2a-ad552c7fe2c6"
      },
      "source": [
        "# 1 이상 10 이하의 짝수들의 리스트\n",
        "evens = []\n",
        "for x in range(1, 11):\n",
        "    if x % 2 == 0:\n",
        "        evens.append(x)\n",
        "\n",
        "print(evens)"
      ],
      "execution_count": null,
      "outputs": [
        {
          "output_type": "stream",
          "text": [
            "[2, 4, 6, 8, 10]\n"
          ],
          "name": "stdout"
        }
      ]
    },
    {
      "cell_type": "code",
      "metadata": {
        "id": "7P0ulWm-hQR3",
        "colab_type": "code",
        "colab": {
          "base_uri": "https://localhost:8080/",
          "height": 35
        },
        "outputId": "2b30c47a-9e44-4889-f304-fab8f9de76c4"
      },
      "source": [
        "evens = [x for x in range(1, 11) if x % 2 == 0]\n",
        "print(evens)"
      ],
      "execution_count": null,
      "outputs": [
        {
          "output_type": "stream",
          "text": [
            "[2, 4, 6, 8, 10]\n"
          ],
          "name": "stdout"
        }
      ]
    },
    {
      "cell_type": "code",
      "metadata": {
        "id": "_rBrOgwEh6cg",
        "colab_type": "code",
        "colab": {
          "base_uri": "https://localhost:8080/",
          "height": 35
        },
        "outputId": "d88a4f91-8a1f-49ad-a593-5c9d212ba3c5"
      },
      "source": [
        "# (정수) 난수 10개를 리스트에 저장\n",
        "import random\n",
        "\n",
        "random.seed(1)\n",
        "\n",
        "randoms = []\n",
        "for _ in range(10):\n",
        "    randoms.append(random.randrange(0, 11))  # 0 <= r < 11\n",
        "\n",
        "print(randoms)"
      ],
      "execution_count": null,
      "outputs": [
        {
          "output_type": "stream",
          "text": [
            "[2, 9, 1, 4, 1, 7, 7, 7, 10, 6]\n"
          ],
          "name": "stdout"
        }
      ]
    },
    {
      "cell_type": "code",
      "metadata": {
        "id": "YV20NBOvi2xh",
        "colab_type": "code",
        "colab": {
          "base_uri": "https://localhost:8080/",
          "height": 35
        },
        "outputId": "f0cad672-cbf6-4290-bc9b-5aafc72a4741"
      },
      "source": [
        "random.seed(1)\n",
        "\n",
        "randoms = [random.randrange(0, 11) for _ in range(10)]\n",
        "print(randoms)"
      ],
      "execution_count": null,
      "outputs": [
        {
          "output_type": "stream",
          "text": [
            "[2, 9, 1, 4, 1, 7, 7, 7, 10, 6]\n"
          ],
          "name": "stdout"
        }
      ]
    },
    {
      "cell_type": "code",
      "metadata": {
        "id": "4pXXsXSxod0Q",
        "colab_type": "code",
        "colab": {
          "base_uri": "https://localhost:8080/",
          "height": 54
        },
        "outputId": "4bd2eafb-7ce6-4a74-9676-42cdd43bac36"
      },
      "source": [
        "# randoms의 숫자들 중에서 짝수만 갖는 리스트를 생성\n",
        "evens = []\n",
        "for x in randoms:\n",
        "    if x % 2 == 0:\n",
        "        evens.append(x)\n",
        "print(evens)\n",
        "\n",
        "evens = [x for x in randoms if x % 2 == 0]\n",
        "print(evens)"
      ],
      "execution_count": null,
      "outputs": [
        {
          "output_type": "stream",
          "text": [
            "[2, 4, 10, 6]\n",
            "[2, 4, 10, 6]\n"
          ],
          "name": "stdout"
        }
      ]
    },
    {
      "cell_type": "code",
      "metadata": {
        "id": "Hd-PIB0oomnF",
        "colab_type": "code",
        "colab": {
          "base_uri": "https://localhost:8080/",
          "height": 54
        },
        "outputId": "ab38e2a3-3a91-40ad-ee9b-9edb6dc68cb1"
      },
      "source": [
        "# randoms의 숫자들 중에서 홀수만 갖는 리스트를 생성\n",
        "odds = []\n",
        "for x in randoms:\n",
        "    if x % 2:  # if x % 2 == 1:\n",
        "        odds.append(x)\n",
        "print(odds)\n",
        "\n",
        "odds = [x for x in randoms if x % 2]\n",
        "print(odds)"
      ],
      "execution_count": null,
      "outputs": [
        {
          "output_type": "stream",
          "text": [
            "[9, 1, 1, 7, 7, 7]\n",
            "[9, 1, 1, 7, 7, 7]\n"
          ],
          "name": "stdout"
        }
      ]
    },
    {
      "cell_type": "code",
      "metadata": {
        "id": "7q3bNKZDsZQl",
        "colab_type": "code",
        "colab": {
          "base_uri": "https://localhost:8080/",
          "height": 54
        },
        "outputId": "b67f3ac8-f6ad-456d-84a8-c6821a5f786f"
      },
      "source": [
        "genders_1 = ['male', 'female', 'female', 'male', 'male', 'female']\n",
        "\n",
        "# genders_1에 저장된 값이 'male'이면 0, 'female'이면 1을 저장하는 리스트 genders_2를 만드세요.\n",
        "genders_2 = []\n",
        "for gender in genders_1:  # genders_1 리스트의 성별들에 대해서\n",
        "    if gender == 'male':  # 성별이 male이면,\n",
        "        genders_2.append(0)\n",
        "    else:  # 성별이 male이 아니면(female이면),\n",
        "        genders_2.append(1)\n",
        "print(genders_2)\n",
        "\n",
        "genders_3 = [0 if gender == 'male' else 1 for gender in genders_1]\n",
        "print(genders_3)"
      ],
      "execution_count": null,
      "outputs": [
        {
          "output_type": "stream",
          "text": [
            "[0, 1, 1, 0, 0, 1]\n",
            "[0, 1, 1, 0, 0, 1]\n"
          ],
          "name": "stdout"
        }
      ]
    },
    {
      "cell_type": "code",
      "metadata": {
        "id": "jiPmoBjd0tYT",
        "colab_type": "code",
        "colab": {
          "base_uri": "https://localhost:8080/",
          "height": 54
        },
        "outputId": "ad0bc868-b2b8-4c1c-db39-bbc1a2549810"
      },
      "source": [
        "genders_1 = ['male', 'female', 'female', 'unknown', 'male']\n",
        "genders_2 = []\n",
        "for gender in genders_1:\n",
        "    if gender == 'male':\n",
        "        genders_2.append(0)\n",
        "    elif gender == 'female':\n",
        "        genders_2.append(1)\n",
        "    else:\n",
        "        genders_2.append(2)\n",
        "print(genders_2)\n",
        "\n",
        "genders_3 = [0 if gender == 'male' else \n",
        "             1 if gender == 'female' else \n",
        "             2 for gender in genders_1]\n",
        "print(genders_3)"
      ],
      "execution_count": null,
      "outputs": [
        {
          "output_type": "stream",
          "text": [
            "[0, 1, 1, 2, 0]\n",
            "[0, 1, 1, 2, 0]\n"
          ],
          "name": "stdout"
        }
      ]
    },
    {
      "cell_type": "code",
      "metadata": {
        "id": "X_aKZAkI3dK0",
        "colab_type": "code",
        "colab": {
          "base_uri": "https://localhost:8080/",
          "height": 54
        },
        "outputId": "6ba086dd-134c-4ae7-acf2-e1635b3a0a2c"
      },
      "source": [
        "words = ['apple', 'banana', 'car', 'cherry', 'dog']\n",
        "\n",
        "# word_lengths: words의 문자열의 길이를 저장하는 리스트\n",
        "word_lengths = []\n",
        "for word in words:\n",
        "    word_lengths.append(len(word))\n",
        "print(word_lengths)\n",
        "\n",
        "word_lengths = [len(word) for word in words]\n",
        "print(word_lengths)"
      ],
      "execution_count": null,
      "outputs": [
        {
          "output_type": "stream",
          "text": [
            "[5, 6, 3, 6, 3]\n",
            "[5, 6, 3, 6, 3]\n"
          ],
          "name": "stdout"
        }
      ]
    },
    {
      "cell_type": "code",
      "metadata": {
        "id": "k6tR55fH5ERa",
        "colab_type": "code",
        "colab": {
          "base_uri": "https://localhost:8080/",
          "height": 72
        },
        "outputId": "55f38d76-814d-46eb-abf3-080a2578266f"
      },
      "source": [
        "# scores: 0 이상 100 이하의 (정수) 난수 10개를 저장\n",
        "random.seed(42)  # 같은 결과의 난수를 만들기 위해서\n",
        "scores = [random.randrange(0, 101) for _ in range(10)]\n",
        "print(scores)\n",
        "\n",
        "# above_mean: scores의 평균보다 큰 점수들로 이루어진 리스트\n",
        "mean = sum(scores) / len(scores)\n",
        "print(mean)\n",
        "\n",
        "above_mean = [score for score in scores if score > mean]\n",
        "print(above_mean)"
      ],
      "execution_count": null,
      "outputs": [
        {
          "output_type": "stream",
          "text": [
            "[81, 14, 3, 94, 35, 31, 28, 17, 94, 13]\n",
            "41.0\n",
            "[81, 94, 94]\n"
          ],
          "name": "stdout"
        }
      ]
    },
    {
      "cell_type": "code",
      "metadata": {
        "id": "O97rOZcT-AYC",
        "colab_type": "code",
        "colab": {
          "base_uri": "https://localhost:8080/",
          "height": 569
        },
        "outputId": "4059926d-5db0-4f9c-fd86-15a71c408b95"
      },
      "source": [
        "numbers = set()  # empty set\n",
        "print(type(numbers))\n",
        "\n",
        "random.seed(42)\n",
        "for _ in range(1000):  # 1000번 반복\n",
        "    r = random.randrange(0, 11)  # 난수 생성 \n",
        "    print(r)\n",
        "    numbers.add(r)  # 난수를 set에 추가\n",
        "    if len(numbers) == 10:  # set의 원소의 개수가 10개이면\n",
        "        break  # 반복문 종료\n",
        "print(numbers)"
      ],
      "execution_count": null,
      "outputs": [
        {
          "output_type": "stream",
          "text": [
            "<class 'set'>\n",
            "10\n",
            "1\n",
            "0\n",
            "4\n",
            "3\n",
            "3\n",
            "2\n",
            "1\n",
            "10\n",
            "8\n",
            "1\n",
            "9\n",
            "6\n",
            "0\n",
            "0\n",
            "1\n",
            "3\n",
            "3\n",
            "8\n",
            "9\n",
            "0\n",
            "8\n",
            "3\n",
            "10\n",
            "8\n",
            "6\n",
            "3\n",
            "7\n",
            "{0, 1, 2, 3, 4, 6, 7, 8, 9, 10}\n"
          ],
          "name": "stdout"
        }
      ]
    }
  ]
}