{
  "nbformat": 4,
  "nbformat_minor": 0,
  "metadata": {
    "colab": {
      "name": "python20_function.ipynb",
      "provenance": [],
      "collapsed_sections": [],
      "authorship_tag": "ABX9TyOsjaRdhD+O9mRKqQbIYK6j",
      "include_colab_link": true
    },
    "kernelspec": {
      "name": "python3",
      "display_name": "Python 3"
    }
  },
  "cells": [
    {
      "cell_type": "markdown",
      "metadata": {
        "id": "view-in-github",
        "colab_type": "text"
      },
      "source": [
        "<a href=\"https://colab.research.google.com/github/JakeOh/202007_itw_bd18/blob/master/lab_python/python20_function.ipynb\" target=\"_parent\"><img src=\"https://colab.research.google.com/assets/colab-badge.svg\" alt=\"Open In Colab\"/></a>"
      ]
    },
    {
      "cell_type": "code",
      "metadata": {
        "id": "6CZd9kheqoVE",
        "colab_type": "code",
        "colab": {}
      },
      "source": [
        "import math"
      ],
      "execution_count": 2,
      "outputs": []
    },
    {
      "cell_type": "code",
      "metadata": {
        "id": "qwEW_qwBq2bj",
        "colab_type": "code",
        "colab": {}
      },
      "source": [
        "def calculate_sum(numbers: list) -> float:\n",
        "    \"\"\"숫자들을 저장하고 있는 리스트 numbers를 전달받아서, 모든 숫자들의 합을 리턴.\"\"\"\n",
        "    total = 0\n",
        "    for n in numbers:\n",
        "        total += n  # total = total + n\n",
        "    \n",
        "    return total"
      ],
      "execution_count": 4,
      "outputs": []
    },
    {
      "cell_type": "code",
      "metadata": {
        "id": "Y2qjfSyqNcXK",
        "colab_type": "code",
        "colab": {
          "base_uri": "https://localhost:8080/",
          "height": 38
        },
        "outputId": "97be522b-f4c5-4136-e49d-2196566e853a"
      },
      "source": [
        "scores = [1, 2, 3, 4, 5]\n",
        "total = calculate_sum(scores)\n",
        "print(total)"
      ],
      "execution_count": 5,
      "outputs": [
        {
          "output_type": "stream",
          "text": [
            "15\n"
          ],
          "name": "stdout"
        }
      ]
    },
    {
      "cell_type": "code",
      "metadata": {
        "id": "omGQttZWrWbz",
        "colab_type": "code",
        "colab": {}
      },
      "source": [
        "def calculate_mean(numbers: list) -> float:\n",
        "    \"\"\"숫자들을 저장하고 있는 리스트 numbers를 전달받아서, 모든 숫자들의 평균을 리턴.\"\"\"\n",
        "    total = calculate_sum(numbers)\n",
        "    mean = total / len(numbers)\n",
        "\n",
        "    # total = 0\n",
        "    # for n in numbers:\n",
        "    #     total += n\n",
        "    # mean = total / len(numbers)\n",
        "    return mean\n",
        "\n",
        "    # 범위 지정(마우스 드래그) -> Ctrl + /: 주석 toggle"
      ],
      "execution_count": 6,
      "outputs": []
    },
    {
      "cell_type": "code",
      "metadata": {
        "id": "QdgFcHViRPrR",
        "colab_type": "code",
        "colab": {
          "base_uri": "https://localhost:8080/",
          "height": 38
        },
        "outputId": "9cf6017b-5c21-4844-b84c-31ff36c2cb9e"
      },
      "source": [
        "avg = calculate_mean(scores)\n",
        "print(avg)"
      ],
      "execution_count": 7,
      "outputs": [
        {
          "output_type": "stream",
          "text": [
            "3.0\n"
          ],
          "name": "stdout"
        }
      ]
    },
    {
      "cell_type": "code",
      "metadata": {
        "id": "mcMnbrEXrmMT",
        "colab_type": "code",
        "colab": {}
      },
      "source": [
        "def calculate_variance(numbers: list) -> float:\n",
        "    \"\"\"숫자들을 저장하고 있는 리스트 numbers를 전달받아서, 그 원소들의 분산을 계산해서 리턴.\"\"\"\n",
        "    avg = calculate_mean(numbers)\n",
        "    total = 0\n",
        "    for n in numbers:\n",
        "        total += (n - avg) ** 2\n",
        "    var = total / len(numbers)\n",
        "    return var"
      ],
      "execution_count": 8,
      "outputs": []
    },
    {
      "cell_type": "code",
      "metadata": {
        "id": "uNd1hUwbTRmT",
        "colab_type": "code",
        "colab": {
          "base_uri": "https://localhost:8080/",
          "height": 38
        },
        "outputId": "46696002-e69c-4a64-a7ec-9905a47e4fb0"
      },
      "source": [
        "result = calculate_variance(scores)\n",
        "print(result)"
      ],
      "execution_count": 9,
      "outputs": [
        {
          "output_type": "stream",
          "text": [
            "2.0\n"
          ],
          "name": "stdout"
        }
      ]
    },
    {
      "cell_type": "code",
      "metadata": {
        "id": "Sin-7C6XrwFj",
        "colab_type": "code",
        "colab": {}
      },
      "source": [
        "def calculate_stddev(numbers: list) -> float:\n",
        "    \"\"\"숫자들을 저장하고 있는 리스트 numbers를 전달받아서, 그 원소들의 표준편차를 계산해서 리턴.\"\"\"\n",
        "    return math.sqrt(calculate_variance(numbers))"
      ],
      "execution_count": 11,
      "outputs": []
    },
    {
      "cell_type": "code",
      "metadata": {
        "id": "ci_QgiEIT6GD",
        "colab_type": "code",
        "colab": {
          "base_uri": "https://localhost:8080/",
          "height": 38
        },
        "outputId": "67918822-7761-43df-f948-af2f58520255"
      },
      "source": [
        "result = calculate_stddev(scores)\n",
        "print(result)"
      ],
      "execution_count": 12,
      "outputs": [
        {
          "output_type": "stream",
          "text": [
            "1.4142135623730951\n"
          ],
          "name": "stdout"
        }
      ]
    },
    {
      "cell_type": "code",
      "metadata": {
        "id": "LbkGOmf9r9Py",
        "colab_type": "code",
        "colab": {}
      },
      "source": [
        "def find_min_and_max(numbers: list) -> float:\n",
        "    \"\"\"숫자들을 저장하고 있는 리스트 numbers의 최솟값과 최댓값을 찾아서 리턴.\"\"\"\n",
        "    # min, max = numbers[0], numbers[0]\n",
        "    # min = max = numbers[0]\n",
        "    min = numbers[0]\n",
        "    max = numbers[0]\n",
        "    for n in numbers:\n",
        "        if min > n:\n",
        "            min = n\n",
        "        if max < n:\n",
        "            max = n\n",
        "\n",
        "    return min, max"
      ],
      "execution_count": 13,
      "outputs": []
    },
    {
      "cell_type": "code",
      "metadata": {
        "id": "9EF7m5ixU4tR",
        "colab_type": "code",
        "colab": {
          "base_uri": "https://localhost:8080/",
          "height": 38
        },
        "outputId": "2a492a55-dfe4-4d0a-e53a-36f4ff741156"
      },
      "source": [
        "min_score, max_score = find_min_and_max(scores)\n",
        "print(min_score, max_score)"
      ],
      "execution_count": 15,
      "outputs": [
        {
          "output_type": "stream",
          "text": [
            "1 5\n"
          ],
          "name": "stdout"
        }
      ]
    }
  ]
}