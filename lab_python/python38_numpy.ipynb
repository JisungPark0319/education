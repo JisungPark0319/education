{
  "nbformat": 4,
  "nbformat_minor": 0,
  "metadata": {
    "colab": {
      "name": "python38_numpy.ipynb",
      "provenance": [],
      "collapsed_sections": [],
      "authorship_tag": "ABX9TyNo8C9pF2rQa5L6g4f8FVEp",
      "include_colab_link": true
    },
    "kernelspec": {
      "name": "python3",
      "display_name": "Python 3"
    }
  },
  "cells": [
    {
      "cell_type": "markdown",
      "metadata": {
        "id": "view-in-github",
        "colab_type": "text"
      },
      "source": [
        "<a href=\"https://colab.research.google.com/github/JakeOh/202007_itw_bd18/blob/master/lab_python/python38_numpy.ipynb\" target=\"_parent\"><img src=\"https://colab.research.google.com/assets/colab-badge.svg\" alt=\"Open In Colab\"/></a>"
      ]
    },
    {
      "cell_type": "markdown",
      "metadata": {
        "id": "gWHy4BPZXLAQ",
        "colab_type": "text"
      },
      "source": [
        "# Python list 타입"
      ]
    },
    {
      "cell_type": "code",
      "metadata": {
        "id": "dKwmlIv0WnHd",
        "colab_type": "code",
        "colab": {}
      },
      "source": [
        "numbers1 = [1, 2, 3, 5]\n",
        "numbers2 = [4, 5, 8, 9]"
      ],
      "execution_count": 6,
      "outputs": []
    },
    {
      "cell_type": "code",
      "metadata": {
        "id": "CyilfNiwX2vv",
        "colab_type": "code",
        "colab": {
          "base_uri": "https://localhost:8080/",
          "height": 38
        },
        "outputId": "3a8b877b-72cc-434a-b4f8-a32ff0a6890a"
      },
      "source": [
        "numbers1 + numbers2\n",
        "# list에서 + 연산은 두 개의 리스트를 이어주는 기능(concatenate)"
      ],
      "execution_count": 7,
      "outputs": [
        {
          "output_type": "execute_result",
          "data": {
            "text/plain": [
              "[1, 2, 3, 5, 4, 5, 8, 9]"
            ]
          },
          "metadata": {
            "tags": []
          },
          "execution_count": 7
        }
      ]
    },
    {
      "cell_type": "code",
      "metadata": {
        "id": "yKJozN8mYI7E",
        "colab_type": "code",
        "colab": {
          "base_uri": "https://localhost:8080/",
          "height": 38
        },
        "outputId": "5769d148-2889-412b-ac52-720af68b2610"
      },
      "source": [
        "numbers1.extend(numbers2)\n",
        "numbers1"
      ],
      "execution_count": 8,
      "outputs": [
        {
          "output_type": "execute_result",
          "data": {
            "text/plain": [
              "[1, 2, 3, 5, 4, 5, 8, 9]"
            ]
          },
          "metadata": {
            "tags": []
          },
          "execution_count": 8
        }
      ]
    },
    {
      "cell_type": "code",
      "metadata": {
        "id": "h7C6HkRuYyzN",
        "colab_type": "code",
        "colab": {}
      },
      "source": [
        "numbers1 = [1, 2, 3, 5]\n",
        "numbers2 = [4, 5, 8, 9]\n",
        "# numbers1 - numbers2\n",
        "# TypeError: list는 - 연산을 제공하지 않음!"
      ],
      "execution_count": null,
      "outputs": []
    },
    {
      "cell_type": "code",
      "metadata": {
        "id": "j1VDWrsYZXCt",
        "colab_type": "code",
        "colab": {
          "base_uri": "https://localhost:8080/",
          "height": 38
        },
        "outputId": "f5ec1646-03fd-47e5-c063-cc0526ddf203"
      },
      "source": [
        "# list * list 정의되어 있지 않음!\n",
        "# [1, 2, 3] * [2, 3, 4]\n",
        "\n",
        "# list * 숫자, 숫자 * list: list의 원소들을 숫자만큼 반복해서 리스트의 크기를 늘림.\n",
        "[1, 2, 3] * 2"
      ],
      "execution_count": 12,
      "outputs": [
        {
          "output_type": "execute_result",
          "data": {
            "text/plain": [
              "[1, 2, 3, 1, 2, 3]"
            ]
          },
          "metadata": {
            "tags": []
          },
          "execution_count": 12
        }
      ]
    },
    {
      "cell_type": "code",
      "metadata": {
        "id": "j09ozclhaIp-",
        "colab_type": "code",
        "colab": {}
      },
      "source": [
        "# list / list, list % list, list // list 정의되어 있지 않음!\n",
        "# [1, 2, 3] / [4, 5, 6]\n",
        "\n",
        "# list / 숫자, 숫자 / list 정의되어 있지 않음!"
      ],
      "execution_count": null,
      "outputs": []
    },
    {
      "cell_type": "code",
      "metadata": {
        "id": "2rrecmiUbLCE",
        "colab_type": "code",
        "colab": {}
      },
      "source": [
        "def add_vector(v1, v2):\n",
        "    \"\"\"v1, v2: 숫자들을 원소로 갖는 1차원 리스트(list). 원소의 개수(len)가 같음.\n",
        "    각 원소들끼기(element-wise) 더한 값들로 만들어진 리스트를 생성해서 리턴.\n",
        "\n",
        "    >>> add_vector([1, 2, 3], [2, 3, 4])\n",
        "    [3, 5, 7]\n",
        "    \"\"\"\n",
        "    if len(v1) != len(v2):\n",
        "        raise ValueError('v1과 v2는 길이가 같아야 합니다!')\n",
        "\n",
        "    n = len(v1)\n",
        "    # result = []\n",
        "    # for i in range(n):  # 0, 1, 2, ..., n-1\n",
        "    #     plus = v1[i] + v2[i]\n",
        "    #     result.append(plus)\n",
        "    result = [v1[i] + v2[i] for i in range(n)]\n",
        "\n",
        "    return result"
      ],
      "execution_count": 17,
      "outputs": []
    },
    {
      "cell_type": "code",
      "metadata": {
        "id": "RPXjTmihe1Hb",
        "colab_type": "code",
        "colab": {}
      },
      "source": [
        "add_vector([1, 2, 3], [1, 2])\n",
        "#> ValueError 발생"
      ],
      "execution_count": null,
      "outputs": []
    },
    {
      "cell_type": "code",
      "metadata": {
        "id": "T2WKs7BPfGEx",
        "colab_type": "code",
        "colab": {
          "base_uri": "https://localhost:8080/",
          "height": 38
        },
        "outputId": "2e1e3af8-488c-4976-8740-b4b63f5ded57"
      },
      "source": [
        "add_vector([1, 2, 3], [2, 3, 4])"
      ],
      "execution_count": 18,
      "outputs": [
        {
          "output_type": "execute_result",
          "data": {
            "text/plain": [
              "[3, 5, 7]"
            ]
          },
          "metadata": {
            "tags": []
          },
          "execution_count": 18
        }
      ]
    },
    {
      "cell_type": "code",
      "metadata": {
        "id": "-0rPa2fpgDek",
        "colab_type": "code",
        "colab": {}
      },
      "source": [
        "def add_vector2(v1, v2):\n",
        "    if len(v1) != len(v2):\n",
        "        raise ValueError('v1과 v2는 길이가 같아야 합니다!')\n",
        "\n",
        "    # result = []\n",
        "    # for x, y in zip(v1, v2):\n",
        "    #     plus = x + y\n",
        "    #     result.append(plus)\n",
        "    result = [x + y for x, y in zip(v1, v2)]\n",
        "\n",
        "    return result"
      ],
      "execution_count": 21,
      "outputs": []
    },
    {
      "cell_type": "code",
      "metadata": {
        "id": "f3SoWo20ghvN",
        "colab_type": "code",
        "colab": {
          "base_uri": "https://localhost:8080/",
          "height": 38
        },
        "outputId": "96cdd0d6-c62b-4dc0-ab2c-17be1887d289"
      },
      "source": [
        "add_vector2([1, 2, 3], [2, 3, 4])"
      ],
      "execution_count": 22,
      "outputs": [
        {
          "output_type": "execute_result",
          "data": {
            "text/plain": [
              "[3, 5, 7]"
            ]
          },
          "metadata": {
            "tags": []
          },
          "execution_count": 22
        }
      ]
    },
    {
      "cell_type": "code",
      "metadata": {
        "id": "nKUXwoPtl2cT",
        "colab_type": "code",
        "colab": {}
      },
      "source": [
        "def scalar_multiply(v, n):\n",
        "    \"\"\"v: 숫자들을 원소로 갖는 1차원 리스트. n: 숫자.\n",
        "    리스트 v의 각 원소들에 n을 곱한 값들로 만들어진 리스트를 반환.\n",
        "\n",
        "    >>> scalar_multiply([1, 2, 3], 3)\n",
        "    [3, 6, 9]\n",
        "    \"\"\"\n",
        "    result = [x * n for x in v]\n",
        "    return result"
      ],
      "execution_count": 25,
      "outputs": []
    },
    {
      "cell_type": "code",
      "metadata": {
        "id": "jGCxy_PumtXS",
        "colab_type": "code",
        "colab": {
          "base_uri": "https://localhost:8080/",
          "height": 38
        },
        "outputId": "e23aa61c-3b6d-4337-b707-6082696b534a"
      },
      "source": [
        "scalar_multiply([1, 2, 3], 3)"
      ],
      "execution_count": 26,
      "outputs": [
        {
          "output_type": "execute_result",
          "data": {
            "text/plain": [
              "[3, 6, 9]"
            ]
          },
          "metadata": {
            "tags": []
          },
          "execution_count": 26
        }
      ]
    },
    {
      "cell_type": "code",
      "metadata": {
        "id": "-3Kl9ztFmt3A",
        "colab_type": "code",
        "colab": {}
      },
      "source": [
        "def vector_multiply(v1, v2):\n",
        "    \"\"\"v1, v2: 숫자들을 원소로 하는 1차원 리스트. v1과 v2의 길이는 같음.\n",
        "    두 리스트 v1과 v2의 같은 인덱스에 있는 원소들(element-wise)끼리의 곱을 원소로 갖는 리스트를 반환.\n",
        "\n",
        "    >>> vector_multiply([1, 2, 3], [2, 3, 4])\n",
        "    [2, 6, 12]\n",
        "    \"\"\"\n",
        "    result = [x * y for x, y in zip(v1, v2)]\n",
        "    return result"
      ],
      "execution_count": 27,
      "outputs": []
    },
    {
      "cell_type": "code",
      "metadata": {
        "id": "ml4uMCXLnW_y",
        "colab_type": "code",
        "colab": {
          "base_uri": "https://localhost:8080/",
          "height": 38
        },
        "outputId": "165e25b8-cc37-414d-f133-8743a855dc28"
      },
      "source": [
        "vector_multiply([1, 2, 3], [2, 3, 4])"
      ],
      "execution_count": 28,
      "outputs": [
        {
          "output_type": "execute_result",
          "data": {
            "text/plain": [
              "[2, 6, 12]"
            ]
          },
          "metadata": {
            "tags": []
          },
          "execution_count": 28
        }
      ]
    },
    {
      "cell_type": "code",
      "metadata": {
        "id": "Oh0zL7atrRkJ",
        "colab_type": "code",
        "colab": {}
      },
      "source": [
        "def vector_dot(v1, v2):\n",
        "    \"\"\"v1, v2: 숫자를 원소로 갖는 1차원 리스트. v1과 v2의 길이는 같음.\n",
        "    같은 인덱스의 원소들끼리의 곱들의 합을 반환.\n",
        "    v1 = [x1, x2, ..., xn], v2 = [y1, y2, ... yn].\n",
        "    result = x1 * y1 + x2 * y2 + ... + xn * yn 반환.\n",
        "\n",
        "    >>> vector_dot([1, 2, 3], [2, 3, 4])\n",
        "    20\n",
        "    \"\"\"\n",
        "    if len(v1) != len(v2):\n",
        "        raise ValueError('v1과 v2는 길이가 같아야 합니다!')\n",
        "\n",
        "    # result = 0\n",
        "    # for x, y in zip(v1, v2):\n",
        "    #     result += x * y\n",
        "    result = sum(x * y for x, y in zip(v1, v2))  # generator expression\n",
        "\n",
        "    return result"
      ],
      "execution_count": 37,
      "outputs": []
    },
    {
      "cell_type": "code",
      "metadata": {
        "id": "dR2oG53Ft-rZ",
        "colab_type": "code",
        "colab": {
          "base_uri": "https://localhost:8080/",
          "height": 38
        },
        "outputId": "0f23c44f-371c-401b-b5ab-eaa9f072723c"
      },
      "source": [
        "vector_dot([1, 2, 3], [2, 3, 4])"
      ],
      "execution_count": 38,
      "outputs": [
        {
          "output_type": "execute_result",
          "data": {
            "text/plain": [
              "20"
            ]
          },
          "metadata": {
            "tags": []
          },
          "execution_count": 38
        }
      ]
    },
    {
      "cell_type": "markdown",
      "metadata": {
        "id": "0Zkhe8OgzWvU",
        "colab_type": "text"
      },
      "source": [
        "# NumPy(Numerical Python)\n",
        "\n",
        "* 배열(array: 숫자들의 리스트)을 쉽고, 빠르게 연산(+, - ,*, /, ...)하기 위한 라이브러리.\n",
        "* NumPy의 대부분의 기능(함수, 메서드)들은 반복문의 기능을 가지고 있음.\n",
        "* 같은 인덱스의 원소들끼리(element-wise) 연산을 수행하는 경우가 많음.\n",
        "* numpy.ndarray: n-dimensional array(n차원 배열). NumPy에서 사용하는 데이터 타입(클래스)"
      ]
    },
    {
      "cell_type": "code",
      "metadata": {
        "id": "Zg7XVbde032e",
        "colab_type": "code",
        "colab": {
          "base_uri": "https://localhost:8080/",
          "height": 38
        },
        "outputId": "33a9d1c0-5631-4a1a-9e08-28bae8d12a1f"
      },
      "source": [
        "import numpy as np\n",
        "\n",
        "# 구글 Colab에 설치된 NumPy의 버전 확인\n",
        "np.__version__"
      ],
      "execution_count": 39,
      "outputs": [
        {
          "output_type": "execute_result",
          "data": {
            "application/vnd.google.colaboratory.intrinsic+json": {
              "type": "string"
            },
            "text/plain": [
              "'1.18.5'"
            ]
          },
          "metadata": {
            "tags": []
          },
          "execution_count": 39
        }
      ]
    },
    {
      "cell_type": "code",
      "metadata": {
        "id": "RU2x2Hyg4Hx0",
        "colab_type": "code",
        "colab": {
          "base_uri": "https://localhost:8080/",
          "height": 121
        },
        "outputId": "464fbc2e-b5e7-477a-bf17-e88e5dcba818"
      },
      "source": [
        "print([1, 2, 3])\n",
        "\n",
        "array1 = np.array([1, 2, 3])  # list를 array로 변환\n",
        "print(array1)\n",
        "print(type(array1))\n",
        "\n",
        "# ndarray의 속성(attribute)들\n",
        "print(array1.shape)  # 각 차원(축)의 원소의 개수\n",
        "print(array1.ndim)  # 차원(축) 수"
      ],
      "execution_count": 44,
      "outputs": [
        {
          "output_type": "stream",
          "text": [
            "[1, 2, 3]\n",
            "[1 2 3]\n",
            "<class 'numpy.ndarray'>\n",
            "(3,)\n",
            "1\n"
          ],
          "name": "stdout"
        }
      ]
    },
    {
      "cell_type": "code",
      "metadata": {
        "id": "_mBT6Zv_6uRl",
        "colab_type": "code",
        "colab": {
          "base_uri": "https://localhost:8080/",
          "height": 121
        },
        "outputId": "ba9e7357-7ee9-48cc-95ef-814e421474dc"
      },
      "source": [
        "array2 = np.array([4, 5, 9])\n",
        "\n",
        "print(array1 + array2)  # numpy.ndarray에서 + 연산: 원소들끼리 덧셈 수행. array1.__add__(array2)\n",
        "print(array1 - array2)  # array1.__sub__(array2)\n",
        "print(array1 * array2)\n",
        "print(array1 / array2)\n",
        "print(array2 * 2)\n",
        "\n",
        "# numpy.ndarray 클래스는 연산자 오버로딩(operator overloading)이 되어 있음."
      ],
      "execution_count": 49,
      "outputs": [
        {
          "output_type": "stream",
          "text": [
            "[ 5  7 12]\n",
            "[-3 -3 -6]\n",
            "[ 4 10 27]\n",
            "[0.25       0.4        0.33333333]\n",
            "[ 8 10 18]\n"
          ],
          "name": "stdout"
        }
      ]
    },
    {
      "cell_type": "code",
      "metadata": {
        "id": "ENLORCkEA0UW",
        "colab_type": "code",
        "colab": {
          "base_uri": "https://localhost:8080/",
          "height": 100
        },
        "outputId": "053d8bde-d8f8-4522-db80-36a006fdc029"
      },
      "source": [
        "print(array1)\n",
        "print(array2)\n",
        "print(array1.dot(array2))  # 1*4 + 2*5 + 3*9 = 41\n",
        "print(array1 @ array2) # Python 3.5 버전 이상에서만 가능."
      ],
      "execution_count": 52,
      "outputs": [
        {
          "output_type": "stream",
          "text": [
            "[1 2 3]\n",
            "[4 5 9]\n",
            "41\n",
            "41\n"
          ],
          "name": "stdout"
        }
      ]
    },
    {
      "cell_type": "code",
      "metadata": {
        "id": "53P4IuoaCVKs",
        "colab_type": "code",
        "colab": {
          "base_uri": "https://localhost:8080/",
          "height": 121
        },
        "outputId": "d11e5364-e448-48ea-85a0-74f34e440e73"
      },
      "source": [
        "# 2차원 array의 연산\n",
        "print([[1, 2],\n",
        "       [3, 4]])  # 2차원 리스트(list)\n",
        "\n",
        "array1 = np.array([[1, 2], \n",
        "                   [3, 4]])  # 2차원 ndarray\n",
        "print(array1)\n",
        "\n",
        "array2 = np.array([[1, 2], \n",
        "                   [4, 3]])\n",
        "print(array2)"
      ],
      "execution_count": 55,
      "outputs": [
        {
          "output_type": "stream",
          "text": [
            "[[1, 2], [3, 4]]\n",
            "[[1 2]\n",
            " [3 4]]\n",
            "[[1 2]\n",
            " [4 3]]\n"
          ],
          "name": "stdout"
        }
      ]
    },
    {
      "cell_type": "code",
      "metadata": {
        "id": "V0Zr-QaZDjv6",
        "colab_type": "code",
        "colab": {
          "base_uri": "https://localhost:8080/",
          "height": 58
        },
        "outputId": "001f9b95-fc76-479d-bb26-cd93246a8241"
      },
      "source": [
        "print(array1 + array2)"
      ],
      "execution_count": 56,
      "outputs": [
        {
          "output_type": "stream",
          "text": [
            "[[2 4]\n",
            " [7 7]]\n"
          ],
          "name": "stdout"
        }
      ]
    },
    {
      "cell_type": "code",
      "metadata": {
        "id": "WfoOf7CMEiDD",
        "colab_type": "code",
        "colab": {
          "base_uri": "https://localhost:8080/",
          "height": 58
        },
        "outputId": "92c74863-6226-4ade-bb5a-d06b119990b6"
      },
      "source": [
        "print(3 * array1)  # array1 * 3: __mul__(), 3 * array1: __rmul__()"
      ],
      "execution_count": 57,
      "outputs": [
        {
          "output_type": "stream",
          "text": [
            "[[ 3  6]\n",
            " [ 9 12]]\n"
          ],
          "name": "stdout"
        }
      ]
    },
    {
      "cell_type": "code",
      "metadata": {
        "id": "UaI42G-BFF9y",
        "colab_type": "code",
        "colab": {
          "base_uri": "https://localhost:8080/",
          "height": 100
        },
        "outputId": "2586c9fd-7dfb-4e70-c310-604a07d8e7d8"
      },
      "source": [
        "print(array1 @ array2)\n",
        "print(array2 @ array1)"
      ],
      "execution_count": 59,
      "outputs": [
        {
          "output_type": "stream",
          "text": [
            "[[ 9  8]\n",
            " [19 18]]\n",
            "[[ 7 10]\n",
            " [13 20]]\n"
          ],
          "name": "stdout"
        }
      ]
    },
    {
      "cell_type": "markdown",
      "metadata": {
        "id": "0oDnLeoAHLi2",
        "colab_type": "text"
      },
      "source": [
        "행렬(Matrix)의 내적(Inner Product, Dot Product)\n",
        "* (n, k) @ (k, m) = (n, m)\n",
        "* 연산자 왼쪽 행렬의 column 개수와 연산자 오른쪽 행렬의 row 개수가 다르면 dot product를 수행할 수 없다!\n",
        "* A @ B != B @ A: 교환 법칙이 성립하지 않음."
      ]
    },
    {
      "cell_type": "code",
      "metadata": {
        "id": "hmP5FwykIRbe",
        "colab_type": "code",
        "colab": {
          "base_uri": "https://localhost:8080/",
          "height": 162
        },
        "outputId": "b6df4887-26d9-4f50-e165-aa2ba0088d59"
      },
      "source": [
        "array3 = np.array([[1, 2, 3],\n",
        "                   [2, 3, 4]])  # (2, 3) shape\n",
        "print(array3.shape)\n",
        "\n",
        "array4 = np.array([[1, 2],\n",
        "                   [2, 3],\n",
        "                   [3, 4]])  # (3, 2) shape\n",
        "print(array4.shape)\n",
        "\n",
        "# array3 @ array4 = shape (2, 2)\n",
        "# array4 @ array3 = shape (3, 3)\n",
        "print(array3 @ array4)\n",
        "print(array4 @ array3)"
      ],
      "execution_count": 65,
      "outputs": [
        {
          "output_type": "stream",
          "text": [
            "(2, 3)\n",
            "(3, 2)\n",
            "[[14 20]\n",
            " [20 29]]\n",
            "[[ 5  8 11]\n",
            " [ 8 13 18]\n",
            " [11 18 25]]\n"
          ],
          "name": "stdout"
        }
      ]
    }
  ]
}