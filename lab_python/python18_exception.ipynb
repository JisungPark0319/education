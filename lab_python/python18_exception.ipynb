{
  "nbformat": 4,
  "nbformat_minor": 0,
  "metadata": {
    "colab": {
      "name": "python18_exception.ipynb",
      "provenance": [],
      "collapsed_sections": [],
      "authorship_tag": "ABX9TyMQLaqecn2giUyUlmZzcCNf",
      "include_colab_link": true
    },
    "kernelspec": {
      "name": "python3",
      "display_name": "Python 3"
    }
  },
  "cells": [
    {
      "cell_type": "markdown",
      "metadata": {
        "id": "view-in-github",
        "colab_type": "text"
      },
      "source": [
        "<a href=\"https://colab.research.google.com/github/JakeOh/202007_itw_bd18/blob/master/lab_python/python18_exception.ipynb\" target=\"_parent\"><img src=\"https://colab.research.google.com/assets/colab-badge.svg\" alt=\"Open In Colab\"/></a>"
      ]
    },
    {
      "cell_type": "markdown",
      "metadata": {
        "id": "p8LDU1u7IFl9",
        "colab_type": "text"
      },
      "source": [
        "error, exception: 프로그램 실행 중에 발생할 수 있는 오류\n",
        "<br>\n",
        "프로그램 실행 중에 오류가 발생했을 때 해결 방법:\n",
        "*   오류가 발생한 코드 위치를 찾아서 오류가 발생하지 않도록 코드를 수정.\n",
        "*   오류가 발생하더라도, 프로그램이 계속 실행될 수 있도록 처리. (try구문)\n",
        "\n"
      ]
    },
    {
      "cell_type": "code",
      "metadata": {
        "id": "FYYdLhrcH4Lo",
        "colab_type": "code",
        "colab": {
          "base_uri": "https://localhost:8080/",
          "height": 38
        },
        "outputId": "f3715e3e-e040-470e-f45a-8d02bc5bb06a"
      },
      "source": [
        "# prnit('hello')  # NameError\n",
        "print('hello')"
      ],
      "execution_count": 2,
      "outputs": [
        {
          "output_type": "stream",
          "text": [
            "hello\n"
          ],
          "name": "stdout"
        }
      ]
    },
    {
      "cell_type": "code",
      "metadata": {
        "id": "pFBNb-00JUN4",
        "colab_type": "code",
        "colab": {}
      },
      "source": [
        "# n = int('100.')  # ValueError\n",
        "n = int('100')"
      ],
      "execution_count": 7,
      "outputs": []
    },
    {
      "cell_type": "code",
      "metadata": {
        "id": "JpZKG8tFKB3i",
        "colab_type": "code",
        "colab": {
          "base_uri": "https://localhost:8080/",
          "height": 38
        },
        "outputId": "2f7b40b7-88e2-48cb-bb6e-3c450a5e59c5"
      },
      "source": [
        "numbers = [1, 2, 3]\n",
        "# print(numbers[3])  # IndexError\n",
        "print(numbers[2])"
      ],
      "execution_count": 9,
      "outputs": [
        {
          "output_type": "stream",
          "text": [
            "3\n"
          ],
          "name": "stdout"
        }
      ]
    },
    {
      "cell_type": "code",
      "metadata": {
        "id": "yvH5U44MKqOq",
        "colab_type": "code",
        "colab": {
          "base_uri": "https://localhost:8080/",
          "height": 38
        },
        "outputId": "4663d3e4-9c8f-46f9-ad58-dead63e5adf9"
      },
      "source": [
        "# '123' + 100  # TypeError\n",
        "'123' + '456'"
      ],
      "execution_count": 11,
      "outputs": [
        {
          "output_type": "execute_result",
          "data": {
            "application/vnd.google.colaboratory.intrinsic+json": {
              "type": "string"
            },
            "text/plain": [
              "'123456'"
            ]
          },
          "metadata": {
            "tags": []
          },
          "execution_count": 11
        }
      ]
    },
    {
      "cell_type": "code",
      "metadata": {
        "id": "ryNTAwpXLPF5",
        "colab_type": "code",
        "colab": {}
      },
      "source": [
        "# 123 / 0  # ZeroDivisionError"
      ],
      "execution_count": 13,
      "outputs": []
    },
    {
      "cell_type": "markdown",
      "metadata": {
        "id": "SPzESoc4Lv10",
        "colab_type": "text"
      },
      "source": [
        "**try 구문**\n",
        "\n",
        "```\n",
        "try:\n",
        "    실행할 문장들\n",
        "except [에러이름 [as 별명]]:\n",
        "    에러가 발생했을 때 실행할 문장들\n",
        "[else:\n",
        "    에러 없이 try 블록 안의 모든 문장들이 정상적으로 실행됐을 때 실행할 문장들]\n",
        "[finally:\n",
        "    에러 발생 여부에 상관없이 항상 실행할 문장들]\n",
        "```\n"
      ]
    },
    {
      "cell_type": "code",
      "metadata": {
        "id": "VRDsXfqdNPbr",
        "colab_type": "code",
        "colab": {
          "base_uri": "https://localhost:8080/",
          "height": 121
        },
        "outputId": "5613f7e8-c3a3-41a7-df28-d99ba1211f7e"
      },
      "source": [
        "try:\n",
        "    numbers = [1, 2, 3]\n",
        "    for i in range(0, 100):\n",
        "        print(i, ':', numbers[i])\n",
        "    print('try 종료')\n",
        "except IndexError as e:\n",
        "    print('error 발생:', e)\n",
        "else:\n",
        "    print('예외 발생하지 않았음.')\n",
        "finally:\n",
        "    print('finally 블록')"
      ],
      "execution_count": 30,
      "outputs": [
        {
          "output_type": "stream",
          "text": [
            "0 : 1\n",
            "1 : 2\n",
            "2 : 3\n",
            "error 발생: list index out of range\n",
            "finally 블록\n"
          ],
          "name": "stdout"
        }
      ]
    },
    {
      "cell_type": "code",
      "metadata": {
        "id": "4NxK6jCaWega",
        "colab_type": "code",
        "colab": {
          "base_uri": "https://localhost:8080/",
          "height": 183
        },
        "outputId": "fcf441b1-1c72-4036-a868-15c46bdb3b8c"
      },
      "source": [
        "while True:  # 무한 루프\n",
        "    try:\n",
        "        n = int(input('정수 입력>>> '))\n",
        "        print('n =', n)\n",
        "        break  # 무한 루프 종료\n",
        "    except ValueError:\n",
        "        print('입력값은 정수여야 합니다...')"
      ],
      "execution_count": 36,
      "outputs": [
        {
          "output_type": "stream",
          "text": [
            "정수 입력>>> a\n",
            "입력값은 정수여야 합니다...\n",
            "정수 입력>>> q\n",
            "입력값은 정수여야 합니다...\n",
            "정수 입력>>> asf\n",
            "입력값은 정수여야 합니다...\n",
            "정수 입력>>> 123\n",
            "n = 123\n"
          ],
          "name": "stdout"
        }
      ]
    },
    {
      "cell_type": "code",
      "metadata": {
        "id": "hRr7Jj6heqTp",
        "colab_type": "code",
        "colab": {
          "base_uri": "https://localhost:8080/",
          "height": 58
        },
        "outputId": "6040a48c-5ff2-4ca1-f145-1720dd73a7ad"
      },
      "source": [
        "# 사용자 정의 오류를 발생시키는 방법: raise 에러이름('에러 메시지')\n",
        "\n",
        "try:\n",
        "    age = int(input('나이 입력>>> '))\n",
        "    if age < 0:\n",
        "        raise ValueError('나이는 0보다 크거나 같아야 합니다!')\n",
        "except ValueError as e:\n",
        "    print(e)\n",
        "else:\n",
        "    print('나이:', age)"
      ],
      "execution_count": 44,
      "outputs": [
        {
          "output_type": "stream",
          "text": [
            "나이 입력>>> -16\n",
            "나이는 0보다 크거나 같아야 합니다!\n"
          ],
          "name": "stdout"
        }
      ]
    },
    {
      "cell_type": "code",
      "metadata": {
        "id": "PR_fLfuzhdg3",
        "colab_type": "code",
        "colab": {
          "base_uri": "https://localhost:8080/",
          "height": 38
        },
        "outputId": "6b24ac3c-7494-42d6-e090-f3b8e1015cac"
      },
      "source": [
        "words = ['apple', 'banana', 'apple', 'cherry', 'banana']\n",
        "word_counts = dict()\n",
        "for word in words:\n",
        "    try:\n",
        "        word_counts[word] += 1\n",
        "    except KeyError:\n",
        "        word_counts[word] = 1\n",
        "\n",
        "print(word_counts)"
      ],
      "execution_count": 46,
      "outputs": [
        {
          "output_type": "stream",
          "text": [
            "{'apple': 2, 'banana': 2, 'cherry': 1}\n"
          ],
          "name": "stdout"
        }
      ]
    }
  ]
}