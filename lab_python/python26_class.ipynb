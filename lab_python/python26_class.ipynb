{
  "nbformat": 4,
  "nbformat_minor": 0,
  "metadata": {
    "colab": {
      "name": "python26_class.ipynb",
      "provenance": [],
      "collapsed_sections": [],
      "authorship_tag": "ABX9TyPteU5CccbmWau1HDY6hnkX",
      "include_colab_link": true
    },
    "kernelspec": {
      "name": "python3",
      "display_name": "Python 3"
    }
  },
  "cells": [
    {
      "cell_type": "markdown",
      "metadata": {
        "id": "view-in-github",
        "colab_type": "text"
      },
      "source": [
        "<a href=\"https://colab.research.google.com/github/JakeOh/202007_itw_bd18/blob/master/lab_python/python26_class.ipynb\" target=\"_parent\"><img src=\"https://colab.research.google.com/assets/colab-badge.svg\" alt=\"Open In Colab\"/></a>"
      ]
    },
    {
      "cell_type": "markdown",
      "metadata": {
        "id": "THdcty1jULlq",
        "colab_type": "text"
      },
      "source": [
        "**객체 지향 프로그래밍(Object-Oriented Programming)**\n",
        "\n",
        "\n",
        "*   객체(Object): 소프트웨어로 구현할 대상.\n",
        "*   클래스(Class): 객체를 구현하기 위한 설계도.\n",
        "*   인스턴스(Instance): 설계도인 클래스에 따라서 구현된 실체.\n",
        "*   intanciate(인스턴스화): 클래스의 객체를 메모리에 생성하는 과정. 인스턴스 생성. 인스턴스를 만듦.\n",
        "\n"
      ]
    },
    {
      "cell_type": "markdown",
      "metadata": {
        "id": "AEp9xutHVk3e",
        "colab_type": "text"
      },
      "source": [
        "\n",
        "\n",
        "*   TV: 소프트웨어로 구현하려고 하는 대상.\n",
        "*   TV 설계:\n",
        "    *   TV 기능: 1) 전원 on/off 2) 채널 변경 3) 볼륨 변경  --> 함수(메서드)\n",
        "    *   TV 상태: 1) 전원 상태 2) 현재 채널 3) 현재 볼륨  --> 변수(값 저장)\n",
        "*   설계도를 가지고 생산된 TV\n",
        "\n"
      ]
    },
    {
      "cell_type": "code",
      "metadata": {
        "id": "_ckVyUR-UFC2",
        "colab_type": "code",
        "colab": {}
      },
      "source": [
        "class BasicTv:\n",
        "    def __init__(self, power=False, channel=0, volume=0):\n",
        "        # 클래스의 속성(attribute) - 필드(field), 인스턴스 변수(instance variable)\n",
        "        self.power = power\n",
        "        self.channel = channel\n",
        "        self.volume = volume\n",
        "\n",
        "    # 클래스의 기능(functionality) - 메서드(method)\n",
        "    def power_on_off(self):\n",
        "        if self.power:  # TV가 켜져 있으면:\n",
        "            self.power = False  # TV를 끔.\n",
        "            print('TV OFF')\n",
        "        else:  # TV가 꺼져 있으면\n",
        "            self.power = True  # TV를 켬.\n",
        "            print('TV ON')\n",
        "\n",
        "    def channel_up(self):\n",
        "        if self.power:  # TV가 켜져 있으면, \n",
        "            # if self.channel == 5:\n",
        "            #     self.channel = 0\n",
        "            # else:\n",
        "            #     self.channel += 1\n",
        "            if self.channel < 5:  # 현재 채널값이 채널의 최댓값보다 작은 경우,\n",
        "                self.channel += 1  # 현재 채널 값을 1 증가.\n",
        "            else:  # 현재 채널값이 최댓값보다 작지 않은 경우,\n",
        "                self.channel = 0  # 채널의 값을 최솟값으로 순환시킴.\n",
        "            print('channel =', self.channel)\n",
        "        else:  # self.power == False\n",
        "            print('사용자 메시지')\n",
        "\n",
        "    def channel_down(self):\n",
        "        if self.power:  # TV가 켜져 있으면,\n",
        "            if self.channel > 0:  # 현재 채널이 최솟값보다 크면,\n",
        "                self.channel -= 1  # 현재 채널 값을 1 감소.\n",
        "            else:  # 현재 채널이 최솟값보다 크지 않다면(최솟값이면),\n",
        "                self.channel = 5  # 현재 채널을 채널의 최댓값으로 변경.\n",
        "            print('channel =', self.channel)\n",
        "\n",
        "    def volume_up(self):\n",
        "        if self.power:  # TV가 켜져 있으면,\n",
        "            if self.volume < 5:  # 현재 음량이 최댓값보다 작으면,\n",
        "                self.volume += 1  # 음량을 1 증가.\n",
        "            print('volume =', self.volume)\n",
        "\n",
        "    def volume_down(self):\n",
        "        if self.power:  # TV가 켜져 있으면,\n",
        "            if self.volume > 0:  # 현재 음량이 최솟값보다 크다면,\n",
        "                self.volume -= 1  # 음량을 1 감소.\n",
        "            print('volume =', self.volume)"
      ],
      "execution_count": 19,
      "outputs": []
    },
    {
      "cell_type": "markdown",
      "metadata": {
        "id": "brTHrnGWDpus",
        "colab_type": "text"
      },
      "source": [
        "BasicTV 클래스 기능 수정\n",
        "\n",
        "1.   전원이 켜져 있는 상태(self.power == True)에서만 channel_up/down, volume_up/down 기능이 수행되어야 함.\n",
        "2.   채널과 음량은 최솟값(0), 최댓값(5)이 있음.\n",
        "     * 채널을 최댓값에서 channel_up을 실행하면 0(최솟값)으로 변경.\n",
        "     * 채널을 최솟값에서 channel_down을 실행하면 5(최댓값)으로 변경.\n",
        "     * 음량을 최댓값에서 volume_up을 실행하면 최댓값 상태 그래로 있어야 함.\n",
        "     * 음량을 최솟값에서 volume_down을 실행하면 최솟값 상태 그래로 있어야 함.\n"
      ]
    },
    {
      "cell_type": "code",
      "metadata": {
        "id": "1B-so0v-Z-Pj",
        "colab_type": "code",
        "colab": {
          "base_uri": "https://localhost:8080/",
          "height": 79
        },
        "outputId": "4dc5f37a-226e-499d-af4f-6423a3e0cccb"
      },
      "source": [
        "# instanticate: 클래스 BasicTv의 인스턴스를 생성.\n",
        "tv1 = BasicTv()  # 생성자 함수(constructor) 호출 => __init__() 메서드 호출\n",
        "print(id(tv1))  # BasicTv 인스턴스가 생성된 메모리의 주소\n",
        "print(type(tv1))  # 데이터 타입\n",
        "print(f'전원: {tv1.power}, 채널: {tv1.channel}, 음량: {tv1.volume}')"
      ],
      "execution_count": 20,
      "outputs": [
        {
          "output_type": "stream",
          "text": [
            "140099631032360\n",
            "<class '__main__.BasicTv'>\n",
            "전원: False, 채널: 0, 음량: 0\n"
          ],
          "name": "stdout"
        }
      ]
    },
    {
      "cell_type": "code",
      "metadata": {
        "id": "zB8I1qKO1MlX",
        "colab_type": "code",
        "colab": {
          "base_uri": "https://localhost:8080/",
          "height": 38
        },
        "outputId": "cf1f570e-d0b8-4702-d0a8-e23328f8c690"
      },
      "source": [
        "# TV가 꺼져 있는 상태(power == False)에서, channel_up/down, volume_up/down 테스트\n",
        "tv1.channel_up()\n",
        "tv1.channel_down()\n",
        "tv1.volume_up()\n",
        "tv1.volume_down()"
      ],
      "execution_count": 21,
      "outputs": [
        {
          "output_type": "stream",
          "text": [
            "사용자 메시지\n"
          ],
          "name": "stdout"
        }
      ]
    },
    {
      "cell_type": "code",
      "metadata": {
        "id": "JGd5101fpsbI",
        "colab_type": "code",
        "colab": {
          "base_uri": "https://localhost:8080/",
          "height": 38
        },
        "outputId": "fbbb63ab-c17b-46c2-dc9b-134dfc48cbe5"
      },
      "source": [
        "tv1.power_on_off()  #> OFF(self.power = False) -> ON(self.power = True)"
      ],
      "execution_count": 22,
      "outputs": [
        {
          "output_type": "stream",
          "text": [
            "TV ON\n"
          ],
          "name": "stdout"
        }
      ]
    },
    {
      "cell_type": "code",
      "metadata": {
        "id": "RBQzEyxX0vbd",
        "colab_type": "code",
        "colab": {
          "base_uri": "https://localhost:8080/",
          "height": 162
        },
        "outputId": "7a13bd55-ba23-44de-f6eb-ff0017d6a38e"
      },
      "source": [
        "tv1.channel_up()  #> ch: 0 -> 1\n",
        "tv1.channel_up()  #> ch: 1 -> 2\n",
        "tv1.channel_up()  #> ch: 2 -> 3\n",
        "tv1.channel_up()\n",
        "tv1.channel_up()\n",
        "tv1.channel_up()\n",
        "tv1.channel_up()"
      ],
      "execution_count": 23,
      "outputs": [
        {
          "output_type": "stream",
          "text": [
            "channel = 1\n",
            "channel = 2\n",
            "channel = 3\n",
            "channel = 4\n",
            "channel = 5\n",
            "channel = 0\n",
            "channel = 1\n"
          ],
          "name": "stdout"
        }
      ]
    },
    {
      "cell_type": "code",
      "metadata": {
        "id": "fDNx4y2X1OlV",
        "colab_type": "code",
        "colab": {
          "base_uri": "https://localhost:8080/",
          "height": 58
        },
        "outputId": "18189237-54b3-4778-c95a-869401099798"
      },
      "source": [
        "tv1.channel_down()  \n",
        "tv1.channel_down()  "
      ],
      "execution_count": 24,
      "outputs": [
        {
          "output_type": "stream",
          "text": [
            "channel = 0\n",
            "channel = 5\n"
          ],
          "name": "stdout"
        }
      ]
    },
    {
      "cell_type": "code",
      "metadata": {
        "id": "CUzh_6f89Ql6",
        "colab_type": "code",
        "colab": {
          "base_uri": "https://localhost:8080/",
          "height": 308
        },
        "outputId": "5a5c3c84-3c08-41df-e901-0bc2a23bcb35"
      },
      "source": [
        "for _ in range(7):\n",
        "    tv1.volume_up()\n",
        "\n",
        "for _ in range(7):\n",
        "    tv1.volume_down()"
      ],
      "execution_count": 25,
      "outputs": [
        {
          "output_type": "stream",
          "text": [
            "volume = 1\n",
            "volume = 2\n",
            "volume = 3\n",
            "volume = 4\n",
            "volume = 5\n",
            "volume = 5\n",
            "volume = 5\n",
            "volume = 4\n",
            "volume = 3\n",
            "volume = 2\n",
            "volume = 1\n",
            "volume = 0\n",
            "volume = 0\n",
            "volume = 0\n"
          ],
          "name": "stdout"
        }
      ]
    },
    {
      "cell_type": "code",
      "metadata": {
        "id": "wT75VhNqy0xd",
        "colab_type": "code",
        "colab": {
          "base_uri": "https://localhost:8080/",
          "height": 38
        },
        "outputId": "419eefc1-8b94-42ca-fc39-05ea9d7a0ad1"
      },
      "source": [
        "tv1.power_on_off()  #> ON(self.power = True) -> OFF(self.power = False)"
      ],
      "execution_count": 26,
      "outputs": [
        {
          "output_type": "stream",
          "text": [
            "TV OFF\n"
          ],
          "name": "stdout"
        }
      ]
    },
    {
      "cell_type": "code",
      "metadata": {
        "id": "tE3r7r5Nkd2Z",
        "colab_type": "code",
        "colab": {
          "base_uri": "https://localhost:8080/",
          "height": 79
        },
        "outputId": "302cab8e-7366-417d-d974-791b0b4eacb0"
      },
      "source": [
        "tv2 = BasicTv(power=True, channel=11, volume=10)\n",
        "print(id(tv2))\n",
        "print(type(tv2))\n",
        "print(f'전원: {tv2.power}, 채널: {tv2.channel}, 음량: {tv2.volume}')"
      ],
      "execution_count": 27,
      "outputs": [
        {
          "output_type": "stream",
          "text": [
            "140099632033632\n",
            "<class '__main__.BasicTv'>\n",
            "전원: True, 채널: 11, 음량: 10\n"
          ],
          "name": "stdout"
        }
      ]
    },
    {
      "cell_type": "code",
      "metadata": {
        "id": "kaDks48DrWIo",
        "colab_type": "code",
        "colab": {
          "base_uri": "https://localhost:8080/",
          "height": 38
        },
        "outputId": "2b7eaca3-fc96-4567-afd1-19484e1a0b3f"
      },
      "source": [
        "tv2.power_on_off()"
      ],
      "execution_count": 28,
      "outputs": [
        {
          "output_type": "stream",
          "text": [
            "TV OFF\n"
          ],
          "name": "stdout"
        }
      ]
    }
  ]
}