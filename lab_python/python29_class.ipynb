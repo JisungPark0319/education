{
  "nbformat": 4,
  "nbformat_minor": 0,
  "metadata": {
    "colab": {
      "name": "python29_class.ipynb",
      "provenance": [],
      "collapsed_sections": [],
      "authorship_tag": "ABX9TyPgGfQI2KbNTp3x4o6Ad4XM",
      "include_colab_link": true
    },
    "kernelspec": {
      "name": "python3",
      "display_name": "Python 3"
    }
  },
  "cells": [
    {
      "cell_type": "markdown",
      "metadata": {
        "id": "view-in-github",
        "colab_type": "text"
      },
      "source": [
        "<a href=\"https://colab.research.google.com/github/JakeOh/202007_itw_bd18/blob/master/lab_python/python29_class.ipynb\" target=\"_parent\"><img src=\"https://colab.research.google.com/assets/colab-badge.svg\" alt=\"Open In Colab\"/></a>"
      ]
    },
    {
      "cell_type": "markdown",
      "metadata": {
        "id": "0-FAo8ob6N_w",
        "colab_type": "text"
      },
      "source": [
        "함수 또는 메서드에서 return\n",
        "*   함수/메서드를 호출한 곳에 값을 반환할 필요가 있을 때 return 사용.\n",
        "*   함수/메서드를 호출한 곳에 값을 반환할 필요가 없을 때는 return을 사용하지 않음.\n",
        "*   파이썬은 return문을 사용하지 않은 경우에 return None이 생략된 것으로 간주함."
      ]
    },
    {
      "cell_type": "code",
      "metadata": {
        "id": "pc3bE8w-eNvR",
        "colab_type": "code",
        "colab": {}
      },
      "source": [
        "class Account:\n",
        "    \"\"\"은행 계좌: 속성(계좌번호: 문자열, 잔고: 숫자) + 기능(입금, 출금, 이체)\"\"\"\n",
        "    \n",
        "    def __init__(self, account_no, balance):\n",
        "        self.account_no = account_no\n",
        "        self.balance = balance\n",
        "\n",
        "    def __repr__(self):\n",
        "        return f'Account(No.={self.account_no}, balance={self.balance})'\n",
        "\n",
        "    def __eq__(self, other):\n",
        "        if isinstance(other, Account):\n",
        "            return self.account_no == other.account_no\n",
        "        else:\n",
        "            return False\n",
        "\n",
        "    def deposit(self, amount):\n",
        "        \"\"\"amount 금액을 입금 기능\"\"\"\n",
        "        self.balance += amount\n",
        "\n",
        "    def withdraw(self, amount):\n",
        "        \"\"\"amount 금액을 출금 기능\"\"\"\n",
        "        self.balance -= amount\n",
        "\n",
        "    def transfer(self, amount, to):\n",
        "        \"\"\"amount 금액을 to에게 이체 기능\"\"\"\n",
        "        self.withdraw(amount)  # 내 계좌에서 amount 출금\n",
        "        to.deposit(amount)  # 상대방 계좌에 amount 입금\n"
      ],
      "execution_count": null,
      "outputs": []
    },
    {
      "cell_type": "code",
      "metadata": {
        "id": "w4MAQtw3jmWj",
        "colab_type": "code",
        "colab": {
          "base_uri": "https://localhost:8080/",
          "height": 162
        },
        "outputId": "882e7364-4db2-4bc2-9e21-1e6b8fc89c9f"
      },
      "source": [
        "account1 = Account('123-456', 10_000)\n",
        "print(account1, '@', id(account1))\n",
        "\n",
        "account2 = Account('123-789', 10_000)\n",
        "print(account2, '@', id(account2))\n",
        "\n",
        "print(account1 == account2)\n",
        "\n",
        "account1.deposit(1_000)\n",
        "print(account1)\n",
        "\n",
        "account2.withdraw(1_000)\n",
        "print(account2)\n",
        "\n",
        "account1.transfer(5_000, account2)\n",
        "print(account1)\n",
        "print(account2)"
      ],
      "execution_count": null,
      "outputs": [
        {
          "output_type": "stream",
          "text": [
            "Account(No.=123-456, balance=10000) @ 140183202536528\n",
            "Account(No.=123-789, balance=10000) @ 140183202444176\n",
            "False\n",
            "Account(No.=123-456, balance=11000)\n",
            "Account(No.=123-789, balance=9000)\n",
            "Account(No.=123-456, balance=6000)\n",
            "Account(No.=123-789, balance=14000)\n"
          ],
          "name": "stdout"
        }
      ]
    }
  ]
}