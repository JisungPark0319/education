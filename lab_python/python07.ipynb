{
  "nbformat": 4,
  "nbformat_minor": 0,
  "metadata": {
    "colab": {
      "name": "python07.ipynb",
      "provenance": [],
      "collapsed_sections": [],
      "authorship_tag": "ABX9TyOAFMKT74ZlHTqYTWj9q8U8",
      "include_colab_link": true
    },
    "kernelspec": {
      "name": "python3",
      "display_name": "Python 3"
    }
  },
  "cells": [
    {
      "cell_type": "markdown",
      "metadata": {
        "id": "view-in-github",
        "colab_type": "text"
      },
      "source": [
        "<a href=\"https://colab.research.google.com/github/JakeOh/202007_itw_bd18/blob/master/lab_python/python07.ipynb\" target=\"_parent\"><img src=\"https://colab.research.google.com/assets/colab-badge.svg\" alt=\"Open In Colab\"/></a>"
      ]
    },
    {
      "cell_type": "code",
      "metadata": {
        "id": "5x3qzF_Ql2dd",
        "colab_type": "code",
        "colab": {}
      },
      "source": [
        "import random  # random 모듈을 사용\n",
        "# 모듈(module): 파이썬 함수와 변수들을 작성한 파이썬 파일."
      ],
      "execution_count": 1,
      "outputs": []
    },
    {
      "cell_type": "code",
      "metadata": {
        "id": "CegACS-LmEty",
        "colab_type": "code",
        "colab": {
          "base_uri": "https://localhost:8080/",
          "height": 35
        },
        "outputId": "17f12958-7e50-45bb-dcbb-53aaf4246e3b"
      },
      "source": [
        "random.random()\n",
        "# 0 이상 1 미만의 난수(random number)를 생성해 주는 함수."
      ],
      "execution_count": 7,
      "outputs": [
        {
          "output_type": "execute_result",
          "data": {
            "text/plain": [
              "0.7391587007207066"
            ]
          },
          "metadata": {
            "tags": []
          },
          "execution_count": 7
        }
      ]
    },
    {
      "cell_type": "code",
      "metadata": {
        "id": "QQmfdaaDnBhK",
        "colab_type": "code",
        "colab": {
          "base_uri": "https://localhost:8080/",
          "height": 35
        },
        "outputId": "52cd8b62-c20b-4550-888e-c995c850e086"
      },
      "source": [
        "random.randint(1, 3)\n",
        "# randint(a, b): a보다 크거나 같고, b보다 작거나 같은 정수들 중에서 난수를 생성.\n",
        "# a <= r <= b 인 난수 r"
      ],
      "execution_count": 23,
      "outputs": [
        {
          "output_type": "execute_result",
          "data": {
            "text/plain": [
              "3"
            ]
          },
          "metadata": {
            "tags": []
          },
          "execution_count": 23
        }
      ]
    },
    {
      "cell_type": "code",
      "metadata": {
        "id": "WYqSHwx_nj3f",
        "colab_type": "code",
        "colab": {
          "base_uri": "https://localhost:8080/",
          "height": 35
        },
        "outputId": "df177054-1f46-484f-c4ed-a26d47dca8c0"
      },
      "source": [
        "random.randrange(1, 3)\n",
        "# randrange(a, b): a보다 크거나 같고, b보다 작은 정수들 중에서 난수를 생성.\n",
        "# a <= r < b 인 난수 r"
      ],
      "execution_count": 33,
      "outputs": [
        {
          "output_type": "execute_result",
          "data": {
            "text/plain": [
              "2"
            ]
          },
          "metadata": {
            "tags": []
          },
          "execution_count": 33
        }
      ]
    },
    {
      "cell_type": "code",
      "metadata": {
        "id": "zPhU2km9pZmg",
        "colab_type": "code",
        "colab": {
          "base_uri": "https://localhost:8080/",
          "height": 109
        },
        "outputId": "877cea46-b205-48e4-99c5-791ff7d0db26"
      },
      "source": [
        "print('=== 가위/바위/보 ===')\n",
        "print('[1] 가위')\n",
        "print('[2] 바위')\n",
        "print('[3] 보')\n",
        "user = int(input('선택>>> '))"
      ],
      "execution_count": 35,
      "outputs": [
        {
          "output_type": "stream",
          "text": [
            "=== 가위/바위/보 ===\n",
            "[1] 가위\n",
            "[2] 바위\n",
            "[3] 보\n",
            "선택>>> 2\n"
          ],
          "name": "stdout"
        }
      ]
    },
    {
      "cell_type": "code",
      "metadata": {
        "id": "IUuMzQ36qAxp",
        "colab_type": "code",
        "colab": {
          "base_uri": "https://localhost:8080/",
          "height": 35
        },
        "outputId": "b4731989-6c22-47de-b888-1f3363d8b172"
      },
      "source": [
        "computer = random.randrange(1, 4)  # 1 <= r < 4 인 정수 난수 생성.\n",
        "print(f'computer = {computer}')"
      ],
      "execution_count": 41,
      "outputs": [
        {
          "output_type": "stream",
          "text": [
            "computer = 1\n"
          ],
          "name": "stdout"
        }
      ]
    },
    {
      "cell_type": "code",
      "metadata": {
        "id": "LrwVyCcAqnaZ",
        "colab_type": "code",
        "colab": {}
      },
      "source": [
        "# if-elif-else 구문을 사용해서 user와 computer의 가위/바위/보 승패 결정.\n",
        "if user == 1:    # user = 가위\n",
        "    if computer == 1:    # com = 가위\n",
        "        pass\n",
        "    elif computer == 2:  # com = 바위\n",
        "        pass\n",
        "    else:                # com = 보\n",
        "        pass\n",
        "elif user == 2:  # user = 바위\n",
        "    if computer == 1:    # com = 가위\n",
        "        pass\n",
        "    elif computer == 2:  # com = 바위\n",
        "        pass\n",
        "    else:                # com = 보\n",
        "        pass\n",
        "else:            # user = 보\n",
        "    if computer == 1:    # com = 가위\n",
        "        pass\n",
        "    elif computer == 2:  # com = 바위\n",
        "        pass\n",
        "    else:                # com = 보\n",
        "        pass"
      ],
      "execution_count": 43,
      "outputs": []
    },
    {
      "cell_type": "code",
      "metadata": {
        "id": "PNIK0ZnI1zqm",
        "colab_type": "code",
        "colab": {}
      },
      "source": [
        "if user == computer:  # user와 computer가 같은 선택을 한 경우(비김)\n",
        "    pass\n",
        "elif user == 1:  # user = 가위\n",
        "    if computer == 2:  # com = 바위\n",
        "        pass\n",
        "    else:  # com = 보\n",
        "        pass\n",
        "elif user == 2:  # user = 바위\n",
        "    if computer == 1:  # com = 가위\n",
        "        pass\n",
        "    else:  # com = 보\n",
        "        pass\n",
        "else:  # user = 보\n",
        "    if computer == 1:  # com = 가위\n",
        "        pass\n",
        "    else: # com = 바위\n",
        "        pass"
      ],
      "execution_count": null,
      "outputs": []
    },
    {
      "cell_type": "code",
      "metadata": {
        "id": "xMhqmCZI4HCZ",
        "colab_type": "code",
        "colab": {}
      },
      "source": [
        "if user == 1 and computer == 3:  # user=가위 vs com=보\n",
        "    pass\n",
        "elif user == 2 and computer == 1:  # user=바위 vs com=가위\n",
        "    pass\n",
        "elif user == 3 and computer == 2:  # user=보 vs com=바위\n",
        "    pass\n",
        "elif user == computer:  # 비김\n",
        "    pass\n",
        "else:  # computer 승\n",
        "    pass"
      ],
      "execution_count": null,
      "outputs": []
    },
    {
      "cell_type": "code",
      "metadata": {
        "id": "ZndOCLe05gAV",
        "colab_type": "code",
        "colab": {
          "base_uri": "https://localhost:8080/",
          "height": 35
        },
        "outputId": "8c4c7252-78e5-4dd1-8a4e-28845d22611f"
      },
      "source": [
        "score = user - computer\n",
        "# user 승: score == 1 or score == -2\n",
        "# 비김: score == 0\n",
        "# com 승: score == 2 or score == -1\n",
        "\n",
        "if score == 0:  # 비김\n",
        "    print('Tie')\n",
        "elif score == 1 or score == -2:  # user 승\n",
        "    print('User Won!')\n",
        "else:  # computer 승\n",
        "    print('Computer Won!')"
      ],
      "execution_count": 47,
      "outputs": [
        {
          "output_type": "stream",
          "text": [
            "User Won!\n"
          ],
          "name": "stdout"
        }
      ]
    }
  ]
}