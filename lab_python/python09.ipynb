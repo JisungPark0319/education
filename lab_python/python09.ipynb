{
  "nbformat": 4,
  "nbformat_minor": 0,
  "metadata": {
    "colab": {
      "name": "python09.ipynb",
      "provenance": [],
      "collapsed_sections": [],
      "authorship_tag": "ABX9TyOFDt2PGD1XZeKxChRoGwfo",
      "include_colab_link": true
    },
    "kernelspec": {
      "name": "python3",
      "display_name": "Python 3"
    }
  },
  "cells": [
    {
      "cell_type": "markdown",
      "metadata": {
        "id": "view-in-github",
        "colab_type": "text"
      },
      "source": [
        "<a href=\"https://colab.research.google.com/github/JakeOh/202007_itw_bd18/blob/master/lab_python/python09.ipynb\" target=\"_parent\"><img src=\"https://colab.research.google.com/assets/colab-badge.svg\" alt=\"Open In Colab\"/></a>"
      ]
    },
    {
      "cell_type": "markdown",
      "metadata": {
        "id": "ZKJROctpXU8V",
        "colab_type": "text"
      },
      "source": [
        "**dict 데이터 타입**\n",
        "\n",
        "*   dictionary(사전)\n",
        "*   원소들을 key-value의 쌍으로(mapping시켜서) 저장하는 데이터 타입.\n",
        "*   key는 중복되지 않는 값이어야 함.\n",
        "*   key의 역할은 list나 tuple의 인덱스(index)와 같이 하나의 값을 선택하기 위한 용도.\n",
        "\n"
      ]
    },
    {
      "cell_type": "code",
      "metadata": {
        "id": "ZNGJ1NEXW1TL",
        "colab_type": "code",
        "colab": {
          "base_uri": "https://localhost:8080/",
          "height": 54
        },
        "outputId": "7c72687d-9063-4e35-c255-93c9ebce87f6"
      },
      "source": [
        "# {key1: value1, key2: value2, ...}\n",
        "students = {1: '김상경', 2: '김수연', 3: '김수현', 4: '김원준',\n",
        "            30: '허세영', 29: '한찬희'}\n",
        "print(students)\n",
        "print(type(students))"
      ],
      "execution_count": 3,
      "outputs": [
        {
          "output_type": "stream",
          "text": [
            "{1: '김상경', 2: '김수연', 3: '김수현', 4: '김원준', 30: '허세영', 29: '한찬희'}\n",
            "<class 'dict'>\n"
          ],
          "name": "stdout"
        }
      ]
    },
    {
      "cell_type": "code",
      "metadata": {
        "id": "1F-aPk1UeHDj",
        "colab_type": "code",
        "colab": {
          "base_uri": "https://localhost:8080/",
          "height": 35
        },
        "outputId": "9a228426-1309-41b3-af35-ef49dbf5ab93"
      },
      "source": [
        "# dict의 원소 선택: dict_name[key]\n",
        "print(students[4])"
      ],
      "execution_count": 4,
      "outputs": [
        {
          "output_type": "stream",
          "text": [
            "김원준\n"
          ],
          "name": "stdout"
        }
      ]
    },
    {
      "cell_type": "code",
      "metadata": {
        "id": "77AtjA-bea7K",
        "colab_type": "code",
        "colab": {
          "base_uri": "https://localhost:8080/",
          "height": 35
        },
        "outputId": "4f397206-b629-4374-ce78-c3a832a34533"
      },
      "source": [
        "# dict에 원소 추가: dict_name[key] = value\n",
        "students[5] = '김정욱'\n",
        "print(students)"
      ],
      "execution_count": 5,
      "outputs": [
        {
          "output_type": "stream",
          "text": [
            "{1: '김상경', 2: '김수연', 3: '김수현', 4: '김원준', 30: '허세영', 29: '한찬희', 5: '김정욱'}\n"
          ],
          "name": "stdout"
        }
      ]
    },
    {
      "cell_type": "code",
      "metadata": {
        "id": "OLoTiACIfaRa",
        "colab_type": "code",
        "colab": {
          "base_uri": "https://localhost:8080/",
          "height": 35
        },
        "outputId": "234718df-37e2-49a8-f392-851eaeef5254"
      },
      "source": [
        "# dict에서 원소 삭제: dict_name.pop(key)\n",
        "students.pop(5)\n",
        "print(students)"
      ],
      "execution_count": 6,
      "outputs": [
        {
          "output_type": "stream",
          "text": [
            "{1: '김상경', 2: '김수연', 3: '김수현', 4: '김원준', 30: '허세영', 29: '한찬희'}\n"
          ],
          "name": "stdout"
        }
      ]
    },
    {
      "cell_type": "code",
      "metadata": {
        "id": "r3G8DsGjgDk4",
        "colab_type": "code",
        "colab": {
          "base_uri": "https://localhost:8080/",
          "height": 35
        },
        "outputId": "eb76782d-747f-45cb-cfe0-0d517c63c670"
      },
      "source": [
        "# dict 원소의 value 변경: dict_name[key] = value\n",
        "students[29] = 'Han CH'\n",
        "print(students)"
      ],
      "execution_count": 7,
      "outputs": [
        {
          "output_type": "stream",
          "text": [
            "{1: '김상경', 2: '김수연', 3: '김수현', 4: '김원준', 30: '허세영', 29: 'Han CH'}\n"
          ],
          "name": "stdout"
        }
      ]
    },
    {
      "cell_type": "code",
      "metadata": {
        "id": "b4QNNB1XgsNy",
        "colab_type": "code",
        "colab": {
          "base_uri": "https://localhost:8080/",
          "height": 54
        },
        "outputId": "da53754f-3da1-4a2e-b76c-fbda164c9f33"
      },
      "source": [
        "person = {'name': '오쌤', 'age': 16, 'height': 170.5}\n",
        "print(person)\n",
        "print(type(person))"
      ],
      "execution_count": 9,
      "outputs": [
        {
          "output_type": "stream",
          "text": [
            "{'name': '오쌤', 'age': 16, 'height': 170.5}\n",
            "<class 'dict'>\n"
          ],
          "name": "stdout"
        }
      ]
    },
    {
      "cell_type": "code",
      "metadata": {
        "id": "ZRh2kksxhJvh",
        "colab_type": "code",
        "colab": {
          "base_uri": "https://localhost:8080/",
          "height": 54
        },
        "outputId": "025422e7-90a0-4927-9521-2be7e4a8bf77"
      },
      "source": [
        "print(person['name'])\n",
        "print(person['age'])"
      ],
      "execution_count": 11,
      "outputs": [
        {
          "output_type": "stream",
          "text": [
            "오쌤\n",
            "16\n"
          ],
          "name": "stdout"
        }
      ]
    },
    {
      "cell_type": "code",
      "metadata": {
        "id": "7_CD8qqBhwWu",
        "colab_type": "code",
        "colab": {
          "base_uri": "https://localhost:8080/",
          "height": 72
        },
        "outputId": "9a482a01-c7a0-4fc0-ce42-9e4b85dd1ee2"
      },
      "source": [
        "# dict의 유용한 메서드(함수)들: keys(), values(), items()\n",
        "print(person.keys())    #> dict의 key들로 이루어진 리스트\n",
        "print(person.values())  #> dict의 value들로 이루어진 리스트\n",
        "print(person.items())   #> (key, value) 튜플들로 이루어진 리스트"
      ],
      "execution_count": 14,
      "outputs": [
        {
          "output_type": "stream",
          "text": [
            "dict_keys(['name', 'age', 'height'])\n",
            "dict_values(['오쌤', 16, 170.5])\n",
            "dict_items([('name', '오쌤'), ('age', 16), ('height', 170.5)])\n"
          ],
          "name": "stdout"
        }
      ]
    },
    {
      "cell_type": "code",
      "metadata": {
        "id": "4hvbYuG4jZQi",
        "colab_type": "code",
        "colab": {
          "base_uri": "https://localhost:8080/",
          "height": 90
        },
        "outputId": "3d7f8791-d0b8-42e2-e79d-74e29d8854bf"
      },
      "source": [
        "print(students)\n",
        "print(students.keys())\n",
        "print(students.values())\n",
        "print(students.items())"
      ],
      "execution_count": 18,
      "outputs": [
        {
          "output_type": "stream",
          "text": [
            "{1: '김상경', 2: '김수연', 3: '김수현', 4: '김원준', 30: '허세영', 29: 'Han CH'}\n",
            "dict_keys([1, 2, 3, 4, 30, 29])\n",
            "dict_values(['김상경', '김수연', '김수현', '김원준', '허세영', 'Han CH'])\n",
            "dict_items([(1, '김상경'), (2, '김수연'), (3, '김수현'), (4, '김원준'), (30, '허세영'), (29, 'Han CH')])\n"
          ],
          "name": "stdout"
        }
      ]
    },
    {
      "cell_type": "code",
      "metadata": {
        "id": "r_jHQkAsj_ho",
        "colab_type": "code",
        "colab": {
          "base_uri": "https://localhost:8080/",
          "height": 35
        },
        "outputId": "b6d9f000-72d6-47f1-9470-14a7ce75f255"
      },
      "source": [
        "book = {'title': 'Python for Data Analysis',\n",
        "        'authors': ['웨스 매키지', '김영근'],\n",
        "        'price': 30000,\n",
        "        'contents': {'ch1': 'aaa', 'ch2': 'bbb'}}\n",
        "print(book)"
      ],
      "execution_count": 19,
      "outputs": [
        {
          "output_type": "stream",
          "text": [
            "{'title': 'Python for Data Analysis', 'authors': ['웨스 매키지', '김영근'], 'price': 30000, 'contents': {'ch1': 'aaa', 'ch2': 'bbb'}}\n"
          ],
          "name": "stdout"
        }
      ]
    },
    {
      "cell_type": "code",
      "metadata": {
        "id": "xb1_uDkilSLa",
        "colab_type": "code",
        "colab": {
          "base_uri": "https://localhost:8080/",
          "height": 35
        },
        "outputId": "ea34fb53-4f94-4c90-8796-1ff28bcfd0d9"
      },
      "source": [
        "iris = {'sepal_length': [1.1, 1.2, 1.0],\n",
        "        'sepal_width': [0.9, 1.1, 0.9],\n",
        "        'species': ['setosa', 'versicolor', 'virginica']}\n",
        "print(iris)"
      ],
      "execution_count": 20,
      "outputs": [
        {
          "output_type": "stream",
          "text": [
            "{'sepal_length': [1.1, 1.2, 1.0], 'sepal_width': [0.9, 1.1, 0.9], 'species': ['setosa', 'versicolor', 'virginica']}\n"
          ],
          "name": "stdout"
        }
      ]
    }
  ]
}