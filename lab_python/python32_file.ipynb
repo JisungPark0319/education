{
  "nbformat": 4,
  "nbformat_minor": 0,
  "metadata": {
    "colab": {
      "name": "python32_file.ipynb",
      "provenance": [],
      "collapsed_sections": [],
      "mount_file_id": "1p_sKjuRrMjjpfhTqktfQVmbOnhkPNrN3",
      "authorship_tag": "ABX9TyPQCVyANqFMaSNE6LIwhrko",
      "include_colab_link": true
    },
    "kernelspec": {
      "name": "python3",
      "display_name": "Python 3"
    }
  },
  "cells": [
    {
      "cell_type": "markdown",
      "metadata": {
        "id": "view-in-github",
        "colab_type": "text"
      },
      "source": [
        "<a href=\"https://colab.research.google.com/github/JakeOh/202007_itw_bd18/blob/master/lab_python/python32_file.ipynb\" target=\"_parent\"><img src=\"https://colab.research.google.com/assets/colab-badge.svg\" alt=\"Open In Colab\"/></a>"
      ]
    },
    {
      "cell_type": "markdown",
      "metadata": {
        "id": "O2zaQDWDsVs4",
        "colab_type": "text"
      },
      "source": [
        "**텍스트 파일 쓰기(write)/읽기(read)**\n",
        "\n",
        "1.   파일 열기(open)\n",
        "2.   파일에 내용 쓰기(write)/읽기(read)\n",
        "3.   파일 닫기(close)\n",
        "\n"
      ]
    },
    {
      "cell_type": "code",
      "metadata": {
        "id": "KxoL-yKasP3V",
        "colab_type": "code",
        "colab": {
          "base_uri": "https://localhost:8080/",
          "height": 38
        },
        "outputId": "f9510212-2a0e-46bf-c432-d37bf278a2ed"
      },
      "source": [
        "# open(file, mode, ...): 파일 열기\n",
        "#   file: 파일 이름(디렉토리를 포함한 경로)\n",
        "#   mode: r(read: 읽기), w(write: 쓰기), a(append: 추가), t(text, 텍스트), b(binary: 이진)\n",
        "f = open('test.txt', mode='w')\n",
        "print(f)\n",
        "\n",
        "# 파일에 내용을 쓰기\n",
        "f.write('hello\\n')  # \\n: 줄바꿈(new line)\n",
        "f.write('안녕하세요\\n')\n",
        "\n",
        "# 파일 닫기\n",
        "f.close()"
      ],
      "execution_count": 1,
      "outputs": [
        {
          "output_type": "stream",
          "text": [
            "<_io.TextIOWrapper name='test.txt' mode='w' encoding='UTF-8'>\n"
          ],
          "name": "stdout"
        }
      ]
    },
    {
      "cell_type": "code",
      "metadata": {
        "id": "hcppCvnoGqVl",
        "colab_type": "code",
        "colab": {}
      },
      "source": [
        "# with ... as 구문: with에서 open된 객체의 close 메서드가 자동으로 호출됨.\n",
        "with open('test2.txt', mode='w') as f:\n",
        "    f.write('점심은 맛있게 드셨나요?\\n')\n",
        "    f.write('이번주까지는 온라인 수업을 해야해요... ㅠ,.ㅠ \\n')\n",
        "    # f.close() 메서드는 자동 호출!"
      ],
      "execution_count": 2,
      "outputs": []
    },
    {
      "cell_type": "code",
      "metadata": {
        "id": "owfzZhPFI1M8",
        "colab_type": "code",
        "colab": {}
      },
      "source": [
        "# with ~ as 구문을 사용해서 파일 write - test3.txt\n",
        "# Line 1\n",
        "# Line 2\n",
        "# ...\n",
        "# Line 10\n",
        "with open('test3.txt', mode='w') as file:\n",
        "    for n in range(1, 11):\n",
        "        file.write(f'Line {n}\\n')\n"
      ],
      "execution_count": 6,
      "outputs": []
    },
    {
      "cell_type": "code",
      "metadata": {
        "id": "yPGRczCtP7_j",
        "colab_type": "code",
        "colab": {
          "base_uri": "https://localhost:8080/",
          "height": 266
        },
        "outputId": "b1e48075-c306-4daf-9c0b-74479dd73d2b"
      },
      "source": [
        "# 파일 읽기: open -> read -> close\n",
        "with open('test.txt', mode='r') as f:\n",
        "    for n in range(1, 11):\n",
        "        line = f.readline()\n",
        "        print(n, ':', line)"
      ],
      "execution_count": 13,
      "outputs": [
        {
          "output_type": "stream",
          "text": [
            "1 : hello\n",
            "\n",
            "2 : 안녕하세요\n",
            "\n",
            "3 : \n",
            "4 : \n",
            "5 : \n",
            "6 : \n",
            "7 : \n",
            "8 : \n",
            "9 : \n",
            "10 : \n"
          ],
          "name": "stdout"
        }
      ]
    },
    {
      "cell_type": "code",
      "metadata": {
        "id": "CWYeVgBPS_pK",
        "colab_type": "code",
        "colab": {
          "base_uri": "https://localhost:8080/",
          "height": 100
        },
        "outputId": "67e949c5-ac36-471d-a344-5de31ce17aad"
      },
      "source": [
        "with open('test.txt', mode='r') as f:\n",
        "    n = 0\n",
        "    while True:  # 무한 루프\n",
        "        line = f.readline()\n",
        "        if line:  # 파일에서 읽은 한 줄에 내용이 있다면\n",
        "            n += 1\n",
        "            print(n, ':', line)\n",
        "        else:  # 파일에서 읽은 한 줄에 내용이 없다면\n",
        "            break  # 무한 루프를 종료\n"
      ],
      "execution_count": 14,
      "outputs": [
        {
          "output_type": "stream",
          "text": [
            "1 : hello\n",
            "\n",
            "2 : 안녕하세요\n",
            "\n"
          ],
          "name": "stdout"
        }
      ]
    },
    {
      "cell_type": "code",
      "metadata": {
        "id": "_ZCqRGrVU605",
        "colab_type": "code",
        "colab": {
          "base_uri": "https://localhost:8080/",
          "height": 100
        },
        "outputId": "8bdb7eee-2458-45b5-84ab-aa4c4f77bf51"
      },
      "source": [
        "with open('test.txt', mode='r') as f:\n",
        "    for line in f:\n",
        "        # for 변수 in 파일: 구문을 사용하면\n",
        "        # 파일의 첫번째 줄부터, 마지막 줄(파일 끝)까지 file.readline() 메서드를 자동으로 호출\n",
        "        print(line)"
      ],
      "execution_count": 15,
      "outputs": [
        {
          "output_type": "stream",
          "text": [
            "hello\n",
            "\n",
            "안녕하세요\n",
            "\n"
          ],
          "name": "stdout"
        }
      ]
    },
    {
      "cell_type": "code",
      "metadata": {
        "id": "qCqJ7kplWJzw",
        "colab_type": "code",
        "colab": {
          "base_uri": "https://localhost:8080/",
          "height": 58
        },
        "outputId": "2146bc3d-18ea-4031-cbbf-170374df6649"
      },
      "source": [
        "line = '   hello   olleh   안녕   '\n",
        "print(line)\n",
        "print(line.strip())\n",
        "# s.strip(): 문자열 s의 시작과 끝에 있는 공백문자들(' ', '\\t', '\\n')을 제거.\n",
        "# strip은 문자열 중간에 있는 공백문자들을 제거하지는 않음!"
      ],
      "execution_count": 19,
      "outputs": [
        {
          "output_type": "stream",
          "text": [
            "   hello   olleh   안녕   \n",
            "hello   olleh   안녕\n"
          ],
          "name": "stdout"
        }
      ]
    },
    {
      "cell_type": "code",
      "metadata": {
        "id": "f7FRw9rpYEhA",
        "colab_type": "code",
        "colab": {
          "base_uri": "https://localhost:8080/",
          "height": 38
        },
        "outputId": "bf5c98e5-87fc-47ee-c3f0-927beac31bb4"
      },
      "source": [
        "line = '1,홍길동,20,100,95'\n",
        "data = line.split(sep=',')\n",
        "# s.split(sep): 문자열 s를 sep로 구분해서(잘라서, 쪼개서), 문자열들의 리스트를 리턴.\n",
        "print(data)"
      ],
      "execution_count": 21,
      "outputs": [
        {
          "output_type": "stream",
          "text": [
            "['1', '홍길동', '20', '100', '95']\n"
          ],
          "name": "stdout"
        }
      ]
    },
    {
      "cell_type": "code",
      "metadata": {
        "id": "Cd5ACXcsds3i",
        "colab_type": "code",
        "colab": {
          "base_uri": "https://localhost:8080/",
          "height": 38
        },
        "outputId": "f6f5bcf4-beb3-4ea2-ab31-be9b5ecd64e2"
      },
      "source": [
        "# 구글 드라이브 마운트 후, 경로 복사\n",
        "dir_path = '/content/drive/My Drive/Colab Notebooks/lab_python'\n",
        "file_name = 'emails.txt'\n",
        "file_path1 = dir_path + '/' + file_name\n",
        "print(file_path1)"
      ],
      "execution_count": 1,
      "outputs": [
        {
          "output_type": "stream",
          "text": [
            "/content/drive/My Drive/Colab Notebooks/lab_python/emails.txt\n"
          ],
          "name": "stdout"
        }
      ]
    },
    {
      "cell_type": "code",
      "metadata": {
        "id": "SOOtDcWKiKVl",
        "colab_type": "code",
        "colab": {
          "base_uri": "https://localhost:8080/",
          "height": 38
        },
        "outputId": "92686e70-81db-4c1a-9732-7c59b795e242"
      },
      "source": [
        "import os\n",
        "\n",
        "# 폴더 이름 + / + 파일 이름\n",
        "# C:\\\\normal\\\\test\\\\data\\\\file.txt\n",
        "# 폴더 이름 + \\\\ + 파일 이름\n",
        "file_path2 = os.path.join(dir_path, file_name)\n",
        "print(file_path2)\n",
        "\n",
        "with open(file_path2, mode='w') as f:\n",
        "    f.write('gildong.hong@gmail.com\\n')\n",
        "    f.write('gildong@naver.com\\n')\n",
        "    f.write('hgd@daum.net\\n')"
      ],
      "execution_count": 2,
      "outputs": [
        {
          "output_type": "stream",
          "text": [
            "/content/drive/My Drive/Colab Notebooks/lab_python/emails.txt\n"
          ],
          "name": "stdout"
        }
      ]
    },
    {
      "cell_type": "code",
      "metadata": {
        "id": "EPjUn-W9mT2E",
        "colab_type": "code",
        "colab": {
          "base_uri": "https://localhost:8080/",
          "height": 38
        },
        "outputId": "1aae68c6-4e0b-49a3-a6ce-9f7504f62211"
      },
      "source": [
        "# 구글 드라이브에 저장된 emails.txt 파일을 읽기 모드로 열어서,\n",
        "# 파일의 모든 내용을 읽으면서\n",
        "# 리스트에 이메일 도메인만 저장을 하세요.\n",
        "# 저장된 리스트를 출력하세요. \n",
        "\n",
        "with open(file_path2, mode='r') as f:\n",
        "    domains = []  # 도메인들을 저장할 비어 있는 리스트 생성.\n",
        "    for line in f:\n",
        "        # print(line)  # 각 줄의 끝에는 줄바꿈이 있다.\n",
        "        line = line.strip()  # 각 줄의 끝에 있는 줄바꿈(\\n)을 제거\n",
        "        # print(line)\n",
        "        data = line.split(sep='@')  # 각 라인을 @를 구분자로 해서 쪼갬.\n",
        "        # print(data)  # data[0]: 아이디, data[1]: 도메인\n",
        "        domains.append(data[1])  # data에서 도메인 정보만 리스트에 추가.\n",
        "    \n",
        "print(domains)"
      ],
      "execution_count": 6,
      "outputs": [
        {
          "output_type": "stream",
          "text": [
            "['gmail.com', 'naver.com', 'daum.net']\n"
          ],
          "name": "stdout"
        }
      ]
    },
    {
      "cell_type": "code",
      "metadata": {
        "id": "29tYX9yLwMOa",
        "colab_type": "code",
        "colab": {
          "base_uri": "https://localhost:8080/",
          "height": 38
        },
        "outputId": "3987cd50-d894-4a29-c107-a19fc151dc36"
      },
      "source": [
        "with open(file_path2, mode='r') as f:\n",
        "    # domains = []\n",
        "    # for line in f:\n",
        "    #     data = line.strip().split(sep='@')[1]\n",
        "    #     domains.append(data)\n",
        "    domains = [line.strip().split(sep='@')[1] for line in f]\n",
        "\n",
        "print(domains)"
      ],
      "execution_count": 12,
      "outputs": [
        {
          "output_type": "stream",
          "text": [
            "['gmail.com', 'naver.com', 'daum.net']\n"
          ],
          "name": "stdout"
        }
      ]
    },
    {
      "cell_type": "code",
      "metadata": {
        "id": "QU75nRcUwkCB",
        "colab_type": "code",
        "colab": {}
      },
      "source": [
        ""
      ],
      "execution_count": null,
      "outputs": []
    }
  ]
}