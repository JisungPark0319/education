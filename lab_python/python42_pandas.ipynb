{
  "nbformat": 4,
  "nbformat_minor": 0,
  "metadata": {
    "colab": {
      "name": "python42_pandas.ipynb",
      "provenance": [],
      "collapsed_sections": [],
      "authorship_tag": "ABX9TyOk0P9bZAtbPD/2l/vqDYSl",
      "include_colab_link": true
    },
    "kernelspec": {
      "name": "python3",
      "display_name": "Python 3"
    }
  },
  "cells": [
    {
      "cell_type": "markdown",
      "metadata": {
        "id": "view-in-github",
        "colab_type": "text"
      },
      "source": [
        "<a href=\"https://colab.research.google.com/github/JakeOh/202007_itw_bd18/blob/master/lab_python/python42_pandas.ipynb\" target=\"_parent\"><img src=\"https://colab.research.google.com/assets/colab-badge.svg\" alt=\"Open In Colab\"/></a>"
      ]
    },
    {
      "cell_type": "markdown",
      "metadata": {
        "id": "CBEaYt0RHzsX",
        "colab_type": "text"
      },
      "source": [
        "\n",
        "\n",
        "*   NumPy 패키지:\n",
        "    * numpy.ndarray (n-dimensional array) 클래스\n",
        "    * 행렬과 같은 숫자형 데이터들을 빠르게 연산.\n",
        "*   pandas 패키지:\n",
        "    * pandas.Series (1차원 데이터), pandas.DataFrame (2차원 데이터) 클래스\n",
        "    * 표와 같은 형태의 데이터들을 분석, 정제, 조작하는 기능.\n",
        "*   matplotlib 패키지, seaborn 패키지:\n",
        "    * 시각화(visualization) - 그래프.\n",
        "\n"
      ]
    },
    {
      "cell_type": "code",
      "metadata": {
        "id": "wrdmRUKlHbKN",
        "colab_type": "code",
        "colab": {}
      },
      "source": [
        "import pandas as pd"
      ],
      "execution_count": 1,
      "outputs": []
    },
    {
      "cell_type": "code",
      "metadata": {
        "id": "lhR7ou_PKllD",
        "colab_type": "code",
        "colab": {
          "base_uri": "https://localhost:8080/",
          "height": 38
        },
        "outputId": "0cd469fe-d9aa-4cc7-9584-fd1c1d7e9d13"
      },
      "source": [
        "pd.__version__"
      ],
      "execution_count": 2,
      "outputs": [
        {
          "output_type": "execute_result",
          "data": {
            "application/vnd.google.colaboratory.intrinsic+json": {
              "type": "string"
            },
            "text/plain": [
              "'1.0.5'"
            ]
          },
          "metadata": {
            "tags": []
          },
          "execution_count": 2
        }
      ]
    },
    {
      "cell_type": "code",
      "metadata": {
        "id": "IeyrFx7mKsWc",
        "colab_type": "code",
        "colab": {
          "base_uri": "https://localhost:8080/",
          "height": 183
        },
        "outputId": "b1b60d1b-ba1c-42f4-cfff-8ec9d155042b"
      },
      "source": [
        "# pandas.Series: 한가지 타입의 값 여러개를 저장할 수 있는 1차원 모양의 데이터 타입.\n",
        "s = pd.Series([1, 3, -5, 9])\n",
        "print(s)\n",
        "print(type(s))\n",
        "print(s.index)  # Series는 index 속성을 가지고 있음.\n",
        "print(s.values)  # Series는 values 속성을 가지고 있음 - ndarray 타입."
      ],
      "execution_count": 6,
      "outputs": [
        {
          "output_type": "stream",
          "text": [
            "0    1\n",
            "1    3\n",
            "2   -5\n",
            "3    9\n",
            "dtype: int64\n",
            "<class 'pandas.core.series.Series'>\n",
            "RangeIndex(start=0, stop=4, step=1)\n",
            "[ 1  3 -5  9]\n"
          ],
          "name": "stdout"
        }
      ]
    },
    {
      "cell_type": "code",
      "metadata": {
        "id": "1IG0JDZFOE1K",
        "colab_type": "code",
        "colab": {
          "base_uri": "https://localhost:8080/",
          "height": 38
        },
        "outputId": "57c79272-ab38-49ac-ee43-a72966041ea8"
      },
      "source": [
        "# Series의 원소 접근(값을 읽거나 변경) - index 사용.\n",
        "print(s[1])"
      ],
      "execution_count": 10,
      "outputs": [
        {
          "output_type": "stream",
          "text": [
            "3\n"
          ],
          "name": "stdout"
        }
      ]
    },
    {
      "cell_type": "code",
      "metadata": {
        "id": "D7sT1ikpPlBK",
        "colab_type": "code",
        "colab": {
          "base_uri": "https://localhost:8080/",
          "height": 100
        },
        "outputId": "02e5d91a-3809-4a34-aa75-fc004b06ae31"
      },
      "source": [
        "print(s[:3])  # range: 0 <= index < 3"
      ],
      "execution_count": 9,
      "outputs": [
        {
          "output_type": "stream",
          "text": [
            "0    1\n",
            "1    3\n",
            "2   -5\n",
            "dtype: int64\n"
          ],
          "name": "stdout"
        }
      ]
    },
    {
      "cell_type": "code",
      "metadata": {
        "id": "G-PDE64dPwM_",
        "colab_type": "code",
        "colab": {
          "base_uri": "https://localhost:8080/",
          "height": 79
        },
        "outputId": "2bc5afe8-87c3-498e-bada-70b5de6a8967"
      },
      "source": [
        "print(s[-2:])"
      ],
      "execution_count": 11,
      "outputs": [
        {
          "output_type": "stream",
          "text": [
            "2   -5\n",
            "3    9\n",
            "dtype: int64\n"
          ],
          "name": "stdout"
        }
      ]
    },
    {
      "cell_type": "code",
      "metadata": {
        "id": "z9aekI7xP24C",
        "colab_type": "code",
        "colab": {
          "base_uri": "https://localhost:8080/",
          "height": 79
        },
        "outputId": "ee362ff7-aa98-4bf9-c08a-bcd4514efcfc"
      },
      "source": [
        "print(s[[True, False, True, False]])  # boolean indexing"
      ],
      "execution_count": 12,
      "outputs": [
        {
          "output_type": "stream",
          "text": [
            "0    1\n",
            "2   -5\n",
            "dtype: int64\n"
          ],
          "name": "stdout"
        }
      ]
    },
    {
      "cell_type": "code",
      "metadata": {
        "id": "OvbjQnuMQD6a",
        "colab_type": "code",
        "colab": {
          "base_uri": "https://localhost:8080/",
          "height": 100
        },
        "outputId": "e0238156-48d4-4961-d883-6e808022adb2"
      },
      "source": [
        "print(s[s > 0])"
      ],
      "execution_count": 13,
      "outputs": [
        {
          "output_type": "stream",
          "text": [
            "0    1\n",
            "1    3\n",
            "3    9\n",
            "dtype: int64\n"
          ],
          "name": "stdout"
        }
      ]
    },
    {
      "cell_type": "code",
      "metadata": {
        "id": "A6nJzlUdT4rb",
        "colab_type": "code",
        "colab": {
          "base_uri": "https://localhost:8080/",
          "height": 79
        },
        "outputId": "5f47941f-fd79-433b-acf8-e5bf5a8232be"
      },
      "source": [
        "# fancy indexing - 인덱스들의 배열(리스트)\n",
        "print(s[[1, 3]])"
      ],
      "execution_count": 14,
      "outputs": [
        {
          "output_type": "stream",
          "text": [
            "1    3\n",
            "3    9\n",
            "dtype: int64\n"
          ],
          "name": "stdout"
        }
      ]
    },
    {
      "cell_type": "code",
      "metadata": {
        "id": "FL5JDuveUsm1",
        "colab_type": "code",
        "colab": {
          "base_uri": "https://localhost:8080/",
          "height": 121
        },
        "outputId": "d0c1d209-95d3-4e8f-a507-d99a59f56aac"
      },
      "source": [
        "# Series.loc[label]: label-base location\n",
        "# Series.iloc[integer]: integer-base location\n",
        "s = pd.Series(data=[1, 3, -5, 9], index=['a', 'b', 'c', 'd'])\n",
        "print(s)"
      ],
      "execution_count": 15,
      "outputs": [
        {
          "output_type": "stream",
          "text": [
            "a    1\n",
            "b    3\n",
            "c   -5\n",
            "d    9\n",
            "dtype: int64\n"
          ],
          "name": "stdout"
        }
      ]
    },
    {
      "cell_type": "code",
      "metadata": {
        "id": "wlAUlL1_Wm3Y",
        "colab_type": "code",
        "colab": {
          "base_uri": "https://localhost:8080/",
          "height": 58
        },
        "outputId": "368da085-8fe4-49a4-8c01-2d07609de768"
      },
      "source": [
        "print(s.index)\n",
        "print(s.values)"
      ],
      "execution_count": 17,
      "outputs": [
        {
          "output_type": "stream",
          "text": [
            "Index(['a', 'b', 'c', 'd'], dtype='object')\n",
            "[ 1  3 -5  9]\n"
          ],
          "name": "stdout"
        }
      ]
    },
    {
      "cell_type": "code",
      "metadata": {
        "id": "6cfBfu16Xc6R",
        "colab_type": "code",
        "colab": {
          "base_uri": "https://localhost:8080/",
          "height": 38
        },
        "outputId": "b2113156-0ef1-4952-edd3-760a968a2fda"
      },
      "source": [
        "print(s.iloc[1])"
      ],
      "execution_count": 18,
      "outputs": [
        {
          "output_type": "stream",
          "text": [
            "3\n"
          ],
          "name": "stdout"
        }
      ]
    },
    {
      "cell_type": "code",
      "metadata": {
        "id": "QJakidzOXnYW",
        "colab_type": "code",
        "colab": {
          "base_uri": "https://localhost:8080/",
          "height": 79
        },
        "outputId": "c78eb446-0ae6-4687-953a-2b44b25147ac"
      },
      "source": [
        "print(s.iloc[1:3])  # start <= index < end"
      ],
      "execution_count": 19,
      "outputs": [
        {
          "output_type": "stream",
          "text": [
            "b    3\n",
            "c   -5\n",
            "dtype: int64\n"
          ],
          "name": "stdout"
        }
      ]
    },
    {
      "cell_type": "code",
      "metadata": {
        "id": "p3h9k3frX0qo",
        "colab_type": "code",
        "colab": {
          "base_uri": "https://localhost:8080/",
          "height": 79
        },
        "outputId": "85b9d7db-c18d-43e6-81f2-5fbd93253ba3"
      },
      "source": [
        "print(s.iloc[-2:])"
      ],
      "execution_count": 20,
      "outputs": [
        {
          "output_type": "stream",
          "text": [
            "c   -5\n",
            "d    9\n",
            "dtype: int64\n"
          ],
          "name": "stdout"
        }
      ]
    },
    {
      "cell_type": "code",
      "metadata": {
        "id": "GE67S3toYI6Q",
        "colab_type": "code",
        "colab": {
          "base_uri": "https://localhost:8080/",
          "height": 38
        },
        "outputId": "8d269c03-a5be-41ff-c612-69eaad9d2775"
      },
      "source": [
        "print(s.loc['b'])"
      ],
      "execution_count": 21,
      "outputs": [
        {
          "output_type": "stream",
          "text": [
            "3\n"
          ],
          "name": "stdout"
        }
      ]
    },
    {
      "cell_type": "code",
      "metadata": {
        "id": "1WoU3-CyYT3f",
        "colab_type": "code",
        "colab": {
          "base_uri": "https://localhost:8080/",
          "height": 79
        },
        "outputId": "ee39acca-4de0-4991-a51b-af5704d55674"
      },
      "source": [
        "print(s.loc['b':'c'])  # start <= index <= end"
      ],
      "execution_count": 22,
      "outputs": [
        {
          "output_type": "stream",
          "text": [
            "b    3\n",
            "c   -5\n",
            "dtype: int64\n"
          ],
          "name": "stdout"
        }
      ]
    },
    {
      "cell_type": "code",
      "metadata": {
        "id": "YXW4bzZpZA25",
        "colab_type": "code",
        "colab": {
          "base_uri": "https://localhost:8080/",
          "height": 183
        },
        "outputId": "044ca9d1-6963-4865-f9a9-5c2360e8562b"
      },
      "source": [
        "s = pd.Series([1, 3, 5, 7, 9])\n",
        "print(s.iloc[1:4])\n",
        "print(s.loc[1:3])"
      ],
      "execution_count": 24,
      "outputs": [
        {
          "output_type": "stream",
          "text": [
            "1    3\n",
            "2    5\n",
            "3    7\n",
            "dtype: int64\n",
            "1    3\n",
            "2    5\n",
            "3    7\n",
            "dtype: int64\n"
          ],
          "name": "stdout"
        }
      ]
    },
    {
      "cell_type": "code",
      "metadata": {
        "id": "9AzU1R3SabKQ",
        "colab_type": "code",
        "colab": {
          "base_uri": "https://localhost:8080/",
          "height": 142
        },
        "outputId": "5144de1a-40cb-43a1-fb80-9d5a54e6b4b8"
      },
      "source": [
        "s.loc[-2:]  # iloc[2:]와는 전혀 다른 결과!"
      ],
      "execution_count": 27,
      "outputs": [
        {
          "output_type": "execute_result",
          "data": {
            "text/plain": [
              "0    1\n",
              "1    3\n",
              "2    5\n",
              "3    7\n",
              "4    9\n",
              "dtype: int64"
            ]
          },
          "metadata": {
            "tags": []
          },
          "execution_count": 27
        }
      ]
    },
    {
      "cell_type": "code",
      "metadata": {
        "id": "jroRg3jfbFzY",
        "colab_type": "code",
        "colab": {
          "base_uri": "https://localhost:8080/",
          "height": 121
        },
        "outputId": "cd94185c-775d-4314-8b73-d7491bbdef03"
      },
      "source": [
        "# dict 객체를 Series로 변환\n",
        "city_pop = {'서울': 10_000_000, '경기': 15_000_000, '인천': 1_000_000}\n",
        "print(city_pop)\n",
        "\n",
        "s = pd.Series(city_pop)\n",
        "print(s)"
      ],
      "execution_count": 29,
      "outputs": [
        {
          "output_type": "stream",
          "text": [
            "{'서울': 10000000, '경기': 15000000, '인천': 1000000}\n",
            "서울    10000000\n",
            "경기    15000000\n",
            "인천     1000000\n",
            "dtype: int64\n"
          ],
          "name": "stdout"
        }
      ]
    },
    {
      "cell_type": "code",
      "metadata": {
        "id": "IyUElMc3cPr2",
        "colab_type": "code",
        "colab": {
          "base_uri": "https://localhost:8080/",
          "height": 100
        },
        "outputId": "61430197-c56f-4e6a-b50c-36a44dbe762c"
      },
      "source": [
        "print(s.loc[['인천', '서울', '경기']])"
      ],
      "execution_count": 30,
      "outputs": [
        {
          "output_type": "stream",
          "text": [
            "인천     1000000\n",
            "서울    10000000\n",
            "경기    15000000\n",
            "dtype: int64\n"
          ],
          "name": "stdout"
        }
      ]
    },
    {
      "cell_type": "code",
      "metadata": {
        "id": "uu2ySli2cgvm",
        "colab_type": "code",
        "colab": {
          "base_uri": "https://localhost:8080/",
          "height": 100
        },
        "outputId": "ee8abd21-ed4f-44d1-8a3d-cd32b6e477a4"
      },
      "source": [
        "print(s.iloc[[2, 0, 1]])"
      ],
      "execution_count": 31,
      "outputs": [
        {
          "output_type": "stream",
          "text": [
            "인천     1000000\n",
            "서울    10000000\n",
            "경기    15000000\n",
            "dtype: int64\n"
          ],
          "name": "stdout"
        }
      ]
    }
  ]
}