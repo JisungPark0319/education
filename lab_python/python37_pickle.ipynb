{
  "nbformat": 4,
  "nbformat_minor": 0,
  "metadata": {
    "colab": {
      "name": "python37_pickle.ipynb",
      "provenance": [],
      "collapsed_sections": [],
      "authorship_tag": "ABX9TyPPJ6C5MvVnuqQTO7rRSTmK",
      "include_colab_link": true
    },
    "kernelspec": {
      "name": "python3",
      "display_name": "Python 3"
    }
  },
  "cells": [
    {
      "cell_type": "markdown",
      "metadata": {
        "id": "view-in-github",
        "colab_type": "text"
      },
      "source": [
        "<a href=\"https://colab.research.google.com/github/JakeOh/202007_itw_bd18/blob/master/lab_python/python37_pickle.ipynb\" target=\"_parent\"><img src=\"https://colab.research.google.com/assets/colab-badge.svg\" alt=\"Open In Colab\"/></a>"
      ]
    },
    {
      "cell_type": "markdown",
      "metadata": {
        "id": "D2AM2tEO8e72",
        "colab_type": "text"
      },
      "source": [
        "**Binary Read/Write**\n",
        "\n",
        "* pickle: 파이썬에서 객체(object)를 이진 데이터(binary data) 형태로 파일 읽기/쓰기를 할 때 사용되는 타입.\n",
        "* pickle.dump(object, file): object를 file에 쓰기(write)\n",
        "* pickle.load(file): file에서 이진 데이터를 읽어서(read) 객체(object)를 리턴."
      ]
    },
    {
      "cell_type": "code",
      "metadata": {
        "id": "_9YX3Dj-8YAX",
        "colab_type": "code",
        "colab": {}
      },
      "source": [
        "import pickle"
      ],
      "execution_count": 1,
      "outputs": []
    },
    {
      "cell_type": "code",
      "metadata": {
        "id": "SHU-7Zf2-ChE",
        "colab_type": "code",
        "colab": {
          "base_uri": "https://localhost:8080/",
          "height": 58
        },
        "outputId": "35d81293-bff0-4cee-db01-5fd3e64aca60"
      },
      "source": [
        "# dict 데이터 생성.\n",
        "person = {\n",
        "    'name': '오쌤',\n",
        "    'age': 16,\n",
        "    'phone': ['010-0000-1234', '02-9999-1234'],\n",
        "    'email': {'company': 'jake@itwill.co.kr', 'personal': 'jake@gmail.com'}\n",
        "}\n",
        "\n",
        "print(person)"
      ],
      "execution_count": 2,
      "outputs": [
        {
          "output_type": "stream",
          "text": [
            "{'name': '오쌤', 'age': 16, 'phone': ['010-0000-1234', '02-9999-1234'], 'email': {'company': 'jake@itwill.co.kr', 'personal': 'jake@gmail.com'}}\n"
          ],
          "name": "stdout"
        }
      ]
    },
    {
      "cell_type": "code",
      "metadata": {
        "id": "RV8kviv4-6CF",
        "colab_type": "code",
        "colab": {}
      },
      "source": [
        "# person 객체(dict object)를 pickle로 파일에 저장.\n",
        "# mode: w(write), b(binary)\n",
        "with open('person.pickle', mode='wb') as f:\n",
        "    pickle.dump(person, f)\n",
        "\n",
        "# object == write ==> file(2진 데이터): serialization(직렬화)\n",
        "# file(2진 데이터) == read ==> object: deserialization(역직렬화)"
      ],
      "execution_count": 8,
      "outputs": []
    },
    {
      "cell_type": "code",
      "metadata": {
        "id": "GUigFBCpBAAL",
        "colab_type": "code",
        "colab": {
          "base_uri": "https://localhost:8080/",
          "height": 58
        },
        "outputId": "0c58b28a-2bd6-43ef-b9d2-8bb961b60abc"
      },
      "source": [
        "# pickle이 저장된 파일을 읽어서 person 객체로 변환.\n",
        "# mode: r(read), b(binary)\n",
        "with open('person.pickle', mode='rb') as f:\n",
        "    result = pickle.load(f)\n",
        "print(result)"
      ],
      "execution_count": 9,
      "outputs": [
        {
          "output_type": "stream",
          "text": [
            "{'name': '오쌤', 'age': 16, 'phone': ['010-0000-1234', '02-9999-1234'], 'email': {'company': 'jake@itwill.co.kr', 'personal': 'jake@gmail.com'}}\n"
          ],
          "name": "stdout"
        }
      ]
    }
  ]
}