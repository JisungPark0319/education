{
  "nbformat": 4,
  "nbformat_minor": 0,
  "metadata": {
    "colab": {
      "name": "python10.ipynb",
      "provenance": [],
      "collapsed_sections": [],
      "authorship_tag": "ABX9TyOBVukjELFtXsmm39QgWvWb",
      "include_colab_link": true
    },
    "kernelspec": {
      "name": "python3",
      "display_name": "Python 3"
    }
  },
  "cells": [
    {
      "cell_type": "markdown",
      "metadata": {
        "id": "view-in-github",
        "colab_type": "text"
      },
      "source": [
        "<a href=\"https://colab.research.google.com/github/JakeOh/202007_itw_bd18/blob/master/lab_python/python10.ipynb\" target=\"_parent\"><img src=\"https://colab.research.google.com/assets/colab-badge.svg\" alt=\"Open In Colab\"/></a>"
      ]
    },
    {
      "cell_type": "markdown",
      "metadata": {
        "id": "amxXtTh6mk1Q",
        "colab_type": "text"
      },
      "source": [
        "**set 데이터 타입**\n",
        "\n",
        "*   저장되는 순서가 중요하지 않고, 값들이 중복 저장되지 않는 데이터 타입.\n",
        "*   {1, 2, 3} == {3, 1, 2}, {1, 2, 2, 3, 3, 3} == {1, 2, 3}\n",
        "*   set은 인덱스(index)를 갖지 않음!\n",
        "*   합집합(union), 교집합(intersection), 차집합(difference)과 같은 연산을 제공.\n",
        "\n"
      ]
    },
    {
      "cell_type": "code",
      "metadata": {
        "id": "FUFbG-wimht-",
        "colab_type": "code",
        "colab": {
          "base_uri": "https://localhost:8080/",
          "height": 54
        },
        "outputId": "1d9c0b29-19d7-43e8-8d43-f7ec5f885552"
      },
      "source": [
        "s1 = {5, 2, 4, 3, 1}\n",
        "s2 = {4, 5, 4, 5, 6}\n",
        "\n",
        "print(s1, type(s1))\n",
        "print(s2, type(s2))"
      ],
      "execution_count": 2,
      "outputs": [
        {
          "output_type": "stream",
          "text": [
            "{1, 2, 3, 4, 5} <class 'set'>\n",
            "{4, 5, 6} <class 'set'>\n"
          ],
          "name": "stdout"
        }
      ]
    },
    {
      "cell_type": "code",
      "metadata": {
        "id": "_uui7Masshk4",
        "colab_type": "code",
        "colab": {
          "base_uri": "https://localhost:8080/",
          "height": 54
        },
        "outputId": "11403f41-2278-4e57-eb69-c0604851108c"
      },
      "source": [
        "# 합집합\n",
        "print(s1.union(s2))\n",
        "print(s1 | s2)"
      ],
      "execution_count": 4,
      "outputs": [
        {
          "output_type": "stream",
          "text": [
            "{1, 2, 3, 4, 5, 6}\n",
            "{1, 2, 3, 4, 5, 6}\n"
          ],
          "name": "stdout"
        }
      ]
    },
    {
      "cell_type": "code",
      "metadata": {
        "id": "EDa93-QhtHvG",
        "colab_type": "code",
        "colab": {
          "base_uri": "https://localhost:8080/",
          "height": 54
        },
        "outputId": "7fb0eea5-6ae0-4975-f9aa-61d24af98076"
      },
      "source": [
        "# 교집합\n",
        "print(s1.intersection(s2))\n",
        "print(s1 & s2)"
      ],
      "execution_count": 6,
      "outputs": [
        {
          "output_type": "stream",
          "text": [
            "{4, 5}\n",
            "{4, 5}\n"
          ],
          "name": "stdout"
        }
      ]
    },
    {
      "cell_type": "code",
      "metadata": {
        "id": "wDmqQuYDtaiO",
        "colab_type": "code",
        "colab": {
          "base_uri": "https://localhost:8080/",
          "height": 90
        },
        "outputId": "26345ee1-90f8-475b-8992-9111e7320954"
      },
      "source": [
        "# 차집합\n",
        "print(s1.difference(s2))\n",
        "print(s2.difference(s1))\n",
        "print(s1 - s2)\n",
        "print(s2 - s1)"
      ],
      "execution_count": 9,
      "outputs": [
        {
          "output_type": "stream",
          "text": [
            "{1, 2, 3}\n",
            "{6}\n",
            "{1, 2, 3}\n",
            "{6}\n"
          ],
          "name": "stdout"
        }
      ]
    },
    {
      "cell_type": "code",
      "metadata": {
        "id": "pKKFkBmQvJnu",
        "colab_type": "code",
        "colab": {
          "base_uri": "https://localhost:8080/",
          "height": 54
        },
        "outputId": "44b27c37-ddeb-4b4b-8340-3757e12f13ad"
      },
      "source": [
        "# 리스트에서 중복되지 않은 값들만 선택\n",
        "words = ['apple', 'banana', 'cherry', 'banana', 'cherry', 'cherry', 'apple']\n",
        "print(words)\n",
        "\n",
        "# 타입 변환(type casting): int(), float(), str(), list(), tuple(), dict(), set()\n",
        "words2 = set(words)\n",
        "print(words2)"
      ],
      "execution_count": 31,
      "outputs": [
        {
          "output_type": "stream",
          "text": [
            "['apple', 'banana', 'cherry', 'banana', 'cherry', 'cherry', 'apple']\n",
            "{'cherry', 'banana', 'apple'}\n"
          ],
          "name": "stdout"
        }
      ]
    }
  ]
}