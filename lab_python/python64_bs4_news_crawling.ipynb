{
  "nbformat": 4,
  "nbformat_minor": 0,
  "metadata": {
    "colab": {
      "name": "python64_bs4_news_crawling.ipynb",
      "provenance": [],
      "collapsed_sections": [],
      "authorship_tag": "ABX9TyOSN7awrUFyA7cNhjYNoVbV",
      "include_colab_link": true
    },
    "kernelspec": {
      "name": "python3",
      "display_name": "Python 3"
    }
  },
  "cells": [
    {
      "cell_type": "markdown",
      "metadata": {
        "id": "view-in-github",
        "colab_type": "text"
      },
      "source": [
        "<a href=\"https://colab.research.google.com/github/JakeOh/202007_itw_bd18/blob/master/lab_python/python64_bs4_news_crawling.ipynb\" target=\"_parent\"><img src=\"https://colab.research.google.com/assets/colab-badge.svg\" alt=\"Open In Colab\"/></a>"
      ]
    },
    {
      "cell_type": "code",
      "metadata": {
        "id": "KuxqPOcH0zr5"
      },
      "source": [
        "import requests\n",
        "# Python의 기본 모듈: 웹 서버로 요청(request)을 보내고 응답(response)를 받는 기능들을 포함한 모듈.\n",
        "\n",
        "from bs4 import BeautifulSoup  # HTML 분석"
      ],
      "execution_count": null,
      "outputs": []
    },
    {
      "cell_type": "markdown",
      "metadata": {
        "id": "rUK9J95W5_Nm"
      },
      "source": [
        "# 다음 사이트에서 많이 본 랭킹 뉴스"
      ]
    },
    {
      "cell_type": "code",
      "metadata": {
        "id": "B_Cn1hkM59se"
      },
      "source": [
        "# 접속할(요청을 보낼) 웹 사이트 주소(URL)\n",
        "url = 'https://news.daum.net/ranking/popular'"
      ],
      "execution_count": null,
      "outputs": []
    },
    {
      "cell_type": "code",
      "metadata": {
        "id": "FDMg-ByC6d9Q",
        "outputId": "1e359e65-5f1b-4b2c-a623-fd64956e172b",
        "colab": {
          "base_uri": "https://localhost:8080/",
          "height": 38
        }
      },
      "source": [
        "# 서버로 GET 방식의 요청(request)를 보냄.\n",
        "response = requests.get(url)\n",
        "response  #> 200: Success(요청 처리 성공)"
      ],
      "execution_count": null,
      "outputs": [
        {
          "output_type": "execute_result",
          "data": {
            "text/plain": [
              "<Response [200]>"
            ]
          },
          "metadata": {
            "tags": []
          },
          "execution_count": 3
        }
      ]
    },
    {
      "cell_type": "code",
      "metadata": {
        "id": "bxEDIAtR8Jn5",
        "outputId": "58465470-8a67-426b-9b43-99e4a833f6fa",
        "colab": {
          "base_uri": "https://localhost:8080/",
          "height": 79
        }
      },
      "source": [
        "# Response(응답) 객체에서 HTML 텍스트를 추출\n",
        "html = response.text.strip()\n",
        "html[:300]"
      ],
      "execution_count": null,
      "outputs": [
        {
          "output_type": "execute_result",
          "data": {
            "application/vnd.google.colaboratory.intrinsic+json": {
              "type": "string"
            },
            "text/plain": [
              "'<!DOCTYPE html>\\n\\n\\n\\n<html lang=\"ko\" class=\"os_unknown none unknown version_0 \">\\n<head>\\n<meta charset=\"utf-8\">\\n<meta name=\"referrer\" content=\"always\" />\\n\\n<meta property=\"og:author\" content=\"Daum 뉴스\" />\\n<meta property=\"og:site_name\" content=\"다음뉴스\" />\\n<meta property=\"og:title\" content=\"뉴스 랭킹\"/>\\n<meta pr'"
            ]
          },
          "metadata": {
            "tags": []
          },
          "execution_count": 5
        }
      ]
    },
    {
      "cell_type": "code",
      "metadata": {
        "id": "ZiMAgF7W9DaC"
      },
      "source": [
        "# HTML 텍스트를 BeautifulSoup 객체로 변환\n",
        "soup = BeautifulSoup(markup=html, features='html5lib')\n",
        "# soup"
      ],
      "execution_count": null,
      "outputs": []
    },
    {
      "cell_type": "code",
      "metadata": {
        "id": "pkMTHdN--mBL",
        "outputId": "aef6638f-587d-411b-c595-0c684009d26b",
        "colab": {
          "base_uri": "https://localhost:8080/",
          "height": 38
        }
      },
      "source": [
        "# 요소(element)를 선택할 수 있는 CSS selector를 찾고, selector를 사용해서 요소 찾음.\n",
        "# class 이름이 'list_news2'인 요소의 자손들 중에서 \n",
        "# 태그 이름이 li인 요소의 자손들 중에서\n",
        "# a 태그의 class 속성 값이 link_txt인 모든 요소들을 찾음.\n",
        "len(soup.select('.list_news2 li a.link_txt'))"
      ],
      "execution_count": null,
      "outputs": [
        {
          "output_type": "execute_result",
          "data": {
            "text/plain": [
              "50"
            ]
          },
          "metadata": {
            "tags": []
          },
          "execution_count": 13
        }
      ]
    },
    {
      "cell_type": "code",
      "metadata": {
        "id": "DA63FE6a_BWk",
        "outputId": "a9831abf-7e02-4fc1-b2d0-210710201eaf",
        "colab": {
          "base_uri": "https://localhost:8080/",
          "height": 1000
        }
      },
      "source": [
        "selector = '.list_news2 li a.link_txt'\n",
        "news_rank50 = soup.select(selector)\n",
        "for link in news_rank50:\n",
        "    news_title = link.text\n",
        "    news_link = link['href']  # link.get('href')\n",
        "    print(news_title, news_link)"
      ],
      "execution_count": 18,
      "outputs": [
        {
          "output_type": "stream",
          "text": [
            "일본인들의 '맹목적 믿음' 건드린 스가.. 난리가 났다 https://v.daum.net/v/20201015080300839\n",
            "등산이 독이 되는 경우 5가지 https://v.daum.net/v/20201015093039810\n",
            "예쁘다고 좋아했는데..'핑크뮬리' 실체에 깜짝 https://v.daum.net/v/20201015054002342\n",
            "안경값 14만원 아끼려다가 벌금 500만원 물게 된 60대男 https://v.daum.net/v/20201015070204720\n",
            "중대본 \"오늘 지역발생 90명대..부산 요양병원 집단감염 영향\"(종합) https://v.daum.net/v/20201015092411516\n",
            "서민 교수 \"대깨문 압력에 지방강의 취소돼, 대깨문의 나라\" https://v.daum.net/v/20201015073304196\n",
            "95년 김정일 제거하려했던 북한군 6군단, 영원히 제거됐나 https://v.daum.net/v/20201015050137784\n",
            "[단독]BTS '봄날' 촬영지, 알고보니 60년째 미등기 상태로 방치 https://v.daum.net/v/20201015085037095\n",
            "[단독] 9명이 소고기 4인분? 서울시 간부님, 정말입니까 https://v.daum.net/v/20201015050026737\n",
            "안철수 \"문 대통령, 정은경은 찾아가면서 北피격 공무원 아들 안아줄 수 없나 \" https://v.daum.net/v/20201015083406658\n",
            "장윤정 \"3년 전 이혼 후 중학생·고3 두 딸과 살고 있다\"('같이 삽시다')[종합] https://v.daum.net/v/20201015073100166\n",
            "\"펭수·뿡뿡이·보니하니 죄다 뺏겼습니다\"..EBS 자회사 '눈물' https://v.daum.net/v/20201015092801674\n",
            "[최강시사] 유승준 변호사 \"관광 비자 포함 어떤 비자로도 입국 불가능해, 테러리스트 아닌 이상 과도한 제한\" https://v.daum.net/v/20201015100329471\n",
            "의대생들 사과하면 의사국시 다시 치른다?..한의협 회장 \"미친 생각\" https://v.daum.net/v/20201015063404341\n",
            "추미애에 쓴소리한 한동훈, 다음날 용인서 진천으로 발령 https://v.daum.net/v/20201015000344600\n",
            "강기정 \"돈 받은 적 없어, 가짜뉴스 진원지 조선일보 고쳐놓겠다\" https://v.daum.net/v/20201015095100800\n",
            "외제차 여러대, 배우자 명의 유흥업소 운영..수억 지방세 체납 '딱 걸렸다' https://v.daum.net/v/20201015084303899\n",
            "1200평 저택→3억8천 4층건물 '서울엔 우리집' 벗어나 얻은 것들[어제TV] https://v.daum.net/v/20201015061150053\n",
            "中누리꾼-관영언론 'BTS 비난' 속.. 美국무부 \"BTS 한미관계 노력에 감사\" https://v.daum.net/v/20201015030043637\n",
            "검찰, 구자근 의원 공직선거법 위반 혐의 불구속 기소 https://v.daum.net/v/20201015093043813\n",
            "[단독] '초대 공수처장 후보' 이광범..MBN '운명'에 막강 영향력 https://v.daum.net/v/20201015075502606\n",
            "추신수 떠난 텍사스, 김하성 영입 후보 \"강정호보다 낫다\" https://v.daum.net/v/20201015085024092\n",
            "조은산 \"진중권이 예형? 관우나 장비가 적절..세 치 혀로 거대여당과 맞서\" https://v.daum.net/v/20201015063600372\n",
            "\"남편이 손님 다 쫓아\" 백종원, 주먹밥집 손님 응대법에 황당 (골목식당) [어제TV] https://v.daum.net/v/20201015060700972\n",
            "30대가 63억짜리 '한남더힐' 아파트 샀다..자금마련은? https://v.daum.net/v/20201015100211401\n",
            "이근 '두 달 천하'..섭외만 열올리다 제 발등 찍은 방송사들 https://v.daum.net/v/20201015070030662\n",
            "[최원석의 디코드] 유니클로·일본차 불매 효과? 중국에선 역대 최대 실적 https://v.daum.net/v/20201015092732657\n",
            "\"민주 지지도 일주일새 4.3%p↓..與野 다시 오차범위\" https://v.daum.net/v/20201015093019782\n",
            "한라산 백록담, 滿水 34일 만에 바닥 드러내 https://v.daum.net/v/20201015030626889\n",
            "부산요양병원 감염 53명중 44명, 첫 확진 간호조무사 근무층서 나와 https://v.daum.net/v/20201015030133692\n",
            "[르포]코로나가 앗아간 일상 속..\"설악산에서 단풍맞이 힐링\" https://v.daum.net/v/20201015050300809\n",
            "\"KF94 마스크를 쓰고도 뛰어다닐 수 있어요\" 코로나19가 바꾼 아이들의 삶 https://v.daum.net/v/20201015063109314\n",
            "작년 초등 임용 붙었는데 아직도 '대기중' 120명..올해는 2700명 https://v.daum.net/v/20201015092227441\n",
            "주목받는 김봉현의 '입'..내일 재판서 또 폭로할까(종합) https://v.daum.net/v/20201015100752723\n",
            "신규확진 110명..부산 요양병원 집단감염에 다시 세 자릿수로(종합) https://v.daum.net/v/20201015095906183\n",
            "대한민국 남녀가 가장 두려워하는 암 '1위'는? https://v.daum.net/v/20201015092238442\n",
            "'라스' 박휘순 \"94년생 예비신부와 17살차, 결혼 허락받으려 매달 삼척행\"[어제TV] https://v.daum.net/v/20201015061909187\n",
            "커쇼 다쳐서 신난 FA 투수 최대어, 도 넘은 영업 활동 '눈살' https://v.daum.net/v/20201015050952975\n",
            "'같이삽시다' 장윤정, 전설의 미스코리아→은퇴 후 이혼..\"딸들 생각만 해도 눈물\"[SC리뷰] https://v.daum.net/v/20201015065021479\n",
            "마스크 바꿔 써가며 \"답례금 좀\"..7만원 챙긴 가짜하객 징역 4월 https://v.daum.net/v/20201015093439035\n",
            "45조원에 분열된 태국..왜 '금기'마저 깨뜨리나 https://v.daum.net/v/20201015040103143\n",
            "김여정, 노동당 선전선동부 제1부부장 물러난 듯 https://v.daum.net/v/20201015082600408\n",
            "[단독]선거법 시효 하루전.. 양정숙-진성준-이상직 등 무더기 기소 https://v.daum.net/v/20201015030124680\n",
            "'서울집' 김동완 결혼 로망 \"아내와 따로 살고 가끔 만났으면\"[결정적장면] https://v.daum.net/v/20201015061936193\n",
            "나이 든 여성, 간(肝)에 지방 쌓이는 이유 https://v.daum.net/v/20201015060314896\n",
            "[단독] 임용고시 합격했는데..1184명 7개월 넘게 발령 대기 https://v.daum.net/v/20201015060055735\n",
            "조정래 \"토착왜구 발언, 국어공부한 사람은 다 알아들어\" https://v.daum.net/v/20201015094205401\n",
            "\"아이들 보느라 한눈 못 팔아요.. 방광염·위장병이 직업병\" https://v.daum.net/v/20201015050656889\n",
            "음란행위 버릇 못 고치고 또 바지 내린 30대 징역 6개월 https://v.daum.net/v/20201015091928305\n",
            "[단독] '윤식당3' 제주서 문 연다 https://v.daum.net/v/20201015065649579\n"
          ],
          "name": "stdout"
        }
      ]
    },
    {
      "cell_type": "markdown",
      "metadata": {
        "id": "ZFAE9UtYIsIk"
      },
      "source": [
        "# 다음 사이트 연령별 랭킹 뉴스"
      ]
    },
    {
      "cell_type": "code",
      "metadata": {
        "id": "4ZXH1jGcIwrT"
      },
      "source": [
        "# 사이트 주소(URL)\n",
        "url = 'https://news.daum.net/ranking/age'"
      ],
      "execution_count": 19,
      "outputs": []
    },
    {
      "cell_type": "code",
      "metadata": {
        "id": "HmTh7SYdJDY3",
        "outputId": "64193e3e-710f-47c9-eca7-d6eeaed348c3",
        "colab": {
          "base_uri": "https://localhost:8080/",
          "height": 38
        }
      },
      "source": [
        "# 요청을 보내고, 응답을 받음.\n",
        "response = requests.get(url)\n",
        "response"
      ],
      "execution_count": 20,
      "outputs": [
        {
          "output_type": "execute_result",
          "data": {
            "text/plain": [
              "<Response [200]>"
            ]
          },
          "metadata": {
            "tags": []
          },
          "execution_count": 20
        }
      ]
    },
    {
      "cell_type": "code",
      "metadata": {
        "id": "zWECQwzcJLYJ",
        "outputId": "48eb4d26-03fe-445e-a390-b42ded4e8dd3",
        "colab": {
          "base_uri": "https://localhost:8080/",
          "height": 79
        }
      },
      "source": [
        "# 응답에서 HTML 코드를 추출.\n",
        "html = response.text.strip()\n",
        "html[:300]"
      ],
      "execution_count": 21,
      "outputs": [
        {
          "output_type": "execute_result",
          "data": {
            "application/vnd.google.colaboratory.intrinsic+json": {
              "type": "string"
            },
            "text/plain": [
              "'<!DOCTYPE html>\\n\\n\\n\\n<html lang=\"ko\" class=\"os_unknown none unknown version_0 \">\\n<head>\\n<meta charset=\"utf-8\">\\n<meta name=\"referrer\" content=\"always\" />\\n\\n<meta property=\"og:author\" content=\"Daum 뉴스\" />\\n<meta property=\"og:site_name\" content=\"다음뉴스\" />\\n<meta property=\"og:title\" content=\"뉴스 랭킹\"/>\\n<meta pr'"
            ]
          },
          "metadata": {
            "tags": []
          },
          "execution_count": 21
        }
      ]
    },
    {
      "cell_type": "code",
      "metadata": {
        "id": "OgYtE2FpJY6w"
      },
      "source": [
        "# HTML을 BeautifulSoup으로 변환\n",
        "soup = BeautifulSoup(markup=html, features='html5lib')\n",
        "# soup"
      ],
      "execution_count": 23,
      "outputs": []
    },
    {
      "cell_type": "code",
      "metadata": {
        "id": "yxq3DKIeJrUK",
        "outputId": "3985d548-102f-4d75-8759-6a89114fe44e",
        "colab": {
          "base_uri": "https://localhost:8080/",
          "height": 38
        }
      },
      "source": [
        "# selector 찾기.\n",
        "# HTML 태그의 속성은 여러개의 값을 동시에 설정할 수 있음.\n",
        "# 예: <div class=\"value1 value2\">...</div>\n",
        "# 하나의 속성에 두 개 이상이 값이 설정된 경우에는, 그 중 하나의 값을 이용해서 selector로 사용하면 됨.\n",
        "# .value1 또는 .value2로 요소 선택이 가능.\n",
        "\n",
        "len(soup.select('.item_age'))  #> 4: 20, 30, 40, 50대 영역에서 공통으로 사용."
      ],
      "execution_count": 25,
      "outputs": [
        {
          "output_type": "execute_result",
          "data": {
            "text/plain": [
              "4"
            ]
          },
          "metadata": {
            "tags": []
          },
          "execution_count": 25
        }
      ]
    },
    {
      "cell_type": "code",
      "metadata": {
        "id": "GsupVLAwLj_t",
        "outputId": "d7302070-6291-44f1-f1f2-28048280c20f",
        "colab": {
          "base_uri": "https://localhost:8080/",
          "height": 38
        }
      },
      "source": [
        "len(soup.select('.item_20s'))  #> 1: 20대 영역에서만 사용."
      ],
      "execution_count": 26,
      "outputs": [
        {
          "output_type": "execute_result",
          "data": {
            "text/plain": [
              "1"
            ]
          },
          "metadata": {
            "tags": []
          },
          "execution_count": 26
        }
      ]
    },
    {
      "cell_type": "code",
      "metadata": {
        "id": "neGJrVUTNl0j",
        "outputId": "c2b98d83-7188-40a8-f176-ffe5da8992d2",
        "colab": {
          "base_uri": "https://localhost:8080/",
          "height": 38
        }
      },
      "source": [
        "category = soup.select('.item_20s .rank_female .txt_news')\n",
        "category"
      ],
      "execution_count": 29,
      "outputs": [
        {
          "output_type": "execute_result",
          "data": {
            "text/plain": [
              "[<strong class=\"txt_news\">20대 여성</strong>]"
            ]
          },
          "metadata": {
            "tags": []
          },
          "execution_count": 29
        }
      ]
    },
    {
      "cell_type": "code",
      "metadata": {
        "id": "oUDcwQxVNxFz",
        "outputId": "1ac175da-806a-48ab-e7fc-4552e4cda699",
        "colab": {
          "base_uri": "https://localhost:8080/",
          "height": 38
        }
      },
      "source": [
        "category[0].text"
      ],
      "execution_count": 31,
      "outputs": [
        {
          "output_type": "execute_result",
          "data": {
            "application/vnd.google.colaboratory.intrinsic+json": {
              "type": "string"
            },
            "text/plain": [
              "'20대 여성'"
            ]
          },
          "metadata": {
            "tags": []
          },
          "execution_count": 31
        }
      ]
    },
    {
      "cell_type": "code",
      "metadata": {
        "id": "MUbbCvWOOi-8",
        "outputId": "05df6f10-8a87-4b95-916d-0977782bcda0",
        "colab": {
          "base_uri": "https://localhost:8080/",
          "height": 141
        }
      },
      "source": [
        "selector = '.item_20s .rank_female ol li a.link_txt'\n",
        "news_top5 = soup.select(selector)\n",
        "news_top5"
      ],
      "execution_count": 32,
      "outputs": [
        {
          "output_type": "execute_result",
          "data": {
            "text/plain": [
              "[<a class=\"link_txt\" href=\"https://v.daum.net/v/20201015102816873\">'故 구하라 협박·폭행' 최종범 징역 1년 확정..불법촬영은 결국 무죄</a>,\n",
              " <a class=\"link_txt\" href=\"https://v.daum.net/v/20201015085037095\">[단독]BTS '봄날' 촬영지, 알고보니 60년째 미등기 상태로 방치</a>,\n",
              " <a class=\"link_txt\" href=\"https://v.daum.net/v/20201015100329471\">[최강시사] 유승준 변호사 \"관광 비자 포함 어떤 비자로도 입국 불가능해, 테러리스트 아닌 이상 과도한 제한\"</a>,\n",
              " <a class=\"link_txt\" href=\"https://v.daum.net/v/20201015095024769\">엄마 품에 안긴 한살 아기..경비행기 추락사고서 유일하게 생존(종합)</a>,\n",
              " <a class=\"link_txt\" href=\"https://v.daum.net/v/20201015080300839\">일본인들의 '맹목적 믿음' 건드린 스가.. 난리가 났다</a>]"
            ]
          },
          "metadata": {
            "tags": []
          },
          "execution_count": 32
        }
      ]
    },
    {
      "cell_type": "code",
      "metadata": {
        "id": "eWMLFQ4JPPKC",
        "outputId": "ff097ea6-ab7e-4c21-ba1c-19e0ce5d5940",
        "colab": {
          "base_uri": "https://localhost:8080/",
          "height": 141
        }
      },
      "source": [
        "for link in news_top5:\n",
        "    print(link.text, link['href'])"
      ],
      "execution_count": 33,
      "outputs": [
        {
          "output_type": "stream",
          "text": [
            "'故 구하라 협박·폭행' 최종범 징역 1년 확정..불법촬영은 결국 무죄 https://v.daum.net/v/20201015102816873\n",
            "[단독]BTS '봄날' 촬영지, 알고보니 60년째 미등기 상태로 방치 https://v.daum.net/v/20201015085037095\n",
            "[최강시사] 유승준 변호사 \"관광 비자 포함 어떤 비자로도 입국 불가능해, 테러리스트 아닌 이상 과도한 제한\" https://v.daum.net/v/20201015100329471\n",
            "엄마 품에 안긴 한살 아기..경비행기 추락사고서 유일하게 생존(종합) https://v.daum.net/v/20201015095024769\n",
            "일본인들의 '맹목적 믿음' 건드린 스가.. 난리가 났다 https://v.daum.net/v/20201015080300839\n"
          ],
          "name": "stdout"
        }
      ]
    },
    {
      "cell_type": "code",
      "metadata": {
        "id": "Eue7JKpZl2QB",
        "outputId": "8669e095-9a38-4313-d46a-8fb0274c7c74",
        "colab": {
          "base_uri": "https://localhost:8080/",
          "height": 1000
        }
      },
      "source": [
        "ages = range(20, 60, 10)  # 연령대: 20대 이하, 30대, 40대, 50대 이상\n",
        "genders = ['.rank_female', '.rank_male']  # 성별: 여성, 남성 class 이름\n",
        "\n",
        "for age in ages:\n",
        "    for gender in genders:\n",
        "        category_selector = f'.item_{age}s {gender} .txt_news'\n",
        "        # print(category_selector)\n",
        "        category = soup.select(category_selector)\n",
        "        print('\\n*****', category[0].text, '*****')\n",
        "\n",
        "        link_selector = f'.item_{age}s {gender} ol li a.link_txt'\n",
        "        news_top5 = soup.select(link_selector)\n",
        "        # print(news_top5)\n",
        "        for link in news_top5:\n",
        "            print(link.text)  # 뉴스 제목(타이틀)\n",
        "            print(link['href'])  # 뉴스 링크(URL)"
      ],
      "execution_count": 42,
      "outputs": [
        {
          "output_type": "stream",
          "text": [
            "\n",
            "***** 20대 여성 *****\n",
            "'故 구하라 협박·폭행' 최종범 징역 1년 확정..불법촬영은 결국 무죄\n",
            "https://v.daum.net/v/20201015102816873\n",
            "[단독]BTS '봄날' 촬영지, 알고보니 60년째 미등기 상태로 방치\n",
            "https://v.daum.net/v/20201015085037095\n",
            "[최강시사] 유승준 변호사 \"관광 비자 포함 어떤 비자로도 입국 불가능해, 테러리스트 아닌 이상 과도한 제한\"\n",
            "https://v.daum.net/v/20201015100329471\n",
            "엄마 품에 안긴 한살 아기..경비행기 추락사고서 유일하게 생존(종합)\n",
            "https://v.daum.net/v/20201015095024769\n",
            "일본인들의 '맹목적 믿음' 건드린 스가.. 난리가 났다\n",
            "https://v.daum.net/v/20201015080300839\n",
            "\n",
            "***** 20대 남성 *****\n",
            "[단독]BTS '봄날' 촬영지, 알고보니 60년째 미등기 상태로 방치\n",
            "https://v.daum.net/v/20201015085037095\n",
            "17억 잠실엘스 산 10대, 63억 한남더힐 산 30대..'내돈내산' 맞나?\n",
            "https://v.daum.net/v/20201015100211401\n",
            "\"펭수·뿡뿡이·보니하니 죄다 뺏겼습니다\"..EBS 자회사 '눈물'\n",
            "https://v.daum.net/v/20201015092801674\n",
            "강기정 \"돈 받은 적 없어, 가짜뉴스 진원지 조선일보 고쳐놓겠다\"\n",
            "https://v.daum.net/v/20201015095100800\n",
            "'故 구하라 협박·폭행' 최종범 징역 1년 확정..불법촬영은 결국 무죄\n",
            "https://v.daum.net/v/20201015102816873\n",
            "\n",
            "***** 30대 여성 *****\n",
            "엄마 품에 안긴 한살 아기..경비행기 추락사고서 유일하게 생존(종합)\n",
            "https://v.daum.net/v/20201015095024769\n",
            "[최강시사] 유승준 변호사 \"관광 비자 포함 어떤 비자로도 입국 불가능해, 테러리스트 아닌 이상 과도한 제한\"\n",
            "https://v.daum.net/v/20201015100329471\n",
            "'故 구하라 협박·폭행' 최종범 징역 1년 확정..불법촬영은 결국 무죄\n",
            "https://v.daum.net/v/20201015102816873\n",
            "\"펭수·뿡뿡이·보니하니 죄다 뺏겼습니다\"..EBS 자회사 '눈물'\n",
            "https://v.daum.net/v/20201015092801674\n",
            "등산이 독이 되는 경우 5가지\n",
            "https://v.daum.net/v/20201015093039810\n",
            "\n",
            "***** 30대 남성 *****\n",
            "일본인들의 '맹목적 믿음' 건드린 스가.. 난리가 났다\n",
            "https://v.daum.net/v/20201015080300839\n",
            "엄마 품에 안긴 한살 아기..경비행기 추락사고서 유일하게 생존(종합)\n",
            "https://v.daum.net/v/20201015095024769\n",
            "[단독]BTS '봄날' 촬영지, 알고보니 60년째 미등기 상태로 방치\n",
            "https://v.daum.net/v/20201015085037095\n",
            "'故 구하라 협박·폭행' 최종범 징역 1년 확정..불법촬영은 결국 무죄\n",
            "https://v.daum.net/v/20201015102816873\n",
            "\"펭수·뿡뿡이·보니하니 죄다 뺏겼습니다\"..EBS 자회사 '눈물'\n",
            "https://v.daum.net/v/20201015092801674\n",
            "\n",
            "***** 40대 여성 *****\n",
            "'거짓 미투' 피해 박진성 시인 극단 선택 암시하고 잠적\n",
            "https://v.daum.net/v/20201015104101707\n",
            "엄마 품에 안긴 한살 아기..경비행기 추락사고서 유일하게 생존(종합)\n",
            "https://v.daum.net/v/20201015095024769\n",
            "1억 에르메스 vs 30만원 눈알가방..싸움의 끝은 화해\n",
            "https://v.daum.net/v/20201015102139495\n",
            "\"펭수·뿡뿡이·보니하니 죄다 뺏겼습니다\"..EBS 자회사 '눈물'\n",
            "https://v.daum.net/v/20201015092801674\n",
            "'故 구하라 협박·폭행' 최종범 징역 1년 확정..불법촬영은 결국 무죄\n",
            "https://v.daum.net/v/20201015102816873\n",
            "\n",
            "***** 40대 남성 *****\n",
            "[최강시사] 유승준 변호사 \"관광 비자 포함 어떤 비자로도 입국 불가능해, 테러리스트 아닌 이상 과도한 제한\"\n",
            "https://v.daum.net/v/20201015100329471\n",
            "\"펭수·뿡뿡이·보니하니 죄다 뺏겼습니다\"..EBS 자회사 '눈물'\n",
            "https://v.daum.net/v/20201015092801674\n",
            "'故 구하라 협박·폭행' 최종범 징역 1년 확정..불법촬영은 결국 무죄\n",
            "https://v.daum.net/v/20201015102816873\n",
            "엄마 품에 안긴 한살 아기..경비행기 추락사고서 유일하게 생존(종합)\n",
            "https://v.daum.net/v/20201015095024769\n",
            "일본인들의 '맹목적 믿음' 건드린 스가.. 난리가 났다\n",
            "https://v.daum.net/v/20201015080300839\n",
            "\n",
            "***** 50대 여성 *****\n",
            "\"휴대전화 잃어버렸는데..'토스' 통해 150만원이 빠져나갔다\"\n",
            "https://v.daum.net/v/20201015101942361\n",
            "엄마 품에 안긴 한살 아기..경비행기 추락사고서 유일하게 생존(종합)\n",
            "https://v.daum.net/v/20201015095024769\n",
            "'故 구하라 협박·폭행' 최종범 징역 1년 확정..불법촬영은 결국 무죄\n",
            "https://v.daum.net/v/20201015102816873\n",
            "중대본 \"오늘 지역발생 90명대..부산 요양병원 집단감염 영향\"(종합)\n",
            "https://v.daum.net/v/20201015092411516\n",
            "[단독]BTS '봄날' 촬영지, 알고보니 60년째 미등기 상태로 방치\n",
            "https://v.daum.net/v/20201015085037095\n",
            "\n",
            "***** 50대 남성 *****\n",
            "등산이 독이 되는 경우 5가지\n",
            "https://v.daum.net/v/20201015093039810\n",
            "[최강시사] 유승준 변호사 \"관광 비자 포함 어떤 비자로도 입국 불가능해, 테러리스트 아닌 이상 과도한 제한\"\n",
            "https://v.daum.net/v/20201015100329471\n",
            "일본인들의 '맹목적 믿음' 건드린 스가.. 난리가 났다\n",
            "https://v.daum.net/v/20201015080300839\n",
            "강기정 \"돈 받은 적 없어, 가짜뉴스 진원지 조선일보 고쳐놓겠다\"\n",
            "https://v.daum.net/v/20201015095100800\n",
            "안철수 \"문 대통령, 정은경은 찾아가면서 北피격 공무원 아들 안아줄 수 없나 \"\n",
            "https://v.daum.net/v/20201015083406658\n"
          ],
          "name": "stdout"
        }
      ]
    }
  ]
}