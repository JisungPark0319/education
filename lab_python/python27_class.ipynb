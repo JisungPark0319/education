{
  "nbformat": 4,
  "nbformat_minor": 0,
  "metadata": {
    "colab": {
      "name": "python27_class.ipynb",
      "provenance": [],
      "collapsed_sections": [],
      "authorship_tag": "ABX9TyMlbL+j3eKE8S7LLww+gXya",
      "include_colab_link": true
    },
    "kernelspec": {
      "name": "python3",
      "display_name": "Python 3"
    }
  },
  "cells": [
    {
      "cell_type": "markdown",
      "metadata": {
        "id": "view-in-github",
        "colab_type": "text"
      },
      "source": [
        "<a href=\"https://colab.research.google.com/github/JakeOh/202007_itw_bd18/blob/master/lab_python/python27_class.ipynb\" target=\"_parent\"><img src=\"https://colab.research.google.com/assets/colab-badge.svg\" alt=\"Open In Colab\"/></a>"
      ]
    },
    {
      "cell_type": "markdown",
      "metadata": {
        "id": "vpIWfZCM4tFh",
        "colab_type": "text"
      },
      "source": [
        "**Python Coding Convention(코드 작성 관습)**\n",
        "\n",
        "*   변수, 함수, 메서드 이름은 영문 소문자, _, 숫자들 사용.\n",
        "*   두 단어 이상으로 이루어진 변수, 함수, 메서드 이름은 _를 중간에 삽입: student_id, student_name\n",
        "*   클래스 이름은 영문 대문자로 시작.\n",
        "*   두 단어 이상으로 이루어진 클래스 이름인 경우에는 Camel 표기법(단어의 첫글자는 대문자, 나머지는 소문자 사용)을 사용: BasicTv, UniversityStudent\n",
        "*   파일 이름은 영문 소문자, _, 숫자를 사용."
      ]
    },
    {
      "cell_type": "code",
      "metadata": {
        "id": "x8JdvfL824jm",
        "colab_type": "code",
        "colab": {}
      },
      "source": [
        "class Patient:\n",
        "    \"\"\"환자 객체를 생성하기 위한 클래스.\n",
        "    환자 객체 속성(attribute): 아이디(id), 이름(name), 질병 코드(disease_code), 상태(status)\n",
        "    환자 객체 기능(functionality): \n",
        "        (1) 질병 코드를 설정(set_disease_code)\n",
        "        (2) 상태를 변경(change_status)\n",
        "    \"\"\"\n",
        "    \n",
        "    def __init__(self, id, name, disease_code=None, status=None):\n",
        "        # 생성자 함수가 호출되면 자동으로 호출되는 함수.\n",
        "        # 인스턴스 변수들을 선언, 초기화(initialization)\n",
        "        self.id = id\n",
        "        self.name = name\n",
        "        self.disease_code = disease_code\n",
        "        self.status = status\n",
        "\n",
        "    def set_disease_code(self, code):\n",
        "        \"\"\"환자의 질병 코드를 argument로 전달받은 code값으로 설정(세팅).\"\"\"\n",
        "        self.disease_code = code\n",
        "\n",
        "    def change_staus(self, status):\n",
        "        \"\"\"환자의 상태를 변경\"\"\"\n",
        "        self.status = status\n",
        "\n",
        "    def info(self):\n",
        "        print(f'아이디: {self.id}, 이름: {self.name}, 질병코드: {self.disease_code}, 상태: {self.status}')\n",
        "\n",
        "    def __repr__(self):\n",
        "        # representation: 콘솔에 출력할 내용(문자열)을 반환(return)하는 메서드\n",
        "        # 객체가 print 함수의 argument로 전달되면 자동으로 호출되는 메서드.\n",
        "        return f'Patient(id={self.id}, name={self.name}, disease_code={self.disease_code}, status={self.status})'\n",
        "\n",
        "    def __eq__(self, other):\n",
        "        # equal: ==로 비교할 때 자동으로 호출되는 메서드. True/False 반환(리턴).\n",
        "        \"\"\"환자의 id가 같으면 True, 그렇지 않으면 False를 반환하는 함수\"\"\"\n",
        "        if isinstance(other, Patient):  # other 객체가 Patient 클래스의 인스턴스이면,\n",
        "            return self.id == other.id  # self의 id와 other의 id가 같은 지, 다른 지를 반환\n",
        "        else:  # other 객체가 Patient 클래스의 인스턴스가 아니면, \n",
        "            return False\n"
      ],
      "execution_count": 52,
      "outputs": []
    },
    {
      "cell_type": "code",
      "metadata": {
        "id": "uQrMQRxaB_IU",
        "colab_type": "code",
        "colab": {
          "base_uri": "https://localhost:8080/",
          "height": 121
        },
        "outputId": "8aeb683a-bbe1-4f70-ffcc-5ffd646562c1"
      },
      "source": [
        "# Patient 클래스 생성자 함수 호출 -> Patient 클래스의 인스턴스 생성\n",
        "patient1 = Patient(101, '오쌤')\n",
        "print(patient1)  #> Patient 클래스 객체(object) at 객체가 생성된 메모리 주소(16진수)\n",
        "print(id(patient1))  #> 인스턴스 메모리 주소(10진수)\n",
        "print(type(patient1))  #> 클래스 이름(데이터 타입)\n",
        "\n",
        "# 인스턴스 변수들의 값을 출력\n",
        "print(f'아이디: {patient1.id}, 이름: {patient1.name}, 질병코드: {patient1.disease_code}, 상태: {patient1.status}')\n",
        "patient1.info()"
      ],
      "execution_count": 53,
      "outputs": [
        {
          "output_type": "stream",
          "text": [
            "Patient(id=101, name=오쌤, disease_code=None, status=None)\n",
            "139838698054656\n",
            "<class '__main__.Patient'>\n",
            "아이디: 101, 이름: 오쌤, 질병코드: None, 상태: None\n",
            "아이디: 101, 이름: 오쌤, 질병코드: None, 상태: None\n"
          ],
          "name": "stdout"
        }
      ]
    },
    {
      "cell_type": "code",
      "metadata": {
        "id": "74cmZCaDI-gk",
        "colab_type": "code",
        "colab": {
          "base_uri": "https://localhost:8080/",
          "height": 38
        },
        "outputId": "fbc113ca-d959-476c-e9a3-a80a6926b01e"
      },
      "source": [
        "patient1.set_disease_code('C123')\n",
        "print(patient1.disease_code)"
      ],
      "execution_count": 15,
      "outputs": [
        {
          "output_type": "stream",
          "text": [
            "C123\n"
          ],
          "name": "stdout"
        }
      ]
    },
    {
      "cell_type": "code",
      "metadata": {
        "id": "EKVYc638dQ6N",
        "colab_type": "code",
        "colab": {
          "base_uri": "https://localhost:8080/",
          "height": 38
        },
        "outputId": "da72bcc0-012d-4685-f217-b009c2abb585"
      },
      "source": [
        "patient1.change_staus('good')\n",
        "print(patient1.status)"
      ],
      "execution_count": 16,
      "outputs": [
        {
          "output_type": "stream",
          "text": [
            "good\n"
          ],
          "name": "stdout"
        }
      ]
    },
    {
      "cell_type": "code",
      "metadata": {
        "id": "224_OfaBgM7v",
        "colab_type": "code",
        "colab": {
          "base_uri": "https://localhost:8080/",
          "height": 79
        },
        "outputId": "ba6af26d-430e-44c9-f801-29cc2e626c4e"
      },
      "source": [
        "patient2 = Patient(id=102, name='홍길동', disease_code='A100')\n",
        "print(patient2)\n",
        "print(f'아이디: {patient2.id}, 이름: {patient2.name}, 질병코드: {patient2.disease_code}, 상태: {patient2.status}')\n",
        "patient2.info()"
      ],
      "execution_count": 54,
      "outputs": [
        {
          "output_type": "stream",
          "text": [
            "Patient(id=102, name=홍길동, disease_code=A100, status=None)\n",
            "아이디: 102, 이름: 홍길동, 질병코드: A100, 상태: None\n",
            "아이디: 102, 이름: 홍길동, 질병코드: A100, 상태: None\n"
          ],
          "name": "stdout"
        }
      ]
    },
    {
      "cell_type": "code",
      "metadata": {
        "id": "P9zohljeky71",
        "colab_type": "code",
        "colab": {
          "base_uri": "https://localhost:8080/",
          "height": 38
        },
        "outputId": "116beab7-60ff-4037-d7b4-56a101cd315c"
      },
      "source": [
        "patients = [patient1, patient2]\n",
        "print(patients)"
      ],
      "execution_count": 43,
      "outputs": [
        {
          "output_type": "stream",
          "text": [
            "[Patient(id=101, name=오쌤, disease_code=None, status=None), Patient(id=102, name=홍길동, disease_code=A100, status=None)]\n"
          ],
          "name": "stdout"
        }
      ]
    },
    {
      "cell_type": "code",
      "metadata": {
        "id": "L5vHjD2KqbMa",
        "colab_type": "code",
        "colab": {
          "base_uri": "https://localhost:8080/",
          "height": 100
        },
        "outputId": "feda47f6-852f-432e-ef10-15b97e7469f8"
      },
      "source": [
        "# patient1, patient2 환자의 id를 각각 출력\n",
        "print('patient1:', id(patient1))\n",
        "print('patient2:', id(patient2))\n",
        "\n",
        "# is 연산자: 두 객체의 id(메모리 주소)가 같으면 True, 다르면 False\n",
        "print(patient1 is patient2)\n",
        "\n",
        "# == 연산자: \n",
        "# 1) 클래스가 __eq__ 메서드를 가지고 있으면, __eq__ 메소드의 반환 값과 동일.\n",
        "# 2) 클래스가 __eq__ 메서드를 가지고 있지 않으면, is 연산자의 결과와 동일.\n",
        "print(patient1 == patient2)"
      ],
      "execution_count": 55,
      "outputs": [
        {
          "output_type": "stream",
          "text": [
            "patient1: 139838698054656\n",
            "patient2: 139838698054544\n",
            "False\n",
            "False\n"
          ],
          "name": "stdout"
        }
      ]
    },
    {
      "cell_type": "code",
      "metadata": {
        "id": "62Ud5lIxsQxh",
        "colab_type": "code",
        "colab": {
          "base_uri": "https://localhost:8080/",
          "height": 100
        },
        "outputId": "14e71237-9aa1-4d4c-b7f3-153ae9f11d4f"
      },
      "source": [
        "patient3 = Patient(id=102, name='홍길동', disease_code='A100')\n",
        "print(patient3)\n",
        "print(id(patient3))\n",
        "\n",
        "print(patient2 is patient3)\n",
        "print(patient2 == patient3)  # patient2.__eq__(patient3)"
      ],
      "execution_count": 56,
      "outputs": [
        {
          "output_type": "stream",
          "text": [
            "Patient(id=102, name=홍길동, disease_code=A100, status=None)\n",
            "139838698057064\n",
            "False\n",
            "True\n"
          ],
          "name": "stdout"
        }
      ]
    },
    {
      "cell_type": "code",
      "metadata": {
        "id": "1GSkNBeEu3hg",
        "colab_type": "code",
        "colab": {
          "base_uri": "https://localhost:8080/",
          "height": 58
        },
        "outputId": "73ba51b8-1f0a-4c5f-9620-e1c0d1156176"
      },
      "source": [
        "print(isinstance(patient3, Patient))  # patient3 object는 Patient 클래스의 instance이다.\n",
        "print(isinstance(patient3, str))  # patient3 object는 str 클래스의 instance이다."
      ],
      "execution_count": 51,
      "outputs": [
        {
          "output_type": "stream",
          "text": [
            "True\n",
            "False\n"
          ],
          "name": "stdout"
        }
      ]
    },
    {
      "cell_type": "code",
      "metadata": {
        "id": "ebw3oAxD3S6_",
        "colab_type": "code",
        "colab": {
          "base_uri": "https://localhost:8080/",
          "height": 162
        },
        "outputId": "9986c91e-a1b8-45fd-c448-3fbb54bfa6da"
      },
      "source": [
        "p1 = Patient(201, 'aaa')\n",
        "p2 = p1\n",
        "\n",
        "print(p1)  # print(p1.__repr__())\n",
        "print(p2)\n",
        "\n",
        "print(p1 is p2)\n",
        "print('p1 id:', id(p1))\n",
        "print('p2 id:', id(p2))\n",
        "\n",
        "print(p1 == p2)\n",
        "\n",
        "p2.name = 'gildong'\n",
        "print(p2.name, p1.name)"
      ],
      "execution_count": 62,
      "outputs": [
        {
          "output_type": "stream",
          "text": [
            "Patient(id=201, name=aaa, disease_code=None, status=None)\n",
            "Patient(id=201, name=aaa, disease_code=None, status=None)\n",
            "True\n",
            "p1 id: 139838828461360\n",
            "p2 id: 139838828461360\n",
            "True\n",
            "gildong gildong\n"
          ],
          "name": "stdout"
        }
      ]
    },
    {
      "cell_type": "code",
      "metadata": {
        "id": "5LKOFntO5HTI",
        "colab_type": "code",
        "colab": {
          "base_uri": "https://localhost:8080/",
          "height": 100
        },
        "outputId": "21db8111-9869-4c82-b355-6361ed01b1c2"
      },
      "source": [
        "p3 = Patient(id=301, name='bbb')\n",
        "p4 = Patient(id=301, name='Bbb')\n",
        "\n",
        "print('p3 id:', id(p3))\n",
        "print('p4 id:', id(p4))\n",
        "print(p3 is p4)  # is: id(메모리 주소) 비교.\n",
        "\n",
        "print(p3 == p4)  # ==: __eq__ 메소드의 리턴 값."
      ],
      "execution_count": 65,
      "outputs": [
        {
          "output_type": "stream",
          "text": [
            "p3 id: 139838698438048\n",
            "p4 id: 139838698437544\n",
            "False\n",
            "True\n"
          ],
          "name": "stdout"
        }
      ]
    },
    {
      "cell_type": "code",
      "metadata": {
        "id": "lGFQ3N7-8jV8",
        "colab_type": "code",
        "colab": {
          "base_uri": "https://localhost:8080/",
          "height": 100
        },
        "outputId": "4fb2aeb5-f14a-4560-e691-14132498f41a"
      },
      "source": [
        "# str 클래스의 인스턴스 생성 과정\n",
        "# 1) 처음 만드는 문자열은 새로운 메모리 주소에 저장됨.\n",
        "# 2) 같은 문자열을 만드는 경우에는, 기존에 존재하는 문자열의 주소를 넘겨줌.\n",
        "s1 = str('hello')\n",
        "s2 = str('hello')\n",
        "\n",
        "print('s1 id:', id(s1))\n",
        "print('s2 id:', id(s2))\n",
        "print(s1 is s2)\n",
        "print(s1 == s2)"
      ],
      "execution_count": 68,
      "outputs": [
        {
          "output_type": "stream",
          "text": [
            "s1 id: 139838698054072\n",
            "s2 id: 139838698054072\n",
            "True\n",
            "True\n"
          ],
          "name": "stdout"
        }
      ]
    }
  ]
}