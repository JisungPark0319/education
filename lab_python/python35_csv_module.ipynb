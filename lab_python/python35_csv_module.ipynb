{
  "nbformat": 4,
  "nbformat_minor": 0,
  "metadata": {
    "colab": {
      "name": "python35_csv_module.ipynb",
      "provenance": [],
      "collapsed_sections": [],
      "mount_file_id": "1DL0W0ReuZwSuK6HM7j_ofEpZaU_QEGNA",
      "authorship_tag": "ABX9TyPvqgBKYTFZ3ffUhvmsvYhC",
      "include_colab_link": true
    },
    "kernelspec": {
      "name": "python3",
      "display_name": "Python 3"
    }
  },
  "cells": [
    {
      "cell_type": "markdown",
      "metadata": {
        "id": "view-in-github",
        "colab_type": "text"
      },
      "source": [
        "<a href=\"https://colab.research.google.com/github/JakeOh/202007_itw_bd18/blob/master/lab_python/python35_csv_module.ipynb\" target=\"_parent\"><img src=\"https://colab.research.google.com/assets/colab-badge.svg\" alt=\"Open In Colab\"/></a>"
      ]
    },
    {
      "cell_type": "code",
      "metadata": {
        "id": "jv_KdKdue8c3",
        "colab_type": "code",
        "colab": {}
      },
      "source": [
        "file_path = '/content/drive/My Drive/Colab Notebooks/lab_python/pop_seoul.csv'"
      ],
      "execution_count": 1,
      "outputs": []
    },
    {
      "cell_type": "code",
      "metadata": {
        "id": "mwJGBrDZgW3M",
        "colab_type": "code",
        "colab": {
          "base_uri": "https://localhost:8080/",
          "height": 1000
        },
        "outputId": "b4c7601a-7ced-4ec3-d10c-78a9b515c998"
      },
      "source": [
        "# 경로에 저장된 파일을 open해서, 한 줄씩 읽으면서 출력\n",
        "# comma(,)로 split했을 때 어떤 문제가 있을까?\n",
        "\n",
        "with open(file_path, mode='r') as f:\n",
        "    for line in f:\n",
        "        print(line.strip())\n",
        "        print(line.strip().split(sep=','))"
      ],
      "execution_count": 7,
      "outputs": [
        {
          "output_type": "stream",
          "text": [
            "Gu,Korean,Foreigner,Senior\n",
            "['Gu', 'Korean', 'Foreigner', 'Senior']\n",
            "Total,\"9,740,398\",\"285,529\",\"1,468,146\"\n",
            "['Total', '\"9', '740', '398\"', '\"285', '529\"', '\"1', '468', '146\"']\n",
            "Jongrogu,\"151,767\",\"11,093\",\"27,394\"\n",
            "['Jongrogu', '\"151', '767\"', '\"11', '093\"', '\"27', '394\"']\n",
            "Jongru,\"126,409\",\"10,254\",\"23,025\"\n",
            "['Jongru', '\"126', '409\"', '\"10', '254\"', '\"23', '025\"']\n",
            "Yongsangu,\"228,830\",\"16,159\",\"38,531\"\n",
            "['Yongsangu', '\"228', '830\"', '\"16', '159\"', '\"38', '531\"']\n",
            "Seongdonggu,\"303,158\",\"8,132\",\"43,662\"\n",
            "['Seongdonggu', '\"303', '158\"', '\"8', '132\"', '\"43', '662\"']\n",
            "Kwangjingu,\"352,692\",\"15,645\",\"47,347\"\n",
            "['Kwangjingu', '\"352', '692\"', '\"15', '645\"', '\"47', '347\"']\n",
            "Dongdaemoongu,\"346,551\",\"17,228\",\"58,764\"\n",
            "['Dongdaemoongu', '\"346', '551\"', '\"17', '228\"', '\"58', '764\"']\n",
            "Jungranggu,\"398,812\",\"4,964\",\"64,449\"\n",
            "['Jungranggu', '\"398', '812\"', '\"4', '964\"', '\"64', '449\"']\n",
            "Seongbukgu,\"441,590\",\"12,524\",\"70,204\"\n",
            "['Seongbukgu', '\"441', '590\"', '\"12', '524\"', '\"70', '204\"']\n",
            "Gangbukgu,\"314,090\",\"3,785\",\"59,808\"\n",
            "['Gangbukgu', '\"314', '090\"', '\"3', '785\"', '\"59', '808\"']\n",
            "Dobonggu,\"335,280\",\"2,314\",\"58,070\"\n",
            "['Dobonggu', '\"335', '280\"', '\"2', '314\"', '\"58', '070\"']\n",
            "Nowonggu,\"535,282\",\"4,547\",\"79,968\"\n",
            "['Nowonggu', '\"535', '282\"', '\"4', '547\"', '\"79', '968\"']\n",
            "Eunpyonggu,\"481,663\",\"4,496\",\"79,957\"\n",
            "['Eunpyonggu', '\"481', '663\"', '\"4', '496\"', '\"79', '957\"']\n",
            "Seodaemungu,\"310,069\",\"14,020\",\"51,708\"\n",
            "['Seodaemungu', '\"310', '069\"', '\"14', '020\"', '\"51', '708\"']\n",
            "Mapogu,\"373,629\",\"11,976\",\"51,961\"\n",
            "['Mapogu', '\"373', '629\"', '\"11', '976\"', '\"51', '961\"']\n",
            "Yangcheongu,\"459,849\",\"4,082\",\"60,487\"\n",
            "['Yangcheongu', '\"459', '849\"', '\"4', '082\"', '\"60', '487\"']\n",
            "Gangseogu,\"593,708\",\"6,532\",\"82,937\"\n",
            "['Gangseogu', '\"593', '708\"', '\"6', '532\"', '\"82', '937\"']\n",
            "Gurogu,\"406,748\",\"33,102\",\"64,952\"\n",
            "['Gurogu', '\"406', '748\"', '\"33', '102\"', '\"64', '952\"']\n",
            "Guemcheongu,\"233,371\",\"19,497\",\"37,191\"\n",
            "['Guemcheongu', '\"233', '371\"', '\"19', '497\"', '\"37', '191\"']\n",
            "Youngdeungpogu,\"368,402\",\"34,076\",\"57,350\"\n",
            "['Youngdeungpogu', '\"368', '402\"', '\"34', '076\"', '\"57', '350\"']\n",
            "Dongjakgu,\"397,618\",\"12,869\",\"61,607\"\n",
            "['Dongjakgu', '\"397', '618\"', '\"12', '869\"', '\"61', '607\"']\n",
            "Kwanakgu,\"502,117\",\"17,836\",\"74,518\"\n",
            "['Kwanakgu', '\"502', '117\"', '\"17', '836\"', '\"74', '518\"']\n",
            "Seoucheogu,\"431,027\",\"4,231\",\"56,455\"\n",
            "['Seoucheogu', '\"431', '027\"', '\"4', '231\"', '\"56', '455\"']\n",
            "Gangnamgu,\"544,028\",\"5,015\",\"70,029\"\n",
            "['Gangnamgu', '\"544', '028\"', '\"5', '015\"', '\"70', '029\"']\n",
            "Songpagu,\"677,489\",\"6,849\",\"86,062\"\n",
            "['Songpagu', '\"677', '489\"', '\"6', '849\"', '\"86', '062\"']\n",
            "Gangdonggu,\"426,219\",\"4,303\",\"61,710\"\n",
            "['Gangdonggu', '\"426', '219\"', '\"4', '303\"', '\"61', '710\"']\n"
          ],
          "name": "stdout"
        }
      ]
    },
    {
      "cell_type": "markdown",
      "metadata": {
        "id": "v1FQNXLOi3C0",
        "colab_type": "text"
      },
      "source": [
        "\n",
        "\n",
        "*   CSV 파일의 값(value)들 중에서, 숫자들은 1000 단위 구분자(,)가 있음.\n",
        "*   값(value)들을 구분하기 위한 구분자로서의 comma와 숫자 1000 단위 구분자로서의 comma를 구별해서 split을 해야 함.\n",
        "*   이런 예외 상황들을 처리해서 CSV 파일을 읽거나 쓸 수 있는 csv 모듈이 있음.\n",
        "\n"
      ]
    },
    {
      "cell_type": "code",
      "metadata": {
        "id": "xl5Z2BxGkYYx",
        "colab_type": "code",
        "colab": {}
      },
      "source": [
        "import csv  # csv 모듈 import(사용 선언)"
      ],
      "execution_count": 8,
      "outputs": []
    },
    {
      "cell_type": "code",
      "metadata": {
        "id": "DkAvNWgopUkR",
        "colab_type": "code",
        "colab": {
          "base_uri": "https://localhost:8080/",
          "height": 58
        },
        "outputId": "74d15bde-4918-4823-8a75-f227a48ffbee"
      },
      "source": [
        "with open(file_path, mode='r') as f:  # CSV 파일을 읽기 모드로 open\n",
        "    pop_seoul = []\n",
        "    \n",
        "    # 파일 객체를 csv.reader() 함수의 argument로 전달해서 reader 객체 생성.\n",
        "    reader = csv.reader(f)\n",
        "    for row in reader:\n",
        "        # 파일에서 한 줄씩 읽으면서, \n",
        "        # 그 라인을 구분자(separator, delimeter)로 split된 리스트를 만들어 줌.\n",
        "        # print(row)  \n",
        "        pop_seoul.append(row)\n",
        "\n",
        "print(pop_seoul)"
      ],
      "execution_count": 23,
      "outputs": [
        {
          "output_type": "stream",
          "text": [
            "[['Gu', 'Korean', 'Foreigner', 'Senior'], ['Total', '9,740,398', '285,529', '1,468,146'], ['Jongrogu', '151,767', '11,093', '27,394'], ['Jongru', '126,409', '10,254', '23,025'], ['Yongsangu', '228,830', '16,159', '38,531'], ['Seongdonggu', '303,158', '8,132', '43,662'], ['Kwangjingu', '352,692', '15,645', '47,347'], ['Dongdaemoongu', '346,551', '17,228', '58,764'], ['Jungranggu', '398,812', '4,964', '64,449'], ['Seongbukgu', '441,590', '12,524', '70,204'], ['Gangbukgu', '314,090', '3,785', '59,808'], ['Dobonggu', '335,280', '2,314', '58,070'], ['Nowonggu', '535,282', '4,547', '79,968'], ['Eunpyonggu', '481,663', '4,496', '79,957'], ['Seodaemungu', '310,069', '14,020', '51,708'], ['Mapogu', '373,629', '11,976', '51,961'], ['Yangcheongu', '459,849', '4,082', '60,487'], ['Gangseogu', '593,708', '6,532', '82,937'], ['Gurogu', '406,748', '33,102', '64,952'], ['Guemcheongu', '233,371', '19,497', '37,191'], ['Youngdeungpogu', '368,402', '34,076', '57,350'], ['Dongjakgu', '397,618', '12,869', '61,607'], ['Kwanakgu', '502,117', '17,836', '74,518'], ['Seoucheogu', '431,027', '4,231', '56,455'], ['Gangnamgu', '544,028', '5,015', '70,029'], ['Songpagu', '677,489', '6,849', '86,062'], ['Gangdonggu', '426,219', '4,303', '61,710']]\n"
          ],
          "name": "stdout"
        }
      ]
    },
    {
      "cell_type": "code",
      "metadata": {
        "id": "Gm54LbCFuFRz",
        "colab_type": "code",
        "colab": {
          "base_uri": "https://localhost:8080/",
          "height": 38
        },
        "outputId": "515591be-559a-40c2-af68-8b2883be5f4b"
      },
      "source": [
        "int('9,740,398'.replace(',', ''))"
      ],
      "execution_count": 15,
      "outputs": [
        {
          "output_type": "execute_result",
          "data": {
            "text/plain": [
              "9740398"
            ]
          },
          "metadata": {
            "tags": []
          },
          "execution_count": 15
        }
      ]
    },
    {
      "cell_type": "code",
      "metadata": {
        "id": "MgvL9gtXsNjR",
        "colab_type": "code",
        "colab": {
          "base_uri": "https://localhost:8080/",
          "height": 58
        },
        "outputId": "dee86a86-0677-4080-93fa-59d8023b0c48"
      },
      "source": [
        "# pop_seoul 리스트에서 숫자로 변환할 수 있는 원소들을 int 타입으로 변환.\n",
        "# str.replace('원래문자', '바꿀문자')\n",
        "for i, row in enumerate(pop_seoul):\n",
        "    if i > 0:  # 인덱스 0번(첫번째) row는 헤더이기때문에 생략하기 위해서,\n",
        "        for j in range(1, 4):  # column 인덱스 1 이상 4 미만까지 반복\n",
        "            pop_seoul[i][j] = int(row[j].replace(',', ''))\n",
        "\n",
        "print(pop_seoul)"
      ],
      "execution_count": 16,
      "outputs": [
        {
          "output_type": "stream",
          "text": [
            "[['Gu', 'Korean', 'Foreigner', 'Senior'], ['Total', 9740398, 285529, 1468146], ['Jongrogu', 151767, 11093, 27394], ['Jongru', 126409, 10254, 23025], ['Yongsangu', 228830, 16159, 38531], ['Seongdonggu', 303158, 8132, 43662], ['Kwangjingu', 352692, 15645, 47347], ['Dongdaemoongu', 346551, 17228, 58764], ['Jungranggu', 398812, 4964, 64449], ['Seongbukgu', 441590, 12524, 70204], ['Gangbukgu', 314090, 3785, 59808], ['Dobonggu', 335280, 2314, 58070], ['Nowonggu', 535282, 4547, 79968], ['Eunpyonggu', 481663, 4496, 79957], ['Seodaemungu', 310069, 14020, 51708], ['Mapogu', 373629, 11976, 51961], ['Yangcheongu', 459849, 4082, 60487], ['Gangseogu', 593708, 6532, 82937], ['Gurogu', 406748, 33102, 64952], ['Guemcheongu', 233371, 19497, 37191], ['Youngdeungpogu', 368402, 34076, 57350], ['Dongjakgu', 397618, 12869, 61607], ['Kwanakgu', 502117, 17836, 74518], ['Seoucheogu', 431027, 4231, 56455], ['Gangnamgu', 544028, 5015, 70029], ['Songpagu', 677489, 6849, 86062], ['Gangdonggu', 426219, 4303, 61710]]\n"
          ],
          "name": "stdout"
        }
      ]
    },
    {
      "cell_type": "code",
      "metadata": {
        "id": "v7HJr4YbyHVY",
        "colab_type": "code",
        "colab": {
          "base_uri": "https://localhost:8080/",
          "height": 58
        },
        "outputId": "be3dacf1-d890-4c80-eb83-38eb6aa713cd"
      },
      "source": [
        "# try-except 활용하기\n",
        "for i, row in enumerate(pop_seoul):\n",
        "    for j, element in enumerate(row):\n",
        "        try:\n",
        "            # int 타입으로 변환을 시도하고, 에러가 없으면 저장\n",
        "            pop_seoul[i][j] = int(element.replace(',', ''))\n",
        "        except:\n",
        "            # int 타입으로 변환 도중에 에러가 발생하면 아무 일도 하지 않고 건너뜀.\n",
        "            pass\n",
        "\n",
        "print(pop_seoul)"
      ],
      "execution_count": 24,
      "outputs": [
        {
          "output_type": "stream",
          "text": [
            "[['Gu', 'Korean', 'Foreigner', 'Senior'], ['Total', 9740398, 285529, 1468146], ['Jongrogu', 151767, 11093, 27394], ['Jongru', 126409, 10254, 23025], ['Yongsangu', 228830, 16159, 38531], ['Seongdonggu', 303158, 8132, 43662], ['Kwangjingu', 352692, 15645, 47347], ['Dongdaemoongu', 346551, 17228, 58764], ['Jungranggu', 398812, 4964, 64449], ['Seongbukgu', 441590, 12524, 70204], ['Gangbukgu', 314090, 3785, 59808], ['Dobonggu', 335280, 2314, 58070], ['Nowonggu', 535282, 4547, 79968], ['Eunpyonggu', 481663, 4496, 79957], ['Seodaemungu', 310069, 14020, 51708], ['Mapogu', 373629, 11976, 51961], ['Yangcheongu', 459849, 4082, 60487], ['Gangseogu', 593708, 6532, 82937], ['Gurogu', 406748, 33102, 64952], ['Guemcheongu', 233371, 19497, 37191], ['Youngdeungpogu', 368402, 34076, 57350], ['Dongjakgu', 397618, 12869, 61607], ['Kwanakgu', 502117, 17836, 74518], ['Seoucheogu', 431027, 4231, 56455], ['Gangnamgu', 544028, 5015, 70029], ['Songpagu', 677489, 6849, 86062], ['Gangdonggu', 426219, 4303, 61710]]\n"
          ],
          "name": "stdout"
        }
      ]
    },
    {
      "cell_type": "code",
      "metadata": {
        "id": "xympGfIF4V3g",
        "colab_type": "code",
        "colab": {
          "base_uri": "https://localhost:8080/",
          "height": 58
        },
        "outputId": "cd18a76e-aba7-42fe-d6c7-2623536e2ebf"
      },
      "source": [
        "# 파생 변수 추가:\n",
        "# pop_seoul 리스트의 첫번째 행의 마지막에 'ForeignRatio' 원소를 추가.\n",
        "# pop_seoul 리스트 첫번째 행을 제외한 나머지 모든 행에는 외국인 비율(%) 추가.\n",
        "# 외국인/(내국인+외국인) * 100\n",
        "for i, row in enumerate(pop_seoul):\n",
        "    if i == 0:  # 데이터 프레임의 헤더\n",
        "        row.append('ForeignRatio')\n",
        "    else:\n",
        "        foreign_ratio = row[2] / (row[1] + row[2]) * 100\n",
        "        row.append(foreign_ratio)\n",
        "\n",
        "print(pop_seoul)"
      ],
      "execution_count": 25,
      "outputs": [
        {
          "output_type": "stream",
          "text": [
            "[['Gu', 'Korean', 'Foreigner', 'Senior', 'ForeignRatio'], ['Total', 9740398, 285529, 1468146, 2.847906233508383], ['Jongrogu', 151767, 11093, 27394, 6.81137173032052], ['Jongru', 126409, 10254, 23025, 7.503128132705999], ['Yongsangu', 228830, 16159, 38531, 6.595806342325574], ['Seongdonggu', 303158, 8132, 43662, 2.612355038709885], ['Kwangjingu', 352692, 15645, 47347, 4.247469029720066], ['Dongdaemoongu', 346551, 17228, 58764, 4.735842365832003], ['Jungranggu', 398812, 4964, 64449, 1.2293945157711206], ['Seongbukgu', 441590, 12524, 70204, 2.7578977965885216], ['Gangbukgu', 314090, 3785, 59808, 1.1907196224931182], ['Dobonggu', 335280, 2314, 58070, 0.6854387222521727], ['Nowonggu', 535282, 4547, 79968, 0.8423037665631153], ['Eunpyonggu', 481663, 4496, 79957, 0.9248003225282263], ['Seodaemungu', 310069, 14020, 51708, 4.325972186652431], ['Mapogu', 373629, 11976, 51961, 3.1057688567316295], ['Yangcheongu', 459849, 4082, 60487, 0.8798722223778968], ['Gangseogu', 593708, 6532, 82937, 1.08823137411702], ['Gurogu', 406748, 33102, 64952, 7.5257474138911], ['Guemcheongu', 233371, 19497, 37191, 7.71034690035908], ['Youngdeungpogu', 368402, 34076, 57350, 8.46654972445699], ['Dongjakgu', 397618, 12869, 61607, 3.1350566522204115], ['Kwanakgu', 502117, 17836, 74518, 3.430310047254271], ['Seoucheogu', 431027, 4231, 56455, 0.9720671417871699], ['Gangnamgu', 544028, 5015, 70029, 0.9134075108871255], ['Songpagu', 677489, 6849, 86062, 1.0008212316136178], ['Gangdonggu', 426219, 4303, 61710, 0.999484346909101]]\n"
          ],
          "name": "stdout"
        }
      ]
    },
    {
      "cell_type": "code",
      "metadata": {
        "id": "KDB_CsFg40rl",
        "colab_type": "code",
        "colab": {
          "base_uri": "https://localhost:8080/",
          "height": 58
        },
        "outputId": "e67f53a3-66e5-438a-cc6e-adc88d22857c"
      },
      "source": [
        "# pop_seoul에서 외국인 비율이 3% 이상인 모든 레코드를 검색.\n",
        "pop_foreign_over_3 = []\n",
        "for i, row in enumerate(pop_seoul):\n",
        "    if i == 0:\n",
        "        pop_foreign_over_3.append(row)\n",
        "    else:\n",
        "        if row[4] >= 3.0:\n",
        "            pop_foreign_over_3.append(row)\n",
        "\n",
        "print(pop_foreign_over_3)"
      ],
      "execution_count": 26,
      "outputs": [
        {
          "output_type": "stream",
          "text": [
            "[['Gu', 'Korean', 'Foreigner', 'Senior', 'ForeignRatio'], ['Jongrogu', 151767, 11093, 27394, 6.81137173032052], ['Jongru', 126409, 10254, 23025, 7.503128132705999], ['Yongsangu', 228830, 16159, 38531, 6.595806342325574], ['Kwangjingu', 352692, 15645, 47347, 4.247469029720066], ['Dongdaemoongu', 346551, 17228, 58764, 4.735842365832003], ['Seodaemungu', 310069, 14020, 51708, 4.325972186652431], ['Mapogu', 373629, 11976, 51961, 3.1057688567316295], ['Gurogu', 406748, 33102, 64952, 7.5257474138911], ['Guemcheongu', 233371, 19497, 37191, 7.71034690035908], ['Youngdeungpogu', 368402, 34076, 57350, 8.46654972445699], ['Dongjakgu', 397618, 12869, 61607, 3.1350566522204115], ['Kwanakgu', 502117, 17836, 74518, 3.430310047254271]]\n"
          ],
          "name": "stdout"
        }
      ]
    },
    {
      "cell_type": "code",
      "metadata": {
        "id": "14klwsqX_Ghd",
        "colab_type": "code",
        "colab": {}
      },
      "source": [
        "# pop_foreign_over_3 리스트를 CSV 파일로 write\n",
        "with open('pop_seoul_3.csv', mode='w') as f:\n",
        "    # csv.writer() 함수의 argument로 파일 객체를 전달해서 writer 객체를 생성.\n",
        "    writer = csv.writer(f)\n",
        "    # writer 객체의 writerows() 메서드 사용.\n",
        "    writer.writerows(pop_foreign_over_3)"
      ],
      "execution_count": 27,
      "outputs": []
    },
    {
      "cell_type": "markdown",
      "metadata": {
        "id": "DPh-2-KdAhj0",
        "colab_type": "text"
      },
      "source": [
        "**csv 모듈**\n",
        "* csv.reader(): CSV 파일 read -> 리스트\n",
        "* csv.writer(): 2차원 리스트 -> CSV 파일 write"
      ]
    }
  ]
}