{
  "nbformat": 4,
  "nbformat_minor": 0,
  "metadata": {
    "colab": {
      "name": "python44_DataFrame.ipynb",
      "provenance": [],
      "collapsed_sections": [],
      "authorship_tag": "ABX9TyOwQXeh835lL4Xz1yzmyH2F",
      "include_colab_link": true
    },
    "kernelspec": {
      "name": "python3",
      "display_name": "Python 3"
    }
  },
  "cells": [
    {
      "cell_type": "markdown",
      "metadata": {
        "id": "view-in-github",
        "colab_type": "text"
      },
      "source": [
        "<a href=\"https://colab.research.google.com/github/JakeOh/202007_itw_bd18/blob/master/lab_python/python44_DataFrame.ipynb\" target=\"_parent\"><img src=\"https://colab.research.google.com/assets/colab-badge.svg\" alt=\"Open In Colab\"/></a>"
      ]
    },
    {
      "cell_type": "code",
      "metadata": {
        "id": "kb4XvC4ApQXK",
        "colab_type": "code",
        "colab": {
          "base_uri": "https://localhost:8080/",
          "height": 78
        },
        "outputId": "043167d2-8c18-4e59-e8de-2af3b3341c0a"
      },
      "source": [
        "import pandas as pd\n",
        "import seaborn as sns"
      ],
      "execution_count": 1,
      "outputs": [
        {
          "output_type": "stream",
          "text": [
            "/usr/local/lib/python3.6/dist-packages/statsmodels/tools/_testing.py:19: FutureWarning: pandas.util.testing is deprecated. Use the functions in the public API at pandas.testing instead.\n",
            "  import pandas.util.testing as tm\n"
          ],
          "name": "stderr"
        }
      ]
    },
    {
      "cell_type": "code",
      "metadata": {
        "id": "E3YGjIifpb5g",
        "colab_type": "code",
        "colab": {
          "base_uri": "https://localhost:8080/",
          "height": 58
        },
        "outputId": "66624884-3c1d-454e-c344-e3b208c4828d"
      },
      "source": [
        "# seaborn 패키지의 샘플 중에서 titanic 데이터 프레임을 로드.\n",
        "titanic = sns.load_dataset('titanic')\n",
        "print(type(titanic))\n",
        "print(titanic.shape)"
      ],
      "execution_count": 3,
      "outputs": [
        {
          "output_type": "stream",
          "text": [
            "<class 'pandas.core.frame.DataFrame'>\n",
            "(891, 15)\n"
          ],
          "name": "stdout"
        }
      ]
    },
    {
      "cell_type": "code",
      "metadata": {
        "id": "cRk0jrPYpxj8",
        "colab_type": "code",
        "colab": {
          "base_uri": "https://localhost:8080/",
          "height": 210
        },
        "outputId": "a96a5244-273e-4ae5-8f5f-5061cceeb01c"
      },
      "source": [
        "# 첫 5개 행(row) 출력\n",
        "titanic.iloc[:5]\n",
        "# titanic.head()"
      ],
      "execution_count": 4,
      "outputs": [
        {
          "output_type": "execute_result",
          "data": {
            "text/html": [
              "<div>\n",
              "<style scoped>\n",
              "    .dataframe tbody tr th:only-of-type {\n",
              "        vertical-align: middle;\n",
              "    }\n",
              "\n",
              "    .dataframe tbody tr th {\n",
              "        vertical-align: top;\n",
              "    }\n",
              "\n",
              "    .dataframe thead th {\n",
              "        text-align: right;\n",
              "    }\n",
              "</style>\n",
              "<table border=\"1\" class=\"dataframe\">\n",
              "  <thead>\n",
              "    <tr style=\"text-align: right;\">\n",
              "      <th></th>\n",
              "      <th>survived</th>\n",
              "      <th>pclass</th>\n",
              "      <th>sex</th>\n",
              "      <th>age</th>\n",
              "      <th>sibsp</th>\n",
              "      <th>parch</th>\n",
              "      <th>fare</th>\n",
              "      <th>embarked</th>\n",
              "      <th>class</th>\n",
              "      <th>who</th>\n",
              "      <th>adult_male</th>\n",
              "      <th>deck</th>\n",
              "      <th>embark_town</th>\n",
              "      <th>alive</th>\n",
              "      <th>alone</th>\n",
              "    </tr>\n",
              "  </thead>\n",
              "  <tbody>\n",
              "    <tr>\n",
              "      <th>0</th>\n",
              "      <td>0</td>\n",
              "      <td>3</td>\n",
              "      <td>male</td>\n",
              "      <td>22.0</td>\n",
              "      <td>1</td>\n",
              "      <td>0</td>\n",
              "      <td>7.2500</td>\n",
              "      <td>S</td>\n",
              "      <td>Third</td>\n",
              "      <td>man</td>\n",
              "      <td>True</td>\n",
              "      <td>NaN</td>\n",
              "      <td>Southampton</td>\n",
              "      <td>no</td>\n",
              "      <td>False</td>\n",
              "    </tr>\n",
              "    <tr>\n",
              "      <th>1</th>\n",
              "      <td>1</td>\n",
              "      <td>1</td>\n",
              "      <td>female</td>\n",
              "      <td>38.0</td>\n",
              "      <td>1</td>\n",
              "      <td>0</td>\n",
              "      <td>71.2833</td>\n",
              "      <td>C</td>\n",
              "      <td>First</td>\n",
              "      <td>woman</td>\n",
              "      <td>False</td>\n",
              "      <td>C</td>\n",
              "      <td>Cherbourg</td>\n",
              "      <td>yes</td>\n",
              "      <td>False</td>\n",
              "    </tr>\n",
              "    <tr>\n",
              "      <th>2</th>\n",
              "      <td>1</td>\n",
              "      <td>3</td>\n",
              "      <td>female</td>\n",
              "      <td>26.0</td>\n",
              "      <td>0</td>\n",
              "      <td>0</td>\n",
              "      <td>7.9250</td>\n",
              "      <td>S</td>\n",
              "      <td>Third</td>\n",
              "      <td>woman</td>\n",
              "      <td>False</td>\n",
              "      <td>NaN</td>\n",
              "      <td>Southampton</td>\n",
              "      <td>yes</td>\n",
              "      <td>True</td>\n",
              "    </tr>\n",
              "    <tr>\n",
              "      <th>3</th>\n",
              "      <td>1</td>\n",
              "      <td>1</td>\n",
              "      <td>female</td>\n",
              "      <td>35.0</td>\n",
              "      <td>1</td>\n",
              "      <td>0</td>\n",
              "      <td>53.1000</td>\n",
              "      <td>S</td>\n",
              "      <td>First</td>\n",
              "      <td>woman</td>\n",
              "      <td>False</td>\n",
              "      <td>C</td>\n",
              "      <td>Southampton</td>\n",
              "      <td>yes</td>\n",
              "      <td>False</td>\n",
              "    </tr>\n",
              "    <tr>\n",
              "      <th>4</th>\n",
              "      <td>0</td>\n",
              "      <td>3</td>\n",
              "      <td>male</td>\n",
              "      <td>35.0</td>\n",
              "      <td>0</td>\n",
              "      <td>0</td>\n",
              "      <td>8.0500</td>\n",
              "      <td>S</td>\n",
              "      <td>Third</td>\n",
              "      <td>man</td>\n",
              "      <td>True</td>\n",
              "      <td>NaN</td>\n",
              "      <td>Southampton</td>\n",
              "      <td>no</td>\n",
              "      <td>True</td>\n",
              "    </tr>\n",
              "  </tbody>\n",
              "</table>\n",
              "</div>"
            ],
            "text/plain": [
              "   survived  pclass     sex   age  ...  deck  embark_town  alive  alone\n",
              "0         0       3    male  22.0  ...   NaN  Southampton     no  False\n",
              "1         1       1  female  38.0  ...     C    Cherbourg    yes  False\n",
              "2         1       3  female  26.0  ...   NaN  Southampton    yes   True\n",
              "3         1       1  female  35.0  ...     C  Southampton    yes  False\n",
              "4         0       3    male  35.0  ...   NaN  Southampton     no   True\n",
              "\n",
              "[5 rows x 15 columns]"
            ]
          },
          "metadata": {
            "tags": []
          },
          "execution_count": 4
        }
      ]
    },
    {
      "cell_type": "code",
      "metadata": {
        "id": "lwJ7uy4NR7oE",
        "colab_type": "code",
        "colab": {
          "base_uri": "https://localhost:8080/",
          "height": 266
        },
        "outputId": "d02e9df7-d6c4-4810-a11f-497103c94e5c"
      },
      "source": [
        "titanic['survived']  # df['column_name'], df.column_name"
      ],
      "execution_count": 7,
      "outputs": [
        {
          "output_type": "execute_result",
          "data": {
            "text/plain": [
              "0      0\n",
              "1      1\n",
              "2      1\n",
              "3      1\n",
              "4      0\n",
              "      ..\n",
              "886    0\n",
              "887    1\n",
              "888    0\n",
              "889    1\n",
              "890    0\n",
              "Name: survived, Length: 891, dtype: int64"
            ]
          },
          "metadata": {
            "tags": []
          },
          "execution_count": 7
        }
      ]
    },
    {
      "cell_type": "code",
      "metadata": {
        "id": "J5nWkuBISZKD",
        "colab_type": "code",
        "colab": {
          "base_uri": "https://localhost:8080/",
          "height": 38
        },
        "outputId": "385227e1-4035-4b0a-aeec-3621d686fd2a"
      },
      "source": [
        "type(titanic['survived'])"
      ],
      "execution_count": 8,
      "outputs": [
        {
          "output_type": "execute_result",
          "data": {
            "text/plain": [
              "pandas.core.series.Series"
            ]
          },
          "metadata": {
            "tags": []
          },
          "execution_count": 8
        }
      ]
    },
    {
      "cell_type": "code",
      "metadata": {
        "id": "2bcavrHJp1Hi",
        "colab_type": "code",
        "colab": {
          "base_uri": "https://localhost:8080/",
          "height": 210
        },
        "outputId": "529995ae-4fe3-498d-8f8d-ca8e47e586a8"
      },
      "source": [
        "# 마지막 5개 행 출력\n",
        "titanic.iloc[-5:]\n",
        "# titanic.tail()"
      ],
      "execution_count": 9,
      "outputs": [
        {
          "output_type": "execute_result",
          "data": {
            "text/html": [
              "<div>\n",
              "<style scoped>\n",
              "    .dataframe tbody tr th:only-of-type {\n",
              "        vertical-align: middle;\n",
              "    }\n",
              "\n",
              "    .dataframe tbody tr th {\n",
              "        vertical-align: top;\n",
              "    }\n",
              "\n",
              "    .dataframe thead th {\n",
              "        text-align: right;\n",
              "    }\n",
              "</style>\n",
              "<table border=\"1\" class=\"dataframe\">\n",
              "  <thead>\n",
              "    <tr style=\"text-align: right;\">\n",
              "      <th></th>\n",
              "      <th>survived</th>\n",
              "      <th>pclass</th>\n",
              "      <th>sex</th>\n",
              "      <th>age</th>\n",
              "      <th>sibsp</th>\n",
              "      <th>parch</th>\n",
              "      <th>fare</th>\n",
              "      <th>embarked</th>\n",
              "      <th>class</th>\n",
              "      <th>who</th>\n",
              "      <th>adult_male</th>\n",
              "      <th>deck</th>\n",
              "      <th>embark_town</th>\n",
              "      <th>alive</th>\n",
              "      <th>alone</th>\n",
              "    </tr>\n",
              "  </thead>\n",
              "  <tbody>\n",
              "    <tr>\n",
              "      <th>886</th>\n",
              "      <td>0</td>\n",
              "      <td>2</td>\n",
              "      <td>male</td>\n",
              "      <td>27.0</td>\n",
              "      <td>0</td>\n",
              "      <td>0</td>\n",
              "      <td>13.00</td>\n",
              "      <td>S</td>\n",
              "      <td>Second</td>\n",
              "      <td>man</td>\n",
              "      <td>True</td>\n",
              "      <td>NaN</td>\n",
              "      <td>Southampton</td>\n",
              "      <td>no</td>\n",
              "      <td>True</td>\n",
              "    </tr>\n",
              "    <tr>\n",
              "      <th>887</th>\n",
              "      <td>1</td>\n",
              "      <td>1</td>\n",
              "      <td>female</td>\n",
              "      <td>19.0</td>\n",
              "      <td>0</td>\n",
              "      <td>0</td>\n",
              "      <td>30.00</td>\n",
              "      <td>S</td>\n",
              "      <td>First</td>\n",
              "      <td>woman</td>\n",
              "      <td>False</td>\n",
              "      <td>B</td>\n",
              "      <td>Southampton</td>\n",
              "      <td>yes</td>\n",
              "      <td>True</td>\n",
              "    </tr>\n",
              "    <tr>\n",
              "      <th>888</th>\n",
              "      <td>0</td>\n",
              "      <td>3</td>\n",
              "      <td>female</td>\n",
              "      <td>NaN</td>\n",
              "      <td>1</td>\n",
              "      <td>2</td>\n",
              "      <td>23.45</td>\n",
              "      <td>S</td>\n",
              "      <td>Third</td>\n",
              "      <td>woman</td>\n",
              "      <td>False</td>\n",
              "      <td>NaN</td>\n",
              "      <td>Southampton</td>\n",
              "      <td>no</td>\n",
              "      <td>False</td>\n",
              "    </tr>\n",
              "    <tr>\n",
              "      <th>889</th>\n",
              "      <td>1</td>\n",
              "      <td>1</td>\n",
              "      <td>male</td>\n",
              "      <td>26.0</td>\n",
              "      <td>0</td>\n",
              "      <td>0</td>\n",
              "      <td>30.00</td>\n",
              "      <td>C</td>\n",
              "      <td>First</td>\n",
              "      <td>man</td>\n",
              "      <td>True</td>\n",
              "      <td>C</td>\n",
              "      <td>Cherbourg</td>\n",
              "      <td>yes</td>\n",
              "      <td>True</td>\n",
              "    </tr>\n",
              "    <tr>\n",
              "      <th>890</th>\n",
              "      <td>0</td>\n",
              "      <td>3</td>\n",
              "      <td>male</td>\n",
              "      <td>32.0</td>\n",
              "      <td>0</td>\n",
              "      <td>0</td>\n",
              "      <td>7.75</td>\n",
              "      <td>Q</td>\n",
              "      <td>Third</td>\n",
              "      <td>man</td>\n",
              "      <td>True</td>\n",
              "      <td>NaN</td>\n",
              "      <td>Queenstown</td>\n",
              "      <td>no</td>\n",
              "      <td>True</td>\n",
              "    </tr>\n",
              "  </tbody>\n",
              "</table>\n",
              "</div>"
            ],
            "text/plain": [
              "     survived  pclass     sex   age  ...  deck  embark_town  alive  alone\n",
              "886         0       2    male  27.0  ...   NaN  Southampton     no   True\n",
              "887         1       1  female  19.0  ...     B  Southampton    yes   True\n",
              "888         0       3  female   NaN  ...   NaN  Southampton     no  False\n",
              "889         1       1    male  26.0  ...     C    Cherbourg    yes   True\n",
              "890         0       3    male  32.0  ...   NaN   Queenstown     no   True\n",
              "\n",
              "[5 rows x 15 columns]"
            ]
          },
          "metadata": {
            "tags": []
          },
          "execution_count": 9
        }
      ]
    },
    {
      "cell_type": "markdown",
      "metadata": {
        "id": "8vDzZZuirUBD",
        "colab_type": "text"
      },
      "source": [
        "titanic 데이터 프레임 변수들(컬럼들)\n",
        "*   survived: 생존 여부(0: 사망, 1: 생존)\n",
        "*   pclass: 객실 등급\n",
        "*   sex: 성별\n",
        "*   age: 나이\n",
        "*   sibsp: 동승한 형제자매, 배우자 숫자\n",
        "*   parch: 동승한 부모, 자식 숫자\n",
        "*   fare: 티켓 가격(운임)\n",
        "*   embarked: 정박 항구"
      ]
    },
    {
      "cell_type": "code",
      "metadata": {
        "id": "DeOqCZA9tcEG",
        "colab_type": "code",
        "colab": {
          "base_uri": "https://localhost:8080/",
          "height": 266
        },
        "outputId": "f0f9f8f8-0495-4c07-b8fe-a2bc664c17a1"
      },
      "source": [
        "# 생존자, 사망자 숫자\n",
        "survived = titanic['survived']\n",
        "survived"
      ],
      "execution_count": 10,
      "outputs": [
        {
          "output_type": "execute_result",
          "data": {
            "text/plain": [
              "0      0\n",
              "1      1\n",
              "2      1\n",
              "3      1\n",
              "4      0\n",
              "      ..\n",
              "886    0\n",
              "887    1\n",
              "888    0\n",
              "889    1\n",
              "890    0\n",
              "Name: survived, Length: 891, dtype: int64"
            ]
          },
          "metadata": {
            "tags": []
          },
          "execution_count": 10
        }
      ]
    },
    {
      "cell_type": "code",
      "metadata": {
        "id": "RWISZPY8UHwE",
        "colab_type": "code",
        "colab": {
          "base_uri": "https://localhost:8080/",
          "height": 121
        },
        "outputId": "7f15b4ef-1892-4321-ffab-3c945f6cabcc"
      },
      "source": [
        "result = survived.value_counts()  #> pandas.Series 타입을 리턴.\n",
        "print(result)\n",
        "print('사망자 숫자:', result.loc[0])\n",
        "print('생존자 숫자:', result.loc[1])"
      ],
      "execution_count": 18,
      "outputs": [
        {
          "output_type": "stream",
          "text": [
            "0    549\n",
            "1    342\n",
            "Name: survived, dtype: int64\n",
            "사망자 숫자: 549\n",
            "생존자 숫자: 342\n"
          ],
          "name": "stdout"
        }
      ]
    },
    {
      "cell_type": "code",
      "metadata": {
        "id": "onhwffPeVwg1",
        "colab_type": "code",
        "colab": {
          "base_uri": "https://localhost:8080/",
          "height": 58
        },
        "outputId": "861d4e66-74c8-499c-f3f8-45fd02dfc945"
      },
      "source": [
        "# 데이터 프레임에서 컬럼 선택: df['column_name'], df.column_name\n",
        "# 데이터 프레임에서 row 선택: df[row 선택 조건식]\n",
        "alive = titanic[titanic['survived'] == 1]\n",
        "print('생존자 숫자:', len(alive))\n",
        "\n",
        "dead = titanic[titanic['survived'] == 0]\n",
        "print('사망자 숫자:', len(dead))"
      ],
      "execution_count": 21,
      "outputs": [
        {
          "output_type": "stream",
          "text": [
            "생존자 숫자: 342\n",
            "사망자 숫자: 549\n"
          ],
          "name": "stdout"
        }
      ]
    },
    {
      "cell_type": "code",
      "metadata": {
        "id": "Co3bqyMmtmet",
        "colab_type": "code",
        "colab": {}
      },
      "source": [
        "# 남성 생존자, 여성 생존자 숫자, 비율\n",
        "#   생존자들 중에서 남성/여성 숫자\n",
        "#   생존자들 중에서 남성/여성 비율"
      ],
      "execution_count": 11,
      "outputs": []
    },
    {
      "cell_type": "code",
      "metadata": {
        "id": "Zhic72XFXsgb",
        "colab_type": "code",
        "colab": {
          "base_uri": "https://localhost:8080/",
          "height": 79
        },
        "outputId": "41f986ff-a751-4c83-b7f4-334004665634"
      },
      "source": [
        "# 생존자들로 이루어진 부분집합\n",
        "alive = titanic[titanic['survived'] == 1]\n",
        "# 생존자 부분집합에서 성별(sex) 컬럼의 (범주들의) 빈도수\n",
        "s = alive['sex'].value_counts()\n",
        "s"
      ],
      "execution_count": 26,
      "outputs": [
        {
          "output_type": "execute_result",
          "data": {
            "text/plain": [
              "female    233\n",
              "male      109\n",
              "Name: sex, dtype: int64"
            ]
          },
          "metadata": {
            "tags": []
          },
          "execution_count": 26
        }
      ]
    },
    {
      "cell_type": "code",
      "metadata": {
        "id": "cQ8p7CICYg08",
        "colab_type": "code",
        "colab": {
          "base_uri": "https://localhost:8080/",
          "height": 58
        },
        "outputId": "bc987ad9-70fa-4a7c-f5b8-213a03d0cfc1"
      },
      "source": [
        "num_of_alive = len(alive)\n",
        "num_of_female_alive = s.loc['female']  # s.iloc[0]\n",
        "num_of_male_alive = s.loc['male']  # s.iloc[1]\n",
        "print('여성 생존 비율:', num_of_female_alive / num_of_alive)\n",
        "print('남성 생존 비율:', num_of_male_alive / num_of_alive)"
      ],
      "execution_count": 33,
      "outputs": [
        {
          "output_type": "stream",
          "text": [
            "여성 생존 비율: 0.6812865497076024\n",
            "남성 생존 비율: 0.31871345029239767\n"
          ],
          "name": "stdout"
        }
      ]
    },
    {
      "cell_type": "code",
      "metadata": {
        "id": "DO-JjsVk0p_H",
        "colab_type": "code",
        "colab": {
          "base_uri": "https://localhost:8080/",
          "height": 121
        },
        "outputId": "23f92c47-56d4-4812-90d8-63e279e33625"
      },
      "source": [
        "# 남성 승객 중 생존자 비율 = 남성 생존자 / 남성 승객수\n",
        "# 여성 승객 중 생존자 비율 = 여성 생존자 / 여성 승객수\n",
        "\n",
        "# 남/녀 승객 숫자\n",
        "s = titanic['sex'].value_counts()\n",
        "print(s)\n",
        "\n",
        "num_of_male = s.loc['male']\n",
        "num_of_female = s.loc['female']\n",
        "\n",
        "print('여성 생존 비율:', num_of_female_alive / num_of_female)\n",
        "print('남성 생존 비율:', num_of_male_alive / num_of_male)"
      ],
      "execution_count": 37,
      "outputs": [
        {
          "output_type": "stream",
          "text": [
            "male      577\n",
            "female    314\n",
            "Name: sex, dtype: int64\n",
            "여성 생존 비율: 0.7420382165605095\n",
            "남성 생존 비율: 0.18890814558058924\n"
          ],
          "name": "stdout"
        }
      ]
    },
    {
      "cell_type": "code",
      "metadata": {
        "id": "ebEyeavtgA9Y",
        "colab_type": "code",
        "colab": {
          "base_uri": "https://localhost:8080/",
          "height": 38
        },
        "outputId": "fe142eed-6c2a-4be1-b52d-25e72e38b9c9"
      },
      "source": [
        "# 남성 승객 숫자: 남성 승객들 부분집합의 row 개수\n",
        "num_of_male = len(titanic[titanic['sex'] == 'male'])\n",
        "\n",
        "# 남성 생존자 숫자: 남성 생존자들 부분집합의 row 개수\n",
        "num_of_male_alive = len(titanic[(titanic['sex'] == 'male') & \n",
        "                                (titanic['survived'] == 1)])\n",
        "\n",
        "print('남성 생존 비율:', num_of_male_alive / num_of_male)"
      ],
      "execution_count": 40,
      "outputs": [
        {
          "output_type": "stream",
          "text": [
            "남성 생존 비율: 0.18890814558058924\n"
          ],
          "name": "stdout"
        }
      ]
    },
    {
      "cell_type": "code",
      "metadata": {
        "id": "1DcS0x9Vtqzx",
        "colab_type": "code",
        "colab": {
          "base_uri": "https://localhost:8080/",
          "height": 225
        },
        "outputId": "fada90c4-e0b0-448a-cb84-d5d7b222a6b5"
      },
      "source": [
        "# 객실 등급(pclass)별 생존자 숫자, 비율\n",
        "#   생존자들 중에서 각 객실 등급별 승객 숫자\n",
        "#   생존자들 중에서 각 객실 등급별 승객 비율\n",
        "\n",
        "# 1) 생존자 부분집합\n",
        "subset = titanic[titanic['survived'] == 1]\n",
        "# subset\n",
        "\n",
        "# 2) 생존자 부분집합에서 객실 등급 value_counts()\n",
        "s = subset['pclass'].value_counts()\n",
        "print(s)\n",
        "\n",
        "print('1등급 객실 생존자 숫자:', s.loc[1])  # s.iloc[0]\n",
        "print('2등급 객실 생존자 숫자:', s.loc[2])  # s.iloc[2]\n",
        "print('3등급 객실 생존자 숫자:', s.loc[3])  # s.iloc[1]\n",
        "\n",
        "# 3) 생존자 부부집합에서 각 객실 등급의 비율\n",
        "print('pclass 1:', s.loc[1] / len(subset))\n",
        "print('pclass 2:', s.loc[2] / len(subset))\n",
        "print('pclass 3:', s.loc[3] / len(subset))"
      ],
      "execution_count": 49,
      "outputs": [
        {
          "output_type": "stream",
          "text": [
            "1    136\n",
            "3    119\n",
            "2     87\n",
            "Name: pclass, dtype: int64\n",
            "1등급 객실 생존자 숫자: 136\n",
            "2등급 객실 생존자 숫자: 87\n",
            "3등급 객실 생존자 숫자: 119\n",
            "pclass 1: 0.39766081871345027\n",
            "pclass 2: 0.2543859649122807\n",
            "pclass 3: 0.347953216374269\n"
          ],
          "name": "stdout"
        }
      ]
    },
    {
      "cell_type": "code",
      "metadata": {
        "id": "6t8Utzc8lGKR",
        "colab_type": "code",
        "colab": {
          "base_uri": "https://localhost:8080/",
          "height": 38
        },
        "outputId": "794e41a4-f1cd-49d2-8830-d00495fafc73"
      },
      "source": [
        "# 1등급 객실의 생존자 숫자\n",
        "len(titanic[(titanic['survived'] == 1) & (titanic['pclass'] == 1)])"
      ],
      "execution_count": 50,
      "outputs": [
        {
          "output_type": "execute_result",
          "data": {
            "text/plain": [
              "136"
            ]
          },
          "metadata": {
            "tags": []
          },
          "execution_count": 50
        }
      ]
    },
    {
      "cell_type": "code",
      "metadata": {
        "id": "YxlV4zyP0wXt",
        "colab_type": "code",
        "colab": {
          "base_uri": "https://localhost:8080/",
          "height": 79
        },
        "outputId": "9e7e8b36-ab41-409b-873c-7b1eeb5c5c8d"
      },
      "source": [
        "# 1등급 객실 승객 중 생존자 비율\n",
        "num_of_pclass1 = len(titanic[titanic['pclass'] == 1])  # 1등급 객실 승객 수\n",
        "num_of_pclass1_alive = len(titanic[(titanic['pclass'] == 1) & \n",
        "                                   (titanic['survived'] == 1)])  # 1등급 객실 생존자 수\n",
        "print('1등급 객실 생존 비율:', num_of_pclass1_alive / num_of_pclass1)\n",
        "\n",
        "# 2등급 객실 승객 중 생존자 비율\n",
        "num_of_pclass2 = len(titanic[titanic['pclass'] == 2])  # 2등급 객실 승객 수\n",
        "num_of_pclass2_alive = len(titanic[(titanic['pclass'] == 2) & \n",
        "                                   (titanic['survived'] == 1)])  # 2등급 객실 생존자 수\n",
        "print('2등급 객실 생존 비율:', num_of_pclass2_alive / num_of_pclass2)\n",
        "\n",
        "# 3등급 객실 승객 중 생존자 비율\n",
        "num_of_pclass3 = len(titanic[titanic['pclass'] == 3])  # 3등급 객실 승객 수\n",
        "num_of_pclass3_alive = len(titanic[(titanic['pclass'] == 3) & \n",
        "                                   (titanic['survived'] == 1)])  # 3등급 객실 생존자 수\n",
        "print('3등급 객실 생존 비율:', num_of_pclass3_alive / num_of_pclass3)"
      ],
      "execution_count": 57,
      "outputs": [
        {
          "output_type": "stream",
          "text": [
            "1등급 객실 생존 비율: 0.6296296296296297\n",
            "2등급 객실 생존 비율: 0.47282608695652173\n",
            "3등급 객실 생존 비율: 0.24236252545824846\n"
          ],
          "name": "stdout"
        }
      ]
    },
    {
      "cell_type": "code",
      "metadata": {
        "id": "ixpBWnwTrPCQ",
        "colab_type": "code",
        "colab": {
          "base_uri": "https://localhost:8080/",
          "height": 100
        },
        "outputId": "9a08fc1d-e737-487a-b806-c1fd7ddb6fc6"
      },
      "source": [
        "# 각 객실 등급별 승객수\n",
        "num_by_pclass = titanic['pclass'].value_counts()\n",
        "num_by_pclass"
      ],
      "execution_count": 58,
      "outputs": [
        {
          "output_type": "execute_result",
          "data": {
            "text/plain": [
              "3    491\n",
              "1    216\n",
              "2    184\n",
              "Name: pclass, dtype: int64"
            ]
          },
          "metadata": {
            "tags": []
          },
          "execution_count": 58
        }
      ]
    },
    {
      "cell_type": "code",
      "metadata": {
        "id": "earJB6a3rnGs",
        "colab_type": "code",
        "colab": {
          "base_uri": "https://localhost:8080/",
          "height": 100
        },
        "outputId": "0c84f752-9ec5-4ef7-d387-8e712b554fce"
      },
      "source": [
        "# 각 객실 등급별 생존자 수 - 생존자 부분집합에서 객실별(pclass 컬럼의) value_counts\n",
        "alive_by_pclass = titanic[titanic['survived'] == 1]['pclass'].value_counts()\n",
        "alive_by_pclass"
      ],
      "execution_count": 59,
      "outputs": [
        {
          "output_type": "execute_result",
          "data": {
            "text/plain": [
              "1    136\n",
              "3    119\n",
              "2     87\n",
              "Name: pclass, dtype: int64"
            ]
          },
          "metadata": {
            "tags": []
          },
          "execution_count": 59
        }
      ]
    },
    {
      "cell_type": "code",
      "metadata": {
        "id": "1u7o1zSGs4sl",
        "colab_type": "code",
        "colab": {
          "base_uri": "https://localhost:8080/",
          "height": 79
        },
        "outputId": "a26185c6-df93-4d77-cca2-b83113f759b3"
      },
      "source": [
        "# 각 객실 등급에서 생존자 비율\n",
        "for pclass in range(1, 4):\n",
        "    print(f'{pclass}등급 객실 생존 비율: {alive_by_pclass.loc[pclass] / num_by_pclass.loc[pclass]}')"
      ],
      "execution_count": 60,
      "outputs": [
        {
          "output_type": "stream",
          "text": [
            "1등급 객실 생존 비율: 0.6296296296296297\n",
            "2등급 객실 생존 비율: 0.47282608695652173\n",
            "3등급 객실 생존 비율: 0.24236252545824846\n"
          ],
          "name": "stdout"
        }
      ]
    },
    {
      "cell_type": "code",
      "metadata": {
        "id": "NiOz4WIwuDap",
        "colab_type": "code",
        "colab": {
          "base_uri": "https://localhost:8080/",
          "height": 79
        },
        "outputId": "90038bf9-8785-4170-f758-fe6f2b0c5c09"
      },
      "source": [
        "# 10대 생존자 숫자, 비율\n",
        "#   생존자들 중에서 10대의 숫자\n",
        "alive_teen = len(titanic[(titanic['survived'] == 1) & \n",
        "                         (titanic['age'] >= 10) &\n",
        "                         (titanic['age'] < 20)])\n",
        "print(alive_teen)\n",
        "\n",
        "#   10대 승객들(생존 or 사망) 중에서 생존자의 비율\n",
        "# 10대 승객 수\n",
        "teen = len(titanic[(titanic['age'] >= 10) & (titanic['age'] < 20)])\n",
        "print(teen)\n",
        "\n",
        "print('10대 생존율:', alive_teen / teen)"
      ],
      "execution_count": 64,
      "outputs": [
        {
          "output_type": "stream",
          "text": [
            "41\n",
            "102\n",
            "10대 생존율: 0.4019607843137255\n"
          ],
          "name": "stdout"
        }
      ]
    },
    {
      "cell_type": "code",
      "metadata": {
        "id": "sMML2V4swDzE",
        "colab_type": "code",
        "colab": {
          "base_uri": "https://localhost:8080/",
          "height": 79
        },
        "outputId": "586f6741-acdd-428d-e516-cc41e4a5162f"
      },
      "source": [
        "# 10세 미만의 승객수\n",
        "child = len(titanic[titanic['age'] < 10])\n",
        "print(child)\n",
        "\n",
        "# 10세 미만의 생존자 수\n",
        "child_alive = len(titanic[(titanic['age'] < 10) & (titanic['survived'] == 1)])\n",
        "print(child_alive)\n",
        "\n",
        "# 비율\n",
        "print('어린이 생존율:', child_alive / child)"
      ],
      "execution_count": 67,
      "outputs": [
        {
          "output_type": "stream",
          "text": [
            "62\n",
            "38\n",
            "어린이 생존율: 0.6129032258064516\n"
          ],
          "name": "stdout"
        }
      ]
    }
  ]
}