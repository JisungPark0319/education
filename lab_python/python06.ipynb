{
  "nbformat": 4,
  "nbformat_minor": 0,
  "metadata": {
    "colab": {
      "name": "python06.ipynb",
      "provenance": [],
      "collapsed_sections": [],
      "authorship_tag": "ABX9TyPfWW4iFMvU6VntSyTcTCHr",
      "include_colab_link": true
    },
    "kernelspec": {
      "name": "python3",
      "display_name": "Python 3"
    }
  },
  "cells": [
    {
      "cell_type": "markdown",
      "metadata": {
        "id": "view-in-github",
        "colab_type": "text"
      },
      "source": [
        "<a href=\"https://colab.research.google.com/github/JakeOh/202007_itw_bd18/blob/master/lab_python/python06.ipynb\" target=\"_parent\"><img src=\"https://colab.research.google.com/assets/colab-badge.svg\" alt=\"Open In Colab\"/></a>"
      ]
    },
    {
      "cell_type": "markdown",
      "metadata": {
        "id": "J9EhB5Sz5x11",
        "colab_type": "text"
      },
      "source": [
        "**조건문(Conditional Statement)**\n",
        "\n",
        "\n",
        "```\n",
        "if 조건식:\n",
        "    조건식이 참(True)일 때 실행할 블록(문장들)\n",
        "else:\n",
        "    조건식이 거짓(False)일 때 실행할 블록(문장들)\n",
        "```\n",
        "\n",
        "if-else 주의할 점:\n",
        "*   if, else 블록의 문장들은 들여쓰기(indentation)가 되어야 함."
      ]
    },
    {
      "cell_type": "code",
      "metadata": {
        "id": "igTBe0tY2DIr",
        "colab_type": "code",
        "colab": {
          "base_uri": "https://localhost:8080/",
          "height": 54
        },
        "outputId": "cb97db0e-8a5e-47ab-eab2-c31300aa5f22"
      },
      "source": [
        "# 정수를 입력받아서 짝수/홀수 출력\n",
        "number = int(input('정수 입력>>> '))\n",
        "\n",
        "if number % 2 == 0:  # 2로 나눈 나머지가 0이면,\n",
        "    print('짝수')    # 짝수 출력\n",
        "else:                # 그렇지 않다면(2로 나눈 나머지가 0이 아니라면),\n",
        "    print('홀수')    # 홀수 출력."
      ],
      "execution_count": 1,
      "outputs": [
        {
          "output_type": "stream",
          "text": [
            "정수 입력>>> 1\n",
            "홀수\n"
          ],
          "name": "stdout"
        }
      ]
    },
    {
      "cell_type": "markdown",
      "metadata": {
        "id": "15mhnV3P93yS",
        "colab_type": "text"
      },
      "source": [
        "else가 없는 조건문\n",
        "\n",
        "\n",
        "```\n",
        "if 조건식:\n",
        "    조건식이 참일 때 실행할 문장들\n",
        "```\n",
        "\n"
      ]
    },
    {
      "cell_type": "code",
      "metadata": {
        "id": "gGyS0bCJ-B5p",
        "colab_type": "code",
        "colab": {
          "base_uri": "https://localhost:8080/",
          "height": 35
        },
        "outputId": "6b85d677-6fb3-4adf-a401-b0317bc48920"
      },
      "source": [
        "number = -10\n",
        "if number > 0:\n",
        "    print('양수')\n",
        "print('=== end ===')"
      ],
      "execution_count": 2,
      "outputs": [
        {
          "output_type": "stream",
          "text": [
            "=== end ===\n"
          ],
          "name": "stdout"
        }
      ]
    },
    {
      "cell_type": "code",
      "metadata": {
        "id": "uRz3NPRG_ITz",
        "colab_type": "code",
        "colab": {}
      },
      "source": [
        "number = -10\n",
        "if number > 0:\n",
        "    print('양수')\n",
        "    print('=== end ===')"
      ],
      "execution_count": 3,
      "outputs": []
    },
    {
      "cell_type": "markdown",
      "metadata": {
        "id": "_nxgViOeATUy",
        "colab_type": "text"
      },
      "source": [
        "**if-elif-else 구문**\n",
        "\n",
        "```\n",
        "if 조건식1:\n",
        "    조건식1이 참일 때 실행할 문장들\n",
        "elif 조건식2:\n",
        "    조건식2이 참일 때 실행할 문장들\n",
        "...\n",
        "else:\n",
        "    위의 모든 조건이 거짓일 떄 실행할 문장들\n",
        "```\n",
        "\n"
      ]
    },
    {
      "cell_type": "code",
      "metadata": {
        "id": "cmxtsaC5BNGw",
        "colab_type": "code",
        "colab": {
          "base_uri": "https://localhost:8080/",
          "height": 35
        },
        "outputId": "c385b7c6-cc6e-4a59-9669-bb17ba4cba76"
      },
      "source": [
        "number = -10\n",
        "\n",
        "if number > 0:  # number가 0보다 크면,\n",
        "    print('positive')\n",
        "elif number < 0:  # number가 0보다 작다면,\n",
        "    print('negative')\n",
        "else:\n",
        "    print('zero')"
      ],
      "execution_count": 4,
      "outputs": [
        {
          "output_type": "stream",
          "text": [
            "negative\n"
          ],
          "name": "stdout"
        }
      ]
    },
    {
      "cell_type": "code",
      "metadata": {
        "id": "Y5Kum_DPCciR",
        "colab_type": "code",
        "colab": {
          "base_uri": "https://localhost:8080/",
          "height": 109
        },
        "outputId": "45ffeba6-f12f-4bef-dce8-37fe0523f4bb"
      },
      "source": [
        "# 국어 점수 입력, 변수에 저장\n",
        "korean = int(input('국어 점수 입력>>> '))\n",
        "\n",
        "# 영어 점수 입력, 변수에 저장\n",
        "english = int(input('영어 점수 입력>>> '))\n",
        "\n",
        "# 수학 점수 입력, 변수에 저장\n",
        "math = int(input('수학 점수 입력>>> '))\n",
        "\n",
        "# 세 과목의 평균을 계산\n",
        "mean = (korean + english + math) / 3\n",
        "print(f'평균 = {mean}')\n",
        "\n",
        "# 평균이 90점 이상이면, A\n",
        "# 평균이 80점 이상, 90점 미만이면, B\n",
        "# 평균이 70점 이상, 80점 미만이면, C\n",
        "# 평균이 70점 미만이면, F\n",
        "if mean >= 90:\n",
        "    print('A')\n",
        "elif mean >= 80:\n",
        "    print('B')\n",
        "elif mean >= 70:\n",
        "    print('C')\n",
        "else:\n",
        "    print('F')\n"
      ],
      "execution_count": 9,
      "outputs": [
        {
          "output_type": "stream",
          "text": [
            "국어 점수 입력>>> 88\n",
            "영어 점수 입력>>> 80\n",
            "수학 점수 입력>>> 83\n",
            "평균 = 83.66666666666667\n",
            "B\n"
          ],
          "name": "stdout"
        }
      ]
    }
  ]
}