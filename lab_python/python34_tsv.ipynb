{
  "nbformat": 4,
  "nbformat_minor": 0,
  "metadata": {
    "colab": {
      "name": "python34_tsv.ipynb",
      "provenance": [],
      "collapsed_sections": [],
      "authorship_tag": "ABX9TyOWG4oZjfnTaPRffk7igmPl",
      "include_colab_link": true
    },
    "kernelspec": {
      "name": "python3",
      "display_name": "Python 3"
    }
  },
  "cells": [
    {
      "cell_type": "markdown",
      "metadata": {
        "id": "view-in-github",
        "colab_type": "text"
      },
      "source": [
        "<a href=\"https://colab.research.google.com/github/JakeOh/202007_itw_bd18/blob/master/lab_python/python34_tsv.ipynb\" target=\"_parent\"><img src=\"https://colab.research.google.com/assets/colab-badge.svg\" alt=\"Open In Colab\"/></a>"
      ]
    },
    {
      "cell_type": "code",
      "metadata": {
        "id": "v5J2ARRYxOnI",
        "colab_type": "code",
        "colab": {
          "base_uri": "https://localhost:8080/",
          "height": 100
        },
        "outputId": "0bebb42b-5525-4380-8a90-57a787b7e083"
      },
      "source": [
        "texts = '''2020-09-15\\tAAA\\t1500\n",
        "2020-09-15\\tBBB\\t2000\n",
        "2020-09-16\\tAAA\\t1800\n",
        "2020-09-16\\tBBB\\t1600'''\n",
        "\n",
        "print(texts)"
      ],
      "execution_count": 6,
      "outputs": [
        {
          "output_type": "stream",
          "text": [
            "2020-09-15\tAAA\t1500\n",
            "2020-09-15\tBBB\t2000\n",
            "2020-09-16\tAAA\t1800\n",
            "2020-09-16\tBBB\t1600\n"
          ],
          "name": "stdout"
        }
      ]
    },
    {
      "cell_type": "code",
      "metadata": {
        "id": "IO18EyKNy9jJ",
        "colab_type": "code",
        "colab": {}
      },
      "source": [
        "with open('prices.tsv', mode='w') as f:\n",
        "    f.write(texts)"
      ],
      "execution_count": 9,
      "outputs": []
    },
    {
      "cell_type": "code",
      "metadata": {
        "id": "ZqFtUu5b0e0P",
        "colab_type": "code",
        "colab": {
          "base_uri": "https://localhost:8080/",
          "height": 38
        },
        "outputId": "8a4c5d85-1a8d-4b00-9f29-fb744fabaf0c"
      },
      "source": [
        "# prices.tsv 파일을 open해서, 한 줄씩 읽으면서,\n",
        "# 각 라인을 탭('\\t')으로 split한 결과를 리스트(prices)에 저장.\n",
        "# 2차원 리스트 prices를 출력.\n",
        "\n",
        "with open('prices.tsv', mode='r') as f:\n",
        "    prices = []\n",
        "    for line in f:\n",
        "        # print(line.strip())\n",
        "        row = line.strip().split(sep='\\t')\n",
        "        # print(row)\n",
        "        prices.append(row)\n",
        "\n",
        "    # prices = [line.strip().split(sep='\\t') for line in f]\n",
        "\n",
        "print(prices)"
      ],
      "execution_count": 14,
      "outputs": [
        {
          "output_type": "stream",
          "text": [
            "[['2020-09-15', 'AAA', '1500'], ['2020-09-15', 'BBB', '2000'], ['2020-09-16', 'AAA', '1800'], ['2020-09-16', 'BBB', '1600']]\n"
          ],
          "name": "stdout"
        }
      ]
    },
    {
      "cell_type": "code",
      "metadata": {
        "id": "OsreHAKtRwxh",
        "colab_type": "code",
        "colab": {
          "base_uri": "https://localhost:8080/",
          "height": 38
        },
        "outputId": "5b6c5fcf-987d-4d50-8c5e-7da40af08140"
      },
      "source": [
        "# 가격 데이터를 int 타입으로 변환.\n",
        "for i, x in enumerate(prices):\n",
        "    # print(i, x[2])\n",
        "    prices[i][2] = int(x[2])\n",
        "\n",
        "print(prices)"
      ],
      "execution_count": 18,
      "outputs": [
        {
          "output_type": "stream",
          "text": [
            "[['2020-09-15', 'AAA', 1500], ['2020-09-15', 'BBB', 2000], ['2020-09-16', 'AAA', 1800], ['2020-09-16', 'BBB', 1600]]\n"
          ],
          "name": "stdout"
        }
      ]
    },
    {
      "cell_type": "code",
      "metadata": {
        "id": "4NDABtcu08hP",
        "colab_type": "code",
        "colab": {
          "base_uri": "https://localhost:8080/",
          "height": 38
        },
        "outputId": "d05055be-1a5f-4901-ff65-b144193af741"
      },
      "source": [
        "class Stock:\n",
        "\n",
        "    def __init__(self, date, code, price):\n",
        "        \"\"\"주식 거래날짜, 종목코드, 가격을 초기화\"\"\"\n",
        "        self.date = date\n",
        "        self.code = code\n",
        "        self.price = price\n",
        "\n",
        "    def __repr__(self):\n",
        "        \"\"\"Stock 객체를 print하기 위한 문자열을 리턴\"\"\"\n",
        "        return f'Stock(date: {self.date}, code: {self.code}, price: {self.price})'\n",
        "\n",
        "\n",
        "s = Stock('2020-09-16', 'AAPL', 1200)\n",
        "print(s)"
      ],
      "execution_count": 21,
      "outputs": [
        {
          "output_type": "stream",
          "text": [
            "Stock(date: 2020-09-16, code: AAPL, price: 1200)\n"
          ],
          "name": "stdout"
        }
      ]
    },
    {
      "cell_type": "code",
      "metadata": {
        "id": "N7D0kUbo1sd5",
        "colab_type": "code",
        "colab": {
          "base_uri": "https://localhost:8080/",
          "height": 58
        },
        "outputId": "eec682a9-4b3c-4814-a97c-5c535ccdb25a"
      },
      "source": [
        "# prices.tsv 파일을 open해서, 한 줄씩 읽으면서,\n",
        "# Stock 객체를 생성해서 리스트(prices2)에 저장.\n",
        "# prices2 리스트 출력.\n",
        "\n",
        "with open('prices.tsv', mode='r') as f:\n",
        "    prices2 = []\n",
        "    for line in f:\n",
        "        row = line.strip().split(sep='\\t')\n",
        "        # Stock 클래스의 인스턴스를 생성.\n",
        "        stock = Stock(date=row[0], code=row[1], price=int(row[2]))\n",
        "        # print(stock)\n",
        "        prices2.append(stock)  # Stock 인스턴스를 리스트에 추가.\n",
        "\n",
        "print(prices2)"
      ],
      "execution_count": 23,
      "outputs": [
        {
          "output_type": "stream",
          "text": [
            "[Stock(date: 2020-09-15, code: AAA, price: 1500), Stock(date: 2020-09-15, code: BBB, price: 2000), Stock(date: 2020-09-16, code: AAA, price: 1800), Stock(date: 2020-09-16, code: BBB, price: 1600)]\n"
          ],
          "name": "stdout"
        }
      ]
    },
    {
      "cell_type": "code",
      "metadata": {
        "id": "pPOvrEROaR-t",
        "colab_type": "code",
        "colab": {
          "base_uri": "https://localhost:8080/",
          "height": 38
        },
        "outputId": "817475b4-3207-4a74-c0d8-6abde653eb36"
      },
      "source": [
        "# lambda param1, param2, ...: return_value (expression)\n",
        "double = lambda x: 2 * x\n",
        "double(5)"
      ],
      "execution_count": 24,
      "outputs": [
        {
          "output_type": "execute_result",
          "data": {
            "text/plain": [
              "10"
            ]
          },
          "metadata": {
            "tags": []
          },
          "execution_count": 24
        }
      ]
    },
    {
      "cell_type": "code",
      "metadata": {
        "id": "PtldA5ERZsqm",
        "colab_type": "code",
        "colab": {
          "base_uri": "https://localhost:8080/",
          "height": 58
        },
        "outputId": "9cf6acce-b868-404b-e805-b588e6bc1c4a"
      },
      "source": [
        "# prices2 리스트 정렬(sort)\n",
        "prices2.sort(key=lambda x: x.price)  # 가격의 오름차순 정렬\n",
        "print(prices2)\n",
        "# l.sort(key=정렬기준) 메서드를 호출하면, 리스트 l의 순서가 바낌. None을 리턴함!\n",
        "# sorted(l, key=정렬기준) 함수를 호출하면, 정렬된 새로운 리스트를 리턴함!"
      ],
      "execution_count": 25,
      "outputs": [
        {
          "output_type": "stream",
          "text": [
            "[Stock(date: 2020-09-15, code: AAA, price: 1500), Stock(date: 2020-09-16, code: BBB, price: 1600), Stock(date: 2020-09-16, code: AAA, price: 1800), Stock(date: 2020-09-15, code: BBB, price: 2000)]\n"
          ],
          "name": "stdout"
        }
      ]
    },
    {
      "cell_type": "code",
      "metadata": {
        "id": "nrR__UgedZ7f",
        "colab_type": "code",
        "colab": {
          "base_uri": "https://localhost:8080/",
          "height": 58
        },
        "outputId": "5dcb8436-0f6f-4f72-de5b-98717d925799"
      },
      "source": [
        "# prices2를 code의 내림차순 정렬.\n",
        "prices2.sort(key=lambda x: x.code, reverse=True)\n",
        "print(prices2)"
      ],
      "execution_count": 27,
      "outputs": [
        {
          "output_type": "stream",
          "text": [
            "[Stock(date: 2020-09-16, code: BBB, price: 1600), Stock(date: 2020-09-15, code: BBB, price: 2000), Stock(date: 2020-09-16, code: AAA, price: 1800), Stock(date: 2020-09-15, code: AAA, price: 1500)]\n"
          ],
          "name": "stdout"
        }
      ]
    }
  ]
}