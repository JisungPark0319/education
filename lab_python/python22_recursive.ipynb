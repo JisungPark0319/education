{
  "nbformat": 4,
  "nbformat_minor": 0,
  "metadata": {
    "colab": {
      "name": "python22_recursive.ipynb",
      "provenance": [],
      "collapsed_sections": [],
      "authorship_tag": "ABX9TyMoo+NWW5nc6TN4sPeYHMth",
      "include_colab_link": true
    },
    "kernelspec": {
      "name": "python3",
      "display_name": "Python 3"
    }
  },
  "cells": [
    {
      "cell_type": "markdown",
      "metadata": {
        "id": "view-in-github",
        "colab_type": "text"
      },
      "source": [
        "<a href=\"https://colab.research.google.com/github/JakeOh/202007_itw_bd18/blob/master/lab_python/python22_recursive.ipynb\" target=\"_parent\"><img src=\"https://colab.research.google.com/assets/colab-badge.svg\" alt=\"Open In Colab\"/></a>"
      ]
    },
    {
      "cell_type": "code",
      "metadata": {
        "id": "aq4yuFSj0_sx",
        "colab_type": "code",
        "colab": {}
      },
      "source": [
        "def factorial(n):\n",
        "    \"\"\"n!(n factorial)을 리턴하는 함수.\n",
        "    0! = 1\n",
        "    n! = 1 x 2 x 3 x ... x (n-1) x n, n >= 1\n",
        "\n",
        "    >>> factorial(5)\n",
        "    120\n",
        "    \"\"\"\n",
        "    result = None\n",
        "    if n == 0:\n",
        "        result = 1  # 0! = 1\n",
        "    elif n > 0:\n",
        "        result = 1\n",
        "        for x in range(1, n + 1):\n",
        "            result *= x\n",
        "\n",
        "    return result"
      ],
      "execution_count": 1,
      "outputs": []
    },
    {
      "cell_type": "code",
      "metadata": {
        "id": "XUSuGbVbVK1o",
        "colab_type": "code",
        "colab": {
          "base_uri": "https://localhost:8080/",
          "height": 38
        },
        "outputId": "2d2401d9-cc86-4810-febd-a888071b3f3d"
      },
      "source": [
        "factorial(0)  # positional argument"
      ],
      "execution_count": 2,
      "outputs": [
        {
          "output_type": "execute_result",
          "data": {
            "text/plain": [
              "1"
            ]
          },
          "metadata": {
            "tags": []
          },
          "execution_count": 2
        }
      ]
    },
    {
      "cell_type": "code",
      "metadata": {
        "id": "42nQ4_H9Vj4m",
        "colab_type": "code",
        "colab": {
          "base_uri": "https://localhost:8080/",
          "height": 38
        },
        "outputId": "379a702b-46c8-4885-8b32-99ac7136b169"
      },
      "source": [
        "factorial(n=1)  # keyword argument"
      ],
      "execution_count": 8,
      "outputs": [
        {
          "output_type": "execute_result",
          "data": {
            "text/plain": [
              "1"
            ]
          },
          "metadata": {
            "tags": []
          },
          "execution_count": 8
        }
      ]
    },
    {
      "cell_type": "code",
      "metadata": {
        "id": "M66qdkvIXMow",
        "colab_type": "code",
        "colab": {}
      },
      "source": [
        "factorial(-1)"
      ],
      "execution_count": 9,
      "outputs": []
    },
    {
      "cell_type": "code",
      "metadata": {
        "id": "oepzWs0lXkI2",
        "colab_type": "code",
        "colab": {}
      },
      "source": [
        "# 재귀 함수(recursive function): 함수 내부에서 자기 자신을 다시 호출하는 것.\n",
        "# n! = 1 * 2 * 3 * ... * (n - 1) * n = (n - 1)! * n\n",
        "\n",
        "def factorial_recursive(n: int) -> int:\n",
        "    result = None\n",
        "    if n == 0:\n",
        "        result = 1  # 0! = 1\n",
        "    elif n > 0:\n",
        "        result = factorial_recursive(n - 1) * n  # n! = (n - 1)! * n\n",
        "    \n",
        "    return result"
      ],
      "execution_count": 10,
      "outputs": []
    },
    {
      "cell_type": "code",
      "metadata": {
        "id": "NDKpB2G9Y5IJ",
        "colab_type": "code",
        "colab": {
          "base_uri": "https://localhost:8080/",
          "height": 142
        },
        "outputId": "b31a762a-df82-4712-c8c5-c359e76ae191"
      },
      "source": [
        "for x in range(0, 6):\n",
        "    print(f'{x}! = {factorial_recursive(x)}')"
      ],
      "execution_count": 12,
      "outputs": [
        {
          "output_type": "stream",
          "text": [
            "0! = 1\n",
            "1! = 1\n",
            "2! = 2\n",
            "3! = 6\n",
            "4! = 24\n",
            "5! = 120\n"
          ],
          "name": "stdout"
        }
      ]
    },
    {
      "cell_type": "code",
      "metadata": {
        "id": "gaC_vgk32iI7",
        "colab_type": "code",
        "colab": {}
      },
      "source": [
        "def sum_to(n):\n",
        "    \"\"\"1부터 n까지 정수들의 합을 리턴하는 함수.\n",
        "    s(n) = 1 + 2 + 3 + ... + (n-1) + n\n",
        "\n",
        "    >>> sum_to(10)\n",
        "    55\n",
        "    \"\"\"\n",
        "    result = None\n",
        "    if n == 0:\n",
        "        result = 0\n",
        "    elif n > 0:\n",
        "        result = 0\n",
        "        for x in range(1, n + 1):\n",
        "            result += x\n",
        "    \n",
        "    return result"
      ],
      "execution_count": 13,
      "outputs": []
    },
    {
      "cell_type": "code",
      "metadata": {
        "id": "ol85uRuJapxV",
        "colab_type": "code",
        "colab": {
          "base_uri": "https://localhost:8080/",
          "height": 246
        },
        "outputId": "c8801680-1bb6-46f9-e5ca-fc4fe1d86f3f"
      },
      "source": [
        "for x in range(0, 11):\n",
        "    print(f'sum_to({x}) = {sum_to(x)}')"
      ],
      "execution_count": 14,
      "outputs": [
        {
          "output_type": "stream",
          "text": [
            "sum_to(0) = 0\n",
            "sum_to(1) = 1\n",
            "sum_to(2) = 3\n",
            "sum_to(3) = 6\n",
            "sum_to(4) = 10\n",
            "sum_to(5) = 15\n",
            "sum_to(6) = 21\n",
            "sum_to(7) = 28\n",
            "sum_to(8) = 36\n",
            "sum_to(9) = 45\n",
            "sum_to(10) = 55\n"
          ],
          "name": "stdout"
        }
      ]
    },
    {
      "cell_type": "code",
      "metadata": {
        "id": "1_QDq_OcbKQl",
        "colab_type": "code",
        "colab": {}
      },
      "source": [
        "def recursive_sum(n: int) -> int:\n",
        "    \"\"\"s(n) = 1 + 2 + 3 + ... + (n - 1) + n = s(n - 1) + n\"\"\"\n",
        "    result = None\n",
        "    if n == 0:\n",
        "        result = 0\n",
        "    elif n > 0:\n",
        "        result = recursive_sum(n - 1) + n\n",
        "\n",
        "    return result"
      ],
      "execution_count": 15,
      "outputs": []
    },
    {
      "cell_type": "code",
      "metadata": {
        "id": "y1V8Wt83cSOJ",
        "colab_type": "code",
        "colab": {
          "base_uri": "https://localhost:8080/",
          "height": 246
        },
        "outputId": "4338f28d-ff37-425f-a12d-2c681cbeeb25"
      },
      "source": [
        "for x in range(0, 11):\n",
        "    print(f'sum({x}) = {recursive_sum(x)}')"
      ],
      "execution_count": 16,
      "outputs": [
        {
          "output_type": "stream",
          "text": [
            "sum(0) = 0\n",
            "sum(1) = 1\n",
            "sum(2) = 3\n",
            "sum(3) = 6\n",
            "sum(4) = 10\n",
            "sum(5) = 15\n",
            "sum(6) = 21\n",
            "sum(7) = 28\n",
            "sum(8) = 36\n",
            "sum(9) = 45\n",
            "sum(10) = 55\n"
          ],
          "name": "stdout"
        }
      ]
    },
    {
      "cell_type": "code",
      "metadata": {
        "id": "BMAWQwBkhBCF",
        "colab_type": "code",
        "colab": {}
      },
      "source": [
        "def sum_to2(n):\n",
        "    return n * (n + 1) / 2"
      ],
      "execution_count": 17,
      "outputs": []
    },
    {
      "cell_type": "code",
      "metadata": {
        "id": "mv4ZZ2N9hGZ8",
        "colab_type": "code",
        "colab": {
          "base_uri": "https://localhost:8080/",
          "height": 246
        },
        "outputId": "6fce9d18-ee7e-467a-fc3a-8302f8a1fe15"
      },
      "source": [
        "for x in range(0, 11):\n",
        "    print(f'sum({x}) = {sum_to2(x)}')"
      ],
      "execution_count": 18,
      "outputs": [
        {
          "output_type": "stream",
          "text": [
            "sum(0) = 0.0\n",
            "sum(1) = 1.0\n",
            "sum(2) = 3.0\n",
            "sum(3) = 6.0\n",
            "sum(4) = 10.0\n",
            "sum(5) = 15.0\n",
            "sum(6) = 21.0\n",
            "sum(7) = 28.0\n",
            "sum(8) = 36.0\n",
            "sum(9) = 45.0\n",
            "sum(10) = 55.0\n"
          ],
          "name": "stdout"
        }
      ]
    }
  ]
}