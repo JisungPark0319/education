{
  "nbformat": 4,
  "nbformat_minor": 0,
  "metadata": {
    "colab": {
      "name": "python17_while.ipynb",
      "provenance": [],
      "collapsed_sections": [],
      "authorship_tag": "ABX9TyN7aQaz8AjF1y1oGCny7a5z",
      "include_colab_link": true
    },
    "kernelspec": {
      "name": "python3",
      "display_name": "Python 3"
    }
  },
  "cells": [
    {
      "cell_type": "markdown",
      "metadata": {
        "id": "view-in-github",
        "colab_type": "text"
      },
      "source": [
        "<a href=\"https://colab.research.google.com/github/JakeOh/202007_itw_bd18/blob/master/lab_python/python17_while.ipynb\" target=\"_parent\"><img src=\"https://colab.research.google.com/assets/colab-badge.svg\" alt=\"Open In Colab\"/></a>"
      ]
    },
    {
      "cell_type": "markdown",
      "metadata": {
        "id": "3uAbzoMUVRSA",
        "colab_type": "text"
      },
      "source": [
        "**while 반복문**\n",
        "\n",
        "```\n",
        "[초기화 문장]\n",
        "while 조건식:\n",
        "    조건식이 참인 동안에 실행할 문장들\n",
        "    [조건식의 내용을 변경할 수 있는 문장]\n",
        "```\n"
      ]
    },
    {
      "cell_type": "code",
      "metadata": {
        "id": "jziWu1e_VM-a",
        "colab_type": "code",
        "colab": {
          "base_uri": "https://localhost:8080/",
          "height": 225
        },
        "outputId": "bb6354b9-0c95-4225-e653-6c2cf7724ec2"
      },
      "source": [
        "# 1부터 10까지 출력\n",
        "n = 1  # 초기 식\n",
        "while n <= 10:  # n이 10 이하인 동안에,\n",
        "    print(n)\n",
        "    n += 1  # n의 값을 1 증가시킴."
      ],
      "execution_count": null,
      "outputs": [
        {
          "output_type": "stream",
          "text": [
            "1\n",
            "2\n",
            "3\n",
            "4\n",
            "5\n",
            "6\n",
            "7\n",
            "8\n",
            "9\n",
            "10\n"
          ],
          "name": "stdout"
        }
      ]
    },
    {
      "cell_type": "code",
      "metadata": {
        "id": "S-kCRAhuaiHH",
        "colab_type": "code",
        "colab": {
          "base_uri": "https://localhost:8080/",
          "height": 204
        },
        "outputId": "86908d1d-c9c9-48e8-d2b7-6fe3ffb4d6ca"
      },
      "source": [
        "# while문 사용, 구구단 2단 출력\n",
        "n = 1\n",
        "while n < 10:\n",
        "    print(f'2 x {n} = {2 * n}')\n",
        "    n += 1\n"
      ],
      "execution_count": null,
      "outputs": [
        {
          "output_type": "stream",
          "text": [
            "2 x 1 = 2\n",
            "2 x 2 = 4\n",
            "2 x 3 = 6\n",
            "2 x 4 = 8\n",
            "2 x 5 = 10\n",
            "2 x 6 = 12\n",
            "2 x 7 = 14\n",
            "2 x 8 = 16\n",
            "2 x 9 = 18\n"
          ],
          "name": "stdout"
        }
      ]
    },
    {
      "cell_type": "code",
      "metadata": {
        "id": "8EXcUweec3aX",
        "colab_type": "code",
        "colab": {
          "base_uri": "https://localhost:8080/",
          "height": 1000
        },
        "outputId": "8eaa471d-baa9-4c61-e780-44fb65f33316"
      },
      "source": [
        "# while 문 사용, 구구단 2단 ~ 9단 출력.\n",
        "dan = 2\n",
        "while dan < 10:\n",
        "    n = 1\n",
        "    while n < 10:\n",
        "        print(f'{dan} x {n} = {dan * n}')\n",
        "        n += 1\n",
        "    print('---------------')\n",
        "    dan += 1"
      ],
      "execution_count": null,
      "outputs": [
        {
          "output_type": "stream",
          "text": [
            "2 x 1 = 2\n",
            "2 x 2 = 4\n",
            "2 x 3 = 6\n",
            "2 x 4 = 8\n",
            "2 x 5 = 10\n",
            "2 x 6 = 12\n",
            "2 x 7 = 14\n",
            "2 x 8 = 16\n",
            "2 x 9 = 18\n",
            "---------------\n",
            "3 x 1 = 3\n",
            "3 x 2 = 6\n",
            "3 x 3 = 9\n",
            "3 x 4 = 12\n",
            "3 x 5 = 15\n",
            "3 x 6 = 18\n",
            "3 x 7 = 21\n",
            "3 x 8 = 24\n",
            "3 x 9 = 27\n",
            "---------------\n",
            "4 x 1 = 4\n",
            "4 x 2 = 8\n",
            "4 x 3 = 12\n",
            "4 x 4 = 16\n",
            "4 x 5 = 20\n",
            "4 x 6 = 24\n",
            "4 x 7 = 28\n",
            "4 x 8 = 32\n",
            "4 x 9 = 36\n",
            "---------------\n",
            "5 x 1 = 5\n",
            "5 x 2 = 10\n",
            "5 x 3 = 15\n",
            "5 x 4 = 20\n",
            "5 x 5 = 25\n",
            "5 x 6 = 30\n",
            "5 x 7 = 35\n",
            "5 x 8 = 40\n",
            "5 x 9 = 45\n",
            "---------------\n",
            "6 x 1 = 6\n",
            "6 x 2 = 12\n",
            "6 x 3 = 18\n",
            "6 x 4 = 24\n",
            "6 x 5 = 30\n",
            "6 x 6 = 36\n",
            "6 x 7 = 42\n",
            "6 x 8 = 48\n",
            "6 x 9 = 54\n",
            "---------------\n",
            "7 x 1 = 7\n",
            "7 x 2 = 14\n",
            "7 x 3 = 21\n",
            "7 x 4 = 28\n",
            "7 x 5 = 35\n",
            "7 x 6 = 42\n",
            "7 x 7 = 49\n",
            "7 x 8 = 56\n",
            "7 x 9 = 63\n",
            "---------------\n",
            "8 x 1 = 8\n",
            "8 x 2 = 16\n",
            "8 x 3 = 24\n",
            "8 x 4 = 32\n",
            "8 x 5 = 40\n",
            "8 x 6 = 48\n",
            "8 x 7 = 56\n",
            "8 x 8 = 64\n",
            "8 x 9 = 72\n",
            "---------------\n",
            "9 x 1 = 9\n",
            "9 x 2 = 18\n",
            "9 x 3 = 27\n",
            "9 x 4 = 36\n",
            "9 x 5 = 45\n",
            "9 x 6 = 54\n",
            "9 x 7 = 63\n",
            "9 x 8 = 72\n",
            "9 x 9 = 81\n",
            "---------------\n"
          ],
          "name": "stdout"
        }
      ]
    },
    {
      "cell_type": "code",
      "metadata": {
        "id": "pXFpjibSgXj6",
        "colab_type": "code",
        "colab": {
          "base_uri": "https://localhost:8080/",
          "height": 58
        },
        "outputId": "132fd117-a425-4102-eca0-d771a026f25d"
      },
      "source": [
        "n = 1\n",
        "while n <= 5:\n",
        "    if n == 3:\n",
        "        break  # 반복문(for, while) 종료\n",
        "    \n",
        "    print(n)\n",
        "    n += 1"
      ],
      "execution_count": null,
      "outputs": [
        {
          "output_type": "stream",
          "text": [
            "1\n",
            "2\n"
          ],
          "name": "stdout"
        }
      ]
    },
    {
      "cell_type": "code",
      "metadata": {
        "id": "Biq5oW7ghTeF",
        "colab_type": "code",
        "colab": {
          "base_uri": "https://localhost:8080/",
          "height": 100
        },
        "outputId": "6dfa68d8-cf59-4f53-ba57-c2a1668d9f69"
      },
      "source": [
        "n = 1\n",
        "while n <= 5:\n",
        "    if n == 3:\n",
        "        n += 1\n",
        "        continue\n",
        "\n",
        "    print(n)\n",
        "    n += 1"
      ],
      "execution_count": null,
      "outputs": [
        {
          "output_type": "stream",
          "text": [
            "1\n",
            "2\n",
            "4\n",
            "5\n"
          ],
          "name": "stdout"
        }
      ]
    },
    {
      "cell_type": "markdown",
      "metadata": {
        "id": "0_JkLqqFi5HU",
        "colab_type": "text"
      },
      "source": [
        "\n",
        "\n",
        "*   break: iteration(반복) 종료.\n",
        "*   continue: 다음 iteration을 수행.\n",
        "\n"
      ]
    },
    {
      "cell_type": "code",
      "metadata": {
        "id": "Hck_HJ2yi58c",
        "colab_type": "code",
        "colab": {
          "base_uri": "https://localhost:8080/",
          "height": 516
        },
        "outputId": "86b28b7e-a1f0-4a07-f781-44661f179646"
      },
      "source": [
        "# 빈(empty) 집합에 0 ~ 10까지 (정수) 난수 10개를 저장\n",
        "import random\n",
        "\n",
        "random.seed(1)\n",
        "\n",
        "numbers = set()  # empty set\n",
        "\n",
        "while True:  # 무한 루프(infinite loop)\n",
        "    numbers.add(random.randrange(0, 11))  # set에 난수를 추가\n",
        "    print(numbers)\n",
        "    if len(numbers) == 10:  # set의 원소 개수가 10개이면\n",
        "        break  # 무한 루프를 종료"
      ],
      "execution_count": null,
      "outputs": [
        {
          "output_type": "stream",
          "text": [
            "{2}\n",
            "{9, 2}\n",
            "{9, 2, 1}\n",
            "{9, 2, 4, 1}\n",
            "{9, 2, 4, 1}\n",
            "{1, 2, 4, 7, 9}\n",
            "{1, 2, 4, 7, 9}\n",
            "{1, 2, 4, 7, 9}\n",
            "{1, 2, 4, 7, 9, 10}\n",
            "{1, 2, 4, 6, 7, 9, 10}\n",
            "{1, 2, 3, 4, 6, 7, 9, 10}\n",
            "{1, 2, 3, 4, 6, 7, 9, 10}\n",
            "{1, 2, 3, 4, 6, 7, 9, 10}\n",
            "{0, 1, 2, 3, 4, 6, 7, 9, 10}\n",
            "{0, 1, 2, 3, 4, 6, 7, 9, 10}\n",
            "{0, 1, 2, 3, 4, 6, 7, 9, 10}\n",
            "{0, 1, 2, 3, 4, 6, 7, 9, 10}\n",
            "{0, 1, 2, 3, 4, 6, 7, 9, 10}\n",
            "{0, 1, 2, 3, 4, 6, 7, 9, 10}\n",
            "{0, 1, 2, 3, 4, 6, 7, 9, 10}\n",
            "{0, 1, 2, 3, 4, 6, 7, 9, 10}\n",
            "{0, 1, 2, 3, 4, 6, 7, 9, 10}\n",
            "{0, 1, 2, 3, 4, 6, 7, 9, 10}\n",
            "{0, 1, 2, 3, 4, 5, 6, 7, 9, 10}\n"
          ],
          "name": "stdout"
        }
      ]
    },
    {
      "cell_type": "code",
      "metadata": {
        "id": "66p53dv26HN3",
        "colab_type": "code",
        "colab": {
          "base_uri": "https://localhost:8080/",
          "height": 350
        },
        "outputId": "b6a4ef18-b96d-4843-8fb1-05ef097a81fd"
      },
      "source": [
        "numbers = set()\n",
        "\n",
        "while len(numbers) < 10:\n",
        "    numbers.add(random.randrange(0, 11))\n",
        "    print(numbers)"
      ],
      "execution_count": null,
      "outputs": [
        {
          "output_type": "stream",
          "text": [
            "{7}\n",
            "{8, 7}\n",
            "{8, 6, 7}\n",
            "{8, 9, 6, 7}\n",
            "{0, 6, 7, 8, 9}\n",
            "{0, 6, 7, 8, 9}\n",
            "{0, 3, 6, 7, 8, 9}\n",
            "{0, 3, 6, 7, 8, 9}\n",
            "{0, 3, 6, 7, 8, 9}\n",
            "{0, 3, 6, 7, 8, 9, 10}\n",
            "{0, 2, 3, 6, 7, 8, 9, 10}\n",
            "{0, 2, 3, 5, 6, 7, 8, 9, 10}\n",
            "{0, 2, 3, 5, 6, 7, 8, 9, 10}\n",
            "{0, 2, 3, 5, 6, 7, 8, 9, 10}\n",
            "{0, 2, 3, 5, 6, 7, 8, 9, 10}\n",
            "{0, 1, 2, 3, 5, 6, 7, 8, 9, 10}\n"
          ],
          "name": "stdout"
        }
      ]
    },
    {
      "cell_type": "code",
      "metadata": {
        "id": "KPE_5mH07r9Y",
        "colab_type": "code",
        "colab": {
          "base_uri": "https://localhost:8080/",
          "height": 38
        },
        "outputId": "77997169-306e-4686-ae4a-6049a5be0017"
      },
      "source": [
        "# 1 + 2 + 3 + ... + 99 + 100 = ?\n",
        "# 1 + 2 + 3 + ... + n = n(n + 1) / 2\n",
        "\n",
        "n = 100\n",
        "result = n * (n + 1) / 2\n",
        "print(result)"
      ],
      "execution_count": null,
      "outputs": [
        {
          "output_type": "stream",
          "text": [
            "5050.0\n"
          ],
          "name": "stdout"
        }
      ]
    },
    {
      "cell_type": "code",
      "metadata": {
        "id": "yWm484TH923u",
        "colab_type": "code",
        "colab": {
          "base_uri": "https://localhost:8080/",
          "height": 38
        },
        "outputId": "b9674254-0db2-4e30-8a45-c60e5c3f6fdc"
      },
      "source": [
        "n = 100\n",
        "numbers = [x for x in range(1, n + 1)]\n",
        "# print(numbers)\n",
        "result = sum(numbers)\n",
        "print(result)"
      ],
      "execution_count": null,
      "outputs": [
        {
          "output_type": "stream",
          "text": [
            "500500\n"
          ],
          "name": "stdout"
        }
      ]
    },
    {
      "cell_type": "code",
      "metadata": {
        "id": "tWTluNoq-q_W",
        "colab_type": "code",
        "colab": {
          "base_uri": "https://localhost:8080/",
          "height": 38
        },
        "outputId": "22e92f1b-1444-4900-bec6-7956a2cce7aa"
      },
      "source": [
        "n = 100\n",
        "total = 0\n",
        "for x in range(1, n + 1):\n",
        "    total += x\n",
        "print(total)"
      ],
      "execution_count": null,
      "outputs": [
        {
          "output_type": "stream",
          "text": [
            "5050\n"
          ],
          "name": "stdout"
        }
      ]
    },
    {
      "cell_type": "code",
      "metadata": {
        "id": "nzaAZltC_I9N",
        "colab_type": "code",
        "colab": {
          "base_uri": "https://localhost:8080/",
          "height": 38
        },
        "outputId": "4fd54725-a61c-4970-ebf3-b8ad217cfde7"
      },
      "source": [
        "n = 1\n",
        "total = 0\n",
        "while n <= 100:\n",
        "    total += n\n",
        "    n += 1\n",
        "print(total)"
      ],
      "execution_count": null,
      "outputs": [
        {
          "output_type": "stream",
          "text": [
            "5050\n"
          ],
          "name": "stdout"
        }
      ]
    },
    {
      "cell_type": "code",
      "metadata": {
        "id": "U29tsd8JD1tM",
        "colab_type": "code",
        "colab": {
          "base_uri": "https://localhost:8080/",
          "height": 308
        },
        "outputId": "b71c90d2-25bc-4a47-df30-520da27fa73c"
      },
      "source": [
        "# 1 + 2 + 3 + ... + x <= 100 를 만족하는 가장 큰 정수 x\n",
        "total = 0\n",
        "x = 1\n",
        "while True:  # 무한 루프\n",
        "    total += x\n",
        "    print(f'x = {x}, total = {total}')\n",
        "    if total > 100:\n",
        "        break\n",
        "    x += 1"
      ],
      "execution_count": null,
      "outputs": [
        {
          "output_type": "stream",
          "text": [
            "x = 1, total = 1\n",
            "x = 2, total = 3\n",
            "x = 3, total = 6\n",
            "x = 4, total = 10\n",
            "x = 5, total = 15\n",
            "x = 6, total = 21\n",
            "x = 7, total = 28\n",
            "x = 8, total = 36\n",
            "x = 9, total = 45\n",
            "x = 10, total = 55\n",
            "x = 11, total = 66\n",
            "x = 12, total = 78\n",
            "x = 13, total = 91\n",
            "x = 14, total = 105\n"
          ],
          "name": "stdout"
        }
      ]
    },
    {
      "cell_type": "code",
      "metadata": {
        "id": "8zXg7ShlGuwm",
        "colab_type": "code",
        "colab": {
          "base_uri": "https://localhost:8080/",
          "height": 308
        },
        "outputId": "575ea517-8dc3-43f9-f9d0-d8fda451059f"
      },
      "source": [
        "# 1 + 2 + 3 + ... + x <= 100 \n",
        "x = 1\n",
        "total = 0\n",
        "\n",
        "while total <= 100:\n",
        "    total += x\n",
        "    print(f'x = {x}, total = {total}')\n",
        "    x += 1"
      ],
      "execution_count": null,
      "outputs": [
        {
          "output_type": "stream",
          "text": [
            "x = 1, total = 1\n",
            "x = 2, total = 3\n",
            "x = 3, total = 6\n",
            "x = 4, total = 10\n",
            "x = 5, total = 15\n",
            "x = 6, total = 21\n",
            "x = 7, total = 28\n",
            "x = 8, total = 36\n",
            "x = 9, total = 45\n",
            "x = 10, total = 55\n",
            "x = 11, total = 66\n",
            "x = 12, total = 78\n",
            "x = 13, total = 91\n",
            "x = 14, total = 105\n"
          ],
          "name": "stdout"
        }
      ]
    }
  ]
}