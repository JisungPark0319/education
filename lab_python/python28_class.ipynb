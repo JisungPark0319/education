{
  "nbformat": 4,
  "nbformat_minor": 0,
  "metadata": {
    "colab": {
      "name": "python28_class.ipynb",
      "provenance": [],
      "collapsed_sections": [],
      "authorship_tag": "ABX9TyOWLX/WmYqMLQbEifi/Hfhw",
      "include_colab_link": true
    },
    "kernelspec": {
      "name": "python3",
      "display_name": "Python 3"
    }
  },
  "cells": [
    {
      "cell_type": "markdown",
      "metadata": {
        "id": "view-in-github",
        "colab_type": "text"
      },
      "source": [
        "<a href=\"https://colab.research.google.com/github/JakeOh/202007_itw_bd18/blob/master/lab_python/python28_class.ipynb\" target=\"_parent\"><img src=\"https://colab.research.google.com/assets/colab-badge.svg\" alt=\"Open In Colab\"/></a>"
      ]
    },
    {
      "cell_type": "code",
      "metadata": {
        "id": "f4s2ILlkL1n7",
        "colab_type": "code",
        "colab": {}
      },
      "source": [
        "import math"
      ],
      "execution_count": 14,
      "outputs": []
    },
    {
      "cell_type": "code",
      "metadata": {
        "id": "nSC-DoNg_sGV",
        "colab_type": "code",
        "colab": {}
      },
      "source": [
        "class Point:\n",
        "    \"\"\"2차원 평면 상의 점의 좌표를 저장할 수 있는 클래스\"\"\"\n",
        "\n",
        "    def __init__(self, x=0, y=0):\n",
        "        # initialization(초기화)\n",
        "        self.x = x\n",
        "        self.y = y\n",
        "\n",
        "    def __repr__(self):\n",
        "        # representation(표현): 문자열을 만들어서 반환(return)\n",
        "        # return 'Point(x={}, y={})'.format(self.x, self.y)\n",
        "        return f'Point({self.x}, {self.y})'\n",
        "\n",
        "    def __eq__(self, other):\n",
        "        # equal(같음): 두 점의 x, y 좌표가 서로 같은 지\n",
        "        if isinstance(other, Point):\n",
        "            return (self.x == other.x) and (self.y == other.y)\n",
        "        else:\n",
        "            return False\n",
        "\n",
        "    def move(self, dx, dy):\n",
        "        \"\"\"점의 좌표를 원래 위치에서 x축 방향으로 dx만큼, y축 방향으로 dy만큼 이동시키는 메서드.\"\"\"\n",
        "        self.x += dx  # self.x = self.x + dx\n",
        "        self.y += dy  # self.y = self.y + dy\n",
        "\n",
        "    def distance(self, pt):\n",
        "        \"\"\"다른 Point pt까지의 거리를 반환하는 메서드.\n",
        "        두 점 (x1, y1)과 (x2, y2) 사이의 거리 = sqrt((x1 - x2) ** 2 + (y1 - y2) ** 2)\n",
        "        \"\"\"\n",
        "        dist = math.sqrt((self.x - pt.x) ** 2 + (self.y - pt.y) ** 2)\n",
        "        return dist\n"
      ],
      "execution_count": 16,
      "outputs": []
    },
    {
      "cell_type": "code",
      "metadata": {
        "id": "-2ZJrDy-Gm8x",
        "colab_type": "code",
        "colab": {
          "base_uri": "https://localhost:8080/",
          "height": 100
        },
        "outputId": "76dd0cba-7741-4270-cc7b-321437138c4b"
      },
      "source": [
        "pt1 = Point()\n",
        "print(pt1, '@', id(pt1))\n",
        "\n",
        "pt2 = Point(x=0, y=0)\n",
        "print(pt2, '@', id(pt2))\n",
        "\n",
        "print('is:', pt1 is pt2)  # is 연산자: id(메모리 주소) 비교\n",
        "print('==:', pt1 == pt2)  # == 연산자: __eq__ 메서드의 반환 값(return value)"
      ],
      "execution_count": 17,
      "outputs": [
        {
          "output_type": "stream",
          "text": [
            "Point(0, 0) @ 140356248436296\n",
            "Point(0, 0) @ 140356249388368\n",
            "is: False\n",
            "==: True\n"
          ],
          "name": "stdout"
        }
      ]
    },
    {
      "cell_type": "code",
      "metadata": {
        "id": "qA9MfDIPKzfw",
        "colab_type": "code",
        "colab": {
          "base_uri": "https://localhost:8080/",
          "height": 38
        },
        "outputId": "52679d54-1cb8-452c-a41a-f491a0c6e8e2"
      },
      "source": [
        "# pt1을 (1, 1)로 이동\n",
        "pt1.move(1, 1)\n",
        "print(pt1, '@', id(pt1))"
      ],
      "execution_count": 18,
      "outputs": [
        {
          "output_type": "stream",
          "text": [
            "Point(1, 1) @ 140356248436296\n"
          ],
          "name": "stdout"
        }
      ]
    },
    {
      "cell_type": "code",
      "metadata": {
        "id": "jCe14BgYMX9a",
        "colab_type": "code",
        "colab": {
          "base_uri": "https://localhost:8080/",
          "height": 38
        },
        "outputId": "81b9519b-e30d-4ddb-fa32-105c674f87cd"
      },
      "source": [
        "print(pt1.distance(pt2))"
      ],
      "execution_count": 19,
      "outputs": [
        {
          "output_type": "stream",
          "text": [
            "1.4142135623730951\n"
          ],
          "name": "stdout"
        }
      ]
    },
    {
      "cell_type": "markdown",
      "metadata": {
        "id": "3DZodQGUMQq_",
        "colab_type": "text"
      },
      "source": [
        "\n",
        "\n",
        "---\n",
        "\n"
      ]
    },
    {
      "cell_type": "code",
      "metadata": {
        "id": "-iwWX3dSMP5r",
        "colab_type": "code",
        "colab": {}
      },
      "source": [
        "class Rectangle:\n",
        "    \"\"\"직사각형을 표현하는 클래스.\n",
        "    속성: 꼭지점(corner), 가로길이(width), 세로길이(height).\n",
        "    corner: Point 타입(직사각형의 좌하단), width/height: float 타입.\n",
        "    \"\"\"\n",
        "    # def __init__(self, x, y, width, height):\n",
        "    #     self.corner = Point(x, y)\n",
        "    #     self.width = width\n",
        "    #     self.height = height\n",
        "    \n",
        "    def __init__(self, corner, width, height):\n",
        "        self.corner = corner\n",
        "        self.width = width\n",
        "        self.height = height\n",
        "\n",
        "    def __repr__(self):\n",
        "        return f'Rectangle(corner={self.corner}, width={self.width}, height={self.height})'\n",
        "\n",
        "    def __eq__(self, other):\n",
        "        if isinstance(other, Rectangle):\n",
        "            return (self.corner == other.corner) and (self.width == other.width) and (self.height == other.width)\n",
        "        else:\n",
        "            return False\n",
        "\n",
        "    def move(self, dx, dy):\n",
        "        \"\"\"직사각형의 위치를 dx, dy만큼 옮기는 메서드.\"\"\"\n",
        "        # self.corner.x += dx\n",
        "        # self.corner.y += dy\n",
        "        self.corner.move(dx, dy)\n",
        "\n",
        "    def resize(self, dw, dh):\n",
        "        \"\"\"직사각형의 가로길이를 dw만큼, 세로 길이를 dh만큼 늘려주는 메서드.\n",
        "        width -> width + dw, height -> height + dh\n",
        "        \"\"\"\n",
        "        self.width += dw\n",
        "        self.height += dh\n",
        "    \n",
        "    def center(self):\n",
        "        \"\"\"직사각형의 중심을 찾아서 반환하는 메서드.\"\"\"\n",
        "        center_x = self.corner.x + self.width / 2\n",
        "        center_y = self.corner.y + self.height / 2\n",
        "        center = Point(center_x, center_y)\n",
        "        return center\n",
        "\n",
        "    def area(self):\n",
        "        \"\"\"직사각형의 넓이를 반환하는 메서드.\"\"\"\n",
        "        return self.width * self.height\n"
      ],
      "execution_count": 39,
      "outputs": []
    },
    {
      "cell_type": "code",
      "metadata": {
        "id": "m7waUNqmTRvX",
        "colab_type": "code",
        "colab": {
          "base_uri": "https://localhost:8080/",
          "height": 183
        },
        "outputId": "2d0fac76-ef67-4936-8193-4c1bd9e76c7c"
      },
      "source": [
        "point_origin = Point()\n",
        "rect1 = Rectangle(corner=point_origin, width=1, height=1)\n",
        "print(rect1, '@', id(rect1))\n",
        "\n",
        "rect2 = Rectangle(Point(), 1, 1)\n",
        "print(rect2, '@', id(rect2))\n",
        "\n",
        "print('is 연산자:', rect1 is rect2)\n",
        "print('== 연산자:', rect1 == rect2)\n",
        "\n",
        "rect1.move(1, 1)\n",
        "print(rect1)\n",
        "\n",
        "rect1.resize(1, 2)\n",
        "print(rect1)\n",
        "\n",
        "rect1_center = rect1.center()\n",
        "print(rect1_center)\n",
        "area = rect1.area()\n",
        "print(area)"
      ],
      "execution_count": 40,
      "outputs": [
        {
          "output_type": "stream",
          "text": [
            "Rectangle(corner=Point(0, 0), width=1, height=1) @ 140356248500488\n",
            "Rectangle(corner=Point(0, 0), width=1, height=1) @ 140356248435008\n",
            "is 연산자: False\n",
            "== 연산자: True\n",
            "Rectangle(corner=Point(1, 1), width=1, height=1)\n",
            "Rectangle(corner=Point(1, 1), width=2, height=3)\n",
            "Point(2.0, 2.5)\n",
            "6\n"
          ],
          "name": "stdout"
        }
      ]
    },
    {
      "cell_type": "code",
      "metadata": {
        "id": "eZ5wFUJaakuO",
        "colab_type": "code",
        "colab": {}
      },
      "source": [
        ""
      ],
      "execution_count": null,
      "outputs": []
    }
  ]
}