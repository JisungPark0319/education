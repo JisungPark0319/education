{
  "nbformat": 4,
  "nbformat_minor": 0,
  "metadata": {
    "colab": {
      "name": "python39_ndarray.ipynb",
      "provenance": [],
      "collapsed_sections": [],
      "authorship_tag": "ABX9TyMZrd81LZ3duwimXhJFo1iL",
      "include_colab_link": true
    },
    "kernelspec": {
      "name": "python3",
      "display_name": "Python 3"
    }
  },
  "cells": [
    {
      "cell_type": "markdown",
      "metadata": {
        "id": "view-in-github",
        "colab_type": "text"
      },
      "source": [
        "<a href=\"https://colab.research.google.com/github/JakeOh/202007_itw_bd18/blob/master/lab_python/python39_ndarray.ipynb\" target=\"_parent\"><img src=\"https://colab.research.google.com/assets/colab-badge.svg\" alt=\"Open In Colab\"/></a>"
      ]
    },
    {
      "cell_type": "markdown",
      "metadata": {
        "id": "DCr2uvo8v-he",
        "colab_type": "text"
      },
      "source": [
        "**numpy.ndarray 객체 생성 함수들**"
      ]
    },
    {
      "cell_type": "code",
      "metadata": {
        "id": "zRRyeGtPveuH",
        "colab_type": "code",
        "colab": {}
      },
      "source": [
        "import numpy as np"
      ],
      "execution_count": 1,
      "outputs": []
    },
    {
      "cell_type": "code",
      "metadata": {
        "id": "xIqWa9kzvwz4",
        "colab_type": "code",
        "colab": {
          "base_uri": "https://localhost:8080/",
          "height": 121
        },
        "outputId": "702b3f3f-af0c-4824-f58b-f9f479459448"
      },
      "source": [
        "# np.array(배열과 비슷한 객체)\n",
        "# 배열과 비슷한 객체: list, tuple, list comprehension, ...\n",
        "\n",
        "arr = np.array([1, 2, 3])\n",
        "print(arr)\n",
        "print(type(arr))\n",
        "print(arr.size)  # array의 크기(원소의 개수)\n",
        "print(arr.shape)  # array의 각 차원(축)의 원소의 개수를 나타내는 tuple\n",
        "print(arr.dtype)  # array의 원소의 데이터 타입\n",
        "# Python list: 여러가지 데이터 타입의 원소들이 섞여서 저장될 수 있음.\n",
        "# numpy.ndarray: 한가지 타입의 원소들만 저장될 수 있음."
      ],
      "execution_count": 7,
      "outputs": [
        {
          "output_type": "stream",
          "text": [
            "[1 2 3]\n",
            "<class 'numpy.ndarray'>\n",
            "3\n",
            "(3,)\n",
            "int64\n"
          ],
          "name": "stdout"
        }
      ]
    },
    {
      "cell_type": "code",
      "metadata": {
        "id": "oZ5a2HkOyMXX",
        "colab_type": "code",
        "colab": {
          "base_uri": "https://localhost:8080/",
          "height": 38
        },
        "outputId": "f64c3eb5-4ba6-4c57-edb9-02cbf29ddeb4"
      },
      "source": [
        "arr = np.array([x for x in range(0, 10, 2)])\n",
        "print(arr)"
      ],
      "execution_count": 9,
      "outputs": [
        {
          "output_type": "stream",
          "text": [
            "[0 2 4 6 8]\n"
          ],
          "name": "stdout"
        }
      ]
    },
    {
      "cell_type": "code",
      "metadata": {
        "id": "KZ-k2DdM2xEl",
        "colab_type": "code",
        "colab": {
          "base_uri": "https://localhost:8080/",
          "height": 142
        },
        "outputId": "06df017e-b30e-4775-9745-80d6181b897d"
      },
      "source": [
        "arr_2d = np.array([[1, 2, 3], [4, 5, 6]])\n",
        "print(arr_2d)\n",
        "print(arr_2d.size)\n",
        "print(arr_2d.shape)\n",
        "print(arr_2d.ndim)  # 차원의 개수\n",
        "print(arr_2d.dtype)"
      ],
      "execution_count": 15,
      "outputs": [
        {
          "output_type": "stream",
          "text": [
            "[[1 2 3]\n",
            " [4 5 6]]\n",
            "6\n",
            "(2, 3)\n",
            "2\n",
            "int64\n"
          ],
          "name": "stdout"
        }
      ]
    },
    {
      "cell_type": "code",
      "metadata": {
        "id": "KMuz5vL34I5o",
        "colab_type": "code",
        "colab": {
          "base_uri": "https://localhost:8080/",
          "height": 58
        },
        "outputId": "054b8393-cbdb-4637-9324-d9878d5a071c"
      },
      "source": [
        "# np.arange(): array using range. 1차원 배열(array)을 생성.\n",
        "# range(end), range(start, end), range(start, end, step)\n",
        "arr = np.arange(0, 10, 2)\n",
        "print(arr)\n",
        "print(type(arr))"
      ],
      "execution_count": 18,
      "outputs": [
        {
          "output_type": "stream",
          "text": [
            "[0 2 4 6 8]\n",
            "<class 'numpy.ndarray'>\n"
          ],
          "name": "stdout"
        }
      ]
    },
    {
      "cell_type": "code",
      "metadata": {
        "id": "dIf8mcxM5WCd",
        "colab_type": "code",
        "colab": {
          "base_uri": "https://localhost:8080/",
          "height": 121
        },
        "outputId": "45c7b5db-2ef8-4bc9-98bb-35d9fe61b1da"
      },
      "source": [
        "arr_2d = np.arange(6).reshape((2, 3))  # ndarray.reshape 메서드\n",
        "print(arr_2d)\n",
        "\n",
        "arr_2d = np.arange(6).reshape((3, 2))\n",
        "print(arr_2d)"
      ],
      "execution_count": 21,
      "outputs": [
        {
          "output_type": "stream",
          "text": [
            "[[0 1 2]\n",
            " [3 4 5]]\n",
            "[[0 1]\n",
            " [2 3]\n",
            " [4 5]]\n"
          ],
          "name": "stdout"
        }
      ]
    },
    {
      "cell_type": "code",
      "metadata": {
        "id": "Y5iSoiId8We9",
        "colab_type": "code",
        "colab": {
          "base_uri": "https://localhost:8080/",
          "height": 100
        },
        "outputId": "4670780a-2755-4093-efa7-2bf098b7224f"
      },
      "source": [
        "# np.zeros(shape, dtype=float, order='C'): 모든 원소들을 0으로 채운 배열을 리턴.\n",
        "arr = np.zeros(6, dtype=int)  #> 1차원 배열\n",
        "print(arr)\n",
        "print(arr.ndim)\n",
        "print(arr.shape)\n",
        "print(arr.dtype)"
      ],
      "execution_count": 26,
      "outputs": [
        {
          "output_type": "stream",
          "text": [
            "[0 0 0 0 0 0]\n",
            "1\n",
            "(6,)\n",
            "int64\n"
          ],
          "name": "stdout"
        }
      ]
    },
    {
      "cell_type": "code",
      "metadata": {
        "id": "yDYMBcGl-FHD",
        "colab_type": "code",
        "colab": {
          "base_uri": "https://localhost:8080/",
          "height": 79
        },
        "outputId": "c3064d1d-f777-4435-f7c4-cde5d609d52c"
      },
      "source": [
        "arr_2d = np.zeros((3, 3))\n",
        "print(arr_2d)"
      ],
      "execution_count": 27,
      "outputs": [
        {
          "output_type": "stream",
          "text": [
            "[[0. 0. 0.]\n",
            " [0. 0. 0.]\n",
            " [0. 0. 0.]]\n"
          ],
          "name": "stdout"
        }
      ]
    },
    {
      "cell_type": "code",
      "metadata": {
        "id": "GWzZwgtN-VL5",
        "colab_type": "code",
        "colab": {
          "base_uri": "https://localhost:8080/",
          "height": 58
        },
        "outputId": "1d7ed467-0369-4c11-af85-eb41c8485d6c"
      },
      "source": [
        "# np.ones(shape, dtype=None, order='C'): 모든 원소를 1로 채운 배열을 리턴.\n",
        "arr = np.ones(6, dtype=np.int16)\n",
        "print(arr)\n",
        "print(arr.dtype)"
      ],
      "execution_count": 31,
      "outputs": [
        {
          "output_type": "stream",
          "text": [
            "[1 1 1 1 1 1]\n",
            "int16\n"
          ],
          "name": "stdout"
        }
      ]
    },
    {
      "cell_type": "code",
      "metadata": {
        "id": "nUUASiTw_lIi",
        "colab_type": "code",
        "colab": {
          "base_uri": "https://localhost:8080/",
          "height": 58
        },
        "outputId": "0cee7471-3cfe-405e-87a4-5ed82fe2f5b2"
      },
      "source": [
        "arr_2d = np.ones((2, 3))\n",
        "print(arr_2d)"
      ],
      "execution_count": 32,
      "outputs": [
        {
          "output_type": "stream",
          "text": [
            "[[1. 1. 1.]\n",
            " [1. 1. 1.]]\n"
          ],
          "name": "stdout"
        }
      ]
    },
    {
      "cell_type": "code",
      "metadata": {
        "id": "H0D-JprQ_0HR",
        "colab_type": "code",
        "colab": {
          "base_uri": "https://localhost:8080/",
          "height": 79
        },
        "outputId": "a6d57fed-d3e9-4b3c-9e65-a9edacfcd531"
      },
      "source": [
        "# np.eye(): 대각선에는 1, 그 이외에는 0으로 채워진 2차원 배열을 리턴.\n",
        "arr = np.eye(3, dtype=np.int32)\n",
        "print(arr)"
      ],
      "execution_count": 34,
      "outputs": [
        {
          "output_type": "stream",
          "text": [
            "[[1 0 0]\n",
            " [0 1 0]\n",
            " [0 0 1]]\n"
          ],
          "name": "stdout"
        }
      ]
    },
    {
      "cell_type": "code",
      "metadata": {
        "id": "O8FENRARE3ZC",
        "colab_type": "code",
        "colab": {
          "base_uri": "https://localhost:8080/",
          "height": 100
        },
        "outputId": "320bfcb1-77e2-4c60-ee90-a8ac062d84df"
      },
      "source": [
        "# np.random 모듈의 함수들을 사용한 난수들의 배열 만들기.\n",
        "# np.random.rand(d0, d1, ...): 0 <= r < 1 난수들로 이루어진 배열.\n",
        "arr = np.random.rand(10)\n",
        "print(arr)\n",
        "\n",
        "arr_2d = np.random.rand(2, 3)\n",
        "print(arr_2d)"
      ],
      "execution_count": 36,
      "outputs": [
        {
          "output_type": "stream",
          "text": [
            "[0.20049771 0.70777196 0.33900599 0.12234362 0.63482759 0.51644691\n",
            " 0.9681143  0.42431607 0.21572898 0.63837815]\n",
            "[[0.66807223 0.43070275 0.57641987]\n",
            " [0.31832248 0.78262328 0.44380805]]\n"
          ],
          "name": "stdout"
        }
      ]
    },
    {
      "cell_type": "code",
      "metadata": {
        "id": "TWObbSLzGtYK",
        "colab_type": "code",
        "colab": {
          "base_uri": "https://localhost:8080/",
          "height": 121
        },
        "outputId": "93513e8d-afa5-4b50-8298-75cb7a2dc7dd"
      },
      "source": [
        "# np.random.randn(d0, d1, ...): \n",
        "# 평균이 0이고 표준편차가 1인 표준 정규 분포(standard \"normal\" distribution)를 따르는 난수들의 배열.\n",
        "arr = np.random.randn(10)\n",
        "print(arr)\n",
        "\n",
        "arr_2d = np.random.randn(3, 4)\n",
        "print(arr_2d)"
      ],
      "execution_count": 40,
      "outputs": [
        {
          "output_type": "stream",
          "text": [
            "[ 0.56727594 -0.12369691 -0.37030862  1.50923047  0.07134172 -0.89729275\n",
            " -0.83506652 -1.53466821  0.72894958  1.04970112]\n",
            "[[-1.0358043   0.52124518  0.62150203  0.25232212]\n",
            " [ 0.52356762  0.97285472  0.66009179  0.58436904]\n",
            " [-1.27933476 -1.08163012  0.06153645 -0.97261371]]\n"
          ],
          "name": "stdout"
        }
      ]
    },
    {
      "cell_type": "code",
      "metadata": {
        "id": "2maaAPs3JeWy",
        "colab_type": "code",
        "colab": {
          "base_uri": "https://localhost:8080/",
          "height": 100
        },
        "outputId": "8abcfd89-689c-46bf-b45d-d34072bf8a7c"
      },
      "source": [
        "# np.random.randint(low, high, size)\n",
        "# low <= r < high 정수 난수들로 이루어진 배열. size 파라미터 = 배열의 shape.\n",
        "arr = np.random.randint(1, 4, size=10)\n",
        "print(arr)\n",
        "\n",
        "arr_2d =np.random.randint(1, 4, size=(3, 4))\n",
        "print(arr_2d)"
      ],
      "execution_count": 42,
      "outputs": [
        {
          "output_type": "stream",
          "text": [
            "[3 3 2 1 1 1 2 1 2 1]\n",
            "[[3 3 2 1]\n",
            " [2 2 3 2]\n",
            " [1 3 2 3]]\n"
          ],
          "name": "stdout"
        }
      ]
    },
    {
      "cell_type": "code",
      "metadata": {
        "id": "6lNEVSKGLNS5",
        "colab_type": "code",
        "colab": {
          "base_uri": "https://localhost:8080/",
          "height": 390
        },
        "outputId": "7f3fa451-1c86-40e7-ec5e-03b3566e0e17"
      },
      "source": [
        "import matplotlib.pyplot as plt\n",
        "\n",
        "x = np.arange(-5, 5, 0.01)\n",
        "print(x[:10])\n",
        "print(x[-10:])\n",
        "\n",
        "y = x ** 2\n",
        "print(y[:10])\n",
        "print(y[-10:])\n",
        "\n",
        "plt.plot(x, y)\n",
        "plt.show()"
      ],
      "execution_count": 46,
      "outputs": [
        {
          "output_type": "stream",
          "text": [
            "[-5.   -4.99 -4.98 -4.97 -4.96 -4.95 -4.94 -4.93 -4.92 -4.91]\n",
            "[4.9  4.91 4.92 4.93 4.94 4.95 4.96 4.97 4.98 4.99]\n",
            "[25.     24.9001 24.8004 24.7009 24.6016 24.5025 24.4036 24.3049 24.2064\n",
            " 24.1081]\n",
            "[24.01   24.1081 24.2064 24.3049 24.4036 24.5025 24.6016 24.7009 24.8004\n",
            " 24.9001]\n"
          ],
          "name": "stdout"
        },
        {
          "output_type": "display_data",
          "data": {
            "image/png": "[encoded data removed]",
            "text/plain": [
              "<Figure size 432x288 with 1 Axes>"
            ]
          },
          "metadata": {
            "tags": [],
            "needs_background": "light"
          }
        }
      ]
    }
  ]
}