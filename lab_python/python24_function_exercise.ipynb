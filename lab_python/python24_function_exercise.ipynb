{
  "nbformat": 4,
  "nbformat_minor": 0,
  "metadata": {
    "colab": {
      "name": "python24_function_exercise.ipynb",
      "provenance": [],
      "collapsed_sections": [],
      "authorship_tag": "ABX9TyMYRP4P4KWKCgj/h6wrrKPY",
      "include_colab_link": true
    },
    "kernelspec": {
      "name": "python3",
      "display_name": "Python 3"
    }
  },
  "cells": [
    {
      "cell_type": "markdown",
      "metadata": {
        "id": "view-in-github",
        "colab_type": "text"
      },
      "source": [
        "<a href=\"https://colab.research.google.com/github/JakeOh/202007_itw_bd18/blob/master/lab_python/python24_function_exercise.ipynb\" target=\"_parent\"><img src=\"https://colab.research.google.com/assets/colab-badge.svg\" alt=\"Open In Colab\"/></a>"
      ]
    },
    {
      "cell_type": "code",
      "metadata": {
        "id": "HM5WFTXutHCR",
        "colab_type": "code",
        "colab": {}
      },
      "source": [
        "# 1 ** 2 + 2 ** 2 + 3 ** 2 + ... + n ** 2을 리턴하는 함수(n은 1 이상의 정수)"
      ],
      "execution_count": null,
      "outputs": []
    },
    {
      "cell_type": "code",
      "metadata": {
        "id": "VeYiFkzi_ikJ",
        "colab_type": "code",
        "colab": {}
      },
      "source": [
        "def square_sum(n):\n",
        "    return n * (n + 1) * (2 * n + 1) / 6"
      ],
      "execution_count": null,
      "outputs": []
    },
    {
      "cell_type": "code",
      "metadata": {
        "id": "6qOHLG8-AXsm",
        "colab_type": "code",
        "colab": {}
      },
      "source": [
        "def square_sum2(n):\n",
        "    result = 0\n",
        "    for x in range(1, n + 1):\n",
        "        result += x ** 2\n",
        "    \n",
        "    return result"
      ],
      "execution_count": null,
      "outputs": []
    },
    {
      "cell_type": "code",
      "metadata": {
        "id": "ugr4MRHWIi89",
        "colab_type": "code",
        "colab": {}
      },
      "source": [
        "def square_sum3(n):\n",
        "    \"\"\"\n",
        "    1 ** 2 + 2 ** 2 + 3 ** 2 + ... + (n - 1) ** 2 + n ** 2\n",
        "    = square_sum3(n-1) + n ** 2\n",
        "    \"\"\"\n",
        "    result = None\n",
        "    if n == 0:\n",
        "        result = 0\n",
        "    elif n > 0:\n",
        "        result = square_sum3(n - 1) + n ** 2\n",
        "\n",
        "    return result"
      ],
      "execution_count": null,
      "outputs": []
    },
    {
      "cell_type": "code",
      "metadata": {
        "id": "FSEB8g97_3m4",
        "colab_type": "code",
        "colab": {
          "base_uri": "https://localhost:8080/",
          "height": 100
        },
        "outputId": "7b7b8ef7-9ac3-4406-a778-a395e2ef68c8"
      },
      "source": [
        "for x in range(1, 5):\n",
        "    print(f'square_sum_{x} = {square_sum3(x)}')"
      ],
      "execution_count": null,
      "outputs": [
        {
          "output_type": "stream",
          "text": [
            "square_sum_1 = 1\n",
            "square_sum_2 = 5\n",
            "square_sum_3 = 14\n",
            "square_sum_4 = 30\n"
          ],
          "name": "stdout"
        }
      ]
    },
    {
      "cell_type": "code",
      "metadata": {
        "id": "WoDzLjgathRF",
        "colab_type": "code",
        "colab": {}
      },
      "source": [
        "# 숫자들의 리스트가 주어졌을 때, 그 리스트의 최댓값의 위치(인덱스)를 리턴하는 함수\n",
        "def find_max_index(numbers):\n",
        "    max = numbers[0]\n",
        "    max_id = 0\n",
        "    for id in range(len(numbers)):  # 0 <= id < length\n",
        "        if max < numbers[id]:  # 리스트의 원소가 더 크다면\n",
        "            max = numbers[id]  # 최댓값을 변경\n",
        "            max_id = id  # 최댓값의 인덱스 변경\n",
        "\n",
        "    return max_id"
      ],
      "execution_count": 2,
      "outputs": []
    },
    {
      "cell_type": "code",
      "metadata": {
        "id": "MRRqzo5WhdZU",
        "colab_type": "code",
        "colab": {}
      },
      "source": [
        "def find_max_index2(numbers):\n",
        "    max_id, max = 0, numbers[0]\n",
        "    idx = 0\n",
        "    for n in numbers:\n",
        "        if max < n:\n",
        "            max = n\n",
        "            max_id = idx\n",
        "        idx += 1\n",
        "\n",
        "    return max_id"
      ],
      "execution_count": 9,
      "outputs": []
    },
    {
      "cell_type": "code",
      "metadata": {
        "id": "_tGVX8NTi8gK",
        "colab_type": "code",
        "colab": {}
      },
      "source": [
        "def find_max_index3(numbers):\n",
        "    max_id, max = 0, numbers[0]\n",
        "    for index, value in enumerate(numbers):\n",
        "        if max < value:\n",
        "            max = value\n",
        "            max_id = index\n",
        "\n",
        "    return max_id"
      ],
      "execution_count": 15,
      "outputs": []
    },
    {
      "cell_type": "code",
      "metadata": {
        "id": "A0zAQib0kvuL",
        "colab_type": "code",
        "colab": {}
      },
      "source": [
        "def find_max_index4(numbers):\n",
        "    # 1) 리스트 numbers에서 최댓값을 찾음.\n",
        "    max_value = max(numbers)\n",
        "    # 2) 리스트 numbers에서 최댓값의 index를 찾음.\n",
        "    max_idx = numbers.index(max_value)\n",
        "    \n",
        "    return max_idx"
      ],
      "execution_count": 23,
      "outputs": []
    },
    {
      "cell_type": "code",
      "metadata": {
        "id": "EYmzTXbje67s",
        "colab_type": "code",
        "colab": {
          "base_uri": "https://localhost:8080/",
          "height": 58
        },
        "outputId": "19598353-a9af-47e3-e8aa-9cfc172c9d4d"
      },
      "source": [
        "import random\n",
        "\n",
        "# random.seed(1)\n",
        "numbers = [random.randrange(0, 101) for _ in range(10)]\n",
        "print(numbers)\n",
        "\n",
        "max_idx = find_max_index4(numbers)\n",
        "print(max_idx)"
      ],
      "execution_count": 24,
      "outputs": [
        {
          "output_type": "stream",
          "text": [
            "[22, 46, 70, 89, 99, 86, 94, 47, 11, 56]\n",
            "4\n"
          ],
          "name": "stdout"
        }
      ]
    },
    {
      "cell_type": "code",
      "metadata": {
        "id": "I8lsEAgot_GP",
        "colab_type": "code",
        "colab": {}
      },
      "source": [
        "# 숫자들의 리스트가 주어졌을 때, 그 리스트의 중앙값(median)을 리턴하는 함수\n",
        "# [1, 2, 3, 4, 5] ==> median = 3\n",
        "# [1, 2, 3, 4, 5, 6] ==> median = (3 + 4)  / 2 = 3.5\n",
        "# sorted(list): 정렬된 리스트를 반환(return)\n",
        "\n",
        "def find_median(numbers):\n",
        "    # 1) 리스트를 크기 순서로 정렬.\n",
        "    sorted_numbers = sorted(numbers)\n",
        "    \n",
        "    # 2) 리스트의 중간 위치를 찾음.\n",
        "    length = len(sorted_numbers)\n",
        "    mid = length // 2\n",
        "    if length % 2:  # 리스트의 원소의 개수가 홀수이면,\n",
        "        median = sorted_numbers[mid]\n",
        "    else:  # 리스트의 원소의 개수가 짝수이면,\n",
        "        left = mid - 1\n",
        "        # 가운데 2개 값들의 평균\n",
        "        median = (sorted_numbers[left] + sorted_numbers[mid]) / 2\n",
        "\n",
        "    return median"
      ],
      "execution_count": 31,
      "outputs": []
    },
    {
      "cell_type": "code",
      "metadata": {
        "id": "pepiGydkuPoX",
        "colab_type": "code",
        "colab": {
          "base_uri": "https://localhost:8080/",
          "height": 79
        },
        "outputId": "17a260e3-a380-48c5-99bf-2dfb8d2187ab"
      },
      "source": [
        "numbers = [random.randrange(0, 101) for _ in range(6)]\n",
        "print(numbers)\n",
        "print(sorted(numbers))\n",
        "print(find_median(numbers))"
      ],
      "execution_count": 36,
      "outputs": [
        {
          "output_type": "stream",
          "text": [
            "[21, 64, 29, 1, 98, 25]\n",
            "[1, 21, 25, 29, 64, 98]\n",
            "27.0\n"
          ],
          "name": "stdout"
        }
      ]
    }
  ]
}