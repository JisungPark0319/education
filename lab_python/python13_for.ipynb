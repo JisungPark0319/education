{
  "nbformat": 4,
  "nbformat_minor": 0,
  "metadata": {
    "colab": {
      "name": "python13_for.ipynb",
      "provenance": [],
      "collapsed_sections": [],
      "authorship_tag": "ABX9TyNnF88Mh/+wGtxbepboOZ2T",
      "include_colab_link": true
    },
    "kernelspec": {
      "name": "python3",
      "display_name": "Python 3"
    }
  },
  "cells": [
    {
      "cell_type": "markdown",
      "metadata": {
        "id": "view-in-github",
        "colab_type": "text"
      },
      "source": [
        "<a href=\"https://colab.research.google.com/github/JakeOh/202007_itw_bd18/blob/master/lab_python/python13_for.ipynb\" target=\"_parent\"><img src=\"https://colab.research.google.com/assets/colab-badge.svg\" alt=\"Open In Colab\"/></a>"
      ]
    },
    {
      "cell_type": "code",
      "metadata": {
        "id": "k5GVMij7kNwr",
        "colab_type": "code",
        "colab": {}
      },
      "source": [
        "# 난수를 사용하기 위한 모듈을 import\n",
        "import random"
      ],
      "execution_count": 1,
      "outputs": []
    },
    {
      "cell_type": "code",
      "metadata": {
        "id": "mtoFsF8Vkp-E",
        "colab_type": "code",
        "colab": {
          "base_uri": "https://localhost:8080/",
          "height": 35
        },
        "outputId": "c2369628-b015-45e5-8d93-247323e77954"
      },
      "source": [
        "# 빈(empty) 리스트 생성\n",
        "scores = []\n",
        "print(scores)"
      ],
      "execution_count": 24,
      "outputs": [
        {
          "output_type": "stream",
          "text": [
            "[]\n"
          ],
          "name": "stdout"
        }
      ]
    },
    {
      "cell_type": "code",
      "metadata": {
        "id": "J46v0iBLlQnP",
        "colab_type": "code",
        "colab": {
          "base_uri": "https://localhost:8080/",
          "height": 35
        },
        "outputId": "21c0f587-2c58-4808-e9fc-b3aa64d02448"
      },
      "source": [
        "# 리스트 scores에 0 이상 100 이하의 (정수) 난수 5개를 추가.\n",
        "# hint: append()\n",
        "# random.randrange(0, 101): 0 <= r < 101\n",
        "# random.randint(0, 100): 0 <= r <= 100\n",
        "\n",
        "for _ in range(5):\n",
        "    scores.append(random.randrange(0, 101))\n",
        "print(scores)"
      ],
      "execution_count": 25,
      "outputs": [
        {
          "output_type": "stream",
          "text": [
            "[31, 13, 85, 45, 50]\n"
          ],
          "name": "stdout"
        }
      ]
    },
    {
      "cell_type": "code",
      "metadata": {
        "id": "L2HL2eYmpdpi",
        "colab_type": "code",
        "colab": {
          "base_uri": "https://localhost:8080/",
          "height": 35
        },
        "outputId": "ca0c0c2a-74c0-433c-9079-38f9e54429c7"
      },
      "source": [
        "# 리스트 scores에 저장된 숫자들의 합\n",
        "total = 0\n",
        "for x in scores:\n",
        "    total += x  # total = total + x\n",
        "\n",
        "print(f'총점 = {total}')"
      ],
      "execution_count": 26,
      "outputs": [
        {
          "output_type": "stream",
          "text": [
            "총점 = 224\n"
          ],
          "name": "stdout"
        }
      ]
    },
    {
      "cell_type": "code",
      "metadata": {
        "id": "0MCvkavMrVvw",
        "colab_type": "code",
        "colab": {
          "base_uri": "https://localhost:8080/",
          "height": 35
        },
        "outputId": "c1b9ac1d-e43c-4ac7-dfb7-f9f3a781ba1c"
      },
      "source": [
        "# 리스트 scores에 저장된 숫자들의 평균\n",
        "average = total / len(scores)\n",
        "print(f'평균 = {average}')"
      ],
      "execution_count": 27,
      "outputs": [
        {
          "output_type": "stream",
          "text": [
            "평균 = 44.8\n"
          ],
          "name": "stdout"
        }
      ]
    },
    {
      "cell_type": "code",
      "metadata": {
        "id": "OwUfy8LbsAK2",
        "colab_type": "code",
        "colab": {
          "base_uri": "https://localhost:8080/",
          "height": 35
        },
        "outputId": "a26cec46-616d-4226-bf35-fbabbb96a5e8"
      },
      "source": [
        "# 리스트 scores에 저장된 숫자들의 분산(variance)\n",
        "sum_of_squares = 0  # 각 점수에서 평균을 뺀 값을 제곱해서 누적할 변수\n",
        "for x in scores:\n",
        "    sum_of_squares += (x - average) ** 2\n",
        "\n",
        "variance = sum_of_squares / len(scores)\n",
        "print(f'분산 = {variance}')"
      ],
      "execution_count": 28,
      "outputs": [
        {
          "output_type": "stream",
          "text": [
            "분산 = 568.9599999999999\n"
          ],
          "name": "stdout"
        }
      ]
    },
    {
      "cell_type": "code",
      "metadata": {
        "id": "bJEQpKbKyK6R",
        "colab_type": "code",
        "colab": {
          "base_uri": "https://localhost:8080/",
          "height": 35
        },
        "outputId": "a5a6c6c8-1ee0-4af2-955d-9b35005ea1ea"
      },
      "source": [
        "# 리스트 scores에 저장된 숫자들의 표준편차(standard deviation)\n",
        "import math  # math 모듈 사용\n",
        "\n",
        "std_dev = math.sqrt(variance)\n",
        "print(f'표준 편차 = {std_dev}')"
      ],
      "execution_count": 30,
      "outputs": [
        {
          "output_type": "stream",
          "text": [
            "표준 편차 = 23.852882425400917\n"
          ],
          "name": "stdout"
        }
      ]
    },
    {
      "cell_type": "code",
      "metadata": {
        "id": "OW3Rg56-zx2n",
        "colab_type": "code",
        "colab": {
          "base_uri": "https://localhost:8080/",
          "height": 35
        },
        "outputId": "a787b0fb-0cbc-4452-ac12-3473f21b23f7"
      },
      "source": [
        "# 리스트 scores에 저장된 값들 중에서 최댓값 찾기\n",
        "max_score = scores[0]  # 리스트의 첫번째 값을 최댓값이라고 가정.\n",
        "for x in scores:  # 리스트 scores의 원소들을 하나씩 꺼내면서\n",
        "    if max_score < x:  # 리스트의 원소가 더 크다면,\n",
        "        max_score = x  # 찾은 값을 최댓값으로 저장\n",
        "\n",
        "print(f'최댓값 = {max_score}')"
      ],
      "execution_count": 32,
      "outputs": [
        {
          "output_type": "stream",
          "text": [
            "최댓값 = 85\n"
          ],
          "name": "stdout"
        }
      ]
    },
    {
      "cell_type": "code",
      "metadata": {
        "id": "X8LlmhmP2xCH",
        "colab_type": "code",
        "colab": {
          "base_uri": "https://localhost:8080/",
          "height": 54
        },
        "outputId": "7f85d7f7-80c0-43a5-e2d6-4a5ca8088305"
      },
      "source": [
        "# 리스트 scores에 저장된 값들 중에서 최솟값 찾기\n",
        "print(scores)\n",
        "\n",
        "min_score = scores[0]\n",
        "for x in scores:\n",
        "    if min_score > x:\n",
        "        min_score = x\n",
        "\n",
        "print(f'최솟값 = {min_score}')"
      ],
      "execution_count": 34,
      "outputs": [
        {
          "output_type": "stream",
          "text": [
            "[31, 13, 85, 45, 50]\n",
            "최솟값 = 13\n"
          ],
          "name": "stdout"
        }
      ]
    },
    {
      "cell_type": "code",
      "metadata": {
        "id": "k-PKfaOV5KWO",
        "colab_type": "code",
        "colab": {
          "base_uri": "https://localhost:8080/",
          "height": 109
        },
        "outputId": "c079a74e-3305-4895-fd1a-ab204ad8fd98"
      },
      "source": [
        "# Python의 함수들\n",
        "print('sum =', sum(scores))  # sum(iterable): 합계\n",
        "print('max =', max(scores))  # max(iterable): 최댓값\n",
        "print('min =', min(scores))  # min(iterable): 최솟값\n",
        "\n",
        "sorted_scores = sorted(scores)  # sorted(iterable): 오름차순 정렬을 한 리스트를 반환.\n",
        "print(sorted_scores)\n",
        "\n",
        "desc_sorted_scores = sorted(scores, reverse=True)  # 내림차순 정렬을 한 리스트.\n",
        "print(desc_sorted_scores)"
      ],
      "execution_count": 39,
      "outputs": [
        {
          "output_type": "stream",
          "text": [
            "sum = 224\n",
            "max = 85\n",
            "min = 13\n",
            "[13, 31, 45, 50, 85]\n",
            "[85, 50, 45, 31, 13]\n"
          ],
          "name": "stdout"
        }
      ]
    }
  ]
}