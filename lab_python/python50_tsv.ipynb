{
  "nbformat": 4,
  "nbformat_minor": 0,
  "metadata": {
    "colab": {
      "name": "python50_tsv.ipynb",
      "provenance": [],
      "collapsed_sections": [],
      "authorship_tag": "ABX9TyPY6i9UGQKYrsl8mPzwIWtN",
      "include_colab_link": true
    },
    "kernelspec": {
      "name": "python3",
      "display_name": "Python 3"
    }
  },
  "cells": [
    {
      "cell_type": "markdown",
      "metadata": {
        "id": "view-in-github",
        "colab_type": "text"
      },
      "source": [
        "<a href=\"https://colab.research.google.com/github/JakeOh/202007_itw_bd18/blob/master/lab_python/python50_tsv.ipynb\" target=\"_parent\"><img src=\"https://colab.research.google.com/assets/colab-badge.svg\" alt=\"Open In Colab\"/></a>"
      ]
    },
    {
      "cell_type": "markdown",
      "metadata": {
        "id": "p6OlTiv9BIX7",
        "colab_type": "text"
      },
      "source": [
        "* github에 있는 gapminder.tsv 파일을 읽어서 데이터 프레임을 생성.\n",
        "* 데이터 프레임의 구조를 확인: shape, dtypes, columns, index, value_counts(), describe(), ..."
      ]
    },
    {
      "cell_type": "code",
      "metadata": {
        "id": "91W-gyBiCPqj",
        "colab_type": "code",
        "colab": {
          "base_uri": "https://localhost:8080/",
          "height": 78
        },
        "outputId": "b79998a2-31f0-448f-e465-9158f78c2c0e"
      },
      "source": [
        "import pandas as pd\n",
        "import matplotlib.pyplot as plt\n",
        "import seaborn as sns"
      ],
      "execution_count": 1,
      "outputs": [
        {
          "output_type": "stream",
          "text": [
            "/usr/local/lib/python3.6/dist-packages/statsmodels/tools/_testing.py:19: FutureWarning: pandas.util.testing is deprecated. Use the functions in the public API at pandas.testing instead.\n",
            "  import pandas.util.testing as tm\n"
          ],
          "name": "stderr"
        }
      ]
    },
    {
      "cell_type": "code",
      "metadata": {
        "id": "ASx_JZwyAicH",
        "colab_type": "code",
        "colab": {}
      },
      "source": [
        "file_path = 'https://raw.githubusercontent.com/JakeOh/202007_itw_bd18/master/lab_python/gapminder.tsv'\n",
        "gapminder = pd.read_csv(file_path, sep='\\t')"
      ],
      "execution_count": 2,
      "outputs": []
    },
    {
      "cell_type": "code",
      "metadata": {
        "id": "XViCC4fKCyAJ",
        "colab_type": "code",
        "colab": {
          "base_uri": "https://localhost:8080/",
          "height": 210
        },
        "outputId": "185cbe0f-1e52-46e0-bae8-7a001acf3999"
      },
      "source": [
        "# head\n",
        "gapminder.iloc[:5]  # iloc[], loc[]: 데이터 프레임의 row 선택"
      ],
      "execution_count": 3,
      "outputs": [
        {
          "output_type": "execute_result",
          "data": {
            "text/html": [
              "<div>\n",
              "<style scoped>\n",
              "    .dataframe tbody tr th:only-of-type {\n",
              "        vertical-align: middle;\n",
              "    }\n",
              "\n",
              "    .dataframe tbody tr th {\n",
              "        vertical-align: top;\n",
              "    }\n",
              "\n",
              "    .dataframe thead th {\n",
              "        text-align: right;\n",
              "    }\n",
              "</style>\n",
              "<table border=\"1\" class=\"dataframe\">\n",
              "  <thead>\n",
              "    <tr style=\"text-align: right;\">\n",
              "      <th></th>\n",
              "      <th>country</th>\n",
              "      <th>continent</th>\n",
              "      <th>year</th>\n",
              "      <th>lifeExp</th>\n",
              "      <th>pop</th>\n",
              "      <th>gdpPercap</th>\n",
              "    </tr>\n",
              "  </thead>\n",
              "  <tbody>\n",
              "    <tr>\n",
              "      <th>0</th>\n",
              "      <td>Afghanistan</td>\n",
              "      <td>Asia</td>\n",
              "      <td>1952</td>\n",
              "      <td>28.801</td>\n",
              "      <td>8425333</td>\n",
              "      <td>779.445314</td>\n",
              "    </tr>\n",
              "    <tr>\n",
              "      <th>1</th>\n",
              "      <td>Afghanistan</td>\n",
              "      <td>Asia</td>\n",
              "      <td>1957</td>\n",
              "      <td>30.332</td>\n",
              "      <td>9240934</td>\n",
              "      <td>820.853030</td>\n",
              "    </tr>\n",
              "    <tr>\n",
              "      <th>2</th>\n",
              "      <td>Afghanistan</td>\n",
              "      <td>Asia</td>\n",
              "      <td>1962</td>\n",
              "      <td>31.997</td>\n",
              "      <td>10267083</td>\n",
              "      <td>853.100710</td>\n",
              "    </tr>\n",
              "    <tr>\n",
              "      <th>3</th>\n",
              "      <td>Afghanistan</td>\n",
              "      <td>Asia</td>\n",
              "      <td>1967</td>\n",
              "      <td>34.020</td>\n",
              "      <td>11537966</td>\n",
              "      <td>836.197138</td>\n",
              "    </tr>\n",
              "    <tr>\n",
              "      <th>4</th>\n",
              "      <td>Afghanistan</td>\n",
              "      <td>Asia</td>\n",
              "      <td>1972</td>\n",
              "      <td>36.088</td>\n",
              "      <td>13079460</td>\n",
              "      <td>739.981106</td>\n",
              "    </tr>\n",
              "  </tbody>\n",
              "</table>\n",
              "</div>"
            ],
            "text/plain": [
              "       country continent  year  lifeExp       pop   gdpPercap\n",
              "0  Afghanistan      Asia  1952   28.801   8425333  779.445314\n",
              "1  Afghanistan      Asia  1957   30.332   9240934  820.853030\n",
              "2  Afghanistan      Asia  1962   31.997  10267083  853.100710\n",
              "3  Afghanistan      Asia  1967   34.020  11537966  836.197138\n",
              "4  Afghanistan      Asia  1972   36.088  13079460  739.981106"
            ]
          },
          "metadata": {
            "tags": []
          },
          "execution_count": 3
        }
      ]
    },
    {
      "cell_type": "code",
      "metadata": {
        "id": "DjY0LA9HC7ZK",
        "colab_type": "code",
        "colab": {
          "base_uri": "https://localhost:8080/",
          "height": 210
        },
        "outputId": "a778f0be-9c80-44f7-9859-19c8f01810b5"
      },
      "source": [
        "# tail\n",
        "gapminder.iloc[-5:]"
      ],
      "execution_count": 4,
      "outputs": [
        {
          "output_type": "execute_result",
          "data": {
            "text/html": [
              "<div>\n",
              "<style scoped>\n",
              "    .dataframe tbody tr th:only-of-type {\n",
              "        vertical-align: middle;\n",
              "    }\n",
              "\n",
              "    .dataframe tbody tr th {\n",
              "        vertical-align: top;\n",
              "    }\n",
              "\n",
              "    .dataframe thead th {\n",
              "        text-align: right;\n",
              "    }\n",
              "</style>\n",
              "<table border=\"1\" class=\"dataframe\">\n",
              "  <thead>\n",
              "    <tr style=\"text-align: right;\">\n",
              "      <th></th>\n",
              "      <th>country</th>\n",
              "      <th>continent</th>\n",
              "      <th>year</th>\n",
              "      <th>lifeExp</th>\n",
              "      <th>pop</th>\n",
              "      <th>gdpPercap</th>\n",
              "    </tr>\n",
              "  </thead>\n",
              "  <tbody>\n",
              "    <tr>\n",
              "      <th>1699</th>\n",
              "      <td>Zimbabwe</td>\n",
              "      <td>Africa</td>\n",
              "      <td>1987</td>\n",
              "      <td>62.351</td>\n",
              "      <td>9216418</td>\n",
              "      <td>706.157306</td>\n",
              "    </tr>\n",
              "    <tr>\n",
              "      <th>1700</th>\n",
              "      <td>Zimbabwe</td>\n",
              "      <td>Africa</td>\n",
              "      <td>1992</td>\n",
              "      <td>60.377</td>\n",
              "      <td>10704340</td>\n",
              "      <td>693.420786</td>\n",
              "    </tr>\n",
              "    <tr>\n",
              "      <th>1701</th>\n",
              "      <td>Zimbabwe</td>\n",
              "      <td>Africa</td>\n",
              "      <td>1997</td>\n",
              "      <td>46.809</td>\n",
              "      <td>11404948</td>\n",
              "      <td>792.449960</td>\n",
              "    </tr>\n",
              "    <tr>\n",
              "      <th>1702</th>\n",
              "      <td>Zimbabwe</td>\n",
              "      <td>Africa</td>\n",
              "      <td>2002</td>\n",
              "      <td>39.989</td>\n",
              "      <td>11926563</td>\n",
              "      <td>672.038623</td>\n",
              "    </tr>\n",
              "    <tr>\n",
              "      <th>1703</th>\n",
              "      <td>Zimbabwe</td>\n",
              "      <td>Africa</td>\n",
              "      <td>2007</td>\n",
              "      <td>43.487</td>\n",
              "      <td>12311143</td>\n",
              "      <td>469.709298</td>\n",
              "    </tr>\n",
              "  </tbody>\n",
              "</table>\n",
              "</div>"
            ],
            "text/plain": [
              "       country continent  year  lifeExp       pop   gdpPercap\n",
              "1699  Zimbabwe    Africa  1987   62.351   9216418  706.157306\n",
              "1700  Zimbabwe    Africa  1992   60.377  10704340  693.420786\n",
              "1701  Zimbabwe    Africa  1997   46.809  11404948  792.449960\n",
              "1702  Zimbabwe    Africa  2002   39.989  11926563  672.038623\n",
              "1703  Zimbabwe    Africa  2007   43.487  12311143  469.709298"
            ]
          },
          "metadata": {
            "tags": []
          },
          "execution_count": 4
        }
      ]
    },
    {
      "cell_type": "code",
      "metadata": {
        "id": "FLL5HwopDQ1p",
        "colab_type": "code",
        "colab": {
          "base_uri": "https://localhost:8080/",
          "height": 38
        },
        "outputId": "44cb2e67-8262-4b7b-eb7a-123d3b3d4da7"
      },
      "source": [
        "# (row, column)\n",
        "gapminder.shape"
      ],
      "execution_count": 5,
      "outputs": [
        {
          "output_type": "execute_result",
          "data": {
            "text/plain": [
              "(1704, 6)"
            ]
          },
          "metadata": {
            "tags": []
          },
          "execution_count": 5
        }
      ]
    },
    {
      "cell_type": "code",
      "metadata": {
        "id": "zFyLO1RJDVTb",
        "colab_type": "code",
        "colab": {
          "base_uri": "https://localhost:8080/",
          "height": 38
        },
        "outputId": "81ad0349-32a6-438b-8b1e-3a46be1ff9b7"
      },
      "source": [
        "gapminder.columns"
      ],
      "execution_count": 6,
      "outputs": [
        {
          "output_type": "execute_result",
          "data": {
            "text/plain": [
              "Index(['country', 'continent', 'year', 'lifeExp', 'pop', 'gdpPercap'], dtype='object')"
            ]
          },
          "metadata": {
            "tags": []
          },
          "execution_count": 6
        }
      ]
    },
    {
      "cell_type": "code",
      "metadata": {
        "id": "7d7-N40IDfda",
        "colab_type": "code",
        "colab": {
          "base_uri": "https://localhost:8080/",
          "height": 38
        },
        "outputId": "02108e98-b901-4675-8793-eb801bf8281b"
      },
      "source": [
        "gapminder.index"
      ],
      "execution_count": 7,
      "outputs": [
        {
          "output_type": "execute_result",
          "data": {
            "text/plain": [
              "RangeIndex(start=0, stop=1704, step=1)"
            ]
          },
          "metadata": {
            "tags": []
          },
          "execution_count": 7
        }
      ]
    },
    {
      "cell_type": "code",
      "metadata": {
        "id": "zkxYRtFqDiF5",
        "colab_type": "code",
        "colab": {
          "base_uri": "https://localhost:8080/",
          "height": 162
        },
        "outputId": "3e3920dd-610c-4a28-f9dd-1ea11d2390ed"
      },
      "source": [
        "gapminder.dtypes"
      ],
      "execution_count": 8,
      "outputs": [
        {
          "output_type": "execute_result",
          "data": {
            "text/plain": [
              "country       object\n",
              "continent     object\n",
              "year           int64\n",
              "lifeExp      float64\n",
              "pop            int64\n",
              "gdpPercap    float64\n",
              "dtype: object"
            ]
          },
          "metadata": {
            "tags": []
          },
          "execution_count": 8
        }
      ]
    },
    {
      "cell_type": "code",
      "metadata": {
        "id": "zYwo5uTiEBZ6",
        "colab_type": "code",
        "colab": {
          "base_uri": "https://localhost:8080/",
          "height": 266
        },
        "outputId": "8e2d2ab0-50ad-4dc0-c8d8-ad79d8cd619c"
      },
      "source": [
        "# data_frame['column_name']: 데이터 프레임에서 column을 선택.\n",
        "gapminder['country'].value_counts()"
      ],
      "execution_count": 9,
      "outputs": [
        {
          "output_type": "execute_result",
          "data": {
            "text/plain": [
              "Denmark        12\n",
              "Chad           12\n",
              "Sweden         12\n",
              "Morocco        12\n",
              "Lebanon        12\n",
              "               ..\n",
              "Uganda         12\n",
              "Brazil         12\n",
              "Bolivia        12\n",
              "Bangladesh     12\n",
              "El Salvador    12\n",
              "Name: country, Length: 142, dtype: int64"
            ]
          },
          "metadata": {
            "tags": []
          },
          "execution_count": 9
        }
      ]
    },
    {
      "cell_type": "code",
      "metadata": {
        "id": "maNnrvB5EPLe",
        "colab_type": "code",
        "colab": {
          "base_uri": "https://localhost:8080/",
          "height": 142
        },
        "outputId": "8a1ece01-fde1-4e13-9a20-064b16654504"
      },
      "source": [
        "gapminder['continent'].value_counts()"
      ],
      "execution_count": 10,
      "outputs": [
        {
          "output_type": "execute_result",
          "data": {
            "text/plain": [
              "Africa      624\n",
              "Asia        396\n",
              "Europe      360\n",
              "Americas    300\n",
              "Oceania      24\n",
              "Name: continent, dtype: int64"
            ]
          },
          "metadata": {
            "tags": []
          },
          "execution_count": 10
        }
      ]
    },
    {
      "cell_type": "code",
      "metadata": {
        "id": "LsJJetiXEctr",
        "colab_type": "code",
        "colab": {
          "base_uri": "https://localhost:8080/",
          "height": 306
        },
        "outputId": "5522225f-32e8-432d-8598-d06877d909c8"
      },
      "source": [
        "gapminder.describe()"
      ],
      "execution_count": 11,
      "outputs": [
        {
          "output_type": "execute_result",
          "data": {
            "text/html": [
              "<div>\n",
              "<style scoped>\n",
              "    .dataframe tbody tr th:only-of-type {\n",
              "        vertical-align: middle;\n",
              "    }\n",
              "\n",
              "    .dataframe tbody tr th {\n",
              "        vertical-align: top;\n",
              "    }\n",
              "\n",
              "    .dataframe thead th {\n",
              "        text-align: right;\n",
              "    }\n",
              "</style>\n",
              "<table border=\"1\" class=\"dataframe\">\n",
              "  <thead>\n",
              "    <tr style=\"text-align: right;\">\n",
              "      <th></th>\n",
              "      <th>year</th>\n",
              "      <th>lifeExp</th>\n",
              "      <th>pop</th>\n",
              "      <th>gdpPercap</th>\n",
              "    </tr>\n",
              "  </thead>\n",
              "  <tbody>\n",
              "    <tr>\n",
              "      <th>count</th>\n",
              "      <td>1704.00000</td>\n",
              "      <td>1704.000000</td>\n",
              "      <td>1.704000e+03</td>\n",
              "      <td>1704.000000</td>\n",
              "    </tr>\n",
              "    <tr>\n",
              "      <th>mean</th>\n",
              "      <td>1979.50000</td>\n",
              "      <td>59.474439</td>\n",
              "      <td>2.960121e+07</td>\n",
              "      <td>7215.327081</td>\n",
              "    </tr>\n",
              "    <tr>\n",
              "      <th>std</th>\n",
              "      <td>17.26533</td>\n",
              "      <td>12.917107</td>\n",
              "      <td>1.061579e+08</td>\n",
              "      <td>9857.454543</td>\n",
              "    </tr>\n",
              "    <tr>\n",
              "      <th>min</th>\n",
              "      <td>1952.00000</td>\n",
              "      <td>23.599000</td>\n",
              "      <td>6.001100e+04</td>\n",
              "      <td>241.165877</td>\n",
              "    </tr>\n",
              "    <tr>\n",
              "      <th>25%</th>\n",
              "      <td>1965.75000</td>\n",
              "      <td>48.198000</td>\n",
              "      <td>2.793664e+06</td>\n",
              "      <td>1202.060309</td>\n",
              "    </tr>\n",
              "    <tr>\n",
              "      <th>50%</th>\n",
              "      <td>1979.50000</td>\n",
              "      <td>60.712500</td>\n",
              "      <td>7.023596e+06</td>\n",
              "      <td>3531.846989</td>\n",
              "    </tr>\n",
              "    <tr>\n",
              "      <th>75%</th>\n",
              "      <td>1993.25000</td>\n",
              "      <td>70.845500</td>\n",
              "      <td>1.958522e+07</td>\n",
              "      <td>9325.462346</td>\n",
              "    </tr>\n",
              "    <tr>\n",
              "      <th>max</th>\n",
              "      <td>2007.00000</td>\n",
              "      <td>82.603000</td>\n",
              "      <td>1.318683e+09</td>\n",
              "      <td>113523.132900</td>\n",
              "    </tr>\n",
              "  </tbody>\n",
              "</table>\n",
              "</div>"
            ],
            "text/plain": [
              "             year      lifeExp           pop      gdpPercap\n",
              "count  1704.00000  1704.000000  1.704000e+03    1704.000000\n",
              "mean   1979.50000    59.474439  2.960121e+07    7215.327081\n",
              "std      17.26533    12.917107  1.061579e+08    9857.454543\n",
              "min    1952.00000    23.599000  6.001100e+04     241.165877\n",
              "25%    1965.75000    48.198000  2.793664e+06    1202.060309\n",
              "50%    1979.50000    60.712500  7.023596e+06    3531.846989\n",
              "75%    1993.25000    70.845500  1.958522e+07    9325.462346\n",
              "max    2007.00000    82.603000  1.318683e+09  113523.132900"
            ]
          },
          "metadata": {
            "tags": []
          },
          "execution_count": 11
        }
      ]
    },
    {
      "cell_type": "code",
      "metadata": {
        "id": "ozAFQlo_J3mU",
        "colab_type": "code",
        "colab": {
          "base_uri": "https://localhost:8080/",
          "height": 433
        },
        "outputId": "935edfef-78de-454a-ce43-a9ae0387b107"
      },
      "source": [
        "# 데이터 프레임에서 여러개의 컬럼들을 선택.\n",
        "# SQL: select country, year, gdpPercap from gapminder;\n",
        "# country, year, gdpPercap 선택\n",
        "gapminder[['country', 'year', 'gdpPercap']]"
      ],
      "execution_count": 12,
      "outputs": [
        {
          "output_type": "execute_result",
          "data": {
            "text/html": [
              "<div>\n",
              "<style scoped>\n",
              "    .dataframe tbody tr th:only-of-type {\n",
              "        vertical-align: middle;\n",
              "    }\n",
              "\n",
              "    .dataframe tbody tr th {\n",
              "        vertical-align: top;\n",
              "    }\n",
              "\n",
              "    .dataframe thead th {\n",
              "        text-align: right;\n",
              "    }\n",
              "</style>\n",
              "<table border=\"1\" class=\"dataframe\">\n",
              "  <thead>\n",
              "    <tr style=\"text-align: right;\">\n",
              "      <th></th>\n",
              "      <th>country</th>\n",
              "      <th>year</th>\n",
              "      <th>gdpPercap</th>\n",
              "    </tr>\n",
              "  </thead>\n",
              "  <tbody>\n",
              "    <tr>\n",
              "      <th>0</th>\n",
              "      <td>Afghanistan</td>\n",
              "      <td>1952</td>\n",
              "      <td>779.445314</td>\n",
              "    </tr>\n",
              "    <tr>\n",
              "      <th>1</th>\n",
              "      <td>Afghanistan</td>\n",
              "      <td>1957</td>\n",
              "      <td>820.853030</td>\n",
              "    </tr>\n",
              "    <tr>\n",
              "      <th>2</th>\n",
              "      <td>Afghanistan</td>\n",
              "      <td>1962</td>\n",
              "      <td>853.100710</td>\n",
              "    </tr>\n",
              "    <tr>\n",
              "      <th>3</th>\n",
              "      <td>Afghanistan</td>\n",
              "      <td>1967</td>\n",
              "      <td>836.197138</td>\n",
              "    </tr>\n",
              "    <tr>\n",
              "      <th>4</th>\n",
              "      <td>Afghanistan</td>\n",
              "      <td>1972</td>\n",
              "      <td>739.981106</td>\n",
              "    </tr>\n",
              "    <tr>\n",
              "      <th>...</th>\n",
              "      <td>...</td>\n",
              "      <td>...</td>\n",
              "      <td>...</td>\n",
              "    </tr>\n",
              "    <tr>\n",
              "      <th>1699</th>\n",
              "      <td>Zimbabwe</td>\n",
              "      <td>1987</td>\n",
              "      <td>706.157306</td>\n",
              "    </tr>\n",
              "    <tr>\n",
              "      <th>1700</th>\n",
              "      <td>Zimbabwe</td>\n",
              "      <td>1992</td>\n",
              "      <td>693.420786</td>\n",
              "    </tr>\n",
              "    <tr>\n",
              "      <th>1701</th>\n",
              "      <td>Zimbabwe</td>\n",
              "      <td>1997</td>\n",
              "      <td>792.449960</td>\n",
              "    </tr>\n",
              "    <tr>\n",
              "      <th>1702</th>\n",
              "      <td>Zimbabwe</td>\n",
              "      <td>2002</td>\n",
              "      <td>672.038623</td>\n",
              "    </tr>\n",
              "    <tr>\n",
              "      <th>1703</th>\n",
              "      <td>Zimbabwe</td>\n",
              "      <td>2007</td>\n",
              "      <td>469.709298</td>\n",
              "    </tr>\n",
              "  </tbody>\n",
              "</table>\n",
              "<p>1704 rows × 3 columns</p>\n",
              "</div>"
            ],
            "text/plain": [
              "          country  year   gdpPercap\n",
              "0     Afghanistan  1952  779.445314\n",
              "1     Afghanistan  1957  820.853030\n",
              "2     Afghanistan  1962  853.100710\n",
              "3     Afghanistan  1967  836.197138\n",
              "4     Afghanistan  1972  739.981106\n",
              "...           ...   ...         ...\n",
              "1699     Zimbabwe  1987  706.157306\n",
              "1700     Zimbabwe  1992  693.420786\n",
              "1701     Zimbabwe  1997  792.449960\n",
              "1702     Zimbabwe  2002  672.038623\n",
              "1703     Zimbabwe  2007  469.709298\n",
              "\n",
              "[1704 rows x 3 columns]"
            ]
          },
          "metadata": {
            "tags": []
          },
          "execution_count": 12
        }
      ]
    },
    {
      "cell_type": "markdown",
      "metadata": {
        "id": "JgSLJ8KIKh_G",
        "colab_type": "text"
      },
      "source": [
        "pandas.DataFrame의 통계 함수들"
      ]
    },
    {
      "cell_type": "code",
      "metadata": {
        "id": "kPKeAShyKgAh",
        "colab_type": "code",
        "colab": {
          "base_uri": "https://localhost:8080/",
          "height": 121
        },
        "outputId": "7f64487e-ad01-40b2-caa7-3a9696618282"
      },
      "source": [
        "# pandas.Series.method()\n",
        "print('평균:', gapminder['gdpPercap'].mean())\n",
        "print('표준편차:', gapminder['gdpPercap'].std())\n",
        "print('최솟값:', gapminder['gdpPercap'].min())\n",
        "print('최댓값:', gapminder['gdpPercap'].max())\n",
        "print('중앙값:', gapminder['gdpPercap'].median())"
      ],
      "execution_count": 19,
      "outputs": [
        {
          "output_type": "stream",
          "text": [
            "평균: 7215.327081212142\n",
            "표준편차: 9857.454542541445\n",
            "최솟값: 241.16587650000002\n",
            "최댓값: 113523.1329\n",
            "중앙값: 3531.8469885000004\n"
          ],
          "name": "stdout"
        }
      ]
    },
    {
      "cell_type": "code",
      "metadata": {
        "id": "fNjeLuzBNUU7",
        "colab_type": "code",
        "colab": {
          "base_uri": "https://localhost:8080/",
          "height": 121
        },
        "outputId": "dbf9a5f3-b4c8-47e0-f189-eae8cbb1319b"
      },
      "source": [
        "# pandas.DataFrame.method()\n",
        "# gapminder.mean()\n",
        "gapminder.mean(axis=0)  # row index가 증가하는 방향으로, 각 컬럼(변수) 마다 통계 처리 - 기본값"
      ],
      "execution_count": 21,
      "outputs": [
        {
          "output_type": "execute_result",
          "data": {
            "text/plain": [
              "year         1.979500e+03\n",
              "lifeExp      5.947444e+01\n",
              "pop          2.960121e+07\n",
              "gdpPercap    7.215327e+03\n",
              "dtype: float64"
            ]
          },
          "metadata": {
            "tags": []
          },
          "execution_count": 21
        }
      ]
    },
    {
      "cell_type": "code",
      "metadata": {
        "id": "gKWydTueOEvK",
        "colab_type": "code",
        "colab": {
          "base_uri": "https://localhost:8080/",
          "height": 266
        },
        "outputId": "501f1ba0-c95e-4d61-8e06-7a9b87a65744"
      },
      "source": [
        "gapminder.mean(axis=1)  # column index가 증가하는 방향으로, 각 row마다 통계 처리"
      ],
      "execution_count": 22,
      "outputs": [
        {
          "output_type": "execute_result",
          "data": {
            "text/plain": [
              "0       2.107023e+06\n",
              "1       2.310936e+06\n",
              "2       2.567483e+06\n",
              "3       2.885201e+06\n",
              "4       3.270552e+06\n",
              "            ...     \n",
              "1699    2.304793e+06\n",
              "1700    2.676771e+06\n",
              "1701    2.851946e+06\n",
              "1702    2.982319e+06\n",
              "1703    3.078416e+06\n",
              "Length: 1704, dtype: float64"
            ]
          },
          "metadata": {
            "tags": []
          },
          "execution_count": 22
        }
      ]
    },
    {
      "cell_type": "code",
      "metadata": {
        "id": "3SwKMSlmO7BI",
        "colab_type": "code",
        "colab": {
          "base_uri": "https://localhost:8080/",
          "height": 38
        },
        "outputId": "c5aff197-1de4-4bc2-f4e3-bac380839bd8"
      },
      "source": [
        "import numpy as np\n",
        "\n",
        "np.argmax(gapminder['gdpPercap'])  # gdpPercap 컬럼의 최댓값이 있는 인덱스"
      ],
      "execution_count": 24,
      "outputs": [
        {
          "output_type": "execute_result",
          "data": {
            "text/plain": [
              "853"
            ]
          },
          "metadata": {
            "tags": []
          },
          "execution_count": 24
        }
      ]
    },
    {
      "cell_type": "code",
      "metadata": {
        "id": "x9IdpxciPY96",
        "colab_type": "code",
        "colab": {
          "base_uri": "https://localhost:8080/",
          "height": 38
        },
        "outputId": "2ef1bb6d-d7cd-4a52-f7d5-f66707f51bd3"
      },
      "source": [
        "# pandas.Series.argmax(): Series의 최댓값이 있는 인덱스 위치(정수).\n",
        "gapminder['gdpPercap'].argmax()"
      ],
      "execution_count": 26,
      "outputs": [
        {
          "output_type": "execute_result",
          "data": {
            "text/plain": [
              "853"
            ]
          },
          "metadata": {
            "tags": []
          },
          "execution_count": 26
        }
      ]
    },
    {
      "cell_type": "code",
      "metadata": {
        "id": "UDGdyHHePnYu",
        "colab_type": "code",
        "colab": {
          "base_uri": "https://localhost:8080/",
          "height": 162
        },
        "outputId": "f1ed0e4f-74f4-4913-c3cf-95097673067a"
      },
      "source": [
        "gapminder.iloc[853]"
      ],
      "execution_count": 27,
      "outputs": [
        {
          "output_type": "execute_result",
          "data": {
            "text/plain": [
              "country      Kuwait\n",
              "continent      Asia\n",
              "year           1957\n",
              "lifeExp      58.033\n",
              "pop          212846\n",
              "gdpPercap    113523\n",
              "Name: 853, dtype: object"
            ]
          },
          "metadata": {
            "tags": []
          },
          "execution_count": 27
        }
      ]
    },
    {
      "cell_type": "code",
      "metadata": {
        "id": "2n85lQyAeXcM",
        "colab_type": "code",
        "colab": {
          "base_uri": "https://localhost:8080/",
          "height": 38
        },
        "outputId": "0c22a769-f69a-4e55-9cc8-7a92e91bd506"
      },
      "source": [
        "# pandas.Series.idxmax(): Series의 최댓값의 인덱스.\n",
        "gapminder['gdpPercap'].idxmax()"
      ],
      "execution_count": 45,
      "outputs": [
        {
          "output_type": "execute_result",
          "data": {
            "text/plain": [
              "853"
            ]
          },
          "metadata": {
            "tags": []
          },
          "execution_count": 45
        }
      ]
    },
    {
      "cell_type": "code",
      "metadata": {
        "id": "0DGn5s4Imhs0",
        "colab_type": "code",
        "colab": {
          "base_uri": "https://localhost:8080/",
          "height": 162
        },
        "outputId": "a20f85f5-37d1-4383-8f92-f92cf5e19c9a"
      },
      "source": [
        "gapminder.loc[853]"
      ],
      "execution_count": 46,
      "outputs": [
        {
          "output_type": "execute_result",
          "data": {
            "text/plain": [
              "country      Kuwait\n",
              "continent      Asia\n",
              "year           1957\n",
              "lifeExp      58.033\n",
              "pop          212846\n",
              "gdpPercap    113523\n",
              "Name: 853, dtype: object"
            ]
          },
          "metadata": {
            "tags": []
          },
          "execution_count": 46
        }
      ]
    },
    {
      "cell_type": "code",
      "metadata": {
        "id": "zuWfKwQPnI-U",
        "colab_type": "code",
        "colab": {
          "base_uri": "https://localhost:8080/",
          "height": 204
        },
        "outputId": "67d42cf6-26e9-41b0-e53f-d4fb42f8b38e"
      },
      "source": [
        "s = pd.Series(data=[1, 3, 5, 2, 4], index=['a', 'b', 'c', 'd', 'e'])\n",
        "print(s)\n",
        "print('최댓값:', s.max())\n",
        "print('argmax:', s.argmax(), s.iloc[s.argmax()])\n",
        "print('idxmax:', s.idxmax(), s.loc[s.idxmax()])"
      ],
      "execution_count": 53,
      "outputs": [
        {
          "output_type": "stream",
          "text": [
            "a    1\n",
            "b    3\n",
            "c    5\n",
            "d    2\n",
            "e    4\n",
            "dtype: int64\n",
            "최댓값: 5\n",
            "argmax: 2 5\n",
            "idxmax: c 5\n"
          ],
          "name": "stdout"
        }
      ]
    },
    {
      "cell_type": "code",
      "metadata": {
        "id": "bsGm4r4ZoQ_E",
        "colab_type": "code",
        "colab": {
          "base_uri": "https://localhost:8080/",
          "height": 58
        },
        "outputId": "9c575144-b26d-4e23-adac-76c80d78e53f"
      },
      "source": [
        "# gapminder 데이터 프레임에서 lifeExp의 최솟값, 최댓값\n",
        "min_lifeExp = gapminder['lifeExp'].min()\n",
        "max_lifeExp = gapminder['lifeExp'].max()\n",
        "print(min_lifeExp, max_lifeExp)\n",
        "\n",
        "idx_min_life = gapminder['lifeExp'].argmin()\n",
        "idx_max_life = gapminder['lifeExp'].argmax()\n",
        "print(idx_min_life, idx_max_life)"
      ],
      "execution_count": 55,
      "outputs": [
        {
          "output_type": "stream",
          "text": [
            "23.599 82.603\n",
            "1292 803\n"
          ],
          "name": "stdout"
        }
      ]
    },
    {
      "cell_type": "code",
      "metadata": {
        "id": "6w3NV-LNoZMy",
        "colab_type": "code",
        "colab": {
          "base_uri": "https://localhost:8080/",
          "height": 114
        },
        "outputId": "6cd40eed-99e6-467d-a653-e1c00181d599"
      },
      "source": [
        "# gapminder 데이터 프레임에서 lifeExp의 최솟값, 최댓값을 갖는 row를 출력\n",
        "gapminder.iloc[[idx_min_life, idx_max_life]]"
      ],
      "execution_count": 57,
      "outputs": [
        {
          "output_type": "execute_result",
          "data": {
            "text/html": [
              "<div>\n",
              "<style scoped>\n",
              "    .dataframe tbody tr th:only-of-type {\n",
              "        vertical-align: middle;\n",
              "    }\n",
              "\n",
              "    .dataframe tbody tr th {\n",
              "        vertical-align: top;\n",
              "    }\n",
              "\n",
              "    .dataframe thead th {\n",
              "        text-align: right;\n",
              "    }\n",
              "</style>\n",
              "<table border=\"1\" class=\"dataframe\">\n",
              "  <thead>\n",
              "    <tr style=\"text-align: right;\">\n",
              "      <th></th>\n",
              "      <th>country</th>\n",
              "      <th>continent</th>\n",
              "      <th>year</th>\n",
              "      <th>lifeExp</th>\n",
              "      <th>pop</th>\n",
              "      <th>gdpPercap</th>\n",
              "    </tr>\n",
              "  </thead>\n",
              "  <tbody>\n",
              "    <tr>\n",
              "      <th>1292</th>\n",
              "      <td>Rwanda</td>\n",
              "      <td>Africa</td>\n",
              "      <td>1992</td>\n",
              "      <td>23.599</td>\n",
              "      <td>7290203</td>\n",
              "      <td>737.068595</td>\n",
              "    </tr>\n",
              "    <tr>\n",
              "      <th>803</th>\n",
              "      <td>Japan</td>\n",
              "      <td>Asia</td>\n",
              "      <td>2007</td>\n",
              "      <td>82.603</td>\n",
              "      <td>127467972</td>\n",
              "      <td>31656.068060</td>\n",
              "    </tr>\n",
              "  </tbody>\n",
              "</table>\n",
              "</div>"
            ],
            "text/plain": [
              "     country continent  year  lifeExp        pop     gdpPercap\n",
              "1292  Rwanda    Africa  1992   23.599    7290203    737.068595\n",
              "803    Japan      Asia  2007   82.603  127467972  31656.068060"
            ]
          },
          "metadata": {
            "tags": []
          },
          "execution_count": 57
        }
      ]
    },
    {
      "cell_type": "code",
      "metadata": {
        "id": "z4gIc8Y8rE03",
        "colab_type": "code",
        "colab": {
          "base_uri": "https://localhost:8080/",
          "height": 114
        },
        "outputId": "c3db29b0-8573-4cd5-9e5f-0f73574e8c4a"
      },
      "source": [
        "# boolean indexing: data_frame[조건식]: 조건식이 True가 되는 row들을 선택.\n",
        "gapminder[(gapminder['lifeExp'] == min_lifeExp) | \n",
        "          (gapminder['lifeExp'] == max_lifeExp)]"
      ],
      "execution_count": 58,
      "outputs": [
        {
          "output_type": "execute_result",
          "data": {
            "text/html": [
              "<div>\n",
              "<style scoped>\n",
              "    .dataframe tbody tr th:only-of-type {\n",
              "        vertical-align: middle;\n",
              "    }\n",
              "\n",
              "    .dataframe tbody tr th {\n",
              "        vertical-align: top;\n",
              "    }\n",
              "\n",
              "    .dataframe thead th {\n",
              "        text-align: right;\n",
              "    }\n",
              "</style>\n",
              "<table border=\"1\" class=\"dataframe\">\n",
              "  <thead>\n",
              "    <tr style=\"text-align: right;\">\n",
              "      <th></th>\n",
              "      <th>country</th>\n",
              "      <th>continent</th>\n",
              "      <th>year</th>\n",
              "      <th>lifeExp</th>\n",
              "      <th>pop</th>\n",
              "      <th>gdpPercap</th>\n",
              "    </tr>\n",
              "  </thead>\n",
              "  <tbody>\n",
              "    <tr>\n",
              "      <th>803</th>\n",
              "      <td>Japan</td>\n",
              "      <td>Asia</td>\n",
              "      <td>2007</td>\n",
              "      <td>82.603</td>\n",
              "      <td>127467972</td>\n",
              "      <td>31656.068060</td>\n",
              "    </tr>\n",
              "    <tr>\n",
              "      <th>1292</th>\n",
              "      <td>Rwanda</td>\n",
              "      <td>Africa</td>\n",
              "      <td>1992</td>\n",
              "      <td>23.599</td>\n",
              "      <td>7290203</td>\n",
              "      <td>737.068595</td>\n",
              "    </tr>\n",
              "  </tbody>\n",
              "</table>\n",
              "</div>"
            ],
            "text/plain": [
              "     country continent  year  lifeExp        pop     gdpPercap\n",
              "803    Japan      Asia  2007   82.603  127467972  31656.068060\n",
              "1292  Rwanda    Africa  1992   23.599    7290203    737.068595"
            ]
          },
          "metadata": {
            "tags": []
          },
          "execution_count": 58
        }
      ]
    },
    {
      "cell_type": "code",
      "metadata": {
        "id": "4fB4aE8SrEqP",
        "colab_type": "code",
        "colab": {
          "base_uri": "https://localhost:8080/",
          "height": 121
        },
        "outputId": "15180856-2bfb-4fee-ff9b-1a0644db3871"
      },
      "source": [
        "s = pd.Series([1, 1, 2, 3, 4, 5])\n",
        "print(s.argmin())\n",
        "print(s.iloc[s.argmin()])\n",
        "print(s[s == s.min()])"
      ],
      "execution_count": 62,
      "outputs": [
        {
          "output_type": "stream",
          "text": [
            "0\n",
            "1\n",
            "0    1\n",
            "1    1\n",
            "dtype: int64\n"
          ],
          "name": "stdout"
        }
      ]
    },
    {
      "cell_type": "code",
      "metadata": {
        "id": "Z7BptZnCwrbn",
        "colab_type": "code",
        "colab": {
          "base_uri": "https://localhost:8080/",
          "height": 142
        },
        "outputId": "8e512894-4089-4c77-d1d4-b089cdd8001b"
      },
      "source": [
        "# gapminder 데이터 프레임에 대륙은 모두 몇 개?\n",
        "gapminder['continent'].value_counts()"
      ],
      "execution_count": 66,
      "outputs": [
        {
          "output_type": "execute_result",
          "data": {
            "text/plain": [
              "Africa      624\n",
              "Asia        396\n",
              "Europe      360\n",
              "Americas    300\n",
              "Oceania      24\n",
              "Name: continent, dtype: int64"
            ]
          },
          "metadata": {
            "tags": []
          },
          "execution_count": 66
        }
      ]
    },
    {
      "cell_type": "code",
      "metadata": {
        "id": "xIdzWL3wxXEm",
        "colab_type": "code",
        "colab": {
          "base_uri": "https://localhost:8080/",
          "height": 38
        },
        "outputId": "1b433943-de6e-4009-a46d-9887808cdad8"
      },
      "source": [
        "len(gapminder['continent'].value_counts())"
      ],
      "execution_count": 67,
      "outputs": [
        {
          "output_type": "execute_result",
          "data": {
            "text/plain": [
              "5"
            ]
          },
          "metadata": {
            "tags": []
          },
          "execution_count": 67
        }
      ]
    },
    {
      "cell_type": "code",
      "metadata": {
        "id": "V8vutQAExeh7",
        "colab_type": "code",
        "colab": {
          "base_uri": "https://localhost:8080/",
          "height": 38
        },
        "outputId": "c686e807-0397-4ea2-c32e-688eb01eff0e"
      },
      "source": [
        "gapminder['continent'].value_counts().index"
      ],
      "execution_count": 68,
      "outputs": [
        {
          "output_type": "execute_result",
          "data": {
            "text/plain": [
              "Index(['Africa', 'Asia', 'Europe', 'Americas', 'Oceania'], dtype='object')"
            ]
          },
          "metadata": {
            "tags": []
          },
          "execution_count": 68
        }
      ]
    },
    {
      "cell_type": "code",
      "metadata": {
        "id": "YjBdn4xWxl1e",
        "colab_type": "code",
        "colab": {
          "base_uri": "https://localhost:8080/",
          "height": 38
        },
        "outputId": "076abe23-24f3-4370-cdb1-323b2dcb347a"
      },
      "source": [
        "gapminder['continent'].unique()"
      ],
      "execution_count": 69,
      "outputs": [
        {
          "output_type": "execute_result",
          "data": {
            "text/plain": [
              "array(['Asia', 'Europe', 'Africa', 'Americas', 'Oceania'], dtype=object)"
            ]
          },
          "metadata": {
            "tags": []
          },
          "execution_count": 69
        }
      ]
    },
    {
      "cell_type": "code",
      "metadata": {
        "id": "c0IVoB3hxv8H",
        "colab_type": "code",
        "colab": {
          "base_uri": "https://localhost:8080/",
          "height": 38
        },
        "outputId": "81a2487d-68b3-44df-fe0c-0619cb107a58"
      },
      "source": [
        "len(gapminder['continent'].unique())"
      ],
      "execution_count": 70,
      "outputs": [
        {
          "output_type": "execute_result",
          "data": {
            "text/plain": [
              "5"
            ]
          },
          "metadata": {
            "tags": []
          },
          "execution_count": 70
        }
      ]
    },
    {
      "cell_type": "code",
      "metadata": {
        "id": "DxaqN0j1yPMH",
        "colab_type": "code",
        "colab": {
          "base_uri": "https://localhost:8080/",
          "height": 38
        },
        "outputId": "5b1cd138-aa52-45c7-b5c7-ac0f2268be99"
      },
      "source": [
        "# 나라 이름은 모두 몇개?\n",
        "len(gapminder['country'].unique())"
      ],
      "execution_count": 72,
      "outputs": [
        {
          "output_type": "execute_result",
          "data": {
            "text/plain": [
              "142"
            ]
          },
          "metadata": {
            "tags": []
          },
          "execution_count": 72
        }
      ]
    },
    {
      "cell_type": "code",
      "metadata": {
        "id": "gxuYZ1Hhya_3",
        "colab_type": "code",
        "colab": {
          "base_uri": "https://localhost:8080/",
          "height": 38
        },
        "outputId": "1fc3deab-8566-4e71-b77a-ba4817202b55"
      },
      "source": [
        "gapminder['country'].nunique()  # nunique(): number of unique values"
      ],
      "execution_count": 73,
      "outputs": [
        {
          "output_type": "execute_result",
          "data": {
            "text/plain": [
              "142"
            ]
          },
          "metadata": {
            "tags": []
          },
          "execution_count": 73
        }
      ]
    },
    {
      "cell_type": "code",
      "metadata": {
        "id": "ofUSEXCjywp_",
        "colab_type": "code",
        "colab": {
          "base_uri": "https://localhost:8080/",
          "height": 58
        },
        "outputId": "9685b933-8216-4423-bd4b-9aa1e5a121ea"
      },
      "source": [
        "# 중복되지 않는 연도를 모두 출력\n",
        "years = gapminder['year'].unique()\n",
        "years"
      ],
      "execution_count": 76,
      "outputs": [
        {
          "output_type": "execute_result",
          "data": {
            "text/plain": [
              "array([1952, 1957, 1962, 1967, 1972, 1977, 1982, 1987, 1992, 1997, 2002,\n",
              "       2007])"
            ]
          },
          "metadata": {
            "tags": []
          },
          "execution_count": 76
        }
      ]
    },
    {
      "cell_type": "code",
      "metadata": {
        "id": "uWWO8iDqzRBd",
        "colab_type": "code",
        "colab": {
          "base_uri": "https://localhost:8080/",
          "height": 266
        },
        "outputId": "300d98ca-fc1c-4f9b-d0cc-4cff0941cb8c"
      },
      "source": [
        "# 연도(year)별 lifeExp의 평균을 출력.\n",
        "mean_lifeExp = []  # 연도별 lifeExp의 평균을 저장하기 위한 empty list\n",
        "for year in years:\n",
        "    subset = gapminder[gapminder['year'] == year]  # 해당 연도 부분집합 찾음.\n",
        "    # print(year, ':', subset['lifeExp'].mean())\n",
        "    mean = subset['lifeExp'].mean()  # 부분집합에서 lifeExp 컬럼의 평균을 계산.\n",
        "    mean_lifeExp.append(mean)  # 계산된 평균을 리스트에 추가\n",
        "\n",
        "mean_lifeExp"
      ],
      "execution_count": 93,
      "outputs": [
        {
          "output_type": "execute_result",
          "data": {
            "text/plain": [
              "[49.05761971830987,\n",
              " 51.50740112676054,\n",
              " 53.60924901408449,\n",
              " 55.67828957746479,\n",
              " 57.64738647887325,\n",
              " 59.57015746478873,\n",
              " 61.53319718309858,\n",
              " 63.21261267605636,\n",
              " 64.16033802816901,\n",
              " 65.01467605633805,\n",
              " 65.69492253521126,\n",
              " 67.00742253521126]"
            ]
          },
          "metadata": {
            "tags": []
          },
          "execution_count": 93
        }
      ]
    },
    {
      "cell_type": "code",
      "metadata": {
        "id": "tVLkzLsx49C2",
        "colab_type": "code",
        "colab": {
          "base_uri": "https://localhost:8080/",
          "height": 287
        },
        "outputId": "7d671308-cdc7-4a81-be49-d35e1af6c6f9"
      },
      "source": [
        "mean_lifeExp_s = pd.Series(data=mean_lifeExp, index=years)\n",
        "mean_lifeExp_s"
      ],
      "execution_count": 94,
      "outputs": [
        {
          "output_type": "execute_result",
          "data": {
            "text/plain": [
              "1952    49.057620\n",
              "1957    51.507401\n",
              "1962    53.609249\n",
              "1967    55.678290\n",
              "1972    57.647386\n",
              "1977    59.570157\n",
              "1982    61.533197\n",
              "1987    63.212613\n",
              "1992    64.160338\n",
              "1997    65.014676\n",
              "2002    65.694923\n",
              "2007    67.007423\n",
              "dtype: float64"
            ]
          },
          "metadata": {
            "tags": []
          },
          "execution_count": 94
        }
      ]
    },
    {
      "cell_type": "code",
      "metadata": {
        "id": "P-CgR5NEzhU2",
        "colab_type": "code",
        "colab": {
          "base_uri": "https://localhost:8080/",
          "height": 268
        },
        "outputId": "f230b312-c323-4bc7-d0ae-083b0a19bfb0"
      },
      "source": [
        "# 연도(year)별 lifeExp의 평균을 그래프로 표현.\n",
        "plt.bar(x=mean_lifeExp_s.index, height=mean_lifeExp_s.values)\n",
        "plt.show()"
      ],
      "execution_count": 95,
      "outputs": [
        {
          "output_type": "display_data",
          "data": {
            "image/png": "[encoded data removed]",
            "text/plain": [
              "<Figure size 432x288 with 1 Axes>"
            ]
          },
          "metadata": {
            "tags": [],
            "needs_background": "light"
          }
        }
      ]
    },
    {
      "cell_type": "code",
      "metadata": {
        "id": "BuJXp7jt18gW",
        "colab_type": "code",
        "colab": {
          "base_uri": "https://localhost:8080/",
          "height": 265
        },
        "outputId": "5ac50608-a9f6-4974-d29e-7e7cccf0db6d"
      },
      "source": [
        "plt.plot(mean_lifeExp_s.index, mean_lifeExp_s.values, 'bo-')\n",
        "plt.show()"
      ],
      "execution_count": 97,
      "outputs": [
        {
          "output_type": "display_data",
          "data": {
            "image/png": "[encoded data removed]",
            "text/plain": [
              "<Figure size 432x288 with 1 Axes>"
            ]
          },
          "metadata": {
            "tags": [],
            "needs_background": "light"
          }
        }
      ]
    },
    {
      "cell_type": "code",
      "metadata": {
        "id": "lGchpeoj7IcG",
        "colab_type": "code",
        "colab": {
          "base_uri": "https://localhost:8080/",
          "height": 279
        },
        "outputId": "8c434c9c-4d18-46a6-b44b-0b7f1a49a6c8"
      },
      "source": [
        "sns.barplot(x='year', y='lifeExp', data=gapminder)\n",
        "plt.show()"
      ],
      "execution_count": 99,
      "outputs": [
        {
          "output_type": "display_data",
          "data": {
            "image/png": "[encoded data removed]",
            "text/plain": [
              "<Figure size 432x288 with 1 Axes>"
            ]
          },
          "metadata": {
            "tags": [],
            "needs_background": "light"
          }
        }
      ]
    },
    {
      "cell_type": "code",
      "metadata": {
        "id": "S0Uxs9vm7ix6",
        "colab_type": "code",
        "colab": {
          "base_uri": "https://localhost:8080/",
          "height": 279
        },
        "outputId": "51802393-51b7-4a8f-cc14-f6b619519dc8"
      },
      "source": [
        "sns.lineplot(x='year', y='lifeExp', data=gapminder, err_style=None, marker='o')\n",
        "plt.show()"
      ],
      "execution_count": 102,
      "outputs": [
        {
          "output_type": "display_data",
          "data": {
            "image/png": "[encoded data removed]",
            "text/plain": [
              "<Figure size 432x288 with 1 Axes>"
            ]
          },
          "metadata": {
            "tags": [],
            "needs_background": "light"
          }
        }
      ]
    },
    {
      "cell_type": "code",
      "metadata": {
        "id": "m61NvA0p_vZk",
        "colab_type": "code",
        "colab": {
          "base_uri": "https://localhost:8080/",
          "height": 287
        },
        "outputId": "b5fa09d7-05e4-41b1-ab3c-09c56b16d34f"
      },
      "source": [
        "# 연도별 gdpPercap의 평균 출력, 그래프\n",
        "mean_gdp = [gapminder[gapminder['year'] == year]['gdpPercap'].mean()\n",
        "            for year in years]\n",
        "mean_gdp_s = pd.Series(data=mean_gdp, index=years)\n",
        "mean_gdp_s"
      ],
      "execution_count": 104,
      "outputs": [
        {
          "output_type": "execute_result",
          "data": {
            "text/plain": [
              "1952     3725.276046\n",
              "1957     4299.408345\n",
              "1962     4725.812342\n",
              "1967     5483.653047\n",
              "1972     6770.082815\n",
              "1977     7313.166421\n",
              "1982     7518.901673\n",
              "1987     7900.920218\n",
              "1992     8158.608521\n",
              "1997     9090.175363\n",
              "2002     9917.848365\n",
              "2007    11680.071820\n",
              "dtype: float64"
            ]
          },
          "metadata": {
            "tags": []
          },
          "execution_count": 104
        }
      ]
    },
    {
      "cell_type": "code",
      "metadata": {
        "id": "jpZvVYUpCLkL",
        "colab_type": "code",
        "colab": {
          "base_uri": "https://localhost:8080/",
          "height": 267
        },
        "outputId": "50e99224-45af-40e7-cf37-71aded70785c"
      },
      "source": [
        "plt.plot(mean_gdp_s.index, mean_gdp_s.values,\n",
        "         color='blue', marker='o', linestyle='-')  # 'bo-'\n",
        "plt.show()"
      ],
      "execution_count": 105,
      "outputs": [
        {
          "output_type": "display_data",
          "data": {
            "image/png": "[encoded data removed]",
            "text/plain": [
              "<Figure size 432x288 with 1 Axes>"
            ]
          },
          "metadata": {
            "tags": [],
            "needs_background": "light"
          }
        }
      ]
    },
    {
      "cell_type": "code",
      "metadata": {
        "id": "HdSdDniZCm2m",
        "colab_type": "code",
        "colab": {
          "base_uri": "https://localhost:8080/",
          "height": 281
        },
        "outputId": "cdfa2993-2511-41f9-b767-08a8ef548d67"
      },
      "source": [
        "sns.lineplot(x='year', y='gdpPercap', data=gapminder, \n",
        "             err_style=None, marker='o')\n",
        "plt.show()"
      ],
      "execution_count": 106,
      "outputs": [
        {
          "output_type": "display_data",
          "data": {
            "image/png": "[encoded data removed]",
            "text/plain": [
              "<Figure size 432x288 with 1 Axes>"
            ]
          },
          "metadata": {
            "tags": [],
            "needs_background": "light"
          }
        }
      ]
    },
    {
      "cell_type": "code",
      "metadata": {
        "id": "fknmkqBqDLKl",
        "colab_type": "code",
        "colab": {
          "base_uri": "https://localhost:8080/",
          "height": 290
        },
        "outputId": "224e8d4f-5d09-4576-a0af-03133063a2ee"
      },
      "source": [
        "# 연도(year)별 전세계 인구 출력, 선그래프.\n",
        "sns.lineplot(x='year', y='pop', data=gapminder, estimator='sum',\n",
        "             err_style=None, marker='o')\n",
        "plt.show()"
      ],
      "execution_count": 109,
      "outputs": [
        {
          "output_type": "display_data",
          "data": {
            "image/png": "[encoded data removed]",
            "text/plain": [
              "<Figure size 432x288 with 1 Axes>"
            ]
          },
          "metadata": {
            "tags": [],
            "needs_background": "light"
          }
        }
      ]
    },
    {
      "cell_type": "code",
      "metadata": {
        "id": "xueqZxovHaMT",
        "colab_type": "code",
        "colab": {
          "base_uri": "https://localhost:8080/",
          "height": 287
        },
        "outputId": "047749d5-01a2-4441-c6f2-fc0286f540dc"
      },
      "source": [
        "total_pop = [gapminder[gapminder['year'] == year]['pop'].sum() \n",
        "             for year in years]\n",
        "total_pop_s = pd.Series(data=total_pop, index=years)\n",
        "total_pop_s"
      ],
      "execution_count": 111,
      "outputs": [
        {
          "output_type": "execute_result",
          "data": {
            "text/plain": [
              "1952    2406957150\n",
              "1957    2664404580\n",
              "1962    2899782974\n",
              "1967    3217478384\n",
              "1972    3576977158\n",
              "1977    3930045807\n",
              "1982    4289436840\n",
              "1987    4691477418\n",
              "1992    5110710260\n",
              "1997    5515204472\n",
              "2002    5886977579\n",
              "2007    6251013179\n",
              "dtype: int64"
            ]
          },
          "metadata": {
            "tags": []
          },
          "execution_count": 111
        }
      ]
    },
    {
      "cell_type": "code",
      "metadata": {
        "id": "hy-1BNFNIIKL",
        "colab_type": "code",
        "colab": {
          "base_uri": "https://localhost:8080/",
          "height": 276
        },
        "outputId": "37f31db8-072e-44fe-af0b-294ec2de4435"
      },
      "source": [
        "plt.plot(total_pop_s, marker='o')\n",
        "plt.show()"
      ],
      "execution_count": 113,
      "outputs": [
        {
          "output_type": "display_data",
          "data": {
            "image/png": "[encoded data removed]",
            "text/plain": [
              "<Figure size 432x288 with 1 Axes>"
            ]
          },
          "metadata": {
            "tags": [],
            "needs_background": "light"
          }
        }
      ]
    },
    {
      "cell_type": "code",
      "metadata": {
        "id": "_P6qn4vYEKxi",
        "colab_type": "code",
        "colab": {
          "base_uri": "https://localhost:8080/",
          "height": 290
        },
        "outputId": "0d4930af-0980-4437-fa9b-93e30f86c5c6"
      },
      "source": [
        "# 연도별 인구 선 그래프를 대륙별로 5개의 선으로 표현.\n",
        "sns.lineplot(x='year', y='pop', hue='continent', data=gapminder,\n",
        "             estimator='sum', err_style=None, marker='o')\n",
        "plt.show()"
      ],
      "execution_count": 114,
      "outputs": [
        {
          "output_type": "display_data",
          "data": {
            "image/png": "[encoded data removed]",
            "text/plain": [
              "<Figure size 432x288 with 1 Axes>"
            ]
          },
          "metadata": {
            "tags": [],
            "needs_background": "light"
          }
        }
      ]
    },
    {
      "cell_type": "code",
      "metadata": {
        "id": "uUdqORciPZvD",
        "colab_type": "code",
        "colab": {
          "base_uri": "https://localhost:8080/",
          "height": 290
        },
        "outputId": "0d3ffa01-0a36-4c19-c628-de5a45d16ba7"
      },
      "source": [
        "continents = gapminder['continent'].unique()\n",
        "years = gapminder['year'].unique()\n",
        "\n",
        "for continent in continents:\n",
        "    # 대륙별 부분 집합\n",
        "    gapminder_by_continent = gapminder[gapminder['continent'] == continent]\n",
        "    total_pop = [gapminder_by_continent[gapminder_by_continent['year'] == year]['pop'].sum()\n",
        "                 for year in years]\n",
        "    total_pop_s = pd.Series(data=total_pop, index=years)\n",
        "    plt.plot(total_pop_s, marker='o', label=continent)\n",
        "\n",
        "plt.legend()\n",
        "plt.xlabel('year')\n",
        "plt.ylabel('population')\n",
        "plt.show()"
      ],
      "execution_count": 124,
      "outputs": [
        {
          "output_type": "display_data",
          "data": {
            "image/png": "[encoded data removed]",
            "text/plain": [
              "<Figure size 432x288 with 1 Axes>"
            ]
          },
          "metadata": {
            "tags": [],
            "needs_background": "light"
          }
        }
      ]
    },
    {
      "cell_type": "code",
      "metadata": {
        "id": "tgjdGxHKS9io",
        "colab_type": "code",
        "colab": {
          "base_uri": "https://localhost:8080/",
          "height": 434
        },
        "outputId": "cd7cd61f-33b7-498b-e043-dbfc7a28da0c"
      },
      "source": [
        "# 대한민국(Korea, Rep.) 데이터(레코드)를 출력\n",
        "gapminder[gapminder['country'] == 'Korea, Rep.']"
      ],
      "execution_count": 129,
      "outputs": [
        {
          "output_type": "execute_result",
          "data": {
            "text/html": [
              "<div>\n",
              "<style scoped>\n",
              "    .dataframe tbody tr th:only-of-type {\n",
              "        vertical-align: middle;\n",
              "    }\n",
              "\n",
              "    .dataframe tbody tr th {\n",
              "        vertical-align: top;\n",
              "    }\n",
              "\n",
              "    .dataframe thead th {\n",
              "        text-align: right;\n",
              "    }\n",
              "</style>\n",
              "<table border=\"1\" class=\"dataframe\">\n",
              "  <thead>\n",
              "    <tr style=\"text-align: right;\">\n",
              "      <th></th>\n",
              "      <th>country</th>\n",
              "      <th>continent</th>\n",
              "      <th>year</th>\n",
              "      <th>lifeExp</th>\n",
              "      <th>pop</th>\n",
              "      <th>gdpPercap</th>\n",
              "    </tr>\n",
              "  </thead>\n",
              "  <tbody>\n",
              "    <tr>\n",
              "      <th>840</th>\n",
              "      <td>Korea, Rep.</td>\n",
              "      <td>Asia</td>\n",
              "      <td>1952</td>\n",
              "      <td>47.453</td>\n",
              "      <td>20947571</td>\n",
              "      <td>1030.592226</td>\n",
              "    </tr>\n",
              "    <tr>\n",
              "      <th>841</th>\n",
              "      <td>Korea, Rep.</td>\n",
              "      <td>Asia</td>\n",
              "      <td>1957</td>\n",
              "      <td>52.681</td>\n",
              "      <td>22611552</td>\n",
              "      <td>1487.593537</td>\n",
              "    </tr>\n",
              "    <tr>\n",
              "      <th>842</th>\n",
              "      <td>Korea, Rep.</td>\n",
              "      <td>Asia</td>\n",
              "      <td>1962</td>\n",
              "      <td>55.292</td>\n",
              "      <td>26420307</td>\n",
              "      <td>1536.344387</td>\n",
              "    </tr>\n",
              "    <tr>\n",
              "      <th>843</th>\n",
              "      <td>Korea, Rep.</td>\n",
              "      <td>Asia</td>\n",
              "      <td>1967</td>\n",
              "      <td>57.716</td>\n",
              "      <td>30131000</td>\n",
              "      <td>2029.228142</td>\n",
              "    </tr>\n",
              "    <tr>\n",
              "      <th>844</th>\n",
              "      <td>Korea, Rep.</td>\n",
              "      <td>Asia</td>\n",
              "      <td>1972</td>\n",
              "      <td>62.612</td>\n",
              "      <td>33505000</td>\n",
              "      <td>3030.876650</td>\n",
              "    </tr>\n",
              "    <tr>\n",
              "      <th>845</th>\n",
              "      <td>Korea, Rep.</td>\n",
              "      <td>Asia</td>\n",
              "      <td>1977</td>\n",
              "      <td>64.766</td>\n",
              "      <td>36436000</td>\n",
              "      <td>4657.221020</td>\n",
              "    </tr>\n",
              "    <tr>\n",
              "      <th>846</th>\n",
              "      <td>Korea, Rep.</td>\n",
              "      <td>Asia</td>\n",
              "      <td>1982</td>\n",
              "      <td>67.123</td>\n",
              "      <td>39326000</td>\n",
              "      <td>5622.942464</td>\n",
              "    </tr>\n",
              "    <tr>\n",
              "      <th>847</th>\n",
              "      <td>Korea, Rep.</td>\n",
              "      <td>Asia</td>\n",
              "      <td>1987</td>\n",
              "      <td>69.810</td>\n",
              "      <td>41622000</td>\n",
              "      <td>8533.088805</td>\n",
              "    </tr>\n",
              "    <tr>\n",
              "      <th>848</th>\n",
              "      <td>Korea, Rep.</td>\n",
              "      <td>Asia</td>\n",
              "      <td>1992</td>\n",
              "      <td>72.244</td>\n",
              "      <td>43805450</td>\n",
              "      <td>12104.278720</td>\n",
              "    </tr>\n",
              "    <tr>\n",
              "      <th>849</th>\n",
              "      <td>Korea, Rep.</td>\n",
              "      <td>Asia</td>\n",
              "      <td>1997</td>\n",
              "      <td>74.647</td>\n",
              "      <td>46173816</td>\n",
              "      <td>15993.527960</td>\n",
              "    </tr>\n",
              "    <tr>\n",
              "      <th>850</th>\n",
              "      <td>Korea, Rep.</td>\n",
              "      <td>Asia</td>\n",
              "      <td>2002</td>\n",
              "      <td>77.045</td>\n",
              "      <td>47969150</td>\n",
              "      <td>19233.988180</td>\n",
              "    </tr>\n",
              "    <tr>\n",
              "      <th>851</th>\n",
              "      <td>Korea, Rep.</td>\n",
              "      <td>Asia</td>\n",
              "      <td>2007</td>\n",
              "      <td>78.623</td>\n",
              "      <td>49044790</td>\n",
              "      <td>23348.139730</td>\n",
              "    </tr>\n",
              "  </tbody>\n",
              "</table>\n",
              "</div>"
            ],
            "text/plain": [
              "         country continent  year  lifeExp       pop     gdpPercap\n",
              "840  Korea, Rep.      Asia  1952   47.453  20947571   1030.592226\n",
              "841  Korea, Rep.      Asia  1957   52.681  22611552   1487.593537\n",
              "842  Korea, Rep.      Asia  1962   55.292  26420307   1536.344387\n",
              "843  Korea, Rep.      Asia  1967   57.716  30131000   2029.228142\n",
              "844  Korea, Rep.      Asia  1972   62.612  33505000   3030.876650\n",
              "845  Korea, Rep.      Asia  1977   64.766  36436000   4657.221020\n",
              "846  Korea, Rep.      Asia  1982   67.123  39326000   5622.942464\n",
              "847  Korea, Rep.      Asia  1987   69.810  41622000   8533.088805\n",
              "848  Korea, Rep.      Asia  1992   72.244  43805450  12104.278720\n",
              "849  Korea, Rep.      Asia  1997   74.647  46173816  15993.527960\n",
              "850  Korea, Rep.      Asia  2002   77.045  47969150  19233.988180\n",
              "851  Korea, Rep.      Asia  2007   78.623  49044790  23348.139730"
            ]
          },
          "metadata": {
            "tags": []
          },
          "execution_count": 129
        }
      ]
    },
    {
      "cell_type": "code",
      "metadata": {
        "id": "wbqpdNemVO82",
        "colab_type": "code",
        "colab": {
          "base_uri": "https://localhost:8080/",
          "height": 434
        },
        "outputId": "d9d46f7f-06f7-4b2d-b1b1-eb1260674c16"
      },
      "source": [
        "gapminder[gapminder['country'].str.upper() == 'KOREA, REP.']"
      ],
      "execution_count": 131,
      "outputs": [
        {
          "output_type": "execute_result",
          "data": {
            "text/html": [
              "<div>\n",
              "<style scoped>\n",
              "    .dataframe tbody tr th:only-of-type {\n",
              "        vertical-align: middle;\n",
              "    }\n",
              "\n",
              "    .dataframe tbody tr th {\n",
              "        vertical-align: top;\n",
              "    }\n",
              "\n",
              "    .dataframe thead th {\n",
              "        text-align: right;\n",
              "    }\n",
              "</style>\n",
              "<table border=\"1\" class=\"dataframe\">\n",
              "  <thead>\n",
              "    <tr style=\"text-align: right;\">\n",
              "      <th></th>\n",
              "      <th>country</th>\n",
              "      <th>continent</th>\n",
              "      <th>year</th>\n",
              "      <th>lifeExp</th>\n",
              "      <th>pop</th>\n",
              "      <th>gdpPercap</th>\n",
              "    </tr>\n",
              "  </thead>\n",
              "  <tbody>\n",
              "    <tr>\n",
              "      <th>840</th>\n",
              "      <td>Korea, Rep.</td>\n",
              "      <td>Asia</td>\n",
              "      <td>1952</td>\n",
              "      <td>47.453</td>\n",
              "      <td>20947571</td>\n",
              "      <td>1030.592226</td>\n",
              "    </tr>\n",
              "    <tr>\n",
              "      <th>841</th>\n",
              "      <td>Korea, Rep.</td>\n",
              "      <td>Asia</td>\n",
              "      <td>1957</td>\n",
              "      <td>52.681</td>\n",
              "      <td>22611552</td>\n",
              "      <td>1487.593537</td>\n",
              "    </tr>\n",
              "    <tr>\n",
              "      <th>842</th>\n",
              "      <td>Korea, Rep.</td>\n",
              "      <td>Asia</td>\n",
              "      <td>1962</td>\n",
              "      <td>55.292</td>\n",
              "      <td>26420307</td>\n",
              "      <td>1536.344387</td>\n",
              "    </tr>\n",
              "    <tr>\n",
              "      <th>843</th>\n",
              "      <td>Korea, Rep.</td>\n",
              "      <td>Asia</td>\n",
              "      <td>1967</td>\n",
              "      <td>57.716</td>\n",
              "      <td>30131000</td>\n",
              "      <td>2029.228142</td>\n",
              "    </tr>\n",
              "    <tr>\n",
              "      <th>844</th>\n",
              "      <td>Korea, Rep.</td>\n",
              "      <td>Asia</td>\n",
              "      <td>1972</td>\n",
              "      <td>62.612</td>\n",
              "      <td>33505000</td>\n",
              "      <td>3030.876650</td>\n",
              "    </tr>\n",
              "    <tr>\n",
              "      <th>845</th>\n",
              "      <td>Korea, Rep.</td>\n",
              "      <td>Asia</td>\n",
              "      <td>1977</td>\n",
              "      <td>64.766</td>\n",
              "      <td>36436000</td>\n",
              "      <td>4657.221020</td>\n",
              "    </tr>\n",
              "    <tr>\n",
              "      <th>846</th>\n",
              "      <td>Korea, Rep.</td>\n",
              "      <td>Asia</td>\n",
              "      <td>1982</td>\n",
              "      <td>67.123</td>\n",
              "      <td>39326000</td>\n",
              "      <td>5622.942464</td>\n",
              "    </tr>\n",
              "    <tr>\n",
              "      <th>847</th>\n",
              "      <td>Korea, Rep.</td>\n",
              "      <td>Asia</td>\n",
              "      <td>1987</td>\n",
              "      <td>69.810</td>\n",
              "      <td>41622000</td>\n",
              "      <td>8533.088805</td>\n",
              "    </tr>\n",
              "    <tr>\n",
              "      <th>848</th>\n",
              "      <td>Korea, Rep.</td>\n",
              "      <td>Asia</td>\n",
              "      <td>1992</td>\n",
              "      <td>72.244</td>\n",
              "      <td>43805450</td>\n",
              "      <td>12104.278720</td>\n",
              "    </tr>\n",
              "    <tr>\n",
              "      <th>849</th>\n",
              "      <td>Korea, Rep.</td>\n",
              "      <td>Asia</td>\n",
              "      <td>1997</td>\n",
              "      <td>74.647</td>\n",
              "      <td>46173816</td>\n",
              "      <td>15993.527960</td>\n",
              "    </tr>\n",
              "    <tr>\n",
              "      <th>850</th>\n",
              "      <td>Korea, Rep.</td>\n",
              "      <td>Asia</td>\n",
              "      <td>2002</td>\n",
              "      <td>77.045</td>\n",
              "      <td>47969150</td>\n",
              "      <td>19233.988180</td>\n",
              "    </tr>\n",
              "    <tr>\n",
              "      <th>851</th>\n",
              "      <td>Korea, Rep.</td>\n",
              "      <td>Asia</td>\n",
              "      <td>2007</td>\n",
              "      <td>78.623</td>\n",
              "      <td>49044790</td>\n",
              "      <td>23348.139730</td>\n",
              "    </tr>\n",
              "  </tbody>\n",
              "</table>\n",
              "</div>"
            ],
            "text/plain": [
              "         country continent  year  lifeExp       pop     gdpPercap\n",
              "840  Korea, Rep.      Asia  1952   47.453  20947571   1030.592226\n",
              "841  Korea, Rep.      Asia  1957   52.681  22611552   1487.593537\n",
              "842  Korea, Rep.      Asia  1962   55.292  26420307   1536.344387\n",
              "843  Korea, Rep.      Asia  1967   57.716  30131000   2029.228142\n",
              "844  Korea, Rep.      Asia  1972   62.612  33505000   3030.876650\n",
              "845  Korea, Rep.      Asia  1977   64.766  36436000   4657.221020\n",
              "846  Korea, Rep.      Asia  1982   67.123  39326000   5622.942464\n",
              "847  Korea, Rep.      Asia  1987   69.810  41622000   8533.088805\n",
              "848  Korea, Rep.      Asia  1992   72.244  43805450  12104.278720\n",
              "849  Korea, Rep.      Asia  1997   74.647  46173816  15993.527960\n",
              "850  Korea, Rep.      Asia  2002   77.045  47969150  19233.988180\n",
              "851  Korea, Rep.      Asia  2007   78.623  49044790  23348.139730"
            ]
          },
          "metadata": {
            "tags": []
          },
          "execution_count": 131
        }
      ]
    },
    {
      "cell_type": "code",
      "metadata": {
        "id": "TZJEEY5eV9mz",
        "colab_type": "code",
        "colab": {
          "base_uri": "https://localhost:8080/",
          "height": 818
        },
        "outputId": "4564ce71-5652-4a9b-e530-41f50913a535"
      },
      "source": [
        "gapminder[gapminder['country'].str.contains('Korea')]"
      ],
      "execution_count": 132,
      "outputs": [
        {
          "output_type": "execute_result",
          "data": {
            "text/html": [
              "<div>\n",
              "<style scoped>\n",
              "    .dataframe tbody tr th:only-of-type {\n",
              "        vertical-align: middle;\n",
              "    }\n",
              "\n",
              "    .dataframe tbody tr th {\n",
              "        vertical-align: top;\n",
              "    }\n",
              "\n",
              "    .dataframe thead th {\n",
              "        text-align: right;\n",
              "    }\n",
              "</style>\n",
              "<table border=\"1\" class=\"dataframe\">\n",
              "  <thead>\n",
              "    <tr style=\"text-align: right;\">\n",
              "      <th></th>\n",
              "      <th>country</th>\n",
              "      <th>continent</th>\n",
              "      <th>year</th>\n",
              "      <th>lifeExp</th>\n",
              "      <th>pop</th>\n",
              "      <th>gdpPercap</th>\n",
              "    </tr>\n",
              "  </thead>\n",
              "  <tbody>\n",
              "    <tr>\n",
              "      <th>828</th>\n",
              "      <td>Korea, Dem. Rep.</td>\n",
              "      <td>Asia</td>\n",
              "      <td>1952</td>\n",
              "      <td>50.056</td>\n",
              "      <td>8865488</td>\n",
              "      <td>1088.277758</td>\n",
              "    </tr>\n",
              "    <tr>\n",
              "      <th>829</th>\n",
              "      <td>Korea, Dem. Rep.</td>\n",
              "      <td>Asia</td>\n",
              "      <td>1957</td>\n",
              "      <td>54.081</td>\n",
              "      <td>9411381</td>\n",
              "      <td>1571.134655</td>\n",
              "    </tr>\n",
              "    <tr>\n",
              "      <th>830</th>\n",
              "      <td>Korea, Dem. Rep.</td>\n",
              "      <td>Asia</td>\n",
              "      <td>1962</td>\n",
              "      <td>56.656</td>\n",
              "      <td>10917494</td>\n",
              "      <td>1621.693598</td>\n",
              "    </tr>\n",
              "    <tr>\n",
              "      <th>831</th>\n",
              "      <td>Korea, Dem. Rep.</td>\n",
              "      <td>Asia</td>\n",
              "      <td>1967</td>\n",
              "      <td>59.942</td>\n",
              "      <td>12617009</td>\n",
              "      <td>2143.540609</td>\n",
              "    </tr>\n",
              "    <tr>\n",
              "      <th>832</th>\n",
              "      <td>Korea, Dem. Rep.</td>\n",
              "      <td>Asia</td>\n",
              "      <td>1972</td>\n",
              "      <td>63.983</td>\n",
              "      <td>14781241</td>\n",
              "      <td>3701.621503</td>\n",
              "    </tr>\n",
              "    <tr>\n",
              "      <th>833</th>\n",
              "      <td>Korea, Dem. Rep.</td>\n",
              "      <td>Asia</td>\n",
              "      <td>1977</td>\n",
              "      <td>67.159</td>\n",
              "      <td>16325320</td>\n",
              "      <td>4106.301249</td>\n",
              "    </tr>\n",
              "    <tr>\n",
              "      <th>834</th>\n",
              "      <td>Korea, Dem. Rep.</td>\n",
              "      <td>Asia</td>\n",
              "      <td>1982</td>\n",
              "      <td>69.100</td>\n",
              "      <td>17647518</td>\n",
              "      <td>4106.525293</td>\n",
              "    </tr>\n",
              "    <tr>\n",
              "      <th>835</th>\n",
              "      <td>Korea, Dem. Rep.</td>\n",
              "      <td>Asia</td>\n",
              "      <td>1987</td>\n",
              "      <td>70.647</td>\n",
              "      <td>19067554</td>\n",
              "      <td>4106.492315</td>\n",
              "    </tr>\n",
              "    <tr>\n",
              "      <th>836</th>\n",
              "      <td>Korea, Dem. Rep.</td>\n",
              "      <td>Asia</td>\n",
              "      <td>1992</td>\n",
              "      <td>69.978</td>\n",
              "      <td>20711375</td>\n",
              "      <td>3726.063507</td>\n",
              "    </tr>\n",
              "    <tr>\n",
              "      <th>837</th>\n",
              "      <td>Korea, Dem. Rep.</td>\n",
              "      <td>Asia</td>\n",
              "      <td>1997</td>\n",
              "      <td>67.727</td>\n",
              "      <td>21585105</td>\n",
              "      <td>1690.756814</td>\n",
              "    </tr>\n",
              "    <tr>\n",
              "      <th>838</th>\n",
              "      <td>Korea, Dem. Rep.</td>\n",
              "      <td>Asia</td>\n",
              "      <td>2002</td>\n",
              "      <td>66.662</td>\n",
              "      <td>22215365</td>\n",
              "      <td>1646.758151</td>\n",
              "    </tr>\n",
              "    <tr>\n",
              "      <th>839</th>\n",
              "      <td>Korea, Dem. Rep.</td>\n",
              "      <td>Asia</td>\n",
              "      <td>2007</td>\n",
              "      <td>67.297</td>\n",
              "      <td>23301725</td>\n",
              "      <td>1593.065480</td>\n",
              "    </tr>\n",
              "    <tr>\n",
              "      <th>840</th>\n",
              "      <td>Korea, Rep.</td>\n",
              "      <td>Asia</td>\n",
              "      <td>1952</td>\n",
              "      <td>47.453</td>\n",
              "      <td>20947571</td>\n",
              "      <td>1030.592226</td>\n",
              "    </tr>\n",
              "    <tr>\n",
              "      <th>841</th>\n",
              "      <td>Korea, Rep.</td>\n",
              "      <td>Asia</td>\n",
              "      <td>1957</td>\n",
              "      <td>52.681</td>\n",
              "      <td>22611552</td>\n",
              "      <td>1487.593537</td>\n",
              "    </tr>\n",
              "    <tr>\n",
              "      <th>842</th>\n",
              "      <td>Korea, Rep.</td>\n",
              "      <td>Asia</td>\n",
              "      <td>1962</td>\n",
              "      <td>55.292</td>\n",
              "      <td>26420307</td>\n",
              "      <td>1536.344387</td>\n",
              "    </tr>\n",
              "    <tr>\n",
              "      <th>843</th>\n",
              "      <td>Korea, Rep.</td>\n",
              "      <td>Asia</td>\n",
              "      <td>1967</td>\n",
              "      <td>57.716</td>\n",
              "      <td>30131000</td>\n",
              "      <td>2029.228142</td>\n",
              "    </tr>\n",
              "    <tr>\n",
              "      <th>844</th>\n",
              "      <td>Korea, Rep.</td>\n",
              "      <td>Asia</td>\n",
              "      <td>1972</td>\n",
              "      <td>62.612</td>\n",
              "      <td>33505000</td>\n",
              "      <td>3030.876650</td>\n",
              "    </tr>\n",
              "    <tr>\n",
              "      <th>845</th>\n",
              "      <td>Korea, Rep.</td>\n",
              "      <td>Asia</td>\n",
              "      <td>1977</td>\n",
              "      <td>64.766</td>\n",
              "      <td>36436000</td>\n",
              "      <td>4657.221020</td>\n",
              "    </tr>\n",
              "    <tr>\n",
              "      <th>846</th>\n",
              "      <td>Korea, Rep.</td>\n",
              "      <td>Asia</td>\n",
              "      <td>1982</td>\n",
              "      <td>67.123</td>\n",
              "      <td>39326000</td>\n",
              "      <td>5622.942464</td>\n",
              "    </tr>\n",
              "    <tr>\n",
              "      <th>847</th>\n",
              "      <td>Korea, Rep.</td>\n",
              "      <td>Asia</td>\n",
              "      <td>1987</td>\n",
              "      <td>69.810</td>\n",
              "      <td>41622000</td>\n",
              "      <td>8533.088805</td>\n",
              "    </tr>\n",
              "    <tr>\n",
              "      <th>848</th>\n",
              "      <td>Korea, Rep.</td>\n",
              "      <td>Asia</td>\n",
              "      <td>1992</td>\n",
              "      <td>72.244</td>\n",
              "      <td>43805450</td>\n",
              "      <td>12104.278720</td>\n",
              "    </tr>\n",
              "    <tr>\n",
              "      <th>849</th>\n",
              "      <td>Korea, Rep.</td>\n",
              "      <td>Asia</td>\n",
              "      <td>1997</td>\n",
              "      <td>74.647</td>\n",
              "      <td>46173816</td>\n",
              "      <td>15993.527960</td>\n",
              "    </tr>\n",
              "    <tr>\n",
              "      <th>850</th>\n",
              "      <td>Korea, Rep.</td>\n",
              "      <td>Asia</td>\n",
              "      <td>2002</td>\n",
              "      <td>77.045</td>\n",
              "      <td>47969150</td>\n",
              "      <td>19233.988180</td>\n",
              "    </tr>\n",
              "    <tr>\n",
              "      <th>851</th>\n",
              "      <td>Korea, Rep.</td>\n",
              "      <td>Asia</td>\n",
              "      <td>2007</td>\n",
              "      <td>78.623</td>\n",
              "      <td>49044790</td>\n",
              "      <td>23348.139730</td>\n",
              "    </tr>\n",
              "  </tbody>\n",
              "</table>\n",
              "</div>"
            ],
            "text/plain": [
              "              country continent  year  lifeExp       pop     gdpPercap\n",
              "828  Korea, Dem. Rep.      Asia  1952   50.056   8865488   1088.277758\n",
              "829  Korea, Dem. Rep.      Asia  1957   54.081   9411381   1571.134655\n",
              "830  Korea, Dem. Rep.      Asia  1962   56.656  10917494   1621.693598\n",
              "831  Korea, Dem. Rep.      Asia  1967   59.942  12617009   2143.540609\n",
              "832  Korea, Dem. Rep.      Asia  1972   63.983  14781241   3701.621503\n",
              "833  Korea, Dem. Rep.      Asia  1977   67.159  16325320   4106.301249\n",
              "834  Korea, Dem. Rep.      Asia  1982   69.100  17647518   4106.525293\n",
              "835  Korea, Dem. Rep.      Asia  1987   70.647  19067554   4106.492315\n",
              "836  Korea, Dem. Rep.      Asia  1992   69.978  20711375   3726.063507\n",
              "837  Korea, Dem. Rep.      Asia  1997   67.727  21585105   1690.756814\n",
              "838  Korea, Dem. Rep.      Asia  2002   66.662  22215365   1646.758151\n",
              "839  Korea, Dem. Rep.      Asia  2007   67.297  23301725   1593.065480\n",
              "840       Korea, Rep.      Asia  1952   47.453  20947571   1030.592226\n",
              "841       Korea, Rep.      Asia  1957   52.681  22611552   1487.593537\n",
              "842       Korea, Rep.      Asia  1962   55.292  26420307   1536.344387\n",
              "843       Korea, Rep.      Asia  1967   57.716  30131000   2029.228142\n",
              "844       Korea, Rep.      Asia  1972   62.612  33505000   3030.876650\n",
              "845       Korea, Rep.      Asia  1977   64.766  36436000   4657.221020\n",
              "846       Korea, Rep.      Asia  1982   67.123  39326000   5622.942464\n",
              "847       Korea, Rep.      Asia  1987   69.810  41622000   8533.088805\n",
              "848       Korea, Rep.      Asia  1992   72.244  43805450  12104.278720\n",
              "849       Korea, Rep.      Asia  1997   74.647  46173816  15993.527960\n",
              "850       Korea, Rep.      Asia  2002   77.045  47969150  19233.988180\n",
              "851       Korea, Rep.      Asia  2007   78.623  49044790  23348.139730"
            ]
          },
          "metadata": {
            "tags": []
          },
          "execution_count": 132
        }
      ]
    },
    {
      "cell_type": "code",
      "metadata": {
        "id": "7HzdSmlfTfKL",
        "colab_type": "code",
        "colab": {
          "base_uri": "https://localhost:8080/",
          "height": 434
        },
        "outputId": "cfeb64c3-7462-489d-9684-06dda22b7d24"
      },
      "source": [
        "# 대한민국의 연도, 인구, 1인당 GDP, 기대수명을 출력\n",
        "gapminder[gapminder['country'] == 'Korea, Rep.'][['year', 'pop', 'gdpPercap', 'lifeExp']]"
      ],
      "execution_count": 133,
      "outputs": [
        {
          "output_type": "execute_result",
          "data": {
            "text/html": [
              "<div>\n",
              "<style scoped>\n",
              "    .dataframe tbody tr th:only-of-type {\n",
              "        vertical-align: middle;\n",
              "    }\n",
              "\n",
              "    .dataframe tbody tr th {\n",
              "        vertical-align: top;\n",
              "    }\n",
              "\n",
              "    .dataframe thead th {\n",
              "        text-align: right;\n",
              "    }\n",
              "</style>\n",
              "<table border=\"1\" class=\"dataframe\">\n",
              "  <thead>\n",
              "    <tr style=\"text-align: right;\">\n",
              "      <th></th>\n",
              "      <th>year</th>\n",
              "      <th>pop</th>\n",
              "      <th>gdpPercap</th>\n",
              "      <th>lifeExp</th>\n",
              "    </tr>\n",
              "  </thead>\n",
              "  <tbody>\n",
              "    <tr>\n",
              "      <th>840</th>\n",
              "      <td>1952</td>\n",
              "      <td>20947571</td>\n",
              "      <td>1030.592226</td>\n",
              "      <td>47.453</td>\n",
              "    </tr>\n",
              "    <tr>\n",
              "      <th>841</th>\n",
              "      <td>1957</td>\n",
              "      <td>22611552</td>\n",
              "      <td>1487.593537</td>\n",
              "      <td>52.681</td>\n",
              "    </tr>\n",
              "    <tr>\n",
              "      <th>842</th>\n",
              "      <td>1962</td>\n",
              "      <td>26420307</td>\n",
              "      <td>1536.344387</td>\n",
              "      <td>55.292</td>\n",
              "    </tr>\n",
              "    <tr>\n",
              "      <th>843</th>\n",
              "      <td>1967</td>\n",
              "      <td>30131000</td>\n",
              "      <td>2029.228142</td>\n",
              "      <td>57.716</td>\n",
              "    </tr>\n",
              "    <tr>\n",
              "      <th>844</th>\n",
              "      <td>1972</td>\n",
              "      <td>33505000</td>\n",
              "      <td>3030.876650</td>\n",
              "      <td>62.612</td>\n",
              "    </tr>\n",
              "    <tr>\n",
              "      <th>845</th>\n",
              "      <td>1977</td>\n",
              "      <td>36436000</td>\n",
              "      <td>4657.221020</td>\n",
              "      <td>64.766</td>\n",
              "    </tr>\n",
              "    <tr>\n",
              "      <th>846</th>\n",
              "      <td>1982</td>\n",
              "      <td>39326000</td>\n",
              "      <td>5622.942464</td>\n",
              "      <td>67.123</td>\n",
              "    </tr>\n",
              "    <tr>\n",
              "      <th>847</th>\n",
              "      <td>1987</td>\n",
              "      <td>41622000</td>\n",
              "      <td>8533.088805</td>\n",
              "      <td>69.810</td>\n",
              "    </tr>\n",
              "    <tr>\n",
              "      <th>848</th>\n",
              "      <td>1992</td>\n",
              "      <td>43805450</td>\n",
              "      <td>12104.278720</td>\n",
              "      <td>72.244</td>\n",
              "    </tr>\n",
              "    <tr>\n",
              "      <th>849</th>\n",
              "      <td>1997</td>\n",
              "      <td>46173816</td>\n",
              "      <td>15993.527960</td>\n",
              "      <td>74.647</td>\n",
              "    </tr>\n",
              "    <tr>\n",
              "      <th>850</th>\n",
              "      <td>2002</td>\n",
              "      <td>47969150</td>\n",
              "      <td>19233.988180</td>\n",
              "      <td>77.045</td>\n",
              "    </tr>\n",
              "    <tr>\n",
              "      <th>851</th>\n",
              "      <td>2007</td>\n",
              "      <td>49044790</td>\n",
              "      <td>23348.139730</td>\n",
              "      <td>78.623</td>\n",
              "    </tr>\n",
              "  </tbody>\n",
              "</table>\n",
              "</div>"
            ],
            "text/plain": [
              "     year       pop     gdpPercap  lifeExp\n",
              "840  1952  20947571   1030.592226   47.453\n",
              "841  1957  22611552   1487.593537   52.681\n",
              "842  1962  26420307   1536.344387   55.292\n",
              "843  1967  30131000   2029.228142   57.716\n",
              "844  1972  33505000   3030.876650   62.612\n",
              "845  1977  36436000   4657.221020   64.766\n",
              "846  1982  39326000   5622.942464   67.123\n",
              "847  1987  41622000   8533.088805   69.810\n",
              "848  1992  43805450  12104.278720   72.244\n",
              "849  1997  46173816  15993.527960   74.647\n",
              "850  2002  47969150  19233.988180   77.045\n",
              "851  2007  49044790  23348.139730   78.623"
            ]
          },
          "metadata": {
            "tags": []
          },
          "execution_count": 133
        }
      ]
    }
  ]
}