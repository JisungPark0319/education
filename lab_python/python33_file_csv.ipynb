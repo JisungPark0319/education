{
  "nbformat": 4,
  "nbformat_minor": 0,
  "metadata": {
    "colab": {
      "name": "python33_file_csv.ipynb",
      "provenance": [],
      "collapsed_sections": [],
      "mount_file_id": "1X7PyusWPbXNWqRyXUokaMy-5gn3_ACmt",
      "authorship_tag": "ABX9TyPUK1geyAXZ3fM01pXwpptf",
      "include_colab_link": true
    },
    "kernelspec": {
      "name": "python3",
      "display_name": "Python 3"
    }
  },
  "cells": [
    {
      "cell_type": "markdown",
      "metadata": {
        "id": "view-in-github",
        "colab_type": "text"
      },
      "source": [
        "<a href=\"https://colab.research.google.com/github/JakeOh/202007_itw_bd18/blob/master/lab_python/python33_file_csv.ipynb\" target=\"_parent\"><img src=\"https://colab.research.google.com/assets/colab-badge.svg\" alt=\"Open In Colab\"/></a>"
      ]
    },
    {
      "cell_type": "markdown",
      "metadata": {
        "id": "2WMfGfvS0DaE",
        "colab_type": "text"
      },
      "source": [
        "\n",
        "\n",
        "1. 구글 드라이드 마운트\n",
        "2. csv_exam.csv 파일이 있는 경로를 복사\n",
        "3. csv_exam.csv 파일을 읽기 모드로 오픈\n",
        "4. 파일에서 첫번째 라인은 건너뜀(readline 호출)\n",
        "5. 두번째 라인부터 파일 끝까지 한줄씩 읽으면서\n",
        "6. 각 라인의 내용을 ','로 분리한 리스트를 빈 리스트(exam)에 append\n",
        "\n",
        "```\n",
        "exam = [[1,1,50,98,50], [2,1,60,97,60], [3,1,45,86,78], ...]\n",
        "```\n",
        "\n",
        "7. 2차원 리스트 exam에서 수학 점수들로만 이루어진 1차원 리스트(math)를 생성.\n",
        "\n",
        "```\n",
        "math = [50, 60, 45, ...]\n",
        "```\n",
        "\n",
        "8. 1반 학생들의 수학 점수의 총점, 평균, 최댓값, 최솟값을 찾으세요.(sum, min, max)"
      ]
    },
    {
      "cell_type": "code",
      "metadata": {
        "id": "Q0A8OiQPyXJp",
        "colab_type": "code",
        "colab": {}
      },
      "source": [
        "file_path = '/content/drive/My Drive/Colab Notebooks/lab_python/csv_exam.csv'"
      ],
      "execution_count": 1,
      "outputs": []
    },
    {
      "cell_type": "code",
      "metadata": {
        "id": "w6eGQflZX6IQ",
        "colab_type": "code",
        "colab": {
          "base_uri": "https://localhost:8080/",
          "height": 58
        },
        "outputId": "c523f4f1-0fed-4bd1-f3aa-ef232f71dad2"
      },
      "source": [
        "with open(file_path, mode='r') as f:\n",
        "    f.readline()  # 첫번째 줄을 읽고, 아무 동작도 안함. - skip\n",
        "    \n",
        "    exam = []  # 파일에서 읽은 데이터를 저장하기 위한 리스트.\n",
        "    for line in f:  # 파일의 두번째줄부터 파일 끝까지 readline 반복.\n",
        "        # print(line.strip())\n",
        "        # print(line.strip().split(sep=','))\n",
        "        \n",
        "        # 각 라인에서 문자열 시작과 끝의 공백들은 제거하고(strip),\n",
        "        # 구분자인 comma로 문자열을 쪼개서(split) 만든 \n",
        "        # 리스트를 exam에 추가(append).\n",
        "        # line = '1,1,50,98,50\\n'\n",
        "        # line.strip() = '1,1,50,98,50\\n'.strip() = '1,1,50,98,50'\n",
        "        # line.strip().split(',') = '1,1,50,98,50'.split(',') = ['1', '1', '50', '98', '50']\n",
        "        row = line.strip().split(sep=',')  # ['1', '1', '50', '98', '50']\n",
        "        exam.append(row)\n",
        "\n",
        "print(exam)\n",
        "# 각각의 아이템들은 모두 문자열!"
      ],
      "execution_count": 10,
      "outputs": [
        {
          "output_type": "stream",
          "text": [
            "[['1', '1', '50', '98', '50'], ['2', '1', '60', '97', '60'], ['3', '1', '45', '86', '78'], ['4', '1', '30', '98', '58'], ['5', '2', '25', '80', '65'], ['6', '2', '50', '89', '98'], ['7', '2', '80', '90', '45'], ['8', '2', '90', '78', '25'], ['9', '3', '20', '98', '15'], ['10', '3', '50', '98', '45'], ['11', '3', '65', '65', '65'], ['12', '3', '45', '85', '32'], ['13', '4', '46', '98', '65'], ['14', '4', '48', '87', '12'], ['15', '4', '75', '56', '78'], ['16', '4', '58', '98', '65'], ['17', '5', '65', '68', '98'], ['18', '5', '80', '78', '90'], ['19', '5', '89', '68', '87'], ['20', '5', '78', '83', '58']]\n"
          ],
          "name": "stdout"
        }
      ]
    },
    {
      "cell_type": "code",
      "metadata": {
        "id": "H33ZxM9Te1IV",
        "colab_type": "code",
        "colab": {
          "base_uri": "https://localhost:8080/",
          "height": 58
        },
        "outputId": "ba74568d-2e05-4bdd-f192-b6c098f4387e"
      },
      "source": [
        "# 2차원 리스트의 모든 원소들을 int 타입으로 변환\n",
        "for row in exam:\n",
        "    for x in row:\n",
        "        x = int(x)\n",
        "\n",
        "print(exam)  # 리스트의 원소들이 int로 변환되지 않았음!\n",
        "\n",
        "# exam[0][0] = int('1')\n",
        "# exam[0][1] = int('1')\n",
        "# exam[0][2] = int('50')"
      ],
      "execution_count": 13,
      "outputs": [
        {
          "output_type": "stream",
          "text": [
            "[['1', '1', '50', '98', '50'], ['2', '1', '60', '97', '60'], ['3', '1', '45', '86', '78'], ['4', '1', '30', '98', '58'], ['5', '2', '25', '80', '65'], ['6', '2', '50', '89', '98'], ['7', '2', '80', '90', '45'], ['8', '2', '90', '78', '25'], ['9', '3', '20', '98', '15'], ['10', '3', '50', '98', '45'], ['11', '3', '65', '65', '65'], ['12', '3', '45', '85', '32'], ['13', '4', '46', '98', '65'], ['14', '4', '48', '87', '12'], ['15', '4', '75', '56', '78'], ['16', '4', '58', '98', '65'], ['17', '5', '65', '68', '98'], ['18', '5', '80', '78', '90'], ['19', '5', '89', '68', '87'], ['20', '5', '78', '83', '58']]\n"
          ],
          "name": "stdout"
        }
      ]
    },
    {
      "cell_type": "code",
      "metadata": {
        "id": "R0B0QLTpmnul",
        "colab_type": "code",
        "colab": {
          "base_uri": "https://localhost:8080/",
          "height": 58
        },
        "outputId": "6868ead8-2fa8-4f31-9b7b-b8c1d990e0f5"
      },
      "source": [
        "for i, row in enumerate(exam):\n",
        "    for j, element in enumerate(row):\n",
        "        # print(f'[{i}, {j}]: {element}')\n",
        "        exam[i][j] = int(element)\n",
        "\n",
        "print(exam)"
      ],
      "execution_count": 16,
      "outputs": [
        {
          "output_type": "stream",
          "text": [
            "[[1, 1, 50, 98, 50], [2, 1, 60, 97, 60], [3, 1, 45, 86, 78], [4, 1, 30, 98, 58], [5, 2, 25, 80, 65], [6, 2, 50, 89, 98], [7, 2, 80, 90, 45], [8, 2, 90, 78, 25], [9, 3, 20, 98, 15], [10, 3, 50, 98, 45], [11, 3, 65, 65, 65], [12, 3, 45, 85, 32], [13, 4, 46, 98, 65], [14, 4, 48, 87, 12], [15, 4, 75, 56, 78], [16, 4, 58, 98, 65], [17, 5, 65, 68, 98], [18, 5, 80, 78, 90], [19, 5, 89, 68, 87], [20, 5, 78, 83, 58]]\n"
          ],
          "name": "stdout"
        }
      ]
    },
    {
      "cell_type": "code",
      "metadata": {
        "id": "HG2amoC_ox_F",
        "colab_type": "code",
        "colab": {
          "base_uri": "https://localhost:8080/",
          "height": 38
        },
        "outputId": "ce52e8cb-2bcf-4094-984e-ede002dc03a5"
      },
      "source": [
        "# math = []  # 수학 점수를 저장할 리스트.\n",
        "# for row in exam:\n",
        "#     # 수학 점수: 각 row에서 index=2 위치.\n",
        "#     math.append(row[2])  # 각 row의 수학 점수만 math에 추가.\n",
        "\n",
        "math = [row[2] for row in exam]\n",
        "\n",
        "print(math)"
      ],
      "execution_count": 18,
      "outputs": [
        {
          "output_type": "stream",
          "text": [
            "[50, 60, 45, 30, 25, 50, 80, 90, 20, 50, 65, 45, 46, 48, 75, 58, 65, 80, 89, 78]\n"
          ],
          "name": "stdout"
        }
      ]
    },
    {
      "cell_type": "code",
      "metadata": {
        "id": "VHGlD4JVrUjS",
        "colab_type": "code",
        "colab": {
          "base_uri": "https://localhost:8080/",
          "height": 38
        },
        "outputId": "da422413-5fb9-4f0e-a16e-b89d1a975b04"
      },
      "source": [
        "# math_1 = []  # class==1인 학생들의 수학 점수를 저장할 리스트.\n",
        "# for student in exam:\n",
        "#     if student[1] == 1:  # 학생의 class값이 1이면\n",
        "#         math_1.append(student[2])  # 학생의 수학 점수를 append.\n",
        "\n",
        "math_1 = [obs[2] for obs in exam if obs[1] == 1]\n",
        "\n",
        "print(math_1)"
      ],
      "execution_count": 20,
      "outputs": [
        {
          "output_type": "stream",
          "text": [
            "[50, 60, 45, 30]\n"
          ],
          "name": "stdout"
        }
      ]
    },
    {
      "cell_type": "code",
      "metadata": {
        "id": "oNMDOl91sevy",
        "colab_type": "code",
        "colab": {
          "base_uri": "https://localhost:8080/",
          "height": 100
        },
        "outputId": "8930103d-3b69-40a5-9f9c-180473dddc02"
      },
      "source": [
        "print('총점:', sum(math_1))\n",
        "print('평균:', sum(math_1) / len(math_1))\n",
        "print('최댓값:', max(math_1))\n",
        "print('최솟값:', min(math_1))"
      ],
      "execution_count": 21,
      "outputs": [
        {
          "output_type": "stream",
          "text": [
            "총점: 185\n",
            "평균: 46.25\n",
            "최댓값: 60\n",
            "최솟값: 30\n"
          ],
          "name": "stdout"
        }
      ]
    }
  ]
}