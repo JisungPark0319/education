{
  "nbformat": 4,
  "nbformat_minor": 0,
  "metadata": {
    "colab": {
      "name": "python11.ipynb",
      "provenance": [],
      "collapsed_sections": [],
      "authorship_tag": "ABX9TyPB7o2fPeMaIAnsci7u1Gx/",
      "include_colab_link": true
    },
    "kernelspec": {
      "name": "python3",
      "display_name": "Python 3"
    }
  },
  "cells": [
    {
      "cell_type": "markdown",
      "metadata": {
        "id": "view-in-github",
        "colab_type": "text"
      },
      "source": [
        "<a href=\"https://colab.research.google.com/github/JakeOh/202007_itw_bd18/blob/master/lab_python/python11.ipynb\" target=\"_parent\"><img src=\"https://colab.research.google.com/assets/colab-badge.svg\" alt=\"Open In Colab\"/></a>"
      ]
    },
    {
      "cell_type": "markdown",
      "metadata": {
        "id": "nBtbpP-fzy-t",
        "colab_type": "text"
      },
      "source": [
        "**for 반복문**\n",
        "\n",
        "```\n",
        "for 변수 in iterable타입:\n",
        "    반복해서 실행할 문장들\n",
        "```\n",
        "\n",
        "iterable 타입: list, tuple, dict, set, str, ...\n"
      ]
    },
    {
      "cell_type": "code",
      "metadata": {
        "id": "635hE8hSzrPR",
        "colab_type": "code",
        "colab": {
          "base_uri": "https://localhost:8080/",
          "height": 109
        },
        "outputId": "739fdadc-acfc-49d3-8600-1466ea3ee66b"
      },
      "source": [
        "print(1)\n",
        "print(2)\n",
        "print(3)\n",
        "print(4)\n",
        "print(5)"
      ],
      "execution_count": 1,
      "outputs": [
        {
          "output_type": "stream",
          "text": [
            "1\n",
            "2\n",
            "3\n",
            "4\n",
            "5\n"
          ],
          "name": "stdout"
        }
      ]
    },
    {
      "cell_type": "code",
      "metadata": {
        "id": "KDAs9Pax1MD-",
        "colab_type": "code",
        "colab": {
          "base_uri": "https://localhost:8080/",
          "height": 109
        },
        "outputId": "794456fa-b9df-4246-dcb0-b1326843b406"
      },
      "source": [
        "numbers = [1, 2, 3, 4, 5]\n",
        "\n",
        "for number in numbers:\n",
        "    print(number)"
      ],
      "execution_count": 2,
      "outputs": [
        {
          "output_type": "stream",
          "text": [
            "1\n",
            "2\n",
            "3\n",
            "4\n",
            "5\n"
          ],
          "name": "stdout"
        }
      ]
    },
    {
      "cell_type": "code",
      "metadata": {
        "id": "mDMTg5Cy5roN",
        "colab_type": "code",
        "colab": {
          "base_uri": "https://localhost:8080/",
          "height": 35
        },
        "outputId": "563ff07f-5342-4745-819d-0e8267a1c647"
      },
      "source": [
        "msg = 'Hello'\n",
        "for char in msg:\n",
        "    print(char, end=' ')"
      ],
      "execution_count": 6,
      "outputs": [
        {
          "output_type": "stream",
          "text": [
            "H e l l o "
          ],
          "name": "stdout"
        }
      ]
    },
    {
      "cell_type": "code",
      "metadata": {
        "id": "syukxCZS7TRH",
        "colab_type": "code",
        "colab": {}
      },
      "source": [
        "# range(end): 0 <= x < end 정수들의 tuple\n",
        "# range(start, end): start <= x < end 정수들의 tuple\n",
        "# range(start, end, step): \n",
        "#   step > 0 경우, start <= x < end 범위의 step 만큼씩 건너뛴 정수들의 tuple\n",
        "#   step < 0 경우, start >= x > end 범위의 step 만큼씩 건너뛴 정수들의 tuple"
      ],
      "execution_count": null,
      "outputs": []
    },
    {
      "cell_type": "code",
      "metadata": {
        "id": "yhoTdzsa8N51",
        "colab_type": "code",
        "colab": {
          "base_uri": "https://localhost:8080/",
          "height": 109
        },
        "outputId": "0ffa5f7e-2631-462d-9c0b-3005e3a60d56"
      },
      "source": [
        "for x in range(5):  # 0 <= x < 5: (0, 1, 2, 3, 4)\n",
        "    print(x)"
      ],
      "execution_count": 7,
      "outputs": [
        {
          "output_type": "stream",
          "text": [
            "0\n",
            "1\n",
            "2\n",
            "3\n",
            "4\n"
          ],
          "name": "stdout"
        }
      ]
    },
    {
      "cell_type": "code",
      "metadata": {
        "id": "XmyF7r0h8nZy",
        "colab_type": "code",
        "colab": {
          "base_uri": "https://localhost:8080/",
          "height": 90
        },
        "outputId": "41692a30-bc30-4398-ac0f-f6dc0e6f86d6"
      },
      "source": [
        "for x in range(1, 5):  # 1 <= x < 5: (1, 2, 3, 4)\n",
        "    print(x)"
      ],
      "execution_count": 8,
      "outputs": [
        {
          "output_type": "stream",
          "text": [
            "1\n",
            "2\n",
            "3\n",
            "4\n"
          ],
          "name": "stdout"
        }
      ]
    },
    {
      "cell_type": "code",
      "metadata": {
        "id": "MH_sD-Ya9FvC",
        "colab_type": "code",
        "colab": {
          "base_uri": "https://localhost:8080/",
          "height": 109
        },
        "outputId": "0332c48b-b1ff-4e9d-d4c8-3e4d0f8bb6e6"
      },
      "source": [
        "for x in range(0, 10, 2):  # 1 <= x < 10, 2씩 증가: (0, 2, 4, 6, 8)\n",
        "    print(x)"
      ],
      "execution_count": 10,
      "outputs": [
        {
          "output_type": "stream",
          "text": [
            "0\n",
            "2\n",
            "4\n",
            "6\n",
            "8\n"
          ],
          "name": "stdout"
        }
      ]
    },
    {
      "cell_type": "code",
      "metadata": {
        "id": "9sI9TJb_9gBt",
        "colab_type": "code",
        "colab": {
          "base_uri": "https://localhost:8080/",
          "height": 109
        },
        "outputId": "d7a623cd-a226-41d9-86f1-d47a02984fd6"
      },
      "source": [
        "for x in range(10, 0, -2):  # 10 >= x > 0, 2씩 감소: (10, 8, 6, 4, 2)\n",
        "    print(x)"
      ],
      "execution_count": 11,
      "outputs": [
        {
          "output_type": "stream",
          "text": [
            "10\n",
            "8\n",
            "6\n",
            "4\n",
            "2\n"
          ],
          "name": "stdout"
        }
      ]
    },
    {
      "cell_type": "code",
      "metadata": {
        "id": "egPaMg-n-5fb",
        "colab_type": "code",
        "colab": {
          "base_uri": "https://localhost:8080/",
          "height": 109
        },
        "outputId": "5cc7c3c5-742e-4537-f5cf-9b500d75dd01"
      },
      "source": [
        "\"\"\"\n",
        "*\n",
        "**\n",
        "***\n",
        "****\n",
        "*****\n",
        "\n",
        "위와 같이 출력하는 코드를 작성\n",
        "\"\"\"\n",
        "\n",
        "print('*')\n",
        "print('**')\n",
        "print('***')\n",
        "print('****')\n",
        "print('*****')"
      ],
      "execution_count": 12,
      "outputs": [
        {
          "output_type": "stream",
          "text": [
            "*\n",
            "**\n",
            "***\n",
            "****\n",
            "*****\n"
          ],
          "name": "stdout"
        }
      ]
    },
    {
      "cell_type": "code",
      "metadata": {
        "id": "c3OKltq5BGqi",
        "colab_type": "code",
        "colab": {
          "base_uri": "https://localhost:8080/",
          "height": 109
        },
        "outputId": "4cc95156-f04f-4a06-adf9-1696c08c28e9"
      },
      "source": [
        "print('*' * 1)\n",
        "print('*' * 2)\n",
        "print('*' * 3)\n",
        "print('*' * 4)\n",
        "print('*' * 5)"
      ],
      "execution_count": 13,
      "outputs": [
        {
          "output_type": "stream",
          "text": [
            "*\n",
            "**\n",
            "***\n",
            "****\n",
            "*****\n"
          ],
          "name": "stdout"
        }
      ]
    },
    {
      "cell_type": "code",
      "metadata": {
        "id": "IlfxWvPDBZ7p",
        "colab_type": "code",
        "colab": {
          "base_uri": "https://localhost:8080/",
          "height": 109
        },
        "outputId": "fb95bc4a-374d-458c-f750-2dae58bb3410"
      },
      "source": [
        "for n in range(1, 6):\n",
        "    print('*' * n)"
      ],
      "execution_count": 14,
      "outputs": [
        {
          "output_type": "stream",
          "text": [
            "*\n",
            "**\n",
            "***\n",
            "****\n",
            "*****\n"
          ],
          "name": "stdout"
        }
      ]
    },
    {
      "cell_type": "code",
      "metadata": {
        "id": "-lph6raZB4-2",
        "colab_type": "code",
        "colab": {
          "base_uri": "https://localhost:8080/",
          "height": 182
        },
        "outputId": "f7f73e68-09ed-424a-cd0b-530252ddcd92"
      },
      "source": [
        "\"\"\"\n",
        "구구단 2단을 출력하는 코드\n",
        "2 x 1 = 2\n",
        "2 x 2 = 4\n",
        "2 x 3 = 6\n",
        "...\n",
        "2 x 9 = 18\n",
        "\"\"\"\n",
        "\n",
        "for n in range(1, 10):\n",
        "    print(f'2 x {n} = {2 * n}')"
      ],
      "execution_count": 17,
      "outputs": [
        {
          "output_type": "stream",
          "text": [
            "2 x 1 = 2\n",
            "2 x 2 = 4\n",
            "2 x 3 = 6\n",
            "2 x 4 = 8\n",
            "2 x 5 = 10\n",
            "2 x 6 = 12\n",
            "2 x 7 = 14\n",
            "2 x 8 = 16\n",
            "2 x 9 = 18\n"
          ],
          "name": "stdout"
        }
      ]
    }
  ]
}