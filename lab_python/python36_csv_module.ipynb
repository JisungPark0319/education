{
  "nbformat": 4,
  "nbformat_minor": 0,
  "metadata": {
    "colab": {
      "name": "python36_csv_module.ipynb",
      "provenance": [],
      "collapsed_sections": [],
      "mount_file_id": "1GU85Lj9m64gMUyP7WpGkFcuqAMYNrx7U",
      "authorship_tag": "ABX9TyPfV3HKPLnBPCWl3F6Pg2dO",
      "include_colab_link": true
    },
    "kernelspec": {
      "name": "python3",
      "display_name": "Python 3"
    }
  },
  "cells": [
    {
      "cell_type": "markdown",
      "metadata": {
        "id": "view-in-github",
        "colab_type": "text"
      },
      "source": [
        "<a href=\"https://colab.research.google.com/github/JakeOh/202007_itw_bd18/blob/master/lab_python/python36_csv_module.ipynb\" target=\"_parent\"><img src=\"https://colab.research.google.com/assets/colab-badge.svg\" alt=\"Open In Colab\"/></a>"
      ]
    },
    {
      "cell_type": "markdown",
      "metadata": {
        "id": "nzmclAudGAiD",
        "colab_type": "text"
      },
      "source": [
        "1. apt_201910.csv 파일 구글 드라이브에 업로드.\n",
        "2. 구글 드라이브를 마운트(연결).\n",
        "3. CSV 파일을 읽어서 2차원 리스트 생성.\n",
        "4. 3번에서 생성된 리스트에서 숫자로 변환할 수 있는 값들은 모두 숫자 타입으로 변환하세요.\n",
        "5. 4에서 정제된 리스트에서 시군구, 면적, 가격, 층, 건축년도 컬럼들만 선택한 새로운 리스트를 생성.\n",
        "6. 5에서 만들어진 리스트에서 시군구가 강원도이고, 가격이 30,000 이상인 데이터들만 선택해서 새로운 리스트를 생성.\n",
        "7. 6에서 생성된 리스트를 CSV 파일로 저장."
      ]
    },
    {
      "cell_type": "code",
      "metadata": {
        "id": "JezRNyRcF7zk",
        "colab_type": "code",
        "colab": {}
      },
      "source": [
        "import csv"
      ],
      "execution_count": 1,
      "outputs": []
    },
    {
      "cell_type": "code",
      "metadata": {
        "id": "oBBsQUqghaEM",
        "colab_type": "code",
        "colab": {}
      },
      "source": [
        "# 마운트된 구글 드라이브에 저장된 CSV 파일 경로\n",
        "file_path = '/content/drive/My Drive/Colab Notebooks/lab_python/apt_201910.csv'"
      ],
      "execution_count": 2,
      "outputs": []
    },
    {
      "cell_type": "code",
      "metadata": {
        "id": "mtzyFJCshrUz",
        "colab_type": "code",
        "colab": {
          "base_uri": "https://localhost:8080/",
          "height": 78
        },
        "outputId": "fe7cd88a-d705-4bd3-fe48-a3a244f31418"
      },
      "source": [
        "# encoding: (1) 기본값=utf-8 (2) 한글 Windows 시스템의 기본 인코딩=cp949\n",
        "with open(file_path, mode='r', encoding='cp949') as f:\n",
        "    # 현재 열려 있는 파일 f를 parsing(읽고 해석)할 수 있는 reader 객체를 리턴.\n",
        "    csv_reader = csv.reader(f)\n",
        "    apt_data = []\n",
        "    for row in csv_reader:  # 파일 처음부터 끝까지 한 줄씩 parsing하면서\n",
        "        apt_data.append(row)  # parsing된 리스트를 apt_data에 append\n",
        "\n",
        "print(apt_data[:5])\n",
        "print(apt_data[-5:])"
      ],
      "execution_count": 10,
      "outputs": [
        {
          "output_type": "stream",
          "text": [
            "[['시군구', '번지', '본번', '부번', '단지명', '면적', '계약년월', '계약일', '가격', '층', '건축년도', '도로명'], ['강원도 강릉시 견소동', '202', '202', '0', '송정한신', '59.8', '201910', '4', '10,900', '5', '1997', '경강로2539번길 8'], ['강원도 강릉시 견소동', '202', '202', '0', '송정한신', '116.175', '201910', '31', '18,500', '10', '1997', '경강로2539번길 8'], ['강원도 강릉시 견소동', '289', '289', '0', '송정해변신도브래뉴아파트', '84.99', '201910', '5', '25,000', '6', '2005', '경강로2539번길 22'], ['강원도 강릉시 견소동', '289', '289', '0', '송정해변신도브래뉴아파트', '84.99', '201910', '12', '20,600', '3', '2005', '경강로2539번길 22']]\n",
            "[['충청북도 충주시 호암동', '547-6', '547', '6', '호반현대', '59.76', '201910', '29', '7,000', '3', '1994', '신촌2길 28'], ['충청북도 충주시 호암동', '221-23', '221', '23', '호암리버빌(1단지)', '84.68', '201910', '5', '12,000', '15', '2002', '원호암5길 32'], ['충청북도 충주시 호암동', '221-23', '221', '23', '호암리버빌(1단지)', '84.68', '201910', '15', '11,000', '7', '2002', '원호암5길 32'], ['충청북도 충주시 호암동', '221-23', '221', '23', '호암리버빌(1단지)', '84.68', '201910', '17', '12,000', '14', '2002', '원호암5길 32'], ['충청북도 충주시 호암동', '221-23', '221', '23', '호암리버빌(1단지)', '84.68', '201910', '26', '11,200', '11', '2002', '원호암5길 32']]\n"
          ],
          "name": "stdout"
        }
      ]
    },
    {
      "cell_type": "code",
      "metadata": {
        "id": "jzkCAu05lgMK",
        "colab_type": "code",
        "colab": {
          "base_uri": "https://localhost:8080/",
          "height": 38
        },
        "outputId": "8924132f-52d6-4f6f-8630-88a029deb020"
      },
      "source": [
        "print(len(apt_data))  # apt_data의 원소의 개수(아파트 거래 건수 + 헤더)"
      ],
      "execution_count": 12,
      "outputs": [
        {
          "output_type": "stream",
          "text": [
            "42759\n"
          ],
          "name": "stdout"
        }
      ]
    },
    {
      "cell_type": "code",
      "metadata": {
        "id": "zFhRLj17l5El",
        "colab_type": "code",
        "colab": {
          "base_uri": "https://localhost:8080/",
          "height": 78
        },
        "outputId": "e04b247d-8037-4495-c737-bc4e3e31e84f"
      },
      "source": [
        "# 숫자로 변환할 수 있는 값들은 모두 숫자(float)으로 변환.\n",
        "for i, row in enumerate(apt_data):\n",
        "    for j, item in enumerate(row):\n",
        "        try:\n",
        "            apt_data[i][j] = float(item.replace(',', ''))\n",
        "        except:\n",
        "            pass\n",
        "\n",
        "print(apt_data[:3])\n",
        "print(apt_data[-3:])"
      ],
      "execution_count": 13,
      "outputs": [
        {
          "output_type": "stream",
          "text": [
            "[['시군구', '번지', '본번', '부번', '단지명', '면적', '계약년월', '계약일', '가격', '층', '건축년도', '도로명'], ['강원도 강릉시 견소동', 202.0, 202.0, 0.0, '송정한신', 59.8, 201910.0, 4.0, 10900.0, 5.0, 1997.0, '경강로2539번길 8'], ['강원도 강릉시 견소동', 202.0, 202.0, 0.0, '송정한신', 116.175, 201910.0, 31.0, 18500.0, 10.0, 1997.0, '경강로2539번길 8']]\n",
            "[['충청북도 충주시 호암동', '221-23', 221.0, 23.0, '호암리버빌(1단지)', 84.68, 201910.0, 15.0, 11000.0, 7.0, 2002.0, '원호암5길 32'], ['충청북도 충주시 호암동', '221-23', 221.0, 23.0, '호암리버빌(1단지)', 84.68, 201910.0, 17.0, 12000.0, 14.0, 2002.0, '원호암5길 32'], ['충청북도 충주시 호암동', '221-23', 221.0, 23.0, '호암리버빌(1단지)', 84.68, 201910.0, 26.0, 11200.0, 11.0, 2002.0, '원호암5길 32']]\n"
          ],
          "name": "stdout"
        }
      ]
    },
    {
      "cell_type": "code",
      "metadata": {
        "id": "7TvTupp-pXy7",
        "colab_type": "code",
        "colab": {
          "base_uri": "https://localhost:8080/",
          "height": 79
        },
        "outputId": "08b5c50c-b452-40dc-babf-5b4bec53f011"
      },
      "source": [
        "print(apt_data[0])  # 인덱스 0의 row\n",
        "print(apt_data[0].index('시군구'))  # list.index(value): list에서 value가 처음 나오는 인덱스.\n",
        "print(apt_data[0].index('면적'))"
      ],
      "execution_count": 16,
      "outputs": [
        {
          "output_type": "stream",
          "text": [
            "['시군구', '번지', '본번', '부번', '단지명', '면적', '계약년월', '계약일', '가격', '층', '건축년도', '도로명']\n",
            "0\n",
            "5\n"
          ],
          "name": "stdout"
        }
      ]
    },
    {
      "cell_type": "code",
      "metadata": {
        "id": "vCkUII6Mtc45",
        "colab_type": "code",
        "colab": {
          "base_uri": "https://localhost:8080/",
          "height": 78
        },
        "outputId": "a09bd1f8-f3e5-475c-9d8c-070618a80764"
      },
      "source": [
        "header = apt_data[0]\n",
        "apt_data_2 = []\n",
        "for row in apt_data:\n",
        "    # selected = [row[0], row[5], row[8], row[9], row[10]]\n",
        "    selected = [row[header.index('시군구')],\n",
        "                row[header.index('면적')],\n",
        "                row[header.index('가격')],\n",
        "                row[header.index('층')],\n",
        "                row[header.index('건축년도')]]\n",
        "    apt_data_2.append(selected)\n",
        "\n",
        "print(apt_data_2[:3])\n",
        "print(apt_data_2[-3:])"
      ],
      "execution_count": 17,
      "outputs": [
        {
          "output_type": "stream",
          "text": [
            "[['시군구', '면적', '가격', '층', '건축년도'], ['강원도 강릉시 견소동', 59.8, 10900.0, 5.0, 1997.0], ['강원도 강릉시 견소동', 116.175, 18500.0, 10.0, 1997.0]]\n",
            "[['충청북도 충주시 호암동', 84.68, 11000.0, 7.0, 2002.0], ['충청북도 충주시 호암동', 84.68, 12000.0, 14.0, 2002.0], ['충청북도 충주시 호암동', 84.68, 11200.0, 11.0, 2002.0]]\n"
          ],
          "name": "stdout"
        }
      ]
    },
    {
      "cell_type": "code",
      "metadata": {
        "id": "ZmbqlVDevcvz",
        "colab_type": "code",
        "colab": {
          "base_uri": "https://localhost:8080/",
          "height": 58
        },
        "outputId": "c5ece01a-f685-4bb5-f8df-35510a5dd8d3"
      },
      "source": [
        "# 시군구가 강원도이고, 가격이 30,000 이상인 데이터들만 선택\n",
        "# 시군구: 2차원 리스트에서 column의 인덱스가 0인 원소.\n",
        "# 가격: 2차원 리스트에서 column의 인덱스가 2인 원소.\n",
        "print(apt_data_2[1][0], apt_data_2[1][2])\n",
        "print(apt_data_2[-1][0], apt_data_2[-1][2])"
      ],
      "execution_count": 21,
      "outputs": [
        {
          "output_type": "stream",
          "text": [
            "강원도 강릉시 견소동 10900.0\n",
            "충청북도 충주시 호암동 11200.0\n"
          ],
          "name": "stdout"
        }
      ]
    },
    {
      "cell_type": "code",
      "metadata": {
        "id": "o22yAfSyxHiA",
        "colab_type": "code",
        "colab": {
          "base_uri": "https://localhost:8080/",
          "height": 58
        },
        "outputId": "70219474-5b1b-4c32-cd13-a30513774de2"
      },
      "source": [
        "# str.startswith(문자열): str이 argument로 전달된 문자열로 시작하면 True, 그렇지 않으면 False\n",
        "print(apt_data_2[1][0].startswith('강원도'))\n",
        "print(apt_data_2[-1][0].startswith('강원도'))"
      ],
      "execution_count": 24,
      "outputs": [
        {
          "output_type": "stream",
          "text": [
            "True\n",
            "False\n"
          ],
          "name": "stdout"
        }
      ]
    },
    {
      "cell_type": "code",
      "metadata": {
        "id": "xLrIybSKyLk5",
        "colab_type": "code",
        "colab": {
          "base_uri": "https://localhost:8080/",
          "height": 78
        },
        "outputId": "ee5c8ba0-4cd1-47a4-a83f-2342e3716581"
      },
      "source": [
        "apt_data_3 = []\n",
        "for i, row in enumerate(apt_data_2):\n",
        "    if i == 0:  # header\n",
        "        apt_data_3.append(row)\n",
        "    else:  # 아파트 거래 데이터\n",
        "        if row[0].startswith('강원도') and row[2] >= 30_000:\n",
        "            # 주소가 '강원도'로 시작하고, 가격이 30,000 이상이면\n",
        "            apt_data_3.append(row)\n",
        "\n",
        "print(apt_data_3[:3])\n",
        "print(apt_data_3[-3:])"
      ],
      "execution_count": 25,
      "outputs": [
        {
          "output_type": "stream",
          "text": [
            "[['시군구', '면적', '가격', '층', '건축년도'], ['강원도 강릉시 교동', 135.1727, 34300.0, 9.0, 2009.0], ['강원도 강릉시 교동', 118.0686, 32500.0, 2.0, 2009.0]]\n",
            "[['강원도 춘천시 후평동', 145.5773, 30900.0, 25.0, 2008.0], ['강원도 춘천시 후평동', 84.995, 30400.0, 9.0, 2018.0], ['강원도 평창군 대관령면 수하리', 84.923, 36000.0, 8.0, 2018.0]]\n"
          ],
          "name": "stdout"
        }
      ]
    },
    {
      "cell_type": "code",
      "metadata": {
        "id": "714q6FqK0JOW",
        "colab_type": "code",
        "colab": {}
      },
      "source": [
        "# CSV 파일로 저장\n",
        "with open('apt_data_3.csv', mode='w', encoding='utf-8') as f:\n",
        "    # 열려 있는 파일 f에 CSV 형식으로 데이터를 쓸 수 있는 writer 객체\n",
        "    csv_writer = csv.writer(f)\n",
        "    csv_writer.writerows(apt_data_3)"
      ],
      "execution_count": 26,
      "outputs": []
    },
    {
      "cell_type": "code",
      "metadata": {
        "id": "226KXmbT1P3P",
        "colab_type": "code",
        "colab": {
          "base_uri": "https://localhost:8080/",
          "height": 99
        },
        "outputId": "3b7aca52-ce19-4b4d-b658-d27da53374de"
      },
      "source": [
        "# apt_data2에서 시군구=서울, 30,000 <= 가격 < 40,000 인 데이터를 선택\n",
        "apt_seoul_30000 = []\n",
        "for i, row in enumerate(apt_data_2):\n",
        "    if i == 0:\n",
        "        apt_seoul_30000.append(row)\n",
        "    else:\n",
        "        if row[0].startswith('서울') and 30_000 <= row[2] < 40_000:\n",
        "            apt_seoul_30000.append(row)\n",
        "\n",
        "print(len(apt_seoul_30000))\n",
        "print(apt_seoul_30000[:3])\n",
        "print(apt_seoul_30000[-3:])"
      ],
      "execution_count": 29,
      "outputs": [
        {
          "output_type": "stream",
          "text": [
            "597\n",
            "[['시군구', '면적', '가격', '층', '건축년도'], ['서울특별시 강남구 대치동', 30.46, 30000.0, 5.0, 2003.0], ['서울특별시 강남구 도곡동', 33.1, 31800.0, 14.0, 1999.0]]\n",
            "[['서울특별시 중랑구 중화동', 71.86, 34300.0, 3.0, 2004.0], ['서울특별시 중랑구 중화동', 70.06, 33000.0, 7.0, 2004.0], ['서울특별시 중랑구 중화동', 71.34, 34000.0, 3.0, 2004.0]]\n"
          ],
          "name": "stdout"
        }
      ]
    },
    {
      "cell_type": "code",
      "metadata": {
        "id": "wxrOKqhx3df2",
        "colab_type": "code",
        "colab": {}
      },
      "source": [
        ""
      ],
      "execution_count": null,
      "outputs": []
    }
  ]
}