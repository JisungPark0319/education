{
  "nbformat": 4,
  "nbformat_minor": 0,
  "metadata": {
    "colab": {
      "name": "python21_vararg.ipynb",
      "provenance": [],
      "collapsed_sections": [],
      "authorship_tag": "ABX9TyMNlSkMuGtW4VgyBfVYbOHW",
      "include_colab_link": true
    },
    "kernelspec": {
      "name": "python3",
      "display_name": "Python 3"
    }
  },
  "cells": [
    {
      "cell_type": "markdown",
      "metadata": {
        "id": "view-in-github",
        "colab_type": "text"
      },
      "source": [
        "<a href=\"https://colab.research.google.com/github/JakeOh/202007_itw_bd18/blob/master/lab_python/python21_vararg.ipynb\" target=\"_parent\"><img src=\"https://colab.research.google.com/assets/colab-badge.svg\" alt=\"Open In Colab\"/></a>"
      ]
    },
    {
      "cell_type": "markdown",
      "metadata": {
        "id": "obpDGO1nb-Rh",
        "colab_type": "text"
      },
      "source": [
        "**가변 길이 인수(variable-length arguments)**\n",
        "\n",
        "*   함수를 호출할 때 전달하는 argument의 개수가 변할 수 있는 것.\n",
        "*   함수 parameter를 선언할 때, parameter 이름 앞에 *를 써주면 가변 길이 인수가 됨.\n",
        "*   함수 내부(본문, body)에서는 가변 길이 인수를 tuple로 간주하면 됨.\n"
      ]
    },
    {
      "cell_type": "code",
      "metadata": {
        "id": "gM5xB6PYbzIb",
        "colab_type": "code",
        "colab": {
          "base_uri": "https://localhost:8080/",
          "height": 79
        },
        "outputId": "869fe467-6971-4261-f75b-114c7ec133ab"
      },
      "source": [
        "print('hello')  # argument 1개\n",
        "print('hello', '안녕')  # argument 2개\n",
        "print(1, 'hello', True, [1, 2, 3])  # argument 4개"
      ],
      "execution_count": 3,
      "outputs": [
        {
          "output_type": "stream",
          "text": [
            "hello\n",
            "hello 안녕\n",
            "1 hello True [1, 2, 3]\n"
          ],
          "name": "stdout"
        }
      ]
    },
    {
      "cell_type": "code",
      "metadata": {
        "id": "hGnKi3BTeGKP",
        "colab_type": "code",
        "colab": {}
      },
      "source": [
        "def add_all(*values):\n",
        "    \"\"\"숫자들(values)을 전달받아서, 그 숫자들의 합계를 계산해서 리턴하는 함수.\"\"\"\n",
        "    total = 0\n",
        "    for x in values:\n",
        "        total += x\n",
        "\n",
        "    return total"
      ],
      "execution_count": 4,
      "outputs": []
    },
    {
      "cell_type": "code",
      "metadata": {
        "id": "4LQ2Jl2Ce_6t",
        "colab_type": "code",
        "colab": {
          "base_uri": "https://localhost:8080/",
          "height": 38
        },
        "outputId": "72db7684-5218-4430-fa4c-b3331d83da64"
      },
      "source": [
        "result = add_all(1, 2)\n",
        "print(result)"
      ],
      "execution_count": 5,
      "outputs": [
        {
          "output_type": "stream",
          "text": [
            "3\n"
          ],
          "name": "stdout"
        }
      ]
    },
    {
      "cell_type": "code",
      "metadata": {
        "id": "b9xZGUmQfivD",
        "colab_type": "code",
        "colab": {
          "base_uri": "https://localhost:8080/",
          "height": 38
        },
        "outputId": "0c6d655a-2ef2-4949-857f-383ebc1f6ea0"
      },
      "source": [
        "result = add_all(1, 3, 5, 7, 9)\n",
        "print(result)"
      ],
      "execution_count": 6,
      "outputs": [
        {
          "output_type": "stream",
          "text": [
            "25\n"
          ],
          "name": "stdout"
        }
      ]
    },
    {
      "cell_type": "code",
      "metadata": {
        "id": "9lfqoOPVgkCl",
        "colab_type": "code",
        "colab": {
          "base_uri": "https://localhost:8080/",
          "height": 38
        },
        "outputId": "424720cf-8bf1-404a-d022-b37536b2ef90"
      },
      "source": [
        "result = add_all()  # 가변 길이 인수인 경우에는 argument를 하나도 전달하지 않아도 됨.\n",
        "print(result)"
      ],
      "execution_count": 7,
      "outputs": [
        {
          "output_type": "stream",
          "text": [
            "0\n"
          ],
          "name": "stdout"
        }
      ]
    },
    {
      "cell_type": "code",
      "metadata": {
        "id": "C-Mwkj9chGk3",
        "colab_type": "code",
        "colab": {}
      },
      "source": [
        "def fn_test(a, *b):\n",
        "    # a: 일반 파라미터(값이 반드시 1개), b: 가변 길이 인수(값이 없어도 되고, 여러개 있어도 됨)\n",
        "    print('a =', a)\n",
        "    print('b =', b)"
      ],
      "execution_count": 8,
      "outputs": []
    },
    {
      "cell_type": "code",
      "metadata": {
        "id": "ZyWr2qoVhSXz",
        "colab_type": "code",
        "colab": {
          "base_uri": "https://localhost:8080/",
          "height": 195
        },
        "outputId": "537865d9-9ff4-4d16-fd60-25db9994436d"
      },
      "source": [
        "fn_test()  #> 에러 발생: 파라미터 a에는 반드시 argument가 전달되어야 되기 때문에."
      ],
      "execution_count": 9,
      "outputs": [
        {
          "output_type": "error",
          "ename": "TypeError",
          "evalue": "ignored",
          "traceback": [
            "\u001b[0;31m---------------------------------------------------------------------------\u001b[0m",
            "\u001b[0;31mTypeError\u001b[0m                                 Traceback (most recent call last)",
            "\u001b[0;32m<ipython-input-9-52ee25cfc319>\u001b[0m in \u001b[0;36m<module>\u001b[0;34m()\u001b[0m\n\u001b[0;32m----> 1\u001b[0;31m \u001b[0mfn_test\u001b[0m\u001b[0;34m(\u001b[0m\u001b[0;34m)\u001b[0m\u001b[0;34m\u001b[0m\u001b[0;34m\u001b[0m\u001b[0m\n\u001b[0m",
            "\u001b[0;31mTypeError\u001b[0m: fn_test() missing 1 required positional argument: 'a'"
          ]
        }
      ]
    },
    {
      "cell_type": "code",
      "metadata": {
        "id": "Kar-0EvwiMe_",
        "colab_type": "code",
        "colab": {
          "base_uri": "https://localhost:8080/",
          "height": 58
        },
        "outputId": "f13cda1e-b77a-4dea-c1c3-f76bde3c3cb9"
      },
      "source": [
        "fn_test(1)  # 가변길이 인수에는 값을 하나도 전달하지 않아도 됨."
      ],
      "execution_count": 10,
      "outputs": [
        {
          "output_type": "stream",
          "text": [
            "a = 1\n",
            "b = ()\n"
          ],
          "name": "stdout"
        }
      ]
    },
    {
      "cell_type": "code",
      "metadata": {
        "id": "LIEQdQoEipUZ",
        "colab_type": "code",
        "colab": {
          "base_uri": "https://localhost:8080/",
          "height": 58
        },
        "outputId": "637ef5b3-df27-4f2b-89f5-f74ad43f743e"
      },
      "source": [
        "fn_test(1, 2)"
      ],
      "execution_count": 11,
      "outputs": [
        {
          "output_type": "stream",
          "text": [
            "a = 1\n",
            "b = (2,)\n"
          ],
          "name": "stdout"
        }
      ]
    },
    {
      "cell_type": "code",
      "metadata": {
        "id": "41dW5jvxi5Gd",
        "colab_type": "code",
        "colab": {
          "base_uri": "https://localhost:8080/",
          "height": 58
        },
        "outputId": "d7a2f486-e26e-4e5c-cbeb-1af3e5839ba4"
      },
      "source": [
        "fn_test(1, 2, 3, 4, 5)"
      ],
      "execution_count": 12,
      "outputs": [
        {
          "output_type": "stream",
          "text": [
            "a = 1\n",
            "b = (2, 3, 4, 5)\n"
          ],
          "name": "stdout"
        }
      ]
    },
    {
      "cell_type": "code",
      "metadata": {
        "id": "dDnUO_o1jcms",
        "colab_type": "code",
        "colab": {}
      },
      "source": [
        "def fn_test2(*a, b):\n",
        "    # a: 가변길이 인수, b: 일반 파라미터\n",
        "    print('a =', a)\n",
        "    print('b =', b)"
      ],
      "execution_count": 13,
      "outputs": []
    },
    {
      "cell_type": "code",
      "metadata": {
        "id": "gZjWSYZgjje8",
        "colab_type": "code",
        "colab": {
          "base_uri": "https://localhost:8080/",
          "height": 195
        },
        "outputId": "670caca1-56c0-4d25-8328-1abbd679a92a"
      },
      "source": [
        "fn_test2()  #> 에러 발생: argument가 반드시 전달되어야 되는 b에 아무 값도 전달되지 않아서."
      ],
      "execution_count": 14,
      "outputs": [
        {
          "output_type": "error",
          "ename": "TypeError",
          "evalue": "ignored",
          "traceback": [
            "\u001b[0;31m---------------------------------------------------------------------------\u001b[0m",
            "\u001b[0;31mTypeError\u001b[0m                                 Traceback (most recent call last)",
            "\u001b[0;32m<ipython-input-14-2cb1f538959f>\u001b[0m in \u001b[0;36m<module>\u001b[0;34m()\u001b[0m\n\u001b[0;32m----> 1\u001b[0;31m \u001b[0mfn_test2\u001b[0m\u001b[0;34m(\u001b[0m\u001b[0;34m)\u001b[0m\u001b[0;34m\u001b[0m\u001b[0;34m\u001b[0m\u001b[0m\n\u001b[0m",
            "\u001b[0;31mTypeError\u001b[0m: fn_test2() missing 1 required keyword-only argument: 'b'"
          ]
        }
      ]
    },
    {
      "cell_type": "code",
      "metadata": {
        "id": "f7CrWAqWkpOG",
        "colab_type": "code",
        "colab": {
          "base_uri": "https://localhost:8080/",
          "height": 195
        },
        "outputId": "e8ff270e-9b00-44a5-91fa-3c2a2bebed28"
      },
      "source": [
        "fn_test2(1)  #> 에러 발생\n",
        "# argument가 전달되는 기본 방식은 positional 방식(파라미터가 선언된 순서대로 전달.)\n",
        "# 1은 파라미터 a에 전달됨.\n",
        "# 파라미터 b에 전달된 값이 없기 때문에 에러가 발생함!"
      ],
      "execution_count": 15,
      "outputs": [
        {
          "output_type": "error",
          "ename": "TypeError",
          "evalue": "ignored",
          "traceback": [
            "\u001b[0;31m---------------------------------------------------------------------------\u001b[0m",
            "\u001b[0;31mTypeError\u001b[0m                                 Traceback (most recent call last)",
            "\u001b[0;32m<ipython-input-15-c2573b53fb4a>\u001b[0m in \u001b[0;36m<module>\u001b[0;34m()\u001b[0m\n\u001b[0;32m----> 1\u001b[0;31m \u001b[0mfn_test2\u001b[0m\u001b[0;34m(\u001b[0m\u001b[0;36m1\u001b[0m\u001b[0;34m)\u001b[0m\u001b[0;34m\u001b[0m\u001b[0;34m\u001b[0m\u001b[0m\n\u001b[0m",
            "\u001b[0;31mTypeError\u001b[0m: fn_test2() missing 1 required keyword-only argument: 'b'"
          ]
        }
      ]
    },
    {
      "cell_type": "code",
      "metadata": {
        "id": "mBTA4SSDlqKX",
        "colab_type": "code",
        "colab": {
          "base_uri": "https://localhost:8080/",
          "height": 195
        },
        "outputId": "5e5076a3-93c1-4f94-cae3-7357bc88c7da"
      },
      "source": [
        "fn_test2(1, 2)"
      ],
      "execution_count": 16,
      "outputs": [
        {
          "output_type": "error",
          "ename": "TypeError",
          "evalue": "ignored",
          "traceback": [
            "\u001b[0;31m---------------------------------------------------------------------------\u001b[0m",
            "\u001b[0;31mTypeError\u001b[0m                                 Traceback (most recent call last)",
            "\u001b[0;32m<ipython-input-16-e05d0dc6cc52>\u001b[0m in \u001b[0;36m<module>\u001b[0;34m()\u001b[0m\n\u001b[0;32m----> 1\u001b[0;31m \u001b[0mfn_test2\u001b[0m\u001b[0;34m(\u001b[0m\u001b[0;36m1\u001b[0m\u001b[0;34m,\u001b[0m \u001b[0;36m2\u001b[0m\u001b[0;34m)\u001b[0m\u001b[0;34m\u001b[0m\u001b[0;34m\u001b[0m\u001b[0m\n\u001b[0m",
            "\u001b[0;31mTypeError\u001b[0m: fn_test2() missing 1 required keyword-only argument: 'b'"
          ]
        }
      ]
    },
    {
      "cell_type": "code",
      "metadata": {
        "id": "lsziLMl3qDO-",
        "colab_type": "code",
        "colab": {
          "base_uri": "https://localhost:8080/",
          "height": 58
        },
        "outputId": "dfb5da16-b5cf-4ded-cf79-ebfcddc19e35"
      },
      "source": [
        "fn_test2(1, b=2)\n",
        "# 가변길이 인수 뒤에 선언된 파라미터 b는 \n",
        "# \"반드시\" keyword argument 방식으로만 값을 전달할 수 있음."
      ],
      "execution_count": 17,
      "outputs": [
        {
          "output_type": "stream",
          "text": [
            "a = (1,)\n",
            "b = 2\n"
          ],
          "name": "stdout"
        }
      ]
    },
    {
      "cell_type": "code",
      "metadata": {
        "id": "1hljEIZ9rH4b",
        "colab_type": "code",
        "colab": {
          "base_uri": "https://localhost:8080/",
          "height": 100
        },
        "outputId": "2d85f67a-9015-4632-ca30-3fd7813d81c2"
      },
      "source": [
        "fn_test2(b=1)\n",
        "fn_test2(1, 2, 3, b='hello')"
      ],
      "execution_count": 23,
      "outputs": [
        {
          "output_type": "stream",
          "text": [
            "a = ()\n",
            "b = 1\n",
            "a = (1, 2, 3)\n",
            "b = hello\n"
          ],
          "name": "stdout"
        }
      ]
    },
    {
      "cell_type": "code",
      "metadata": {
        "id": "evoQt6X2r6ra",
        "colab_type": "code",
        "colab": {}
      },
      "source": [
        "def calculate(*values, op):\n",
        "    \"\"\"\n",
        "    values: 가변길이 인수. 숫자들이 전달됨.\n",
        "    op: 문자열('+', '*'). \n",
        "    op가 '+'인 경우에는 모든 숫자들의 합을 리턴.\n",
        "    op가 '*'인 경우에는 모든 숫자들의 곱을 리턴.\n",
        "\n",
        "    >>> calculate(1, 2, 3, 4, op='+')\n",
        "    10\n",
        "    >>> calculate(1, 2, 3, 4, op='*')\n",
        "    24\n",
        "    \"\"\"\n",
        "    result = None\n",
        "    if op == '+':\n",
        "        result = 0\n",
        "        for x in values:\n",
        "            result += x  # result = result + x\n",
        "    elif op == '*':\n",
        "        result = 1\n",
        "        for x in values:\n",
        "            result *= x  # result = result * x\n",
        "    else:\n",
        "        raise ValueError('op는 + 또는 *만 가능합니다.')\n",
        "    \n",
        "    return result"
      ],
      "execution_count": 29,
      "outputs": []
    },
    {
      "cell_type": "code",
      "metadata": {
        "id": "um4J4V4mvd2F",
        "colab_type": "code",
        "colab": {
          "base_uri": "https://localhost:8080/",
          "height": 38
        },
        "outputId": "ef997dc4-6d67-4749-beeb-2de948029604"
      },
      "source": [
        "calculate(1, 2, 3, 4, op='+')"
      ],
      "execution_count": 25,
      "outputs": [
        {
          "output_type": "execute_result",
          "data": {
            "text/plain": [
              "10"
            ]
          },
          "metadata": {
            "tags": []
          },
          "execution_count": 25
        }
      ]
    },
    {
      "cell_type": "code",
      "metadata": {
        "id": "CZ2IONpjvit6",
        "colab_type": "code",
        "colab": {
          "base_uri": "https://localhost:8080/",
          "height": 38
        },
        "outputId": "c21ab784-21be-4df2-ca29-232e98b0d833"
      },
      "source": [
        "calculate(1, 2, 3, 4, op='*')"
      ],
      "execution_count": 26,
      "outputs": [
        {
          "output_type": "execute_result",
          "data": {
            "text/plain": [
              "24"
            ]
          },
          "metadata": {
            "tags": []
          },
          "execution_count": 26
        }
      ]
    },
    {
      "cell_type": "code",
      "metadata": {
        "id": "49rEEMK0vxQS",
        "colab_type": "code",
        "colab": {
          "base_uri": "https://localhost:8080/",
          "height": 341
        },
        "outputId": "a79dbd23-70a9-4f64-c526-561396a46b95"
      },
      "source": [
        "calculate(1, 2, 3, 4, op='%')"
      ],
      "execution_count": 30,
      "outputs": [
        {
          "output_type": "error",
          "ename": "ValueError",
          "evalue": "ignored",
          "traceback": [
            "\u001b[0;31m---------------------------------------------------------------------------\u001b[0m",
            "\u001b[0;31mValueError\u001b[0m                                Traceback (most recent call last)",
            "\u001b[0;32m<ipython-input-30-33366590448e>\u001b[0m in \u001b[0;36m<module>\u001b[0;34m()\u001b[0m\n\u001b[0;32m----> 1\u001b[0;31m \u001b[0mcalculate\u001b[0m\u001b[0;34m(\u001b[0m\u001b[0;36m1\u001b[0m\u001b[0;34m,\u001b[0m \u001b[0;36m2\u001b[0m\u001b[0;34m,\u001b[0m \u001b[0;36m3\u001b[0m\u001b[0;34m,\u001b[0m \u001b[0;36m4\u001b[0m\u001b[0;34m,\u001b[0m \u001b[0mop\u001b[0m\u001b[0;34m=\u001b[0m\u001b[0;34m'%'\u001b[0m\u001b[0;34m)\u001b[0m\u001b[0;34m\u001b[0m\u001b[0;34m\u001b[0m\u001b[0m\n\u001b[0m",
            "\u001b[0;32m<ipython-input-29-ab303fc9978b>\u001b[0m in \u001b[0;36mcalculate\u001b[0;34m(op, *values)\u001b[0m\n\u001b[1;32m     22\u001b[0m             \u001b[0mresult\u001b[0m \u001b[0;34m*=\u001b[0m \u001b[0mx\u001b[0m  \u001b[0;31m# result = result * x\u001b[0m\u001b[0;34m\u001b[0m\u001b[0;34m\u001b[0m\u001b[0m\n\u001b[1;32m     23\u001b[0m     \u001b[0;32melse\u001b[0m\u001b[0;34m:\u001b[0m\u001b[0;34m\u001b[0m\u001b[0;34m\u001b[0m\u001b[0m\n\u001b[0;32m---> 24\u001b[0;31m         \u001b[0;32mraise\u001b[0m \u001b[0mValueError\u001b[0m\u001b[0;34m(\u001b[0m\u001b[0;34m'op는 + 또는 *만 가능합니다.'\u001b[0m\u001b[0;34m)\u001b[0m\u001b[0;34m\u001b[0m\u001b[0;34m\u001b[0m\u001b[0m\n\u001b[0m\u001b[1;32m     25\u001b[0m \u001b[0;34m\u001b[0m\u001b[0m\n\u001b[1;32m     26\u001b[0m     \u001b[0;32mreturn\u001b[0m \u001b[0mresult\u001b[0m\u001b[0;34m\u001b[0m\u001b[0;34m\u001b[0m\u001b[0m\n",
            "\u001b[0;31mValueError\u001b[0m: op는 + 또는 *만 가능합니다."
          ]
        }
      ]
    },
    {
      "cell_type": "markdown",
      "metadata": {
        "id": "cmmIuhLKxueF",
        "colab_type": "text"
      },
      "source": [
        "**가변길이 키워드 아규먼트(variable-length keyword arguments)**\n",
        "\n",
        "*   variable-length: 함수를 호출할 때 값을 몇 개를 전달해도 됨.\n",
        "*   keyword argument: 함수 호출할 때 param=value 와 같은 형식으로 호출.\n",
        "*   함수를 정의할 때, parameter 이름 앞에는 **를 사용.\n",
        "*   함수를 호출할 때, param1=value1, param2=value2, ... 여러개의 키워드 방식 전달을 사용.\n",
        "*   함수 내부에서는 전달받은 argument는 dict로 간주."
      ]
    },
    {
      "cell_type": "code",
      "metadata": {
        "id": "WUI_gFPDy5iC",
        "colab_type": "code",
        "colab": {}
      },
      "source": [
        "def fn_test3(**kwargs):\n",
        "    print(kwargs)\n",
        "    for k in kwargs:\n",
        "        print(k)"
      ],
      "execution_count": 36,
      "outputs": []
    },
    {
      "cell_type": "code",
      "metadata": {
        "id": "H-YbHZ-NzNIP",
        "colab_type": "code",
        "colab": {
          "base_uri": "https://localhost:8080/",
          "height": 38
        },
        "outputId": "950fc29e-60f9-4013-dc96-df6777da448c"
      },
      "source": [
        "fn_test3()"
      ],
      "execution_count": 32,
      "outputs": [
        {
          "output_type": "stream",
          "text": [
            "{}\n"
          ],
          "name": "stdout"
        }
      ]
    },
    {
      "cell_type": "code",
      "metadata": {
        "id": "08yjAL_TziIa",
        "colab_type": "code",
        "colab": {
          "base_uri": "https://localhost:8080/",
          "height": 79
        },
        "outputId": "670f78e8-3283-474a-d8d3-13986c7a0d0a"
      },
      "source": [
        "fn_test3(name='오쌤', age=16)\n",
        "# kwargs = {}  # empty dict\n",
        "# kwargs['name'] = '오쌤'\n",
        "# kwargs['age'] = 16"
      ],
      "execution_count": 37,
      "outputs": [
        {
          "output_type": "stream",
          "text": [
            "{'name': '오쌤', 'age': 16}\n",
            "name\n",
            "age\n"
          ],
          "name": "stdout"
        }
      ]
    }
  ]
}