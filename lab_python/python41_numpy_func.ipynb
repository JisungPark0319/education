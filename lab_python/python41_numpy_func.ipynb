{
  "nbformat": 4,
  "nbformat_minor": 0,
  "metadata": {
    "colab": {
      "name": "python41_numpy_func.ipynb",
      "provenance": [],
      "collapsed_sections": [],
      "authorship_tag": "ABX9TyM6Jji7nECPthYWouaI8fOO",
      "include_colab_link": true
    },
    "kernelspec": {
      "name": "python3",
      "display_name": "Python 3"
    }
  },
  "cells": [
    {
      "cell_type": "markdown",
      "metadata": {
        "id": "view-in-github",
        "colab_type": "text"
      },
      "source": [
        "<a href=\"https://colab.research.google.com/github/JakeOh/202007_itw_bd18/blob/master/lab_python/python41_numpy_func.ipynb\" target=\"_parent\"><img src=\"https://colab.research.google.com/assets/colab-badge.svg\" alt=\"Open In Colab\"/></a>"
      ]
    },
    {
      "cell_type": "code",
      "metadata": {
        "id": "-hdlEPz__wvm",
        "colab_type": "code",
        "colab": {}
      },
      "source": [
        "# universal function:\n",
        "# NumPy의 거의 대부분의 함수들은 배열의 각 원소별로(element-wise) \n",
        "# iteration을 하면서 연산을 하는 기능을 가지고 있음."
      ],
      "execution_count": null,
      "outputs": []
    },
    {
      "cell_type": "code",
      "metadata": {
        "id": "iCC6srslAmai",
        "colab_type": "code",
        "colab": {}
      },
      "source": [
        "import numpy as np\n",
        "import matplotlib.pyplot as plt"
      ],
      "execution_count": 1,
      "outputs": []
    },
    {
      "cell_type": "code",
      "metadata": {
        "id": "PxvccoWaAraI",
        "colab_type": "code",
        "colab": {
          "base_uri": "https://localhost:8080/",
          "height": 265
        },
        "outputId": "922c0753-e6e9-4e4d-8081-87e19eb5e209"
      },
      "source": [
        "x = np.arange(-5, 5, 0.01)\n",
        "y = np.exp(x)\n",
        "\n",
        "plt.plot(x, y)\n",
        "plt.show()"
      ],
      "execution_count": 2,
      "outputs": [
        {
          "output_type": "display_data",
          "data": {
            "image/png": "[encoded data removed]",
            "text/plain": [
              "<Figure size 432x288 with 1 Axes>"
            ]
          },
          "metadata": {
            "tags": [],
            "needs_background": "light"
          }
        }
      ]
    },
    {
      "cell_type": "code",
      "metadata": {
        "id": "Yi5kQ3XLB-Gp",
        "colab_type": "code",
        "colab": {
          "base_uri": "https://localhost:8080/",
          "height": 265
        },
        "outputId": "2dc61577-602f-473e-e6b4-3a9f2d9eb326"
      },
      "source": [
        "y = x ** 3 - 5 * x ** 2 + x + 10\n",
        "\n",
        "plt.plot(x, y)\n",
        "plt.show()"
      ],
      "execution_count": 4,
      "outputs": [
        {
          "output_type": "display_data",
          "data": {
            "image/png": "[encoded data removed]",
            "text/plain": [
              "<Figure size 432x288 with 1 Axes>"
            ]
          },
          "metadata": {
            "tags": [],
            "needs_background": "light"
          }
        }
      ]
    },
    {
      "cell_type": "code",
      "metadata": {
        "id": "d-eXydScDLDB",
        "colab_type": "code",
        "colab": {}
      },
      "source": [
        "# NumPy 통계 관련 함수/메서드: 합계(sum), 평균(mean), 표준편차(std), ...\n",
        "# 함수: np.함수이름(array)\n",
        "# 메서드: array.메서드이름()"
      ],
      "execution_count": null,
      "outputs": []
    },
    {
      "cell_type": "code",
      "metadata": {
        "id": "vGznoPDWD5mI",
        "colab_type": "code",
        "colab": {
          "base_uri": "https://localhost:8080/",
          "height": 58
        },
        "outputId": "acfeb565-062b-4d7a-b5b7-4b506a42dddf"
      },
      "source": [
        "arr = np.arange(10)\n",
        "print(type(arr))\n",
        "print(arr)"
      ],
      "execution_count": 12,
      "outputs": [
        {
          "output_type": "stream",
          "text": [
            "<class 'numpy.ndarray'>\n",
            "[0 1 2 3 4 5 6 7 8 9]\n"
          ],
          "name": "stdout"
        }
      ]
    },
    {
      "cell_type": "code",
      "metadata": {
        "id": "XzWUdgGuEGGo",
        "colab_type": "code",
        "colab": {
          "base_uri": "https://localhost:8080/",
          "height": 58
        },
        "outputId": "da98f135-bf65-4dc9-9de0-28ddaa239118"
      },
      "source": [
        "# 배열 a의 합계\n",
        "print(np.sum(arr))  # numpy.sum() 함수 호출\n",
        "print(arr.sum())  # numpy.ndarray.sum() 메서드 호출"
      ],
      "execution_count": 8,
      "outputs": [
        {
          "output_type": "stream",
          "text": [
            "45\n",
            "45\n"
          ],
          "name": "stdout"
        }
      ]
    },
    {
      "cell_type": "code",
      "metadata": {
        "id": "6xCLx6NKJV7w",
        "colab_type": "code",
        "colab": {}
      },
      "source": [
        "# 함수 정의(선언)\n",
        "def my_sum(array):\n",
        "    pass\n",
        "\n",
        "# 함수 호출\n",
        "my_sum(arr)"
      ],
      "execution_count": 10,
      "outputs": []
    },
    {
      "cell_type": "code",
      "metadata": {
        "id": "nLQtqjDRJuK1",
        "colab_type": "code",
        "colab": {}
      },
      "source": [
        "class MyArray:\n",
        "    # 메서드 정의\n",
        "    def my_sum(self):\n",
        "        pass\n",
        "\n",
        "array = MyArray()  # MyArray 클래스의 인스턴스 생성\n",
        "array.my_sum()  # 메서드 호출"
      ],
      "execution_count": 11,
      "outputs": []
    },
    {
      "cell_type": "code",
      "metadata": {
        "id": "TJ1GXNRKLf44",
        "colab_type": "code",
        "colab": {
          "base_uri": "https://localhost:8080/",
          "height": 142
        },
        "outputId": "017dc616-158e-43d9-c53e-1442dd77ccd5"
      },
      "source": [
        "print(arr)\n",
        "print('평균:', np.mean(arr), arr.mean())\n",
        "print('분산:', np.var(arr), arr.var())\n",
        "print('표준편차:', np.std(arr), arr.std())\n",
        "print('중앙값:', np.median(arr))  \n",
        "# numpy.median() 함수는 있지만, numpy.ndarray.median() 메서드는 없음!\n",
        "print('최댓값:', np.max(arr), arr.max())"
      ],
      "execution_count": 18,
      "outputs": [
        {
          "output_type": "stream",
          "text": [
            "[0 1 2 3 4 5 6 7 8 9]\n",
            "평균: 4.5 4.5\n",
            "분산: 8.25 8.25\n",
            "표준편차: 2.8722813232690143 2.8722813232690143\n",
            "중앙값: 4.5\n",
            "최댓값: 9 9\n"
          ],
          "name": "stdout"
        }
      ]
    },
    {
      "cell_type": "code",
      "metadata": {
        "id": "XLrwYTC5M6qX",
        "colab_type": "code",
        "colab": {
          "base_uri": "https://localhost:8080/",
          "height": 79
        },
        "outputId": "c227cc30-32fe-4a1a-b0c0-ab85a0e62f4c"
      },
      "source": [
        "# np.max(), np.min()과 np.maximum(), np.minimum()의 차이\n",
        "# np.max(array): array의 원소들 중에서 최댓값 리턴.\n",
        "# np.maximum(a1, a2): a1과 a2의 같은 인덱스에 있는 원소들 중에서 최댓값들로 이루어진 배열.\n",
        "\n",
        "arr1 = np.random.randint(0, 20, size=10)\n",
        "arr2 = np.random.randint(0, 20, size=10)\n",
        "print(arr1)\n",
        "print(arr2)\n",
        "print(np.maximum(arr1, arr2))"
      ],
      "execution_count": 20,
      "outputs": [
        {
          "output_type": "stream",
          "text": [
            "[12 12  6  4 11 18  3 13 10  3]\n",
            "[ 9  5  5  8  2 14  4 11 13 13]\n",
            "[12 12  6  8 11 18  4 13 13 13]\n"
          ],
          "name": "stdout"
        }
      ]
    },
    {
      "cell_type": "code",
      "metadata": {
        "id": "hX3trUAdOpfd",
        "colab_type": "code",
        "colab": {
          "base_uri": "https://localhost:8080/",
          "height": 79
        },
        "outputId": "f2a70291-b5a7-4fc6-aa79-c37e9a9fbdd1"
      },
      "source": [
        "print(arr1)\n",
        "print('최댓값 위치:', np.argmax(arr1), arr1.argmax())\n",
        "print('최솟값 위치:', np.argmin(arr1), arr1.argmin())"
      ],
      "execution_count": 22,
      "outputs": [
        {
          "output_type": "stream",
          "text": [
            "[12 12  6  4 11 18  3 13 10  3]\n",
            "최댓값 위치: 5 5\n",
            "최솟값 위치: 6 6\n"
          ],
          "name": "stdout"
        }
      ]
    },
    {
      "cell_type": "code",
      "metadata": {
        "id": "OeDgxJXfOg-O",
        "colab_type": "code",
        "colab": {
          "base_uri": "https://localhost:8080/",
          "height": 142
        },
        "outputId": "1ce3073b-867c-4388-ce75-ce9c41656b5c"
      },
      "source": [
        "# 2차원 배열(ndarray)의 통계 함수/메서드\n",
        "np.random.seed(1)\n",
        "\n",
        "arr_2d = np.random.randint(0, 10, size=(3, 4))\n",
        "print(arr_2d)\n",
        "\n",
        "print(np.sum(arr_2d))  # np.sum(arr_2d, axis=None)  # arr_2d.sum(axis=None)\n",
        "print(np.sum(arr_2d, axis=0))  # arr_2d.sum(axis=0)\n",
        "print(np.sum(arr_2d, axis=1))  # arr_2d.sum(axis=1)"
      ],
      "execution_count": 29,
      "outputs": [
        {
          "output_type": "stream",
          "text": [
            "[[5 8 9 5]\n",
            " [0 0 1 7]\n",
            " [6 9 2 4]]\n",
            "56\n",
            "[11 17 12 16]\n",
            "[27  8 21]\n"
          ],
          "name": "stdout"
        }
      ]
    }
  ]
}