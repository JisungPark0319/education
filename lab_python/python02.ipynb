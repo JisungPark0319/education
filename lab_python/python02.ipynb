{
  "nbformat": 4,
  "nbformat_minor": 0,
  "metadata": {
    "colab": {
      "name": "python02.ipynb",
      "provenance": [],
      "collapsed_sections": [],
      "authorship_tag": "ABX9TyMCWQ/AJY3gWLx0toDhvwEa",
      "include_colab_link": true
    },
    "kernelspec": {
      "name": "python3",
      "display_name": "Python 3"
    }
  },
  "cells": [
    {
      "cell_type": "markdown",
      "metadata": {
        "id": "view-in-github",
        "colab_type": "text"
      },
      "source": [
        "<a href=\"https://colab.research.google.com/github/JakeOh/202007_itw_bd18/blob/master/lab_python/python02.ipynb\" target=\"_parent\"><img src=\"https://colab.research.google.com/assets/colab-badge.svg\" alt=\"Open In Colab\"/></a>"
      ]
    },
    {
      "cell_type": "markdown",
      "metadata": {
        "id": "H8SbFgjUdOvH",
        "colab_type": "text"
      },
      "source": [
        "여러가지 print 방법"
      ]
    },
    {
      "cell_type": "code",
      "metadata": {
        "id": "rlz-dRMjYPkX",
        "colab_type": "code",
        "colab": {
          "base_uri": "https://localhost:8080/",
          "height": 36
        },
        "outputId": "3def8786-5d78-4f52-d3fa-bc7bec17dac0"
      },
      "source": [
        "print('Hello, Python!')"
      ],
      "execution_count": null,
      "outputs": [
        {
          "output_type": "stream",
          "text": [
            "Hello, Python!\n"
          ],
          "name": "stdout"
        }
      ]
    },
    {
      "cell_type": "code",
      "metadata": {
        "id": "as_jVIojdfL7",
        "colab_type": "code",
        "colab": {
          "base_uri": "https://localhost:8080/",
          "height": 36
        },
        "outputId": "4ce81301-8926-4e3e-eca5-3be5b936272d"
      },
      "source": [
        "print('안녕', '여러분', 'Hello')"
      ],
      "execution_count": null,
      "outputs": [
        {
          "output_type": "stream",
          "text": [
            "안녕 여러분 Hello\n"
          ],
          "name": "stdout"
        }
      ]
    },
    {
      "cell_type": "code",
      "metadata": {
        "id": "u3cO-2jnd1r-",
        "colab_type": "code",
        "colab": {
          "base_uri": "https://localhost:8080/",
          "height": 36
        },
        "outputId": "3b666163-f21a-40d0-b7d1-e6a121ad2980"
      },
      "source": [
        "print(1 + 2)"
      ],
      "execution_count": null,
      "outputs": [
        {
          "output_type": "stream",
          "text": [
            "3\n"
          ],
          "name": "stdout"
        }
      ]
    },
    {
      "cell_type": "code",
      "metadata": {
        "id": "JCK9W9sDeXC5",
        "colab_type": "code",
        "colab": {
          "base_uri": "https://localhost:8080/",
          "height": 36
        },
        "outputId": "b5000868-869c-4d84-9914-542c85f1968a"
      },
      "source": [
        "print(1, '+', 2, '=', (1 + 2))"
      ],
      "execution_count": null,
      "outputs": [
        {
          "output_type": "stream",
          "text": [
            "1 + 2 = 3\n"
          ],
          "name": "stdout"
        }
      ]
    },
    {
      "cell_type": "code",
      "metadata": {
        "id": "Ks40Ptuxfavl",
        "colab_type": "code",
        "colab": {}
      },
      "source": [
        "# 변수(variable): 자료를 저장하는 메모리 공간\n",
        "# 변수_이름 = 값\n",
        "name = '오쌤'\n",
        "age = 16"
      ],
      "execution_count": null,
      "outputs": []
    },
    {
      "cell_type": "code",
      "metadata": {
        "id": "0g3o5hA4f6OT",
        "colab_type": "code",
        "colab": {
          "base_uri": "https://localhost:8080/",
          "height": 36
        },
        "outputId": "e539f048-2c82-4367-9beb-05cccb3b2f22"
      },
      "source": [
        "print('이름:', name, ', age:', age)"
      ],
      "execution_count": null,
      "outputs": [
        {
          "output_type": "stream",
          "text": [
            "이름: 오쌤 , age: 16\n"
          ],
          "name": "stdout"
        }
      ]
    },
    {
      "cell_type": "code",
      "metadata": {
        "id": "G1dvAbFygocO",
        "colab_type": "code",
        "colab": {
          "base_uri": "https://localhost:8080/",
          "height": 36
        },
        "outputId": "3800bb02-f9db-4511-e077-77aa72f929d3"
      },
      "source": [
        "print('이름: %s, 나이: %d' % (name, age))\n",
        "# %s: 문자열, %d: 정수, %f: 실수"
      ],
      "execution_count": null,
      "outputs": [
        {
          "output_type": "stream",
          "text": [
            "이름: 오쌤, 나이: 16\n"
          ],
          "name": "stdout"
        }
      ]
    },
    {
      "cell_type": "code",
      "metadata": {
        "id": "bm7F7B5IhmeQ",
        "colab_type": "code",
        "colab": {
          "base_uri": "https://localhost:8080/",
          "height": 36
        },
        "outputId": "4abd8220-75cd-43e3-d865-ea152ec8c5e3"
      },
      "source": [
        "print('%s = %f, %s = %d' % ('PI', 3.1415292, '연도', 2020))"
      ],
      "execution_count": null,
      "outputs": [
        {
          "output_type": "stream",
          "text": [
            "PI = 3.141529, 연도 = 2020\n"
          ],
          "name": "stdout"
        }
      ]
    },
    {
      "cell_type": "code",
      "metadata": {
        "id": "LnKZ0K6XiG9X",
        "colab_type": "code",
        "colab": {
          "base_uri": "https://localhost:8080/",
          "height": 36
        },
        "outputId": "59452f83-fdca-478f-9fdb-8220aa7cfe9d"
      },
      "source": [
        "# format() 메서드 사용\n",
        "print('이름: {}, 나이: {}'.format(name, age))"
      ],
      "execution_count": null,
      "outputs": [
        {
          "output_type": "stream",
          "text": [
            "이름: 오쌤, 나이: 16\n"
          ],
          "name": "stdout"
        }
      ]
    },
    {
      "cell_type": "code",
      "metadata": {
        "id": "_awX3pJTjPSf",
        "colab_type": "code",
        "colab": {
          "base_uri": "https://localhost:8080/",
          "height": 36
        },
        "outputId": "d6b42e57-24b9-4b4d-e42c-74278372e7cb"
      },
      "source": [
        "print('이름: {1}, 나이: {0}'.format(age, name))"
      ],
      "execution_count": null,
      "outputs": [
        {
          "output_type": "stream",
          "text": [
            "이름: 오쌤, 나이: 16\n"
          ],
          "name": "stdout"
        }
      ]
    },
    {
      "cell_type": "code",
      "metadata": {
        "id": "eOFxhyQKj3Lr",
        "colab_type": "code",
        "colab": {
          "base_uri": "https://localhost:8080/",
          "height": 36
        },
        "outputId": "f2982761-eade-4638-a5a2-70f1ecc0a7ef"
      },
      "source": [
        "print('a = {0}, b = {1}, c = {0}, d = {1}'.format(100, 200))"
      ],
      "execution_count": null,
      "outputs": [
        {
          "output_type": "stream",
          "text": [
            "a = 100, b = 200, c = 100, d = 200\n"
          ],
          "name": "stdout"
        }
      ]
    },
    {
      "cell_type": "code",
      "metadata": {
        "id": "4X9_xZgMlPHe",
        "colab_type": "code",
        "colab": {
          "base_uri": "https://localhost:8080/",
          "height": 36
        },
        "outputId": "73354d87-9f73-4ae4-d98c-4b48c738d519"
      },
      "source": [
        "# Python 3.6 이상 버전부터 생긴 기능: formatted string\n",
        "print(f'이름: {name}, 나이: {age}')"
      ],
      "execution_count": null,
      "outputs": [
        {
          "output_type": "stream",
          "text": [
            "이름: 오쌤, 나이: 16\n"
          ],
          "name": "stdout"
        }
      ]
    },
    {
      "cell_type": "code",
      "metadata": {
        "id": "I1S1c2fBkDG7",
        "colab_type": "code",
        "colab": {
          "base_uri": "https://localhost:8080/",
          "height": 55
        },
        "outputId": "c839fccd-a7ff-414b-b318-071223b8212e"
      },
      "source": [
        "names = ('a', 'b', 'c')\n",
        "print(names)\n",
        "print(f'names = {names}')"
      ],
      "execution_count": null,
      "outputs": [
        {
          "output_type": "stream",
          "text": [
            "('a', 'b', 'c')\n",
            "names = ('a', 'b', 'c')\n"
          ],
          "name": "stdout"
        }
      ]
    },
    {
      "cell_type": "code",
      "metadata": {
        "id": "4a9-1YBJq2qW",
        "colab_type": "code",
        "colab": {
          "base_uri": "https://localhost:8080/",
          "height": 55
        },
        "outputId": "106de39e-02ee-4f3d-e200-576876f30b4b"
      },
      "source": [
        "# 사용자 입력(키보드 입력) 처리\n",
        "name = input('이름을 입력하세요>>> ')\n",
        "print(f'name: {name}')"
      ],
      "execution_count": null,
      "outputs": [
        {
          "output_type": "stream",
          "text": [
            "이름을 입력하세요>>> 오쌤\n",
            "name: 오쌤\n"
          ],
          "name": "stdout"
        }
      ]
    },
    {
      "cell_type": "code",
      "metadata": {
        "id": "XtJRatusr2b2",
        "colab_type": "code",
        "colab": {
          "base_uri": "https://localhost:8080/",
          "height": 75
        },
        "outputId": "da1c79e0-0b6f-4132-cb12-242d4ae1eb43"
      },
      "source": [
        "age = input('나이를 입력하세요>>> ')\n",
        "print(f'age: {age}')\n",
        "# input() 함수에서 입력받은 값은 항상 문자열(string)\n",
        "print(type(age))  # age 변수의 데이터(자료) 타입 출력"
      ],
      "execution_count": null,
      "outputs": [
        {
          "output_type": "stream",
          "text": [
            "나이를 입력하세요>>> 16\n",
            "age: 16\n",
            "<class 'str'>\n"
          ],
          "name": "stdout"
        }
      ]
    },
    {
      "cell_type": "code",
      "metadata": {
        "id": "THLKQhWtso6r",
        "colab_type": "code",
        "colab": {
          "base_uri": "https://localhost:8080/",
          "height": 55
        },
        "outputId": "448b15f2-b677-48a7-a7b9-d3723542a114"
      },
      "source": [
        "# 명시적 형 변환(type conversion): 문자열 -> 정수, 문자열 -> 실수\n",
        "# int(입력값): 입력값을 정수로 변환\n",
        "# float(입력값): 입력값을 실수로 변환\n",
        "age = int(age)  # age 변수의 타입을 int 타입으로 변환 후 저장.\n",
        "print(type(age))\n",
        "print(age + 1, age - 1)"
      ],
      "execution_count": null,
      "outputs": [
        {
          "output_type": "stream",
          "text": [
            "<class 'int'>\n",
            "17 15\n"
          ],
          "name": "stdout"
        }
      ]
    },
    {
      "cell_type": "code",
      "metadata": {
        "id": "6e0BoLxvuMP3",
        "colab_type": "code",
        "colab": {
          "base_uri": "https://localhost:8080/",
          "height": 167
        },
        "outputId": "27d1ea70-8e1e-4efd-c867-a52a8283cbe6"
      },
      "source": [
        "# 변수 x, y에 숫자(실수)를 입력받아서 저장.\n",
        "# x + y, x - y, x * y, x / y, x // y, x % y 연산 결과를 출력\n",
        "x = input('x 입력>>> ')\n",
        "x = float(x)  # 입력받은 문자열(str)을 실수(float) 타입으로 변환\n",
        "\n",
        "y = float(input('y 입력>>> '))\n",
        "\n",
        "print(f'{x} + {y} = {x + y}')\n",
        "print(f'{x} - {y} = {x - y}')\n",
        "print(f'{x} x {y} = {x * y}')\n",
        "print(f'{x} / {y} = {x / y}')\n",
        "print(f'{x} // {y} = {x // y}')  # //: 나눈 몫\n",
        "print(f'{x} % {y} = {x % y}')    # %: 나눈 나머지"
      ],
      "execution_count": null,
      "outputs": [
        {
          "output_type": "stream",
          "text": [
            "x 입력>>> 10\n",
            "y 입력>>> 3\n",
            "10.0 + 3.0 = 13.0\n",
            "10.0 - 3.0 = 7.0\n",
            "10.0 x 3.0 = 30.0\n",
            "10.0 / 3.0 = 3.3333333333333335\n",
            "10.0 // 3.0 = 3.0\n",
            "10.0 % 3.0 = 1.0\n"
          ],
          "name": "stdout"
        }
      ]
    }
  ]
}