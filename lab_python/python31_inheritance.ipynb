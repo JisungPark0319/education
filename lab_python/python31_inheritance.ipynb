{
  "nbformat": 4,
  "nbformat_minor": 0,
  "metadata": {
    "colab": {
      "name": "python31_inheritance.ipynb",
      "provenance": [],
      "collapsed_sections": [],
      "authorship_tag": "ABX9TyMI/ZpbVes1ff3TFkzBMq0D",
      "include_colab_link": true
    },
    "kernelspec": {
      "name": "python3",
      "display_name": "Python 3"
    }
  },
  "cells": [
    {
      "cell_type": "markdown",
      "metadata": {
        "id": "view-in-github",
        "colab_type": "text"
      },
      "source": [
        "<a href=\"https://colab.research.google.com/github/JakeOh/202007_itw_bd18/blob/master/lab_python/python31_inheritance.ipynb\" target=\"_parent\"><img src=\"https://colab.research.google.com/assets/colab-badge.svg\" alt=\"Open In Colab\"/></a>"
      ]
    },
    {
      "cell_type": "markdown",
      "metadata": {
        "id": "IG8w5cZIiLch",
        "colab_type": "text"
      },
      "source": [
        "**상속(Inheritance)**\n",
        "\n",
        "*   Super class(상위 클래스), Parent class(부모 클래스), Base class(기본 클래스)\n",
        "*   Sub class(하위 클래스), Child class(자식 클래스), Derived class(유도 클래스)\n",
        "*   부모 클래스의 속성(attribute) 또는 기능(method) 코드들을 자식 클래스에 재활용(reuse)하는 것.\n",
        "*   IS-A 관계가 성립하는 객체들은 상속을 사용해서 구현함.\n",
        "    * 학생은 사람이다. (Student IS A Person.)\n",
        "    * 사람은 학생이다. (X)\n",
        "*   파이썬의 모든 클래스는 object 클래스를 상속받아서 만들어짐.\n",
        "\n",
        "```\n",
        "class ChildClass(ParentClass):\n",
        "    클래스 구현.\n",
        "```\n"
      ]
    },
    {
      "cell_type": "code",
      "metadata": {
        "id": "To3fBQwqiHCT",
        "colab_type": "code",
        "colab": {
          "base_uri": "https://localhost:8080/",
          "height": 58
        },
        "outputId": "211466b3-b1de-4881-c337-38753bfa2a58"
      },
      "source": [
        "# class Parent(object):\n",
        "class Parent:\n",
        "    def __init__(self):\n",
        "        self.money = 10_000  # attribute\n",
        "\n",
        "    def get_money(self):\n",
        "        return self.money\n",
        "\n",
        "# Parent 클래스의 인스턴스를 생성\n",
        "parent = Parent()\n",
        "print(parent)\n",
        "print('money:', parent.get_money())\n"
      ],
      "execution_count": 1,
      "outputs": [
        {
          "output_type": "stream",
          "text": [
            "<__main__.Parent object at 0x7f12753f6ef0>\n",
            "money: 10000\n"
          ],
          "name": "stdout"
        }
      ]
    },
    {
      "cell_type": "code",
      "metadata": {
        "id": "iNLV8Stlm9LP",
        "colab_type": "code",
        "colab": {
          "base_uri": "https://localhost:8080/",
          "height": 79
        },
        "outputId": "e704c1f5-ea83-441a-91e7-69dafac6014b"
      },
      "source": [
        "class Child(Parent):  # Child 클래스는 Parent 클래스를 상속합니다.\n",
        "    def spend_all_money(self):\n",
        "        print(self.money, '원을 다 써버릴거야...')\n",
        "        self.money = 0\n",
        "\n",
        "\n",
        "# Child 클래스의 인스턴스 생성\n",
        "child = Child()\n",
        "print('child money:', child.money)\n",
        "\n",
        "child.spend_all_money()\n",
        "\n",
        "print('child get_money():', child.get_money())"
      ],
      "execution_count": 2,
      "outputs": [
        {
          "output_type": "stream",
          "text": [
            "child money: 10000\n",
            "10000 원을 다 써버릴거야...\n",
            "child get_money(): 0\n"
          ],
          "name": "stdout"
        }
      ]
    },
    {
      "cell_type": "code",
      "metadata": {
        "id": "ZoBfJ3ReQpvA",
        "colab_type": "code",
        "colab": {
          "base_uri": "https://localhost:8080/",
          "height": 58
        },
        "outputId": "368059d3-6241-45fe-c2b9-bd4bee4d7a3f"
      },
      "source": [
        "# 학생은 사람이다.(Student IS A Person.)\n",
        "\n",
        "class Person:\n",
        "\n",
        "    def __init__(self, name, age):\n",
        "        self.name = name\n",
        "        self.age = age\n",
        "\n",
        "    def say_hello(self):\n",
        "        print(f'안녕하세요, 제 이름은 {self.name}입니다.')\n",
        "\n",
        "\n",
        "# Person 클래스의 인스턴스를 생성.\n",
        "p = Person('오쌤', 16)\n",
        "print(f'이름: {p.name}, 나이: {p.age}')  # 인스턴스의 속성(attribute)들을 직접 접근.\n",
        "p.say_hello()  # 인스턴스의 기능(메서드)를 사용."
      ],
      "execution_count": 4,
      "outputs": [
        {
          "output_type": "stream",
          "text": [
            "이름: 오쌤, 나이: 16\n",
            "안녕하세요, 제 이름은 오쌤입니다.\n"
          ],
          "name": "stdout"
        }
      ]
    },
    {
      "cell_type": "code",
      "metadata": {
        "id": "LsH81PS-VRli",
        "colab_type": "code",
        "colab": {}
      },
      "source": [
        "# Student 클래스는 Person 클래스를 상속한다.\n",
        "class Student(Person):\n",
        "    pass"
      ],
      "execution_count": 5,
      "outputs": []
    },
    {
      "cell_type": "code",
      "metadata": {
        "id": "UbEf8ghtVhZA",
        "colab_type": "code",
        "colab": {
          "base_uri": "https://localhost:8080/",
          "height": 38
        },
        "outputId": "741bf9dc-4637-4081-98f8-a0902c4132d1"
      },
      "source": [
        "# Student 클래스의 인스턴스를 생성.\n",
        "# 부모 클래스인 Person 클래스에서 __init__ 메서드도 상속받음.\n",
        "# -> 생성자 함수를 호출할 때는, 부모 클래스의 __init__의 argument들을 전달해야만 함!\n",
        "# student1 = Student()  # Error 발생\n",
        "student1 = Student('홍길동', 20)\n",
        "student1.say_hello()"
      ],
      "execution_count": 8,
      "outputs": [
        {
          "output_type": "stream",
          "text": [
            "안녕하세요, 제 이름은 홍길동입니다.\n"
          ],
          "name": "stdout"
        }
      ]
    },
    {
      "cell_type": "code",
      "metadata": {
        "id": "JaMxmxsvbJKB",
        "colab_type": "code",
        "colab": {}
      },
      "source": [
        "class Student2(Person):\n",
        "\n",
        "    # 부모 클래스 Person이 가지고 있는 __init__ 메서드를 재정의(override).\n",
        "    def __init__(self, name, age, stu_id):\n",
        "        self.stu_id = stu_id\n",
        "        # 부모 클래스의 __init__ 메서드를 자식 클래스에서 호출:\n",
        "        # super().__init__(arg1, arg2, ...)\n",
        "        super().__init__(name, age)\n",
        "\n",
        "    # 부모 클래스 Person이 가지고 있는 say_hello 메서드를 override.\n",
        "    def say_hello(self):\n",
        "        super().say_hello()  # 부모 클래스의 메서드를 명시적으로 호출.\n",
        "        print(f'제 학번은 {self.stu_id}입니다.')\n"
      ],
      "execution_count": 21,
      "outputs": []
    },
    {
      "cell_type": "code",
      "metadata": {
        "id": "fD7CdenscJcp",
        "colab_type": "code",
        "colab": {
          "base_uri": "https://localhost:8080/",
          "height": 79
        },
        "outputId": "56e3ad60-3410-406c-c177-2082eba4dd25"
      },
      "source": [
        "stu = Student2('홍길동', 20, 201234)\n",
        "print(stu.name, stu.age, stu.stu_id)\n",
        "stu.say_hello()"
      ],
      "execution_count": 22,
      "outputs": [
        {
          "output_type": "stream",
          "text": [
            "홍길동 20 201234\n",
            "안녕하세요, 제 이름은 홍길동입니다.\n",
            "제 학번은 201234입니다.\n"
          ],
          "name": "stdout"
        }
      ]
    },
    {
      "cell_type": "markdown",
      "metadata": {
        "id": "00fCIZi0fQC3",
        "colab_type": "text"
      },
      "source": [
        "**메서드 오버라이드(Method Override)**\n",
        "*   부모 클래스가 가지고 있는 메서드를 같은 이름으로 자식 클래스에서 재정의하는 것(덮어쓰는 것).\n",
        "*   자식 클래스에서 부모 클래스의 메서드를 호출할 필요가 있을 때는 \n",
        "    * super().parent_method(arg, ...) \n",
        "    * ParentClassName.parent_method(self, arg, ...)"
      ]
    },
    {
      "cell_type": "code",
      "metadata": {
        "id": "eJTOd8kBgU40",
        "colab_type": "code",
        "colab": {
          "base_uri": "https://localhost:8080/",
          "height": 58
        },
        "outputId": "34676371-b2f1-4208-89d2-ba51b01ca81b"
      },
      "source": [
        "# isinstance(obj, class): object가 class의 인스턴스인 지(True) 아닌 지(False)를 반환(return)\n",
        "s = Student2('Abc', 19, 201122)\n",
        "\n",
        "# s는 Student2 클래스의 인스턴스입니다. (O)\n",
        "print(isinstance(s, Student2))\n",
        "\n",
        "# s는 Person 클래스의 인스턴스입니다. (O)\n",
        "print(isinstance(s, Person))"
      ],
      "execution_count": 25,
      "outputs": [
        {
          "output_type": "stream",
          "text": [
            "True\n",
            "True\n"
          ],
          "name": "stdout"
        }
      ]
    },
    {
      "cell_type": "code",
      "metadata": {
        "id": "9HT3X2ZYpvdk",
        "colab_type": "code",
        "colab": {
          "base_uri": "https://localhost:8080/",
          "height": 58
        },
        "outputId": "5e8f863e-60d1-4a0c-f060-ffef0770e5d6"
      },
      "source": [
        "p = Person('Abc', 19)\n",
        "\n",
        "# p는 Person 클래스의 인스턴스입니다. (O)\n",
        "print(isinstance(p, Person))\n",
        "\n",
        "# p는 Student2 클래스의 인스턴스입니다. (X)\n",
        "print(isinstance(p, Student2))"
      ],
      "execution_count": 27,
      "outputs": [
        {
          "output_type": "stream",
          "text": [
            "True\n",
            "False\n"
          ],
          "name": "stdout"
        }
      ]
    }
  ]
}