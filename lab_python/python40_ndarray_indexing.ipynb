{
  "nbformat": 4,
  "nbformat_minor": 0,
  "metadata": {
    "colab": {
      "name": "python40_ndarray_indexing.ipynb",
      "provenance": [],
      "collapsed_sections": [],
      "authorship_tag": "ABX9TyOyTMJgODD2XGW4Yy4nXHWl",
      "include_colab_link": true
    },
    "kernelspec": {
      "name": "python3",
      "display_name": "Python 3"
    }
  },
  "cells": [
    {
      "cell_type": "markdown",
      "metadata": {
        "id": "view-in-github",
        "colab_type": "text"
      },
      "source": [
        "<a href=\"https://colab.research.google.com/github/JakeOh/202007_itw_bd18/blob/master/lab_python/python40_ndarray_indexing.ipynb\" target=\"_parent\"><img src=\"https://colab.research.google.com/assets/colab-badge.svg\" alt=\"Open In Colab\"/></a>"
      ]
    },
    {
      "cell_type": "code",
      "metadata": {
        "id": "ALuv_nkNhI4_",
        "colab_type": "code",
        "colab": {}
      },
      "source": [
        "import numpy as np"
      ],
      "execution_count": 1,
      "outputs": []
    },
    {
      "cell_type": "code",
      "metadata": {
        "id": "H5DbFCyXhpnS",
        "colab_type": "code",
        "colab": {
          "base_uri": "https://localhost:8080/",
          "height": 38
        },
        "outputId": "d11a6f25-edf8-4333-bad1-d1fc5387676a"
      },
      "source": [
        "# 0 이상 10 이하의 짝수들로 이루어진 1차원 배열(ndarray) 생성, 출력\n",
        "arr = np.arange(0, 11, 2, dtype=np.int32)\n",
        "print(arr)"
      ],
      "execution_count": 2,
      "outputs": [
        {
          "output_type": "stream",
          "text": [
            "[ 0  2  4  6  8 10]\n"
          ],
          "name": "stdout"
        }
      ]
    },
    {
      "cell_type": "code",
      "metadata": {
        "id": "BFVcnCtviZC2",
        "colab_type": "code",
        "colab": {
          "base_uri": "https://localhost:8080/",
          "height": 79
        },
        "outputId": "7f93f5f9-2777-4e1e-c7ca-185dc35cc435"
      },
      "source": [
        "# numpy.ndarray의 인덱스는 파이썬의 list의 인덱스와 마찬가지로 0부터 시작.\n",
        "# numpy.ndarray는 list와 마찬가지로 음수 인덱스를 사용할 수 있음.\n",
        "print(arr[0])\n",
        "print(arr[5])\n",
        "print(arr[-1])"
      ],
      "execution_count": 5,
      "outputs": [
        {
          "output_type": "stream",
          "text": [
            "0\n",
            "10\n",
            "10\n"
          ],
          "name": "stdout"
        }
      ]
    },
    {
      "cell_type": "code",
      "metadata": {
        "id": "za_MmYzgj4-L",
        "colab_type": "code",
        "colab": {
          "base_uri": "https://localhost:8080/",
          "height": 142
        },
        "outputId": "511866f2-fa52-43b5-ac8f-5e4457e24776"
      },
      "source": [
        "# 범위 연산자(:)을 사용한 슬라이싱(slicing) - start:end\n",
        "# start <= index < end 범위의 원소들을 선택\n",
        "# start를 생략하면, 0부터 시작.\n",
        "# end를 생략하면, 마지막 원소까지 선택.\n",
        "print(arr[0:3])\n",
        "print(arr[2:4])\n",
        "print(arr[:3])\n",
        "print(arr[2:])\n",
        "print(arr[:])\n",
        "print(arr[-3:])"
      ],
      "execution_count": 11,
      "outputs": [
        {
          "output_type": "stream",
          "text": [
            "[0 2 4]\n",
            "[4 6]\n",
            "[0 2 4]\n",
            "[ 4  6  8 10]\n",
            "[ 0  2  4  6  8 10]\n",
            "[ 6  8 10]\n"
          ],
          "name": "stdout"
        }
      ]
    },
    {
      "cell_type": "code",
      "metadata": {
        "id": "qBbd86JwmNvy",
        "colab_type": "code",
        "colab": {
          "base_uri": "https://localhost:8080/",
          "height": 79
        },
        "outputId": "ad4884da-aa15-4097-9cd5-a78a0e0ff51e"
      },
      "source": [
        "# 배열과 비슷한 객체(list, tuple, array)를 사용한 indexing - fancy indexing\n",
        "print(arr)\n",
        "print(arr[[1, 3, 5]])  # 홀수 인덱스에 있는 원소들로 이루어진 배열\n",
        "print(arr[[0, 2, 4]])  # 짝수 인덱스에 있는 원소들로 이루어진 배열"
      ],
      "execution_count": 14,
      "outputs": [
        {
          "output_type": "stream",
          "text": [
            "[ 0  2  4  6  8 10]\n",
            "[ 2  6 10]\n",
            "[0 4 8]\n"
          ],
          "name": "stdout"
        }
      ]
    },
    {
      "cell_type": "code",
      "metadata": {
        "id": "RFynlUoRnqWp",
        "colab_type": "code",
        "colab": {
          "base_uri": "https://localhost:8080/",
          "height": 38
        },
        "outputId": "a3c8272b-d41d-482e-c9b7-2abae9c6a739"
      },
      "source": [
        "# boolean indexing: 논릿값(True, False)들의 리스트(튜플, 배열)를 사용한 indexing\n",
        "indexer = [True, True, False, False, True, False]\n",
        "print(arr[indexer])"
      ],
      "execution_count": 15,
      "outputs": [
        {
          "output_type": "stream",
          "text": [
            "[0 2 8]\n"
          ],
          "name": "stdout"
        }
      ]
    },
    {
      "cell_type": "code",
      "metadata": {
        "id": "6qd37jfpono6",
        "colab_type": "code",
        "colab": {
          "base_uri": "https://localhost:8080/",
          "height": 100
        },
        "outputId": "c8c26e33-6c2a-40a2-ec7a-6fa0f7c1fcad"
      },
      "source": [
        "# 0 이상 10 이하의 정수 난수 10개로 이루어진 1차원 배열 생성, 출력\n",
        "arr = np.random.randint(0, 11, size=10)\n",
        "print(arr)\n",
        "\n",
        "# 위에서 만든 배열에서 짝수들로만 이루어진 배열을 만들어서 출력.\n",
        "# evens = [x for x in arr if x % 2 == 0]\n",
        "print(arr % 2)  #> 1차원 배열\n",
        "print(arr % 2 == 0)  #> 1차원 배열\n",
        "\n",
        "evens = arr[arr % 2 == 0]\n",
        "print(evens)"
      ],
      "execution_count": 21,
      "outputs": [
        {
          "output_type": "stream",
          "text": [
            "[8 9 6 5 7 2 9 3 7 1]\n",
            "[0 1 0 1 1 0 1 1 1 1]\n",
            "[ True False  True False False  True False False False False]\n",
            "[8 6 2]\n"
          ],
          "name": "stdout"
        }
      ]
    },
    {
      "cell_type": "code",
      "metadata": {
        "id": "suSbKnxYu6V1",
        "colab_type": "code",
        "colab": {
          "base_uri": "https://localhost:8080/",
          "height": 79
        },
        "outputId": "03874f12-b6ac-47fe-a2cf-e5c8efc9623b"
      },
      "source": [
        "# boolean indexing에서는 Python의 논리 연산자(and, or, not)을 사용할 수 없음!\n",
        "# 대신에, &, |, ~ 연산자를 사용하고, 연산 순서를 명시하기 위해서 반드시 ()를 사용해야 함!\n",
        "\n",
        "# 0 이상 20 미만의 정수 난수 10개를 갖는 배열(array) 생성, 출력\n",
        "arr = np.random.randint(0, 20, size=10)\n",
        "print(arr)\n",
        "\n",
        "# 배열의 원소들 중 5 이상이고 15 이하인 숫자들의 배열을 출력.\n",
        "print(arr[(arr >= 5) & (arr <= 15)])\n",
        "\n",
        "# 배열의 원소들 중 5 미만이거나 15 이상인 숫자들의 배열을 출력.\n",
        "print(arr[(arr < 5) | (arr >= 15)])"
      ],
      "execution_count": 22,
      "outputs": [
        {
          "output_type": "stream",
          "text": [
            "[10 19  2  8 16  5  5 16  3  2]\n",
            "[10  8  5  5]\n",
            "[19  2 16 16  3  2]\n"
          ],
          "name": "stdout"
        }
      ]
    },
    {
      "cell_type": "code",
      "metadata": {
        "id": "V1vi6-iozmp4",
        "colab_type": "code",
        "colab": {
          "base_uri": "https://localhost:8080/",
          "height": 79
        },
        "outputId": "19e6be40-a5ee-476f-dbda-9fc8e052125e"
      },
      "source": [
        "array = np.arange(12).reshape((3, 4))\n",
        "print(array)"
      ],
      "execution_count": 23,
      "outputs": [
        {
          "output_type": "stream",
          "text": [
            "[[ 0  1  2  3]\n",
            " [ 4  5  6  7]\n",
            " [ 8  9 10 11]]\n"
          ],
          "name": "stdout"
        }
      ]
    },
    {
      "cell_type": "code",
      "metadata": {
        "id": "KABDzhbA0Ml0",
        "colab_type": "code",
        "colab": {
          "base_uri": "https://localhost:8080/",
          "height": 287
        },
        "outputId": "51c1b0f3-2ad4-42a2-f436-9f844b761557"
      },
      "source": [
        "# Python 2차원 list: list[i][j]\n",
        "# NumPy 2차원 array: array[i][j], array[i, j]\n",
        "print(array[1][2], array[1, 2])\n",
        "\n",
        "# 2차원 배열에서도 범위 연산자를 사용할 수 있음: array[a:b, c:d]\n",
        "print(array[0:2, :])\n",
        "print(array[:, 1:3])\n",
        "print(array[:, 1])  #> 1차원 배열!!\n",
        "\n",
        "# 2차원 배열에서도 fancy indexing을 사용할 수 있음: array[[], []]\n",
        "print(array[:, [0, 2]])\n",
        "print(array[:, [1]])  #> 2차원 배열!!"
      ],
      "execution_count": 30,
      "outputs": [
        {
          "output_type": "stream",
          "text": [
            "6 6\n",
            "[[0 1 2 3]\n",
            " [4 5 6 7]]\n",
            "[[ 1  2]\n",
            " [ 5  6]\n",
            " [ 9 10]]\n",
            "[1 5 9]\n",
            "[[ 0  2]\n",
            " [ 4  6]\n",
            " [ 8 10]]\n",
            "[[1]\n",
            " [5]\n",
            " [9]]\n"
          ],
          "name": "stdout"
        }
      ]
    },
    {
      "cell_type": "code",
      "metadata": {
        "id": "N4loy7-_7Wtb",
        "colab_type": "code",
        "colab": {
          "base_uri": "https://localhost:8080/",
          "height": 121
        },
        "outputId": "20a0c2a2-452d-4505-c092-12ed3fd87fcc"
      },
      "source": [
        "print(array)\n",
        "print(array[[0, 2], :])"
      ],
      "execution_count": 32,
      "outputs": [
        {
          "output_type": "stream",
          "text": [
            "[[ 0  1  2  3]\n",
            " [ 4  5  6  7]\n",
            " [ 8  9 10 11]]\n",
            "[[ 0  1  2  3]\n",
            " [ 8  9 10 11]]\n"
          ],
          "name": "stdout"
        }
      ]
    },
    {
      "cell_type": "code",
      "metadata": {
        "id": "3U_kA5O87y4L",
        "colab_type": "code",
        "colab": {
          "base_uri": "https://localhost:8080/",
          "height": 100
        },
        "outputId": "070da1d1-14c0-43bc-e2ce-2b97d233d02a"
      },
      "source": [
        "print(array)\n",
        "print(array[[0, 2], [1, 3]])  # [0, 1], [2, 3] 인덱스에 있는 원소로 이루어진 1차원 배열!!!"
      ],
      "execution_count": 33,
      "outputs": [
        {
          "output_type": "stream",
          "text": [
            "[[ 0  1  2  3]\n",
            " [ 4  5  6  7]\n",
            " [ 8  9 10 11]]\n",
            "[ 1 11]\n"
          ],
          "name": "stdout"
        }
      ]
    },
    {
      "cell_type": "code",
      "metadata": {
        "id": "yTGvCqQS9Tt8",
        "colab_type": "code",
        "colab": {
          "base_uri": "https://localhost:8080/",
          "height": 100
        },
        "outputId": "49d0a954-03a4-46be-8467-d80650a1d62b"
      },
      "source": [
        "# boolean indexing\n",
        "print(array)\n",
        "print(array[array % 2 == 0])  #> 1차원 배열!!"
      ],
      "execution_count": 35,
      "outputs": [
        {
          "output_type": "stream",
          "text": [
            "[[ 0  1  2  3]\n",
            " [ 4  5  6  7]\n",
            " [ 8  9 10 11]]\n",
            "[ 0  2  4  6  8 10]\n"
          ],
          "name": "stdout"
        }
      ]
    },
    {
      "cell_type": "code",
      "metadata": {
        "id": "emiLSqSH96AL",
        "colab_type": "code",
        "colab": {
          "base_uri": "https://localhost:8080/",
          "height": 121
        },
        "outputId": "34c086bc-823c-4452-aa6a-24bccbfc71ad"
      },
      "source": [
        "names = np.array(['aa', 'bb', 'cc'])\n",
        "print(names)\n",
        "print(names[names == 'bb'])\n",
        "print(names == 'bb')\n",
        "\n",
        "print(array[[False, True, False], :])\n",
        "print(array[names == 'bb', :])"
      ],
      "execution_count": 39,
      "outputs": [
        {
          "output_type": "stream",
          "text": [
            "['aa' 'bb' 'cc']\n",
            "['bb']\n",
            "[False  True False]\n",
            "[[4 5 6 7]]\n",
            "[[4 5 6 7]]\n"
          ],
          "name": "stdout"
        }
      ]
    }
  ]
}