{
  "nbformat": 4,
  "nbformat_minor": 0,
  "metadata": {
    "colab": {
      "name": "python12.ipynb",
      "provenance": [],
      "collapsed_sections": [],
      "authorship_tag": "ABX9TyMnPKCJ3HICXfjpZB4wH5et",
      "include_colab_link": true
    },
    "kernelspec": {
      "name": "python3",
      "display_name": "Python 3"
    }
  },
  "cells": [
    {
      "cell_type": "markdown",
      "metadata": {
        "id": "view-in-github",
        "colab_type": "text"
      },
      "source": [
        "<a href=\"https://colab.research.google.com/github/JakeOh/202007_itw_bd18/blob/master/lab_python/python12.ipynb\" target=\"_parent\"><img src=\"https://colab.research.google.com/assets/colab-badge.svg\" alt=\"Open In Colab\"/></a>"
      ]
    },
    {
      "cell_type": "markdown",
      "metadata": {
        "id": "lmqmsOlTEVob",
        "colab_type": "text"
      },
      "source": [
        "# 구구단 2단부터 9단까지 출력하는 코드 작성\n",
        "\n",
        "출력 결과 예시\n",
        "```\n",
        "2 x 1 = 2\n",
        "2 x 2 = 4\n",
        "2 x 3 = 6\n",
        "...\n",
        "2 x 8 = 16\n",
        "2 x 9 = 18\n",
        "---------------\n",
        "3 x 1 = 3\n",
        "3 x 2 = 6\n",
        "3 x 3 = 9\n",
        "...\n",
        "3 x 8 = 24\n",
        "3 x 9 = 27\n",
        "---------------\n",
        "...\n",
        "---------------\n",
        "9 x 1 = 9\n",
        "9 x 2 = 18\n",
        "9 x 3 = 27\n",
        "9..\n",
        "9 x 8 = 72\n",
        "9 x 9 = 81\n",
        "---------------\n",
        "```\n"
      ]
    },
    {
      "cell_type": "code",
      "metadata": {
        "id": "Xok_e3MbES5a",
        "colab_type": "code",
        "colab": {}
      },
      "source": [
        ""
      ],
      "execution_count": null,
      "outputs": []
    },
    {
      "cell_type": "markdown",
      "metadata": {
        "id": "C72Cn2XlFE6K",
        "colab_type": "text"
      },
      "source": [
        "# 동요를 불러볼까요~?\n",
        "\n",
        "아래와 같이 출력되도록 코드 작성.\n",
        "```\n",
        "1 little 2 little 3 little indian\n",
        "4 little 5 little 6 little indian\n",
        "7 little 8 little 9 little indian\n",
        "10 little indian boys!\n",
        "```"
      ]
    },
    {
      "cell_type": "code",
      "metadata": {
        "id": "W_C972j8FFqm",
        "colab_type": "code",
        "colab": {
          "base_uri": "https://localhost:8080/",
          "height": 100
        },
        "outputId": "f4fef466-c607-41fd-c528-278c6557d254"
      },
      "source": [
        "for n in range(1, 11):\n",
        "    print(n, 'little', end=' ')\n",
        "    if n % 3 == 0:\n",
        "        print('indian')  # 'indian'을 출력하고 나서 줄바꿈.\n",
        "print('indian boys!')"
      ],
      "execution_count": 9,
      "outputs": [
        {
          "output_type": "stream",
          "text": [
            "1 little 2 little 3 little indian\n",
            "4 little 5 little 6 little indian\n",
            "7 little 8 little 9 little indian\n",
            "10 little indian boys!\n"
          ],
          "name": "stdout"
        }
      ]
    },
    {
      "cell_type": "markdown",
      "metadata": {
        "id": "FxUePhH8FnAh",
        "colab_type": "text"
      },
      "source": [
        "# 369 게임을 해볼까요~?\n",
        "\n",
        "아래와 같이 출력되도록 코드 작성\n",
        "```\n",
        "1  2  *  4  5  *  7  8  *  10\n",
        "11 12 *  14 15 *  17 18 *  20\n",
        "21 22 *  24 25 *  27 28 *  *\n",
        "*  *  *  *  *  *  *  *  *  40\n",
        "...\n",
        "*  *  *  *  *  *  *  *  *  100\n",
        "```"
      ]
    },
    {
      "cell_type": "code",
      "metadata": {
        "id": "YSt_M7v8FnaR",
        "colab_type": "code",
        "colab": {
          "base_uri": "https://localhost:8080/",
          "height": 225
        },
        "outputId": "975a90ff-1d39-4574-ddaf-08231c7fa036"
      },
      "source": [
        "for n in range(1, 101):\n",
        "    # 숫자 n을 1의 자릿수와 10의 자릿수로 분리\n",
        "    n_1 = n % 10  # 10으로 나눈 나머지: 숫자 n의 1의 자릿수\n",
        "    n_10 = n // 10  # 10으로 나눈 몫: 숫자 n의 10의 자릿수\n",
        "    \n",
        "    # 1의 자릿수가 3 또는 6 또는 9이면,\n",
        "    cond_1 = n_1 in (3, 6, 9)  # n_1 == 3 or n_1 == 6 or n_1 == 9\n",
        "    # 10의 자릿수가 3 또는 6 또는 9이면,\n",
        "    cond_10 = n_10 in (3, 6, 9)\n",
        "\n",
        "    if cond_1 and cond_10:  # 1의 자릿수가 3, 6, 9이고, 10의 자릿수도 3,6,9이면\n",
        "        print('**', end='\\t')\n",
        "    elif cond_1 or cond_10:  # 1의 자릿수가 3,6,9이거나 또는 10의 자릿수가 3,6,9이면\n",
        "        print('*', end='\\t')\n",
        "    else:\n",
        "        print(n, end='\\t')\n",
        "    \n",
        "    if n % 10 == 0:\n",
        "        print()  # 숫자 10개를 출력할 때마다 줄바꿈."
      ],
      "execution_count": 18,
      "outputs": [
        {
          "output_type": "stream",
          "text": [
            "1\t2\t*\t4\t5\t*\t7\t8\t*\t10\t\n",
            "11\t12\t*\t14\t15\t*\t17\t18\t*\t20\t\n",
            "21\t22\t*\t24\t25\t*\t27\t28\t*\t*\t\n",
            "*\t*\t**\t*\t*\t**\t*\t*\t**\t40\t\n",
            "41\t42\t*\t44\t45\t*\t47\t48\t*\t50\t\n",
            "51\t52\t*\t54\t55\t*\t57\t58\t*\t*\t\n",
            "*\t*\t**\t*\t*\t**\t*\t*\t**\t70\t\n",
            "71\t72\t*\t74\t75\t*\t77\t78\t*\t80\t\n",
            "81\t82\t*\t84\t85\t*\t87\t88\t*\t*\t\n",
            "*\t*\t**\t*\t*\t**\t*\t*\t**\t100\t\n"
          ],
          "name": "stdout"
        }
      ]
    }
  ]
}