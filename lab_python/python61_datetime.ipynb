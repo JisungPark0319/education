{
  "nbformat": 4,
  "nbformat_minor": 0,
  "metadata": {
    "colab": {
      "name": "python61_datetime.ipynb",
      "provenance": [],
      "collapsed_sections": [],
      "authorship_tag": "ABX9TyOoHM8r7MqQs4eAYpXKyia2",
      "include_colab_link": true
    },
    "kernelspec": {
      "name": "python3",
      "display_name": "Python 3"
    }
  },
  "cells": [
    {
      "cell_type": "markdown",
      "metadata": {
        "id": "view-in-github",
        "colab_type": "text"
      },
      "source": [
        "<a href=\"https://colab.research.google.com/github/JakeOh/202007_itw_bd18/blob/master/lab_python/python61_datetime.ipynb\" target=\"_parent\"><img src=\"https://colab.research.google.com/assets/colab-badge.svg\" alt=\"Open In Colab\"/></a>"
      ]
    },
    {
      "cell_type": "markdown",
      "metadata": {
        "id": "Z8dW0q4yb2k6"
      },
      "source": [
        "* Python datetime 모듈(datetime.py 파일)\n",
        "  * datetime 클래스: 날짜(date), 시간(time)과 관련된 정보들을 저장, 메서드를 포함."
      ]
    },
    {
      "cell_type": "code",
      "metadata": {
        "id": "MUun-jBVaPef",
        "outputId": "8269caac-bdbb-482b-e680-d51a47dde2c1",
        "colab": {
          "base_uri": "https://localhost:8080/",
          "height": 38
        }
      },
      "source": [
        "# import module_name\n",
        "# module_name.class_name[function_name, variable_name, ...]\n",
        "\n",
        "# from module_name import class_name[function_name, variable, ...]\n",
        "# class_name[function_name, ...]\n",
        "\n",
        "from math import sqrt\n",
        "sqrt(2)"
      ],
      "execution_count": 2,
      "outputs": [
        {
          "output_type": "execute_result",
          "data": {
            "text/plain": [
              "1.4142135623730951"
            ]
          },
          "metadata": {
            "tags": []
          },
          "execution_count": 2
        }
      ]
    },
    {
      "cell_type": "code",
      "metadata": {
        "id": "ZJBsSLJ7dSCg",
        "outputId": "49b0bbb4-d9e8-4e2d-8d01-b0dcbeb31978",
        "colab": {
          "base_uri": "https://localhost:8080/",
          "height": 38
        }
      },
      "source": [
        "import datetime  # datetime 모듈을 임포트(메모리 로드)\n",
        "\n",
        "datetime.datetime.now()  # datetime 모듈의 datetime 클래스의 now() 메서드를 호출"
      ],
      "execution_count": 3,
      "outputs": [
        {
          "output_type": "execute_result",
          "data": {
            "text/plain": [
              "datetime.datetime(2020, 10, 13, 0, 57, 13, 820884)"
            ]
          },
          "metadata": {
            "tags": []
          },
          "execution_count": 3
        }
      ]
    },
    {
      "cell_type": "code",
      "metadata": {
        "id": "eDbKuajYdvgg",
        "outputId": "6b917e33-a44e-4194-efd7-011c0e96e7b9",
        "colab": {
          "base_uri": "https://localhost:8080/",
          "height": 38
        }
      },
      "source": [
        "from datetime import datetime  # datetime 모듈의 datetime 클래스만 임포트(메모리 로드)\n",
        "\n",
        "datetime.now()  # datetime 클래스의 now() 메서드를 호출."
      ],
      "execution_count": 4,
      "outputs": [
        {
          "output_type": "execute_result",
          "data": {
            "text/plain": [
              "datetime.datetime(2020, 10, 13, 0, 59, 21, 855196)"
            ]
          },
          "metadata": {
            "tags": []
          },
          "execution_count": 4
        }
      ]
    },
    {
      "cell_type": "code",
      "metadata": {
        "id": "_3iZlVVwfCsI",
        "outputId": "b007bce6-dc39-4cf5-d658-6a64ee04a8ce",
        "colab": {
          "base_uri": "https://localhost:8080/",
          "height": 38
        }
      },
      "source": [
        "# datetime.now(): OS의 시간대(time zone)에서의 현재 시간을 리턴.\n",
        "now = datetime.now()\n",
        "print(now)  #> Google Colab 환경에서 설정된 시간대의 현재 날짜/시간 정보를 리턴 -> UTC+00:00\n",
        "# UTC: Coordinate Universal Timezone\n",
        "# KST: Korean Standard Timezone, 한국 표준시(UTC+09:00)"
      ],
      "execution_count": 7,
      "outputs": [
        {
          "output_type": "stream",
          "text": [
            "2020-10-13 01:11:16.859857\n"
          ],
          "name": "stdout"
        }
      ]
    },
    {
      "cell_type": "code",
      "metadata": {
        "id": "r2R34MwAhWXW",
        "outputId": "a31649d1-a855-4b04-84e4-46009be27129",
        "colab": {
          "base_uri": "https://localhost:8080/",
          "height": 38
        }
      },
      "source": [
        "# datetime 생성자 함수(constructor function): 특정 날짜/시간으로 datetime 객체를 생성\n",
        "date1 = datetime(year=2020, month=10, day=13)\n",
        "print(date1)"
      ],
      "execution_count": 8,
      "outputs": [
        {
          "output_type": "stream",
          "text": [
            "2020-10-13 00:00:00\n"
          ],
          "name": "stdout"
        }
      ]
    },
    {
      "cell_type": "code",
      "metadata": {
        "id": "URAFno3mh7O1",
        "outputId": "8240a96e-861a-4b3d-998b-ea418b228abd",
        "colab": {
          "base_uri": "https://localhost:8080/",
          "height": 38
        }
      },
      "source": [
        "date2 = datetime(year=2020, month=10, day=14, hour=10, minute=17)\n",
        "print(date2)"
      ],
      "execution_count": 12,
      "outputs": [
        {
          "output_type": "stream",
          "text": [
            "2020-10-14 10:17:00\n"
          ],
          "name": "stdout"
        }
      ]
    },
    {
      "cell_type": "code",
      "metadata": {
        "id": "m6Z6fasNiT7F",
        "outputId": "ac6886a0-f020-44f5-c9ea-f9736ccfe183",
        "colab": {
          "base_uri": "https://localhost:8080/",
          "height": 38
        }
      },
      "source": [
        "print(date2 - date1)"
      ],
      "execution_count": 13,
      "outputs": [
        {
          "output_type": "stream",
          "text": [
            "1 day, 10:17:00\n"
          ],
          "name": "stdout"
        }
      ]
    },
    {
      "cell_type": "markdown",
      "metadata": {
        "id": "g2HuR9eMmomO"
      },
      "source": [
        "* datetime(날짜/시간) 객체 <--> str(문자열) 변환\n",
        "  * `datetime.strptime(문자열, 포맷문자열)`: 문자열을 datetime 객체로 변환(parsing).\n",
        "  * `datetime.strftime(포맷문자열)`: datetime 객체를 문자열로 변환(formatting)\n"
      ]
    },
    {
      "cell_type": "code",
      "metadata": {
        "id": "L6ucEkO9oFTQ",
        "outputId": "71552984-46ab-4288-ccfb-49e7917743d0",
        "colab": {
          "base_uri": "https://localhost:8080/",
          "height": 121
        }
      },
      "source": [
        "now = datetime.now()\n",
        "print(now)\n",
        "print(now.strftime('%Y/%m/%d'))\n",
        "print(now.strftime('%y/%m/%d'))\n",
        "print(now.strftime('%b. %d, %y'))\n",
        "print(now.strftime('%B %d, %y'))\n",
        "# %Y: 4자리 연도(year), %y: 2자리 연도\n",
        "# %m: 2자리 월(month), %b: 월 이름 약자, %B: 월 이름\n",
        "# %d: 2자리 일(day)"
      ],
      "execution_count": 19,
      "outputs": [
        {
          "output_type": "stream",
          "text": [
            "2020-10-13 01:50:17.023345\n",
            "2020/10/13\n",
            "20/10/13\n",
            "Oct. 13, 20\n",
            "October 13, 20\n"
          ],
          "name": "stdout"
        }
      ]
    },
    {
      "cell_type": "code",
      "metadata": {
        "id": "rzZGdTK6rLwz",
        "outputId": "864e7a10-ffa2-47e9-f31b-f0466786ac7d",
        "colab": {
          "base_uri": "https://localhost:8080/",
          "height": 79
        }
      },
      "source": [
        "date3 = datetime(2020, 10, 13, 14, 30, 0)\n",
        "print(date3)\n",
        "print(date3.strftime('%H:%M:%S'))\n",
        "print(date3.strftime('%I:%M:%S %p'))\n",
        "# %H: 24시간 형식 시간(hour), 00 ~ 23\n",
        "# %I: 12시간 형식 시간(hour), 1 ~ 12\n",
        "# %M: 2자리 분(minute), 00 ~ 59\n",
        "# %S: 2자리 초(second), 00 ~ 59"
      ],
      "execution_count": 26,
      "outputs": [
        {
          "output_type": "stream",
          "text": [
            "2020-10-13 14:30:00\n",
            "14:30:00\n",
            "02:30:00 PM\n"
          ],
          "name": "stdout"
        }
      ]
    },
    {
      "cell_type": "code",
      "metadata": {
        "id": "IRoNhi8kte4L",
        "outputId": "ab61aa0a-9785-46d8-9d34-3d719bd59fce",
        "colab": {
          "base_uri": "https://localhost:8080/",
          "height": 79
        }
      },
      "source": [
        "print(datetime.strptime('2020-10-13', '%Y-%m-%d'))\n",
        "print(datetime.strptime('20-10-13', '%y-%m-%d'))\n",
        "print(datetime.strptime('20-10-13', '%d-%m-%y'))"
      ],
      "execution_count": 29,
      "outputs": [
        {
          "output_type": "stream",
          "text": [
            "2020-10-13 00:00:00\n",
            "2020-10-13 00:00:00\n",
            "2013-10-20 00:00:00\n"
          ],
          "name": "stdout"
        }
      ]
    },
    {
      "cell_type": "markdown",
      "metadata": {
        "id": "0YVRn8iBviQt"
      },
      "source": [
        "* timestamp(UNIX time, POSIX time, epoch time, ...):\n",
        "  1970년 1월 1일 0시 0분 0초를 시작으로 해서 1초마다 1씩 증가하는 숫자.\n",
        "* `datetime.timestamp()`: datetime 객체 -> timestamp(숫자)\n",
        "* `datetime.fromtimestamp(숫자)`: timestamp(숫자) -> datetime 객체."
      ]
    },
    {
      "cell_type": "code",
      "metadata": {
        "id": "cJiXplJ-wau4",
        "outputId": "2e98c9a5-3a1e-4e7c-83ec-b5bb71b5caa6",
        "colab": {
          "base_uri": "https://localhost:8080/",
          "height": 79
        }
      },
      "source": [
        "now = datetime.now()\n",
        "print(now)\n",
        "print(now.timestamp())\n",
        "print(datetime.fromtimestamp(1602556762))"
      ],
      "execution_count": 36,
      "outputs": [
        {
          "output_type": "stream",
          "text": [
            "2020-10-13 02:40:31.926031\n",
            "1602556831.926031\n",
            "2020-10-13 02:39:22\n"
          ],
          "name": "stdout"
        }
      ]
    },
    {
      "cell_type": "markdown",
      "metadata": {
        "id": "eT_4q4a62Bti"
      },
      "source": [
        "* https://github.com/wesm/pydata-book/tree/2nd-edition/datasets/movielens/\n",
        "의 데이터 파일 중 ratings.dat 파일을 읽어서 데이터 프레임을 생성.\n",
        "* 데이터 프레임에 dt 컬럼을 추가 - timestamp 컬럼의 숫자들을 datetime 객체로 변환한 값을 저장."
      ]
    },
    {
      "cell_type": "code",
      "metadata": {
        "id": "Gb6--a3e3D48",
        "outputId": "dc76d3fd-16ff-417e-8ec3-1555f5834450",
        "colab": {
          "base_uri": "https://localhost:8080/",
          "height": 78
        }
      },
      "source": [
        "import pandas as pd\n",
        "\n",
        "data_file = 'https://github.com/wesm/pydata-book/blob/2nd-edition/datasets/movielens/ratings.dat?raw=true'\n",
        "ratings = pd.read_csv(data_file,\n",
        "                      sep='::',\n",
        "                      header=None,\n",
        "                      names=['user_id', 'movie_id', 'rating', 'timestamp'])"
      ],
      "execution_count": 39,
      "outputs": [
        {
          "output_type": "stream",
          "text": [
            "/usr/local/lib/python3.6/dist-packages/ipykernel_launcher.py:7: ParserWarning: Falling back to the 'python' engine because the 'c' engine does not support regex separators (separators > 1 char and different from '\\s+' are interpreted as regex); you can avoid this warning by specifying engine='python'.\n",
            "  import sys\n"
          ],
          "name": "stderr"
        }
      ]
    },
    {
      "cell_type": "code",
      "metadata": {
        "id": "1uu8dF-l30Ly",
        "outputId": "6d919b22-d401-4125-8450-c814df7112d8",
        "colab": {
          "base_uri": "https://localhost:8080/",
          "height": 210
        }
      },
      "source": [
        "ratings.head()"
      ],
      "execution_count": 40,
      "outputs": [
        {
          "output_type": "execute_result",
          "data": {
            "text/html": [
              "<div>\n",
              "<style scoped>\n",
              "    .dataframe tbody tr th:only-of-type {\n",
              "        vertical-align: middle;\n",
              "    }\n",
              "\n",
              "    .dataframe tbody tr th {\n",
              "        vertical-align: top;\n",
              "    }\n",
              "\n",
              "    .dataframe thead th {\n",
              "        text-align: right;\n",
              "    }\n",
              "</style>\n",
              "<table border=\"1\" class=\"dataframe\">\n",
              "  <thead>\n",
              "    <tr style=\"text-align: right;\">\n",
              "      <th></th>\n",
              "      <th>user_id</th>\n",
              "      <th>movie_id</th>\n",
              "      <th>rating</th>\n",
              "      <th>timestamp</th>\n",
              "    </tr>\n",
              "  </thead>\n",
              "  <tbody>\n",
              "    <tr>\n",
              "      <th>0</th>\n",
              "      <td>1</td>\n",
              "      <td>1193</td>\n",
              "      <td>5</td>\n",
              "      <td>978300760</td>\n",
              "    </tr>\n",
              "    <tr>\n",
              "      <th>1</th>\n",
              "      <td>1</td>\n",
              "      <td>661</td>\n",
              "      <td>3</td>\n",
              "      <td>978302109</td>\n",
              "    </tr>\n",
              "    <tr>\n",
              "      <th>2</th>\n",
              "      <td>1</td>\n",
              "      <td>914</td>\n",
              "      <td>3</td>\n",
              "      <td>978301968</td>\n",
              "    </tr>\n",
              "    <tr>\n",
              "      <th>3</th>\n",
              "      <td>1</td>\n",
              "      <td>3408</td>\n",
              "      <td>4</td>\n",
              "      <td>978300275</td>\n",
              "    </tr>\n",
              "    <tr>\n",
              "      <th>4</th>\n",
              "      <td>1</td>\n",
              "      <td>2355</td>\n",
              "      <td>5</td>\n",
              "      <td>978824291</td>\n",
              "    </tr>\n",
              "  </tbody>\n",
              "</table>\n",
              "</div>"
            ],
            "text/plain": [
              "   user_id  movie_id  rating  timestamp\n",
              "0        1      1193       5  978300760\n",
              "1        1       661       3  978302109\n",
              "2        1       914       3  978301968\n",
              "3        1      3408       4  978300275\n",
              "4        1      2355       5  978824291"
            ]
          },
          "metadata": {
            "tags": []
          },
          "execution_count": 40
        }
      ]
    },
    {
      "cell_type": "code",
      "metadata": {
        "id": "hKzZEIbe31fF",
        "outputId": "bbd3d55d-3e27-48b6-d26a-66338db9d14e",
        "colab": {
          "base_uri": "https://localhost:8080/",
          "height": 38
        }
      },
      "source": [
        "print(datetime.fromtimestamp(978300760))"
      ],
      "execution_count": 41,
      "outputs": [
        {
          "output_type": "stream",
          "text": [
            "2000-12-31 22:12:40\n"
          ],
          "name": "stdout"
        }
      ]
    },
    {
      "cell_type": "code",
      "metadata": {
        "id": "pZEQTL1s5Sgp",
        "outputId": "20c37c7d-1783-43cd-fdbb-1a3fc1fab004",
        "colab": {
          "base_uri": "https://localhost:8080/",
          "height": 210
        }
      },
      "source": [
        "ratings.tail()"
      ],
      "execution_count": 42,
      "outputs": [
        {
          "output_type": "execute_result",
          "data": {
            "text/html": [
              "<div>\n",
              "<style scoped>\n",
              "    .dataframe tbody tr th:only-of-type {\n",
              "        vertical-align: middle;\n",
              "    }\n",
              "\n",
              "    .dataframe tbody tr th {\n",
              "        vertical-align: top;\n",
              "    }\n",
              "\n",
              "    .dataframe thead th {\n",
              "        text-align: right;\n",
              "    }\n",
              "</style>\n",
              "<table border=\"1\" class=\"dataframe\">\n",
              "  <thead>\n",
              "    <tr style=\"text-align: right;\">\n",
              "      <th></th>\n",
              "      <th>user_id</th>\n",
              "      <th>movie_id</th>\n",
              "      <th>rating</th>\n",
              "      <th>timestamp</th>\n",
              "    </tr>\n",
              "  </thead>\n",
              "  <tbody>\n",
              "    <tr>\n",
              "      <th>1000204</th>\n",
              "      <td>6040</td>\n",
              "      <td>1091</td>\n",
              "      <td>1</td>\n",
              "      <td>956716541</td>\n",
              "    </tr>\n",
              "    <tr>\n",
              "      <th>1000205</th>\n",
              "      <td>6040</td>\n",
              "      <td>1094</td>\n",
              "      <td>5</td>\n",
              "      <td>956704887</td>\n",
              "    </tr>\n",
              "    <tr>\n",
              "      <th>1000206</th>\n",
              "      <td>6040</td>\n",
              "      <td>562</td>\n",
              "      <td>5</td>\n",
              "      <td>956704746</td>\n",
              "    </tr>\n",
              "    <tr>\n",
              "      <th>1000207</th>\n",
              "      <td>6040</td>\n",
              "      <td>1096</td>\n",
              "      <td>4</td>\n",
              "      <td>956715648</td>\n",
              "    </tr>\n",
              "    <tr>\n",
              "      <th>1000208</th>\n",
              "      <td>6040</td>\n",
              "      <td>1097</td>\n",
              "      <td>4</td>\n",
              "      <td>956715569</td>\n",
              "    </tr>\n",
              "  </tbody>\n",
              "</table>\n",
              "</div>"
            ],
            "text/plain": [
              "         user_id  movie_id  rating  timestamp\n",
              "1000204     6040      1091       1  956716541\n",
              "1000205     6040      1094       5  956704887\n",
              "1000206     6040       562       5  956704746\n",
              "1000207     6040      1096       4  956715648\n",
              "1000208     6040      1097       4  956715569"
            ]
          },
          "metadata": {
            "tags": []
          },
          "execution_count": 42
        }
      ]
    },
    {
      "cell_type": "code",
      "metadata": {
        "id": "ONCk3bVp5YlE",
        "outputId": "7adb938d-78a4-41b2-9072-d44d61b333ad",
        "colab": {
          "base_uri": "https://localhost:8080/",
          "height": 38
        }
      },
      "source": [
        "print(datetime.fromtimestamp(956715569))"
      ],
      "execution_count": 43,
      "outputs": [
        {
          "output_type": "stream",
          "text": [
            "2000-04-26 02:19:29\n"
          ],
          "name": "stdout"
        }
      ]
    },
    {
      "cell_type": "code",
      "metadata": {
        "id": "uDmqFaqx59F9"
      },
      "source": [
        "dates = []  # timestamp를 datetime 객체로 변환한 값들을 저장할 리스트\n",
        "for ts in ratings['timestamp']:  # timestamp 컬럼의 값들을 반복하면서\n",
        "    dt = datetime.fromtimestamp(ts)  # timestamp(숫자)를 datetime 객체로 변환.\n",
        "    dates.append(dt)  # 변환된 datetime 객체를 리스트에 추가.\n",
        "\n",
        "# dates 리스트를 pd.Series로 변환 후, 데이터 프레임의 새로운 컬럼으로 추가.\n",
        "ratings['dt'] = pd.Series(dates)"
      ],
      "execution_count": 47,
      "outputs": []
    },
    {
      "cell_type": "code",
      "metadata": {
        "id": "6dhe1uRw64Mr",
        "outputId": "a203355b-bd1d-4ba4-bee5-284920bee4ce",
        "colab": {
          "base_uri": "https://localhost:8080/",
          "height": 210
        }
      },
      "source": [
        "ratings.head()"
      ],
      "execution_count": 48,
      "outputs": [
        {
          "output_type": "execute_result",
          "data": {
            "text/html": [
              "<div>\n",
              "<style scoped>\n",
              "    .dataframe tbody tr th:only-of-type {\n",
              "        vertical-align: middle;\n",
              "    }\n",
              "\n",
              "    .dataframe tbody tr th {\n",
              "        vertical-align: top;\n",
              "    }\n",
              "\n",
              "    .dataframe thead th {\n",
              "        text-align: right;\n",
              "    }\n",
              "</style>\n",
              "<table border=\"1\" class=\"dataframe\">\n",
              "  <thead>\n",
              "    <tr style=\"text-align: right;\">\n",
              "      <th></th>\n",
              "      <th>user_id</th>\n",
              "      <th>movie_id</th>\n",
              "      <th>rating</th>\n",
              "      <th>timestamp</th>\n",
              "      <th>dt</th>\n",
              "    </tr>\n",
              "  </thead>\n",
              "  <tbody>\n",
              "    <tr>\n",
              "      <th>0</th>\n",
              "      <td>1</td>\n",
              "      <td>1193</td>\n",
              "      <td>5</td>\n",
              "      <td>978300760</td>\n",
              "      <td>2000-12-31 22:12:40</td>\n",
              "    </tr>\n",
              "    <tr>\n",
              "      <th>1</th>\n",
              "      <td>1</td>\n",
              "      <td>661</td>\n",
              "      <td>3</td>\n",
              "      <td>978302109</td>\n",
              "      <td>2000-12-31 22:35:09</td>\n",
              "    </tr>\n",
              "    <tr>\n",
              "      <th>2</th>\n",
              "      <td>1</td>\n",
              "      <td>914</td>\n",
              "      <td>3</td>\n",
              "      <td>978301968</td>\n",
              "      <td>2000-12-31 22:32:48</td>\n",
              "    </tr>\n",
              "    <tr>\n",
              "      <th>3</th>\n",
              "      <td>1</td>\n",
              "      <td>3408</td>\n",
              "      <td>4</td>\n",
              "      <td>978300275</td>\n",
              "      <td>2000-12-31 22:04:35</td>\n",
              "    </tr>\n",
              "    <tr>\n",
              "      <th>4</th>\n",
              "      <td>1</td>\n",
              "      <td>2355</td>\n",
              "      <td>5</td>\n",
              "      <td>978824291</td>\n",
              "      <td>2001-01-06 23:38:11</td>\n",
              "    </tr>\n",
              "  </tbody>\n",
              "</table>\n",
              "</div>"
            ],
            "text/plain": [
              "   user_id  movie_id  rating  timestamp                  dt\n",
              "0        1      1193       5  978300760 2000-12-31 22:12:40\n",
              "1        1       661       3  978302109 2000-12-31 22:35:09\n",
              "2        1       914       3  978301968 2000-12-31 22:32:48\n",
              "3        1      3408       4  978300275 2000-12-31 22:04:35\n",
              "4        1      2355       5  978824291 2001-01-06 23:38:11"
            ]
          },
          "metadata": {
            "tags": []
          },
          "execution_count": 48
        }
      ]
    },
    {
      "cell_type": "code",
      "metadata": {
        "id": "TX0nkQpo699W",
        "outputId": "b9676cae-becf-41d2-b39b-92bd4e9a594b",
        "colab": {
          "base_uri": "https://localhost:8080/",
          "height": 210
        }
      },
      "source": [
        "ratings.tail()"
      ],
      "execution_count": 46,
      "outputs": [
        {
          "output_type": "execute_result",
          "data": {
            "text/html": [
              "<div>\n",
              "<style scoped>\n",
              "    .dataframe tbody tr th:only-of-type {\n",
              "        vertical-align: middle;\n",
              "    }\n",
              "\n",
              "    .dataframe tbody tr th {\n",
              "        vertical-align: top;\n",
              "    }\n",
              "\n",
              "    .dataframe thead th {\n",
              "        text-align: right;\n",
              "    }\n",
              "</style>\n",
              "<table border=\"1\" class=\"dataframe\">\n",
              "  <thead>\n",
              "    <tr style=\"text-align: right;\">\n",
              "      <th></th>\n",
              "      <th>user_id</th>\n",
              "      <th>movie_id</th>\n",
              "      <th>rating</th>\n",
              "      <th>timestamp</th>\n",
              "      <th>dt</th>\n",
              "    </tr>\n",
              "  </thead>\n",
              "  <tbody>\n",
              "    <tr>\n",
              "      <th>1000204</th>\n",
              "      <td>6040</td>\n",
              "      <td>1091</td>\n",
              "      <td>1</td>\n",
              "      <td>956716541</td>\n",
              "      <td>2000-04-26 02:35:41</td>\n",
              "    </tr>\n",
              "    <tr>\n",
              "      <th>1000205</th>\n",
              "      <td>6040</td>\n",
              "      <td>1094</td>\n",
              "      <td>5</td>\n",
              "      <td>956704887</td>\n",
              "      <td>2000-04-25 23:21:27</td>\n",
              "    </tr>\n",
              "    <tr>\n",
              "      <th>1000206</th>\n",
              "      <td>6040</td>\n",
              "      <td>562</td>\n",
              "      <td>5</td>\n",
              "      <td>956704746</td>\n",
              "      <td>2000-04-25 23:19:06</td>\n",
              "    </tr>\n",
              "    <tr>\n",
              "      <th>1000207</th>\n",
              "      <td>6040</td>\n",
              "      <td>1096</td>\n",
              "      <td>4</td>\n",
              "      <td>956715648</td>\n",
              "      <td>2000-04-26 02:20:48</td>\n",
              "    </tr>\n",
              "    <tr>\n",
              "      <th>1000208</th>\n",
              "      <td>6040</td>\n",
              "      <td>1097</td>\n",
              "      <td>4</td>\n",
              "      <td>956715569</td>\n",
              "      <td>2000-04-26 02:19:29</td>\n",
              "    </tr>\n",
              "  </tbody>\n",
              "</table>\n",
              "</div>"
            ],
            "text/plain": [
              "         user_id  movie_id  rating  timestamp                  dt\n",
              "1000204     6040      1091       1  956716541 2000-04-26 02:35:41\n",
              "1000205     6040      1094       5  956704887 2000-04-25 23:21:27\n",
              "1000206     6040       562       5  956704746 2000-04-25 23:19:06\n",
              "1000207     6040      1096       4  956715648 2000-04-26 02:20:48\n",
              "1000208     6040      1097       4  956715569 2000-04-26 02:19:29"
            ]
          },
          "metadata": {
            "tags": []
          },
          "execution_count": 46
        }
      ]
    },
    {
      "cell_type": "code",
      "metadata": {
        "id": "QiXcdESRRch9",
        "outputId": "aa448841-55ee-4ef5-c3a3-6d97a8de2821",
        "colab": {
          "base_uri": "https://localhost:8080/",
          "height": 142
        }
      },
      "source": [
        "ratings.dtypes"
      ],
      "execution_count": 49,
      "outputs": [
        {
          "output_type": "execute_result",
          "data": {
            "text/plain": [
              "user_id               int64\n",
              "movie_id              int64\n",
              "rating                int64\n",
              "timestamp             int64\n",
              "dt           datetime64[ns]\n",
              "dtype: object"
            ]
          },
          "metadata": {
            "tags": []
          },
          "execution_count": 49
        }
      ]
    },
    {
      "cell_type": "code",
      "metadata": {
        "id": "Ao2yerXjR43k",
        "outputId": "d4a46d55-527b-4312-8a5f-62eaaf2b283c",
        "colab": {
          "base_uri": "https://localhost:8080/",
          "height": 38
        }
      },
      "source": [
        "ratings['timestamp'].min(), ratings['timestamp'].max()"
      ],
      "execution_count": 50,
      "outputs": [
        {
          "output_type": "execute_result",
          "data": {
            "text/plain": [
              "(956703932, 1046454590)"
            ]
          },
          "metadata": {
            "tags": []
          },
          "execution_count": 50
        }
      ]
    },
    {
      "cell_type": "code",
      "metadata": {
        "id": "grEPNzSqSJ3w",
        "outputId": "a4ee82f4-becc-4b57-e2ec-c020124bd5e5",
        "colab": {
          "base_uri": "https://localhost:8080/",
          "height": 38
        }
      },
      "source": [
        "ratings['dt'].min(), ratings['dt'].max()"
      ],
      "execution_count": 53,
      "outputs": [
        {
          "output_type": "execute_result",
          "data": {
            "text/plain": [
              "(Timestamp('2000-04-25 23:05:32'), Timestamp('2003-02-28 17:49:50'))"
            ]
          },
          "metadata": {
            "tags": []
          },
          "execution_count": 53
        }
      ]
    },
    {
      "cell_type": "markdown",
      "metadata": {
        "id": "iPg1DpBeTatV"
      },
      "source": [
        "* datetime 객체에서 날짜/시간 정보 추출하는 방법"
      ]
    },
    {
      "cell_type": "code",
      "metadata": {
        "id": "H-7eCfFFThEQ",
        "outputId": "52d50d0a-76ca-4636-aa26-0bedab8cfb4f",
        "colab": {
          "base_uri": "https://localhost:8080/",
          "height": 58
        }
      },
      "source": [
        "now = datetime.now()\n",
        "print(now)\n",
        "print(now.year, now.month, now.day, now.hour, now.minute, now.second)"
      ],
      "execution_count": 59,
      "outputs": [
        {
          "output_type": "stream",
          "text": [
            "2020-10-13 04:56:59.358241\n",
            "2020 10 13 4 56 59\n"
          ],
          "name": "stdout"
        }
      ]
    },
    {
      "cell_type": "markdown",
      "metadata": {
        "id": "1g-xBDeTUgvE"
      },
      "source": [
        "* datetime 객체를 저장하는 Series에서 날짜/시간 정보를 추출하는 방법:\n",
        "  pandas.Series.dt.속성[메서드, ...]"
      ]
    },
    {
      "cell_type": "code",
      "metadata": {
        "id": "KjRxQ-pOUoU5",
        "outputId": "079b71fe-f7aa-4028-d0c6-3a3505da0f48",
        "colab": {
          "base_uri": "https://localhost:8080/",
          "height": 266
        }
      },
      "source": [
        "ratings['dt'].dt.year"
      ],
      "execution_count": 66,
      "outputs": [
        {
          "output_type": "execute_result",
          "data": {
            "text/plain": [
              "0          2000\n",
              "1          2000\n",
              "2          2000\n",
              "3          2000\n",
              "4          2001\n",
              "           ... \n",
              "1000204    2000\n",
              "1000205    2000\n",
              "1000206    2000\n",
              "1000207    2000\n",
              "1000208    2000\n",
              "Name: dt, Length: 1000209, dtype: int64"
            ]
          },
          "metadata": {
            "tags": []
          },
          "execution_count": 66
        }
      ]
    },
    {
      "cell_type": "markdown",
      "metadata": {
        "id": "iQv9-c9kWG4z"
      },
      "source": [
        "* ratings 데이터 프레임에 year, month, quarter(분기) 컬럼을 추가"
      ]
    },
    {
      "cell_type": "code",
      "metadata": {
        "id": "-SlMpj4yWbln",
        "outputId": "0476a131-7018-4d16-de96-b0b81e4ee336",
        "colab": {
          "base_uri": "https://localhost:8080/",
          "height": 210
        }
      },
      "source": [
        "ratings['year'] = ratings['dt'].dt.year\n",
        "ratings['month'] = ratings['dt'].dt.month\n",
        "ratings['quarter'] = ratings['dt'].dt.quarter\n",
        "\n",
        "ratings.head()"
      ],
      "execution_count": 68,
      "outputs": [
        {
          "output_type": "execute_result",
          "data": {
            "text/html": [
              "<div>\n",
              "<style scoped>\n",
              "    .dataframe tbody tr th:only-of-type {\n",
              "        vertical-align: middle;\n",
              "    }\n",
              "\n",
              "    .dataframe tbody tr th {\n",
              "        vertical-align: top;\n",
              "    }\n",
              "\n",
              "    .dataframe thead th {\n",
              "        text-align: right;\n",
              "    }\n",
              "</style>\n",
              "<table border=\"1\" class=\"dataframe\">\n",
              "  <thead>\n",
              "    <tr style=\"text-align: right;\">\n",
              "      <th></th>\n",
              "      <th>user_id</th>\n",
              "      <th>movie_id</th>\n",
              "      <th>rating</th>\n",
              "      <th>timestamp</th>\n",
              "      <th>dt</th>\n",
              "      <th>year</th>\n",
              "      <th>month</th>\n",
              "      <th>quarter</th>\n",
              "    </tr>\n",
              "  </thead>\n",
              "  <tbody>\n",
              "    <tr>\n",
              "      <th>0</th>\n",
              "      <td>1</td>\n",
              "      <td>1193</td>\n",
              "      <td>5</td>\n",
              "      <td>978300760</td>\n",
              "      <td>2000-12-31 22:12:40</td>\n",
              "      <td>2000</td>\n",
              "      <td>12</td>\n",
              "      <td>4</td>\n",
              "    </tr>\n",
              "    <tr>\n",
              "      <th>1</th>\n",
              "      <td>1</td>\n",
              "      <td>661</td>\n",
              "      <td>3</td>\n",
              "      <td>978302109</td>\n",
              "      <td>2000-12-31 22:35:09</td>\n",
              "      <td>2000</td>\n",
              "      <td>12</td>\n",
              "      <td>4</td>\n",
              "    </tr>\n",
              "    <tr>\n",
              "      <th>2</th>\n",
              "      <td>1</td>\n",
              "      <td>914</td>\n",
              "      <td>3</td>\n",
              "      <td>978301968</td>\n",
              "      <td>2000-12-31 22:32:48</td>\n",
              "      <td>2000</td>\n",
              "      <td>12</td>\n",
              "      <td>4</td>\n",
              "    </tr>\n",
              "    <tr>\n",
              "      <th>3</th>\n",
              "      <td>1</td>\n",
              "      <td>3408</td>\n",
              "      <td>4</td>\n",
              "      <td>978300275</td>\n",
              "      <td>2000-12-31 22:04:35</td>\n",
              "      <td>2000</td>\n",
              "      <td>12</td>\n",
              "      <td>4</td>\n",
              "    </tr>\n",
              "    <tr>\n",
              "      <th>4</th>\n",
              "      <td>1</td>\n",
              "      <td>2355</td>\n",
              "      <td>5</td>\n",
              "      <td>978824291</td>\n",
              "      <td>2001-01-06 23:38:11</td>\n",
              "      <td>2001</td>\n",
              "      <td>1</td>\n",
              "      <td>1</td>\n",
              "    </tr>\n",
              "  </tbody>\n",
              "</table>\n",
              "</div>"
            ],
            "text/plain": [
              "   user_id  movie_id  rating  ...  year month  quarter\n",
              "0        1      1193       5  ...  2000    12        4\n",
              "1        1       661       3  ...  2000    12        4\n",
              "2        1       914       3  ...  2000    12        4\n",
              "3        1      3408       4  ...  2000    12        4\n",
              "4        1      2355       5  ...  2001     1        1\n",
              "\n",
              "[5 rows x 8 columns]"
            ]
          },
          "metadata": {
            "tags": []
          },
          "execution_count": 68
        }
      ]
    },
    {
      "cell_type": "code",
      "metadata": {
        "id": "mMqjK-gVX2eF",
        "outputId": "32051ed5-29ca-47d6-aeb1-cc4fd35f93f0",
        "colab": {
          "base_uri": "https://localhost:8080/",
          "height": 210
        }
      },
      "source": [
        "ratings.tail()"
      ],
      "execution_count": 69,
      "outputs": [
        {
          "output_type": "execute_result",
          "data": {
            "text/html": [
              "<div>\n",
              "<style scoped>\n",
              "    .dataframe tbody tr th:only-of-type {\n",
              "        vertical-align: middle;\n",
              "    }\n",
              "\n",
              "    .dataframe tbody tr th {\n",
              "        vertical-align: top;\n",
              "    }\n",
              "\n",
              "    .dataframe thead th {\n",
              "        text-align: right;\n",
              "    }\n",
              "</style>\n",
              "<table border=\"1\" class=\"dataframe\">\n",
              "  <thead>\n",
              "    <tr style=\"text-align: right;\">\n",
              "      <th></th>\n",
              "      <th>user_id</th>\n",
              "      <th>movie_id</th>\n",
              "      <th>rating</th>\n",
              "      <th>timestamp</th>\n",
              "      <th>dt</th>\n",
              "      <th>year</th>\n",
              "      <th>month</th>\n",
              "      <th>quarter</th>\n",
              "    </tr>\n",
              "  </thead>\n",
              "  <tbody>\n",
              "    <tr>\n",
              "      <th>1000204</th>\n",
              "      <td>6040</td>\n",
              "      <td>1091</td>\n",
              "      <td>1</td>\n",
              "      <td>956716541</td>\n",
              "      <td>2000-04-26 02:35:41</td>\n",
              "      <td>2000</td>\n",
              "      <td>4</td>\n",
              "      <td>2</td>\n",
              "    </tr>\n",
              "    <tr>\n",
              "      <th>1000205</th>\n",
              "      <td>6040</td>\n",
              "      <td>1094</td>\n",
              "      <td>5</td>\n",
              "      <td>956704887</td>\n",
              "      <td>2000-04-25 23:21:27</td>\n",
              "      <td>2000</td>\n",
              "      <td>4</td>\n",
              "      <td>2</td>\n",
              "    </tr>\n",
              "    <tr>\n",
              "      <th>1000206</th>\n",
              "      <td>6040</td>\n",
              "      <td>562</td>\n",
              "      <td>5</td>\n",
              "      <td>956704746</td>\n",
              "      <td>2000-04-25 23:19:06</td>\n",
              "      <td>2000</td>\n",
              "      <td>4</td>\n",
              "      <td>2</td>\n",
              "    </tr>\n",
              "    <tr>\n",
              "      <th>1000207</th>\n",
              "      <td>6040</td>\n",
              "      <td>1096</td>\n",
              "      <td>4</td>\n",
              "      <td>956715648</td>\n",
              "      <td>2000-04-26 02:20:48</td>\n",
              "      <td>2000</td>\n",
              "      <td>4</td>\n",
              "      <td>2</td>\n",
              "    </tr>\n",
              "    <tr>\n",
              "      <th>1000208</th>\n",
              "      <td>6040</td>\n",
              "      <td>1097</td>\n",
              "      <td>4</td>\n",
              "      <td>956715569</td>\n",
              "      <td>2000-04-26 02:19:29</td>\n",
              "      <td>2000</td>\n",
              "      <td>4</td>\n",
              "      <td>2</td>\n",
              "    </tr>\n",
              "  </tbody>\n",
              "</table>\n",
              "</div>"
            ],
            "text/plain": [
              "         user_id  movie_id  rating  ...  year month  quarter\n",
              "1000204     6040      1091       1  ...  2000     4        2\n",
              "1000205     6040      1094       5  ...  2000     4        2\n",
              "1000206     6040       562       5  ...  2000     4        2\n",
              "1000207     6040      1096       4  ...  2000     4        2\n",
              "1000208     6040      1097       4  ...  2000     4        2\n",
              "\n",
              "[5 rows x 8 columns]"
            ]
          },
          "metadata": {
            "tags": []
          },
          "execution_count": 69
        }
      ]
    },
    {
      "cell_type": "markdown",
      "metadata": {
        "id": "lsdV7uAZX8_X"
      },
      "source": [
        "* ratings 데이터 프레임에서 2003년 2월 데이터만 추출"
      ]
    },
    {
      "cell_type": "code",
      "metadata": {
        "id": "Uj3n6TuFYE0J",
        "outputId": "c4a896f5-ec4b-4194-d2a4-8e68f6bce7b3",
        "colab": {
          "base_uri": "https://localhost:8080/",
          "height": 433
        }
      },
      "source": [
        "ratings[(ratings['dt'].dt.year == 2003) & \n",
        "        (ratings['dt'].dt.month == 2)]"
      ],
      "execution_count": 70,
      "outputs": [
        {
          "output_type": "execute_result",
          "data": {
            "text/html": [
              "<div>\n",
              "<style scoped>\n",
              "    .dataframe tbody tr th:only-of-type {\n",
              "        vertical-align: middle;\n",
              "    }\n",
              "\n",
              "    .dataframe tbody tr th {\n",
              "        vertical-align: top;\n",
              "    }\n",
              "\n",
              "    .dataframe thead th {\n",
              "        text-align: right;\n",
              "    }\n",
              "</style>\n",
              "<table border=\"1\" class=\"dataframe\">\n",
              "  <thead>\n",
              "    <tr style=\"text-align: right;\">\n",
              "      <th></th>\n",
              "      <th>user_id</th>\n",
              "      <th>movie_id</th>\n",
              "      <th>rating</th>\n",
              "      <th>timestamp</th>\n",
              "      <th>dt</th>\n",
              "      <th>year</th>\n",
              "      <th>month</th>\n",
              "      <th>quarter</th>\n",
              "    </tr>\n",
              "  </thead>\n",
              "  <tbody>\n",
              "    <tr>\n",
              "      <th>27759</th>\n",
              "      <td>195</td>\n",
              "      <td>1254</td>\n",
              "      <td>4</td>\n",
              "      <td>1044552222</td>\n",
              "      <td>2003-02-06 17:23:42</td>\n",
              "      <td>2003</td>\n",
              "      <td>2</td>\n",
              "      <td>1</td>\n",
              "    </tr>\n",
              "    <tr>\n",
              "      <th>27764</th>\n",
              "      <td>195</td>\n",
              "      <td>1183</td>\n",
              "      <td>3</td>\n",
              "      <td>1044988494</td>\n",
              "      <td>2003-02-11 18:34:54</td>\n",
              "      <td>2003</td>\n",
              "      <td>2</td>\n",
              "      <td>1</td>\n",
              "    </tr>\n",
              "    <tr>\n",
              "      <th>27781</th>\n",
              "      <td>195</td>\n",
              "      <td>3007</td>\n",
              "      <td>4</td>\n",
              "      <td>1044987990</td>\n",
              "      <td>2003-02-11 18:26:30</td>\n",
              "      <td>2003</td>\n",
              "      <td>2</td>\n",
              "      <td>1</td>\n",
              "    </tr>\n",
              "    <tr>\n",
              "      <th>27846</th>\n",
              "      <td>195</td>\n",
              "      <td>1356</td>\n",
              "      <td>2</td>\n",
              "      <td>1045358834</td>\n",
              "      <td>2003-02-16 01:27:14</td>\n",
              "      <td>2003</td>\n",
              "      <td>2</td>\n",
              "      <td>1</td>\n",
              "    </tr>\n",
              "    <tr>\n",
              "      <th>27895</th>\n",
              "      <td>195</td>\n",
              "      <td>2247</td>\n",
              "      <td>2</td>\n",
              "      <td>1045356507</td>\n",
              "      <td>2003-02-16 00:48:27</td>\n",
              "      <td>2003</td>\n",
              "      <td>2</td>\n",
              "      <td>1</td>\n",
              "    </tr>\n",
              "    <tr>\n",
              "      <th>...</th>\n",
              "      <td>...</td>\n",
              "      <td>...</td>\n",
              "      <td>...</td>\n",
              "      <td>...</td>\n",
              "      <td>...</td>\n",
              "      <td>...</td>\n",
              "      <td>...</td>\n",
              "      <td>...</td>\n",
              "    </tr>\n",
              "    <tr>\n",
              "      <th>984842</th>\n",
              "      <td>5950</td>\n",
              "      <td>3317</td>\n",
              "      <td>3</td>\n",
              "      <td>1046369439</td>\n",
              "      <td>2003-02-27 18:10:39</td>\n",
              "      <td>2003</td>\n",
              "      <td>2</td>\n",
              "      <td>1</td>\n",
              "    </tr>\n",
              "    <tr>\n",
              "      <th>984847</th>\n",
              "      <td>5950</td>\n",
              "      <td>3328</td>\n",
              "      <td>3</td>\n",
              "      <td>1046369090</td>\n",
              "      <td>2003-02-27 18:04:50</td>\n",
              "      <td>2003</td>\n",
              "      <td>2</td>\n",
              "      <td>1</td>\n",
              "    </tr>\n",
              "    <tr>\n",
              "      <th>984849</th>\n",
              "      <td>5950</td>\n",
              "      <td>111</td>\n",
              "      <td>5</td>\n",
              "      <td>1046368241</td>\n",
              "      <td>2003-02-27 17:50:41</td>\n",
              "      <td>2003</td>\n",
              "      <td>2</td>\n",
              "      <td>1</td>\n",
              "    </tr>\n",
              "    <tr>\n",
              "      <th>984861</th>\n",
              "      <td>5950</td>\n",
              "      <td>3363</td>\n",
              "      <td>5</td>\n",
              "      <td>1046367948</td>\n",
              "      <td>2003-02-27 17:45:48</td>\n",
              "      <td>2003</td>\n",
              "      <td>2</td>\n",
              "      <td>1</td>\n",
              "    </tr>\n",
              "    <tr>\n",
              "      <th>984905</th>\n",
              "      <td>5950</td>\n",
              "      <td>1089</td>\n",
              "      <td>3</td>\n",
              "      <td>1046368552</td>\n",
              "      <td>2003-02-27 17:55:52</td>\n",
              "      <td>2003</td>\n",
              "      <td>2</td>\n",
              "      <td>1</td>\n",
              "    </tr>\n",
              "  </tbody>\n",
              "</table>\n",
              "<p>1496 rows × 8 columns</p>\n",
              "</div>"
            ],
            "text/plain": [
              "        user_id  movie_id  rating  ...  year month  quarter\n",
              "27759       195      1254       4  ...  2003     2        1\n",
              "27764       195      1183       3  ...  2003     2        1\n",
              "27781       195      3007       4  ...  2003     2        1\n",
              "27846       195      1356       2  ...  2003     2        1\n",
              "27895       195      2247       2  ...  2003     2        1\n",
              "...         ...       ...     ...  ...   ...   ...      ...\n",
              "984842     5950      3317       3  ...  2003     2        1\n",
              "984847     5950      3328       3  ...  2003     2        1\n",
              "984849     5950       111       5  ...  2003     2        1\n",
              "984861     5950      3363       5  ...  2003     2        1\n",
              "984905     5950      1089       3  ...  2003     2        1\n",
              "\n",
              "[1496 rows x 8 columns]"
            ]
          },
          "metadata": {
            "tags": []
          },
          "execution_count": 70
        }
      ]
    },
    {
      "cell_type": "markdown",
      "metadata": {
        "id": "kAHZl2sHYFyR"
      },
      "source": [
        "* ratings 데이터 프레임에서 2002년 1분기 데이터만 추출"
      ]
    },
    {
      "cell_type": "code",
      "metadata": {
        "id": "Oaak7GIjYL6I",
        "outputId": "3e1aea27-ec0f-4aa1-f85d-7e4061ac2be9",
        "colab": {
          "base_uri": "https://localhost:8080/",
          "height": 433
        }
      },
      "source": [
        "ratings[(ratings['year'] == 2002) &\n",
        "        (ratings['quarter'] == 1)]"
      ],
      "execution_count": 71,
      "outputs": [
        {
          "output_type": "execute_result",
          "data": {
            "text/html": [
              "<div>\n",
              "<style scoped>\n",
              "    .dataframe tbody tr th:only-of-type {\n",
              "        vertical-align: middle;\n",
              "    }\n",
              "\n",
              "    .dataframe tbody tr th {\n",
              "        vertical-align: top;\n",
              "    }\n",
              "\n",
              "    .dataframe thead th {\n",
              "        text-align: right;\n",
              "    }\n",
              "</style>\n",
              "<table border=\"1\" class=\"dataframe\">\n",
              "  <thead>\n",
              "    <tr style=\"text-align: right;\">\n",
              "      <th></th>\n",
              "      <th>user_id</th>\n",
              "      <th>movie_id</th>\n",
              "      <th>rating</th>\n",
              "      <th>timestamp</th>\n",
              "      <th>dt</th>\n",
              "      <th>year</th>\n",
              "      <th>month</th>\n",
              "      <th>quarter</th>\n",
              "    </tr>\n",
              "  </thead>\n",
              "  <tbody>\n",
              "    <tr>\n",
              "      <th>5025</th>\n",
              "      <td>36</td>\n",
              "      <td>3359</td>\n",
              "      <td>5</td>\n",
              "      <td>1015905485</td>\n",
              "      <td>2002-03-12 03:58:05</td>\n",
              "      <td>2002</td>\n",
              "      <td>3</td>\n",
              "      <td>1</td>\n",
              "    </tr>\n",
              "    <tr>\n",
              "      <th>5034</th>\n",
              "      <td>36</td>\n",
              "      <td>581</td>\n",
              "      <td>4</td>\n",
              "      <td>1015905127</td>\n",
              "      <td>2002-03-12 03:52:07</td>\n",
              "      <td>2002</td>\n",
              "      <td>3</td>\n",
              "      <td>1</td>\n",
              "    </tr>\n",
              "    <tr>\n",
              "      <th>5053</th>\n",
              "      <td>36</td>\n",
              "      <td>7</td>\n",
              "      <td>4</td>\n",
              "      <td>1012707697</td>\n",
              "      <td>2002-02-03 03:41:37</td>\n",
              "      <td>2002</td>\n",
              "      <td>2</td>\n",
              "      <td>1</td>\n",
              "    </tr>\n",
              "    <tr>\n",
              "      <th>5060</th>\n",
              "      <td>36</td>\n",
              "      <td>1191</td>\n",
              "      <td>4</td>\n",
              "      <td>1015905249</td>\n",
              "      <td>2002-03-12 03:54:09</td>\n",
              "      <td>2002</td>\n",
              "      <td>3</td>\n",
              "      <td>1</td>\n",
              "    </tr>\n",
              "    <tr>\n",
              "      <th>5073</th>\n",
              "      <td>36</td>\n",
              "      <td>1912</td>\n",
              "      <td>5</td>\n",
              "      <td>1015904924</td>\n",
              "      <td>2002-03-12 03:48:44</td>\n",
              "      <td>2002</td>\n",
              "      <td>3</td>\n",
              "      <td>1</td>\n",
              "    </tr>\n",
              "    <tr>\n",
              "      <th>...</th>\n",
              "      <td>...</td>\n",
              "      <td>...</td>\n",
              "      <td>...</td>\n",
              "      <td>...</td>\n",
              "      <td>...</td>\n",
              "      <td>...</td>\n",
              "      <td>...</td>\n",
              "      <td>...</td>\n",
              "    </tr>\n",
              "    <tr>\n",
              "      <th>994088</th>\n",
              "      <td>6002</td>\n",
              "      <td>2764</td>\n",
              "      <td>4</td>\n",
              "      <td>1014524069</td>\n",
              "      <td>2002-02-24 04:14:29</td>\n",
              "      <td>2002</td>\n",
              "      <td>2</td>\n",
              "      <td>1</td>\n",
              "    </tr>\n",
              "    <tr>\n",
              "      <th>994092</th>\n",
              "      <td>6002</td>\n",
              "      <td>3729</td>\n",
              "      <td>4</td>\n",
              "      <td>1014524511</td>\n",
              "      <td>2002-02-24 04:21:51</td>\n",
              "      <td>2002</td>\n",
              "      <td>2</td>\n",
              "      <td>1</td>\n",
              "    </tr>\n",
              "    <tr>\n",
              "      <th>994096</th>\n",
              "      <td>6002</td>\n",
              "      <td>3733</td>\n",
              "      <td>4</td>\n",
              "      <td>1014524481</td>\n",
              "      <td>2002-02-24 04:21:21</td>\n",
              "      <td>2002</td>\n",
              "      <td>2</td>\n",
              "      <td>1</td>\n",
              "    </tr>\n",
              "    <tr>\n",
              "      <th>994100</th>\n",
              "      <td>6002</td>\n",
              "      <td>2013</td>\n",
              "      <td>4</td>\n",
              "      <td>1014524679</td>\n",
              "      <td>2002-02-24 04:24:39</td>\n",
              "      <td>2002</td>\n",
              "      <td>2</td>\n",
              "      <td>1</td>\n",
              "    </tr>\n",
              "    <tr>\n",
              "      <th>994106</th>\n",
              "      <td>6002</td>\n",
              "      <td>1084</td>\n",
              "      <td>5</td>\n",
              "      <td>1014523779</td>\n",
              "      <td>2002-02-24 04:09:39</td>\n",
              "      <td>2002</td>\n",
              "      <td>2</td>\n",
              "      <td>1</td>\n",
              "    </tr>\n",
              "  </tbody>\n",
              "</table>\n",
              "<p>8166 rows × 8 columns</p>\n",
              "</div>"
            ],
            "text/plain": [
              "        user_id  movie_id  rating  ...  year month  quarter\n",
              "5025         36      3359       5  ...  2002     3        1\n",
              "5034         36       581       4  ...  2002     3        1\n",
              "5053         36         7       4  ...  2002     2        1\n",
              "5060         36      1191       4  ...  2002     3        1\n",
              "5073         36      1912       5  ...  2002     3        1\n",
              "...         ...       ...     ...  ...   ...   ...      ...\n",
              "994088     6002      2764       4  ...  2002     2        1\n",
              "994092     6002      3729       4  ...  2002     2        1\n",
              "994096     6002      3733       4  ...  2002     2        1\n",
              "994100     6002      2013       4  ...  2002     2        1\n",
              "994106     6002      1084       5  ...  2002     2        1\n",
              "\n",
              "[8166 rows x 8 columns]"
            ]
          },
          "metadata": {
            "tags": []
          },
          "execution_count": 71
        }
      ]
    },
    {
      "cell_type": "markdown",
      "metadata": {
        "id": "tonjzabJd2H9"
      },
      "source": [
        "* pandas.to_datetime() 함수: 문자열/숫자 등을 datetime 객체로 변환"
      ]
    },
    {
      "cell_type": "code",
      "metadata": {
        "id": "dFe1PltWeFyj",
        "outputId": "42496948-b5eb-444f-c534-a73adb38ac6d",
        "colab": {
          "base_uri": "https://localhost:8080/",
          "height": 79
        }
      },
      "source": [
        "# 문자열 -> datetime 객체 변환\n",
        "print(pd.to_datetime('2020-10-12'))\n",
        "print(pd.to_datetime('10-12-2020'))\n",
        "print(pd.to_datetime('10-12-2020', dayfirst=True))"
      ],
      "execution_count": 74,
      "outputs": [
        {
          "output_type": "stream",
          "text": [
            "2020-10-12 00:00:00\n",
            "2020-10-12 00:00:00\n",
            "2020-12-10 00:00:00\n"
          ],
          "name": "stdout"
        }
      ]
    },
    {
      "cell_type": "code",
      "metadata": {
        "id": "LismodLegv2K",
        "outputId": "f8f8a626-5db3-473b-93db-ebd0f4eee389",
        "colab": {
          "base_uri": "https://localhost:8080/",
          "height": 58
        }
      },
      "source": [
        "# 옵션들의 기본값: dayfirst=False, yearfirst=False\n",
        "print(pd.to_datetime('20-10-12', yearfirst=True))\n",
        "print(pd.to_datetime('20-10-12', dayfirst=True))"
      ],
      "execution_count": 77,
      "outputs": [
        {
          "output_type": "stream",
          "text": [
            "2020-10-12 00:00:00\n",
            "2012-10-20 00:00:00\n"
          ],
          "name": "stdout"
        }
      ]
    },
    {
      "cell_type": "code",
      "metadata": {
        "id": "WskuxIkHiW94",
        "outputId": "15e2ffc0-8270-4039-d25c-c939707fb43b",
        "colab": {
          "base_uri": "https://localhost:8080/",
          "height": 38
        }
      },
      "source": [
        "# 숫자(정수, 실수) -> datetime 변환\n",
        "print(pd.to_datetime(1014523779, unit='s'))"
      ],
      "execution_count": 79,
      "outputs": [
        {
          "output_type": "stream",
          "text": [
            "2002-02-24 04:09:39\n"
          ],
          "name": "stdout"
        }
      ]
    },
    {
      "cell_type": "code",
      "metadata": {
        "id": "WRpCjin5jcUg",
        "outputId": "88bebedb-3119-4400-dfc9-b05f83e891ce",
        "colab": {
          "base_uri": "https://localhost:8080/",
          "height": 100
        }
      },
      "source": [
        "pd.to_datetime(ratings.loc[0:2, 'timestamp'], unit='s')"
      ],
      "execution_count": 82,
      "outputs": [
        {
          "output_type": "execute_result",
          "data": {
            "text/plain": [
              "0   2000-12-31 22:12:40\n",
              "1   2000-12-31 22:35:09\n",
              "2   2000-12-31 22:32:48\n",
              "Name: timestamp, dtype: datetime64[ns]"
            ]
          },
          "metadata": {
            "tags": []
          },
          "execution_count": 82
        }
      ]
    },
    {
      "cell_type": "code",
      "metadata": {
        "id": "qT6S0U3Fj4uG",
        "outputId": "0455c02b-13af-459f-c510-dddb61bf994f",
        "colab": {
          "base_uri": "https://localhost:8080/",
          "height": 433
        }
      },
      "source": [
        "ratings['dt2'] = pd.to_datetime(ratings['timestamp'], unit='s')\n",
        "ratings"
      ],
      "execution_count": 83,
      "outputs": [
        {
          "output_type": "execute_result",
          "data": {
            "text/html": [
              "<div>\n",
              "<style scoped>\n",
              "    .dataframe tbody tr th:only-of-type {\n",
              "        vertical-align: middle;\n",
              "    }\n",
              "\n",
              "    .dataframe tbody tr th {\n",
              "        vertical-align: top;\n",
              "    }\n",
              "\n",
              "    .dataframe thead th {\n",
              "        text-align: right;\n",
              "    }\n",
              "</style>\n",
              "<table border=\"1\" class=\"dataframe\">\n",
              "  <thead>\n",
              "    <tr style=\"text-align: right;\">\n",
              "      <th></th>\n",
              "      <th>user_id</th>\n",
              "      <th>movie_id</th>\n",
              "      <th>rating</th>\n",
              "      <th>timestamp</th>\n",
              "      <th>dt</th>\n",
              "      <th>year</th>\n",
              "      <th>month</th>\n",
              "      <th>quarter</th>\n",
              "      <th>dt2</th>\n",
              "    </tr>\n",
              "  </thead>\n",
              "  <tbody>\n",
              "    <tr>\n",
              "      <th>0</th>\n",
              "      <td>1</td>\n",
              "      <td>1193</td>\n",
              "      <td>5</td>\n",
              "      <td>978300760</td>\n",
              "      <td>2000-12-31 22:12:40</td>\n",
              "      <td>2000</td>\n",
              "      <td>12</td>\n",
              "      <td>4</td>\n",
              "      <td>2000-12-31 22:12:40</td>\n",
              "    </tr>\n",
              "    <tr>\n",
              "      <th>1</th>\n",
              "      <td>1</td>\n",
              "      <td>661</td>\n",
              "      <td>3</td>\n",
              "      <td>978302109</td>\n",
              "      <td>2000-12-31 22:35:09</td>\n",
              "      <td>2000</td>\n",
              "      <td>12</td>\n",
              "      <td>4</td>\n",
              "      <td>2000-12-31 22:35:09</td>\n",
              "    </tr>\n",
              "    <tr>\n",
              "      <th>2</th>\n",
              "      <td>1</td>\n",
              "      <td>914</td>\n",
              "      <td>3</td>\n",
              "      <td>978301968</td>\n",
              "      <td>2000-12-31 22:32:48</td>\n",
              "      <td>2000</td>\n",
              "      <td>12</td>\n",
              "      <td>4</td>\n",
              "      <td>2000-12-31 22:32:48</td>\n",
              "    </tr>\n",
              "    <tr>\n",
              "      <th>3</th>\n",
              "      <td>1</td>\n",
              "      <td>3408</td>\n",
              "      <td>4</td>\n",
              "      <td>978300275</td>\n",
              "      <td>2000-12-31 22:04:35</td>\n",
              "      <td>2000</td>\n",
              "      <td>12</td>\n",
              "      <td>4</td>\n",
              "      <td>2000-12-31 22:04:35</td>\n",
              "    </tr>\n",
              "    <tr>\n",
              "      <th>4</th>\n",
              "      <td>1</td>\n",
              "      <td>2355</td>\n",
              "      <td>5</td>\n",
              "      <td>978824291</td>\n",
              "      <td>2001-01-06 23:38:11</td>\n",
              "      <td>2001</td>\n",
              "      <td>1</td>\n",
              "      <td>1</td>\n",
              "      <td>2001-01-06 23:38:11</td>\n",
              "    </tr>\n",
              "    <tr>\n",
              "      <th>...</th>\n",
              "      <td>...</td>\n",
              "      <td>...</td>\n",
              "      <td>...</td>\n",
              "      <td>...</td>\n",
              "      <td>...</td>\n",
              "      <td>...</td>\n",
              "      <td>...</td>\n",
              "      <td>...</td>\n",
              "      <td>...</td>\n",
              "    </tr>\n",
              "    <tr>\n",
              "      <th>1000204</th>\n",
              "      <td>6040</td>\n",
              "      <td>1091</td>\n",
              "      <td>1</td>\n",
              "      <td>956716541</td>\n",
              "      <td>2000-04-26 02:35:41</td>\n",
              "      <td>2000</td>\n",
              "      <td>4</td>\n",
              "      <td>2</td>\n",
              "      <td>2000-04-26 02:35:41</td>\n",
              "    </tr>\n",
              "    <tr>\n",
              "      <th>1000205</th>\n",
              "      <td>6040</td>\n",
              "      <td>1094</td>\n",
              "      <td>5</td>\n",
              "      <td>956704887</td>\n",
              "      <td>2000-04-25 23:21:27</td>\n",
              "      <td>2000</td>\n",
              "      <td>4</td>\n",
              "      <td>2</td>\n",
              "      <td>2000-04-25 23:21:27</td>\n",
              "    </tr>\n",
              "    <tr>\n",
              "      <th>1000206</th>\n",
              "      <td>6040</td>\n",
              "      <td>562</td>\n",
              "      <td>5</td>\n",
              "      <td>956704746</td>\n",
              "      <td>2000-04-25 23:19:06</td>\n",
              "      <td>2000</td>\n",
              "      <td>4</td>\n",
              "      <td>2</td>\n",
              "      <td>2000-04-25 23:19:06</td>\n",
              "    </tr>\n",
              "    <tr>\n",
              "      <th>1000207</th>\n",
              "      <td>6040</td>\n",
              "      <td>1096</td>\n",
              "      <td>4</td>\n",
              "      <td>956715648</td>\n",
              "      <td>2000-04-26 02:20:48</td>\n",
              "      <td>2000</td>\n",
              "      <td>4</td>\n",
              "      <td>2</td>\n",
              "      <td>2000-04-26 02:20:48</td>\n",
              "    </tr>\n",
              "    <tr>\n",
              "      <th>1000208</th>\n",
              "      <td>6040</td>\n",
              "      <td>1097</td>\n",
              "      <td>4</td>\n",
              "      <td>956715569</td>\n",
              "      <td>2000-04-26 02:19:29</td>\n",
              "      <td>2000</td>\n",
              "      <td>4</td>\n",
              "      <td>2</td>\n",
              "      <td>2000-04-26 02:19:29</td>\n",
              "    </tr>\n",
              "  </tbody>\n",
              "</table>\n",
              "<p>1000209 rows × 9 columns</p>\n",
              "</div>"
            ],
            "text/plain": [
              "         user_id  movie_id  rating  ...  month quarter                 dt2\n",
              "0              1      1193       5  ...     12       4 2000-12-31 22:12:40\n",
              "1              1       661       3  ...     12       4 2000-12-31 22:35:09\n",
              "2              1       914       3  ...     12       4 2000-12-31 22:32:48\n",
              "3              1      3408       4  ...     12       4 2000-12-31 22:04:35\n",
              "4              1      2355       5  ...      1       1 2001-01-06 23:38:11\n",
              "...          ...       ...     ...  ...    ...     ...                 ...\n",
              "1000204     6040      1091       1  ...      4       2 2000-04-26 02:35:41\n",
              "1000205     6040      1094       5  ...      4       2 2000-04-25 23:21:27\n",
              "1000206     6040       562       5  ...      4       2 2000-04-25 23:19:06\n",
              "1000207     6040      1096       4  ...      4       2 2000-04-26 02:20:48\n",
              "1000208     6040      1097       4  ...      4       2 2000-04-26 02:19:29\n",
              "\n",
              "[1000209 rows x 9 columns]"
            ]
          },
          "metadata": {
            "tags": []
          },
          "execution_count": 83
        }
      ]
    },
    {
      "cell_type": "markdown",
      "metadata": {
        "id": "MgSaOC_9k9z9"
      },
      "source": [
        "https://github.com/wesm/pydata-book/raw/2nd-edition/examples/spx.csv 파일을 읽어서 데이터 프레임 생성"
      ]
    },
    {
      "cell_type": "code",
      "metadata": {
        "id": "61Cgh3ZylAmr"
      },
      "source": [
        "file_path = 'https://github.com/wesm/pydata-book/raw/2nd-edition/examples/spx.csv'\n",
        "spx = pd.read_csv(file_path, header=0, names=['Date', 'Price'])"
      ],
      "execution_count": 87,
      "outputs": []
    },
    {
      "cell_type": "code",
      "metadata": {
        "id": "m-dvWYzllZU1",
        "outputId": "09ff31c7-d3a3-4730-cee3-ee3df3d68219",
        "colab": {
          "base_uri": "https://localhost:8080/",
          "height": 210
        }
      },
      "source": [
        "spx.head()"
      ],
      "execution_count": 88,
      "outputs": [
        {
          "output_type": "execute_result",
          "data": {
            "text/html": [
              "<div>\n",
              "<style scoped>\n",
              "    .dataframe tbody tr th:only-of-type {\n",
              "        vertical-align: middle;\n",
              "    }\n",
              "\n",
              "    .dataframe tbody tr th {\n",
              "        vertical-align: top;\n",
              "    }\n",
              "\n",
              "    .dataframe thead th {\n",
              "        text-align: right;\n",
              "    }\n",
              "</style>\n",
              "<table border=\"1\" class=\"dataframe\">\n",
              "  <thead>\n",
              "    <tr style=\"text-align: right;\">\n",
              "      <th></th>\n",
              "      <th>Date</th>\n",
              "      <th>Price</th>\n",
              "    </tr>\n",
              "  </thead>\n",
              "  <tbody>\n",
              "    <tr>\n",
              "      <th>0</th>\n",
              "      <td>1990-02-01 00:00:00</td>\n",
              "      <td>328.79</td>\n",
              "    </tr>\n",
              "    <tr>\n",
              "      <th>1</th>\n",
              "      <td>1990-02-02 00:00:00</td>\n",
              "      <td>330.92</td>\n",
              "    </tr>\n",
              "    <tr>\n",
              "      <th>2</th>\n",
              "      <td>1990-02-05 00:00:00</td>\n",
              "      <td>331.85</td>\n",
              "    </tr>\n",
              "    <tr>\n",
              "      <th>3</th>\n",
              "      <td>1990-02-06 00:00:00</td>\n",
              "      <td>329.66</td>\n",
              "    </tr>\n",
              "    <tr>\n",
              "      <th>4</th>\n",
              "      <td>1990-02-07 00:00:00</td>\n",
              "      <td>333.75</td>\n",
              "    </tr>\n",
              "  </tbody>\n",
              "</table>\n",
              "</div>"
            ],
            "text/plain": [
              "                  Date   Price\n",
              "0  1990-02-01 00:00:00  328.79\n",
              "1  1990-02-02 00:00:00  330.92\n",
              "2  1990-02-05 00:00:00  331.85\n",
              "3  1990-02-06 00:00:00  329.66\n",
              "4  1990-02-07 00:00:00  333.75"
            ]
          },
          "metadata": {
            "tags": []
          },
          "execution_count": 88
        }
      ]
    },
    {
      "cell_type": "code",
      "metadata": {
        "id": "2SW8tZEwl3HH",
        "outputId": "57328838-afbd-4ce4-8830-df8c8efa820a",
        "colab": {
          "base_uri": "https://localhost:8080/",
          "height": 79
        }
      },
      "source": [
        "spx.dtypes  # 데이터 프레임 각 컬럼의 데이터 타입\n",
        "#> Date 컬럼의 데이터 타입은 object(문자열)"
      ],
      "execution_count": 89,
      "outputs": [
        {
          "output_type": "execute_result",
          "data": {
            "text/plain": [
              "Date      object\n",
              "Price    float64\n",
              "dtype: object"
            ]
          },
          "metadata": {
            "tags": []
          },
          "execution_count": 89
        }
      ]
    },
    {
      "cell_type": "code",
      "metadata": {
        "id": "CtwW2yJymWwc",
        "outputId": "8138879e-735a-4275-cf8e-36c71c0a40e5",
        "colab": {
          "base_uri": "https://localhost:8080/",
          "height": 79
        }
      },
      "source": [
        "# Date 컬럼의 데이터 타입을 datetime으로 변환\n",
        "spx['Date'] = pd.to_datetime(spx['Date'])\n",
        "spx.dtypes  #> Date 컬럼의 데이터 타입은 datetime"
      ],
      "execution_count": 90,
      "outputs": [
        {
          "output_type": "execute_result",
          "data": {
            "text/plain": [
              "Date     datetime64[ns]\n",
              "Price           float64\n",
              "dtype: object"
            ]
          },
          "metadata": {
            "tags": []
          },
          "execution_count": 90
        }
      ]
    },
    {
      "cell_type": "code",
      "metadata": {
        "id": "3CbiyAwwm0rU",
        "outputId": "655f0b7a-5caa-4eff-847b-7307ce60f03a",
        "colab": {
          "base_uri": "https://localhost:8080/",
          "height": 38
        }
      },
      "source": [
        "spx['Date'].min(), spx['Date'].max()"
      ],
      "execution_count": 92,
      "outputs": [
        {
          "output_type": "execute_result",
          "data": {
            "text/plain": [
              "(Timestamp('1990-02-01 00:00:00'), Timestamp('2011-10-14 00:00:00'))"
            ]
          },
          "metadata": {
            "tags": []
          },
          "execution_count": 92
        }
      ]
    },
    {
      "cell_type": "code",
      "metadata": {
        "id": "CLO6NSJ5rvwU"
      },
      "source": [
        "# read_csv() 함수를 호출할 때 특정 컬럼들을 datetime으로 변환(parsing)하겠다고 설정.\n",
        "df = pd.read_csv(file_path, header=0, names=['Date', 'Price'],\n",
        "                 parse_dates=['Date'])"
      ],
      "execution_count": 93,
      "outputs": []
    },
    {
      "cell_type": "code",
      "metadata": {
        "id": "P-0_6ekdsp_b",
        "outputId": "73ac4261-5f2d-479c-c775-e231e79dfc7d",
        "colab": {
          "base_uri": "https://localhost:8080/",
          "height": 210
        }
      },
      "source": [
        "df.head()"
      ],
      "execution_count": 94,
      "outputs": [
        {
          "output_type": "execute_result",
          "data": {
            "text/html": [
              "<div>\n",
              "<style scoped>\n",
              "    .dataframe tbody tr th:only-of-type {\n",
              "        vertical-align: middle;\n",
              "    }\n",
              "\n",
              "    .dataframe tbody tr th {\n",
              "        vertical-align: top;\n",
              "    }\n",
              "\n",
              "    .dataframe thead th {\n",
              "        text-align: right;\n",
              "    }\n",
              "</style>\n",
              "<table border=\"1\" class=\"dataframe\">\n",
              "  <thead>\n",
              "    <tr style=\"text-align: right;\">\n",
              "      <th></th>\n",
              "      <th>Date</th>\n",
              "      <th>Price</th>\n",
              "    </tr>\n",
              "  </thead>\n",
              "  <tbody>\n",
              "    <tr>\n",
              "      <th>0</th>\n",
              "      <td>1990-02-01</td>\n",
              "      <td>328.79</td>\n",
              "    </tr>\n",
              "    <tr>\n",
              "      <th>1</th>\n",
              "      <td>1990-02-02</td>\n",
              "      <td>330.92</td>\n",
              "    </tr>\n",
              "    <tr>\n",
              "      <th>2</th>\n",
              "      <td>1990-02-05</td>\n",
              "      <td>331.85</td>\n",
              "    </tr>\n",
              "    <tr>\n",
              "      <th>3</th>\n",
              "      <td>1990-02-06</td>\n",
              "      <td>329.66</td>\n",
              "    </tr>\n",
              "    <tr>\n",
              "      <th>4</th>\n",
              "      <td>1990-02-07</td>\n",
              "      <td>333.75</td>\n",
              "    </tr>\n",
              "  </tbody>\n",
              "</table>\n",
              "</div>"
            ],
            "text/plain": [
              "        Date   Price\n",
              "0 1990-02-01  328.79\n",
              "1 1990-02-02  330.92\n",
              "2 1990-02-05  331.85\n",
              "3 1990-02-06  329.66\n",
              "4 1990-02-07  333.75"
            ]
          },
          "metadata": {
            "tags": []
          },
          "execution_count": 94
        }
      ]
    },
    {
      "cell_type": "code",
      "metadata": {
        "id": "RHGzRaI6st9a",
        "outputId": "09b7d5b3-af0a-41a4-efbd-ef69224d2644",
        "colab": {
          "base_uri": "https://localhost:8080/",
          "height": 79
        }
      },
      "source": [
        "df.dtypes"
      ],
      "execution_count": 95,
      "outputs": [
        {
          "output_type": "execute_result",
          "data": {
            "text/plain": [
              "Date     datetime64[ns]\n",
              "Price           float64\n",
              "dtype: object"
            ]
          },
          "metadata": {
            "tags": []
          },
          "execution_count": 95
        }
      ]
    },
    {
      "cell_type": "code",
      "metadata": {
        "id": "0FHKcGD8teXs",
        "outputId": "53ac8978-74bb-4e64-b868-2903418db498",
        "colab": {
          "base_uri": "https://localhost:8080/",
          "height": 242
        }
      },
      "source": [
        "# df에서 연도별 Price의 평균을 계산해보세요.\n",
        "# 1) df에 Year 변수(컬럼)을 추가\n",
        "df['Year'] = df['Date'].dt.year\n",
        "# df.tail()\n",
        "\n",
        "# 2) Year별 Price의 평균\n",
        "df_yearly = df.groupby('Year')[['Price']].mean()\n",
        "df_yearly.head()"
      ],
      "execution_count": 99,
      "outputs": [
        {
          "output_type": "execute_result",
          "data": {
            "text/html": [
              "<div>\n",
              "<style scoped>\n",
              "    .dataframe tbody tr th:only-of-type {\n",
              "        vertical-align: middle;\n",
              "    }\n",
              "\n",
              "    .dataframe tbody tr th {\n",
              "        vertical-align: top;\n",
              "    }\n",
              "\n",
              "    .dataframe thead th {\n",
              "        text-align: right;\n",
              "    }\n",
              "</style>\n",
              "<table border=\"1\" class=\"dataframe\">\n",
              "  <thead>\n",
              "    <tr style=\"text-align: right;\">\n",
              "      <th></th>\n",
              "      <th>Price</th>\n",
              "    </tr>\n",
              "    <tr>\n",
              "      <th>Year</th>\n",
              "      <th></th>\n",
              "    </tr>\n",
              "  </thead>\n",
              "  <tbody>\n",
              "    <tr>\n",
              "      <th>1990</th>\n",
              "      <td>334.123506</td>\n",
              "    </tr>\n",
              "    <tr>\n",
              "      <th>1991</th>\n",
              "      <td>376.186324</td>\n",
              "    </tr>\n",
              "    <tr>\n",
              "      <th>1992</th>\n",
              "      <td>415.747008</td>\n",
              "    </tr>\n",
              "    <tr>\n",
              "      <th>1993</th>\n",
              "      <td>451.614822</td>\n",
              "    </tr>\n",
              "    <tr>\n",
              "      <th>1994</th>\n",
              "      <td>460.416508</td>\n",
              "    </tr>\n",
              "  </tbody>\n",
              "</table>\n",
              "</div>"
            ],
            "text/plain": [
              "           Price\n",
              "Year            \n",
              "1990  334.123506\n",
              "1991  376.186324\n",
              "1992  415.747008\n",
              "1993  451.614822\n",
              "1994  460.416508"
            ]
          },
          "metadata": {
            "tags": []
          },
          "execution_count": 99
        }
      ]
    },
    {
      "cell_type": "code",
      "metadata": {
        "id": "0kA1pUVrvnLS",
        "outputId": "6126d2fd-8623-4a81-bdae-5048695fb737",
        "colab": {
          "base_uri": "https://localhost:8080/",
          "height": 279
        }
      },
      "source": [
        "import matplotlib.pyplot as plt\n",
        "import seaborn as sns\n",
        "\n",
        "sns.lineplot(x=df_yearly.index, y='Price', data=df_yearly)\n",
        "plt.show()"
      ],
      "execution_count": 100,
      "outputs": [
        {
          "output_type": "display_data",
          "data": {
            "image/png": "[encoded data removed]",
            "text/plain": [
              "<Figure size 432x288 with 1 Axes>"
            ]
          },
          "metadata": {
            "tags": [],
            "needs_background": "light"
          }
        }
      ]
    },
    {
      "cell_type": "code",
      "metadata": {
        "id": "Km1wz4ckwr83",
        "outputId": "4a1638ca-b95d-4f08-813d-e2ae03551134",
        "colab": {
          "base_uri": "https://localhost:8080/",
          "height": 690
        }
      },
      "source": [
        "# 2011년 1월 데이터만 선택\n",
        "df[(df['Date'].dt.year == 2011) & (df['Date'].dt.month == 1)]"
      ],
      "execution_count": 104,
      "outputs": [
        {
          "output_type": "execute_result",
          "data": {
            "text/html": [
              "<div>\n",
              "<style scoped>\n",
              "    .dataframe tbody tr th:only-of-type {\n",
              "        vertical-align: middle;\n",
              "    }\n",
              "\n",
              "    .dataframe tbody tr th {\n",
              "        vertical-align: top;\n",
              "    }\n",
              "\n",
              "    .dataframe thead th {\n",
              "        text-align: right;\n",
              "    }\n",
              "</style>\n",
              "<table border=\"1\" class=\"dataframe\">\n",
              "  <thead>\n",
              "    <tr style=\"text-align: right;\">\n",
              "      <th></th>\n",
              "      <th>Date</th>\n",
              "      <th>Price</th>\n",
              "      <th>Year</th>\n",
              "    </tr>\n",
              "  </thead>\n",
              "  <tbody>\n",
              "    <tr>\n",
              "      <th>5273</th>\n",
              "      <td>2011-01-03</td>\n",
              "      <td>1271.87</td>\n",
              "      <td>2011</td>\n",
              "    </tr>\n",
              "    <tr>\n",
              "      <th>5274</th>\n",
              "      <td>2011-01-04</td>\n",
              "      <td>1270.20</td>\n",
              "      <td>2011</td>\n",
              "    </tr>\n",
              "    <tr>\n",
              "      <th>5275</th>\n",
              "      <td>2011-01-05</td>\n",
              "      <td>1276.56</td>\n",
              "      <td>2011</td>\n",
              "    </tr>\n",
              "    <tr>\n",
              "      <th>5276</th>\n",
              "      <td>2011-01-06</td>\n",
              "      <td>1273.85</td>\n",
              "      <td>2011</td>\n",
              "    </tr>\n",
              "    <tr>\n",
              "      <th>5277</th>\n",
              "      <td>2011-01-07</td>\n",
              "      <td>1271.50</td>\n",
              "      <td>2011</td>\n",
              "    </tr>\n",
              "    <tr>\n",
              "      <th>5278</th>\n",
              "      <td>2011-01-10</td>\n",
              "      <td>1269.75</td>\n",
              "      <td>2011</td>\n",
              "    </tr>\n",
              "    <tr>\n",
              "      <th>5279</th>\n",
              "      <td>2011-01-11</td>\n",
              "      <td>1274.48</td>\n",
              "      <td>2011</td>\n",
              "    </tr>\n",
              "    <tr>\n",
              "      <th>5280</th>\n",
              "      <td>2011-01-12</td>\n",
              "      <td>1285.96</td>\n",
              "      <td>2011</td>\n",
              "    </tr>\n",
              "    <tr>\n",
              "      <th>5281</th>\n",
              "      <td>2011-01-13</td>\n",
              "      <td>1283.76</td>\n",
              "      <td>2011</td>\n",
              "    </tr>\n",
              "    <tr>\n",
              "      <th>5282</th>\n",
              "      <td>2011-01-14</td>\n",
              "      <td>1293.24</td>\n",
              "      <td>2011</td>\n",
              "    </tr>\n",
              "    <tr>\n",
              "      <th>5283</th>\n",
              "      <td>2011-01-18</td>\n",
              "      <td>1295.02</td>\n",
              "      <td>2011</td>\n",
              "    </tr>\n",
              "    <tr>\n",
              "      <th>5284</th>\n",
              "      <td>2011-01-19</td>\n",
              "      <td>1281.92</td>\n",
              "      <td>2011</td>\n",
              "    </tr>\n",
              "    <tr>\n",
              "      <th>5285</th>\n",
              "      <td>2011-01-20</td>\n",
              "      <td>1280.26</td>\n",
              "      <td>2011</td>\n",
              "    </tr>\n",
              "    <tr>\n",
              "      <th>5286</th>\n",
              "      <td>2011-01-21</td>\n",
              "      <td>1283.35</td>\n",
              "      <td>2011</td>\n",
              "    </tr>\n",
              "    <tr>\n",
              "      <th>5287</th>\n",
              "      <td>2011-01-24</td>\n",
              "      <td>1290.84</td>\n",
              "      <td>2011</td>\n",
              "    </tr>\n",
              "    <tr>\n",
              "      <th>5288</th>\n",
              "      <td>2011-01-25</td>\n",
              "      <td>1291.18</td>\n",
              "      <td>2011</td>\n",
              "    </tr>\n",
              "    <tr>\n",
              "      <th>5289</th>\n",
              "      <td>2011-01-26</td>\n",
              "      <td>1296.63</td>\n",
              "      <td>2011</td>\n",
              "    </tr>\n",
              "    <tr>\n",
              "      <th>5290</th>\n",
              "      <td>2011-01-27</td>\n",
              "      <td>1299.54</td>\n",
              "      <td>2011</td>\n",
              "    </tr>\n",
              "    <tr>\n",
              "      <th>5291</th>\n",
              "      <td>2011-01-28</td>\n",
              "      <td>1276.34</td>\n",
              "      <td>2011</td>\n",
              "    </tr>\n",
              "    <tr>\n",
              "      <th>5292</th>\n",
              "      <td>2011-01-31</td>\n",
              "      <td>1286.12</td>\n",
              "      <td>2011</td>\n",
              "    </tr>\n",
              "  </tbody>\n",
              "</table>\n",
              "</div>"
            ],
            "text/plain": [
              "           Date    Price  Year\n",
              "5273 2011-01-03  1271.87  2011\n",
              "5274 2011-01-04  1270.20  2011\n",
              "5275 2011-01-05  1276.56  2011\n",
              "5276 2011-01-06  1273.85  2011\n",
              "5277 2011-01-07  1271.50  2011\n",
              "5278 2011-01-10  1269.75  2011\n",
              "5279 2011-01-11  1274.48  2011\n",
              "5280 2011-01-12  1285.96  2011\n",
              "5281 2011-01-13  1283.76  2011\n",
              "5282 2011-01-14  1293.24  2011\n",
              "5283 2011-01-18  1295.02  2011\n",
              "5284 2011-01-19  1281.92  2011\n",
              "5285 2011-01-20  1280.26  2011\n",
              "5286 2011-01-21  1283.35  2011\n",
              "5287 2011-01-24  1290.84  2011\n",
              "5288 2011-01-25  1291.18  2011\n",
              "5289 2011-01-26  1296.63  2011\n",
              "5290 2011-01-27  1299.54  2011\n",
              "5291 2011-01-28  1276.34  2011\n",
              "5292 2011-01-31  1286.12  2011"
            ]
          },
          "metadata": {
            "tags": []
          },
          "execution_count": 104
        }
      ]
    },
    {
      "cell_type": "markdown",
      "metadata": {
        "id": "UNaK5AdOxkoY"
      },
      "source": [
        "* datetime 타입의 인덱스를 사용한 인덱싱"
      ]
    },
    {
      "cell_type": "code",
      "metadata": {
        "id": "XLZLYjnhxrAd",
        "outputId": "b343399f-3899-477d-9409-2333ad734b00",
        "colab": {
          "base_uri": "https://localhost:8080/",
          "height": 465
        }
      },
      "source": [
        "# df 데이터 프레임에서 Date 컬름을 인덱스로 변환.\n",
        "df_with_index = df.set_index('Date')\n",
        "df_with_index"
      ],
      "execution_count": 105,
      "outputs": [
        {
          "output_type": "execute_result",
          "data": {
            "text/html": [
              "<div>\n",
              "<style scoped>\n",
              "    .dataframe tbody tr th:only-of-type {\n",
              "        vertical-align: middle;\n",
              "    }\n",
              "\n",
              "    .dataframe tbody tr th {\n",
              "        vertical-align: top;\n",
              "    }\n",
              "\n",
              "    .dataframe thead th {\n",
              "        text-align: right;\n",
              "    }\n",
              "</style>\n",
              "<table border=\"1\" class=\"dataframe\">\n",
              "  <thead>\n",
              "    <tr style=\"text-align: right;\">\n",
              "      <th></th>\n",
              "      <th>Price</th>\n",
              "      <th>Year</th>\n",
              "    </tr>\n",
              "    <tr>\n",
              "      <th>Date</th>\n",
              "      <th></th>\n",
              "      <th></th>\n",
              "    </tr>\n",
              "  </thead>\n",
              "  <tbody>\n",
              "    <tr>\n",
              "      <th>1990-02-01</th>\n",
              "      <td>328.79</td>\n",
              "      <td>1990</td>\n",
              "    </tr>\n",
              "    <tr>\n",
              "      <th>1990-02-02</th>\n",
              "      <td>330.92</td>\n",
              "      <td>1990</td>\n",
              "    </tr>\n",
              "    <tr>\n",
              "      <th>1990-02-05</th>\n",
              "      <td>331.85</td>\n",
              "      <td>1990</td>\n",
              "    </tr>\n",
              "    <tr>\n",
              "      <th>1990-02-06</th>\n",
              "      <td>329.66</td>\n",
              "      <td>1990</td>\n",
              "    </tr>\n",
              "    <tr>\n",
              "      <th>1990-02-07</th>\n",
              "      <td>333.75</td>\n",
              "      <td>1990</td>\n",
              "    </tr>\n",
              "    <tr>\n",
              "      <th>...</th>\n",
              "      <td>...</td>\n",
              "      <td>...</td>\n",
              "    </tr>\n",
              "    <tr>\n",
              "      <th>2011-10-10</th>\n",
              "      <td>1194.89</td>\n",
              "      <td>2011</td>\n",
              "    </tr>\n",
              "    <tr>\n",
              "      <th>2011-10-11</th>\n",
              "      <td>1195.54</td>\n",
              "      <td>2011</td>\n",
              "    </tr>\n",
              "    <tr>\n",
              "      <th>2011-10-12</th>\n",
              "      <td>1207.25</td>\n",
              "      <td>2011</td>\n",
              "    </tr>\n",
              "    <tr>\n",
              "      <th>2011-10-13</th>\n",
              "      <td>1203.66</td>\n",
              "      <td>2011</td>\n",
              "    </tr>\n",
              "    <tr>\n",
              "      <th>2011-10-14</th>\n",
              "      <td>1224.58</td>\n",
              "      <td>2011</td>\n",
              "    </tr>\n",
              "  </tbody>\n",
              "</table>\n",
              "<p>5472 rows × 2 columns</p>\n",
              "</div>"
            ],
            "text/plain": [
              "              Price  Year\n",
              "Date                     \n",
              "1990-02-01   328.79  1990\n",
              "1990-02-02   330.92  1990\n",
              "1990-02-05   331.85  1990\n",
              "1990-02-06   329.66  1990\n",
              "1990-02-07   333.75  1990\n",
              "...             ...   ...\n",
              "2011-10-10  1194.89  2011\n",
              "2011-10-11  1195.54  2011\n",
              "2011-10-12  1207.25  2011\n",
              "2011-10-13  1203.66  2011\n",
              "2011-10-14  1224.58  2011\n",
              "\n",
              "[5472 rows x 2 columns]"
            ]
          },
          "metadata": {
            "tags": []
          },
          "execution_count": 105
        }
      ]
    },
    {
      "cell_type": "code",
      "metadata": {
        "id": "hwQalDwWyEg_",
        "outputId": "b0bb2131-cba1-4b0e-9825-65f5e75cb531",
        "colab": {
          "base_uri": "https://localhost:8080/",
          "height": 183
        }
      },
      "source": [
        "df_with_index.index"
      ],
      "execution_count": 106,
      "outputs": [
        {
          "output_type": "execute_result",
          "data": {
            "text/plain": [
              "DatetimeIndex(['1990-02-01', '1990-02-02', '1990-02-05', '1990-02-06',\n",
              "               '1990-02-07', '1990-02-08', '1990-02-09', '1990-02-12',\n",
              "               '1990-02-13', '1990-02-14',\n",
              "               ...\n",
              "               '2011-10-03', '2011-10-04', '2011-10-05', '2011-10-06',\n",
              "               '2011-10-07', '2011-10-10', '2011-10-11', '2011-10-12',\n",
              "               '2011-10-13', '2011-10-14'],\n",
              "              dtype='datetime64[ns]', name='Date', length=5472, freq=None)"
            ]
          },
          "metadata": {
            "tags": []
          },
          "execution_count": 106
        }
      ]
    },
    {
      "cell_type": "code",
      "metadata": {
        "id": "K28ivMCeyQmo",
        "outputId": "beabada4-7740-4938-f02e-0bccc605e8c2",
        "colab": {
          "base_uri": "https://localhost:8080/",
          "height": 79
        }
      },
      "source": [
        "# 특정 날짜 선택\n",
        "df_with_index.loc['2011-01-03']"
      ],
      "execution_count": 107,
      "outputs": [
        {
          "output_type": "execute_result",
          "data": {
            "text/plain": [
              "Price    1271.87\n",
              "Year     2011.00\n",
              "Name: 2011-01-03 00:00:00, dtype: float64"
            ]
          },
          "metadata": {
            "tags": []
          },
          "execution_count": 107
        }
      ]
    },
    {
      "cell_type": "code",
      "metadata": {
        "id": "U6PBctmCykJ7",
        "outputId": "eec82238-eb13-4eb2-a565-b3d6d16125a1",
        "colab": {
          "base_uri": "https://localhost:8080/",
          "height": 274
        }
      },
      "source": [
        "# 날짜 (형식 문자열)를 사용한 슬라이싱\n",
        "df_with_index.loc['2011-01-03':'2011-01-10']"
      ],
      "execution_count": 108,
      "outputs": [
        {
          "output_type": "execute_result",
          "data": {
            "text/html": [
              "<div>\n",
              "<style scoped>\n",
              "    .dataframe tbody tr th:only-of-type {\n",
              "        vertical-align: middle;\n",
              "    }\n",
              "\n",
              "    .dataframe tbody tr th {\n",
              "        vertical-align: top;\n",
              "    }\n",
              "\n",
              "    .dataframe thead th {\n",
              "        text-align: right;\n",
              "    }\n",
              "</style>\n",
              "<table border=\"1\" class=\"dataframe\">\n",
              "  <thead>\n",
              "    <tr style=\"text-align: right;\">\n",
              "      <th></th>\n",
              "      <th>Price</th>\n",
              "      <th>Year</th>\n",
              "    </tr>\n",
              "    <tr>\n",
              "      <th>Date</th>\n",
              "      <th></th>\n",
              "      <th></th>\n",
              "    </tr>\n",
              "  </thead>\n",
              "  <tbody>\n",
              "    <tr>\n",
              "      <th>2011-01-03</th>\n",
              "      <td>1271.87</td>\n",
              "      <td>2011</td>\n",
              "    </tr>\n",
              "    <tr>\n",
              "      <th>2011-01-04</th>\n",
              "      <td>1270.20</td>\n",
              "      <td>2011</td>\n",
              "    </tr>\n",
              "    <tr>\n",
              "      <th>2011-01-05</th>\n",
              "      <td>1276.56</td>\n",
              "      <td>2011</td>\n",
              "    </tr>\n",
              "    <tr>\n",
              "      <th>2011-01-06</th>\n",
              "      <td>1273.85</td>\n",
              "      <td>2011</td>\n",
              "    </tr>\n",
              "    <tr>\n",
              "      <th>2011-01-07</th>\n",
              "      <td>1271.50</td>\n",
              "      <td>2011</td>\n",
              "    </tr>\n",
              "    <tr>\n",
              "      <th>2011-01-10</th>\n",
              "      <td>1269.75</td>\n",
              "      <td>2011</td>\n",
              "    </tr>\n",
              "  </tbody>\n",
              "</table>\n",
              "</div>"
            ],
            "text/plain": [
              "              Price  Year\n",
              "Date                     \n",
              "2011-01-03  1271.87  2011\n",
              "2011-01-04  1270.20  2011\n",
              "2011-01-05  1276.56  2011\n",
              "2011-01-06  1273.85  2011\n",
              "2011-01-07  1271.50  2011\n",
              "2011-01-10  1269.75  2011"
            ]
          },
          "metadata": {
            "tags": []
          },
          "execution_count": 108
        }
      ]
    },
    {
      "cell_type": "code",
      "metadata": {
        "id": "hZa5_-JbzI6S",
        "outputId": "8f960048-7af0-42dc-d66a-5a97218e4f62",
        "colab": {
          "base_uri": "https://localhost:8080/",
          "height": 722
        }
      },
      "source": [
        "# DateTimeIndex를 사용한 특정 월 선택\n",
        "df_with_index.loc['2011-01']"
      ],
      "execution_count": 109,
      "outputs": [
        {
          "output_type": "execute_result",
          "data": {
            "text/html": [
              "<div>\n",
              "<style scoped>\n",
              "    .dataframe tbody tr th:only-of-type {\n",
              "        vertical-align: middle;\n",
              "    }\n",
              "\n",
              "    .dataframe tbody tr th {\n",
              "        vertical-align: top;\n",
              "    }\n",
              "\n",
              "    .dataframe thead th {\n",
              "        text-align: right;\n",
              "    }\n",
              "</style>\n",
              "<table border=\"1\" class=\"dataframe\">\n",
              "  <thead>\n",
              "    <tr style=\"text-align: right;\">\n",
              "      <th></th>\n",
              "      <th>Price</th>\n",
              "      <th>Year</th>\n",
              "    </tr>\n",
              "    <tr>\n",
              "      <th>Date</th>\n",
              "      <th></th>\n",
              "      <th></th>\n",
              "    </tr>\n",
              "  </thead>\n",
              "  <tbody>\n",
              "    <tr>\n",
              "      <th>2011-01-03</th>\n",
              "      <td>1271.87</td>\n",
              "      <td>2011</td>\n",
              "    </tr>\n",
              "    <tr>\n",
              "      <th>2011-01-04</th>\n",
              "      <td>1270.20</td>\n",
              "      <td>2011</td>\n",
              "    </tr>\n",
              "    <tr>\n",
              "      <th>2011-01-05</th>\n",
              "      <td>1276.56</td>\n",
              "      <td>2011</td>\n",
              "    </tr>\n",
              "    <tr>\n",
              "      <th>2011-01-06</th>\n",
              "      <td>1273.85</td>\n",
              "      <td>2011</td>\n",
              "    </tr>\n",
              "    <tr>\n",
              "      <th>2011-01-07</th>\n",
              "      <td>1271.50</td>\n",
              "      <td>2011</td>\n",
              "    </tr>\n",
              "    <tr>\n",
              "      <th>2011-01-10</th>\n",
              "      <td>1269.75</td>\n",
              "      <td>2011</td>\n",
              "    </tr>\n",
              "    <tr>\n",
              "      <th>2011-01-11</th>\n",
              "      <td>1274.48</td>\n",
              "      <td>2011</td>\n",
              "    </tr>\n",
              "    <tr>\n",
              "      <th>2011-01-12</th>\n",
              "      <td>1285.96</td>\n",
              "      <td>2011</td>\n",
              "    </tr>\n",
              "    <tr>\n",
              "      <th>2011-01-13</th>\n",
              "      <td>1283.76</td>\n",
              "      <td>2011</td>\n",
              "    </tr>\n",
              "    <tr>\n",
              "      <th>2011-01-14</th>\n",
              "      <td>1293.24</td>\n",
              "      <td>2011</td>\n",
              "    </tr>\n",
              "    <tr>\n",
              "      <th>2011-01-18</th>\n",
              "      <td>1295.02</td>\n",
              "      <td>2011</td>\n",
              "    </tr>\n",
              "    <tr>\n",
              "      <th>2011-01-19</th>\n",
              "      <td>1281.92</td>\n",
              "      <td>2011</td>\n",
              "    </tr>\n",
              "    <tr>\n",
              "      <th>2011-01-20</th>\n",
              "      <td>1280.26</td>\n",
              "      <td>2011</td>\n",
              "    </tr>\n",
              "    <tr>\n",
              "      <th>2011-01-21</th>\n",
              "      <td>1283.35</td>\n",
              "      <td>2011</td>\n",
              "    </tr>\n",
              "    <tr>\n",
              "      <th>2011-01-24</th>\n",
              "      <td>1290.84</td>\n",
              "      <td>2011</td>\n",
              "    </tr>\n",
              "    <tr>\n",
              "      <th>2011-01-25</th>\n",
              "      <td>1291.18</td>\n",
              "      <td>2011</td>\n",
              "    </tr>\n",
              "    <tr>\n",
              "      <th>2011-01-26</th>\n",
              "      <td>1296.63</td>\n",
              "      <td>2011</td>\n",
              "    </tr>\n",
              "    <tr>\n",
              "      <th>2011-01-27</th>\n",
              "      <td>1299.54</td>\n",
              "      <td>2011</td>\n",
              "    </tr>\n",
              "    <tr>\n",
              "      <th>2011-01-28</th>\n",
              "      <td>1276.34</td>\n",
              "      <td>2011</td>\n",
              "    </tr>\n",
              "    <tr>\n",
              "      <th>2011-01-31</th>\n",
              "      <td>1286.12</td>\n",
              "      <td>2011</td>\n",
              "    </tr>\n",
              "  </tbody>\n",
              "</table>\n",
              "</div>"
            ],
            "text/plain": [
              "              Price  Year\n",
              "Date                     \n",
              "2011-01-03  1271.87  2011\n",
              "2011-01-04  1270.20  2011\n",
              "2011-01-05  1276.56  2011\n",
              "2011-01-06  1273.85  2011\n",
              "2011-01-07  1271.50  2011\n",
              "2011-01-10  1269.75  2011\n",
              "2011-01-11  1274.48  2011\n",
              "2011-01-12  1285.96  2011\n",
              "2011-01-13  1283.76  2011\n",
              "2011-01-14  1293.24  2011\n",
              "2011-01-18  1295.02  2011\n",
              "2011-01-19  1281.92  2011\n",
              "2011-01-20  1280.26  2011\n",
              "2011-01-21  1283.35  2011\n",
              "2011-01-24  1290.84  2011\n",
              "2011-01-25  1291.18  2011\n",
              "2011-01-26  1296.63  2011\n",
              "2011-01-27  1299.54  2011\n",
              "2011-01-28  1276.34  2011\n",
              "2011-01-31  1286.12  2011"
            ]
          },
          "metadata": {
            "tags": []
          },
          "execution_count": 109
        }
      ]
    },
    {
      "cell_type": "code",
      "metadata": {
        "id": "1ztT__CkzkiQ",
        "outputId": "967742e5-320b-4a37-c495-08057449615c",
        "colab": {
          "base_uri": "https://localhost:8080/",
          "height": 1000
        }
      },
      "source": [
        "# DateTimeIndex를 사용하면, 날짜/월/년도 slicing이 가능.\n",
        "df_with_index.loc['2011-01':'2011-02']"
      ],
      "execution_count": 110,
      "outputs": [
        {
          "output_type": "execute_result",
          "data": {
            "text/html": [
              "<div>\n",
              "<style scoped>\n",
              "    .dataframe tbody tr th:only-of-type {\n",
              "        vertical-align: middle;\n",
              "    }\n",
              "\n",
              "    .dataframe tbody tr th {\n",
              "        vertical-align: top;\n",
              "    }\n",
              "\n",
              "    .dataframe thead th {\n",
              "        text-align: right;\n",
              "    }\n",
              "</style>\n",
              "<table border=\"1\" class=\"dataframe\">\n",
              "  <thead>\n",
              "    <tr style=\"text-align: right;\">\n",
              "      <th></th>\n",
              "      <th>Price</th>\n",
              "      <th>Year</th>\n",
              "    </tr>\n",
              "    <tr>\n",
              "      <th>Date</th>\n",
              "      <th></th>\n",
              "      <th></th>\n",
              "    </tr>\n",
              "  </thead>\n",
              "  <tbody>\n",
              "    <tr>\n",
              "      <th>2011-01-03</th>\n",
              "      <td>1271.87</td>\n",
              "      <td>2011</td>\n",
              "    </tr>\n",
              "    <tr>\n",
              "      <th>2011-01-04</th>\n",
              "      <td>1270.20</td>\n",
              "      <td>2011</td>\n",
              "    </tr>\n",
              "    <tr>\n",
              "      <th>2011-01-05</th>\n",
              "      <td>1276.56</td>\n",
              "      <td>2011</td>\n",
              "    </tr>\n",
              "    <tr>\n",
              "      <th>2011-01-06</th>\n",
              "      <td>1273.85</td>\n",
              "      <td>2011</td>\n",
              "    </tr>\n",
              "    <tr>\n",
              "      <th>2011-01-07</th>\n",
              "      <td>1271.50</td>\n",
              "      <td>2011</td>\n",
              "    </tr>\n",
              "    <tr>\n",
              "      <th>2011-01-10</th>\n",
              "      <td>1269.75</td>\n",
              "      <td>2011</td>\n",
              "    </tr>\n",
              "    <tr>\n",
              "      <th>2011-01-11</th>\n",
              "      <td>1274.48</td>\n",
              "      <td>2011</td>\n",
              "    </tr>\n",
              "    <tr>\n",
              "      <th>2011-01-12</th>\n",
              "      <td>1285.96</td>\n",
              "      <td>2011</td>\n",
              "    </tr>\n",
              "    <tr>\n",
              "      <th>2011-01-13</th>\n",
              "      <td>1283.76</td>\n",
              "      <td>2011</td>\n",
              "    </tr>\n",
              "    <tr>\n",
              "      <th>2011-01-14</th>\n",
              "      <td>1293.24</td>\n",
              "      <td>2011</td>\n",
              "    </tr>\n",
              "    <tr>\n",
              "      <th>2011-01-18</th>\n",
              "      <td>1295.02</td>\n",
              "      <td>2011</td>\n",
              "    </tr>\n",
              "    <tr>\n",
              "      <th>2011-01-19</th>\n",
              "      <td>1281.92</td>\n",
              "      <td>2011</td>\n",
              "    </tr>\n",
              "    <tr>\n",
              "      <th>2011-01-20</th>\n",
              "      <td>1280.26</td>\n",
              "      <td>2011</td>\n",
              "    </tr>\n",
              "    <tr>\n",
              "      <th>2011-01-21</th>\n",
              "      <td>1283.35</td>\n",
              "      <td>2011</td>\n",
              "    </tr>\n",
              "    <tr>\n",
              "      <th>2011-01-24</th>\n",
              "      <td>1290.84</td>\n",
              "      <td>2011</td>\n",
              "    </tr>\n",
              "    <tr>\n",
              "      <th>2011-01-25</th>\n",
              "      <td>1291.18</td>\n",
              "      <td>2011</td>\n",
              "    </tr>\n",
              "    <tr>\n",
              "      <th>2011-01-26</th>\n",
              "      <td>1296.63</td>\n",
              "      <td>2011</td>\n",
              "    </tr>\n",
              "    <tr>\n",
              "      <th>2011-01-27</th>\n",
              "      <td>1299.54</td>\n",
              "      <td>2011</td>\n",
              "    </tr>\n",
              "    <tr>\n",
              "      <th>2011-01-28</th>\n",
              "      <td>1276.34</td>\n",
              "      <td>2011</td>\n",
              "    </tr>\n",
              "    <tr>\n",
              "      <th>2011-01-31</th>\n",
              "      <td>1286.12</td>\n",
              "      <td>2011</td>\n",
              "    </tr>\n",
              "    <tr>\n",
              "      <th>2011-02-01</th>\n",
              "      <td>1307.59</td>\n",
              "      <td>2011</td>\n",
              "    </tr>\n",
              "    <tr>\n",
              "      <th>2011-02-02</th>\n",
              "      <td>1304.03</td>\n",
              "      <td>2011</td>\n",
              "    </tr>\n",
              "    <tr>\n",
              "      <th>2011-02-03</th>\n",
              "      <td>1307.10</td>\n",
              "      <td>2011</td>\n",
              "    </tr>\n",
              "    <tr>\n",
              "      <th>2011-02-04</th>\n",
              "      <td>1310.87</td>\n",
              "      <td>2011</td>\n",
              "    </tr>\n",
              "    <tr>\n",
              "      <th>2011-02-07</th>\n",
              "      <td>1319.05</td>\n",
              "      <td>2011</td>\n",
              "    </tr>\n",
              "    <tr>\n",
              "      <th>2011-02-08</th>\n",
              "      <td>1324.57</td>\n",
              "      <td>2011</td>\n",
              "    </tr>\n",
              "    <tr>\n",
              "      <th>2011-02-09</th>\n",
              "      <td>1320.88</td>\n",
              "      <td>2011</td>\n",
              "    </tr>\n",
              "    <tr>\n",
              "      <th>2011-02-10</th>\n",
              "      <td>1321.87</td>\n",
              "      <td>2011</td>\n",
              "    </tr>\n",
              "    <tr>\n",
              "      <th>2011-02-11</th>\n",
              "      <td>1329.15</td>\n",
              "      <td>2011</td>\n",
              "    </tr>\n",
              "    <tr>\n",
              "      <th>2011-02-14</th>\n",
              "      <td>1332.32</td>\n",
              "      <td>2011</td>\n",
              "    </tr>\n",
              "    <tr>\n",
              "      <th>2011-02-15</th>\n",
              "      <td>1328.01</td>\n",
              "      <td>2011</td>\n",
              "    </tr>\n",
              "    <tr>\n",
              "      <th>2011-02-16</th>\n",
              "      <td>1336.32</td>\n",
              "      <td>2011</td>\n",
              "    </tr>\n",
              "    <tr>\n",
              "      <th>2011-02-17</th>\n",
              "      <td>1340.43</td>\n",
              "      <td>2011</td>\n",
              "    </tr>\n",
              "    <tr>\n",
              "      <th>2011-02-18</th>\n",
              "      <td>1343.01</td>\n",
              "      <td>2011</td>\n",
              "    </tr>\n",
              "    <tr>\n",
              "      <th>2011-02-22</th>\n",
              "      <td>1315.44</td>\n",
              "      <td>2011</td>\n",
              "    </tr>\n",
              "    <tr>\n",
              "      <th>2011-02-23</th>\n",
              "      <td>1307.40</td>\n",
              "      <td>2011</td>\n",
              "    </tr>\n",
              "    <tr>\n",
              "      <th>2011-02-24</th>\n",
              "      <td>1306.10</td>\n",
              "      <td>2011</td>\n",
              "    </tr>\n",
              "    <tr>\n",
              "      <th>2011-02-25</th>\n",
              "      <td>1319.88</td>\n",
              "      <td>2011</td>\n",
              "    </tr>\n",
              "    <tr>\n",
              "      <th>2011-02-28</th>\n",
              "      <td>1327.22</td>\n",
              "      <td>2011</td>\n",
              "    </tr>\n",
              "  </tbody>\n",
              "</table>\n",
              "</div>"
            ],
            "text/plain": [
              "              Price  Year\n",
              "Date                     \n",
              "2011-01-03  1271.87  2011\n",
              "2011-01-04  1270.20  2011\n",
              "2011-01-05  1276.56  2011\n",
              "2011-01-06  1273.85  2011\n",
              "2011-01-07  1271.50  2011\n",
              "2011-01-10  1269.75  2011\n",
              "2011-01-11  1274.48  2011\n",
              "2011-01-12  1285.96  2011\n",
              "2011-01-13  1283.76  2011\n",
              "2011-01-14  1293.24  2011\n",
              "2011-01-18  1295.02  2011\n",
              "2011-01-19  1281.92  2011\n",
              "2011-01-20  1280.26  2011\n",
              "2011-01-21  1283.35  2011\n",
              "2011-01-24  1290.84  2011\n",
              "2011-01-25  1291.18  2011\n",
              "2011-01-26  1296.63  2011\n",
              "2011-01-27  1299.54  2011\n",
              "2011-01-28  1276.34  2011\n",
              "2011-01-31  1286.12  2011\n",
              "2011-02-01  1307.59  2011\n",
              "2011-02-02  1304.03  2011\n",
              "2011-02-03  1307.10  2011\n",
              "2011-02-04  1310.87  2011\n",
              "2011-02-07  1319.05  2011\n",
              "2011-02-08  1324.57  2011\n",
              "2011-02-09  1320.88  2011\n",
              "2011-02-10  1321.87  2011\n",
              "2011-02-11  1329.15  2011\n",
              "2011-02-14  1332.32  2011\n",
              "2011-02-15  1328.01  2011\n",
              "2011-02-16  1336.32  2011\n",
              "2011-02-17  1340.43  2011\n",
              "2011-02-18  1343.01  2011\n",
              "2011-02-22  1315.44  2011\n",
              "2011-02-23  1307.40  2011\n",
              "2011-02-24  1306.10  2011\n",
              "2011-02-25  1319.88  2011\n",
              "2011-02-28  1327.22  2011"
            ]
          },
          "metadata": {
            "tags": []
          },
          "execution_count": 110
        }
      ]
    },
    {
      "cell_type": "code",
      "metadata": {
        "id": "16qvH2Mf0ROB",
        "outputId": "88ddf25d-f3cf-4fb0-f67c-bf8e76118022",
        "colab": {
          "base_uri": "https://localhost:8080/",
          "height": 786
        }
      },
      "source": [
        "# DateTimeIndex가 있는 경우 groupby\n",
        "# df_with_index.index.year\n",
        "df_with_index.groupby(df_with_index.index.year)[['Price']].mean()"
      ],
      "execution_count": 115,
      "outputs": [
        {
          "output_type": "execute_result",
          "data": {
            "text/html": [
              "<div>\n",
              "<style scoped>\n",
              "    .dataframe tbody tr th:only-of-type {\n",
              "        vertical-align: middle;\n",
              "    }\n",
              "\n",
              "    .dataframe tbody tr th {\n",
              "        vertical-align: top;\n",
              "    }\n",
              "\n",
              "    .dataframe thead th {\n",
              "        text-align: right;\n",
              "    }\n",
              "</style>\n",
              "<table border=\"1\" class=\"dataframe\">\n",
              "  <thead>\n",
              "    <tr style=\"text-align: right;\">\n",
              "      <th></th>\n",
              "      <th>Price</th>\n",
              "    </tr>\n",
              "    <tr>\n",
              "      <th>Date</th>\n",
              "      <th></th>\n",
              "    </tr>\n",
              "  </thead>\n",
              "  <tbody>\n",
              "    <tr>\n",
              "      <th>1990</th>\n",
              "      <td>334.123506</td>\n",
              "    </tr>\n",
              "    <tr>\n",
              "      <th>1991</th>\n",
              "      <td>376.186324</td>\n",
              "    </tr>\n",
              "    <tr>\n",
              "      <th>1992</th>\n",
              "      <td>415.747008</td>\n",
              "    </tr>\n",
              "    <tr>\n",
              "      <th>1993</th>\n",
              "      <td>451.614822</td>\n",
              "    </tr>\n",
              "    <tr>\n",
              "      <th>1994</th>\n",
              "      <td>460.416508</td>\n",
              "    </tr>\n",
              "    <tr>\n",
              "      <th>1995</th>\n",
              "      <td>541.719087</td>\n",
              "    </tr>\n",
              "    <tr>\n",
              "      <th>1996</th>\n",
              "      <td>670.494843</td>\n",
              "    </tr>\n",
              "    <tr>\n",
              "      <th>1997</th>\n",
              "      <td>873.427787</td>\n",
              "    </tr>\n",
              "    <tr>\n",
              "      <th>1998</th>\n",
              "      <td>1085.503254</td>\n",
              "    </tr>\n",
              "    <tr>\n",
              "      <th>1999</th>\n",
              "      <td>1327.329563</td>\n",
              "    </tr>\n",
              "    <tr>\n",
              "      <th>2000</th>\n",
              "      <td>1427.221071</td>\n",
              "    </tr>\n",
              "    <tr>\n",
              "      <th>2001</th>\n",
              "      <td>1194.178992</td>\n",
              "    </tr>\n",
              "    <tr>\n",
              "      <th>2002</th>\n",
              "      <td>993.934802</td>\n",
              "    </tr>\n",
              "    <tr>\n",
              "      <th>2003</th>\n",
              "      <td>965.227540</td>\n",
              "    </tr>\n",
              "    <tr>\n",
              "      <th>2004</th>\n",
              "      <td>1130.649444</td>\n",
              "    </tr>\n",
              "    <tr>\n",
              "      <th>2005</th>\n",
              "      <td>1207.229444</td>\n",
              "    </tr>\n",
              "    <tr>\n",
              "      <th>2006</th>\n",
              "      <td>1310.461633</td>\n",
              "    </tr>\n",
              "    <tr>\n",
              "      <th>2007</th>\n",
              "      <td>1477.184343</td>\n",
              "    </tr>\n",
              "    <tr>\n",
              "      <th>2008</th>\n",
              "      <td>1220.042055</td>\n",
              "    </tr>\n",
              "    <tr>\n",
              "      <th>2009</th>\n",
              "      <td>948.046389</td>\n",
              "    </tr>\n",
              "    <tr>\n",
              "      <th>2010</th>\n",
              "      <td>1139.965516</td>\n",
              "    </tr>\n",
              "    <tr>\n",
              "      <th>2011</th>\n",
              "      <td>1276.093015</td>\n",
              "    </tr>\n",
              "  </tbody>\n",
              "</table>\n",
              "</div>"
            ],
            "text/plain": [
              "            Price\n",
              "Date             \n",
              "1990   334.123506\n",
              "1991   376.186324\n",
              "1992   415.747008\n",
              "1993   451.614822\n",
              "1994   460.416508\n",
              "1995   541.719087\n",
              "1996   670.494843\n",
              "1997   873.427787\n",
              "1998  1085.503254\n",
              "1999  1327.329563\n",
              "2000  1427.221071\n",
              "2001  1194.178992\n",
              "2002   993.934802\n",
              "2003   965.227540\n",
              "2004  1130.649444\n",
              "2005  1207.229444\n",
              "2006  1310.461633\n",
              "2007  1477.184343\n",
              "2008  1220.042055\n",
              "2009   948.046389\n",
              "2010  1139.965516\n",
              "2011  1276.093015"
            ]
          },
          "metadata": {
            "tags": []
          },
          "execution_count": 115
        }
      ]
    },
    {
      "cell_type": "markdown",
      "metadata": {
        "id": "hRtOTxXj1E8g"
      },
      "source": [
        "CSV 파일의 날짜 정보가 있는 경우\n",
        "* pd.read_csv(): 데이터 프레임 생성. parse_dates 파라미터에 컬럼(들)의 리스트를 설정. index_col 파라미터 설정.\n",
        "* pd.to_datetime(): 컬럼의 데이터 타입을 datetime 타입으로 변환.\n",
        "* pd.DataFrame.set_index(): datetime 타입의 컬럼을 인덱스(DateTimeIndex)로 설정."
      ]
    },
    {
      "cell_type": "code",
      "metadata": {
        "id": "0FPlg_f96Iuw"
      },
      "source": [
        "# spx.csv 파일을 읽어서 데이터 프레임을 생성.\n",
        "df2 = pd.read_csv(file_path, header=0, names=['Date', 'Price'],\n",
        "                  parse_dates=['Date'],\n",
        "                  index_col='Date')"
      ],
      "execution_count": 121,
      "outputs": []
    },
    {
      "cell_type": "code",
      "metadata": {
        "id": "4nqSDhOl6kzS",
        "outputId": "aa7c9b65-e2d8-4508-ea10-f6786758be96",
        "colab": {
          "base_uri": "https://localhost:8080/",
          "height": 58
        }
      },
      "source": [
        "df2.dtypes"
      ],
      "execution_count": 122,
      "outputs": [
        {
          "output_type": "execute_result",
          "data": {
            "text/plain": [
              "Price    float64\n",
              "dtype: object"
            ]
          },
          "metadata": {
            "tags": []
          },
          "execution_count": 122
        }
      ]
    },
    {
      "cell_type": "code",
      "metadata": {
        "id": "QUZje-fd66RN",
        "outputId": "ff3e1fc3-62fd-487b-88c7-8568d16a97fd",
        "colab": {
          "base_uri": "https://localhost:8080/",
          "height": 183
        }
      },
      "source": [
        "df2.index"
      ],
      "execution_count": 123,
      "outputs": [
        {
          "output_type": "execute_result",
          "data": {
            "text/plain": [
              "DatetimeIndex(['1990-02-01', '1990-02-02', '1990-02-05', '1990-02-06',\n",
              "               '1990-02-07', '1990-02-08', '1990-02-09', '1990-02-12',\n",
              "               '1990-02-13', '1990-02-14',\n",
              "               ...\n",
              "               '2011-10-03', '2011-10-04', '2011-10-05', '2011-10-06',\n",
              "               '2011-10-07', '2011-10-10', '2011-10-11', '2011-10-12',\n",
              "               '2011-10-13', '2011-10-14'],\n",
              "              dtype='datetime64[ns]', name='Date', length=5472, freq=None)"
            ]
          },
          "metadata": {
            "tags": []
          },
          "execution_count": 123
        }
      ]
    },
    {
      "cell_type": "code",
      "metadata": {
        "id": "I96s-yOb7Azk",
        "outputId": "c317fec5-1d69-42b2-f3d9-4deacdc8da7e",
        "colab": {
          "base_uri": "https://localhost:8080/",
          "height": 242
        }
      },
      "source": [
        "df2.head()"
      ],
      "execution_count": 124,
      "outputs": [
        {
          "output_type": "execute_result",
          "data": {
            "text/html": [
              "<div>\n",
              "<style scoped>\n",
              "    .dataframe tbody tr th:only-of-type {\n",
              "        vertical-align: middle;\n",
              "    }\n",
              "\n",
              "    .dataframe tbody tr th {\n",
              "        vertical-align: top;\n",
              "    }\n",
              "\n",
              "    .dataframe thead th {\n",
              "        text-align: right;\n",
              "    }\n",
              "</style>\n",
              "<table border=\"1\" class=\"dataframe\">\n",
              "  <thead>\n",
              "    <tr style=\"text-align: right;\">\n",
              "      <th></th>\n",
              "      <th>Price</th>\n",
              "    </tr>\n",
              "    <tr>\n",
              "      <th>Date</th>\n",
              "      <th></th>\n",
              "    </tr>\n",
              "  </thead>\n",
              "  <tbody>\n",
              "    <tr>\n",
              "      <th>1990-02-01</th>\n",
              "      <td>328.79</td>\n",
              "    </tr>\n",
              "    <tr>\n",
              "      <th>1990-02-02</th>\n",
              "      <td>330.92</td>\n",
              "    </tr>\n",
              "    <tr>\n",
              "      <th>1990-02-05</th>\n",
              "      <td>331.85</td>\n",
              "    </tr>\n",
              "    <tr>\n",
              "      <th>1990-02-06</th>\n",
              "      <td>329.66</td>\n",
              "    </tr>\n",
              "    <tr>\n",
              "      <th>1990-02-07</th>\n",
              "      <td>333.75</td>\n",
              "    </tr>\n",
              "  </tbody>\n",
              "</table>\n",
              "</div>"
            ],
            "text/plain": [
              "             Price\n",
              "Date              \n",
              "1990-02-01  328.79\n",
              "1990-02-02  330.92\n",
              "1990-02-05  331.85\n",
              "1990-02-06  329.66\n",
              "1990-02-07  333.75"
            ]
          },
          "metadata": {
            "tags": []
          },
          "execution_count": 124
        }
      ]
    },
    {
      "cell_type": "code",
      "metadata": {
        "id": "kXOypmm68GbH",
        "outputId": "331b735f-04ed-4251-9c61-d417ab29f2d7",
        "colab": {
          "base_uri": "https://localhost:8080/",
          "height": 786
        }
      },
      "source": [
        "# 연도별 Price 평균\n",
        "df2.groupby(df2.index.year)[['Price']].mean()"
      ],
      "execution_count": 128,
      "outputs": [
        {
          "output_type": "execute_result",
          "data": {
            "text/html": [
              "<div>\n",
              "<style scoped>\n",
              "    .dataframe tbody tr th:only-of-type {\n",
              "        vertical-align: middle;\n",
              "    }\n",
              "\n",
              "    .dataframe tbody tr th {\n",
              "        vertical-align: top;\n",
              "    }\n",
              "\n",
              "    .dataframe thead th {\n",
              "        text-align: right;\n",
              "    }\n",
              "</style>\n",
              "<table border=\"1\" class=\"dataframe\">\n",
              "  <thead>\n",
              "    <tr style=\"text-align: right;\">\n",
              "      <th></th>\n",
              "      <th>Price</th>\n",
              "    </tr>\n",
              "    <tr>\n",
              "      <th>Date</th>\n",
              "      <th></th>\n",
              "    </tr>\n",
              "  </thead>\n",
              "  <tbody>\n",
              "    <tr>\n",
              "      <th>1990</th>\n",
              "      <td>334.123506</td>\n",
              "    </tr>\n",
              "    <tr>\n",
              "      <th>1991</th>\n",
              "      <td>376.186324</td>\n",
              "    </tr>\n",
              "    <tr>\n",
              "      <th>1992</th>\n",
              "      <td>415.747008</td>\n",
              "    </tr>\n",
              "    <tr>\n",
              "      <th>1993</th>\n",
              "      <td>451.614822</td>\n",
              "    </tr>\n",
              "    <tr>\n",
              "      <th>1994</th>\n",
              "      <td>460.416508</td>\n",
              "    </tr>\n",
              "    <tr>\n",
              "      <th>1995</th>\n",
              "      <td>541.719087</td>\n",
              "    </tr>\n",
              "    <tr>\n",
              "      <th>1996</th>\n",
              "      <td>670.494843</td>\n",
              "    </tr>\n",
              "    <tr>\n",
              "      <th>1997</th>\n",
              "      <td>873.427787</td>\n",
              "    </tr>\n",
              "    <tr>\n",
              "      <th>1998</th>\n",
              "      <td>1085.503254</td>\n",
              "    </tr>\n",
              "    <tr>\n",
              "      <th>1999</th>\n",
              "      <td>1327.329563</td>\n",
              "    </tr>\n",
              "    <tr>\n",
              "      <th>2000</th>\n",
              "      <td>1427.221071</td>\n",
              "    </tr>\n",
              "    <tr>\n",
              "      <th>2001</th>\n",
              "      <td>1194.178992</td>\n",
              "    </tr>\n",
              "    <tr>\n",
              "      <th>2002</th>\n",
              "      <td>993.934802</td>\n",
              "    </tr>\n",
              "    <tr>\n",
              "      <th>2003</th>\n",
              "      <td>965.227540</td>\n",
              "    </tr>\n",
              "    <tr>\n",
              "      <th>2004</th>\n",
              "      <td>1130.649444</td>\n",
              "    </tr>\n",
              "    <tr>\n",
              "      <th>2005</th>\n",
              "      <td>1207.229444</td>\n",
              "    </tr>\n",
              "    <tr>\n",
              "      <th>2006</th>\n",
              "      <td>1310.461633</td>\n",
              "    </tr>\n",
              "    <tr>\n",
              "      <th>2007</th>\n",
              "      <td>1477.184343</td>\n",
              "    </tr>\n",
              "    <tr>\n",
              "      <th>2008</th>\n",
              "      <td>1220.042055</td>\n",
              "    </tr>\n",
              "    <tr>\n",
              "      <th>2009</th>\n",
              "      <td>948.046389</td>\n",
              "    </tr>\n",
              "    <tr>\n",
              "      <th>2010</th>\n",
              "      <td>1139.965516</td>\n",
              "    </tr>\n",
              "    <tr>\n",
              "      <th>2011</th>\n",
              "      <td>1276.093015</td>\n",
              "    </tr>\n",
              "  </tbody>\n",
              "</table>\n",
              "</div>"
            ],
            "text/plain": [
              "            Price\n",
              "Date             \n",
              "1990   334.123506\n",
              "1991   376.186324\n",
              "1992   415.747008\n",
              "1993   451.614822\n",
              "1994   460.416508\n",
              "1995   541.719087\n",
              "1996   670.494843\n",
              "1997   873.427787\n",
              "1998  1085.503254\n",
              "1999  1327.329563\n",
              "2000  1427.221071\n",
              "2001  1194.178992\n",
              "2002   993.934802\n",
              "2003   965.227540\n",
              "2004  1130.649444\n",
              "2005  1207.229444\n",
              "2006  1310.461633\n",
              "2007  1477.184343\n",
              "2008  1220.042055\n",
              "2009   948.046389\n",
              "2010  1139.965516\n",
              "2011  1276.093015"
            ]
          },
          "metadata": {
            "tags": []
          },
          "execution_count": 128
        }
      ]
    },
    {
      "cell_type": "code",
      "metadata": {
        "id": "KkMy-AuW8h51",
        "outputId": "6d2de642-c3ae-41cf-a11e-b45b744182d4",
        "colab": {
          "base_uri": "https://localhost:8080/",
          "height": 465
        }
      },
      "source": [
        "# 연도별, 월별 Price 평균\n",
        "df2.groupby([df2.index.year, df2.index.month])[['Price']].mean()"
      ],
      "execution_count": 130,
      "outputs": [
        {
          "output_type": "execute_result",
          "data": {
            "text/html": [
              "<div>\n",
              "<style scoped>\n",
              "    .dataframe tbody tr th:only-of-type {\n",
              "        vertical-align: middle;\n",
              "    }\n",
              "\n",
              "    .dataframe tbody tr th {\n",
              "        vertical-align: top;\n",
              "    }\n",
              "\n",
              "    .dataframe thead th {\n",
              "        text-align: right;\n",
              "    }\n",
              "</style>\n",
              "<table border=\"1\" class=\"dataframe\">\n",
              "  <thead>\n",
              "    <tr style=\"text-align: right;\">\n",
              "      <th></th>\n",
              "      <th></th>\n",
              "      <th>Price</th>\n",
              "    </tr>\n",
              "    <tr>\n",
              "      <th>Date</th>\n",
              "      <th>Date</th>\n",
              "      <th></th>\n",
              "    </tr>\n",
              "  </thead>\n",
              "  <tbody>\n",
              "    <tr>\n",
              "      <th rowspan=\"5\" valign=\"top\">1990</th>\n",
              "      <th>2</th>\n",
              "      <td>330.452632</td>\n",
              "    </tr>\n",
              "    <tr>\n",
              "      <th>3</th>\n",
              "      <td>338.465000</td>\n",
              "    </tr>\n",
              "    <tr>\n",
              "      <th>4</th>\n",
              "      <td>338.178000</td>\n",
              "    </tr>\n",
              "    <tr>\n",
              "      <th>5</th>\n",
              "      <td>350.250000</td>\n",
              "    </tr>\n",
              "    <tr>\n",
              "      <th>6</th>\n",
              "      <td>360.386667</td>\n",
              "    </tr>\n",
              "    <tr>\n",
              "      <th>...</th>\n",
              "      <th>...</th>\n",
              "      <td>...</td>\n",
              "    </tr>\n",
              "    <tr>\n",
              "      <th rowspan=\"5\" valign=\"top\">2011</th>\n",
              "      <th>6</th>\n",
              "      <td>1287.288636</td>\n",
              "    </tr>\n",
              "    <tr>\n",
              "      <th>7</th>\n",
              "      <td>1325.184500</td>\n",
              "    </tr>\n",
              "    <tr>\n",
              "      <th>8</th>\n",
              "      <td>1185.305652</td>\n",
              "    </tr>\n",
              "    <tr>\n",
              "      <th>9</th>\n",
              "      <td>1173.879048</td>\n",
              "    </tr>\n",
              "    <tr>\n",
              "      <th>10</th>\n",
              "      <td>1171.356000</td>\n",
              "    </tr>\n",
              "  </tbody>\n",
              "</table>\n",
              "<p>261 rows × 1 columns</p>\n",
              "</div>"
            ],
            "text/plain": [
              "                 Price\n",
              "Date Date             \n",
              "1990 2      330.452632\n",
              "     3      338.465000\n",
              "     4      338.178000\n",
              "     5      350.250000\n",
              "     6      360.386667\n",
              "...                ...\n",
              "2011 6     1287.288636\n",
              "     7     1325.184500\n",
              "     8     1185.305652\n",
              "     9     1173.879048\n",
              "     10    1171.356000\n",
              "\n",
              "[261 rows x 1 columns]"
            ]
          },
          "metadata": {
            "tags": []
          },
          "execution_count": 130
        }
      ]
    },
    {
      "cell_type": "code",
      "metadata": {
        "id": "yyQP78y59RAe",
        "outputId": "db4d6384-93d3-4013-9945-16f23f5670eb",
        "colab": {
          "base_uri": "https://localhost:8080/",
          "height": 786
        }
      },
      "source": [
        "df2.resample('Y', kind='period')[['Price']].mean()"
      ],
      "execution_count": 134,
      "outputs": [
        {
          "output_type": "execute_result",
          "data": {
            "text/html": [
              "<div>\n",
              "<style scoped>\n",
              "    .dataframe tbody tr th:only-of-type {\n",
              "        vertical-align: middle;\n",
              "    }\n",
              "\n",
              "    .dataframe tbody tr th {\n",
              "        vertical-align: top;\n",
              "    }\n",
              "\n",
              "    .dataframe thead th {\n",
              "        text-align: right;\n",
              "    }\n",
              "</style>\n",
              "<table border=\"1\" class=\"dataframe\">\n",
              "  <thead>\n",
              "    <tr style=\"text-align: right;\">\n",
              "      <th></th>\n",
              "      <th>Price</th>\n",
              "    </tr>\n",
              "    <tr>\n",
              "      <th>Date</th>\n",
              "      <th></th>\n",
              "    </tr>\n",
              "  </thead>\n",
              "  <tbody>\n",
              "    <tr>\n",
              "      <th>1990</th>\n",
              "      <td>334.123506</td>\n",
              "    </tr>\n",
              "    <tr>\n",
              "      <th>1991</th>\n",
              "      <td>376.186324</td>\n",
              "    </tr>\n",
              "    <tr>\n",
              "      <th>1992</th>\n",
              "      <td>415.747008</td>\n",
              "    </tr>\n",
              "    <tr>\n",
              "      <th>1993</th>\n",
              "      <td>451.614822</td>\n",
              "    </tr>\n",
              "    <tr>\n",
              "      <th>1994</th>\n",
              "      <td>460.416508</td>\n",
              "    </tr>\n",
              "    <tr>\n",
              "      <th>1995</th>\n",
              "      <td>541.719087</td>\n",
              "    </tr>\n",
              "    <tr>\n",
              "      <th>1996</th>\n",
              "      <td>670.494843</td>\n",
              "    </tr>\n",
              "    <tr>\n",
              "      <th>1997</th>\n",
              "      <td>873.427787</td>\n",
              "    </tr>\n",
              "    <tr>\n",
              "      <th>1998</th>\n",
              "      <td>1085.503254</td>\n",
              "    </tr>\n",
              "    <tr>\n",
              "      <th>1999</th>\n",
              "      <td>1327.329563</td>\n",
              "    </tr>\n",
              "    <tr>\n",
              "      <th>2000</th>\n",
              "      <td>1427.221071</td>\n",
              "    </tr>\n",
              "    <tr>\n",
              "      <th>2001</th>\n",
              "      <td>1194.178992</td>\n",
              "    </tr>\n",
              "    <tr>\n",
              "      <th>2002</th>\n",
              "      <td>993.934802</td>\n",
              "    </tr>\n",
              "    <tr>\n",
              "      <th>2003</th>\n",
              "      <td>965.227540</td>\n",
              "    </tr>\n",
              "    <tr>\n",
              "      <th>2004</th>\n",
              "      <td>1130.649444</td>\n",
              "    </tr>\n",
              "    <tr>\n",
              "      <th>2005</th>\n",
              "      <td>1207.229444</td>\n",
              "    </tr>\n",
              "    <tr>\n",
              "      <th>2006</th>\n",
              "      <td>1310.461633</td>\n",
              "    </tr>\n",
              "    <tr>\n",
              "      <th>2007</th>\n",
              "      <td>1477.184343</td>\n",
              "    </tr>\n",
              "    <tr>\n",
              "      <th>2008</th>\n",
              "      <td>1220.042055</td>\n",
              "    </tr>\n",
              "    <tr>\n",
              "      <th>2009</th>\n",
              "      <td>948.046389</td>\n",
              "    </tr>\n",
              "    <tr>\n",
              "      <th>2010</th>\n",
              "      <td>1139.965516</td>\n",
              "    </tr>\n",
              "    <tr>\n",
              "      <th>2011</th>\n",
              "      <td>1276.093015</td>\n",
              "    </tr>\n",
              "  </tbody>\n",
              "</table>\n",
              "</div>"
            ],
            "text/plain": [
              "            Price\n",
              "Date             \n",
              "1990   334.123506\n",
              "1991   376.186324\n",
              "1992   415.747008\n",
              "1993   451.614822\n",
              "1994   460.416508\n",
              "1995   541.719087\n",
              "1996   670.494843\n",
              "1997   873.427787\n",
              "1998  1085.503254\n",
              "1999  1327.329563\n",
              "2000  1427.221071\n",
              "2001  1194.178992\n",
              "2002   993.934802\n",
              "2003   965.227540\n",
              "2004  1130.649444\n",
              "2005  1207.229444\n",
              "2006  1310.461633\n",
              "2007  1477.184343\n",
              "2008  1220.042055\n",
              "2009   948.046389\n",
              "2010  1139.965516\n",
              "2011  1276.093015"
            ]
          },
          "metadata": {
            "tags": []
          },
          "execution_count": 134
        }
      ]
    },
    {
      "cell_type": "code",
      "metadata": {
        "id": "UNgO9jKZ-Dgc",
        "outputId": "c4b0b0a6-2c30-4fd1-9926-c7a4980d4536",
        "colab": {
          "base_uri": "https://localhost:8080/",
          "height": 465
        }
      },
      "source": [
        "df2.resample('M', kind='period')[['Price']].mean()"
      ],
      "execution_count": 136,
      "outputs": [
        {
          "output_type": "execute_result",
          "data": {
            "text/html": [
              "<div>\n",
              "<style scoped>\n",
              "    .dataframe tbody tr th:only-of-type {\n",
              "        vertical-align: middle;\n",
              "    }\n",
              "\n",
              "    .dataframe tbody tr th {\n",
              "        vertical-align: top;\n",
              "    }\n",
              "\n",
              "    .dataframe thead th {\n",
              "        text-align: right;\n",
              "    }\n",
              "</style>\n",
              "<table border=\"1\" class=\"dataframe\">\n",
              "  <thead>\n",
              "    <tr style=\"text-align: right;\">\n",
              "      <th></th>\n",
              "      <th>Price</th>\n",
              "    </tr>\n",
              "    <tr>\n",
              "      <th>Date</th>\n",
              "      <th></th>\n",
              "    </tr>\n",
              "  </thead>\n",
              "  <tbody>\n",
              "    <tr>\n",
              "      <th>1990-02</th>\n",
              "      <td>330.452632</td>\n",
              "    </tr>\n",
              "    <tr>\n",
              "      <th>1990-03</th>\n",
              "      <td>338.465000</td>\n",
              "    </tr>\n",
              "    <tr>\n",
              "      <th>1990-04</th>\n",
              "      <td>338.178000</td>\n",
              "    </tr>\n",
              "    <tr>\n",
              "      <th>1990-05</th>\n",
              "      <td>350.250000</td>\n",
              "    </tr>\n",
              "    <tr>\n",
              "      <th>1990-06</th>\n",
              "      <td>360.386667</td>\n",
              "    </tr>\n",
              "    <tr>\n",
              "      <th>...</th>\n",
              "      <td>...</td>\n",
              "    </tr>\n",
              "    <tr>\n",
              "      <th>2011-06</th>\n",
              "      <td>1287.288636</td>\n",
              "    </tr>\n",
              "    <tr>\n",
              "      <th>2011-07</th>\n",
              "      <td>1325.184500</td>\n",
              "    </tr>\n",
              "    <tr>\n",
              "      <th>2011-08</th>\n",
              "      <td>1185.305652</td>\n",
              "    </tr>\n",
              "    <tr>\n",
              "      <th>2011-09</th>\n",
              "      <td>1173.879048</td>\n",
              "    </tr>\n",
              "    <tr>\n",
              "      <th>2011-10</th>\n",
              "      <td>1171.356000</td>\n",
              "    </tr>\n",
              "  </tbody>\n",
              "</table>\n",
              "<p>261 rows × 1 columns</p>\n",
              "</div>"
            ],
            "text/plain": [
              "               Price\n",
              "Date                \n",
              "1990-02   330.452632\n",
              "1990-03   338.465000\n",
              "1990-04   338.178000\n",
              "1990-05   350.250000\n",
              "1990-06   360.386667\n",
              "...              ...\n",
              "2011-06  1287.288636\n",
              "2011-07  1325.184500\n",
              "2011-08  1185.305652\n",
              "2011-09  1173.879048\n",
              "2011-10  1171.356000\n",
              "\n",
              "[261 rows x 1 columns]"
            ]
          },
          "metadata": {
            "tags": []
          },
          "execution_count": 136
        }
      ]
    },
    {
      "cell_type": "code",
      "metadata": {
        "id": "hD5G6GNo-qGk",
        "outputId": "a1cb9ab4-f445-4968-e263-a7c134fc7e19",
        "colab": {
          "base_uri": "https://localhost:8080/",
          "height": 465
        }
      },
      "source": [
        "df2.resample('Q', kind='period')[['Price']].mean()"
      ],
      "execution_count": 137,
      "outputs": [
        {
          "output_type": "execute_result",
          "data": {
            "text/html": [
              "<div>\n",
              "<style scoped>\n",
              "    .dataframe tbody tr th:only-of-type {\n",
              "        vertical-align: middle;\n",
              "    }\n",
              "\n",
              "    .dataframe tbody tr th {\n",
              "        vertical-align: top;\n",
              "    }\n",
              "\n",
              "    .dataframe thead th {\n",
              "        text-align: right;\n",
              "    }\n",
              "</style>\n",
              "<table border=\"1\" class=\"dataframe\">\n",
              "  <thead>\n",
              "    <tr style=\"text-align: right;\">\n",
              "      <th></th>\n",
              "      <th>Price</th>\n",
              "    </tr>\n",
              "    <tr>\n",
              "      <th>Date</th>\n",
              "      <th></th>\n",
              "    </tr>\n",
              "  </thead>\n",
              "  <tbody>\n",
              "    <tr>\n",
              "      <th>1990Q1</th>\n",
              "      <td>334.751951</td>\n",
              "    </tr>\n",
              "    <tr>\n",
              "      <th>1990Q2</th>\n",
              "      <td>349.796508</td>\n",
              "    </tr>\n",
              "    <tr>\n",
              "      <th>1990Q3</th>\n",
              "      <td>335.881746</td>\n",
              "    </tr>\n",
              "    <tr>\n",
              "      <th>1990Q4</th>\n",
              "      <td>316.562031</td>\n",
              "    </tr>\n",
              "    <tr>\n",
              "      <th>1991Q1</th>\n",
              "      <td>352.282951</td>\n",
              "    </tr>\n",
              "    <tr>\n",
              "      <th>...</th>\n",
              "      <td>...</td>\n",
              "    </tr>\n",
              "    <tr>\n",
              "      <th>2010Q4</th>\n",
              "      <td>1204.585625</td>\n",
              "    </tr>\n",
              "    <tr>\n",
              "      <th>2011Q1</th>\n",
              "      <td>1302.529032</td>\n",
              "    </tr>\n",
              "    <tr>\n",
              "      <th>2011Q2</th>\n",
              "      <td>1318.332857</td>\n",
              "    </tr>\n",
              "    <tr>\n",
              "      <th>2011Q3</th>\n",
              "      <td>1225.268437</td>\n",
              "    </tr>\n",
              "    <tr>\n",
              "      <th>2011Q4</th>\n",
              "      <td>1171.356000</td>\n",
              "    </tr>\n",
              "  </tbody>\n",
              "</table>\n",
              "<p>88 rows × 1 columns</p>\n",
              "</div>"
            ],
            "text/plain": [
              "              Price\n",
              "Date               \n",
              "1990Q1   334.751951\n",
              "1990Q2   349.796508\n",
              "1990Q3   335.881746\n",
              "1990Q4   316.562031\n",
              "1991Q1   352.282951\n",
              "...             ...\n",
              "2010Q4  1204.585625\n",
              "2011Q1  1302.529032\n",
              "2011Q2  1318.332857\n",
              "2011Q3  1225.268437\n",
              "2011Q4  1171.356000\n",
              "\n",
              "[88 rows x 1 columns]"
            ]
          },
          "metadata": {
            "tags": []
          },
          "execution_count": 137
        }
      ]
    }
  ]
}