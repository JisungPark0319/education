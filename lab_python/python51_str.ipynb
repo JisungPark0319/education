{
  "nbformat": 4,
  "nbformat_minor": 0,
  "metadata": {
    "colab": {
      "name": "python51_str.ipynb",
      "provenance": [],
      "collapsed_sections": [],
      "authorship_tag": "ABX9TyMUGz/blqflVewjUzps5PmT",
      "include_colab_link": true
    },
    "kernelspec": {
      "name": "python3",
      "display_name": "Python 3"
    }
  },
  "cells": [
    {
      "cell_type": "markdown",
      "metadata": {
        "id": "view-in-github",
        "colab_type": "text"
      },
      "source": [
        "<a href=\"https://colab.research.google.com/github/JakeOh/202007_itw_bd18/blob/master/lab_python/python51_str.ipynb\" target=\"_parent\"><img src=\"https://colab.research.google.com/assets/colab-badge.svg\" alt=\"Open In Colab\"/></a>"
      ]
    },
    {
      "cell_type": "markdown",
      "metadata": {
        "id": "iJXGDqNzbEyT"
      },
      "source": [
        "데이터 프레임의 문자열 데이터 컬럼 다루기"
      ]
    },
    {
      "cell_type": "code",
      "metadata": {
        "id": "ANfwqydha667"
      },
      "source": [
        "import pandas as pd"
      ],
      "execution_count": 1,
      "outputs": []
    },
    {
      "cell_type": "markdown",
      "metadata": {
        "id": "RvMl83XAbVmo"
      },
      "source": [
        "movies 데이터 프레임"
      ]
    },
    {
      "cell_type": "code",
      "metadata": {
        "id": "CgJfSvLdbR2Q"
      },
      "source": [
        "file_path = 'https://raw.githubusercontent.com/wesm/pydata-book/2nd-edition/datasets/movielens/movies.dat'"
      ],
      "execution_count": 2,
      "outputs": []
    },
    {
      "cell_type": "markdown",
      "metadata": {
        "id": "kxzyeAHodjGr"
      },
      "source": [
        "github에 있는 dat 파일을 읽어서 데이터 프레임 생성"
      ]
    },
    {
      "cell_type": "code",
      "metadata": {
        "id": "cMMAEhUOdJpS",
        "outputId": "78e8ff6a-3efe-4dec-93cc-f5657f56690c",
        "colab": {
          "base_uri": "https://localhost:8080/",
          "height": 494
        }
      },
      "source": [
        "# encoding='cp1252': 영문 Windows의 기본 인코딩 타입.\n",
        "# encoding='cp949': 한글 Windows의 기본 인코딩 타입.\n",
        "movies = pd.read_csv(file_path, sep='::', encoding='cp1252',\n",
        "                     header=None,  # 파일의 첫번째 줄이 헤더(컬럼 이름)이 아니고 데이터일 때\n",
        "                     names=['movie_id', 'title', 'genres']  # 컬럼 이름 설정\n",
        "                     )\n",
        "movies"
      ],
      "execution_count": 8,
      "outputs": [
        {
          "output_type": "stream",
          "text": [
            "/usr/local/lib/python3.6/dist-packages/ipykernel_launcher.py:4: ParserWarning: Falling back to the 'python' engine because the 'c' engine does not support regex separators (separators > 1 char and different from '\\s+' are interpreted as regex); you can avoid this warning by specifying engine='python'.\n",
            "  after removing the cwd from sys.path.\n"
          ],
          "name": "stderr"
        },
        {
          "output_type": "execute_result",
          "data": {
            "text/html": [
              "<div>\n",
              "<style scoped>\n",
              "    .dataframe tbody tr th:only-of-type {\n",
              "        vertical-align: middle;\n",
              "    }\n",
              "\n",
              "    .dataframe tbody tr th {\n",
              "        vertical-align: top;\n",
              "    }\n",
              "\n",
              "    .dataframe thead th {\n",
              "        text-align: right;\n",
              "    }\n",
              "</style>\n",
              "<table border=\"1\" class=\"dataframe\">\n",
              "  <thead>\n",
              "    <tr style=\"text-align: right;\">\n",
              "      <th></th>\n",
              "      <th>movie_id</th>\n",
              "      <th>title</th>\n",
              "      <th>genres</th>\n",
              "    </tr>\n",
              "  </thead>\n",
              "  <tbody>\n",
              "    <tr>\n",
              "      <th>0</th>\n",
              "      <td>1</td>\n",
              "      <td>Toy Story (1995)</td>\n",
              "      <td>Animation|Children's|Comedy</td>\n",
              "    </tr>\n",
              "    <tr>\n",
              "      <th>1</th>\n",
              "      <td>2</td>\n",
              "      <td>Jumanji (1995)</td>\n",
              "      <td>Adventure|Children's|Fantasy</td>\n",
              "    </tr>\n",
              "    <tr>\n",
              "      <th>2</th>\n",
              "      <td>3</td>\n",
              "      <td>Grumpier Old Men (1995)</td>\n",
              "      <td>Comedy|Romance</td>\n",
              "    </tr>\n",
              "    <tr>\n",
              "      <th>3</th>\n",
              "      <td>4</td>\n",
              "      <td>Waiting to Exhale (1995)</td>\n",
              "      <td>Comedy|Drama</td>\n",
              "    </tr>\n",
              "    <tr>\n",
              "      <th>4</th>\n",
              "      <td>5</td>\n",
              "      <td>Father of the Bride Part II (1995)</td>\n",
              "      <td>Comedy</td>\n",
              "    </tr>\n",
              "    <tr>\n",
              "      <th>...</th>\n",
              "      <td>...</td>\n",
              "      <td>...</td>\n",
              "      <td>...</td>\n",
              "    </tr>\n",
              "    <tr>\n",
              "      <th>3878</th>\n",
              "      <td>3948</td>\n",
              "      <td>Meet the Parents (2000)</td>\n",
              "      <td>Comedy</td>\n",
              "    </tr>\n",
              "    <tr>\n",
              "      <th>3879</th>\n",
              "      <td>3949</td>\n",
              "      <td>Requiem for a Dream (2000)</td>\n",
              "      <td>Drama</td>\n",
              "    </tr>\n",
              "    <tr>\n",
              "      <th>3880</th>\n",
              "      <td>3950</td>\n",
              "      <td>Tigerland (2000)</td>\n",
              "      <td>Drama</td>\n",
              "    </tr>\n",
              "    <tr>\n",
              "      <th>3881</th>\n",
              "      <td>3951</td>\n",
              "      <td>Two Family House (2000)</td>\n",
              "      <td>Drama</td>\n",
              "    </tr>\n",
              "    <tr>\n",
              "      <th>3882</th>\n",
              "      <td>3952</td>\n",
              "      <td>Contender, The (2000)</td>\n",
              "      <td>Drama|Thriller</td>\n",
              "    </tr>\n",
              "  </tbody>\n",
              "</table>\n",
              "<p>3883 rows × 3 columns</p>\n",
              "</div>"
            ],
            "text/plain": [
              "      movie_id  ...                        genres\n",
              "0            1  ...   Animation|Children's|Comedy\n",
              "1            2  ...  Adventure|Children's|Fantasy\n",
              "2            3  ...                Comedy|Romance\n",
              "3            4  ...                  Comedy|Drama\n",
              "4            5  ...                        Comedy\n",
              "...        ...  ...                           ...\n",
              "3878      3948  ...                        Comedy\n",
              "3879      3949  ...                         Drama\n",
              "3880      3950  ...                         Drama\n",
              "3881      3951  ...                         Drama\n",
              "3882      3952  ...                Drama|Thriller\n",
              "\n",
              "[3883 rows x 3 columns]"
            ]
          },
          "metadata": {
            "tags": []
          },
          "execution_count": 8
        }
      ]
    },
    {
      "cell_type": "markdown",
      "metadata": {
        "id": "5zGlpj_5g1QQ"
      },
      "source": [
        "장르가 Animation인 부분 집합: genres 컬럼에 'Animation' 단어가 포함된 row들로 이루어진 데이터 프레임."
      ]
    },
    {
      "cell_type": "code",
      "metadata": {
        "id": "tWX4Lnu9g5yl",
        "outputId": "994f4ac8-9663-414f-e14b-59cae682a6c0",
        "colab": {
          "base_uri": "https://localhost:8080/",
          "height": 433
        }
      },
      "source": [
        "animations = movies[movies['genres'].str.contains('Animation')]\n",
        "animations"
      ],
      "execution_count": 12,
      "outputs": [
        {
          "output_type": "execute_result",
          "data": {
            "text/html": [
              "<div>\n",
              "<style scoped>\n",
              "    .dataframe tbody tr th:only-of-type {\n",
              "        vertical-align: middle;\n",
              "    }\n",
              "\n",
              "    .dataframe tbody tr th {\n",
              "        vertical-align: top;\n",
              "    }\n",
              "\n",
              "    .dataframe thead th {\n",
              "        text-align: right;\n",
              "    }\n",
              "</style>\n",
              "<table border=\"1\" class=\"dataframe\">\n",
              "  <thead>\n",
              "    <tr style=\"text-align: right;\">\n",
              "      <th></th>\n",
              "      <th>movie_id</th>\n",
              "      <th>title</th>\n",
              "      <th>genres</th>\n",
              "    </tr>\n",
              "  </thead>\n",
              "  <tbody>\n",
              "    <tr>\n",
              "      <th>0</th>\n",
              "      <td>1</td>\n",
              "      <td>Toy Story (1995)</td>\n",
              "      <td>Animation|Children's|Comedy</td>\n",
              "    </tr>\n",
              "    <tr>\n",
              "      <th>12</th>\n",
              "      <td>13</td>\n",
              "      <td>Balto (1995)</td>\n",
              "      <td>Animation|Children's</td>\n",
              "    </tr>\n",
              "    <tr>\n",
              "      <th>47</th>\n",
              "      <td>48</td>\n",
              "      <td>Pocahontas (1995)</td>\n",
              "      <td>Animation|Children's|Musical|Romance</td>\n",
              "    </tr>\n",
              "    <tr>\n",
              "      <th>236</th>\n",
              "      <td>239</td>\n",
              "      <td>Goofy Movie, A (1995)</td>\n",
              "      <td>Animation|Children's|Comedy|Romance</td>\n",
              "    </tr>\n",
              "    <tr>\n",
              "      <th>241</th>\n",
              "      <td>244</td>\n",
              "      <td>Gumby: The Movie (1995)</td>\n",
              "      <td>Animation|Children's</td>\n",
              "    </tr>\n",
              "    <tr>\n",
              "      <th>...</th>\n",
              "      <td>...</td>\n",
              "      <td>...</td>\n",
              "      <td>...</td>\n",
              "    </tr>\n",
              "    <tr>\n",
              "      <th>3690</th>\n",
              "      <td>3759</td>\n",
              "      <td>Fun and Fancy Free (1947)</td>\n",
              "      <td>Animation|Children's|Musical</td>\n",
              "    </tr>\n",
              "    <tr>\n",
              "      <th>3706</th>\n",
              "      <td>3775</td>\n",
              "      <td>Make Mine Music (1946)</td>\n",
              "      <td>Animation|Children's|Musical</td>\n",
              "    </tr>\n",
              "    <tr>\n",
              "      <th>3707</th>\n",
              "      <td>3776</td>\n",
              "      <td>Melody Time (1948)</td>\n",
              "      <td>Animation|Children's|Musical</td>\n",
              "    </tr>\n",
              "    <tr>\n",
              "      <th>3730</th>\n",
              "      <td>3799</td>\n",
              "      <td>Pokémon the Movie 2000 (2000)</td>\n",
              "      <td>Animation|Children's</td>\n",
              "    </tr>\n",
              "    <tr>\n",
              "      <th>3875</th>\n",
              "      <td>3945</td>\n",
              "      <td>Digimon: The Movie (2000)</td>\n",
              "      <td>Adventure|Animation|Children's</td>\n",
              "    </tr>\n",
              "  </tbody>\n",
              "</table>\n",
              "<p>105 rows × 3 columns</p>\n",
              "</div>"
            ],
            "text/plain": [
              "      movie_id  ...                                genres\n",
              "0            1  ...           Animation|Children's|Comedy\n",
              "12          13  ...                  Animation|Children's\n",
              "47          48  ...  Animation|Children's|Musical|Romance\n",
              "236        239  ...   Animation|Children's|Comedy|Romance\n",
              "241        244  ...                  Animation|Children's\n",
              "...        ...  ...                                   ...\n",
              "3690      3759  ...          Animation|Children's|Musical\n",
              "3706      3775  ...          Animation|Children's|Musical\n",
              "3707      3776  ...          Animation|Children's|Musical\n",
              "3730      3799  ...                  Animation|Children's\n",
              "3875      3945  ...        Adventure|Animation|Children's\n",
              "\n",
              "[105 rows x 3 columns]"
            ]
          },
          "metadata": {
            "tags": []
          },
          "execution_count": 12
        }
      ]
    },
    {
      "cell_type": "markdown",
      "metadata": {
        "id": "HfQxn5mIjRrR"
      },
      "source": [
        "장르가 로맨틱 코미디인 부분 집합(romance & comedy)"
      ]
    },
    {
      "cell_type": "code",
      "metadata": {
        "id": "NWkVmgaxjYyu",
        "outputId": "9794ec9b-2f75-4c83-bad6-1d8d18b4aab2",
        "colab": {
          "base_uri": "https://localhost:8080/",
          "height": 433
        }
      },
      "source": [
        "romance_comedy = movies[movies['genres'].str.contains('Romance') &\n",
        "                        movies['genres'].str.contains('Comedy')]\n",
        "romance_comedy"
      ],
      "execution_count": 13,
      "outputs": [
        {
          "output_type": "execute_result",
          "data": {
            "text/html": [
              "<div>\n",
              "<style scoped>\n",
              "    .dataframe tbody tr th:only-of-type {\n",
              "        vertical-align: middle;\n",
              "    }\n",
              "\n",
              "    .dataframe tbody tr th {\n",
              "        vertical-align: top;\n",
              "    }\n",
              "\n",
              "    .dataframe thead th {\n",
              "        text-align: right;\n",
              "    }\n",
              "</style>\n",
              "<table border=\"1\" class=\"dataframe\">\n",
              "  <thead>\n",
              "    <tr style=\"text-align: right;\">\n",
              "      <th></th>\n",
              "      <th>movie_id</th>\n",
              "      <th>title</th>\n",
              "      <th>genres</th>\n",
              "    </tr>\n",
              "  </thead>\n",
              "  <tbody>\n",
              "    <tr>\n",
              "      <th>2</th>\n",
              "      <td>3</td>\n",
              "      <td>Grumpier Old Men (1995)</td>\n",
              "      <td>Comedy|Romance</td>\n",
              "    </tr>\n",
              "    <tr>\n",
              "      <th>6</th>\n",
              "      <td>7</td>\n",
              "      <td>Sabrina (1995)</td>\n",
              "      <td>Comedy|Romance</td>\n",
              "    </tr>\n",
              "    <tr>\n",
              "      <th>10</th>\n",
              "      <td>11</td>\n",
              "      <td>American President, The (1995)</td>\n",
              "      <td>Comedy|Drama|Romance</td>\n",
              "    </tr>\n",
              "    <tr>\n",
              "      <th>38</th>\n",
              "      <td>39</td>\n",
              "      <td>Clueless (1995)</td>\n",
              "      <td>Comedy|Romance</td>\n",
              "    </tr>\n",
              "    <tr>\n",
              "      <th>63</th>\n",
              "      <td>64</td>\n",
              "      <td>Two if by Sea (1996)</td>\n",
              "      <td>Comedy|Romance</td>\n",
              "    </tr>\n",
              "    <tr>\n",
              "      <th>...</th>\n",
              "      <td>...</td>\n",
              "      <td>...</td>\n",
              "      <td>...</td>\n",
              "    </tr>\n",
              "    <tr>\n",
              "      <th>3679</th>\n",
              "      <td>3748</td>\n",
              "      <td>Match, The (1999)</td>\n",
              "      <td>Comedy|Romance</td>\n",
              "    </tr>\n",
              "    <tr>\n",
              "      <th>3759</th>\n",
              "      <td>3829</td>\n",
              "      <td>Mad About Mambo (2000)</td>\n",
              "      <td>Comedy|Romance</td>\n",
              "    </tr>\n",
              "    <tr>\n",
              "      <th>3804</th>\n",
              "      <td>3874</td>\n",
              "      <td>Couch in New York, A (1996)</td>\n",
              "      <td>Comedy|Romance</td>\n",
              "    </tr>\n",
              "    <tr>\n",
              "      <th>3815</th>\n",
              "      <td>3885</td>\n",
              "      <td>Love &amp; Sex (2000)</td>\n",
              "      <td>Comedy|Romance</td>\n",
              "    </tr>\n",
              "    <tr>\n",
              "      <th>3839</th>\n",
              "      <td>3909</td>\n",
              "      <td>Woman on Top (2000)</td>\n",
              "      <td>Comedy|Romance</td>\n",
              "    </tr>\n",
              "  </tbody>\n",
              "</table>\n",
              "<p>204 rows × 3 columns</p>\n",
              "</div>"
            ],
            "text/plain": [
              "      movie_id                           title                genres\n",
              "2            3         Grumpier Old Men (1995)        Comedy|Romance\n",
              "6            7                  Sabrina (1995)        Comedy|Romance\n",
              "10          11  American President, The (1995)  Comedy|Drama|Romance\n",
              "38          39                 Clueless (1995)        Comedy|Romance\n",
              "63          64            Two if by Sea (1996)        Comedy|Romance\n",
              "...        ...                             ...                   ...\n",
              "3679      3748               Match, The (1999)        Comedy|Romance\n",
              "3759      3829          Mad About Mambo (2000)        Comedy|Romance\n",
              "3804      3874     Couch in New York, A (1996)        Comedy|Romance\n",
              "3815      3885               Love & Sex (2000)        Comedy|Romance\n",
              "3839      3909             Woman on Top (2000)        Comedy|Romance\n",
              "\n",
              "[204 rows x 3 columns]"
            ]
          },
          "metadata": {
            "tags": []
          },
          "execution_count": 13
        }
      ]
    },
    {
      "cell_type": "markdown",
      "metadata": {
        "id": "tQB0WxmblAh9"
      },
      "source": [
        "movies 데이터 프레임에 year 컬럼을 추가 - 영화 개봉(or 제작) 연도"
      ]
    },
    {
      "cell_type": "code",
      "metadata": {
        "id": "c7TfDReykiYN",
        "outputId": "6bd59767-c3f0-47aa-9ab6-c5cacf1d5f68",
        "colab": {
          "base_uri": "https://localhost:8080/",
          "height": 38
        }
      },
      "source": [
        "title = 'Toy Story (1995)'\n",
        "title[-5:-1]  # 문자열 slicing"
      ],
      "execution_count": 18,
      "outputs": [
        {
          "output_type": "execute_result",
          "data": {
            "application/vnd.google.colaboratory.intrinsic+json": {
              "type": "string"
            },
            "text/plain": [
              "'1995'"
            ]
          },
          "metadata": {
            "tags": []
          },
          "execution_count": 18
        }
      ]
    },
    {
      "cell_type": "code",
      "metadata": {
        "id": "wizOU4Gmp5sF",
        "outputId": "9dabf489-c4e5-4039-af71-f28adc84b03e",
        "colab": {
          "base_uri": "https://localhost:8080/",
          "height": 433
        }
      },
      "source": [
        "movies['year'] = movies['title'].str[-5:-1]  # 문자열(object)들의 Series\n",
        "movies"
      ],
      "execution_count": 29,
      "outputs": [
        {
          "output_type": "execute_result",
          "data": {
            "text/html": [
              "<div>\n",
              "<style scoped>\n",
              "    .dataframe tbody tr th:only-of-type {\n",
              "        vertical-align: middle;\n",
              "    }\n",
              "\n",
              "    .dataframe tbody tr th {\n",
              "        vertical-align: top;\n",
              "    }\n",
              "\n",
              "    .dataframe thead th {\n",
              "        text-align: right;\n",
              "    }\n",
              "</style>\n",
              "<table border=\"1\" class=\"dataframe\">\n",
              "  <thead>\n",
              "    <tr style=\"text-align: right;\">\n",
              "      <th></th>\n",
              "      <th>movie_id</th>\n",
              "      <th>title</th>\n",
              "      <th>genres</th>\n",
              "      <th>year</th>\n",
              "    </tr>\n",
              "  </thead>\n",
              "  <tbody>\n",
              "    <tr>\n",
              "      <th>0</th>\n",
              "      <td>1</td>\n",
              "      <td>Toy Story (1995)</td>\n",
              "      <td>Animation|Children's|Comedy</td>\n",
              "      <td>1995</td>\n",
              "    </tr>\n",
              "    <tr>\n",
              "      <th>1</th>\n",
              "      <td>2</td>\n",
              "      <td>Jumanji (1995)</td>\n",
              "      <td>Adventure|Children's|Fantasy</td>\n",
              "      <td>1995</td>\n",
              "    </tr>\n",
              "    <tr>\n",
              "      <th>2</th>\n",
              "      <td>3</td>\n",
              "      <td>Grumpier Old Men (1995)</td>\n",
              "      <td>Comedy|Romance</td>\n",
              "      <td>1995</td>\n",
              "    </tr>\n",
              "    <tr>\n",
              "      <th>3</th>\n",
              "      <td>4</td>\n",
              "      <td>Waiting to Exhale (1995)</td>\n",
              "      <td>Comedy|Drama</td>\n",
              "      <td>1995</td>\n",
              "    </tr>\n",
              "    <tr>\n",
              "      <th>4</th>\n",
              "      <td>5</td>\n",
              "      <td>Father of the Bride Part II (1995)</td>\n",
              "      <td>Comedy</td>\n",
              "      <td>1995</td>\n",
              "    </tr>\n",
              "    <tr>\n",
              "      <th>...</th>\n",
              "      <td>...</td>\n",
              "      <td>...</td>\n",
              "      <td>...</td>\n",
              "      <td>...</td>\n",
              "    </tr>\n",
              "    <tr>\n",
              "      <th>3878</th>\n",
              "      <td>3948</td>\n",
              "      <td>Meet the Parents (2000)</td>\n",
              "      <td>Comedy</td>\n",
              "      <td>2000</td>\n",
              "    </tr>\n",
              "    <tr>\n",
              "      <th>3879</th>\n",
              "      <td>3949</td>\n",
              "      <td>Requiem for a Dream (2000)</td>\n",
              "      <td>Drama</td>\n",
              "      <td>2000</td>\n",
              "    </tr>\n",
              "    <tr>\n",
              "      <th>3880</th>\n",
              "      <td>3950</td>\n",
              "      <td>Tigerland (2000)</td>\n",
              "      <td>Drama</td>\n",
              "      <td>2000</td>\n",
              "    </tr>\n",
              "    <tr>\n",
              "      <th>3881</th>\n",
              "      <td>3951</td>\n",
              "      <td>Two Family House (2000)</td>\n",
              "      <td>Drama</td>\n",
              "      <td>2000</td>\n",
              "    </tr>\n",
              "    <tr>\n",
              "      <th>3882</th>\n",
              "      <td>3952</td>\n",
              "      <td>Contender, The (2000)</td>\n",
              "      <td>Drama|Thriller</td>\n",
              "      <td>2000</td>\n",
              "    </tr>\n",
              "  </tbody>\n",
              "</table>\n",
              "<p>3883 rows × 4 columns</p>\n",
              "</div>"
            ],
            "text/plain": [
              "      movie_id  ...  year\n",
              "0            1  ...  1995\n",
              "1            2  ...  1995\n",
              "2            3  ...  1995\n",
              "3            4  ...  1995\n",
              "4            5  ...  1995\n",
              "...        ...  ...   ...\n",
              "3878      3948  ...  2000\n",
              "3879      3949  ...  2000\n",
              "3880      3950  ...  2000\n",
              "3881      3951  ...  2000\n",
              "3882      3952  ...  2000\n",
              "\n",
              "[3883 rows x 4 columns]"
            ]
          },
          "metadata": {
            "tags": []
          },
          "execution_count": 29
        }
      ]
    },
    {
      "cell_type": "code",
      "metadata": {
        "id": "BQR9RUoRrl58",
        "outputId": "c4dc3882-c51e-4a60-f1b7-d02418021eda",
        "colab": {
          "base_uri": "https://localhost:8080/",
          "height": 121
        }
      },
      "source": [
        "movies.dtypes"
      ],
      "execution_count": 30,
      "outputs": [
        {
          "output_type": "execute_result",
          "data": {
            "text/plain": [
              "movie_id     int64\n",
              "title       object\n",
              "genres      object\n",
              "year        object\n",
              "dtype: object"
            ]
          },
          "metadata": {
            "tags": []
          },
          "execution_count": 30
        }
      ]
    },
    {
      "cell_type": "code",
      "metadata": {
        "id": "eKfIJjaHrQj9",
        "outputId": "6e9867aa-8169-4c2f-eae7-343ac401a336",
        "colab": {
          "base_uri": "https://localhost:8080/",
          "height": 433
        }
      },
      "source": [
        "movies['year'] = movies['year'].astype('int32')\n",
        "movies"
      ],
      "execution_count": 31,
      "outputs": [
        {
          "output_type": "execute_result",
          "data": {
            "text/html": [
              "<div>\n",
              "<style scoped>\n",
              "    .dataframe tbody tr th:only-of-type {\n",
              "        vertical-align: middle;\n",
              "    }\n",
              "\n",
              "    .dataframe tbody tr th {\n",
              "        vertical-align: top;\n",
              "    }\n",
              "\n",
              "    .dataframe thead th {\n",
              "        text-align: right;\n",
              "    }\n",
              "</style>\n",
              "<table border=\"1\" class=\"dataframe\">\n",
              "  <thead>\n",
              "    <tr style=\"text-align: right;\">\n",
              "      <th></th>\n",
              "      <th>movie_id</th>\n",
              "      <th>title</th>\n",
              "      <th>genres</th>\n",
              "      <th>year</th>\n",
              "    </tr>\n",
              "  </thead>\n",
              "  <tbody>\n",
              "    <tr>\n",
              "      <th>0</th>\n",
              "      <td>1</td>\n",
              "      <td>Toy Story (1995)</td>\n",
              "      <td>Animation|Children's|Comedy</td>\n",
              "      <td>1995</td>\n",
              "    </tr>\n",
              "    <tr>\n",
              "      <th>1</th>\n",
              "      <td>2</td>\n",
              "      <td>Jumanji (1995)</td>\n",
              "      <td>Adventure|Children's|Fantasy</td>\n",
              "      <td>1995</td>\n",
              "    </tr>\n",
              "    <tr>\n",
              "      <th>2</th>\n",
              "      <td>3</td>\n",
              "      <td>Grumpier Old Men (1995)</td>\n",
              "      <td>Comedy|Romance</td>\n",
              "      <td>1995</td>\n",
              "    </tr>\n",
              "    <tr>\n",
              "      <th>3</th>\n",
              "      <td>4</td>\n",
              "      <td>Waiting to Exhale (1995)</td>\n",
              "      <td>Comedy|Drama</td>\n",
              "      <td>1995</td>\n",
              "    </tr>\n",
              "    <tr>\n",
              "      <th>4</th>\n",
              "      <td>5</td>\n",
              "      <td>Father of the Bride Part II (1995)</td>\n",
              "      <td>Comedy</td>\n",
              "      <td>1995</td>\n",
              "    </tr>\n",
              "    <tr>\n",
              "      <th>...</th>\n",
              "      <td>...</td>\n",
              "      <td>...</td>\n",
              "      <td>...</td>\n",
              "      <td>...</td>\n",
              "    </tr>\n",
              "    <tr>\n",
              "      <th>3878</th>\n",
              "      <td>3948</td>\n",
              "      <td>Meet the Parents (2000)</td>\n",
              "      <td>Comedy</td>\n",
              "      <td>2000</td>\n",
              "    </tr>\n",
              "    <tr>\n",
              "      <th>3879</th>\n",
              "      <td>3949</td>\n",
              "      <td>Requiem for a Dream (2000)</td>\n",
              "      <td>Drama</td>\n",
              "      <td>2000</td>\n",
              "    </tr>\n",
              "    <tr>\n",
              "      <th>3880</th>\n",
              "      <td>3950</td>\n",
              "      <td>Tigerland (2000)</td>\n",
              "      <td>Drama</td>\n",
              "      <td>2000</td>\n",
              "    </tr>\n",
              "    <tr>\n",
              "      <th>3881</th>\n",
              "      <td>3951</td>\n",
              "      <td>Two Family House (2000)</td>\n",
              "      <td>Drama</td>\n",
              "      <td>2000</td>\n",
              "    </tr>\n",
              "    <tr>\n",
              "      <th>3882</th>\n",
              "      <td>3952</td>\n",
              "      <td>Contender, The (2000)</td>\n",
              "      <td>Drama|Thriller</td>\n",
              "      <td>2000</td>\n",
              "    </tr>\n",
              "  </tbody>\n",
              "</table>\n",
              "<p>3883 rows × 4 columns</p>\n",
              "</div>"
            ],
            "text/plain": [
              "      movie_id  ...  year\n",
              "0            1  ...  1995\n",
              "1            2  ...  1995\n",
              "2            3  ...  1995\n",
              "3            4  ...  1995\n",
              "4            5  ...  1995\n",
              "...        ...  ...   ...\n",
              "3878      3948  ...  2000\n",
              "3879      3949  ...  2000\n",
              "3880      3950  ...  2000\n",
              "3881      3951  ...  2000\n",
              "3882      3952  ...  2000\n",
              "\n",
              "[3883 rows x 4 columns]"
            ]
          },
          "metadata": {
            "tags": []
          },
          "execution_count": 31
        }
      ]
    },
    {
      "cell_type": "code",
      "metadata": {
        "id": "mZfXQxt0rt-T",
        "outputId": "423c0ad2-ce71-4071-e5f5-48ebf20e30d1",
        "colab": {
          "base_uri": "https://localhost:8080/",
          "height": 121
        }
      },
      "source": [
        "movies.dtypes"
      ],
      "execution_count": 32,
      "outputs": [
        {
          "output_type": "execute_result",
          "data": {
            "text/plain": [
              "movie_id     int64\n",
              "title       object\n",
              "genres      object\n",
              "year         int32\n",
              "dtype: object"
            ]
          },
          "metadata": {
            "tags": []
          },
          "execution_count": 32
        }
      ]
    },
    {
      "cell_type": "markdown",
      "metadata": {
        "id": "cXLRnUNxr3yD"
      },
      "source": [
        "연도별 영화 개봉 숫자\n",
        "* 개봉 영화 숫자의 내림차순 정렬\n",
        "* 연도의 오름차순 정렬"
      ]
    },
    {
      "cell_type": "code",
      "metadata": {
        "id": "BubM5ApHr2Ij",
        "outputId": "977b9bd5-10ea-465a-d9dd-79625e07adaa",
        "colab": {
          "base_uri": "https://localhost:8080/",
          "height": 266
        }
      },
      "source": [
        "movies['year'].value_counts()"
      ],
      "execution_count": 33,
      "outputs": [
        {
          "output_type": "execute_result",
          "data": {
            "text/plain": [
              "1996    345\n",
              "1995    342\n",
              "1998    337\n",
              "1997    315\n",
              "1999    283\n",
              "       ... \n",
              "1923      3\n",
              "1929      3\n",
              "1922      2\n",
              "1920      2\n",
              "1921      1\n",
              "Name: year, Length: 81, dtype: int64"
            ]
          },
          "metadata": {
            "tags": []
          },
          "execution_count": 33
        }
      ]
    },
    {
      "cell_type": "code",
      "metadata": {
        "id": "CHHBpH9htSTs",
        "outputId": "850f090f-6ae4-4ff6-ecc0-74ab5a11b76d",
        "colab": {
          "base_uri": "https://localhost:8080/",
          "height": 266
        }
      },
      "source": [
        "movies['year'].value_counts().sort_index()"
      ],
      "execution_count": 34,
      "outputs": [
        {
          "output_type": "execute_result",
          "data": {
            "text/plain": [
              "1919      3\n",
              "1920      2\n",
              "1921      1\n",
              "1922      2\n",
              "1923      3\n",
              "       ... \n",
              "1996    345\n",
              "1997    315\n",
              "1998    337\n",
              "1999    283\n",
              "2000    156\n",
              "Name: year, Length: 81, dtype: int64"
            ]
          },
          "metadata": {
            "tags": []
          },
          "execution_count": 34
        }
      ]
    },
    {
      "cell_type": "markdown",
      "metadata": {
        "id": "asOKSt49tyTq"
      },
      "source": [
        "가장 개봉 영화 개수가 많은 연도 상위 10개"
      ]
    },
    {
      "cell_type": "code",
      "metadata": {
        "id": "kjJZKpAdt3uz",
        "outputId": "5730d8f3-6480-4a2f-d2c2-e95f9e0f1bc1",
        "colab": {
          "base_uri": "https://localhost:8080/",
          "height": 246
        }
      },
      "source": [
        "movies['year'].value_counts()[:10]"
      ],
      "execution_count": 35,
      "outputs": [
        {
          "output_type": "execute_result",
          "data": {
            "text/plain": [
              "1996    345\n",
              "1995    342\n",
              "1998    337\n",
              "1997    315\n",
              "1999    283\n",
              "1994    257\n",
              "1993    165\n",
              "2000    156\n",
              "1986    104\n",
              "1992    102\n",
              "Name: year, dtype: int64"
            ]
          },
          "metadata": {
            "tags": []
          },
          "execution_count": 35
        }
      ]
    },
    {
      "cell_type": "markdown",
      "metadata": {
        "id": "IfcZ_o9SuaBy"
      },
      "source": [
        "연도별 영화 개수 선 그래프(count ~ year)"
      ]
    },
    {
      "cell_type": "code",
      "metadata": {
        "id": "Mgs8vINtuZGV",
        "outputId": "7599bae8-e89b-4265-9b3f-354eb4c0349a",
        "colab": {
          "base_uri": "https://localhost:8080/",
          "height": 279
        }
      },
      "source": [
        "import matplotlib.pyplot as plt\n",
        "\n",
        "year_counts = movies['year'].value_counts().sort_index()\n",
        "plt.plot(year_counts)\n",
        "plt.xlabel('year')\n",
        "plt.ylabel('count')\n",
        "plt.show()"
      ],
      "execution_count": 39,
      "outputs": [
        {
          "output_type": "display_data",
          "data": {
            "image/png": "[encoded data removed]",
            "text/plain": [
              "<Figure size 432x288 with 1 Axes>"
            ]
          },
          "metadata": {
            "tags": [],
            "needs_background": "light"
          }
        }
      ]
    }
  ]
}