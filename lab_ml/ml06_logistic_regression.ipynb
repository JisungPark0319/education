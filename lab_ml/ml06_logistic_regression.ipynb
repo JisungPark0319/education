{
  "nbformat": 4,
  "nbformat_minor": 0,
  "metadata": {
    "colab": {
      "name": "ml06_logistic_regression.ipynb",
      "provenance": [],
      "collapsed_sections": [],
      "authorship_tag": "ABX9TyPSgNeDNvsHOtCtfIko1xth",
      "include_colab_link": true
    },
    "kernelspec": {
      "name": "python3",
      "display_name": "Python 3"
    }
  },
  "cells": [
    {
      "cell_type": "markdown",
      "metadata": {
        "id": "view-in-github",
        "colab_type": "text"
      },
      "source": [
        "<a href=\"https://colab.research.google.com/github/JisungPark0319/education/blob/main/lab_ml/ml06_logistic_regression.ipynb\" target=\"_parent\"><img src=\"https://colab.research.google.com/assets/colab-badge.svg\" alt=\"Open In Colab\"/></a>"
      ]
    },
    {
      "cell_type": "code",
      "metadata": {
        "id": "GdVbWDmD5XJ_"
      },
      "source": [
        "import numpy as np\n",
        "import matplotlib.pyplot as plt"
      ],
      "execution_count": 2,
      "outputs": []
    },
    {
      "cell_type": "markdown",
      "metadata": {
        "id": "n6PbDTtG5Lk6"
      },
      "source": [
        "# Sigmoid 함수"
      ]
    },
    {
      "cell_type": "code",
      "metadata": {
        "id": "pdjnmjzU5WZ3"
      },
      "source": [
        "def sigmoid(x):\n",
        "  return 1 / (1 + np.exp(-x))"
      ],
      "execution_count": 3,
      "outputs": []
    },
    {
      "cell_type": "code",
      "metadata": {
        "id": "Jya8j-gE5Wx4",
        "outputId": "1bc776e6-cb87-44bb-b9dd-479199c696b7",
        "colab": {
          "base_uri": "https://localhost:8080/",
          "height": 265
        }
      },
      "source": [
        "x = np.linspace(-10, 10, num=1_000) # -10 ~ 10 구간을 동일한 간격으로 1,000개로 나눔.\n",
        "y = sigmoid(x)\n",
        "\n",
        "plt.plot(x,y)\n",
        "plt.grid()"
      ],
      "execution_count": 4,
      "outputs": [
        {
          "output_type": "display_data",
          "data": {
            "image/png": "[encoded data removed]",
            "text/plain": [
              "<Figure size 432x288 with 1 Axes>"
            ]
          },
          "metadata": {
            "tags": [],
            "needs_background": "light"
          }
        }
      ]
    },
    {
      "cell_type": "code",
      "metadata": {
        "id": "qMzEIlrq6cYP",
        "outputId": "30c10bf0-f03f-4776-f819-a6a9fecdad45",
        "colab": {
          "base_uri": "https://localhost:8080/",
          "height": 265
        }
      },
      "source": [
        "# log 함수 그래프\n",
        "p = np.linspace(start=0.0001, stop=0.9999, num=100)\n",
        "p_y = -np.log(p)\n",
        "n_y = -np.log(1-p)\n",
        "\n",
        "plt.plot(p, p_y, label='positive loss')\n",
        "plt.plot(p, n_y, label='negative loss')\n",
        "plt.legend()\n",
        "plt.grid()"
      ],
      "execution_count": 5,
      "outputs": [
        {
          "output_type": "display_data",
          "data": {
            "image/png": "[encoded data removed]",
            "text/plain": [
              "<Figure size 432x288 with 1 Axes>"
            ]
          },
          "metadata": {
            "tags": [],
            "needs_background": "light"
          }
        }
      ]
    },
    {
      "cell_type": "code",
      "metadata": {
        "id": "TUlUZKUpGwuo"
      },
      "source": [
        "from sklearn.datasets import load_iris"
      ],
      "execution_count": 6,
      "outputs": []
    },
    {
      "cell_type": "code",
      "metadata": {
        "id": "HdlmG_cWNeFM",
        "outputId": "89a25b07-cb95-42c9-e863-b605f138a465",
        "colab": {
          "base_uri": "https://localhost:8080/",
          "height": 35
        }
      },
      "source": [
        "iris = load_iris()\n",
        "iris.keys()"
      ],
      "execution_count": 7,
      "outputs": [
        {
          "output_type": "execute_result",
          "data": {
            "text/plain": [
              "dict_keys(['data', 'target', 'target_names', 'DESCR', 'feature_names', 'filename'])"
            ]
          },
          "metadata": {
            "tags": []
          },
          "execution_count": 7
        }
      ]
    },
    {
      "cell_type": "code",
      "metadata": {
        "id": "qOVjoYP0Nlcq",
        "outputId": "156f7e10-b467-4e13-c129-ae8173daceeb",
        "colab": {
          "base_uri": "https://localhost:8080/",
          "height": 35
        }
      },
      "source": [
        "X, y = iris['data'], iris['target']\n",
        "X.shape, y.shape"
      ],
      "execution_count": 22,
      "outputs": [
        {
          "output_type": "execute_result",
          "data": {
            "text/plain": [
              "((150, 4), (150,))"
            ]
          },
          "metadata": {
            "tags": []
          },
          "execution_count": 22
        }
      ]
    },
    {
      "cell_type": "code",
      "metadata": {
        "id": "Pt4r1eOlOBEi",
        "outputId": "bd0f7c70-0f28-4198-8ee1-f51cf5b62035",
        "colab": {
          "base_uri": "https://localhost:8080/",
          "height": 107
        }
      },
      "source": [
        "# 꽃잎 길이(petal length)로 품종이 virginica인지 아닌지를 분류\n",
        "X = X[:, 2:3]\n",
        "X[:5]"
      ],
      "execution_count": 23,
      "outputs": [
        {
          "output_type": "execute_result",
          "data": {
            "text/plain": [
              "array([[1.4],\n",
              "       [1.4],\n",
              "       [1.3],\n",
              "       [1.5],\n",
              "       [1.4]])"
            ]
          },
          "metadata": {
            "tags": []
          },
          "execution_count": 23
        }
      ]
    },
    {
      "cell_type": "code",
      "metadata": {
        "id": "4WT4uYp7QW-v",
        "outputId": "d4a4dc0c-c8ad-49e1-c25b-8e18c7f499fb",
        "colab": {
          "base_uri": "https://localhost:8080/",
          "height": 35
        }
      },
      "source": [
        "y = (y == 2).astype(np.int16) # 품종이 virginica이면 1. 그렇지 않으면 0\n",
        "y[:5], y[-5:]"
      ],
      "execution_count": 24,
      "outputs": [
        {
          "output_type": "execute_result",
          "data": {
            "text/plain": [
              "(array([0, 0, 0, 0, 0], dtype=int16), array([1, 1, 1, 1, 1], dtype=int16))"
            ]
          },
          "metadata": {
            "tags": []
          },
          "execution_count": 24
        }
      ]
    },
    {
      "cell_type": "code",
      "metadata": {
        "id": "3QNHqdyLQ_Cr",
        "outputId": "d150df51-81c5-4969-d19c-e9f5ec5ebfcc",
        "colab": {
          "base_uri": "https://localhost:8080/",
          "height": 265
        }
      },
      "source": [
        "plt.scatter(X, y)\n",
        "plt.grid()"
      ],
      "execution_count": 25,
      "outputs": [
        {
          "output_type": "display_data",
          "data": {
            "image/png": "[encoded data removed]",
            "text/plain": [
              "<Figure size 432x288 with 1 Axes>"
            ]
          },
          "metadata": {
            "tags": [],
            "needs_background": "light"
          }
        }
      ]
    },
    {
      "cell_type": "code",
      "metadata": {
        "id": "IPss9MjlR3Kl"
      },
      "source": [
        "from sklearn.linear_model import LogisticRegression"
      ],
      "execution_count": 27,
      "outputs": []
    },
    {
      "cell_type": "code",
      "metadata": {
        "id": "MAxv7LVrRJFi"
      },
      "source": [
        "# 모델 생성\n",
        "log_reg = LogisticRegression(random_state=1)"
      ],
      "execution_count": 37,
      "outputs": []
    },
    {
      "cell_type": "code",
      "metadata": {
        "id": "xN5XumaRR05k",
        "outputId": "f8302ce9-6bc4-4d69-fc47-b5462cc09cf6",
        "colab": {
          "base_uri": "https://localhost:8080/",
          "height": 107
        }
      },
      "source": [
        "# 모델 훈련\n",
        "log_reg.fit(X, y)"
      ],
      "execution_count": 38,
      "outputs": [
        {
          "output_type": "execute_result",
          "data": {
            "text/plain": [
              "LogisticRegression(C=1.0, class_weight=None, dual=False, fit_intercept=True,\n",
              "                   intercept_scaling=1, l1_ratio=None, max_iter=100,\n",
              "                   multi_class='auto', n_jobs=None, penalty='l2',\n",
              "                   random_state=1, solver='lbfgs', tol=0.0001, verbose=0,\n",
              "                   warm_start=False)"
            ]
          },
          "metadata": {
            "tags": []
          },
          "execution_count": 38
        }
      ]
    },
    {
      "cell_type": "code",
      "metadata": {
        "id": "aaZzKzmhTcwv"
      },
      "source": [
        "intercept, coef = log_reg.intercept_, log_reg.coef_"
      ],
      "execution_count": 39,
      "outputs": []
    },
    {
      "cell_type": "code",
      "metadata": {
        "id": "qe4wBO2nUH7j",
        "outputId": "4ba0bfa8-ef8b-4392-c9bc-acb830427fd0",
        "colab": {
          "base_uri": "https://localhost:8080/",
          "height": 35
        }
      },
      "source": [
        "sample1, sample2 = X[0], X[-1]\n",
        "sample1, sample2"
      ],
      "execution_count": 40,
      "outputs": [
        {
          "output_type": "execute_result",
          "data": {
            "text/plain": [
              "(array([1.4]), array([5.1]))"
            ]
          },
          "metadata": {
            "tags": []
          },
          "execution_count": 40
        }
      ]
    },
    {
      "cell_type": "code",
      "metadata": {
        "id": "1D8bBb10Vd-I",
        "outputId": "02b0240c-58df-439a-9ca3-474dabff1836",
        "colab": {
          "base_uri": "https://localhost:8080/",
          "height": 35
        }
      },
      "source": [
        "lin_eq1 = intercept + coef[0, 0] * sample1[0]\n",
        "p = sigmoid(lin_eq1)\n",
        "p"
      ],
      "execution_count": 42,
      "outputs": [
        {
          "output_type": "execute_result",
          "data": {
            "text/plain": [
              "array([3.79053376e-06])"
            ]
          },
          "metadata": {
            "tags": []
          },
          "execution_count": 42
        }
      ]
    },
    {
      "cell_type": "code",
      "metadata": {
        "id": "gxIaPTU7ZnGz",
        "outputId": "c702029b-b1fb-456e-a03a-b0d26e78bdf4",
        "colab": {
          "base_uri": "https://localhost:8080/",
          "height": 35
        }
      },
      "source": [
        "lin_eq2 = intercept + coef[0, 0] * sample2[0]\n",
        "p = sigmoid(lin_eq2)\n",
        "p"
      ],
      "execution_count": 44,
      "outputs": [
        {
          "output_type": "execute_result",
          "data": {
            "text/plain": [
              "array([0.690877])"
            ]
          },
          "metadata": {
            "tags": []
          },
          "execution_count": 44
        }
      ]
    },
    {
      "cell_type": "code",
      "metadata": {
        "id": "WKvjy9dDVkEc",
        "outputId": "61ff750a-3719-437a-fe7a-4acb151eb4a3",
        "colab": {
          "base_uri": "https://localhost:8080/",
          "height": 35
        }
      },
      "source": [
        "# 훈련이 끝난 모델에서 예측 확률을 계산\n",
        "y_pred_prob = log_reg.predict_proba(X)\n",
        "y_pred_prob[0], y_pred_prob[-1]"
      ],
      "execution_count": 48,
      "outputs": [
        {
          "output_type": "execute_result",
          "data": {
            "text/plain": [
              "(array([9.99996209e-01, 3.79053376e-06]), array([0.309123, 0.690877]))"
            ]
          },
          "metadata": {
            "tags": []
          },
          "execution_count": 48
        }
      ]
    },
    {
      "cell_type": "code",
      "metadata": {
        "id": "aBcPHF1OZxLN"
      },
      "source": [
        "y_pred = log_reg.predict(X)"
      ],
      "execution_count": 49,
      "outputs": []
    },
    {
      "cell_type": "code",
      "metadata": {
        "id": "fdpdRVd6asX-",
        "outputId": "b9a566d2-9273-4140-f02d-da20e3e37276",
        "colab": {
          "base_uri": "https://localhost:8080/",
          "height": 35
        }
      },
      "source": [
        "np.mean(y == y_pred)"
      ],
      "execution_count": 50,
      "outputs": [
        {
          "output_type": "execute_result",
          "data": {
            "text/plain": [
              "0.9533333333333334"
            ]
          },
          "metadata": {
            "tags": []
          },
          "execution_count": 50
        }
      ]
    },
    {
      "cell_type": "code",
      "metadata": {
        "id": "G8J_EXfCatjn"
      },
      "source": [
        "from sklearn.metrics import accuracy_score, precision_score, recall_score"
      ],
      "execution_count": 51,
      "outputs": []
    },
    {
      "cell_type": "code",
      "metadata": {
        "id": "n5YHM8BibF62",
        "outputId": "09badc48-b0e3-4c40-826f-ad899cef0f4b",
        "colab": {
          "base_uri": "https://localhost:8080/",
          "height": 35
        }
      },
      "source": [
        "accuracy_score(y_true=y, y_pred=y_pred)"
      ],
      "execution_count": 53,
      "outputs": [
        {
          "output_type": "execute_result",
          "data": {
            "text/plain": [
              "0.9533333333333334"
            ]
          },
          "metadata": {
            "tags": []
          },
          "execution_count": 53
        }
      ]
    },
    {
      "cell_type": "code",
      "metadata": {
        "id": "qV3j_gNHbIw9",
        "outputId": "afd44200-2025-4c0b-ee12-90417df38226",
        "colab": {
          "base_uri": "https://localhost:8080/",
          "height": 265
        }
      },
      "source": [
        "plt.scatter(X, y)\n",
        "# 가상의 테스트 데이터\n",
        "X_test = np.linspace(start=1, stop=7, num=100).reshape((100, 1))\n",
        "y_test_pred = log_reg.predict_proba(X_test)\n",
        "plt.plot(X_test, y_test_pred[:,1], 'r-', label='Virginica')\n",
        "plt.plot(X_test, y_test_pred[:,0], 'g--', label='Not Virginica')\n",
        "plt.legend()\n",
        "plt.grid()"
      ],
      "execution_count": 72,
      "outputs": [
        {
          "output_type": "display_data",
          "data": {
            "image/png": "[encoded data removed]",
            "text/plain": [
              "<Figure size 432x288 with 1 Axes>"
            ]
          },
          "metadata": {
            "tags": [],
            "needs_background": "light"
          }
        }
      ]
    },
    {
      "cell_type": "code",
      "metadata": {
        "id": "en85NLDtcGnO"
      },
      "source": [
        ""
      ],
      "execution_count": null,
      "outputs": []
    }
  ]
}