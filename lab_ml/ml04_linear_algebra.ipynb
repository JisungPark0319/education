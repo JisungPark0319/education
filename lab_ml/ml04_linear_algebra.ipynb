{
  "nbformat": 4,
  "nbformat_minor": 0,
  "metadata": {
    "colab": {
      "name": "ml04_linear_algebra.ipynb",
      "provenance": [],
      "collapsed_sections": [],
      "authorship_tag": "ABX9TyMKWc0MErW/pLS3Irprpvhx",
      "include_colab_link": true
    },
    "kernelspec": {
      "name": "python3",
      "display_name": "Python 3"
    }
  },
  "cells": [
    {
      "cell_type": "markdown",
      "metadata": {
        "id": "view-in-github",
        "colab_type": "text"
      },
      "source": [
        "<a href=\"https://colab.research.google.com/github/JisungPark0319/education/blob/main/lab_ml/ml04_linear_algebra.ipynb\" target=\"_parent\"><img src=\"https://colab.research.google.com/assets/colab-badge.svg\" alt=\"Open In Colab\"/></a>"
      ]
    },
    {
      "cell_type": "code",
      "metadata": {
        "id": "DtLAH5JZB9ei"
      },
      "source": [
        "import numpy as np\n",
        "import pandas as pd\n",
        "import matplotlib.pyplot as plt\n",
        "from sklearn.datasets import load_iris"
      ],
      "execution_count": 3,
      "outputs": []
    },
    {
      "cell_type": "code",
      "metadata": {
        "id": "2bZsFqR6Frq6"
      },
      "source": [
        "iris = load_iris()"
      ],
      "execution_count": 4,
      "outputs": []
    },
    {
      "cell_type": "code",
      "metadata": {
        "id": "CtJ2js9tGKyW",
        "outputId": "03985fdd-fbd3-492d-cfe3-3e36bd8b4406",
        "colab": {
          "base_uri": "https://localhost:8080/",
          "height": 89
        }
      },
      "source": [
        "iris['DESCR']"
      ],
      "execution_count": 5,
      "outputs": [
        {
          "output_type": "execute_result",
          "data": {
            "application/vnd.google.colaboratory.intrinsic+json": {
              "type": "string"
            },
            "text/plain": [
              "'.. _iris_dataset:\\n\\nIris plants dataset\\n--------------------\\n\\n**Data Set Characteristics:**\\n\\n    :Number of Instances: 150 (50 in each of three classes)\\n    :Number of Attributes: 4 numeric, predictive attributes and the class\\n    :Attribute Information:\\n        - sepal length in cm\\n        - sepal width in cm\\n        - petal length in cm\\n        - petal width in cm\\n        - class:\\n                - Iris-Setosa\\n                - Iris-Versicolour\\n                - Iris-Virginica\\n                \\n    :Summary Statistics:\\n\\n    ============== ==== ==== ======= ===== ====================\\n                    Min  Max   Mean    SD   Class Correlation\\n    ============== ==== ==== ======= ===== ====================\\n    sepal length:   4.3  7.9   5.84   0.83    0.7826\\n    sepal width:    2.0  4.4   3.05   0.43   -0.4194\\n    petal length:   1.0  6.9   3.76   1.76    0.9490  (high!)\\n    petal width:    0.1  2.5   1.20   0.76    0.9565  (high!)\\n    ============== ==== ==== ======= ===== ====================\\n\\n    :Missing Attribute Values: None\\n    :Class Distribution: 33.3% for each of 3 classes.\\n    :Creator: R.A. Fisher\\n    :Donor: Michael Marshall (MARSHALL%PLU@io.arc.nasa.gov)\\n    :Date: July, 1988\\n\\nThe famous Iris database, first used by Sir R.A. Fisher. The dataset is taken\\nfrom Fisher\\'s paper. Note that it\\'s the same as in R, but not as in the UCI\\nMachine Learning Repository, which has two wrong data points.\\n\\nThis is perhaps the best known database to be found in the\\npattern recognition literature.  Fisher\\'s paper is a classic in the field and\\nis referenced frequently to this day.  (See Duda & Hart, for example.)  The\\ndata set contains 3 classes of 50 instances each, where each class refers to a\\ntype of iris plant.  One class is linearly separable from the other 2; the\\nlatter are NOT linearly separable from each other.\\n\\n.. topic:: References\\n\\n   - Fisher, R.A. \"The use of multiple measurements in taxonomic problems\"\\n     Annual Eugenics, 7, Part II, 179-188 (1936); also in \"Contributions to\\n     Mathematical Statistics\" (John Wiley, NY, 1950).\\n   - Duda, R.O., & Hart, P.E. (1973) Pattern Classification and Scene Analysis.\\n     (Q327.D83) John Wiley & Sons.  ISBN 0-471-22361-1.  See page 218.\\n   - Dasarathy, B.V. (1980) \"Nosing Around the Neighborhood: A New System\\n     Structure and Classification Rule for Recognition in Partially Exposed\\n     Environments\".  IEEE Transactions on Pattern Analysis and Machine\\n     Intelligence, Vol. PAMI-2, No. 1, 67-71.\\n   - Gates, G.W. (1972) \"The Reduced Nearest Neighbor Rule\".  IEEE Transactions\\n     on Information Theory, May 1972, 431-433.\\n   - See also: 1988 MLC Proceedings, 54-64.  Cheeseman et al\"s AUTOCLASS II\\n     conceptual clustering system finds 3 classes in the data.\\n   - Many, many more ...'"
            ]
          },
          "metadata": {
            "tags": []
          },
          "execution_count": 5
        }
      ]
    },
    {
      "cell_type": "code",
      "metadata": {
        "id": "kT2XIw2wGipO",
        "outputId": "25ba1856-42b3-463c-9b57-c1ee275a436a",
        "colab": {
          "base_uri": "https://localhost:8080/",
          "height": 89
        }
      },
      "source": [
        "iris['feature_names'] # DataFrame의 컬럼 이름으로 사용할 수 있는 배열."
      ],
      "execution_count": 6,
      "outputs": [
        {
          "output_type": "execute_result",
          "data": {
            "text/plain": [
              "['sepal length (cm)',\n",
              " 'sepal width (cm)',\n",
              " 'petal length (cm)',\n",
              " 'petal width (cm)']"
            ]
          },
          "metadata": {
            "tags": []
          },
          "execution_count": 6
        }
      ]
    },
    {
      "cell_type": "code",
      "metadata": {
        "id": "4WfVmHALG-Lf",
        "outputId": "95967267-df28-4f3b-aa0b-001aa6d40443",
        "colab": {
          "base_uri": "https://localhost:8080/",
          "height": 35
        }
      },
      "source": [
        "iris['target_names'] # DataFrame의 카테고리형 변수의 클래스."
      ],
      "execution_count": 7,
      "outputs": [
        {
          "output_type": "execute_result",
          "data": {
            "text/plain": [
              "array(['setosa', 'versicolor', 'virginica'], dtype='<U10')"
            ]
          },
          "metadata": {
            "tags": []
          },
          "execution_count": 7
        }
      ]
    },
    {
      "cell_type": "code",
      "metadata": {
        "id": "f9WLBMHxHCs9",
        "outputId": "dc92dd29-4725-4ec3-90ea-bf9ed118d9f7",
        "colab": {
          "base_uri": "https://localhost:8080/",
          "height": 35
        }
      },
      "source": [
        "X, y = iris['data'], iris['target']\n",
        "X.shape, y.shape"
      ],
      "execution_count": 8,
      "outputs": [
        {
          "output_type": "execute_result",
          "data": {
            "text/plain": [
              "((150, 4), (150,))"
            ]
          },
          "metadata": {
            "tags": []
          },
          "execution_count": 8
        }
      ]
    },
    {
      "cell_type": "code",
      "metadata": {
        "id": "wY7paZgQIJrw",
        "outputId": "8b5e88a3-572c-47d7-a9fc-10513e24d42e",
        "colab": {
          "base_uri": "https://localhost:8080/",
          "height": 35
        }
      },
      "source": [
        "type(X)"
      ],
      "execution_count": 10,
      "outputs": [
        {
          "output_type": "execute_result",
          "data": {
            "text/plain": [
              "numpy.ndarray"
            ]
          },
          "metadata": {
            "tags": []
          },
          "execution_count": 10
        }
      ]
    },
    {
      "cell_type": "code",
      "metadata": {
        "id": "QLlWWrX4IMt4",
        "outputId": "6c30af5b-5c1b-40b8-96a3-47cae2647655",
        "colab": {
          "base_uri": "https://localhost:8080/",
          "height": 143
        }
      },
      "source": [
        "y"
      ],
      "execution_count": 11,
      "outputs": [
        {
          "output_type": "execute_result",
          "data": {
            "text/plain": [
              "array([0, 0, 0, 0, 0, 0, 0, 0, 0, 0, 0, 0, 0, 0, 0, 0, 0, 0, 0, 0, 0, 0,\n",
              "       0, 0, 0, 0, 0, 0, 0, 0, 0, 0, 0, 0, 0, 0, 0, 0, 0, 0, 0, 0, 0, 0,\n",
              "       0, 0, 0, 0, 0, 0, 1, 1, 1, 1, 1, 1, 1, 1, 1, 1, 1, 1, 1, 1, 1, 1,\n",
              "       1, 1, 1, 1, 1, 1, 1, 1, 1, 1, 1, 1, 1, 1, 1, 1, 1, 1, 1, 1, 1, 1,\n",
              "       1, 1, 1, 1, 1, 1, 1, 1, 1, 1, 1, 1, 2, 2, 2, 2, 2, 2, 2, 2, 2, 2,\n",
              "       2, 2, 2, 2, 2, 2, 2, 2, 2, 2, 2, 2, 2, 2, 2, 2, 2, 2, 2, 2, 2, 2,\n",
              "       2, 2, 2, 2, 2, 2, 2, 2, 2, 2, 2, 2, 2, 2, 2, 2, 2, 2])"
            ]
          },
          "metadata": {
            "tags": []
          },
          "execution_count": 11
        }
      ]
    },
    {
      "cell_type": "markdown",
      "metadata": {
        "id": "9KBi8LgdKHgx"
      },
      "source": [
        "* 선형 대수(Linear Algebra): 벡터 스페이스(Vector Space)를 다루는 수학의 한 분야"
      ]
    },
    {
      "cell_type": "code",
      "metadata": {
        "id": "iZIVaIvaJb6B",
        "outputId": "014c98de-483a-44f8-c987-544489d6a05c",
        "colab": {
          "base_uri": "https://localhost:8080/",
          "height": 35
        }
      },
      "source": [
        "X[0] #> (수학) 4차원 벡터 -> (Python) 1d array"
      ],
      "execution_count": 16,
      "outputs": [
        {
          "output_type": "execute_result",
          "data": {
            "text/plain": [
              "array([5.1, 3.5, 1.4, 0.2])"
            ]
          },
          "metadata": {
            "tags": []
          },
          "execution_count": 16
        }
      ]
    },
    {
      "cell_type": "code",
      "metadata": {
        "id": "VlI3PYePMipb",
        "outputId": "1364409e-f04a-4da9-ab8e-634b19736afc",
        "colab": {
          "base_uri": "https://localhost:8080/",
          "height": 107
        }
      },
      "source": [
        "X[:5] # 여러개의 붓꽃 샘플(데이터 프레임) -> (수학) 행렬(Matrix) -> (Python) 2d-array"
      ],
      "execution_count": 17,
      "outputs": [
        {
          "output_type": "execute_result",
          "data": {
            "text/plain": [
              "array([[5.1, 3.5, 1.4, 0.2],\n",
              "       [4.9, 3. , 1.4, 0.2],\n",
              "       [4.7, 3.2, 1.3, 0.2],\n",
              "       [4.6, 3.1, 1.5, 0.2],\n",
              "       [5. , 3.6, 1.4, 0.2]])"
            ]
          },
          "metadata": {
            "tags": []
          },
          "execution_count": 17
        }
      ]
    },
    {
      "cell_type": "markdown",
      "metadata": {
        "id": "G7n7WcalNM32"
      },
      "source": [
        "* 벡터의 크기(norm): 원점에서 벡터까지 거리\n"
      ]
    },
    {
      "cell_type": "code",
      "metadata": {
        "id": "pwxcYLqWMf7s"
      },
      "source": [
        "def vector_norm(v):\n",
        "  \"\"\"v = [v_1, v_2, ..., v_n] 일 때,\n",
        "  norm = sqrt(sum_i[v_i ** 2])를 계산해서 리턴.\"\"\"\n",
        "  norm = np.sqrt(np.sum(v**2))\n",
        "  return norm"
      ],
      "execution_count": 59,
      "outputs": []
    },
    {
      "cell_type": "code",
      "metadata": {
        "id": "qCtFEKrAPb3M",
        "outputId": "a298116f-5273-4fb2-f431-0ec35731a4c6",
        "colab": {
          "base_uri": "https://localhost:8080/",
          "height": 35
        }
      },
      "source": [
        "vector_norm(X[:2])"
      ],
      "execution_count": 66,
      "outputs": [
        {
          "output_type": "execute_result",
          "data": {
            "text/plain": [
              "8.675828490697588"
            ]
          },
          "metadata": {
            "tags": []
          },
          "execution_count": 66
        }
      ]
    },
    {
      "cell_type": "code",
      "metadata": {
        "id": "LRQCtBNURh9M",
        "outputId": "5eb47141-1dea-44d0-9a14-a5a132ae0b08",
        "colab": {
          "base_uri": "https://localhost:8080/",
          "height": 35
        }
      },
      "source": [
        "np.linalg.norm(X[:2])"
      ],
      "execution_count": 65,
      "outputs": [
        {
          "output_type": "execute_result",
          "data": {
            "text/plain": [
              "8.675828490697588"
            ]
          },
          "metadata": {
            "tags": []
          },
          "execution_count": 65
        }
      ]
    },
    {
      "cell_type": "markdown",
      "metadata": {
        "id": "iDZ0380MWS4B"
      },
      "source": [
        "* 단위 벡터(unit vector): 크기(norm)가 1인 벡터. v / ||v||"
      ]
    },
    {
      "cell_type": "code",
      "metadata": {
        "id": "6CfemMA8RsbB",
        "outputId": "543f8736-8d6c-4a4c-832b-31e93ebfea3f",
        "colab": {
          "base_uri": "https://localhost:8080/",
          "height": 35
        }
      },
      "source": [
        "v = np.array([1,1])\n",
        "v"
      ],
      "execution_count": 67,
      "outputs": [
        {
          "output_type": "execute_result",
          "data": {
            "text/plain": [
              "array([1, 1])"
            ]
          },
          "metadata": {
            "tags": []
          },
          "execution_count": 67
        }
      ]
    },
    {
      "cell_type": "code",
      "metadata": {
        "id": "wZUD8N0aWdnl",
        "outputId": "330afde1-de5d-4685-b305-b10ad758c2d9",
        "colab": {
          "base_uri": "https://localhost:8080/",
          "height": 35
        }
      },
      "source": [
        "v_unit = v / np.linalg.norm(v)\n",
        "v_unit"
      ],
      "execution_count": 72,
      "outputs": [
        {
          "output_type": "execute_result",
          "data": {
            "text/plain": [
              "array([0.70710678, 0.70710678])"
            ]
          },
          "metadata": {
            "tags": []
          },
          "execution_count": 72
        }
      ]
    },
    {
      "cell_type": "code",
      "metadata": {
        "id": "2EGarIR3Wj0E",
        "outputId": "e64d217f-f0fd-4e2a-8e12-1be2b4674eb5",
        "colab": {
          "base_uri": "https://localhost:8080/",
          "height": 35
        }
      },
      "source": [
        "np.linalg.norm(v_unit)"
      ],
      "execution_count": 73,
      "outputs": [
        {
          "output_type": "execute_result",
          "data": {
            "text/plain": [
              "0.9999999999999999"
            ]
          },
          "metadata": {
            "tags": []
          },
          "execution_count": 73
        }
      ]
    },
    {
      "cell_type": "markdown",
      "metadata": {
        "id": "NWTRCFQ3W2kW"
      },
      "source": [
        "* 벡터들의 덧셈: 벡터의 원소별로(element-wise) 각각 덧셈을 수행.\n",
        "* 벡터들의 덧셈이 가능하려면 벡터의 차원이 같아야 함(벡터의 원소의 개수가 같아야함)\n",
        "* numpy array + 연산"
      ]
    },
    {
      "cell_type": "code",
      "metadata": {
        "id": "VNU6beO0Wo_i",
        "outputId": "96156790-a038-42a8-8781-fc10dfada7fe",
        "colab": {
          "base_uri": "https://localhost:8080/",
          "height": 35
        }
      },
      "source": [
        "u = np.array([1,5])\n",
        "v = np.array([2,3])\n",
        "u + v"
      ],
      "execution_count": 75,
      "outputs": [
        {
          "output_type": "execute_result",
          "data": {
            "text/plain": [
              "array([3, 8])"
            ]
          },
          "metadata": {
            "tags": []
          },
          "execution_count": 75
        }
      ]
    },
    {
      "cell_type": "markdown",
      "metadata": {
        "id": "oGXJa-mgYnh2"
      },
      "source": [
        "* 스칼라 곱(Scalar Multiplication): 벡터의 각 원소에 스칼라(scalar)를 곱해 주는 것."
      ]
    },
    {
      "cell_type": "code",
      "metadata": {
        "id": "heahBCaYXouV",
        "outputId": "e4951897-3c2d-4cf4-b96a-69cccd3e94db",
        "colab": {
          "base_uri": "https://localhost:8080/",
          "height": 35
        }
      },
      "source": [
        "1.5 * u"
      ],
      "execution_count": 77,
      "outputs": [
        {
          "output_type": "execute_result",
          "data": {
            "text/plain": [
              "array([1.5, 7.5])"
            ]
          },
          "metadata": {
            "tags": []
          },
          "execution_count": 77
        }
      ]
    },
    {
      "cell_type": "code",
      "metadata": {
        "id": "AIWcvrxaZCaL",
        "outputId": "48390dd1-82d1-4d21-d39e-477c85f24ff2",
        "colab": {
          "base_uri": "https://localhost:8080/",
          "height": 35
        }
      },
      "source": [
        "u * 1.5"
      ],
      "execution_count": 78,
      "outputs": [
        {
          "output_type": "execute_result",
          "data": {
            "text/plain": [
              "array([1.5, 7.5])"
            ]
          },
          "metadata": {
            "tags": []
          },
          "execution_count": 78
        }
      ]
    },
    {
      "cell_type": "markdown",
      "metadata": {
        "id": "3aSceOD2avPA"
      },
      "source": [
        "* 벡터의 점곱, 내적(Dot Product, Inner Product)\n",
        "* numpy.dot() 함수, numpy.ndarray.dot() 메서드, numpy의 @연산자\n",
        "\n"
      ]
    },
    {
      "cell_type": "code",
      "metadata": {
        "id": "3S-bzxQ0Zl52"
      },
      "source": [
        "def vector_dot_product(u, v):\n",
        "  \"\"\"u = [u_1, u_2, ..., u_n], v = [v_1, v_2, ..., v_n] 일 때,\n",
        "  u dot v = u_1 * v_1 + u_2 * v_2 + ... + u_n * v_n = sum_i[u_i * v_i]\n",
        "  \"\"\"\n",
        "  return np.sum([ x*y for x, y in zip(u, v)])"
      ],
      "execution_count": 86,
      "outputs": []
    },
    {
      "cell_type": "code",
      "metadata": {
        "id": "J0T9bz_fb4yH",
        "outputId": "8a94225e-2850-4985-fd5b-14acbcb9df02",
        "colab": {
          "base_uri": "https://localhost:8080/",
          "height": 35
        }
      },
      "source": [
        "vector_dot_product(u, v)  # 1*2, + 5*3"
      ],
      "execution_count": 87,
      "outputs": [
        {
          "output_type": "execute_result",
          "data": {
            "text/plain": [
              "17"
            ]
          },
          "metadata": {
            "tags": []
          },
          "execution_count": 87
        }
      ]
    },
    {
      "cell_type": "code",
      "metadata": {
        "id": "hLxSn7OucCl3",
        "outputId": "35a10b01-10e2-4be3-9519-32f623050832",
        "colab": {
          "base_uri": "https://localhost:8080/",
          "height": 35
        }
      },
      "source": [
        "# numpy.dot() 함수\n",
        "np.dot(u, v)"
      ],
      "execution_count": 88,
      "outputs": [
        {
          "output_type": "execute_result",
          "data": {
            "text/plain": [
              "17"
            ]
          },
          "metadata": {
            "tags": []
          },
          "execution_count": 88
        }
      ]
    },
    {
      "cell_type": "code",
      "metadata": {
        "id": "Vab1xruBdjWt",
        "outputId": "8b9b79b0-8705-4b80-919f-9ce50cefc658",
        "colab": {
          "base_uri": "https://localhost:8080/",
          "height": 35
        }
      },
      "source": [
        "# numpy.ndarray.dot() 메서드\n",
        "u.dot(v)"
      ],
      "execution_count": 89,
      "outputs": [
        {
          "output_type": "execute_result",
          "data": {
            "text/plain": [
              "17"
            ]
          },
          "metadata": {
            "tags": []
          },
          "execution_count": 89
        }
      ]
    },
    {
      "cell_type": "code",
      "metadata": {
        "id": "xOGc16kHdnF-",
        "outputId": "b52475e5-067a-49dd-f3aa-2235e3f7c188",
        "colab": {
          "base_uri": "https://localhost:8080/",
          "height": 35
        }
      },
      "source": [
        "u @ v"
      ],
      "execution_count": 90,
      "outputs": [
        {
          "output_type": "execute_result",
          "data": {
            "text/plain": [
              "17"
            ]
          },
          "metadata": {
            "tags": []
          },
          "execution_count": 90
        }
      ]
    },
    {
      "cell_type": "code",
      "metadata": {
        "id": "0xB02sGtd3NJ",
        "outputId": "b7761e65-9b6c-45c9-85ca-c401383959b6",
        "colab": {
          "base_uri": "https://localhost:8080/",
          "height": 53
        }
      },
      "source": [
        "M = np.array([\n",
        "              [1, 2, 3],\n",
        "              [4, 5, 6]\n",
        "])\n",
        "M"
      ],
      "execution_count": 91,
      "outputs": [
        {
          "output_type": "execute_result",
          "data": {
            "text/plain": [
              "array([[1, 2, 3],\n",
              "       [4, 5, 6]])"
            ]
          },
          "metadata": {
            "tags": []
          },
          "execution_count": 91
        }
      ]
    },
    {
      "cell_type": "code",
      "metadata": {
        "id": "UUeprt1cx9S6",
        "outputId": "54e6c0e2-97a1-4aac-e889-b53a55644788",
        "colab": {
          "base_uri": "https://localhost:8080/",
          "height": 35
        }
      },
      "source": [
        "M.shape # (row 개수, column 개수)"
      ],
      "execution_count": 92,
      "outputs": [
        {
          "output_type": "execute_result",
          "data": {
            "text/plain": [
              "(2, 3)"
            ]
          },
          "metadata": {
            "tags": []
          },
          "execution_count": 92
        }
      ]
    },
    {
      "cell_type": "markdown",
      "metadata": {
        "id": "OP0A0kL0y2N4"
      },
      "source": [
        "* 행렬의 인덱스 M[i, j]\n",
        "* (n, m) 모양(shape)의 2d-array에서 인덱스: 0 <= i < n, 0 <= j < m"
      ]
    },
    {
      "cell_type": "code",
      "metadata": {
        "id": "Dh8M7izByQKb",
        "outputId": "7476110f-622e-48b6-8c34-2f7f86b3c159",
        "colab": {
          "base_uri": "https://localhost:8080/",
          "height": 35
        }
      },
      "source": [
        "# 행렬에서 원소 1개 선택\n",
        "M[1, 2] #> 6"
      ],
      "execution_count": 94,
      "outputs": [
        {
          "output_type": "execute_result",
          "data": {
            "text/plain": [
              "6"
            ]
          },
          "metadata": {
            "tags": []
          },
          "execution_count": 94
        }
      ]
    },
    {
      "cell_type": "code",
      "metadata": {
        "id": "I0IKFLdpzPJY",
        "outputId": "bfcec611-15c4-4943-d8a6-895055ae31b5",
        "colab": {
          "base_uri": "https://localhost:8080/",
          "height": 35
        }
      },
      "source": [
        "# 행렬에서 row(vector) 선택\n",
        "M[1]"
      ],
      "execution_count": 96,
      "outputs": [
        {
          "output_type": "execute_result",
          "data": {
            "text/plain": [
              "array([4, 5, 6])"
            ]
          },
          "metadata": {
            "tags": []
          },
          "execution_count": 96
        }
      ]
    },
    {
      "cell_type": "code",
      "metadata": {
        "id": "phZcYXfgzt_O",
        "outputId": "6fbea12d-4ec7-4001-8939-e501a2ea59d9",
        "colab": {
          "base_uri": "https://localhost:8080/",
          "height": 35
        }
      },
      "source": [
        "# 행렬에서 column (vector) 선택\n",
        "M[:, 1]"
      ],
      "execution_count": 97,
      "outputs": [
        {
          "output_type": "execute_result",
          "data": {
            "text/plain": [
              "array([2, 5])"
            ]
          },
          "metadata": {
            "tags": []
          },
          "execution_count": 97
        }
      ]
    },
    {
      "cell_type": "markdown",
      "metadata": {
        "id": "mJ1wJ1yh3L_9"
      },
      "source": [
        "* numpy ndarray 객체는 행벡터(row vector), 열벡터(column vecotr)를 구분하지 않고, 1d-array로만 표시.\n",
        "* scikit-learn 패키지를 사용할 때, 때로는, 행벡터를 행의 개수가 1개인 2d-array로 만들고, 열벡터는 열의 개수가 1개인 2d-array로 만들어야 되는 경우가 있음."
      ]
    },
    {
      "cell_type": "code",
      "metadata": {
        "id": "TDaPnegjz6R9",
        "outputId": "fce8ec4d-a19d-486b-c192-3b3529557e5c",
        "colab": {
          "base_uri": "https://localhost:8080/",
          "height": 35
        }
      },
      "source": [
        "M[1:2, :] # 1 <= i < 2, 0 <= j < end\n",
        "#> row vector 2d-array"
      ],
      "execution_count": 99,
      "outputs": [
        {
          "output_type": "execute_result",
          "data": {
            "text/plain": [
              "array([[4, 5, 6]])"
            ]
          },
          "metadata": {
            "tags": []
          },
          "execution_count": 99
        }
      ]
    },
    {
      "cell_type": "code",
      "metadata": {
        "id": "h33hHdO93KXq",
        "outputId": "bb513970-0950-45b1-a1a2-82efc25db89c",
        "colab": {
          "base_uri": "https://localhost:8080/",
          "height": 53
        }
      },
      "source": [
        "M[:, 1:2] # 0 <= i < end, 1 <= j < 2\n",
        "#> column vector 2d-array"
      ],
      "execution_count": 102,
      "outputs": [
        {
          "output_type": "execute_result",
          "data": {
            "text/plain": [
              "array([[2],\n",
              "       [5]])"
            ]
          },
          "metadata": {
            "tags": []
          },
          "execution_count": 102
        }
      ]
    },
    {
      "cell_type": "markdown",
      "metadata": {
        "id": "mpLpZVmX42D0"
      },
      "source": [
        "* 정사각행렬(square matrix): 행(row)와 열(column)의 개수가 같은 행렬\n",
        "* 대각행렬(diagonal matrix): 대각선 성분(원소)이 아닌 원소들은 모두 0인 정사각 행렬.\n"
      ]
    },
    {
      "cell_type": "code",
      "metadata": {
        "id": "XyRLNl0z3YCS",
        "outputId": "797f50f0-9955-4afb-fc06-271583f22460",
        "colab": {
          "base_uri": "https://localhost:8080/",
          "height": 71
        }
      },
      "source": [
        "np.diag([1,2,3]) #> np.diag(1d-array/1d-list): 대각행렬 생성"
      ],
      "execution_count": 103,
      "outputs": [
        {
          "output_type": "execute_result",
          "data": {
            "text/plain": [
              "array([[1, 0, 0],\n",
              "       [0, 2, 0],\n",
              "       [0, 0, 3]])"
            ]
          },
          "metadata": {
            "tags": []
          },
          "execution_count": 103
        }
      ]
    },
    {
      "cell_type": "code",
      "metadata": {
        "id": "rxCLqjlK6Aod",
        "outputId": "20b3611f-0942-4e7d-a97c-3169f23c8587",
        "colab": {
          "base_uri": "https://localhost:8080/",
          "height": 35
        }
      },
      "source": [
        "np.diag([[1,2,3,],\n",
        "         [4,5,6,],\n",
        "         [7,8,9,]])\n",
        "# np.diag(2d-array/2d-list): 대각선 성분들로 이루어진 1d-array 생성"
      ],
      "execution_count": 104,
      "outputs": [
        {
          "output_type": "execute_result",
          "data": {
            "text/plain": [
              "array([1, 5, 9])"
            ]
          },
          "metadata": {
            "tags": []
          },
          "execution_count": 104
        }
      ]
    },
    {
      "cell_type": "markdown",
      "metadata": {
        "id": "1vrJtdRF-3az"
      },
      "source": [
        "* 항등 행령(identity matrix): 대각선 성분이 모두 1인 정사각 행렬."
      ]
    },
    {
      "cell_type": "code",
      "metadata": {
        "id": "pmD5qLsR6b_s",
        "outputId": "e05d763f-2f1e-4252-9ec7-9fc21a29ef5d",
        "colab": {
          "base_uri": "https://localhost:8080/",
          "height": 71
        }
      },
      "source": [
        "np.eye(3)"
      ],
      "execution_count": 105,
      "outputs": [
        {
          "output_type": "execute_result",
          "data": {
            "text/plain": [
              "array([[1., 0., 0.],\n",
              "       [0., 1., 0.],\n",
              "       [0., 0., 1.]])"
            ]
          },
          "metadata": {
            "tags": []
          },
          "execution_count": 105
        }
      ]
    },
    {
      "cell_type": "markdown",
      "metadata": {
        "id": "5HXXqFjq_e4S"
      },
      "source": [
        "* 행렬의 덧셈: 같은 인덱스의 원소들끼리(element-wise) 덧셈.\n",
        "* S[i. j] = A[i, j] + B[i, j]"
      ]
    },
    {
      "cell_type": "code",
      "metadata": {
        "id": "qbY57Cec_MaH",
        "outputId": "f750b8d7-46c7-4b0c-c11c-f12f3dd807c7",
        "colab": {
          "base_uri": "https://localhost:8080/",
          "height": 53
        }
      },
      "source": [
        "A = np.arange(1, 7).reshape(2, 3)\n",
        "A"
      ],
      "execution_count": 109,
      "outputs": [
        {
          "output_type": "execute_result",
          "data": {
            "text/plain": [
              "array([[1, 2, 3],\n",
              "       [4, 5, 6]])"
            ]
          },
          "metadata": {
            "tags": []
          },
          "execution_count": 109
        }
      ]
    },
    {
      "cell_type": "code",
      "metadata": {
        "id": "CcOGlfDSAMiy",
        "outputId": "0dd316f7-e779-432d-a4a7-22990cd13db7",
        "colab": {
          "base_uri": "https://localhost:8080/",
          "height": 53
        }
      },
      "source": [
        "B = np.arange(10, 70, 10).reshape(2,3)\n",
        "B"
      ],
      "execution_count": 110,
      "outputs": [
        {
          "output_type": "execute_result",
          "data": {
            "text/plain": [
              "array([[10, 20, 30],\n",
              "       [40, 50, 60]])"
            ]
          },
          "metadata": {
            "tags": []
          },
          "execution_count": 110
        }
      ]
    },
    {
      "cell_type": "code",
      "metadata": {
        "id": "wdydRXzhAP2W",
        "outputId": "4495f38f-a2dc-4d3f-d761-113aa1d425a6",
        "colab": {
          "base_uri": "https://localhost:8080/",
          "height": 53
        }
      },
      "source": [
        "A + B"
      ],
      "execution_count": 111,
      "outputs": [
        {
          "output_type": "execute_result",
          "data": {
            "text/plain": [
              "array([[11, 22, 33],\n",
              "       [44, 55, 66]])"
            ]
          },
          "metadata": {
            "tags": []
          },
          "execution_count": 111
        }
      ]
    },
    {
      "cell_type": "markdown",
      "metadata": {
        "id": "suQLYCS-Ak8B"
      },
      "source": [
        "* 행렬의 스칼라 곱(scalar multiplication): 스칼라(scalar)를 행렬의 각 원소에 곱하는 것."
      ]
    },
    {
      "cell_type": "code",
      "metadata": {
        "id": "RTjyDUz2AS91",
        "outputId": "1092e4fd-5069-45c6-e989-f3f653643ae9",
        "colab": {
          "base_uri": "https://localhost:8080/",
          "height": 53
        }
      },
      "source": [
        "A * 2"
      ],
      "execution_count": 112,
      "outputs": [
        {
          "output_type": "execute_result",
          "data": {
            "text/plain": [
              "array([[ 2,  4,  6],\n",
              "       [ 8, 10, 12]])"
            ]
          },
          "metadata": {
            "tags": []
          },
          "execution_count": 112
        }
      ]
    },
    {
      "cell_type": "code",
      "metadata": {
        "id": "W3VtU-tEBFKi",
        "outputId": "d134fa65-b0de-4e99-e725-138abdd8425b",
        "colab": {
          "base_uri": "https://localhost:8080/",
          "height": 53
        }
      },
      "source": [
        "2 * A"
      ],
      "execution_count": 113,
      "outputs": [
        {
          "output_type": "execute_result",
          "data": {
            "text/plain": [
              "array([[ 2,  4,  6],\n",
              "       [ 8, 10, 12]])"
            ]
          },
          "metadata": {
            "tags": []
          },
          "execution_count": 113
        }
      ]
    },
    {
      "cell_type": "markdown",
      "metadata": {
        "id": "jn2DxuxkBG29"
      },
      "source": [
        "* 행렬의 곱셈(Matrix Multiplication) - Dot Product(점곱), Inner Product(내적)\n",
        "* 두 행렬 A와 B의 곱 AB: 행렬 A의 row vector와 행렬 B의 column vector의 내적들로 이루어짐.\n",
        "* AB: 행렬 A의 열의 개수와 행렬 B의 행의 개수가 같아야함.\n",
        "* 일반적으로, AB != BA\n",
        "* numpy.dot() 함수, numpy.ndarray.dot() 메서드, numpy @ 연산자"
      ]
    },
    {
      "cell_type": "code",
      "metadata": {
        "id": "QyfXW15_BGRb",
        "outputId": "1f8b56f5-e808-4298-bf50-a5a2124757ca",
        "colab": {
          "base_uri": "https://localhost:8080/",
          "height": 53
        }
      },
      "source": [
        "A = np.arange(1, 7).reshape(2, 3)\n",
        "A # (2, 3) 행렬"
      ],
      "execution_count": 115,
      "outputs": [
        {
          "output_type": "execute_result",
          "data": {
            "text/plain": [
              "array([[1, 2, 3],\n",
              "       [4, 5, 6]])"
            ]
          },
          "metadata": {
            "tags": []
          },
          "execution_count": 115
        }
      ]
    },
    {
      "cell_type": "code",
      "metadata": {
        "id": "HH56oYnUD8Kc",
        "outputId": "dea6a1dc-e30f-4c6b-b600-ddab2250b9ec",
        "colab": {
          "base_uri": "https://localhost:8080/",
          "height": 71
        }
      },
      "source": [
        "B = np.array([1, 2] * 3).reshape(3, 2)\n",
        "B # (3, 2) 행렬"
      ],
      "execution_count": 117,
      "outputs": [
        {
          "output_type": "execute_result",
          "data": {
            "text/plain": [
              "array([[1, 2],\n",
              "       [1, 2],\n",
              "       [1, 2]])"
            ]
          },
          "metadata": {
            "tags": []
          },
          "execution_count": 117
        }
      ]
    },
    {
      "cell_type": "code",
      "metadata": {
        "id": "sj49oAKIEKcu",
        "outputId": "35e7c594-b921-4d5e-e8da-e4c7bf830b9d",
        "colab": {
          "base_uri": "https://localhost:8080/",
          "height": 53
        }
      },
      "source": [
        "np.dot(A, B) # numpy.dot() 함수"
      ],
      "execution_count": 119,
      "outputs": [
        {
          "output_type": "execute_result",
          "data": {
            "text/plain": [
              "array([[ 6, 12],\n",
              "       [15, 30]])"
            ]
          },
          "metadata": {
            "tags": []
          },
          "execution_count": 119
        }
      ]
    },
    {
      "cell_type": "code",
      "metadata": {
        "id": "6sllzV8IEUXv",
        "outputId": "aef2c366-4868-446d-ef69-f16f57383c59",
        "colab": {
          "base_uri": "https://localhost:8080/",
          "height": 53
        }
      },
      "source": [
        "A.dot(B) # numpy.ndarray.dot 메서드"
      ],
      "execution_count": 121,
      "outputs": [
        {
          "output_type": "execute_result",
          "data": {
            "text/plain": [
              "array([[ 6, 12],\n",
              "       [15, 30]])"
            ]
          },
          "metadata": {
            "tags": []
          },
          "execution_count": 121
        }
      ]
    },
    {
      "cell_type": "code",
      "metadata": {
        "id": "P1jATJVpEbfS",
        "outputId": "23c558ac-37fb-44eb-d710-e7ad7a7b99b6",
        "colab": {
          "base_uri": "https://localhost:8080/",
          "height": 53
        }
      },
      "source": [
        "A @ B # (2, 3) @ (3, 2) = (2, 2)"
      ],
      "execution_count": 123,
      "outputs": [
        {
          "output_type": "execute_result",
          "data": {
            "text/plain": [
              "array([[ 6, 12],\n",
              "       [15, 30]])"
            ]
          },
          "metadata": {
            "tags": []
          },
          "execution_count": 123
        }
      ]
    },
    {
      "cell_type": "code",
      "metadata": {
        "id": "rp_o3hHlElUa",
        "outputId": "2371e953-55bb-4448-93b9-568c0afc67a4",
        "colab": {
          "base_uri": "https://localhost:8080/",
          "height": 71
        }
      },
      "source": [
        "B @ A # (3, 2) @ (2, 3) = (3, 3)"
      ],
      "execution_count": 124,
      "outputs": [
        {
          "output_type": "execute_result",
          "data": {
            "text/plain": [
              "array([[ 9, 12, 15],\n",
              "       [ 9, 12, 15],\n",
              "       [ 9, 12, 15]])"
            ]
          },
          "metadata": {
            "tags": []
          },
          "execution_count": 124
        }
      ]
    },
    {
      "cell_type": "code",
      "metadata": {
        "id": "VN8Br2kLE68k",
        "outputId": "8850f8c9-9e1b-431d-f8ea-8c414ba8cee7",
        "colab": {
          "base_uri": "https://localhost:8080/",
          "height": 53
        }
      },
      "source": [
        "A # (2,3)"
      ],
      "execution_count": 125,
      "outputs": [
        {
          "output_type": "execute_result",
          "data": {
            "text/plain": [
              "array([[1, 2, 3],\n",
              "       [4, 5, 6]])"
            ]
          },
          "metadata": {
            "tags": []
          },
          "execution_count": 125
        }
      ]
    },
    {
      "cell_type": "code",
      "metadata": {
        "id": "aZgFhgpiF3fa",
        "outputId": "8d33a06c-ae9c-42f2-bf28-499d593ca376",
        "colab": {
          "base_uri": "https://localhost:8080/",
          "height": 53
        }
      },
      "source": [
        "# A @ I\n",
        "A @ np.eye(3, dtype=np.int) # (3,3) 항등 행렬"
      ],
      "execution_count": 129,
      "outputs": [
        {
          "output_type": "execute_result",
          "data": {
            "text/plain": [
              "array([[1, 2, 3],\n",
              "       [4, 5, 6]])"
            ]
          },
          "metadata": {
            "tags": []
          },
          "execution_count": 129
        }
      ]
    },
    {
      "cell_type": "code",
      "metadata": {
        "id": "CoE3q-yIGCOT",
        "outputId": "24ebeb19-8f58-41b2-d3e5-5e117ce7047a",
        "colab": {
          "base_uri": "https://localhost:8080/",
          "height": 53
        }
      },
      "source": [
        "# I @ A\n",
        "np.eye(2, dtype=np.int) @ A # (2, 2) 항등 행렬"
      ],
      "execution_count": 131,
      "outputs": [
        {
          "output_type": "execute_result",
          "data": {
            "text/plain": [
              "array([[1, 2, 3],\n",
              "       [4, 5, 6]])"
            ]
          },
          "metadata": {
            "tags": []
          },
          "execution_count": 131
        }
      ]
    },
    {
      "cell_type": "markdown",
      "metadata": {
        "id": "LTChIUm0G2iB"
      },
      "source": [
        "* 전치 행렬(Transpose): 행과 열을 바꾼 행렬."
      ]
    },
    {
      "cell_type": "code",
      "metadata": {
        "id": "aOG3eVniGQCz",
        "outputId": "fc75d32c-c6cb-4151-d742-8f5b7404244f",
        "colab": {
          "base_uri": "https://localhost:8080/",
          "height": 53
        }
      },
      "source": [
        "A"
      ],
      "execution_count": 134,
      "outputs": [
        {
          "output_type": "execute_result",
          "data": {
            "text/plain": [
              "array([[1, 2, 3],\n",
              "       [4, 5, 6]])"
            ]
          },
          "metadata": {
            "tags": []
          },
          "execution_count": 134
        }
      ]
    },
    {
      "cell_type": "code",
      "metadata": {
        "id": "ay1eVGQCHB3d",
        "outputId": "81c4bc1a-42fd-43d6-a0f5-13cd0c305d0a",
        "colab": {
          "base_uri": "https://localhost:8080/",
          "height": 71
        }
      },
      "source": [
        "A.T"
      ],
      "execution_count": 136,
      "outputs": [
        {
          "output_type": "execute_result",
          "data": {
            "text/plain": [
              "array([[1, 4],\n",
              "       [2, 5],\n",
              "       [3, 6]])"
            ]
          },
          "metadata": {
            "tags": []
          },
          "execution_count": 136
        }
      ]
    },
    {
      "cell_type": "code",
      "metadata": {
        "id": "N0KR-FCEMKDe",
        "outputId": "ea34b61c-b0d3-40f7-9349-7301446e153e",
        "colab": {
          "base_uri": "https://localhost:8080/",
          "height": 35
        }
      },
      "source": [
        "a = np.array([1,2,3])\n",
        "a"
      ],
      "execution_count": 137,
      "outputs": [
        {
          "output_type": "execute_result",
          "data": {
            "text/plain": [
              "array([1, 2, 3])"
            ]
          },
          "metadata": {
            "tags": []
          },
          "execution_count": 137
        }
      ]
    },
    {
      "cell_type": "code",
      "metadata": {
        "id": "isStaQ06IVmj",
        "outputId": "7fca8393-3aca-4910-d8f2-304ab541bcfa",
        "colab": {
          "base_uri": "https://localhost:8080/",
          "height": 35
        }
      },
      "source": [
        "a.T #> 1-d array\n",
        "# 1d-array의 Transpose는 컬럼이 1개인 2d-array가 되지 않는다!"
      ],
      "execution_count": 138,
      "outputs": [
        {
          "output_type": "execute_result",
          "data": {
            "text/plain": [
              "array([1, 2, 3])"
            ]
          },
          "metadata": {
            "tags": []
          },
          "execution_count": 138
        }
      ]
    },
    {
      "cell_type": "markdown",
      "metadata": {
        "id": "9RIH6FUCMhSd"
      },
      "source": [
        "* numpy 1d-array를 2d-array로 변환 => row vector <-- (transpose) --> column"
      ]
    },
    {
      "cell_type": "code",
      "metadata": {
        "id": "YqoQ_RzIMNPa",
        "outputId": "2df9b55c-df33-4cb6-efcb-4beeaa7a0574",
        "colab": {
          "base_uri": "https://localhost:8080/",
          "height": 35
        }
      },
      "source": [
        "A = np.array([a])\n",
        "A #> 행(row)이 1개인 2d-array"
      ],
      "execution_count": 141,
      "outputs": [
        {
          "output_type": "execute_result",
          "data": {
            "text/plain": [
              "array([[1, 2, 3]])"
            ]
          },
          "metadata": {
            "tags": []
          },
          "execution_count": 141
        }
      ]
    },
    {
      "cell_type": "code",
      "metadata": {
        "id": "UooQ_EzUM0VB",
        "outputId": "a3e53cd6-40f7-4805-e191-82ae0a2acd57",
        "colab": {
          "base_uri": "https://localhost:8080/",
          "height": 71
        }
      },
      "source": [
        "A.T"
      ],
      "execution_count": 140,
      "outputs": [
        {
          "output_type": "execute_result",
          "data": {
            "text/plain": [
              "array([[1],\n",
              "       [2],\n",
              "       [3]])"
            ]
          },
          "metadata": {
            "tags": []
          },
          "execution_count": 140
        }
      ]
    },
    {
      "cell_type": "code",
      "metadata": {
        "id": "T5e-zxguM1PE",
        "outputId": "75235cf7-ec9b-43ff-dfcb-d6918eae1d19",
        "colab": {
          "base_uri": "https://localhost:8080/",
          "height": 35
        }
      },
      "source": [
        "a[np.newaxis, :] # 1d-array -> row vector"
      ],
      "execution_count": 143,
      "outputs": [
        {
          "output_type": "execute_result",
          "data": {
            "text/plain": [
              "array([[1, 2, 3]])"
            ]
          },
          "metadata": {
            "tags": []
          },
          "execution_count": 143
        }
      ]
    },
    {
      "cell_type": "code",
      "metadata": {
        "id": "0NB5y2hlNbSI",
        "outputId": "a730fc80-b461-4475-c1bc-b46857a55982",
        "colab": {
          "base_uri": "https://localhost:8080/",
          "height": 71
        }
      },
      "source": [
        "a[:, np.newaxis] # 1d-aray -> column vector"
      ],
      "execution_count": 144,
      "outputs": [
        {
          "output_type": "execute_result",
          "data": {
            "text/plain": [
              "array([[1],\n",
              "       [2],\n",
              "       [3]])"
            ]
          },
          "metadata": {
            "tags": []
          },
          "execution_count": 144
        }
      ]
    },
    {
      "cell_type": "markdown",
      "metadata": {
        "id": "ujpUH2xQO1GQ"
      },
      "source": [
        "* 역행렬(Inverse Matrix): 행렬 A가 정사각행렬일 때 `A @ X =  X @ A = I`을 만족하는 정사각행렬 X를 행렬 A의 역행렬이라고 함.\n",
        "* 모든 정사각행렬이 역행렬을 갖지는 않음.\n",
        "* numpy.linalg.inv() 함수"
      ]
    },
    {
      "cell_type": "code",
      "metadata": {
        "id": "mZI5Sf8nOTK8",
        "outputId": "4a61241a-8cdf-4003-a159-9e9d7f0ec610",
        "colab": {
          "base_uri": "https://localhost:8080/",
          "height": 53
        }
      },
      "source": [
        "A = np.arange(1, 5).reshape(2, 2)\n",
        "A"
      ],
      "execution_count": 146,
      "outputs": [
        {
          "output_type": "execute_result",
          "data": {
            "text/plain": [
              "array([[1, 2],\n",
              "       [3, 4]])"
            ]
          },
          "metadata": {
            "tags": []
          },
          "execution_count": 146
        }
      ]
    },
    {
      "cell_type": "code",
      "metadata": {
        "id": "u1OEs8mSQKU1",
        "outputId": "094e69b3-5e23-4608-c4b5-96f508b7ad1b",
        "colab": {
          "base_uri": "https://localhost:8080/",
          "height": 53
        }
      },
      "source": [
        "A_inv = np.linalg.inv(A)\n",
        "A_inv"
      ],
      "execution_count": 148,
      "outputs": [
        {
          "output_type": "execute_result",
          "data": {
            "text/plain": [
              "array([[-2. ,  1. ],\n",
              "       [ 1.5, -0.5]])"
            ]
          },
          "metadata": {
            "tags": []
          },
          "execution_count": 148
        }
      ]
    },
    {
      "cell_type": "code",
      "metadata": {
        "id": "Tam03a9QQPr5",
        "outputId": "ed80571c-79d1-4a44-a402-38aa9ee51020",
        "colab": {
          "base_uri": "https://localhost:8080/",
          "height": 53
        }
      },
      "source": [
        "A @ A_inv"
      ],
      "execution_count": 149,
      "outputs": [
        {
          "output_type": "execute_result",
          "data": {
            "text/plain": [
              "array([[1.0000000e+00, 0.0000000e+00],\n",
              "       [8.8817842e-16, 1.0000000e+00]])"
            ]
          },
          "metadata": {
            "tags": []
          },
          "execution_count": 149
        }
      ]
    },
    {
      "cell_type": "code",
      "metadata": {
        "id": "lYXkPzWLQhna",
        "outputId": "d6245001-3c28-4501-b3ff-eed0f4248e5e",
        "colab": {
          "base_uri": "https://localhost:8080/",
          "height": 53
        }
      },
      "source": [
        "A_inv @ A"
      ],
      "execution_count": 150,
      "outputs": [
        {
          "output_type": "execute_result",
          "data": {
            "text/plain": [
              "array([[1.00000000e+00, 0.00000000e+00],\n",
              "       [1.11022302e-16, 1.00000000e+00]])"
            ]
          },
          "metadata": {
            "tags": []
          },
          "execution_count": 150
        }
      ]
    },
    {
      "cell_type": "code",
      "metadata": {
        "id": "HVaJevq4Qi81",
        "outputId": "5fc56599-fccb-4f68-ed6d-64ece2160cd9",
        "colab": {
          "base_uri": "https://localhost:8080/",
          "height": 71
        }
      },
      "source": [
        "A = np.array([[1,2,3],\n",
        "              [4,5,6,],\n",
        "              [7,8,0]])\n",
        "A"
      ],
      "execution_count": 154,
      "outputs": [
        {
          "output_type": "execute_result",
          "data": {
            "text/plain": [
              "array([[1, 2, 3],\n",
              "       [4, 5, 6],\n",
              "       [7, 8, 0]])"
            ]
          },
          "metadata": {
            "tags": []
          },
          "execution_count": 154
        }
      ]
    },
    {
      "cell_type": "code",
      "metadata": {
        "id": "6x8eYd_tRAQX",
        "outputId": "45785cd2-4cee-4db3-d142-d82bbcfb334b",
        "colab": {
          "base_uri": "https://localhost:8080/",
          "height": 71
        }
      },
      "source": [
        "np.linalg.inv(A)"
      ],
      "execution_count": 155,
      "outputs": [
        {
          "output_type": "execute_result",
          "data": {
            "text/plain": [
              "array([[-1.77777778,  0.88888889, -0.11111111],\n",
              "       [ 1.55555556, -0.77777778,  0.22222222],\n",
              "       [-0.11111111,  0.22222222, -0.11111111]])"
            ]
          },
          "metadata": {
            "tags": []
          },
          "execution_count": 155
        }
      ]
    },
    {
      "cell_type": "markdown",
      "metadata": {
        "id": "YT37EVBDSIpH"
      },
      "source": [
        "* 행렬의 Determinant: det(A), |A|\n",
        "* numpy.linalg.det() 함수"
      ]
    },
    {
      "cell_type": "code",
      "metadata": {
        "id": "EZGX9qd2RFIu",
        "outputId": "17664a34-aa24-419a-dee7-7b452b297865",
        "colab": {
          "base_uri": "https://localhost:8080/",
          "height": 53
        }
      },
      "source": [
        "A = np.array([[1,2],\n",
        "              [3,4]])\n",
        "A"
      ],
      "execution_count": 158,
      "outputs": [
        {
          "output_type": "execute_result",
          "data": {
            "text/plain": [
              "array([[1, 2],\n",
              "       [3, 4]])"
            ]
          },
          "metadata": {
            "tags": []
          },
          "execution_count": 158
        }
      ]
    },
    {
      "cell_type": "code",
      "metadata": {
        "id": "TnHBPw1kS-ir",
        "outputId": "567bd433-a817-44e7-a4c7-01b459709f6b",
        "colab": {
          "base_uri": "https://localhost:8080/",
          "height": 35
        }
      },
      "source": [
        "np.linalg.det(A) # det = 1 * 4 - 2 * 3"
      ],
      "execution_count": 161,
      "outputs": [
        {
          "output_type": "execute_result",
          "data": {
            "text/plain": [
              "-2.0000000000000004"
            ]
          },
          "metadata": {
            "tags": []
          },
          "execution_count": 161
        }
      ]
    },
    {
      "cell_type": "code",
      "metadata": {
        "id": "R2mMMGwrTFib",
        "outputId": "2e96cf3b-d071-4454-c5cc-ba6c30ce7bf2",
        "colab": {
          "base_uri": "https://localhost:8080/",
          "height": 53
        }
      },
      "source": [
        "A = np.array([[1,2],\n",
        "              [2,4]])\n",
        "A"
      ],
      "execution_count": 162,
      "outputs": [
        {
          "output_type": "execute_result",
          "data": {
            "text/plain": [
              "array([[1, 2],\n",
              "       [2, 4]])"
            ]
          },
          "metadata": {
            "tags": []
          },
          "execution_count": 162
        }
      ]
    },
    {
      "cell_type": "code",
      "metadata": {
        "id": "ukXXjWx2T9Ro",
        "outputId": "079b27d0-37da-424a-d416-6f39eeaa5f1f",
        "colab": {
          "base_uri": "https://localhost:8080/",
          "height": 35
        }
      },
      "source": [
        "np.linalg.det(A) # det=0이면, 역행렬이 존재하지 않음 -> Singular matrix"
      ],
      "execution_count": 163,
      "outputs": [
        {
          "output_type": "execute_result",
          "data": {
            "text/plain": [
              "0.0"
            ]
          },
          "metadata": {
            "tags": []
          },
          "execution_count": 163
        }
      ]
    },
    {
      "cell_type": "code",
      "metadata": {
        "id": "lrvDuHLVT-rN",
        "outputId": "ae891322-a466-4661-941b-e9d2299c116d",
        "colab": {
          "base_uri": "https://localhost:8080/",
          "height": 35
        }
      },
      "source": [
        "A = np.array([[1,2,3,],\n",
        "              [4,5,6],\n",
        "              [7,8,9]])\n",
        "np.linalg.det(A)"
      ],
      "execution_count": 164,
      "outputs": [
        {
          "output_type": "execute_result",
          "data": {
            "text/plain": [
              "0.0"
            ]
          },
          "metadata": {
            "tags": []
          },
          "execution_count": 164
        }
      ]
    },
    {
      "cell_type": "markdown",
      "metadata": {
        "id": "B6f0Y5Xubm9O"
      },
      "source": [
        "* 선형 회귀(Linear Regression)에서 선형 대수 응용."
      ]
    },
    {
      "cell_type": "code",
      "metadata": {
        "id": "BF7QSpybUx-c",
        "outputId": "e71521b5-16f8-44ae-9b71-ddd485075af0",
        "colab": {
          "base_uri": "https://localhost:8080/",
          "height": 71
        }
      },
      "source": [
        "x = np.array([1, 2, 3]).reshape((3,1))\n",
        "x"
      ],
      "execution_count": 165,
      "outputs": [
        {
          "output_type": "execute_result",
          "data": {
            "text/plain": [
              "array([[1],\n",
              "       [2],\n",
              "       [3]])"
            ]
          },
          "metadata": {
            "tags": []
          },
          "execution_count": 165
        }
      ]
    },
    {
      "cell_type": "code",
      "metadata": {
        "id": "oaExeX5LdBON",
        "outputId": "7302eb05-757c-4076-c62c-d09e8b3e1f38",
        "colab": {
          "base_uri": "https://localhost:8080/",
          "height": 71
        }
      },
      "source": [
        "y = np.array([3, 5, 7]).reshape((3,1))\n",
        "y"
      ],
      "execution_count": 166,
      "outputs": [
        {
          "output_type": "execute_result",
          "data": {
            "text/plain": [
              "array([[3],\n",
              "       [5],\n",
              "       [7]])"
            ]
          },
          "metadata": {
            "tags": []
          },
          "execution_count": 166
        }
      ]
    },
    {
      "cell_type": "markdown",
      "metadata": {
        "id": "AtVFPzRUdbaT"
      },
      "source": [
        "```\n",
        "3 = a * 1 + b\n",
        "5 = a * 2 + b\n",
        "7 = a * 3 + b\n",
        "```\n",
        "목적: a와 b를 찾는다."
      ]
    },
    {
      "cell_type": "code",
      "metadata": {
        "id": "ckgIC3wAdGjT",
        "outputId": "db984fc8-cd23-47e3-d02c-f2e8c42c5b7f",
        "colab": {
          "base_uri": "https://localhost:8080/",
          "height": 53
        }
      },
      "source": [
        "w = np.array([2, 1]).reshape(2,1)\n",
        "w"
      ],
      "execution_count": 170,
      "outputs": [
        {
          "output_type": "execute_result",
          "data": {
            "text/plain": [
              "array([[2],\n",
              "       [1]])"
            ]
          },
          "metadata": {
            "tags": []
          },
          "execution_count": 170
        }
      ]
    },
    {
      "cell_type": "code",
      "metadata": {
        "id": "FJpu9P75fUP1",
        "outputId": "df7f427f-5f11-4a4f-e7c7-a0d69013efe6",
        "colab": {
          "base_uri": "https://localhost:8080/",
          "height": 71
        }
      },
      "source": [
        "X = np.c_[x, np.ones(shape=(3,1))]\n",
        "X"
      ],
      "execution_count": 171,
      "outputs": [
        {
          "output_type": "execute_result",
          "data": {
            "text/plain": [
              "array([[1., 1.],\n",
              "       [2., 1.],\n",
              "       [3., 1.]])"
            ]
          },
          "metadata": {
            "tags": []
          },
          "execution_count": 171
        }
      ]
    },
    {
      "cell_type": "code",
      "metadata": {
        "id": "wMpX06s8fUiM",
        "outputId": "e598cc52-75ea-4da0-f92d-26d83684203d",
        "colab": {
          "base_uri": "https://localhost:8080/",
          "height": 71
        }
      },
      "source": [
        "X @ w"
      ],
      "execution_count": 172,
      "outputs": [
        {
          "output_type": "execute_result",
          "data": {
            "text/plain": [
              "array([[3.],\n",
              "       [5.],\n",
              "       [7.]])"
            ]
          },
          "metadata": {
            "tags": []
          },
          "execution_count": 172
        }
      ]
    },
    {
      "cell_type": "code",
      "metadata": {
        "id": "y-1Fc6o9fxrh",
        "outputId": "210ebf84-b40a-4331-c606-c8326bf8a889",
        "colab": {
          "base_uri": "https://localhost:8080/",
          "height": 53
        }
      },
      "source": [
        "w2 = np.linalg.inv(X.T @ X) @ X.T @ y # 정규 방정식(normal equation)\n",
        "w2"
      ],
      "execution_count": 184,
      "outputs": [
        {
          "output_type": "execute_result",
          "data": {
            "text/plain": [
              "array([[2.],\n",
              "       [1.]])"
            ]
          },
          "metadata": {
            "tags": []
          },
          "execution_count": 184
        }
      ]
    },
    {
      "cell_type": "code",
      "metadata": {
        "id": "6I9sdMNOgj31"
      },
      "source": [
        "x = 3 * np.random.rand(100, 1) # (100 ,1) column vector\n",
        "y = 4 + 3 * x + np.random.randn(100, 1) # (100 ,1) column vector"
      ],
      "execution_count": 196,
      "outputs": []
    },
    {
      "cell_type": "markdown",
      "metadata": {
        "id": "AbPljoFKoDe5"
      },
      "source": [
        "1. y ~ x scatter plot을 그리세요\n",
        "2. 데이터 x, y를 y = theta0 + theta1*x 선형 회귀 방정식으로 설명하려고 할 때, theta0와 theta1을 정규 방정식으로 찾으시에요.\n",
        "3. scatter plot에 선형 회귀 방정식을 1번의 직선을 추가해서 그리세요."
      ]
    },
    {
      "cell_type": "code",
      "metadata": {
        "id": "Qg3SaowzgmKI",
        "outputId": "e1015a0f-11b4-4ebd-acad-62b382294109",
        "colab": {
          "base_uri": "https://localhost:8080/",
          "height": 265
        }
      },
      "source": [
        "plt.scatter(x=x, y=y)\n",
        "plt.show()"
      ],
      "execution_count": 197,
      "outputs": [
        {
          "output_type": "display_data",
          "data": {
            "image/png": "[encoded data removed]",
            "text/plain": [
              "<Figure size 432x288 with 1 Axes>"
            ]
          },
          "metadata": {
            "tags": [],
            "needs_background": "light"
          }
        }
      ]
    },
    {
      "cell_type": "code",
      "metadata": {
        "id": "3OoiqEDvp6HI",
        "outputId": "d1eacc5d-c2a3-44ad-e062-addf0c916043",
        "colab": {
          "base_uri": "https://localhost:8080/",
          "height": 35
        }
      },
      "source": [
        "X = np.c_[x, np.ones((100,1))]\n",
        "X.shape"
      ],
      "execution_count": 209,
      "outputs": [
        {
          "output_type": "execute_result",
          "data": {
            "text/plain": [
              "(100, 2)"
            ]
          },
          "metadata": {
            "tags": []
          },
          "execution_count": 209
        }
      ]
    },
    {
      "cell_type": "code",
      "metadata": {
        "id": "l_NYFtYqoehZ",
        "outputId": "34c3bbc9-2dac-455c-f85a-fd68d0508868",
        "colab": {
          "base_uri": "https://localhost:8080/",
          "height": 35
        }
      },
      "source": [
        "w = np.linalg.inv(X.T @ X) @ X.T @ y\n",
        "w.shape"
      ],
      "execution_count": 221,
      "outputs": [
        {
          "output_type": "execute_result",
          "data": {
            "text/plain": [
              "(2, 1)"
            ]
          },
          "metadata": {
            "tags": []
          },
          "execution_count": 221
        }
      ]
    },
    {
      "cell_type": "code",
      "metadata": {
        "id": "rxnNyz6PpCYH",
        "outputId": "7ffbdaa1-ab74-4df2-d081-a06ea242f79b",
        "colab": {
          "base_uri": "https://localhost:8080/",
          "height": 35
        }
      },
      "source": [
        "pred_y = X @ w\n",
        "pred_y.shape"
      ],
      "execution_count": 223,
      "outputs": [
        {
          "output_type": "execute_result",
          "data": {
            "text/plain": [
              "(100, 1)"
            ]
          },
          "metadata": {
            "tags": []
          },
          "execution_count": 223
        }
      ]
    },
    {
      "cell_type": "code",
      "metadata": {
        "id": "JX9HXZxUqOPE",
        "outputId": "7cf38224-4fcf-4264-dbd0-e3bea83370bd",
        "colab": {
          "base_uri": "https://localhost:8080/",
          "height": 265
        }
      },
      "source": [
        "plt.scatter(x=x, y=y)\n",
        "plt.plot(x, pred_y, color='red')\n",
        "plt.show()"
      ],
      "execution_count": 231,
      "outputs": [
        {
          "output_type": "display_data",
          "data": {
            "image/png": "[encoded data removed]",
            "text/plain": [
              "<Figure size 432x288 with 1 Axes>"
            ]
          },
          "metadata": {
            "tags": [],
            "needs_background": "light"
          }
        }
      ]
    },
    {
      "cell_type": "code",
      "metadata": {
        "id": "XnIxTQ9dsEb8"
      },
      "source": [
        ""
      ],
      "execution_count": null,
      "outputs": []
    }
  ]
}