{
  "nbformat": 4,
  "nbformat_minor": 0,
  "metadata": {
    "colab": {
      "name": "ml05_linear_regression.ipynb",
      "provenance": [],
      "collapsed_sections": [],
      "authorship_tag": "ABX9TyO/90hDp70DumdRPNRfbvHm",
      "include_colab_link": true
    },
    "kernelspec": {
      "name": "python3",
      "display_name": "Python 3"
    }
  },
  "cells": [
    {
      "cell_type": "markdown",
      "metadata": {
        "id": "view-in-github",
        "colab_type": "text"
      },
      "source": [
        "<a href=\"https://colab.research.google.com/github/JisungPark0319/education/blob/main/lab_ml/ml05_linear_regression.ipynb\" target=\"_parent\"><img src=\"https://colab.research.google.com/assets/colab-badge.svg\" alt=\"Open In Colab\"/></a>"
      ]
    },
    {
      "cell_type": "code",
      "metadata": {
        "id": "EUUTxOoenbid"
      },
      "source": [
        "import numpy as np\n",
        "import matplotlib.pyplot as plt\n",
        "import pandas as pd"
      ],
      "execution_count": 1,
      "outputs": []
    },
    {
      "cell_type": "code",
      "metadata": {
        "id": "41tRdrePnsFM",
        "outputId": "9bb453ac-c0fe-474b-e7e1-56c00dc82385",
        "colab": {
          "base_uri": "https://localhost:8080/",
          "height": 35
        }
      },
      "source": [
        "X = np.arange(0, 3).reshape((3,1))\n",
        "y = 4 + 3 * X + np.random.randn(3,1)\n",
        "\n",
        "X.shape, y.shape"
      ],
      "execution_count": 8,
      "outputs": [
        {
          "output_type": "execute_result",
          "data": {
            "text/plain": [
              "((3, 1), (3, 1))"
            ]
          },
          "metadata": {
            "tags": []
          },
          "execution_count": 8
        }
      ]
    },
    {
      "cell_type": "code",
      "metadata": {
        "id": "K2_xKjSwqWp9",
        "outputId": "714aefeb-c157-4969-8a48-b887e8325964",
        "colab": {
          "base_uri": "https://localhost:8080/",
          "height": 125
        }
      },
      "source": [
        "print(X)\n",
        "print(y)"
      ],
      "execution_count": 10,
      "outputs": [
        {
          "output_type": "stream",
          "text": [
            "[[0]\n",
            " [1]\n",
            " [2]]\n",
            "[[2.31121717]\n",
            " [6.19473979]\n",
            " [9.04409782]]\n"
          ],
          "name": "stdout"
        }
      ]
    },
    {
      "cell_type": "code",
      "metadata": {
        "id": "QFjslkMvn74B",
        "outputId": "bc659dd3-5408-4f71-92e2-039663716e4d",
        "colab": {
          "base_uri": "https://localhost:8080/",
          "height": 265
        }
      },
      "source": [
        "plt.scatter(X, y)\n",
        "plt.grid()"
      ],
      "execution_count": 9,
      "outputs": [
        {
          "output_type": "display_data",
          "data": {
            "image/png": "[encoded data removed]",
            "text/plain": [
              "<Figure size 432x288 with 1 Axes>"
            ]
          },
          "metadata": {
            "tags": [],
            "needs_background": "light"
          }
        }
      ]
    },
    {
      "cell_type": "code",
      "metadata": {
        "id": "NBcUNcpioS5x",
        "outputId": "a7afa435-b466-441a-fc01-14b63e5b1a45",
        "colab": {
          "base_uri": "https://localhost:8080/",
          "height": 71
        }
      },
      "source": [
        "X_b = np.c_[np.ones(shape=(3,1)), X]\n",
        "X_b"
      ],
      "execution_count": 12,
      "outputs": [
        {
          "output_type": "execute_result",
          "data": {
            "text/plain": [
              "array([[1., 0.],\n",
              "       [1., 1.],\n",
              "       [1., 2.]])"
            ]
          },
          "metadata": {
            "tags": []
          },
          "execution_count": 12
        }
      ]
    },
    {
      "cell_type": "code",
      "metadata": {
        "id": "21ngph86rYaS",
        "outputId": "62a31889-a5ac-49b5-eefd-59b216e88b41",
        "colab": {
          "base_uri": "https://localhost:8080/",
          "height": 53
        }
      },
      "source": [
        "# MSE를 최소화하는 [b0, b1]을 찾는 게 선형회귀의 목적.\n",
        "# [b0, b1]을 찾는 방법 1: 정규 방정식(normal equation)\n",
        "theta_best = np.linalg.inv(X_b.T @ X_b) @ X_b.T @ y\n",
        "theta_best #> [[y절편], [기울기]]"
      ],
      "execution_count": 14,
      "outputs": [
        {
          "output_type": "execute_result",
          "data": {
            "text/plain": [
              "array([[2.48357793],\n",
              "       [3.36644033]])"
            ]
          },
          "metadata": {
            "tags": []
          },
          "execution_count": 14
        }
      ]
    },
    {
      "cell_type": "code",
      "metadata": {
        "id": "WdU7tiwYtFJL",
        "outputId": "86843974-9e65-4395-9762-072901d8768e",
        "colab": {
          "base_uri": "https://localhost:8080/",
          "height": 71
        }
      },
      "source": [
        "y_pred = X_b @ theta_best\n",
        "y_pred"
      ],
      "execution_count": 16,
      "outputs": [
        {
          "output_type": "execute_result",
          "data": {
            "text/plain": [
              "array([[2.48357793],\n",
              "       [5.85001826],\n",
              "       [9.21645859]])"
            ]
          },
          "metadata": {
            "tags": []
          },
          "execution_count": 16
        }
      ]
    },
    {
      "cell_type": "code",
      "metadata": {
        "id": "KTLKOLhbt2ag",
        "outputId": "6ce32e45-61af-4fd5-b978-2c9f9c3a967c",
        "colab": {
          "base_uri": "https://localhost:8080/",
          "height": 265
        }
      },
      "source": [
        "plt.scatter(X, y)\n",
        "plt.plot(X, y_pred, 'r-')\n",
        "plt.grid()\n",
        "plt.show()"
      ],
      "execution_count": 17,
      "outputs": [
        {
          "output_type": "display_data",
          "data": {
            "image/png": "[encoded data removed]",
            "text/plain": [
              "<Figure size 432x288 with 1 Axes>"
            ]
          },
          "metadata": {
            "tags": [],
            "needs_background": "light"
          }
        }
      ]
    },
    {
      "cell_type": "code",
      "metadata": {
        "id": "jXF73B89ufIA"
      },
      "source": [
        "from sklearn.linear_model import LinearRegression"
      ],
      "execution_count": 18,
      "outputs": []
    },
    {
      "cell_type": "code",
      "metadata": {
        "id": "lL8Z9RT7zBhb",
        "outputId": "55668307-612a-4c33-80a9-af5706867f2d",
        "colab": {
          "base_uri": "https://localhost:8080/",
          "height": 35
        }
      },
      "source": [
        "lin_reg = LinearRegression()\n",
        "lin_reg.fit(X, y) # fit: 선형 회귀 방정식의 절편(intercept)과 기울기(coefficient)들을 찾는 과정.\n",
        "lin_reg.intercept_, lin_reg.coef_"
      ],
      "execution_count": 20,
      "outputs": [
        {
          "output_type": "execute_result",
          "data": {
            "text/plain": [
              "(array([2.48357793]), array([[3.36644033]]))"
            ]
          },
          "metadata": {
            "tags": []
          },
          "execution_count": 20
        }
      ]
    },
    {
      "cell_type": "markdown",
      "metadata": {
        "id": "fnU-vUKG0UN8"
      },
      "source": [
        "# Gradient Descent(경사 하강법)\n"
      ]
    },
    {
      "cell_type": "code",
      "metadata": {
        "id": "NJKsP0eYzGqA",
        "outputId": "43fe160a-5e1f-44b9-e91b-a90445c6ca87",
        "colab": {
          "base_uri": "https://localhost:8080/",
          "height": 265
        }
      },
      "source": [
        "X = np.linspace(start=-5, stop=5, num=100)\n",
        "y = X ** 2\n",
        "\n",
        "plt.plot(X, y)\n",
        "plt.grid()"
      ],
      "execution_count": 23,
      "outputs": [
        {
          "output_type": "display_data",
          "data": {
            "image/png": "[encoded data removed]",
            "text/plain": [
              "<Figure size 432x288 with 1 Axes>"
            ]
          },
          "metadata": {
            "tags": [],
            "needs_background": "light"
          }
        }
      ]
    },
    {
      "cell_type": "markdown",
      "metadata": {
        "id": "IHCgmMfWNDSG"
      },
      "source": [
        "# 기울기"
      ]
    },
    {
      "cell_type": "code",
      "metadata": {
        "id": "Z7ZeXkwT34Qq",
        "outputId": "49e13e9e-c4ff-4d51-f90b-d7ccbb1335ad",
        "colab": {
          "base_uri": "https://localhost:8080/",
          "height": 265
        }
      },
      "source": [
        "# 기울기: (y의 증가분) / (x의 증가분)\n",
        "pt1 = [1, 1]\n",
        "pt2 = [3, 5]\n",
        "\n",
        "plt.scatter([pt1[0], pt2[0]], [pt1[1], pt2[1]])\n",
        "plt.grid()"
      ],
      "execution_count": 28,
      "outputs": [
        {
          "output_type": "display_data",
          "data": {
            "image/png": "[encoded data removed]",
            "text/plain": [
              "<Figure size 432x288 with 1 Axes>"
            ]
          },
          "metadata": {
            "tags": [],
            "needs_background": "light"
          }
        }
      ]
    },
    {
      "cell_type": "code",
      "metadata": {
        "id": "efXX9LYzNVFd",
        "outputId": "1ddb9b30-e0f4-4ae4-bad9-beb1e85d27e7",
        "colab": {
          "base_uri": "https://localhost:8080/",
          "height": 35
        }
      },
      "source": [
        "delta_y = pt2[1] - pt1[1] # y 증가(감소)분\n",
        "delta_x = pt2[0] - pt1[0] # x 증가(감소)분\n",
        "slope = delta_y / delta_x\n",
        "slope"
      ],
      "execution_count": 29,
      "outputs": [
        {
          "output_type": "execute_result",
          "data": {
            "text/plain": [
              "2.0"
            ]
          },
          "metadata": {
            "tags": []
          },
          "execution_count": 29
        }
      ]
    },
    {
      "cell_type": "code",
      "metadata": {
        "id": "NuiXuFz9OVqm"
      },
      "source": [
        "def gradient(fn, x, h=0.001):\n",
        "  return ( (fn(x + h) - fn(x)) / h )"
      ],
      "execution_count": 37,
      "outputs": []
    },
    {
      "cell_type": "code",
      "metadata": {
        "id": "Fh2N3M5TQo_X"
      },
      "source": [
        "def square(x):\n",
        "  return x**2"
      ],
      "execution_count": 38,
      "outputs": []
    },
    {
      "cell_type": "code",
      "metadata": {
        "id": "ZPvwTWRCRemp",
        "outputId": "2506912f-61eb-4d86-f1bc-b410cf7bb573",
        "colab": {
          "base_uri": "https://localhost:8080/",
          "height": 35
        }
      },
      "source": [
        "# y = x**2 그래프에서 x=4에서의 접선의 기울기(gradient)\n",
        "gradient(fn=square, x=4)"
      ],
      "execution_count": 39,
      "outputs": [
        {
          "output_type": "execute_result",
          "data": {
            "text/plain": [
              "8.0010000000037"
            ]
          },
          "metadata": {
            "tags": []
          },
          "execution_count": 39
        }
      ]
    },
    {
      "cell_type": "code",
      "metadata": {
        "id": "odHndVNcRjVE",
        "outputId": "63b8f4df-5c72-44e8-e254-3a122d6cef5c",
        "colab": {
          "base_uri": "https://localhost:8080/",
          "height": 35
        }
      },
      "source": [
        "gradient(fn=square, x=-2)"
      ],
      "execution_count": 40,
      "outputs": [
        {
          "output_type": "execute_result",
          "data": {
            "text/plain": [
              "-3.9989999999994197"
            ]
          },
          "metadata": {
            "tags": []
          },
          "execution_count": 40
        }
      ]
    },
    {
      "cell_type": "code",
      "metadata": {
        "id": "Av2YvO7QSk5t",
        "outputId": "f74c74fe-ce04-4c9c-a343-7cb496925068",
        "colab": {
          "base_uri": "https://localhost:8080/",
          "height": 35
        }
      },
      "source": [
        "gradient(fn=square, x=2)"
      ],
      "execution_count": 41,
      "outputs": [
        {
          "output_type": "execute_result",
          "data": {
            "text/plain": [
              "4.000999999999699"
            ]
          },
          "metadata": {
            "tags": []
          },
          "execution_count": 41
        }
      ]
    },
    {
      "cell_type": "markdown",
      "metadata": {
        "id": "47u9ZyeaU15D"
      },
      "source": [
        "## 경사 하강법\n",
        "1. 임의의 점(x_init)을 선택\n",
        "2. 그 점에서의 gradient(기울기)를 계산\n",
        "3. 선택한 임의의 점을 이동: x_new = x_init - eta * gradient\n",
        "4. 2 ~ 3의 과정을 반복.\n",
        "* eta: 양수(eta > 0). 학습률(learning rate). eta가 크면 최솟값으로 빨리 수렴, 작으면 느리게 수렴.\n"
      ]
    },
    {
      "cell_type": "code",
      "metadata": {
        "id": "F-S3bxrSWIk3"
      },
      "source": [
        "def plot_function(fn):\n",
        "  X = np.linspace(start=-5, stop=5, num=100)\n",
        "  y = fn(X)\n",
        "  plt.plot(X, y, '-')"
      ],
      "execution_count": 50,
      "outputs": []
    },
    {
      "cell_type": "code",
      "metadata": {
        "id": "78ldqdEVWWGd",
        "outputId": "57497fc5-bdca-4623-dd52-0af949de8115",
        "colab": {
          "base_uri": "https://localhost:8080/",
          "height": 265
        }
      },
      "source": [
        "def plot_gradient_descent(fn, x_init, niterations=5, eta=0.1):\n",
        "  plot_function(fn)\n",
        "\n",
        "  y_init = fn(x_init)\n",
        "  plt.scatter(x_init, y_init, label='0', color='red')\n",
        "\n",
        "  for epoch in range(niterations):\n",
        "    x_new = x_init - eta*gradient(fn, x_init)\n",
        "    y_new = fn(x_new)\n",
        "    plt.scatter(x_new, y_new, label=(epoch+1))\n",
        "    x_init = x_new\n",
        "  plt.grid()\n",
        "  plt.legend()\n",
        "\n",
        "plot_gradient_descent(square, -4, 10)"
      ],
      "execution_count": 66,
      "outputs": [
        {
          "output_type": "display_data",
          "data": {
            "image/png": "[encoded data removed]",
            "text/plain": [
              "<Figure size 432x288 with 1 Axes>"
            ]
          },
          "metadata": {
            "tags": [],
            "needs_background": "light"
          }
        }
      ]
    },
    {
      "cell_type": "code",
      "metadata": {
        "id": "DD8AFnEIWfdD",
        "outputId": "10994a80-846d-4c8c-9469-a135d4a4c60a",
        "colab": {
          "base_uri": "https://localhost:8080/",
          "height": 265
        }
      },
      "source": [
        "plot_gradient_descent(square, -4, 10, 0.01)"
      ],
      "execution_count": 74,
      "outputs": [
        {
          "output_type": "display_data",
          "data": {
            "image/png": "[encoded data removed]",
            "text/plain": [
              "<Figure size 432x288 with 1 Axes>"
            ]
          },
          "metadata": {
            "tags": [],
            "needs_background": "light"
          }
        }
      ]
    },
    {
      "cell_type": "code",
      "metadata": {
        "id": "WwZ94pfiejob",
        "outputId": "765d6bf7-11f9-4cc2-8cda-6be77c5adf25",
        "colab": {
          "base_uri": "https://localhost:8080/",
          "height": 265
        }
      },
      "source": [
        "plot_gradient_descent(square, -4, 10, 0.8)"
      ],
      "execution_count": 75,
      "outputs": [
        {
          "output_type": "display_data",
          "data": {
            "image/png": "[encoded data removed]",
            "text/plain": [
              "<Figure size 432x288 with 1 Axes>"
            ]
          },
          "metadata": {
            "tags": [],
            "needs_background": "light"
          }
        }
      ]
    },
    {
      "cell_type": "markdown",
      "metadata": {
        "id": "6MV5orrJgNpO"
      },
      "source": [
        "# 경사하강법을 사용한 선형회귀 방정식의 절편, 기울기 찾기: y = b0 + b1 * x\n",
        "* 선형 회귀 방정식 'y = b0 + b1 * x'\n",
        "* 절편(intercept, bias 편향): 'b0'\n",
        "* 기울기(coefficient): 'b1'"
      ]
    },
    {
      "cell_type": "code",
      "metadata": {
        "id": "ya44Nz7zfBo7"
      },
      "source": [
        "np.random.seed(1)\n",
        "X = np.arange(0, 3).reshape((3,1))\n",
        "y =  4 + 3 * X + np.random.randn(3, 1)"
      ],
      "execution_count": 83,
      "outputs": []
    },
    {
      "cell_type": "code",
      "metadata": {
        "id": "TEA8MGhShOqN",
        "outputId": "e4f7aec5-9ee6-444a-96e6-dfc192398969",
        "colab": {
          "base_uri": "https://localhost:8080/",
          "height": 71
        }
      },
      "source": [
        "X"
      ],
      "execution_count": 84,
      "outputs": [
        {
          "output_type": "execute_result",
          "data": {
            "text/plain": [
              "array([[0],\n",
              "       [1],\n",
              "       [2]])"
            ]
          },
          "metadata": {
            "tags": []
          },
          "execution_count": 84
        }
      ]
    },
    {
      "cell_type": "code",
      "metadata": {
        "id": "x-mU3bsahaWs",
        "outputId": "d751ac35-4c9a-4458-bbbd-8dc9ef68d5d4",
        "colab": {
          "base_uri": "https://localhost:8080/",
          "height": 71
        }
      },
      "source": [
        "y"
      ],
      "execution_count": 85,
      "outputs": [
        {
          "output_type": "execute_result",
          "data": {
            "text/plain": [
              "array([[5.62434536],\n",
              "       [6.38824359],\n",
              "       [9.47182825]])"
            ]
          },
          "metadata": {
            "tags": []
          },
          "execution_count": 85
        }
      ]
    },
    {
      "cell_type": "code",
      "metadata": {
        "id": "rbL7BnCIkm-A",
        "outputId": "0b8e13d3-4fa6-47e3-b4c0-128d2fca20f8",
        "colab": {
          "base_uri": "https://localhost:8080/",
          "height": 71
        }
      },
      "source": [
        "X_b = np.c_[np.ones(shape=(3,1)), X]\n",
        "X_b"
      ],
      "execution_count": 87,
      "outputs": [
        {
          "output_type": "execute_result",
          "data": {
            "text/plain": [
              "array([[1., 0.],\n",
              "       [1., 1.],\n",
              "       [1., 2.]])"
            ]
          },
          "metadata": {
            "tags": []
          },
          "execution_count": 87
        }
      ]
    },
    {
      "cell_type": "code",
      "metadata": {
        "id": "ANxYedvAt4_c",
        "outputId": "7e0ca57a-1c32-4c56-8dc6-7c4aac69b441",
        "colab": {
          "base_uri": "https://localhost:8080/",
          "height": 53
        }
      },
      "source": [
        "X_b.T"
      ],
      "execution_count": 95,
      "outputs": [
        {
          "output_type": "execute_result",
          "data": {
            "text/plain": [
              "array([[1., 1., 1.],\n",
              "       [0., 1., 2.]])"
            ]
          },
          "metadata": {
            "tags": []
          },
          "execution_count": 95
        }
      ]
    },
    {
      "cell_type": "code",
      "metadata": {
        "id": "yJqIJJsglMcC",
        "outputId": "65693daa-c081-4759-b39c-1b3c7f16f086",
        "colab": {
          "base_uri": "https://localhost:8080/",
          "height": 265
        }
      },
      "source": [
        "plt.scatter(X, y)\n",
        "plt.grid()"
      ],
      "execution_count": 89,
      "outputs": [
        {
          "output_type": "display_data",
          "data": {
            "image/png": "[encoded data removed]",
            "text/plain": [
              "<Figure size 432x288 with 1 Axes>"
            ]
          },
          "metadata": {
            "tags": [],
            "needs_background": "light"
          }
        }
      ]
    },
    {
      "cell_type": "code",
      "metadata": {
        "id": "z7yyUEbnprci",
        "outputId": "a8eb8bb5-b7f2-4a64-a5df-8270f3a75c8f",
        "colab": {
          "base_uri": "https://localhost:8080/",
          "height": 337
        }
      },
      "source": [
        "eta = 0.1 # 학습률(learnig rate)\n",
        "m = 3 # 샘플 개수\n",
        "n_iterations = 10 # 반복 횟수\n",
        "np.random.seed(1)\n",
        "theta = np.random.rand(2, 1) # [[b0], [b1]] 초깃값 - 난수 사용\n",
        "print(theta)\n",
        "plt.scatter(X, y)\n",
        "for epoch in range(n_iterations):\n",
        "  gradient = (2/m) * X_b.T @ (X_b @ theta - y)\n",
        "  theta = theta - eta * gradient\n",
        "  y_pred = X_b @ theta\n",
        "  plt.plot(X, y_pred, 'r-')\n",
        "\n",
        "plt.grid()\n",
        "print(theta)"
      ],
      "execution_count": 116,
      "outputs": [
        {
          "output_type": "stream",
          "text": [
            "[[0.417022  ]\n",
            " [0.72032449]]\n",
            "[[3.76988582]\n",
            " [2.97460784]]\n"
          ],
          "name": "stdout"
        },
        {
          "output_type": "display_data",
          "data": {
            "image/png": "[encoded data removed]",
            "text/plain": [
              "<Figure size 432x288 with 1 Axes>"
            ]
          },
          "metadata": {
            "tags": [],
            "needs_background": "light"
          }
        }
      ]
    },
    {
      "cell_type": "code",
      "metadata": {
        "id": "oy-Q3o8py6t3",
        "outputId": "2f15cd5f-be0d-4c08-ab1d-101055cdd03c",
        "colab": {
          "base_uri": "https://localhost:8080/",
          "height": 265
        }
      },
      "source": [
        "y_pred = X_b @ theta\n",
        "\n",
        "plt.scatter(X, y)\n",
        "plt.plot(X, y_pred, 'r-')\n",
        "plt.grid()"
      ],
      "execution_count": 114,
      "outputs": [
        {
          "output_type": "display_data",
          "data": {
            "image/png": "[encoded data removed]",
            "text/plain": [
              "<Figure size 432x288 with 1 Axes>"
            ]
          },
          "metadata": {
            "tags": [],
            "needs_background": "light"
          }
        }
      ]
    },
    {
      "cell_type": "code",
      "metadata": {
        "id": "YW7irJT1v4Xo",
        "outputId": "0f418b51-b7dc-4487-bf09-cc041b046bcf",
        "colab": {
          "base_uri": "https://localhost:8080/",
          "height": 181
        }
      },
      "source": [
        "from sklearn.linear_model import SGDRegressor\n",
        "sgd_reg =SGDRegressor(eta0=0.1)\n",
        "sgd_reg.fit(X, y)\n",
        "# fit: MSE를 최소화하는 절편 b0와 계수 b1을 찾음."
      ],
      "execution_count": 107,
      "outputs": [
        {
          "output_type": "stream",
          "text": [
            "/usr/local/lib/python3.6/dist-packages/sklearn/utils/validation.py:760: DataConversionWarning: A column-vector y was passed when a 1d array was expected. Please change the shape of y to (n_samples, ), for example using ravel().\n",
            "  y = column_or_1d(y, warn=True)\n"
          ],
          "name": "stderr"
        },
        {
          "output_type": "execute_result",
          "data": {
            "text/plain": [
              "SGDRegressor(alpha=0.0001, average=False, early_stopping=False, epsilon=0.1,\n",
              "             eta0=0.1, fit_intercept=True, l1_ratio=0.15,\n",
              "             learning_rate='invscaling', loss='squared_loss', max_iter=1000,\n",
              "             n_iter_no_change=5, penalty='l2', power_t=0.25, random_state=None,\n",
              "             shuffle=True, tol=0.001, validation_fraction=0.1, verbose=0,\n",
              "             warm_start=False)"
            ]
          },
          "metadata": {
            "tags": []
          },
          "execution_count": 107
        }
      ]
    },
    {
      "cell_type": "code",
      "metadata": {
        "id": "II3kqCK-wZrR",
        "outputId": "26b18c26-f854-42ef-d001-1f542ff1b80f",
        "colab": {
          "base_uri": "https://localhost:8080/",
          "height": 35
        }
      },
      "source": [
        "sgd_reg.intercept_, sgd_reg.coef_\n",
        "# y = inter + coef * x"
      ],
      "execution_count": 110,
      "outputs": [
        {
          "output_type": "execute_result",
          "data": {
            "text/plain": [
              "(array([4.97269462]), array([2.12148333]))"
            ]
          },
          "metadata": {
            "tags": []
          },
          "execution_count": 110
        }
      ]
    },
    {
      "cell_type": "markdown",
      "metadata": {
        "id": "E9OzXD954PHZ"
      },
      "source": [
        "## 확률적 경사 하강법(Stochastic Gradient Descent)"
      ]
    },
    {
      "cell_type": "code",
      "metadata": {
        "id": "dHrvCzSVwcU2",
        "outputId": "5418fdbf-3e8a-4612-be21-d77d21f417ff",
        "colab": {
          "base_uri": "https://localhost:8080/",
          "height": 35
        }
      },
      "source": [
        "np.random.seed(1)\n",
        "\n",
        "m = 100 # 샘플 개수\n",
        "X = 2 * np.random.rand(m, 1) # (m, 1) shape의 2d array\n",
        "y = 4 + 3 * X + np.random.randn(m, 1)\n",
        "\n",
        "X.shape, y.shape"
      ],
      "execution_count": 118,
      "outputs": [
        {
          "output_type": "execute_result",
          "data": {
            "text/plain": [
              "((100, 1), (100, 1))"
            ]
          },
          "metadata": {
            "tags": []
          },
          "execution_count": 118
        }
      ]
    },
    {
      "cell_type": "code",
      "metadata": {
        "id": "I6bG_KXKwf1e",
        "outputId": "c116b2a0-b18c-4976-9213-88f7185ff622",
        "colab": {
          "base_uri": "https://localhost:8080/",
          "height": 265
        }
      },
      "source": [
        "plt.scatter(X, y)\n",
        "plt.grid()"
      ],
      "execution_count": 119,
      "outputs": [
        {
          "output_type": "display_data",
          "data": {
            "image/png": "[encoded data removed]",
            "text/plain": [
              "<Figure size 432x288 with 1 Axes>"
            ]
          },
          "metadata": {
            "tags": [],
            "needs_background": "light"
          }
        }
      ]
    },
    {
      "cell_type": "code",
      "metadata": {
        "id": "DZGzfaHL5xWw",
        "outputId": "8a27778f-c671-4881-d1e9-c90c6fcc90d2",
        "colab": {
          "base_uri": "https://localhost:8080/",
          "height": 89
        }
      },
      "source": [
        "X_b = np.c_[np.ones(shape=(m,1)), X] # bias가 추가된 샘플 행렬\n",
        "theta = np.random.randn(2, 1) # 선형 회귀 방정식의 계수들 초깃값 - 난수 사용.\n",
        "print(theta)\n",
        "\n",
        "eta = 0.01\n",
        "n_iterations = 1000 # 전체 반복 횟수(모든 샘플에서 gradient가 갱신되는 횟수)\n",
        "for epoch in range(n_iterations):\n",
        "  for i in range(m): # 샘플 개수 만큼 반복\n",
        "    random_index = np.random.randint(m)  # 0 ~ m사이의 정수 중 난수 선택.\n",
        "    xi = X_b[random_index:random_index + 1] # [[1, x]]: gradient를 계산할 샘플 1개\n",
        "    yi = y[random_index:random_index + 1] # [[y]]: random_index에 있는 레이블\n",
        "    gradient = 2 * xi.T @ (xi @ theta - yi) # gradient 계산\n",
        "    theta = theta - eta*gradient # theta 업데이트\n",
        "\n",
        "\n",
        "print(theta)"
      ],
      "execution_count": 156,
      "outputs": [
        {
          "output_type": "stream",
          "text": [
            "[[-1.83461214]\n",
            " [-1.44179455]]\n",
            "[[4.34319725]\n",
            " [2.76859495]]\n"
          ],
          "name": "stdout"
        }
      ]
    },
    {
      "cell_type": "code",
      "metadata": {
        "id": "DgZ6Aigi-FCf",
        "outputId": "f5bac964-035f-4b02-80ce-0f4fd80eccc2",
        "colab": {
          "base_uri": "https://localhost:8080/",
          "height": 53
        }
      },
      "source": [
        "X_new = np.array([[1, 0], \n",
        "                  [1, 2]])\n",
        "y_pred = X_new @ theta\n",
        "y_pred"
      ],
      "execution_count": 157,
      "outputs": [
        {
          "output_type": "execute_result",
          "data": {
            "text/plain": [
              "array([[4.34319725],\n",
              "       [9.88038714]])"
            ]
          },
          "metadata": {
            "tags": []
          },
          "execution_count": 157
        }
      ]
    },
    {
      "cell_type": "code",
      "metadata": {
        "id": "wZD7Eva6-783",
        "outputId": "158ae794-3166-4539-d66e-2e9511be25d2",
        "colab": {
          "base_uri": "https://localhost:8080/",
          "height": 265
        }
      },
      "source": [
        "plt.scatter(X, y)\n",
        "\n",
        "plt.plot([[0], [2]], y_pred, 'r-')\n",
        "\n",
        "plt.grid()"
      ],
      "execution_count": 158,
      "outputs": [
        {
          "output_type": "display_data",
          "data": {
            "image/png": "[encoded data removed]",
            "text/plain": [
              "<Figure size 432x288 with 1 Axes>"
            ]
          },
          "metadata": {
            "tags": [],
            "needs_background": "light"
          }
        }
      ]
    },
    {
      "cell_type": "code",
      "metadata": {
        "id": "4-8H8iI9_FPo",
        "outputId": "553cf6e1-101a-4722-f01a-469d28a16f44",
        "colab": {
          "base_uri": "https://localhost:8080/",
          "height": 91
        }
      },
      "source": [
        "sgd_reg = SGDRegressor(eta0=0.01, max_iter=50)\n",
        "sgd_reg.fit(X, y)\n",
        "sgd_reg.intercept_, sgd_reg.coef_"
      ],
      "execution_count": 161,
      "outputs": [
        {
          "output_type": "stream",
          "text": [
            "/usr/local/lib/python3.6/dist-packages/sklearn/utils/validation.py:760: DataConversionWarning: A column-vector y was passed when a 1d array was expected. Please change the shape of y to (n_samples, ), for example using ravel().\n",
            "  y = column_or_1d(y, warn=True)\n"
          ],
          "name": "stderr"
        },
        {
          "output_type": "execute_result",
          "data": {
            "text/plain": [
              "(array([3.88816221]), array([3.14559777]))"
            ]
          },
          "metadata": {
            "tags": []
          },
          "execution_count": 161
        }
      ]
    },
    {
      "cell_type": "code",
      "metadata": {
        "id": "ApzSvKaiAxAh",
        "outputId": "fe1cc37e-9a3b-481c-b665-56503a279865",
        "colab": {
          "base_uri": "https://localhost:8080/",
          "height": 265
        }
      },
      "source": [
        "y_pred2 = sgd_reg.predict([[0], [2]])\n",
        "\n",
        "plt.scatter(X, y, color='y')\n",
        "plt.plot([[0], [2]], y_pred, 'r-')\n",
        "plt.plot([[0], [2]], y_pred2, 'b-')\n",
        "plt.grid()"
      ],
      "execution_count": 173,
      "outputs": [
        {
          "output_type": "display_data",
          "data": {
            "image/png": "[encoded data removed]",
            "text/plain": [
              "<Figure size 432x288 with 1 Axes>"
            ]
          },
          "metadata": {
            "tags": [],
            "needs_background": "light"
          }
        }
      ]
    },
    {
      "cell_type": "code",
      "metadata": {
        "id": "t9v8AcJ7BEem"
      },
      "source": [
        ""
      ],
      "execution_count": null,
      "outputs": []
    }
  ]
}