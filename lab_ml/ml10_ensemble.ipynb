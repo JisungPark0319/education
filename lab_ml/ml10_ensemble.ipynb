{
  "nbformat": 4,
  "nbformat_minor": 0,
  "metadata": {
    "colab": {
      "name": "ml10_ensemble.ipynb",
      "provenance": [],
      "collapsed_sections": [],
      "authorship_tag": "ABX9TyMWai57qheLgtWftoQ7JiQF",
      "include_colab_link": true
    },
    "kernelspec": {
      "name": "python3",
      "display_name": "Python 3"
    }
  },
  "cells": [
    {
      "cell_type": "markdown",
      "metadata": {
        "id": "view-in-github",
        "colab_type": "text"
      },
      "source": [
        "<a href=\"https://colab.research.google.com/github/JisungPark0319/education/blob/main/lab_ml/ml10_ensemble.ipynb\" target=\"_parent\"><img src=\"https://colab.research.google.com/assets/colab-badge.svg\" alt=\"Open In Colab\"/></a>"
      ]
    },
    {
      "cell_type": "markdown",
      "metadata": {
        "id": "0Jg2G7qro6KE"
      },
      "source": [
        "# 앙상블 학습 방법(Ensemble Learning)"
      ]
    },
    {
      "cell_type": "markdown",
      "metadata": {
        "id": "k0kILxVDpFz6"
      },
      "source": [
        "* 앙상블(ensemble): 기계 학습에서 사용되는 일련의 모델(알고리즘)들.\n",
        "    * 서로 다른 모델(알고리즘) 여러개를 훈련시키는 방법.\n",
        "    * 같은 모델(알고리즘)을 서로 다른 훈련 셋에서 훈련시키는 방법.\n",
        "* 앙상블 학습: 앙상블을 사용한 기계 학습 방법.\n",
        "    * 투표(voting) 방식: 서로 다른 알고리즘들을 학습시켜서, 각각의 예측값을 투표(다수결) 또는 평균으로 예측하는 방법.\n",
        "    * Bagging(Bootstrap Aggregating): **중복을 허용해서 샘플링**한 훈련 셋의 부분집합들을 하나의 알고리즘에 학습시켜서 예측(다수결, 평균).\n",
        "    * Pasting: **중복을 허용하지 않고 샘플링**한 훈련 셋의 부분집합들을 하나의 알고리즘에 학습시켜서 예측.\n",
        "    * Random Forest: Bagging 방법을 적용한 Decision Tree 앙상블 학습 방법."
      ]
    },
    {
      "cell_type": "code",
      "metadata": {
        "id": "qDsXf-Wenwfu"
      },
      "source": [
        "import matplotlib.pyplot as plt\n",
        "import numpy as np\n",
        "from sklearn.datasets import make_moons"
      ],
      "execution_count": 1,
      "outputs": []
    },
    {
      "cell_type": "code",
      "metadata": {
        "id": "Ymwfm0rYr4ut",
        "outputId": "9531743e-2d3e-4247-b4ce-d474adfaa19b",
        "colab": {
          "base_uri": "https://localhost:8080/"
        }
      },
      "source": [
        "X, y = make_moons(n_samples=500, noise=0.3, random_state=42)\n",
        "X.shape, y.shape"
      ],
      "execution_count": 2,
      "outputs": [
        {
          "output_type": "execute_result",
          "data": {
            "text/plain": [
              "((500, 2), (500,))"
            ]
          },
          "metadata": {
            "tags": []
          },
          "execution_count": 2
        }
      ]
    },
    {
      "cell_type": "code",
      "metadata": {
        "id": "-lwMxLL3s1b1",
        "outputId": "29e19493-564a-40b2-d87b-f97e030d0076",
        "colab": {
          "base_uri": "https://localhost:8080/"
        }
      },
      "source": [
        "np.unique(y)"
      ],
      "execution_count": 3,
      "outputs": [
        {
          "output_type": "execute_result",
          "data": {
            "text/plain": [
              "array([0, 1])"
            ]
          },
          "metadata": {
            "tags": []
          },
          "execution_count": 3
        }
      ]
    },
    {
      "cell_type": "code",
      "metadata": {
        "id": "wWAfEOCJuCG3",
        "outputId": "d7a2be4a-0cb9-4c2b-d061-7eb70c3020f0",
        "colab": {
          "base_uri": "https://localhost:8080/",
          "height": 279
        }
      },
      "source": [
        "for cls in np.unique(y):\n",
        "  plt.scatter(X[y == cls, 0], X[y == cls, 1], label='class-{}'.format(cls))\n",
        "\n",
        "plt.xlabel('x1')\n",
        "plt.ylabel('x2')\n",
        "plt.grid()"
      ],
      "execution_count": 4,
      "outputs": [
        {
          "output_type": "display_data",
          "data": {
            "image/png": "[encoded data removed]",
            "text/plain": [
              "<Figure size 432x288 with 1 Axes>"
            ]
          },
          "metadata": {
            "tags": [],
            "needs_background": "light"
          }
        }
      ]
    },
    {
      "cell_type": "code",
      "metadata": {
        "id": "vLFMfPCjuZbP"
      },
      "source": [
        "# Train/Test 분리\n",
        "from sklearn.model_selection import train_test_split"
      ],
      "execution_count": 5,
      "outputs": []
    },
    {
      "cell_type": "code",
      "metadata": {
        "id": "CPaNCA2fusbc",
        "outputId": "3d583f01-1e50-45c4-ca7d-6e3be4e3b479",
        "colab": {
          "base_uri": "https://localhost:8080/"
        }
      },
      "source": [
        "X_train, X_test, y_train, y_test = train_test_split(X, y, \n",
        "                                                    test_size=0.2,\n",
        "                                                    random_state=42)\n",
        "X_train.shape, X_test.shape, y_train.shape, y_test.shape"
      ],
      "execution_count": 6,
      "outputs": [
        {
          "output_type": "execute_result",
          "data": {
            "text/plain": [
              "((400, 2), (100, 2), (400,), (100,))"
            ]
          },
          "metadata": {
            "tags": []
          },
          "execution_count": 6
        }
      ]
    },
    {
      "cell_type": "markdown",
      "metadata": {
        "id": "-PLUKePHvwNG"
      },
      "source": [
        "* 약한 학습기(weak learner) 여러개를 훈련 셋(X_train, y_Train)으로 훈련\n",
        "* 각 학습기에서 테스트 셋(X_test, y_test)의 예측값을 계산하고 평가."
      ]
    },
    {
      "cell_type": "code",
      "metadata": {
        "id": "2HLMWn0cvfr0"
      },
      "source": [
        "from sklearn.linear_model import LogisticRegression, SGDClassifier\n",
        "from sklearn.svm import SVC\n",
        "from sklearn.ensemble import RandomForestClassifier\n",
        "from sklearn.metrics import accuracy_score"
      ],
      "execution_count": 7,
      "outputs": []
    },
    {
      "cell_type": "code",
      "metadata": {
        "id": "DOqvHZn1wlHv"
      },
      "source": [
        "# 학습기(learner) 4개 생성.\n",
        "log_clf = LogisticRegression(random_state=42)\n",
        "sgd_clf = SGDClassifier(random_state=42, loss='log')\n",
        "svm_clf = SVC(random_state=42, probability=True)\n",
        "forest_clf = RandomForestClassifier(random_state=42, max_depth=3)"
      ],
      "execution_count": 8,
      "outputs": []
    },
    {
      "cell_type": "code",
      "metadata": {
        "id": "AlwrqUcpw_zG",
        "outputId": "4e458767-65a8-498f-800e-416cc3bca8b8",
        "colab": {
          "base_uri": "https://localhost:8080/"
        }
      },
      "source": [
        "classifier = [log_clf, sgd_clf, svm_clf, forest_clf]\n",
        "for clf in classifier:\n",
        "  clf.fit(X_train, y_train) # 모델을 훈련 셋으로 학습시킴.\n",
        "  y_test_pred = clf.predict(X_test) # 훈련된 모델로 테스트 셋의 예측값을 계산.\n",
        "  acc = accuracy_score(y_test, y_test_pred) # 예측값의 정확도 평가.\n",
        "  print(clf.__class__.__name__, 'accuracy:', acc)"
      ],
      "execution_count": 9,
      "outputs": [
        {
          "output_type": "stream",
          "text": [
            "LogisticRegression accuracy: 0.85\n",
            "SGDClassifier accuracy: 0.85\n",
            "SVC accuracy: 0.87\n",
            "RandomForestClassifier accuracy: 0.87\n"
          ],
          "name": "stdout"
        }
      ]
    },
    {
      "cell_type": "code",
      "metadata": {
        "id": "HDD3C02t2py3"
      },
      "source": [
        "from sklearn.ensemble import VotingClassifier"
      ],
      "execution_count": 10,
      "outputs": []
    },
    {
      "cell_type": "markdown",
      "metadata": {
        "id": "zmDL9a8D6mdx"
      },
      "source": [
        "* VotingClassifier의 voting 파라미터\n",
        "    * 기본값='hard', 'soft'를 사용할 수 있음.\n",
        "    * hard: 다수결 투표. 모든 분류기가 동일하게 1표씩 행사.\n",
        "    * soft: 각 분류기의 예측값에 그 예측의 확률을 가중치로 곱한 값을 사용해서 예측. 확률이 높은 예측값이 더 높은 가중치를 가지고 투표를 하게되는 방식.\n",
        "    * 일반적으로 soft voting 방식이 더 좋다고 알려져 있음.\n",
        "    * soft voting을 사용하려면 모든 분류기가 예측 확률을 계산할 수 있어야 함!\n",
        "        * SGDClassifier인 경우에는 loss='log'로 지정.\n",
        "        * SVC인 경우에는 probability=True로 지정.\n"
      ]
    },
    {
      "cell_type": "code",
      "metadata": {
        "id": "vYYtaxBx3gUX"
      },
      "source": [
        "voting_clf = VotingClassifier(estimators=[('logistic', log_clf),\n",
        "                                          ('sgd', sgd_clf),\n",
        "                                          ('svc', svm_clf),\n",
        "                                          ('rf', forest_clf)],\n",
        "                              voting='soft',\n",
        "                              n_jobs=-1)  # 모델 생성"
      ],
      "execution_count": 11,
      "outputs": []
    },
    {
      "cell_type": "code",
      "metadata": {
        "id": "hk2rtZeh35Mq",
        "outputId": "c98a1325-0c53-4169-e975-c3cedc3dec8c",
        "colab": {
          "base_uri": "https://localhost:8080/"
        }
      },
      "source": [
        "voting_clf.fit(X_train, y_train)  # 모델 훈련"
      ],
      "execution_count": 12,
      "outputs": [
        {
          "output_type": "execute_result",
          "data": {
            "text/plain": [
              "VotingClassifier(estimators=[('logistic',\n",
              "                              LogisticRegression(C=1.0, class_weight=None,\n",
              "                                                 dual=False, fit_intercept=True,\n",
              "                                                 intercept_scaling=1,\n",
              "                                                 l1_ratio=None, max_iter=100,\n",
              "                                                 multi_class='auto',\n",
              "                                                 n_jobs=None, penalty='l2',\n",
              "                                                 random_state=42,\n",
              "                                                 solver='lbfgs', tol=0.0001,\n",
              "                                                 verbose=0, warm_start=False)),\n",
              "                             ('sgd',\n",
              "                              SGDClassifier(alpha=0.0001, average=False,\n",
              "                                            class_weight=None,\n",
              "                                            early_st...\n",
              "                                                     criterion='gini',\n",
              "                                                     max_depth=3,\n",
              "                                                     max_features='auto',\n",
              "                                                     max_leaf_nodes=None,\n",
              "                                                     max_samples=None,\n",
              "                                                     min_impurity_decrease=0.0,\n",
              "                                                     min_impurity_split=None,\n",
              "                                                     min_samples_leaf=1,\n",
              "                                                     min_samples_split=2,\n",
              "                                                     min_weight_fraction_leaf=0.0,\n",
              "                                                     n_estimators=100,\n",
              "                                                     n_jobs=None,\n",
              "                                                     oob_score=False,\n",
              "                                                     random_state=42, verbose=0,\n",
              "                                                     warm_start=False))],\n",
              "                 flatten_transform=True, n_jobs=-1, voting='soft',\n",
              "                 weights=None)"
            ]
          },
          "metadata": {
            "tags": []
          },
          "execution_count": 12
        }
      ]
    },
    {
      "cell_type": "code",
      "metadata": {
        "id": "X_nxq_7d3_kK",
        "outputId": "677c7041-ff1c-45de-9005-88e43f52c465",
        "colab": {
          "base_uri": "https://localhost:8080/"
        }
      },
      "source": [
        "y_test_pred = voting_clf.predict(X_test)  # 예측, 평가\n",
        "acc = accuracy_score(y_test, y_test_pred)\n",
        "print('voting ensemble accuracy:', acc)"
      ],
      "execution_count": 13,
      "outputs": [
        {
          "output_type": "stream",
          "text": [
            "voting ensemble accuracy: 0.86\n"
          ],
          "name": "stdout"
        }
      ]
    },
    {
      "cell_type": "markdown",
      "metadata": {
        "id": "ZTvdEgtm8KGr"
      },
      "source": [
        "## Bagging(Booststrap Aggregating)"
      ]
    },
    {
      "cell_type": "code",
      "metadata": {
        "id": "2Lq6vxD0Pzfx"
      },
      "source": [
        "from sklearn.tree import DecisionTreeClassifier"
      ],
      "execution_count": 14,
      "outputs": []
    },
    {
      "cell_type": "code",
      "metadata": {
        "id": "mNqkWDto4YyC",
        "outputId": "41a1ed60-16e2-453a-f456-cc4d331f7ad4",
        "colab": {
          "base_uri": "https://localhost:8080/"
        }
      },
      "source": [
        "# Decision Tree 분류기 1개를 훈련 셋 전체에 대해서 학습. -> 테스트 셋에서 평가.\n",
        "tree_clf = DecisionTreeClassifier(random_state=42)\n",
        "tree_clf.fit(X_train, y_train)\n",
        "y_test_pred = tree_clf.predict(X_test)\n",
        "acc = accuracy_score(y_test, y_test_pred)\n",
        "acc"
      ],
      "execution_count": 15,
      "outputs": [
        {
          "output_type": "execute_result",
          "data": {
            "text/plain": [
              "0.82"
            ]
          },
          "metadata": {
            "tags": []
          },
          "execution_count": 15
        }
      ]
    },
    {
      "cell_type": "code",
      "metadata": {
        "id": "ZaiV1qHeQQPO"
      },
      "source": [
        "from sklearn.ensemble import BaggingClassifier"
      ],
      "execution_count": 16,
      "outputs": []
    },
    {
      "cell_type": "code",
      "metadata": {
        "id": "AhpD320IQgNn"
      },
      "source": [
        "bagging_clf = BaggingClassifier(base_estimator=DecisionTreeClassifier(random_state=42),\n",
        "                                # base_estimator: 기본 추정기(예측기). 머신 러닝 알고리즘(모델).\n",
        "                                n_estimators=50,  # 추정기의 개수 = 학습 횟수 = 훈련 셋 부분집합 개수\n",
        "                                max_samples=100,  # 훈련 셋 부분집합이 가질 수 있는 최대 원소 개수.\n",
        "                                bootstrap=True,   # Ture(중복 허용. Bagging), False(중복 불허. Pasting)\n",
        "                                n_jobs=-1,        # Multi Task의 개수. (-1=가능한 모든 CPU 코어 사용.)\n",
        "                                oob_score=True,   # oob(out-of-bagging)\n",
        "                                random_state=42)"
      ],
      "execution_count": 17,
      "outputs": []
    },
    {
      "cell_type": "code",
      "metadata": {
        "id": "KpWNRPybSAD5",
        "outputId": "0b2ba3ba-7b2c-48ce-f528-d7a8614cd0c5",
        "colab": {
          "base_uri": "https://localhost:8080/"
        }
      },
      "source": [
        "bagging_clf.fit(X_train, y_train) # 모델 훈련"
      ],
      "execution_count": 18,
      "outputs": [
        {
          "output_type": "execute_result",
          "data": {
            "text/plain": [
              "BaggingClassifier(base_estimator=DecisionTreeClassifier(ccp_alpha=0.0,\n",
              "                                                        class_weight=None,\n",
              "                                                        criterion='gini',\n",
              "                                                        max_depth=None,\n",
              "                                                        max_features=None,\n",
              "                                                        max_leaf_nodes=None,\n",
              "                                                        min_impurity_decrease=0.0,\n",
              "                                                        min_impurity_split=None,\n",
              "                                                        min_samples_leaf=1,\n",
              "                                                        min_samples_split=2,\n",
              "                                                        min_weight_fraction_leaf=0.0,\n",
              "                                                        presort='deprecated',\n",
              "                                                        random_state=42,\n",
              "                                                        splitter='best'),\n",
              "                  bootstrap=True, bootstrap_features=False, max_features=1.0,\n",
              "                  max_samples=100, n_estimators=50, n_jobs=-1, oob_score=True,\n",
              "                  random_state=42, verbose=0, warm_start=False)"
            ]
          },
          "metadata": {
            "tags": []
          },
          "execution_count": 18
        }
      ]
    },
    {
      "cell_type": "code",
      "metadata": {
        "id": "eIK4RmBHTAU_",
        "outputId": "bb19fc0c-60bd-469b-edfb-be1081e67214",
        "colab": {
          "base_uri": "https://localhost:8080/"
        }
      },
      "source": [
        "y_test_pred = bagging_clf.predict(X_test)\n",
        "acc = accuracy_score(y_test, y_test_pred)\n",
        "acc"
      ],
      "execution_count": 19,
      "outputs": [
        {
          "output_type": "execute_result",
          "data": {
            "text/plain": [
              "0.92"
            ]
          },
          "metadata": {
            "tags": []
          },
          "execution_count": 19
        }
      ]
    },
    {
      "cell_type": "code",
      "metadata": {
        "id": "Gr7nzTgtTXxA",
        "outputId": "6495700b-e4f2-4b58-8530-4597ebe7fd11",
        "colab": {
          "base_uri": "https://localhost:8080/"
        }
      },
      "source": [
        "bagging_clf.oob_score_"
      ],
      "execution_count": 20,
      "outputs": [
        {
          "output_type": "execute_result",
          "data": {
            "text/plain": [
              "0.9175"
            ]
          },
          "metadata": {
            "tags": []
          },
          "execution_count": 20
        }
      ]
    },
    {
      "cell_type": "markdown",
      "metadata": {
        "id": "9WgQSzFqVFwg"
      },
      "source": [
        "* OOB(Out-Of-Bagging) 샘플: 학습 셋에서 랜덤하게 부분집합을 만들 때, 한번도 부분집합에 포함되지 않은 샘플들.\n",
        "* OOB 샘플들을 검증(validation) 데이터로 사용할 수 있음.\n",
        "* BaggingClassifier/Regressor의 파라미터 oob_score=True로 지정하면, 학습 후에 OOB 샘플들로 계산된 점수(정확도, MSE)를 얻을 수 있음.\n",
        "* oob_score_는 테스트 셋의 점수를 추정할 수 있음."
      ]
    },
    {
      "cell_type": "markdown",
      "metadata": {
        "id": "m-xLMpPuWS1C"
      },
      "source": [
        "## Random Forest 분류기\n",
        "Decision Tree를 추정기(estimator)로 사용하는 Bagging 앙상블 학습 방법."
      ]
    },
    {
      "cell_type": "code",
      "metadata": {
        "id": "vP2-7CY9U73x"
      },
      "source": [
        "from sklearn.ensemble import RandomForestClassifier"
      ],
      "execution_count": 21,
      "outputs": []
    },
    {
      "cell_type": "code",
      "metadata": {
        "id": "Q7A2-4gBWuV6",
        "outputId": "8c51890b-6db6-4272-cf26-51ec7892ecb9",
        "colab": {
          "base_uri": "https://localhost:8080/"
        }
      },
      "source": [
        "forest_clf = RandomForestClassifier(n_estimators=50, bootstrap=True, oob_score=True,\n",
        "                                    n_jobs=-1, random_state=42, max_samples=100)\n",
        "forest_clf.fit(X_train, y_train)\n",
        "print('oob score:', forest_clf.oob_score_)\n",
        "\n",
        "y_test_pred = forest_clf.predict(X_test)\n",
        "acc = accuracy_score(y_test, y_test_pred)\n",
        "print('test acc:', acc)"
      ],
      "execution_count": 22,
      "outputs": [
        {
          "output_type": "stream",
          "text": [
            "oob score: 0.9125\n",
            "test acc: 0.93\n"
          ],
          "name": "stdout"
        }
      ]
    },
    {
      "cell_type": "markdown",
      "metadata": {
        "id": "AfPPkPT-YQtG"
      },
      "source": [
        "Random Forest의 장점 중 하나는 특성(변수)들의 중요도를 자동으로 측정해 준다는 점."
      ]
    },
    {
      "cell_type": "code",
      "metadata": {
        "id": "FF2oHQSfXhAb"
      },
      "source": [
        "from sklearn.datasets import load_iris"
      ],
      "execution_count": 23,
      "outputs": []
    },
    {
      "cell_type": "code",
      "metadata": {
        "id": "tthH2ZrfYnvD"
      },
      "source": [
        "iris = load_iris()\n",
        "X, y = iris['data'], iris['target']"
      ],
      "execution_count": 24,
      "outputs": []
    },
    {
      "cell_type": "code",
      "metadata": {
        "id": "tyJAB1WUYyUZ",
        "outputId": "e293ad4e-7c4f-4b6e-8e47-978091093d75",
        "colab": {
          "base_uri": "https://localhost:8080/"
        }
      },
      "source": [
        "forest_clf = RandomForestClassifier(random_state=42, n_jobs=-1)\n",
        "forest_clf.fit(X, y)"
      ],
      "execution_count": 25,
      "outputs": [
        {
          "output_type": "execute_result",
          "data": {
            "text/plain": [
              "RandomForestClassifier(bootstrap=True, ccp_alpha=0.0, class_weight=None,\n",
              "                       criterion='gini', max_depth=None, max_features='auto',\n",
              "                       max_leaf_nodes=None, max_samples=None,\n",
              "                       min_impurity_decrease=0.0, min_impurity_split=None,\n",
              "                       min_samples_leaf=1, min_samples_split=2,\n",
              "                       min_weight_fraction_leaf=0.0, n_estimators=100,\n",
              "                       n_jobs=-1, oob_score=False, random_state=42, verbose=0,\n",
              "                       warm_start=False)"
            ]
          },
          "metadata": {
            "tags": []
          },
          "execution_count": 25
        }
      ]
    },
    {
      "cell_type": "code",
      "metadata": {
        "id": "8SfEnf_uY3vJ",
        "outputId": "b7da158b-dcb2-42ca-d493-625854d9538b",
        "colab": {
          "base_uri": "https://localhost:8080/"
        }
      },
      "source": [
        "forest_clf.feature_importances_\n",
        "#> 3, 4번째(column index 2, 3번) 특성들이 다른 특성들에 비해서 더 중요!"
      ],
      "execution_count": 26,
      "outputs": [
        {
          "output_type": "execute_result",
          "data": {
            "text/plain": [
              "array([0.10612762, 0.02167809, 0.43612951, 0.43606478])"
            ]
          },
          "metadata": {
            "tags": []
          },
          "execution_count": 26
        }
      ]
    },
    {
      "cell_type": "code",
      "metadata": {
        "id": "X0ucdyd-nYSa"
      },
      "source": [
        "# mnist 데이터 셋에서 특성 중요도를 Random Forest로 계산.\n",
        "from sklearn.datasets import fetch_openml"
      ],
      "execution_count": 27,
      "outputs": []
    },
    {
      "cell_type": "code",
      "metadata": {
        "id": "mNWwCOuAndyy"
      },
      "source": [
        "mnist = fetch_openml(name='mnist_784')"
      ],
      "execution_count": 29,
      "outputs": []
    },
    {
      "cell_type": "code",
      "metadata": {
        "id": "bCBPKUOznitO",
        "outputId": "e3060446-6659-4355-f449-9c26ccc32349",
        "colab": {
          "base_uri": "https://localhost:8080/"
        }
      },
      "source": [
        "mnist.keys()"
      ],
      "execution_count": 30,
      "outputs": [
        {
          "output_type": "execute_result",
          "data": {
            "text/plain": [
              "dict_keys(['data', 'target', 'frame', 'feature_names', 'target_names', 'DESCR', 'details', 'categories', 'url'])"
            ]
          },
          "metadata": {
            "tags": []
          },
          "execution_count": 30
        }
      ]
    },
    {
      "cell_type": "code",
      "metadata": {
        "id": "Hqn4niAGnuwN",
        "outputId": "5e4d9e2e-5c82-4fae-ba6d-3eab1b9ed726",
        "colab": {
          "base_uri": "https://localhost:8080/"
        }
      },
      "source": [
        "X = mnist['data'] # 샘플 데이터(훈련 셋)\n",
        "y = mnist['target'].astype(np.int16) # 샘플 레이블\n",
        "X.shape, y.shape"
      ],
      "execution_count": 31,
      "outputs": [
        {
          "output_type": "execute_result",
          "data": {
            "text/plain": [
              "((70000, 784), (70000,))"
            ]
          },
          "metadata": {
            "tags": []
          },
          "execution_count": 31
        }
      ]
    },
    {
      "cell_type": "code",
      "metadata": {
        "id": "rIq2u8DpoJzV",
        "outputId": "482dd6dc-cbf6-4aaf-b792-4b2606fe1584",
        "colab": {
          "base_uri": "https://localhost:8080/"
        }
      },
      "source": [
        "forest_clf = RandomForestClassifier(random_state=42, n_estimators=10, n_jobs=-1)\n",
        "forest_clf.fit(X, y)"
      ],
      "execution_count": 33,
      "outputs": [
        {
          "output_type": "execute_result",
          "data": {
            "text/plain": [
              "RandomForestClassifier(bootstrap=True, ccp_alpha=0.0, class_weight=None,\n",
              "                       criterion='gini', max_depth=None, max_features='auto',\n",
              "                       max_leaf_nodes=None, max_samples=None,\n",
              "                       min_impurity_decrease=0.0, min_impurity_split=None,\n",
              "                       min_samples_leaf=1, min_samples_split=2,\n",
              "                       min_weight_fraction_leaf=0.0, n_estimators=10, n_jobs=-1,\n",
              "                       oob_score=False, random_state=42, verbose=0,\n",
              "                       warm_start=False)"
            ]
          },
          "metadata": {
            "tags": []
          },
          "execution_count": 33
        }
      ]
    },
    {
      "cell_type": "code",
      "metadata": {
        "id": "i4GBFVa_o7nZ",
        "outputId": "4a4f9e59-7a2f-4ee9-d38e-20e28493e91e",
        "colab": {
          "base_uri": "https://localhost:8080/",
          "height": 283
        }
      },
      "source": [
        "importance_img = forest_clf.feature_importances_.reshape((28, 28))\n",
        "plt.imshow(importance_img, cmap=plt.cm.hot)"
      ],
      "execution_count": 39,
      "outputs": [
        {
          "output_type": "execute_result",
          "data": {
            "text/plain": [
              "<matplotlib.image.AxesImage at 0x7fd70f5fcf98>"
            ]
          },
          "metadata": {
            "tags": []
          },
          "execution_count": 39
        },
        {
          "output_type": "display_data",
          "data": {
            "image/png": "[encoded data removed]",
            "text/plain": [
              "<Figure size 432x288 with 1 Axes>"
            ]
          },
          "metadata": {
            "tags": [],
            "needs_background": "light"
          }
        }
      ]
    },
    {
      "cell_type": "markdown",
      "metadata": {
        "id": "sQTr7onRsjdN"
      },
      "source": [
        "## Boosting\n",
        "\n",
        "* 약한 학습기 여러개를 순차적으로(sequentially) 연결해서 강한 학습기를 만드는 방법.\n",
        "* 단점: 훈련을 병렬적으로 시킬 수가 없어서 시간이 오래 걸리 수 있고, 확장성(scalability)이 떨어짐.\n",
        "* (비교) Voting, Bagging: 훈련을 병렬적으로 시킴.\n",
        "\n",
        "1. AdaBoost(Adaptive Boosting): 이전 학습에서 underfit(과소적합)된 샘플들에게 높은 가중치를 나눠 다음 학습에서 사용하는 방법.\n",
        "2. Gradient Boost: 이전 학습에서 발생한 오차(residual error)를 다음 훈련에서 학습시키는 방법."
      ]
    },
    {
      "cell_type": "code",
      "metadata": {
        "id": "PtAJqAAhpLfe",
        "outputId": "b8e170a4-ffc8-448a-966f-95a40325ffa7",
        "colab": {
          "base_uri": "https://localhost:8080/",
          "height": 265
        }
      },
      "source": [
        "# 샘플 데이터\n",
        "X, y =  make_moons(n_samples=500, noise=0.3, random_state=42)\n",
        "X_train, X_test, y_train, y_test = train_test_split(X, y,\n",
        "                                                    test_size=0.2,\n",
        "                                                    random_state=42)\n",
        "\n",
        "# 훈련 셋 시각화\n",
        "for cls in np.unique(y_train):\n",
        "  plt.scatter(X_train[y_train == cls, 0], X_train[y_train == cls, 1])\n",
        "plt.grid()"
      ],
      "execution_count": 41,
      "outputs": [
        {
          "output_type": "display_data",
          "data": {
            "image/png": "[encoded data removed]",
            "text/plain": [
              "<Figure size 432x288 with 1 Axes>"
            ]
          },
          "metadata": {
            "tags": [],
            "needs_background": "light"
          }
        }
      ]
    },
    {
      "cell_type": "markdown",
      "metadata": {
        "id": "n296auBLySVK"
      },
      "source": [
        "AdaBoost"
      ]
    },
    {
      "cell_type": "code",
      "metadata": {
        "id": "geR3wfk0xtkE"
      },
      "source": [
        "from sklearn.ensemble import AdaBoostClassifier"
      ],
      "execution_count": 42,
      "outputs": []
    },
    {
      "cell_type": "code",
      "metadata": {
        "id": "AkWMPZOPyWMR"
      },
      "source": [
        "ada_clf = AdaBoostClassifier(base_estimator=DecisionTreeClassifier(max_depth=1),\n",
        "                             n_estimators=50,   # 예측기의 개수(= 훈련 횟수) \n",
        "                             learning_rate=0.1, # 학습률\n",
        "                             algorithm='SAMME.R',  # underfit된 샘플들에게 가중치를 주는 알고리즘.\n",
        "                             random_state=42)"
      ],
      "execution_count": 47,
      "outputs": []
    },
    {
      "cell_type": "code",
      "metadata": {
        "id": "TVSuXL4PznjT",
        "outputId": "1616ad39-73ee-4967-aec0-c24ed4938944",
        "colab": {
          "base_uri": "https://localhost:8080/"
        }
      },
      "source": [
        "ada_clf.fit(X_train, y_train)"
      ],
      "execution_count": 49,
      "outputs": [
        {
          "output_type": "execute_result",
          "data": {
            "text/plain": [
              "AdaBoostClassifier(algorithm='SAMME.R',\n",
              "                   base_estimator=DecisionTreeClassifier(ccp_alpha=0.0,\n",
              "                                                         class_weight=None,\n",
              "                                                         criterion='gini',\n",
              "                                                         max_depth=1,\n",
              "                                                         max_features=None,\n",
              "                                                         max_leaf_nodes=None,\n",
              "                                                         min_impurity_decrease=0.0,\n",
              "                                                         min_impurity_split=None,\n",
              "                                                         min_samples_leaf=1,\n",
              "                                                         min_samples_split=2,\n",
              "                                                         min_weight_fraction_leaf=0.0,\n",
              "                                                         presort='deprecated',\n",
              "                                                         random_state=None,\n",
              "                                                         splitter='best'),\n",
              "                   learning_rate=0.1, n_estimators=50, random_state=42)"
            ]
          },
          "metadata": {
            "tags": []
          },
          "execution_count": 49
        }
      ]
    },
    {
      "cell_type": "code",
      "metadata": {
        "id": "tTdxceD60mur",
        "outputId": "e7e8a43e-d889-4d8a-d1ed-a215c3e1420a",
        "colab": {
          "base_uri": "https://localhost:8080/"
        }
      },
      "source": [
        "y_train_pred = ada_clf.predict(X_train)\n",
        "train_acc = train_score = accuracy_score(y_train, y_train_pred)\n",
        "train_acc"
      ],
      "execution_count": 50,
      "outputs": [
        {
          "output_type": "execute_result",
          "data": {
            "text/plain": [
              "0.93"
            ]
          },
          "metadata": {
            "tags": []
          },
          "execution_count": 50
        }
      ]
    },
    {
      "cell_type": "code",
      "metadata": {
        "id": "m2ts_k4B029B",
        "outputId": "4954f47b-2fa0-4844-dbc6-c1c57b5e52df",
        "colab": {
          "base_uri": "https://localhost:8080/"
        }
      },
      "source": [
        "y_test_pred = ada_clf.predict(X_test)\n",
        "test_acc = accuracy_score(y_test, y_test_pred)\n",
        "test_acc"
      ],
      "execution_count": 51,
      "outputs": [
        {
          "output_type": "execute_result",
          "data": {
            "text/plain": [
              "0.92"
            ]
          },
          "metadata": {
            "tags": []
          },
          "execution_count": 51
        }
      ]
    },
    {
      "cell_type": "code",
      "metadata": {
        "id": "-Ot_yUQJ1W7f",
        "outputId": "5b2f7000-2086-453e-f5ad-1b64d815a51c",
        "colab": {
          "base_uri": "https://localhost:8080/",
          "height": 269
        }
      },
      "source": [
        "# 훈련 셋의 예측 결과(결정 경계면)을 시각화\n",
        "x_pts = np.linspace(start=-2, stop=3,  num=100)\n",
        "y_pts = np.linspace(start=-1.5, stop=2, num=100)\n",
        "Xs, Ys = np.meshgrid(x_pts, y_pts)\n",
        "X_new = np.c_[Xs.ravel(), Ys.ravel()]\n",
        "y_new = ada_clf.predict(X_new).reshape(Xs.shape)\n",
        "plt.contourf(Xs, Ys, y_new, alpha=0.3)\n",
        "\n",
        "# 훈련 데이터 시각화\n",
        "for cls in np.unique(y_train):\n",
        "  plt.scatter(X_train[y_train == cls, 0], X_train[y_train == cls, 1])\n",
        "\n",
        "plt.grid()"
      ],
      "execution_count": 57,
      "outputs": [
        {
          "output_type": "display_data",
          "data": {
            "image/png": "[encoded data removed]",
            "text/plain": [
              "<Figure size 432x288 with 1 Axes>"
            ]
          },
          "metadata": {
            "tags": [],
            "needs_background": "light"
          }
        }
      ]
    },
    {
      "cell_type": "markdown",
      "metadata": {
        "id": "4lJTzyxu47IX"
      },
      "source": [
        "GradientBoost"
      ]
    },
    {
      "cell_type": "code",
      "metadata": {
        "id": "57jhtC1N271N"
      },
      "source": [
        "# 가상의 샘플 데이터 생성\n",
        "np.random.seed(42)\n",
        "m = 100\n",
        "X = np.random.rand(m, 1) - 0.5\n",
        "y = (3 * X**2 + 0.05 * np.random.randn(m, 1)).ravel()"
      ],
      "execution_count": 59,
      "outputs": []
    },
    {
      "cell_type": "code",
      "metadata": {
        "id": "cAT1joK35uBd",
        "outputId": "bf5c83fc-a609-4a90-d92a-596554f8ccb1",
        "colab": {
          "base_uri": "https://localhost:8080/",
          "height": 269
        }
      },
      "source": [
        "plt.scatter(X, y)\n",
        "plt.grid()"
      ],
      "execution_count": 60,
      "outputs": [
        {
          "output_type": "display_data",
          "data": {
            "image/png": "[encoded data removed]",
            "text/plain": [
              "<Figure size 432x288 with 1 Axes>"
            ]
          },
          "metadata": {
            "tags": [],
            "needs_background": "light"
          }
        }
      ]
    },
    {
      "cell_type": "code",
      "metadata": {
        "id": "qpiVkmkQ5w_g"
      },
      "source": [
        "from sklearn.tree import DecisionTreeRegressor"
      ],
      "execution_count": 61,
      "outputs": []
    },
    {
      "cell_type": "code",
      "metadata": {
        "id": "e7FtXhB_6Lt7"
      },
      "source": [
        "tree_reg1 = DecisionTreeRegressor(random_state=42, max_depth=2)"
      ],
      "execution_count": 63,
      "outputs": []
    },
    {
      "cell_type": "code",
      "metadata": {
        "id": "55W-BvEk6UMY",
        "outputId": "816c16e0-13bf-4a4d-d2c7-61af269c18ae",
        "colab": {
          "base_uri": "https://localhost:8080/"
        }
      },
      "source": [
        "tree_reg1.fit(X, y)"
      ],
      "execution_count": 65,
      "outputs": [
        {
          "output_type": "execute_result",
          "data": {
            "text/plain": [
              "DecisionTreeRegressor(ccp_alpha=0.0, criterion='mse', max_depth=2,\n",
              "                      max_features=None, max_leaf_nodes=None,\n",
              "                      min_impurity_decrease=0.0, min_impurity_split=None,\n",
              "                      min_samples_leaf=1, min_samples_split=2,\n",
              "                      min_weight_fraction_leaf=0.0, presort='deprecated',\n",
              "                      random_state=42, splitter='best')"
            ]
          },
          "metadata": {
            "tags": []
          },
          "execution_count": 65
        }
      ]
    },
    {
      "cell_type": "code",
      "metadata": {
        "id": "FRLHCt0m_MAl"
      },
      "source": [
        "def plot_data_prediction(regressors, X, y):\n",
        "  plt.scatter(X, y)\n",
        "\n",
        "  X_new = np.linspace(-0.5, 0.5, 100).reshape((100, 1))\n",
        "  y_new = sum(reg.predict(X_new) for reg in regressors)\n",
        "  plt.plot(X_new, y_new, 'r-')\n",
        "\n",
        "  plt.grid()"
      ],
      "execution_count": 68,
      "outputs": []
    },
    {
      "cell_type": "code",
      "metadata": {
        "id": "EOf33rGg_SZ9",
        "outputId": "30bd473e-a7a5-4ffd-aa91-cc2b30b3b2f4",
        "colab": {
          "base_uri": "https://localhost:8080/",
          "height": 269
        }
      },
      "source": [
        "plot_data_prediction([tree_reg1], X, y)"
      ],
      "execution_count": 69,
      "outputs": [
        {
          "output_type": "display_data",
          "data": {
            "image/png": "[encoded data removed]",
            "text/plain": [
              "<Figure size 432x288 with 1 Axes>"
            ]
          },
          "metadata": {
            "tags": [],
            "needs_background": "light"
          }
        }
      ]
    },
    {
      "cell_type": "code",
      "metadata": {
        "id": "pcUlXWvH_VRk",
        "outputId": "35d64b24-440c-44b2-d064-10a8757fe690",
        "colab": {
          "base_uri": "https://localhost:8080/",
          "height": 266
        }
      },
      "source": [
        "# 첫번째 예측기의 residual errors를 계산\n",
        "y2 = y - tree_reg1.predict(X)\n",
        "\n",
        "# residual errors를 학습할 예측기 생성\n",
        "tree_reg2 = DecisionTreeRegressor(random_state=42, max_depth=2)\n",
        "tree_reg2.fit(X, y2)\n",
        "\n",
        "# 두번째 예측기의 예측값 시각화\n",
        "plot_data_prediction([tree_reg2], X, y2)"
      ],
      "execution_count": 74,
      "outputs": [
        {
          "output_type": "display_data",
          "data": {
            "image/png": "[encoded data removed]",
            "text/plain": [
              "<Figure size 432x288 with 1 Axes>"
            ]
          },
          "metadata": {
            "tags": [],
            "needs_background": "light"
          }
        }
      ]
    },
    {
      "cell_type": "code",
      "metadata": {
        "id": "G36HSX08A6JP",
        "outputId": "f8521c07-bc1c-4bb4-bdd7-87ebc9084b2c",
        "colab": {
          "base_uri": "https://localhost:8080/",
          "height": 269
        }
      },
      "source": [
        "# 첫번째 예측기와 두번째 예측기의 예측 결과를 더하기\n",
        "plot_data_prediction([tree_reg1, tree_reg2], X, y)"
      ],
      "execution_count": 75,
      "outputs": [
        {
          "output_type": "display_data",
          "data": {
            "image/png": "[encoded data removed]",
            "text/plain": [
              "<Figure size 432x288 with 1 Axes>"
            ]
          },
          "metadata": {
            "tags": [],
            "needs_background": "light"
          }
        }
      ]
    },
    {
      "cell_type": "code",
      "metadata": {
        "id": "29-VF0cTCC3t",
        "outputId": "2cb04d5c-5893-4a77-9237-7f8abc19e85d",
        "colab": {
          "base_uri": "https://localhost:8080/",
          "height": 268
        }
      },
      "source": [
        "y3 = y2 - tree_reg2.predict(X)\n",
        "\n",
        "tree_reg3 = DecisionTreeRegressor(random_state=42, max_depth=2)\n",
        "tree_reg3.fit(X, y3)\n",
        "\n",
        "plot_data_prediction([tree_reg3], X, y3)"
      ],
      "execution_count": 76,
      "outputs": [
        {
          "output_type": "display_data",
          "data": {
            "image/png": "[encoded data removed]",
            "text/plain": [
              "<Figure size 432x288 with 1 Axes>"
            ]
          },
          "metadata": {
            "tags": [],
            "needs_background": "light"
          }
        }
      ]
    },
    {
      "cell_type": "code",
      "metadata": {
        "id": "nzp8MO7mDPpB",
        "outputId": "40cf84c4-f3f5-4dca-eb9d-6ecd5d96b8b6",
        "colab": {
          "base_uri": "https://localhost:8080/",
          "height": 269
        }
      },
      "source": [
        "plot_data_prediction([tree_reg1, tree_reg2, tree_reg3], X, y)"
      ],
      "execution_count": 77,
      "outputs": [
        {
          "output_type": "display_data",
          "data": {
            "image/png": "[encoded data removed]",
            "text/plain": [
              "<Figure size 432x288 with 1 Axes>"
            ]
          },
          "metadata": {
            "tags": [],
            "needs_background": "light"
          }
        }
      ]
    },
    {
      "cell_type": "markdown",
      "metadata": {
        "id": "Ltx5eiTkD0rn"
      },
      "source": [
        "## GBRT(Gradient Boosted Regression Tree)"
      ]
    },
    {
      "cell_type": "code",
      "metadata": {
        "id": "oyjFV-6JDaVG"
      },
      "source": [
        "from sklearn.ensemble import GradientBoostingRegressor"
      ],
      "execution_count": 78,
      "outputs": []
    },
    {
      "cell_type": "code",
      "metadata": {
        "id": "OTGJXHIuD7OO",
        "outputId": "18a96231-2419-4799-825a-aee1d3a1a563",
        "colab": {
          "base_uri": "https://localhost:8080/"
        }
      },
      "source": [
        "gbr = GradientBoostingRegressor(max_depth=2, \n",
        "                                n_estimators=100,\n",
        "                                learning_rate=0.1,\n",
        "                                random_state=42)\n",
        "gbr.fit(X, y)"
      ],
      "execution_count": 85,
      "outputs": [
        {
          "output_type": "execute_result",
          "data": {
            "text/plain": [
              "GradientBoostingRegressor(alpha=0.9, ccp_alpha=0.0, criterion='friedman_mse',\n",
              "                          init=None, learning_rate=0.1, loss='ls', max_depth=2,\n",
              "                          max_features=None, max_leaf_nodes=None,\n",
              "                          min_impurity_decrease=0.0, min_impurity_split=None,\n",
              "                          min_samples_leaf=1, min_samples_split=2,\n",
              "                          min_weight_fraction_leaf=0.0, n_estimators=100,\n",
              "                          n_iter_no_change=None, presort='deprecated',\n",
              "                          random_state=42, subsample=1.0, tol=0.0001,\n",
              "                          validation_fraction=0.1, verbose=0, warm_start=False)"
            ]
          },
          "metadata": {
            "tags": []
          },
          "execution_count": 85
        }
      ]
    },
    {
      "cell_type": "code",
      "metadata": {
        "id": "sK6c6MleFB7n",
        "outputId": "ab4eb563-2272-4e9c-d8c7-26cba86a5939",
        "colab": {
          "base_uri": "https://localhost:8080/",
          "height": 269
        }
      },
      "source": [
        "plot_data_prediction([gbr], X, y)"
      ],
      "execution_count": 86,
      "outputs": [
        {
          "output_type": "display_data",
          "data": {
            "image/png": "[encoded data removed]",
            "text/plain": [
              "<Figure size 432x288 with 1 Axes>"
            ]
          },
          "metadata": {
            "tags": [],
            "needs_background": "light"
          }
        }
      ]
    },
    {
      "cell_type": "markdown",
      "metadata": {
        "id": "2hbuer8tFwvd"
      },
      "source": [
        "GBRT를 사용할 때, n_estimators와 learning_rate는 서로 트레이드-오프 관계\n",
        "* 학습률(learning_rate)이 작으면, 앙상블 학습에 사용되는 tree 개수(n_estimators)가 커져야 성능이 좋아짐.\n",
        "* 학습률이 커지면, 학습에 사용되는 tree 개수가 작아도 비슷한 성능을 보임.\n",
        "* GridSerachCV을 사용해서 하이퍼 파라미터 튜닝"
      ]
    },
    {
      "cell_type": "code",
      "metadata": {
        "id": "8SkZY1xyFlgJ"
      },
      "source": [
        "# XGBoost(Extreme Gradient Boost): 매우 빠른 속도와 조기 종료(early stopping)을 구현한 Gradient Boosting.\n",
        "import xgboost"
      ],
      "execution_count": 87,
      "outputs": []
    },
    {
      "cell_type": "code",
      "metadata": {
        "id": "XOJ6b8mAG5P4",
        "outputId": "dbbaba81-7d09-4176-af8e-1d9e0e41fae0",
        "colab": {
          "base_uri": "https://localhost:8080/"
        }
      },
      "source": [
        "xgb_reg = xgboost.XGBRegressor(random_state=42)\n",
        "xgb_reg.fit(X, y)"
      ],
      "execution_count": 88,
      "outputs": [
        {
          "output_type": "stream",
          "text": [
            "[03:18:07] WARNING: /workspace/src/objective/regression_obj.cu:152: reg:linear is now deprecated in favor of reg:squarederror.\n"
          ],
          "name": "stdout"
        },
        {
          "output_type": "execute_result",
          "data": {
            "text/plain": [
              "XGBRegressor(base_score=0.5, booster='gbtree', colsample_bylevel=1,\n",
              "             colsample_bynode=1, colsample_bytree=1, gamma=0,\n",
              "             importance_type='gain', learning_rate=0.1, max_delta_step=0,\n",
              "             max_depth=3, min_child_weight=1, missing=None, n_estimators=100,\n",
              "             n_jobs=1, nthread=None, objective='reg:linear', random_state=42,\n",
              "             reg_alpha=0, reg_lambda=1, scale_pos_weight=1, seed=None,\n",
              "             silent=None, subsample=1, verbosity=1)"
            ]
          },
          "metadata": {
            "tags": []
          },
          "execution_count": 88
        }
      ]
    },
    {
      "cell_type": "code",
      "metadata": {
        "id": "ISsvmap4HKFn",
        "outputId": "b1e51384-71d1-426d-be3e-e5d976b95c4f",
        "colab": {
          "base_uri": "https://localhost:8080/",
          "height": 269
        }
      },
      "source": [
        "plot_data_prediction([xgb_reg], X, y)"
      ],
      "execution_count": 89,
      "outputs": [
        {
          "output_type": "display_data",
          "data": {
            "image/png": "[encoded data removed]",
            "text/plain": [
              "<Figure size 432x288 with 1 Axes>"
            ]
          },
          "metadata": {
            "tags": [],
            "needs_background": "light"
          }
        }
      ]
    },
    {
      "cell_type": "code",
      "metadata": {
        "id": "NkRW2mlRHMPo"
      },
      "source": [
        ""
      ],
      "execution_count": null,
      "outputs": []
    }
  ]
}