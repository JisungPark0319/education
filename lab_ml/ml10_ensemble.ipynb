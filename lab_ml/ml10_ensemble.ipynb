{
  "nbformat": 4,
  "nbformat_minor": 0,
  "metadata": {
    "colab": {
      "name": "ml10_ensemble.ipynb",
      "provenance": [],
      "collapsed_sections": [],
      "authorship_tag": "ABX9TyNUa0de9NY1qVzU4UjhaSD9",
      "include_colab_link": true
    },
    "kernelspec": {
      "name": "python3",
      "display_name": "Python 3"
    }
  },
  "cells": [
    {
      "cell_type": "markdown",
      "metadata": {
        "id": "view-in-github",
        "colab_type": "text"
      },
      "source": [
        "<a href=\"https://colab.research.google.com/github/JisungPark0319/education/blob/main/lab_ml/ml10_ensemble.ipynb\" target=\"_parent\"><img src=\"https://colab.research.google.com/assets/colab-badge.svg\" alt=\"Open In Colab\"/></a>"
      ]
    },
    {
      "cell_type": "markdown",
      "metadata": {
        "id": "0Jg2G7qro6KE"
      },
      "source": [
        "# 앙상블 학습 방법(Ensemble Learning)"
      ]
    },
    {
      "cell_type": "markdown",
      "metadata": {
        "id": "k0kILxVDpFz6"
      },
      "source": [
        "* 앙상블(ensemble): 기계 학습에서 사용되는 일련의 모델(알고리즘)들.\n",
        "    * 서로 다른 모델(알고리즘) 여러개를 훈련시키는 방법.\n",
        "    * 같은 모델(알고리즘)을 서로 다른 훈련 셋에서 훈련시키는 방법.\n",
        "* 앙상블 학습: 앙상블을 사용한 기계 학습 방법.\n",
        "    * 투표(voting) 방식: 서로 다른 알고리즘들을 학습시켜서, 각각의 예측값을 투표(다수결) 또는 평균으로 예측하는 방법.\n",
        "    * Bagging(Bootstrap Aggregating): **중복을 허용해서 샘플링**한 훈련 셋의 부분집합들을 하나의 알고리즘에 학습시켜서 예측(다수결, 평균).\n",
        "    * Pasting: **중복을 허용하지 않고 샘플링**한 훈련 셋의 부분집합들을 하나의 알고리즘에 학습시켜서 예측.\n",
        "    * Random Forest: Bagging 방법을 적용한 Decision Tree 앙상블 학습 방법."
      ]
    },
    {
      "cell_type": "code",
      "metadata": {
        "id": "qDsXf-Wenwfu"
      },
      "source": [
        "import matplotlib.pyplot as plt\n",
        "import numpy as np\n",
        "from sklearn.datasets import make_moons"
      ],
      "execution_count": 41,
      "outputs": []
    },
    {
      "cell_type": "code",
      "metadata": {
        "id": "Ymwfm0rYr4ut",
        "outputId": "914a23fc-e64a-4afe-ded3-2264fc6c663a",
        "colab": {
          "base_uri": "https://localhost:8080/"
        }
      },
      "source": [
        "X, y = make_moons(n_samples=500, noise=0.3, random_state=42)\n",
        "X.shape, y.shape"
      ],
      "execution_count": 42,
      "outputs": [
        {
          "output_type": "execute_result",
          "data": {
            "text/plain": [
              "((500, 2), (500,))"
            ]
          },
          "metadata": {
            "tags": []
          },
          "execution_count": 42
        }
      ]
    },
    {
      "cell_type": "code",
      "metadata": {
        "id": "-lwMxLL3s1b1",
        "outputId": "fbfa3d3c-4598-40ba-b21f-d5e4277d24e9",
        "colab": {
          "base_uri": "https://localhost:8080/"
        }
      },
      "source": [
        "np.unique(y)"
      ],
      "execution_count": 43,
      "outputs": [
        {
          "output_type": "execute_result",
          "data": {
            "text/plain": [
              "array([0, 1])"
            ]
          },
          "metadata": {
            "tags": []
          },
          "execution_count": 43
        }
      ]
    },
    {
      "cell_type": "code",
      "metadata": {
        "id": "wWAfEOCJuCG3",
        "outputId": "ea915b2a-9961-4c27-bd5e-76263e69c492",
        "colab": {
          "base_uri": "https://localhost:8080/",
          "height": 279
        }
      },
      "source": [
        "for cls in np.unique(y):\n",
        "  plt.scatter(X[y == cls, 0], X[y == cls, 1], label='class-{}'.format(cls))\n",
        "\n",
        "plt.xlabel('x1')\n",
        "plt.ylabel('x2')\n",
        "plt.grid()"
      ],
      "execution_count": 44,
      "outputs": [
        {
          "output_type": "display_data",
          "data": {
            "image/png": "[encoded data removed]",
            "text/plain": [
              "<Figure size 432x288 with 1 Axes>"
            ]
          },
          "metadata": {
            "tags": [],
            "needs_background": "light"
          }
        }
      ]
    },
    {
      "cell_type": "code",
      "metadata": {
        "id": "vLFMfPCjuZbP"
      },
      "source": [
        "# Train/Test 분리\n",
        "from sklearn.model_selection import train_test_split"
      ],
      "execution_count": 45,
      "outputs": []
    },
    {
      "cell_type": "code",
      "metadata": {
        "id": "CPaNCA2fusbc",
        "outputId": "143735d2-fc71-4feb-d9d4-b79d3a12640c",
        "colab": {
          "base_uri": "https://localhost:8080/"
        }
      },
      "source": [
        "X_train, X_test, y_train, y_test = train_test_split(X, y, \n",
        "                                                    test_size=0.2,\n",
        "                                                    random_state=42)\n",
        "X_train.shape, X_test.shape, y_train.shape, y_test.shape"
      ],
      "execution_count": 46,
      "outputs": [
        {
          "output_type": "execute_result",
          "data": {
            "text/plain": [
              "((400, 2), (100, 2), (400,), (100,))"
            ]
          },
          "metadata": {
            "tags": []
          },
          "execution_count": 46
        }
      ]
    },
    {
      "cell_type": "markdown",
      "metadata": {
        "id": "-PLUKePHvwNG"
      },
      "source": [
        "* 약한 학습기(weak learner) 여러개를 훈련 셋(X_train, y_Train)으로 훈련\n",
        "* 각 학습기에서 테스트 셋(X_test, y_test)의 예측값을 계산하고 평가."
      ]
    },
    {
      "cell_type": "code",
      "metadata": {
        "id": "2HLMWn0cvfr0"
      },
      "source": [
        "from sklearn.linear_model import LogisticRegression, SGDClassifier\n",
        "from sklearn.svm import SVC\n",
        "from sklearn.ensemble import RandomForestClassifier\n",
        "from sklearn.metrics import accuracy_score"
      ],
      "execution_count": 47,
      "outputs": []
    },
    {
      "cell_type": "code",
      "metadata": {
        "id": "DOqvHZn1wlHv"
      },
      "source": [
        "# 학습기(learner) 4개 생성.\n",
        "log_clf = LogisticRegression(random_state=42)\n",
        "sgd_clf = SGDClassifier(random_state=42, loss='log')\n",
        "svm_clf = SVC(random_state=42, probability=True)\n",
        "forest_clf = RandomForestClassifier(random_state=42, max_depth=3)"
      ],
      "execution_count": 48,
      "outputs": []
    },
    {
      "cell_type": "code",
      "metadata": {
        "id": "AlwrqUcpw_zG",
        "outputId": "4fc9269b-7ad4-4c1b-9b69-fd24e62c3935",
        "colab": {
          "base_uri": "https://localhost:8080/"
        }
      },
      "source": [
        "classifier = [log_clf, sgd_clf, svm_clf, forest_clf]\n",
        "for clf in classifier:\n",
        "  clf.fit(X_train, y_train) # 모델을 훈련 셋으로 학습시킴.\n",
        "  y_test_pred = clf.predict(X_test) # 훈련된 모델로 테스트 셋의 예측값을 계산.\n",
        "  acc = accuracy_score(y_test, y_test_pred) # 예측값의 정확도 평가.\n",
        "  print(clf.__class__.__name__, 'accuracy:', acc)"
      ],
      "execution_count": 49,
      "outputs": [
        {
          "output_type": "stream",
          "text": [
            "LogisticRegression accuracy: 0.85\n",
            "SGDClassifier accuracy: 0.85\n",
            "SVC accuracy: 0.87\n",
            "RandomForestClassifier accuracy: 0.87\n"
          ],
          "name": "stdout"
        }
      ]
    },
    {
      "cell_type": "code",
      "metadata": {
        "id": "HDD3C02t2py3"
      },
      "source": [
        "from sklearn.ensemble import VotingClassifier"
      ],
      "execution_count": 50,
      "outputs": []
    },
    {
      "cell_type": "markdown",
      "metadata": {
        "id": "zmDL9a8D6mdx"
      },
      "source": [
        "* VotingClassifier의 voting 파라미터\n",
        "    * 기본값='hard', 'soft'를 사용할 수 있음.\n",
        "    * hard: 다수결 투표. 모든 분류기가 동일하게 1표씩 행사.\n",
        "    * soft: 각 분류기의 예측값에 그 예측의 확률을 가중치로 곱한 값을 사용해서 예측. 확률이 높은 예측값이 더 높은 가중치를 가지고 투표를 하게되는 방식.\n",
        "    * 일반적으로 soft voting 방식이 더 좋다고 알려져 있음.\n",
        "    * soft voting을 사용하려면 모든 분류기가 예측 확률을 계산할 수 있어야 함!\n",
        "        * SGDClassifier인 경우에는 loss='log'로 지정.\n",
        "        * SVC인 경우에는 probability=True로 지정.\n"
      ]
    },
    {
      "cell_type": "code",
      "metadata": {
        "id": "vYYtaxBx3gUX"
      },
      "source": [
        "voting_clf = VotingClassifier(estimators=[('logistic', log_clf),\n",
        "                                          ('sgd', sgd_clf),\n",
        "                                          ('svc', svm_clf),\n",
        "                                          ('rf', forest_clf)],\n",
        "                              voting='soft',\n",
        "                              n_jobs=-1)  # 모델 생성"
      ],
      "execution_count": 51,
      "outputs": []
    },
    {
      "cell_type": "code",
      "metadata": {
        "id": "hk2rtZeh35Mq",
        "outputId": "0534342e-d8e0-4a79-8ec8-c4d0ca43c4be",
        "colab": {
          "base_uri": "https://localhost:8080/"
        }
      },
      "source": [
        "voting_clf.fit(X_train, y_train)  # 모델 훈련"
      ],
      "execution_count": 52,
      "outputs": [
        {
          "output_type": "execute_result",
          "data": {
            "text/plain": [
              "VotingClassifier(estimators=[('logistic',\n",
              "                              LogisticRegression(C=1.0, class_weight=None,\n",
              "                                                 dual=False, fit_intercept=True,\n",
              "                                                 intercept_scaling=1,\n",
              "                                                 l1_ratio=None, max_iter=100,\n",
              "                                                 multi_class='auto',\n",
              "                                                 n_jobs=None, penalty='l2',\n",
              "                                                 random_state=42,\n",
              "                                                 solver='lbfgs', tol=0.0001,\n",
              "                                                 verbose=0, warm_start=False)),\n",
              "                             ('sgd',\n",
              "                              SGDClassifier(alpha=0.0001, average=False,\n",
              "                                            class_weight=None,\n",
              "                                            early_st...\n",
              "                                                     criterion='gini',\n",
              "                                                     max_depth=3,\n",
              "                                                     max_features='auto',\n",
              "                                                     max_leaf_nodes=None,\n",
              "                                                     max_samples=None,\n",
              "                                                     min_impurity_decrease=0.0,\n",
              "                                                     min_impurity_split=None,\n",
              "                                                     min_samples_leaf=1,\n",
              "                                                     min_samples_split=2,\n",
              "                                                     min_weight_fraction_leaf=0.0,\n",
              "                                                     n_estimators=100,\n",
              "                                                     n_jobs=None,\n",
              "                                                     oob_score=False,\n",
              "                                                     random_state=42, verbose=0,\n",
              "                                                     warm_start=False))],\n",
              "                 flatten_transform=True, n_jobs=-1, voting='soft',\n",
              "                 weights=None)"
            ]
          },
          "metadata": {
            "tags": []
          },
          "execution_count": 52
        }
      ]
    },
    {
      "cell_type": "code",
      "metadata": {
        "id": "X_nxq_7d3_kK",
        "outputId": "c7e8eb56-cfcf-4367-b1de-5bc3ce0e7184",
        "colab": {
          "base_uri": "https://localhost:8080/"
        }
      },
      "source": [
        "y_test_pred = voting_clf.predict(X_test)  # 예측, 평가\n",
        "acc = accuracy_score(y_test, y_test_pred)\n",
        "print('voting ensemble accuracy:', acc)"
      ],
      "execution_count": 53,
      "outputs": [
        {
          "output_type": "stream",
          "text": [
            "voting ensemble accuracy: 0.86\n"
          ],
          "name": "stdout"
        }
      ]
    },
    {
      "cell_type": "markdown",
      "metadata": {
        "id": "ZTvdEgtm8KGr"
      },
      "source": [
        "## Bagging(Booststrap Aggregating)"
      ]
    },
    {
      "cell_type": "code",
      "metadata": {
        "id": "2Lq6vxD0Pzfx"
      },
      "source": [
        "from sklearn.tree import DecisionTreeClassifier"
      ],
      "execution_count": 55,
      "outputs": []
    },
    {
      "cell_type": "code",
      "metadata": {
        "id": "mNqkWDto4YyC",
        "outputId": "3b2e1806-2e7d-4ef6-c9ce-9a2cb8a323c2",
        "colab": {
          "base_uri": "https://localhost:8080/"
        }
      },
      "source": [
        "# Decision Tree 분류기 1개를 훈련 셋 전체에 대해서 학습. -> 테스트 셋에서 평가.\n",
        "tree_clf = DecisionTreeClassifier(random_state=42)\n",
        "tree_clf.fit(X_train, y_train)\n",
        "y_test_pred = tree_clf.predict(X_test)\n",
        "acc = accuracy_score(y_test, y_test_pred)\n",
        "acc"
      ],
      "execution_count": 57,
      "outputs": [
        {
          "output_type": "execute_result",
          "data": {
            "text/plain": [
              "0.82"
            ]
          },
          "metadata": {
            "tags": []
          },
          "execution_count": 57
        }
      ]
    },
    {
      "cell_type": "code",
      "metadata": {
        "id": "ZaiV1qHeQQPO"
      },
      "source": [
        "from sklearn.ensemble import BaggingClassifier"
      ],
      "execution_count": 58,
      "outputs": []
    },
    {
      "cell_type": "code",
      "metadata": {
        "id": "AhpD320IQgNn"
      },
      "source": [
        "bagging_clf = BaggingClassifier(base_estimator=DecisionTreeClassifier(random_state=42),\n",
        "                                # base_estimator: 기본 추정기(예측기). 머신 러닝 알고리즘(모델).\n",
        "                                n_estimators=50,  # 추정기의 개수 = 학습 횟수 = 훈련 셋 부분집합 개수\n",
        "                                max_samples=100,  # 훈련 셋 부분집합이 가질 수 있는 최대 원소 개수.\n",
        "                                bootstrap=True,   # Ture(중복 허용. Bagging), False(중복 불허. Pasting)\n",
        "                                n_jobs=-1,        # Multi Task의 개수. (-1=가능한 모든 CPU 코어 사용.)\n",
        "                                oob_score=True,   # oob(out-of-bagging)\n",
        "                                random_state=42)"
      ],
      "execution_count": 67,
      "outputs": []
    },
    {
      "cell_type": "code",
      "metadata": {
        "id": "KpWNRPybSAD5",
        "outputId": "9e5b401f-b74b-4d55-da86-7ab1705d6108",
        "colab": {
          "base_uri": "https://localhost:8080/"
        }
      },
      "source": [
        "bagging_clf.fit(X_train, y_train) # 모델 훈련"
      ],
      "execution_count": 68,
      "outputs": [
        {
          "output_type": "execute_result",
          "data": {
            "text/plain": [
              "BaggingClassifier(base_estimator=DecisionTreeClassifier(ccp_alpha=0.0,\n",
              "                                                        class_weight=None,\n",
              "                                                        criterion='gini',\n",
              "                                                        max_depth=None,\n",
              "                                                        max_features=None,\n",
              "                                                        max_leaf_nodes=None,\n",
              "                                                        min_impurity_decrease=0.0,\n",
              "                                                        min_impurity_split=None,\n",
              "                                                        min_samples_leaf=1,\n",
              "                                                        min_samples_split=2,\n",
              "                                                        min_weight_fraction_leaf=0.0,\n",
              "                                                        presort='deprecated',\n",
              "                                                        random_state=42,\n",
              "                                                        splitter='best'),\n",
              "                  bootstrap=True, bootstrap_features=False, max_features=1.0,\n",
              "                  max_samples=100, n_estimators=50, n_jobs=-1, oob_score=True,\n",
              "                  random_state=42, verbose=0, warm_start=False)"
            ]
          },
          "metadata": {
            "tags": []
          },
          "execution_count": 68
        }
      ]
    },
    {
      "cell_type": "code",
      "metadata": {
        "id": "eIK4RmBHTAU_",
        "outputId": "b57e39c7-3a94-469b-a0a7-95705f62dfea",
        "colab": {
          "base_uri": "https://localhost:8080/"
        }
      },
      "source": [
        "y_test_pred = bagging_clf.predict(X_test)\n",
        "acc = accuracy_score(y_test, y_test_pred)\n",
        "acc"
      ],
      "execution_count": 69,
      "outputs": [
        {
          "output_type": "execute_result",
          "data": {
            "text/plain": [
              "0.92"
            ]
          },
          "metadata": {
            "tags": []
          },
          "execution_count": 69
        }
      ]
    },
    {
      "cell_type": "code",
      "metadata": {
        "id": "Gr7nzTgtTXxA",
        "outputId": "ffbeb74a-41ff-4854-f901-bbc8168042ca",
        "colab": {
          "base_uri": "https://localhost:8080/"
        }
      },
      "source": [
        "bagging_clf.oob_score_"
      ],
      "execution_count": 70,
      "outputs": [
        {
          "output_type": "execute_result",
          "data": {
            "text/plain": [
              "0.9175"
            ]
          },
          "metadata": {
            "tags": []
          },
          "execution_count": 70
        }
      ]
    },
    {
      "cell_type": "markdown",
      "metadata": {
        "id": "9WgQSzFqVFwg"
      },
      "source": [
        "* OOB(Out-Of-Bagging) 샘플: 학습 셋에서 랜덤하게 부분집합을 만들 때, 한번도 부분집합에 포함되지 않은 샘플들.\n",
        "* OOB 샘플들을 검증(validation) 데이터로 사용할 수 있음.\n",
        "* BaggingClassifier/Regressor의 파라미터 oob_score=True로 지정하면, 학습 후에 OOB 샘플들로 계산된 점수(정확도, MSE)를 얻을 수 있음.\n",
        "* oob_score_는 테스트 셋의 점수를 추정할 수 있음."
      ]
    },
    {
      "cell_type": "markdown",
      "metadata": {
        "id": "m-xLMpPuWS1C"
      },
      "source": [
        "## Random Forest 분류기\n",
        "Decision Tree를 추정기(estimator)로 사용하는 Bagging 앙상블 학습 방법."
      ]
    },
    {
      "cell_type": "code",
      "metadata": {
        "id": "vP2-7CY9U73x"
      },
      "source": [
        "from sklearn.ensemble import RandomForestClassifier"
      ],
      "execution_count": 71,
      "outputs": []
    },
    {
      "cell_type": "code",
      "metadata": {
        "id": "Q7A2-4gBWuV6",
        "outputId": "5fc221a2-3a6d-4221-ccc9-9124355e3110",
        "colab": {
          "base_uri": "https://localhost:8080/"
        }
      },
      "source": [
        "forest_clf = RandomForestClassifier(n_estimators=50, bootstrap=True, oob_score=True,\n",
        "                                    n_jobs=-1, random_state=42, max_samples=100)\n",
        "forest_clf.fit(X_train, y_train)\n",
        "print('oob score:', forest_clf.oob_score_)\n",
        "\n",
        "y_test_pred = forest_clf.predict(X_test)\n",
        "acc = accuracy_score(y_test, y_test_pred)\n",
        "print('test acc:', acc)"
      ],
      "execution_count": 74,
      "outputs": [
        {
          "output_type": "stream",
          "text": [
            "oob score: 0.9125\n",
            "test acc: 0.93\n"
          ],
          "name": "stdout"
        }
      ]
    },
    {
      "cell_type": "markdown",
      "metadata": {
        "id": "AfPPkPT-YQtG"
      },
      "source": [
        "Random Forest의 장점 중 하나는 특성(변수)들의 중요도를 자동으로 측정해 준다는 점."
      ]
    },
    {
      "cell_type": "code",
      "metadata": {
        "id": "FF2oHQSfXhAb"
      },
      "source": [
        "from sklearn.datasets import load_iris"
      ],
      "execution_count": 75,
      "outputs": []
    },
    {
      "cell_type": "code",
      "metadata": {
        "id": "tthH2ZrfYnvD"
      },
      "source": [
        "iris = load_iris()\n",
        "X, y = iris['data'], iris['target']"
      ],
      "execution_count": 76,
      "outputs": []
    },
    {
      "cell_type": "code",
      "metadata": {
        "id": "tyJAB1WUYyUZ",
        "outputId": "aef3a9d3-2328-4519-c0d2-05405218df8a",
        "colab": {
          "base_uri": "https://localhost:8080/"
        }
      },
      "source": [
        "forest_clf = RandomForestClassifier(random_state=42, n_jobs=-1)\n",
        "forest_clf.fit(X, y)"
      ],
      "execution_count": 77,
      "outputs": [
        {
          "output_type": "execute_result",
          "data": {
            "text/plain": [
              "RandomForestClassifier(bootstrap=True, ccp_alpha=0.0, class_weight=None,\n",
              "                       criterion='gini', max_depth=None, max_features='auto',\n",
              "                       max_leaf_nodes=None, max_samples=None,\n",
              "                       min_impurity_decrease=0.0, min_impurity_split=None,\n",
              "                       min_samples_leaf=1, min_samples_split=2,\n",
              "                       min_weight_fraction_leaf=0.0, n_estimators=100,\n",
              "                       n_jobs=-1, oob_score=False, random_state=42, verbose=0,\n",
              "                       warm_start=False)"
            ]
          },
          "metadata": {
            "tags": []
          },
          "execution_count": 77
        }
      ]
    },
    {
      "cell_type": "code",
      "metadata": {
        "id": "8SfEnf_uY3vJ",
        "outputId": "9dc1f446-6d26-420a-e1e6-cc555f489385",
        "colab": {
          "base_uri": "https://localhost:8080/"
        }
      },
      "source": [
        "forest_clf.feature_importances_\n",
        "#> 3, 4번째(column index 2, 3번) 특성들이 다른 특성들에 비해서 더 중요!"
      ],
      "execution_count": 79,
      "outputs": [
        {
          "output_type": "execute_result",
          "data": {
            "text/plain": [
              "array([0.10612762, 0.02167809, 0.43612951, 0.43606478])"
            ]
          },
          "metadata": {
            "tags": []
          },
          "execution_count": 79
        }
      ]
    }
  ]
}